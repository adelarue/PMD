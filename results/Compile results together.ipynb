{
 "cells": [
  {
   "cell_type": "code",
   "execution_count": 1,
   "metadata": {},
   "outputs": [],
   "source": [
    "using CSV, DataFrames, Statistics"
   ]
  },
  {
   "cell_type": "code",
   "execution_count": 2,
   "metadata": {},
   "outputs": [
    {
     "data": {
      "text/plain": [
       "\"aistats-rev/\""
      ]
     },
     "metadata": {},
     "output_type": "display_data"
    }
   ],
   "source": [
    "prefix = \"aistats-rev/\""
   ]
  },
  {
   "cell_type": "code",
   "execution_count": 3,
   "metadata": {},
   "outputs": [
    {
     "data": {
      "text/plain": [
       "method_category (generic function with 1 method)"
      ]
     },
     "metadata": {},
     "output_type": "display_data"
    }
   ],
   "source": [
    "function method_category(meth)\n",
    "    if startswith(meth, \"Imp-then-Reg\")\n",
    "        return \"Imp-then-Reg\"\n",
    "    elseif startswith(meth, \"Joint Imp-then-Reg\")\n",
    "        return \"Joint Imp-then-Reg\"\n",
    "    elseif meth ∈ [\"Static\", \"Affine\", \"Finite\"]\n",
    "        return \"Adaptive LR\"\n",
    "    elseif startswith(meth, \"Complete Features\")\n",
    "        return \"Complete Features\"\n",
    "    else \n",
    "        return meth\n",
    "    end\n",
    "end"
   ]
  },
  {
   "cell_type": "code",
   "execution_count": 4,
   "metadata": {},
   "outputs": [
    {
     "data": {
      "text/plain": [
       "8-element Vector{String}:\n",
       " \"cylinder-bands\"\n",
       " \"ozone-level-detection-eight\"\n",
       " \"ozone-level-detection-one\"\n",
       " \"thyroid-disease-thyroid-0387\"\n",
       " \"trains\"\n",
       " \"credit-approval\"\n",
       " \"Ecdat-Mofa\"\n",
       " \"sleep\""
      ]
     },
     "metadata": {},
     "output_type": "display_data"
    }
   ],
   "source": [
    "pb_datasets = [\"cylinder-bands\", \"ozone-level-detection-eight\", \"ozone-level-detection-one\", \"thyroid-disease-thyroid-0387\", \"trains\",\n",
    "                \"credit-approval\", \"Ecdat-Mofa\", \"sleep\"]"
   ]
  },
  {
   "cell_type": "markdown",
   "metadata": {},
   "source": [
    "## For Real X - Syn Y Experiments"
   ]
  },
  {
   "cell_type": "code",
   "execution_count": 15,
   "metadata": {},
   "outputs": [],
   "source": [
    "prefix =\"aistats-rev/\"\n",
    "setting = prefix*\"fakey/\"\n",
    "for y_model in [\"linear\", \"nn\"]\n",
    "    for m_model = [\"mar\", \"nmar\", \"mar_adv\"]\n",
    "        dir = y_model*\"_\"*m_model*\"/\"\n",
    "        directory = setting*dir\n",
    "        \n",
    "        filelist = [f for f in readdir(directory*\"all/\") if endswith(f, \".csv\")]\n",
    "        res = similar(CSV.read(directory*\"all/\"*filelist[1], DataFrame),0)\n",
    "        \n",
    "        for subdir = [\"all/\", \"itr/\"]\n",
    "            filelist = [f for f in readdir(directory*subdir) if endswith(f, \".csv\")]\n",
    "#             res = similar(CSV.read(directory*subdir*filelist[1], DataFrame),0)\n",
    "            for i in 1:length(filelist)\n",
    "                res = vcat(res, CSV.read(directory*subdir*filelist[i], DataFrame))\n",
    "            end\n",
    "        end\n",
    "\n",
    "    #     for subdir = [\"xgb/\"]\n",
    "    #         try \n",
    "    #             filelist = [f for f in readdir(\"xgboost/\"*directory*subdir) if endswith(f, \".csv\")]\n",
    "    #             for i in 1:length(filelist)\n",
    "    #                 res = vcat(res, CSV.read(\"xgboost/\"*directory*subdir*filelist[i], DataFrame))\n",
    "    #             end\n",
    "    #         catch \n",
    "    #             println(\"No XGBoost results for \"*directory*subdir)\n",
    "    #         end\n",
    "    #     end\n",
    "\n",
    "        res[!,:method_cat] = map(t -> method_category(t), res[:,:method])\n",
    "        res[!,:X_setting] .= \"real_X_\"*m_model\n",
    "        res[!,:Y_setting] .= \"syn_Y_\"*y_model\n",
    "\n",
    "        CSV.write(directory*\"FINAL_results.csv\", res)\n",
    "    end\n",
    "end"
   ]
  },
  {
   "cell_type": "code",
   "execution_count": 16,
   "metadata": {},
   "outputs": [],
   "source": [
    "setting = prefix*\"fakey/\"\n",
    "\n",
    "for y_model in [\"linear\", \"nn\"]\n",
    "    for m_model = [\"mar\", \"nmar\", \"mar_adv\"]\n",
    "        dir = y_model*\"_\"*m_model*\"/\"\n",
    "        directory = setting*dir\n",
    "  \n",
    "        res = CSV.read(directory*\"FINAL_results.csv\", DataFrame)\n",
    "        \n",
    "        res[!,:method] .= map(t -> (t == \"Affine\" ? \"Adaptive LR - Affine\" : t), res[:,:method]) \n",
    "        res[!,:method] .= map(t -> (t == \"Finite\" ? \"Adaptive LR - Finite\" : t), res[:,:method]) \n",
    "        res[!,:method] .= map(t -> (t == \"Static\" ? \"Adaptive LR - Affine intercept only\" : t), res[:,:method])\n",
    "        \n",
    "        filter!(t -> t[:dataset] ∉ pb_datasets, res)\n",
    "\n",
    "        for method in [\"Oracle X\", \"Oracle XM\", \"Complete Features\", \"Imp-then-Reg 1\", \"Imp-then-Reg 2\", \"Imp-then-Reg 3\", \"Imp-then-Reg 4\", \"Imp-then-Reg 5\", \"Joint Imp-then-Reg\", \"Adaptive LR\"]\n",
    "            aux = filter(t -> startswith(t[:method], method), res)\n",
    "\n",
    "            idcols = [:dataset, :X_setting, :Y_setting, :SNR, :k, :kMissing, :splitnum]\n",
    "            gd = groupby(aux, idcols)\n",
    "\n",
    "            aux = similar(aux, 0)\n",
    "            for subdf in gd \n",
    "                scoremax = argmax(subdf[:,:score])\n",
    "                push!(aux, subdf[scoremax,names(aux)])\n",
    "            end\n",
    "            aux[!,:method] .= method*\" - best\"\n",
    "\n",
    "            res = vcat(res, aux)\n",
    "        end\n",
    "        \n",
    "        CSV.write(directory*\"FINAL_results.csv\", res)\n",
    "    end\n",
    "end"
   ]
  },
  {
   "cell_type": "markdown",
   "metadata": {},
   "source": [
    "Sanity check"
   ]
  },
  {
   "cell_type": "code",
   "execution_count": 17,
   "metadata": {
    "collapsed": true
   },
   "outputs": [],
   "source": [
    "res = DataFrames.similar(CSV.read(prefix*\"fakey/\"*\"linear\"*\"_\"*\"mar\"*\"/FINAL_results.csv\", DataFrame), 0)\n",
    "for y_model in [\"linear\", \"nn\"]\n",
    "    for m_model = [\"mar\", \"nmar\", \"mar_adv\"]\n",
    "        dir = y_model*\"_\"*m_model*\"/\"\n",
    "        directory = prefix*\"fakey/\"*dir\n",
    "  \n",
    "        res = vcat(res, CSV.read(directory*\"FINAL_results.csv\", DataFrame))\n",
    "    end\n",
    "end"
   ]
  },
  {
   "cell_type": "code",
   "execution_count": 18,
   "metadata": {},
   "outputs": [
    {
     "data": {
      "text/html": [
       "<div><div style = \"float: left;\"><span>69377×6 DataFrame</span></div><div style = \"float: right;\"><span style = \"font-style: italic;\">69352 rows omitted</span></div><div style = \"clear: both;\"></div></div><div class = \"data-frame\" style = \"overflow-x: scroll;\"><table class = \"data-frame\" style = \"margin-bottom: 6px;\"><thead><tr class = \"header\"><th class = \"rowNumber\" style = \"font-weight: bold; text-align: right;\">Row</th><th style = \"text-align: left;\">dataset</th><th style = \"text-align: left;\">X_setting</th><th style = \"text-align: left;\">Y_setting</th><th style = \"text-align: left;\">kMissing</th><th style = \"text-align: left;\">method</th><th style = \"text-align: left;\">nrow</th></tr><tr class = \"subheader headerLastRow\"><th class = \"rowNumber\" style = \"font-weight: bold; text-align: right;\"></th><th title = \"String\" style = \"text-align: left;\">String</th><th title = \"String15\" style = \"text-align: left;\">String15</th><th title = \"String15\" style = \"text-align: left;\">String15</th><th title = \"Int64\" style = \"text-align: left;\">Int64</th><th title = \"String\" style = \"text-align: left;\">String</th><th title = \"Int64\" style = \"text-align: left;\">Int64</th></tr></thead><tbody><tr><td class = \"rowNumber\" style = \"font-weight: bold; text-align: right;\">1</td><td style = \"text-align: left;\">COUNT-loomis</td><td style = \"text-align: left;\">real_X_mar</td><td style = \"text-align: left;\">syn_Y_linear</td><td style = \"text-align: right;\">0</td><td style = \"text-align: left;\">XGBoost</td><td style = \"text-align: right;\">10</td></tr><tr><td class = \"rowNumber\" style = \"font-weight: bold; text-align: right;\">2</td><td style = \"text-align: left;\">COUNT-loomis</td><td style = \"text-align: left;\">real_X_mar</td><td style = \"text-align: left;\">syn_Y_linear</td><td style = \"text-align: right;\">0</td><td style = \"text-align: left;\">Oracle X - linear</td><td style = \"text-align: right;\">10</td></tr><tr><td class = \"rowNumber\" style = \"font-weight: bold; text-align: right;\">3</td><td style = \"text-align: left;\">COUNT-loomis</td><td style = \"text-align: left;\">real_X_mar</td><td style = \"text-align: left;\">syn_Y_linear</td><td style = \"text-align: right;\">0</td><td style = \"text-align: left;\">Oracle XM - linear</td><td style = \"text-align: right;\">10</td></tr><tr><td class = \"rowNumber\" style = \"font-weight: bold; text-align: right;\">4</td><td style = \"text-align: left;\">COUNT-loomis</td><td style = \"text-align: left;\">real_X_mar</td><td style = \"text-align: left;\">syn_Y_linear</td><td style = \"text-align: right;\">0</td><td style = \"text-align: left;\">Complete Features - linear</td><td style = \"text-align: right;\">10</td></tr><tr><td class = \"rowNumber\" style = \"font-weight: bold; text-align: right;\">5</td><td style = \"text-align: left;\">COUNT-loomis</td><td style = \"text-align: left;\">real_X_mar</td><td style = \"text-align: left;\">syn_Y_linear</td><td style = \"text-align: right;\">0</td><td style = \"text-align: left;\">Oracle X - tree</td><td style = \"text-align: right;\">10</td></tr><tr><td class = \"rowNumber\" style = \"font-weight: bold; text-align: right;\">6</td><td style = \"text-align: left;\">COUNT-loomis</td><td style = \"text-align: left;\">real_X_mar</td><td style = \"text-align: left;\">syn_Y_linear</td><td style = \"text-align: right;\">0</td><td style = \"text-align: left;\">Oracle XM - tree</td><td style = \"text-align: right;\">10</td></tr><tr><td class = \"rowNumber\" style = \"font-weight: bold; text-align: right;\">7</td><td style = \"text-align: left;\">COUNT-loomis</td><td style = \"text-align: left;\">real_X_mar</td><td style = \"text-align: left;\">syn_Y_linear</td><td style = \"text-align: right;\">0</td><td style = \"text-align: left;\">Complete Features - tree</td><td style = \"text-align: right;\">10</td></tr><tr><td class = \"rowNumber\" style = \"font-weight: bold; text-align: right;\">8</td><td style = \"text-align: left;\">COUNT-loomis</td><td style = \"text-align: left;\">real_X_mar</td><td style = \"text-align: left;\">syn_Y_linear</td><td style = \"text-align: right;\">0</td><td style = \"text-align: left;\">Oracle X - rf</td><td style = \"text-align: right;\">10</td></tr><tr><td class = \"rowNumber\" style = \"font-weight: bold; text-align: right;\">9</td><td style = \"text-align: left;\">COUNT-loomis</td><td style = \"text-align: left;\">real_X_mar</td><td style = \"text-align: left;\">syn_Y_linear</td><td style = \"text-align: right;\">0</td><td style = \"text-align: left;\">Oracle XM - rf</td><td style = \"text-align: right;\">10</td></tr><tr><td class = \"rowNumber\" style = \"font-weight: bold; text-align: right;\">10</td><td style = \"text-align: left;\">COUNT-loomis</td><td style = \"text-align: left;\">real_X_mar</td><td style = \"text-align: left;\">syn_Y_linear</td><td style = \"text-align: right;\">0</td><td style = \"text-align: left;\">Complete Features - rf</td><td style = \"text-align: right;\">10</td></tr><tr><td class = \"rowNumber\" style = \"font-weight: bold; text-align: right;\">11</td><td style = \"text-align: left;\">COUNT-loomis</td><td style = \"text-align: left;\">real_X_mar</td><td style = \"text-align: left;\">syn_Y_linear</td><td style = \"text-align: right;\">0</td><td style = \"text-align: left;\">CART MIA</td><td style = \"text-align: right;\">10</td></tr><tr><td class = \"rowNumber\" style = \"font-weight: bold; text-align: right;\">12</td><td style = \"text-align: left;\">COUNT-loomis</td><td style = \"text-align: left;\">real_X_mar</td><td style = \"text-align: left;\">syn_Y_linear</td><td style = \"text-align: right;\">0</td><td style = \"text-align: left;\">RF MIA</td><td style = \"text-align: right;\">10</td></tr><tr><td class = \"rowNumber\" style = \"font-weight: bold; text-align: right;\">13</td><td style = \"text-align: left;\">COUNT-loomis</td><td style = \"text-align: left;\">real_X_mar</td><td style = \"text-align: left;\">syn_Y_linear</td><td style = \"text-align: right;\">0</td><td style = \"text-align: left;\">Imp-then-Reg 1 - xgboost</td><td style = \"text-align: right;\">10</td></tr><tr><td style = \"text-align: right;\">&vellip;</td><td style = \"text-align: right;\">&vellip;</td><td style = \"text-align: right;\">&vellip;</td><td style = \"text-align: right;\">&vellip;</td><td style = \"text-align: right;\">&vellip;</td><td style = \"text-align: right;\">&vellip;</td><td style = \"text-align: right;\">&vellip;</td></tr><tr><td class = \"rowNumber\" style = \"font-weight: bold; text-align: right;\">69366</td><td style = \"text-align: left;\">thyroid-disease-sick</td><td style = \"text-align: left;\">real_X_mar_adv</td><td style = \"text-align: left;\">syn_Y_nn</td><td style = \"text-align: right;\">5</td><td style = \"text-align: left;\">Adaptive LR - best</td><td style = \"text-align: right;\">10</td></tr><tr><td class = \"rowNumber\" style = \"font-weight: bold; text-align: right;\">69367</td><td style = \"text-align: left;\">wiki4he</td><td style = \"text-align: left;\">real_X_mar_adv</td><td style = \"text-align: left;\">syn_Y_nn</td><td style = \"text-align: right;\">0</td><td style = \"text-align: left;\">Adaptive LR - best</td><td style = \"text-align: right;\">10</td></tr><tr><td class = \"rowNumber\" style = \"font-weight: bold; text-align: right;\">69368</td><td style = \"text-align: left;\">wiki4he</td><td style = \"text-align: left;\">real_X_mar_adv</td><td style = \"text-align: left;\">syn_Y_nn</td><td style = \"text-align: right;\">10</td><td style = \"text-align: left;\">Adaptive LR - best</td><td style = \"text-align: right;\">10</td></tr><tr><td class = \"rowNumber\" style = \"font-weight: bold; text-align: right;\">69369</td><td style = \"text-align: left;\">wiki4he</td><td style = \"text-align: left;\">real_X_mar_adv</td><td style = \"text-align: left;\">syn_Y_nn</td><td style = \"text-align: right;\">1</td><td style = \"text-align: left;\">Adaptive LR - best</td><td style = \"text-align: right;\">10</td></tr><tr><td class = \"rowNumber\" style = \"font-weight: bold; text-align: right;\">69370</td><td style = \"text-align: left;\">wiki4he</td><td style = \"text-align: left;\">real_X_mar_adv</td><td style = \"text-align: left;\">syn_Y_nn</td><td style = \"text-align: right;\">2</td><td style = \"text-align: left;\">Adaptive LR - best</td><td style = \"text-align: right;\">10</td></tr><tr><td class = \"rowNumber\" style = \"font-weight: bold; text-align: right;\">69371</td><td style = \"text-align: left;\">wiki4he</td><td style = \"text-align: left;\">real_X_mar_adv</td><td style = \"text-align: left;\">syn_Y_nn</td><td style = \"text-align: right;\">3</td><td style = \"text-align: left;\">Adaptive LR - best</td><td style = \"text-align: right;\">10</td></tr><tr><td class = \"rowNumber\" style = \"font-weight: bold; text-align: right;\">69372</td><td style = \"text-align: left;\">wiki4he</td><td style = \"text-align: left;\">real_X_mar_adv</td><td style = \"text-align: left;\">syn_Y_nn</td><td style = \"text-align: right;\">4</td><td style = \"text-align: left;\">Adaptive LR - best</td><td style = \"text-align: right;\">10</td></tr><tr><td class = \"rowNumber\" style = \"font-weight: bold; text-align: right;\">69373</td><td style = \"text-align: left;\">wiki4he</td><td style = \"text-align: left;\">real_X_mar_adv</td><td style = \"text-align: left;\">syn_Y_nn</td><td style = \"text-align: right;\">5</td><td style = \"text-align: left;\">Adaptive LR - best</td><td style = \"text-align: right;\">10</td></tr><tr><td class = \"rowNumber\" style = \"font-weight: bold; text-align: right;\">69374</td><td style = \"text-align: left;\">wiki4he</td><td style = \"text-align: left;\">real_X_mar_adv</td><td style = \"text-align: left;\">syn_Y_nn</td><td style = \"text-align: right;\">6</td><td style = \"text-align: left;\">Adaptive LR - best</td><td style = \"text-align: right;\">10</td></tr><tr><td class = \"rowNumber\" style = \"font-weight: bold; text-align: right;\">69375</td><td style = \"text-align: left;\">wiki4he</td><td style = \"text-align: left;\">real_X_mar_adv</td><td style = \"text-align: left;\">syn_Y_nn</td><td style = \"text-align: right;\">7</td><td style = \"text-align: left;\">Adaptive LR - best</td><td style = \"text-align: right;\">10</td></tr><tr><td class = \"rowNumber\" style = \"font-weight: bold; text-align: right;\">69376</td><td style = \"text-align: left;\">wiki4he</td><td style = \"text-align: left;\">real_X_mar_adv</td><td style = \"text-align: left;\">syn_Y_nn</td><td style = \"text-align: right;\">8</td><td style = \"text-align: left;\">Adaptive LR - best</td><td style = \"text-align: right;\">10</td></tr><tr><td class = \"rowNumber\" style = \"font-weight: bold; text-align: right;\">69377</td><td style = \"text-align: left;\">wiki4he</td><td style = \"text-align: left;\">real_X_mar_adv</td><td style = \"text-align: left;\">syn_Y_nn</td><td style = \"text-align: right;\">9</td><td style = \"text-align: left;\">Adaptive LR - best</td><td style = \"text-align: right;\">10</td></tr></tbody></table></div>"
      ],
      "text/latex": [
       "\\begin{tabular}{r|cccccc}\n",
       "\t& dataset & X\\_setting & Y\\_setting & kMissing & method & \\\\\n",
       "\t\\hline\n",
       "\t& String & String15 & String15 & Int64 & String & \\\\\n",
       "\t\\hline\n",
       "\t1 & COUNT-loomis & real\\_X\\_mar & syn\\_Y\\_linear & 0 & XGBoost & $\\dots$ \\\\\n",
       "\t2 & COUNT-loomis & real\\_X\\_mar & syn\\_Y\\_linear & 0 & Oracle X - linear & $\\dots$ \\\\\n",
       "\t3 & COUNT-loomis & real\\_X\\_mar & syn\\_Y\\_linear & 0 & Oracle XM - linear & $\\dots$ \\\\\n",
       "\t4 & COUNT-loomis & real\\_X\\_mar & syn\\_Y\\_linear & 0 & Complete Features - linear & $\\dots$ \\\\\n",
       "\t5 & COUNT-loomis & real\\_X\\_mar & syn\\_Y\\_linear & 0 & Oracle X - tree & $\\dots$ \\\\\n",
       "\t6 & COUNT-loomis & real\\_X\\_mar & syn\\_Y\\_linear & 0 & Oracle XM - tree & $\\dots$ \\\\\n",
       "\t7 & COUNT-loomis & real\\_X\\_mar & syn\\_Y\\_linear & 0 & Complete Features - tree & $\\dots$ \\\\\n",
       "\t8 & COUNT-loomis & real\\_X\\_mar & syn\\_Y\\_linear & 0 & Oracle X - rf & $\\dots$ \\\\\n",
       "\t9 & COUNT-loomis & real\\_X\\_mar & syn\\_Y\\_linear & 0 & Oracle XM - rf & $\\dots$ \\\\\n",
       "\t10 & COUNT-loomis & real\\_X\\_mar & syn\\_Y\\_linear & 0 & Complete Features - rf & $\\dots$ \\\\\n",
       "\t11 & COUNT-loomis & real\\_X\\_mar & syn\\_Y\\_linear & 0 & CART MIA & $\\dots$ \\\\\n",
       "\t12 & COUNT-loomis & real\\_X\\_mar & syn\\_Y\\_linear & 0 & RF MIA & $\\dots$ \\\\\n",
       "\t13 & COUNT-loomis & real\\_X\\_mar & syn\\_Y\\_linear & 0 & Imp-then-Reg 1 - xgboost & $\\dots$ \\\\\n",
       "\t14 & COUNT-loomis & real\\_X\\_mar & syn\\_Y\\_linear & 0 & Imp-then-Reg 2 - xgboost & $\\dots$ \\\\\n",
       "\t15 & COUNT-loomis & real\\_X\\_mar & syn\\_Y\\_linear & 0 & Imp-then-Reg 3 - xgboost & $\\dots$ \\\\\n",
       "\t16 & COUNT-loomis & real\\_X\\_mar & syn\\_Y\\_linear & 0 & Imp-then-Reg 4 - xgboost & $\\dots$ \\\\\n",
       "\t17 & COUNT-loomis & real\\_X\\_mar & syn\\_Y\\_linear & 0 & Imp-then-Reg 5 - xgboost & $\\dots$ \\\\\n",
       "\t18 & COUNT-loomis & real\\_X\\_mar & syn\\_Y\\_linear & 0 & Adaptive LR - Affine intercept only & $\\dots$ \\\\\n",
       "\t19 & COUNT-loomis & real\\_X\\_mar & syn\\_Y\\_linear & 0 & Adaptive LR - Affine & $\\dots$ \\\\\n",
       "\t20 & COUNT-loomis & real\\_X\\_mar & syn\\_Y\\_linear & 0 & Adaptive LR - Finite & $\\dots$ \\\\\n",
       "\t21 & COUNT-loomis & real\\_X\\_mar & syn\\_Y\\_linear & 0 & Joint Imp-then-Reg - linear & $\\dots$ \\\\\n",
       "\t22 & COUNT-loomis & real\\_X\\_mar & syn\\_Y\\_linear & 0 & Joint Imp-then-Reg - tree & $\\dots$ \\\\\n",
       "\t23 & COUNT-loomis & real\\_X\\_mar & syn\\_Y\\_linear & 0 & Joint Imp-then-Reg - rf & $\\dots$ \\\\\n",
       "\t24 & Ecdat-MCAS & real\\_X\\_mar & syn\\_Y\\_linear & 0 & XGBoost & $\\dots$ \\\\\n",
       "\t$\\dots$ & $\\dots$ & $\\dots$ & $\\dots$ & $\\dots$ & $\\dots$ &  \\\\\n",
       "\\end{tabular}\n"
      ],
      "text/plain": [
       "\u001b[1m69377×6 DataFrame\u001b[0m\n",
       "\u001b[1m   Row \u001b[0m│\u001b[1m dataset      \u001b[0m\u001b[1m X_setting      \u001b[0m\u001b[1m Y_setting    \u001b[0m\u001b[1m kMissing \u001b[0m\u001b[1m method         \u001b[0m ⋯\n",
       "       │\u001b[90m String       \u001b[0m\u001b[90m String15       \u001b[0m\u001b[90m String15     \u001b[0m\u001b[90m Int64    \u001b[0m\u001b[90m String         \u001b[0m ⋯\n",
       "───────┼────────────────────────────────────────────────────────────────────────\n",
       "     1 │ COUNT-loomis  real_X_mar      syn_Y_linear         0  XGBoost         ⋯\n",
       "     2 │ COUNT-loomis  real_X_mar      syn_Y_linear         0  Oracle X - line\n",
       "     3 │ COUNT-loomis  real_X_mar      syn_Y_linear         0  Oracle XM - lin\n",
       "     4 │ COUNT-loomis  real_X_mar      syn_Y_linear         0  Complete Featur\n",
       "     5 │ COUNT-loomis  real_X_mar      syn_Y_linear         0  Oracle X - tree ⋯\n",
       "     6 │ COUNT-loomis  real_X_mar      syn_Y_linear         0  Oracle XM - tre\n",
       "     7 │ COUNT-loomis  real_X_mar      syn_Y_linear         0  Complete Featur\n",
       "     8 │ COUNT-loomis  real_X_mar      syn_Y_linear         0  Oracle X - rf\n",
       "   ⋮   │      ⋮              ⋮              ⋮           ⋮                  ⋮   ⋱\n",
       " 69371 │ wiki4he       real_X_mar_adv  syn_Y_nn             3  Adaptive LR - b ⋯\n",
       " 69372 │ wiki4he       real_X_mar_adv  syn_Y_nn             4  Adaptive LR - b\n",
       " 69373 │ wiki4he       real_X_mar_adv  syn_Y_nn             5  Adaptive LR - b\n",
       " 69374 │ wiki4he       real_X_mar_adv  syn_Y_nn             6  Adaptive LR - b\n",
       " 69375 │ wiki4he       real_X_mar_adv  syn_Y_nn             7  Adaptive LR - b ⋯\n",
       " 69376 │ wiki4he       real_X_mar_adv  syn_Y_nn             8  Adaptive LR - b\n",
       " 69377 │ wiki4he       real_X_mar_adv  syn_Y_nn             9  Adaptive LR - b\n",
       "\u001b[36m                                                2 columns and 69362 rows omitted\u001b[0m"
      ]
     },
     "metadata": {},
     "output_type": "display_data"
    }
   ],
   "source": [
    "gd = groupby(res, [:dataset, :X_setting, :Y_setting, :kMissing, :method])\n",
    "aggres = combine(gd, nrow)"
   ]
  },
  {
   "cell_type": "code",
   "execution_count": 22,
   "metadata": {},
   "outputs": [],
   "source": [
    "feasible_combinations = unique(aggres[:,[:dataset, :kMissing]])\n",
    "feasible_combinations = crossjoin(\n",
    "                            crossjoin(\n",
    "                                crossjoin(feasible_combinations, DataFrame(splitnum=1:10)),\n",
    "                                DataFrame(X_setting = [\"real_X_mar\", \"real_X_nmar\", \"real_X_mar_adv\"])), \n",
    "                                DataFrame(Y_setting = [\"syn_Y_linear\", \"syn_Y_nn\"])\n",
    "                            )\n",
    "\n",
    "pbdatasets = antijoin(feasible_combinations, unique(res[:,[:dataset, :kMissing, :splitnum, :X_setting, :Y_setting, :method]]), on=[:dataset, :kMissing, :splitnum, :X_setting, :Y_setting])\n",
    "pbdatasets = unique(pbdatasets[:,[:dataset, :X_setting, :Y_setting, :splitnum]])\n",
    "\n",
    "dataset_list = [d for d in readdir(\"../datasets/\") if !startswith(d, \".\")]\n",
    "sort!(dataset_list)\n",
    "\n",
    "pbdatasets[!,:array_num] .= (pbdatasets[:,:splitnum] .- 1) .* 71\n",
    "pbdatasets[!,:array_num] .+= map(t -> findfirst(t .== dataset_list)-1, pbdatasets[:,:dataset])\n",
    "\n",
    "pbdatasets[!,:back_dnum] .= map(t -> dataset_list[mod(t, 71) + 1], pbdatasets[:,:array_num])\n",
    "pbdatasets[!,:back_splitnum] .= map(t -> div(t, 71) + 1, pbdatasets[:,:array_num])\n",
    "\n",
    "@assert all(pbdatasets[:,:back_dnum] .== pbdatasets[:,:dataset])\n",
    "@assert all(pbdatasets[:,:back_splitnum] .== pbdatasets[:,:splitnum])"
   ]
  },
  {
   "cell_type": "code",
   "execution_count": 23,
   "metadata": {},
   "outputs": [
    {
     "data": {
      "text/plain": [
       "list_to_slurmarray (generic function with 1 method)"
      ]
     },
     "metadata": {},
     "output_type": "display_data"
    }
   ],
   "source": [
    "function list_to_slurmarray(l)\n",
    "    s = \"\"\n",
    "    begin_seq = -1; last_seq = -1; is_sequence = false\n",
    "\n",
    "    for an in l\n",
    "        if an == last_seq + 1\n",
    "            last_seq = an\n",
    "        else \n",
    "            if is_sequence\n",
    "                if begin_seq == last_seq\n",
    "                    s *= string(begin_seq)*\",\"\n",
    "                else\n",
    "                    s *= string(begin_seq)*\"-\"*string(last_seq)*\",\"\n",
    "                end\n",
    "            end\n",
    "            begin_seq = an\n",
    "            last_seq = an\n",
    "            is_sequence = true\n",
    "        end\n",
    "    end \n",
    "    s\n",
    "end"
   ]
  },
  {
   "cell_type": "code",
   "execution_count": 24,
   "metadata": {},
   "outputs": [
    {
     "name": "stdout",
     "output_type": "stream",
     "text": [
      "linear\n",
      "mar\n"
     ]
    },
    {
     "name": "stdout",
     "output_type": "stream",
     "text": [
      "list_to_slurmarray(l) = \"47,95,114,189,260,331,402,473,544,592,615,\"\n",
      "nmar\n",
      "list_to_slurmarray(l) = \"24,47,118,189,256,260,327,331,402,473,544,591,615,663,\"\n",
      "mar_adv\n",
      "list_to_slurmarray(l) = \"23-24,47,118,189,260,331,402,473,544,615,\"\n",
      "\n",
      "nn\n",
      "mar\n",
      "list_to_slurmarray(l) = \"47,95,118,165,189,260,331,402,449-450,473,520-521,544,591-592,615,662-663,\"\n",
      "nmar\n",
      "list_to_slurmarray(l) = \"24,47,95,118,166,189,237,260,308,331,379,402,450,473,521,544,592,615,663,\"\n",
      "mar_adv\n",
      "list_to_slurmarray(l) = \"23-24,47,95,118,166,189,237,260,308,331,378-379,402,449-450,473,520-521,544,591-592,615,662-663,\"\n",
      "\n"
     ]
    }
   ],
   "source": [
    "for y_model in [\"linear\", \"nn\"]\n",
    "    println(y_model)\n",
    "    for m_model = [\"mar\", \"nmar\", \"mar_adv\"]\n",
    "        println(m_model)\n",
    "        aux = filter(t -> t[:Y_setting] == \"syn_Y_\"*y_model && t[:X_setting] == \"real_X_\"*m_model, pbdatasets)\n",
    "        l = sort(unique(aux[:,:array_num]))\n",
    "        @show list_to_slurmarray(l)\n",
    "    end\n",
    "    println()\n",
    "end"
   ]
  },
  {
   "cell_type": "markdown",
   "metadata": {},
   "source": [
    "## For Real Data Experiments"
   ]
  },
  {
   "cell_type": "code",
   "execution_count": 5,
   "metadata": {},
   "outputs": [
    {
     "data": {
      "text/plain": [
       "\"aistats-rev/\""
      ]
     },
     "metadata": {},
     "output_type": "display_data"
    }
   ],
   "source": [
    "prefix"
   ]
  },
  {
   "cell_type": "code",
   "execution_count": 6,
   "metadata": {},
   "outputs": [],
   "source": [
    "for directory = prefix .* [\"realy/\"]\n",
    "    filelist = [f for f in readdir(directory*\"all/\") if endswith(f, \".csv\") && f ∉ [\"all_results.csv\",\"all_results_new.csv\"]]\n",
    "    res = similar(CSV.read(directory*\"all/\"*filelist[1], DataFrame),0)\n",
    "    \n",
    "    # for subdir = [\"2022-08-23/\", \"rf_mia/\"]    \n",
    "    for subdir = [\"all/\", \"itr/\", \"jitr/\"]\n",
    "        filelist = [f for f in readdir(directory*subdir) if endswith(f, \".csv\") && f ∉ [\"all_results.csv\",\"all_results_new.csv\"]]\n",
    "#         res = similar(CSV.read(directory*subdir*filelist[1], DataFrame),0)\n",
    "        for i in 1:length(filelist)\n",
    "            res = vcat(res, CSV.read(directory*subdir*filelist[i], DataFrame))\n",
    "        end\n",
    "    end\n",
    "\n",
    "#     for subdir = [\"xgb/\"]\n",
    "#         try \n",
    "#             filelist = [f for f in readdir(\"xgboost/\"*directory*subdir) if endswith(f, \".csv\")]\n",
    "#             for i in 1:length(filelist)\n",
    "#                 res = vcat(res, CSV.read(\"xgboost/\"*directory*subdir*filelist[i], DataFrame))\n",
    "#             end\n",
    "#         catch \n",
    "#             println(\"No XGBoost results for \"*directory*subdir)\n",
    "#         end\n",
    "#     end\n",
    "    \n",
    "    # filter!(t -> t[:k] > 0, res) #Remove dataset with only a bias term\n",
    "    res[!,:method_cat] = map(method_category, res[:,:method])\n",
    "    res[!,:X_setting] .= \"real_X\"\n",
    "    res[!,:Y_setting] .= \"real_Y\"\n",
    "    \n",
    "    CSV.write(directory*\"FINAL_results.csv\", res)\n",
    "end"
   ]
  },
  {
   "cell_type": "markdown",
   "metadata": {},
   "source": [
    "Create `best` variant"
   ]
  },
  {
   "cell_type": "code",
   "execution_count": 7,
   "metadata": {},
   "outputs": [
    {
     "data": {
      "text/plain": [
       "\"aistats-rev/realy/FINAL_results.csv\""
      ]
     },
     "metadata": {},
     "output_type": "display_data"
    }
   ],
   "source": [
    "res = CSV.read(prefix*\"realy/\"*\"FINAL_results.csv\", DataFrame)\n",
    "\n",
    "filter!(t -> t[:dataset] ∉ pb_datasets, res)\n",
    "\n",
    "res[!,:method] .= map(t -> (t == \"Affine\" ? \"Adaptive LR - Affine\" : t), res[:,:method]) \n",
    "res[!,:method] .= map(t -> (t == \"Finite\" ? \"Adaptive LR - Finite\" : t), res[:,:method]) \n",
    "res[!,:method] .= map(t -> (t == \"Static\" ? \"Adaptive LR - Affine intercept only\" : t), res[:,:method])\n",
    "\n",
    "for method in [\"Complete Features\", \"Imp-then-Reg 1\", \"Imp-then-Reg 2\", \"Imp-then-Reg 3\", \"Imp-then-Reg 4\", \"Imp-then-Reg 5\", \"Joint Imp-then-Reg\", \"Adaptive LR\"]\n",
    "    aux = filter(t -> startswith(t[:method], method), res)\n",
    "    # @show size(aux)\n",
    "    idcols = [:dataset, :SNR, :k, :kMissing, :splitnum]\n",
    "    gd = groupby(aux, idcols)\n",
    "\n",
    "    aux = similar(aux, 0)\n",
    "    for subdf in gd \n",
    "        scoremax = argmax(subdf[:,:score])\n",
    "        push!(aux, subdf[scoremax,names(aux)])\n",
    "    end\n",
    "    aux[!,:method] .= method*\" - best\"\n",
    "\n",
    "    res = vcat(res, aux)\n",
    "end\n",
    "\n",
    "CSV.write(prefix*\"realy/\"*\"FINAL_results.csv\", res)"
   ]
  },
  {
   "cell_type": "markdown",
   "metadata": {},
   "source": [
    "Sanity check"
   ]
  },
  {
   "cell_type": "code",
   "execution_count": 8,
   "metadata": {
    "collapsed": true
   },
   "outputs": [
    {
     "data": {
      "text/html": [
       "<div><div style = \"float: left;\"><span>0×2 DataFrame</span></div><div style = \"clear: both;\"></div></div><div class = \"data-frame\" style = \"overflow-x: scroll;\"><table class = \"data-frame\" style = \"margin-bottom: 6px;\"><thead><tr class = \"header\"><th class = \"rowNumber\" style = \"font-weight: bold; text-align: right;\">Row</th><th style = \"text-align: left;\">dataset</th><th style = \"text-align: left;\">nrow</th></tr><tr class = \"subheader headerLastRow\"><th class = \"rowNumber\" style = \"font-weight: bold; text-align: right;\"></th><th title = \"String\" style = \"text-align: left;\">String</th><th title = \"Int64\" style = \"text-align: left;\">Int64</th></tr></thead><tbody></tbody></table></div>"
      ],
      "text/latex": [
       "\\begin{tabular}{r|cc}\n",
       "\t& dataset & nrow\\\\\n",
       "\t\\hline\n",
       "\t& String & Int64\\\\\n",
       "\t\\hline\n",
       "\\end{tabular}\n"
      ],
      "text/plain": [
       "\u001b[1m0×2 DataFrame\u001b[0m\n",
       "\u001b[1m Row \u001b[0m│\u001b[1m dataset \u001b[0m\u001b[1m nrow  \u001b[0m\n",
       "     │\u001b[90m String  \u001b[0m\u001b[90m Int64 \u001b[0m\n",
       "─────┴────────────────"
      ]
     },
     "metadata": {},
     "output_type": "display_data"
    }
   ],
   "source": [
    "res = CSV.read(prefix*\"realy/\"*\"FINAL_results.csv\", DataFrame)\n",
    "unique(filter( t-> t[:nrow] < 10, combine(groupby(res, [:dataset, :method]), nrow))[:,[:dataset, :nrow]])"
   ]
  },
  {
   "cell_type": "code",
   "execution_count": 9,
   "metadata": {},
   "outputs": [
    {
     "data": {
      "text/html": [
       "<div><div style = \"float: left;\"><span>460×3 DataFrame</span></div><div style = \"float: right;\"><span style = \"font-style: italic;\">435 rows omitted</span></div><div style = \"clear: both;\"></div></div><div class = \"data-frame\" style = \"overflow-x: scroll;\"><table class = \"data-frame\" style = \"margin-bottom: 6px;\"><thead><tr class = \"header\"><th class = \"rowNumber\" style = \"font-weight: bold; text-align: right;\">Row</th><th style = \"text-align: left;\">dataset</th><th style = \"text-align: left;\">splitnum</th><th style = \"text-align: left;\">nrow</th></tr><tr class = \"subheader headerLastRow\"><th class = \"rowNumber\" style = \"font-weight: bold; text-align: right;\"></th><th title = \"String\" style = \"text-align: left;\">String</th><th title = \"Int64\" style = \"text-align: left;\">Int64</th><th title = \"Int64\" style = \"text-align: left;\">Int64</th></tr></thead><tbody><tr><td class = \"rowNumber\" style = \"font-weight: bold; text-align: right;\">1</td><td style = \"text-align: left;\">COUNT-loomis</td><td style = \"text-align: right;\">1</td><td style = \"text-align: right;\">41</td></tr><tr><td class = \"rowNumber\" style = \"font-weight: bold; text-align: right;\">2</td><td style = \"text-align: left;\">COUNT-loomis</td><td style = \"text-align: right;\">2</td><td style = \"text-align: right;\">41</td></tr><tr><td class = \"rowNumber\" style = \"font-weight: bold; text-align: right;\">3</td><td style = \"text-align: left;\">COUNT-loomis</td><td style = \"text-align: right;\">3</td><td style = \"text-align: right;\">41</td></tr><tr><td class = \"rowNumber\" style = \"font-weight: bold; text-align: right;\">4</td><td style = \"text-align: left;\">COUNT-loomis</td><td style = \"text-align: right;\">4</td><td style = \"text-align: right;\">41</td></tr><tr><td class = \"rowNumber\" style = \"font-weight: bold; text-align: right;\">5</td><td style = \"text-align: left;\">COUNT-loomis</td><td style = \"text-align: right;\">5</td><td style = \"text-align: right;\">41</td></tr><tr><td class = \"rowNumber\" style = \"font-weight: bold; text-align: right;\">6</td><td style = \"text-align: left;\">COUNT-loomis</td><td style = \"text-align: right;\">6</td><td style = \"text-align: right;\">41</td></tr><tr><td class = \"rowNumber\" style = \"font-weight: bold; text-align: right;\">7</td><td style = \"text-align: left;\">COUNT-loomis</td><td style = \"text-align: right;\">7</td><td style = \"text-align: right;\">41</td></tr><tr><td class = \"rowNumber\" style = \"font-weight: bold; text-align: right;\">8</td><td style = \"text-align: left;\">COUNT-loomis</td><td style = \"text-align: right;\">8</td><td style = \"text-align: right;\">41</td></tr><tr><td class = \"rowNumber\" style = \"font-weight: bold; text-align: right;\">9</td><td style = \"text-align: left;\">COUNT-loomis</td><td style = \"text-align: right;\">9</td><td style = \"text-align: right;\">41</td></tr><tr><td class = \"rowNumber\" style = \"font-weight: bold; text-align: right;\">10</td><td style = \"text-align: left;\">COUNT-loomis</td><td style = \"text-align: right;\">10</td><td style = \"text-align: right;\">41</td></tr><tr><td class = \"rowNumber\" style = \"font-weight: bold; text-align: right;\">11</td><td style = \"text-align: left;\">Ecdat-MCAS</td><td style = \"text-align: right;\">1</td><td style = \"text-align: right;\">41</td></tr><tr><td class = \"rowNumber\" style = \"font-weight: bold; text-align: right;\">12</td><td style = \"text-align: left;\">Ecdat-MCAS</td><td style = \"text-align: right;\">2</td><td style = \"text-align: right;\">41</td></tr><tr><td class = \"rowNumber\" style = \"font-weight: bold; text-align: right;\">13</td><td style = \"text-align: left;\">Ecdat-MCAS</td><td style = \"text-align: right;\">3</td><td style = \"text-align: right;\">41</td></tr><tr><td style = \"text-align: right;\">&vellip;</td><td style = \"text-align: right;\">&vellip;</td><td style = \"text-align: right;\">&vellip;</td><td style = \"text-align: right;\">&vellip;</td></tr><tr><td class = \"rowNumber\" style = \"font-weight: bold; text-align: right;\">449</td><td style = \"text-align: left;\">thyroid-disease-sick</td><td style = \"text-align: right;\">9</td><td style = \"text-align: right;\">41</td></tr><tr><td class = \"rowNumber\" style = \"font-weight: bold; text-align: right;\">450</td><td style = \"text-align: left;\">thyroid-disease-sick</td><td style = \"text-align: right;\">10</td><td style = \"text-align: right;\">41</td></tr><tr><td class = \"rowNumber\" style = \"font-weight: bold; text-align: right;\">451</td><td style = \"text-align: left;\">wiki4he</td><td style = \"text-align: right;\">1</td><td style = \"text-align: right;\">41</td></tr><tr><td class = \"rowNumber\" style = \"font-weight: bold; text-align: right;\">452</td><td style = \"text-align: left;\">wiki4he</td><td style = \"text-align: right;\">2</td><td style = \"text-align: right;\">41</td></tr><tr><td class = \"rowNumber\" style = \"font-weight: bold; text-align: right;\">453</td><td style = \"text-align: left;\">wiki4he</td><td style = \"text-align: right;\">3</td><td style = \"text-align: right;\">41</td></tr><tr><td class = \"rowNumber\" style = \"font-weight: bold; text-align: right;\">454</td><td style = \"text-align: left;\">wiki4he</td><td style = \"text-align: right;\">4</td><td style = \"text-align: right;\">41</td></tr><tr><td class = \"rowNumber\" style = \"font-weight: bold; text-align: right;\">455</td><td style = \"text-align: left;\">wiki4he</td><td style = \"text-align: right;\">5</td><td style = \"text-align: right;\">41</td></tr><tr><td class = \"rowNumber\" style = \"font-weight: bold; text-align: right;\">456</td><td style = \"text-align: left;\">wiki4he</td><td style = \"text-align: right;\">6</td><td style = \"text-align: right;\">41</td></tr><tr><td class = \"rowNumber\" style = \"font-weight: bold; text-align: right;\">457</td><td style = \"text-align: left;\">wiki4he</td><td style = \"text-align: right;\">7</td><td style = \"text-align: right;\">41</td></tr><tr><td class = \"rowNumber\" style = \"font-weight: bold; text-align: right;\">458</td><td style = \"text-align: left;\">wiki4he</td><td style = \"text-align: right;\">8</td><td style = \"text-align: right;\">41</td></tr><tr><td class = \"rowNumber\" style = \"font-weight: bold; text-align: right;\">459</td><td style = \"text-align: left;\">wiki4he</td><td style = \"text-align: right;\">9</td><td style = \"text-align: right;\">41</td></tr><tr><td class = \"rowNumber\" style = \"font-weight: bold; text-align: right;\">460</td><td style = \"text-align: left;\">wiki4he</td><td style = \"text-align: right;\">10</td><td style = \"text-align: right;\">41</td></tr></tbody></table></div>"
      ],
      "text/latex": [
       "\\begin{tabular}{r|ccc}\n",
       "\t& dataset & splitnum & nrow\\\\\n",
       "\t\\hline\n",
       "\t& String & Int64 & Int64\\\\\n",
       "\t\\hline\n",
       "\t1 & COUNT-loomis & 1 & 41 \\\\\n",
       "\t2 & COUNT-loomis & 2 & 41 \\\\\n",
       "\t3 & COUNT-loomis & 3 & 41 \\\\\n",
       "\t4 & COUNT-loomis & 4 & 41 \\\\\n",
       "\t5 & COUNT-loomis & 5 & 41 \\\\\n",
       "\t6 & COUNT-loomis & 6 & 41 \\\\\n",
       "\t7 & COUNT-loomis & 7 & 41 \\\\\n",
       "\t8 & COUNT-loomis & 8 & 41 \\\\\n",
       "\t9 & COUNT-loomis & 9 & 41 \\\\\n",
       "\t10 & COUNT-loomis & 10 & 41 \\\\\n",
       "\t11 & Ecdat-MCAS & 1 & 41 \\\\\n",
       "\t12 & Ecdat-MCAS & 2 & 41 \\\\\n",
       "\t13 & Ecdat-MCAS & 3 & 41 \\\\\n",
       "\t14 & Ecdat-MCAS & 4 & 41 \\\\\n",
       "\t15 & Ecdat-MCAS & 5 & 41 \\\\\n",
       "\t16 & Ecdat-MCAS & 6 & 41 \\\\\n",
       "\t17 & Ecdat-MCAS & 7 & 41 \\\\\n",
       "\t18 & Ecdat-MCAS & 8 & 41 \\\\\n",
       "\t19 & Ecdat-MCAS & 9 & 41 \\\\\n",
       "\t20 & Ecdat-MCAS & 10 & 41 \\\\\n",
       "\t21 & Ecdat-Males & 1 & 41 \\\\\n",
       "\t22 & Ecdat-Males & 2 & 41 \\\\\n",
       "\t23 & Ecdat-Males & 3 & 41 \\\\\n",
       "\t24 & Ecdat-Males & 4 & 41 \\\\\n",
       "\t$\\dots$ & $\\dots$ & $\\dots$ & $\\dots$ \\\\\n",
       "\\end{tabular}\n"
      ],
      "text/plain": [
       "\u001b[1m460×3 DataFrame\u001b[0m\n",
       "\u001b[1m Row \u001b[0m│\u001b[1m dataset              \u001b[0m\u001b[1m splitnum \u001b[0m\u001b[1m nrow  \u001b[0m\n",
       "     │\u001b[90m String               \u001b[0m\u001b[90m Int64    \u001b[0m\u001b[90m Int64 \u001b[0m\n",
       "─────┼───────────────────────────────────────\n",
       "   1 │ COUNT-loomis                 1     41\n",
       "   2 │ COUNT-loomis                 2     41\n",
       "   3 │ COUNT-loomis                 3     41\n",
       "   4 │ COUNT-loomis                 4     41\n",
       "   5 │ COUNT-loomis                 5     41\n",
       "   6 │ COUNT-loomis                 6     41\n",
       "   7 │ COUNT-loomis                 7     41\n",
       "   8 │ COUNT-loomis                 8     41\n",
       "  ⋮  │          ⋮               ⋮        ⋮\n",
       " 454 │ wiki4he                      4     41\n",
       " 455 │ wiki4he                      5     41\n",
       " 456 │ wiki4he                      6     41\n",
       " 457 │ wiki4he                      7     41\n",
       " 458 │ wiki4he                      8     41\n",
       " 459 │ wiki4he                      9     41\n",
       " 460 │ wiki4he                     10     41\n",
       "\u001b[36m                             445 rows omitted\u001b[0m"
      ]
     },
     "metadata": {},
     "output_type": "display_data"
    }
   ],
   "source": [
    "feasible_combinations = unique(res[:,[:dataset]])\n",
    "feasible_combinations = crossjoin(feasible_combinations, DataFrame(splitnum=1:10))\n",
    "\n",
    "pbdatasets = leftjoin(feasible_combinations, res, on=[:dataset, :splitnum])\n",
    "gd = groupby(pbdatasets, [:dataset, :splitnum])\n",
    "sort(combine(gd, nrow), :nrow)\n",
    "\n",
    "# unique(res[:,[:dataset, :kMissing, :splitnum, :X_setting, :Y_setting]]), on=[:dataset, :kMissing, :splitnum, :X_setting, :Y_setting])\n",
    "# pbdatasets = unique(pbdatasets[:,[:dataset, :X_setting, :Y_setting, :splitnum]])\n",
    "\n",
    "# dataset_list = [d for d in readdir(\"../datasets/\") if !startswith(d, \".\")]\n",
    "# sort!(dataset_list)\n",
    "\n",
    "# pbdatasets[!,:array_num] .= (pbdatasets[:,:splitnum] .- 1) .* 71\n",
    "# pbdatasets[!,:array_num] .+= map(t -> findfirst(t .== dataset_list)-1, pbdatasets[:,:dataset])\n",
    "\n",
    "# pbdatasets[!,:back_dnum] .= map(t -> dataset_list[mod(t, 71) + 1], pbdatasets[:,:array_num])\n",
    "# pbdatasets[!,:back_splitnum] .= map(t -> div(t, 71) + 1, pbdatasets[:,:array_num])\n",
    "\n",
    "# @assert all(pbdatasets[:,:back_dnum] .== pbdatasets[:,:dataset])\n",
    "# @assert all(pbdatasets[:,:back_splitnum] .== pbdatasets[:,:splitnum])"
   ]
  },
  {
   "cell_type": "code",
   "execution_count": 10,
   "metadata": {},
   "outputs": [
    {
     "data": {
      "text/plain": [
       "71-element Vector{String}:\n",
       " \"COUNT-loomis\"\n",
       " \"Ecdat-MCAS\"\n",
       " \"Ecdat-Males\"\n",
       " \"Ecdat-Mofa\"\n",
       " \"Ecdat-RetSchool\"\n",
       " \"Ecdat-Schooling\"\n",
       " \"MASS-Cars93\"\n",
       " \"MASS-Pima.tr2\"\n",
       " \"MASS-survey\"\n",
       " \"Zelig-coalition2\"\n",
       " ⋮\n",
       " \"thyroid-disease-allhyper\"\n",
       " \"thyroid-disease-allhypo\"\n",
       " \"thyroid-disease-allrep\"\n",
       " \"thyroid-disease-dis\"\n",
       " \"thyroid-disease-sick\"\n",
       " \"thyroid-disease-sick-euthyroid\"\n",
       " \"thyroid-disease-thyroid-0387\"\n",
       " \"trains\"\n",
       " \"wiki4he\""
      ]
     },
     "metadata": {},
     "output_type": "display_data"
    }
   ],
   "source": [
    "dataset_list = [d for d in readdir(\"../datasets/\") if !startswith(d, \".\")]\n",
    "sort!(dataset_list)"
   ]
  },
  {
   "cell_type": "code",
   "execution_count": 11,
   "metadata": {},
   "outputs": [
    {
     "data": {
      "text/plain": [
       "String[]"
      ]
     },
     "metadata": {},
     "output_type": "display_data"
    }
   ],
   "source": [
    "unique(filter(t -> t[:nrow] < 10, combine(groupby(filter(t -> !startswith(t[:method], \"Imp-then-Reg 4 - linear\"), res), [:dataset, :method]), nrow))[:,:dataset])"
   ]
  },
  {
   "cell_type": "code",
   "execution_count": 13,
   "metadata": {},
   "outputs": [
    {
     "data": {
      "text/plain": [
       "Any[]"
      ]
     },
     "metadata": {},
     "output_type": "display_data"
    }
   ],
   "source": [
    "unfinished_datasets = filter(t -> t[:nrow] < 10, \n",
    "    combine(\n",
    "        groupby(    combine(groupby(filter(t -> !startswith(t[:method], \"Imp-then-Reg 4 - linear\"), res), [:dataset, :method]), nrow), \n",
    "                    [:dataset]), \n",
    "        :nrow => minimum => :nrow))[:,:dataset]\n",
    "sort([findfirst(i .== dataset_list)-1 for i in unfinished_datasets])"
   ]
  },
  {
   "cell_type": "code",
   "execution_count": 14,
   "metadata": {},
   "outputs": [
    {
     "data": {
      "text/plain": [
       "Any[]"
      ]
     },
     "metadata": {},
     "output_type": "display_data"
    }
   ],
   "source": [
    "unfinished_datasets = filter(t -> t[:nrow] < 10, \n",
    "    combine(\n",
    "        groupby(    combine(groupby(res, [:dataset, :method]), nrow), \n",
    "                    [:dataset]), \n",
    "        :nrow => minimum => :nrow))[:,:dataset]\n",
    "sort([findfirst(i .== dataset_list)-1 for i in unfinished_datasets])"
   ]
  },
  {
   "cell_type": "code",
   "execution_count": 30,
   "metadata": {},
   "outputs": [
    {
     "data": {
      "text/plain": [
       "Any[]"
      ]
     },
     "metadata": {},
     "output_type": "display_data"
    }
   ],
   "source": [
    "unfinished_datasets = filter(t -> t[:nrow] < 10, \n",
    "    combine(\n",
    "        groupby(    combine(groupby(filter(t -> !startswith(t[:method], \"Imp-then-Reg\"), res), [:dataset, :method]), nrow), \n",
    "                    [:dataset]), \n",
    "        :nrow => minimum => :nrow))[:,:dataset]\n",
    "sort([findfirst(i .== dataset_list)-1 for i in unfinished_datasets])"
   ]
  },
  {
   "cell_type": "code",
   "execution_count": null,
   "metadata": {},
   "outputs": [],
   "source": [
    "setdiff(), pb_datasets)"
   ]
  },
  {
   "cell_type": "code",
   "execution_count": null,
   "metadata": {},
   "outputs": [],
   "source": []
  },
  {
   "cell_type": "markdown",
   "metadata": {},
   "source": [
    "# For Synthetic-Data Experiments"
   ]
  },
  {
   "cell_type": "code",
   "execution_count": null,
   "metadata": {},
   "outputs": [],
   "source": [
    "1+1"
   ]
  },
  {
   "cell_type": "code",
   "execution_count": null,
   "metadata": {},
   "outputs": [],
   "source": [
    "setting = prefix*\"synthetic_discrete/\"\n",
    "# for y_model in [\"linear\", \"tree\", \"nn\"]\n",
    "for y_model in [\"linear\", \"nn\"]\n",
    "    for m_model = [\"mar\", \"censoring\"]\n",
    "        dir = y_model*\"_\"*m_model*\"/\"\n",
    "        directory = setting*dir\n",
    "        \n",
    "        filelist = [f for f in readdir(directory*\"all/\") if endswith(f, \".csv\") && f ∉ [\"all_results.csv\",\"all_results_new.csv\"]]\n",
    "        res = similar(CSV.read(directory*\"all/\"*filelist[1], DataFrame),0)\n",
    "\n",
    "        for subdir = [\"all/\"]\n",
    "            filelist = [f for f in readdir(directory*subdir) if endswith(f, \".csv\") && f ∉ [\"all_results.csv\",\"all_results_new.csv\"]]\n",
    "            @show filelist\n",
    "\n",
    "    #         res = similar(CSV.read(directory*subdir*filelist[1], DataFrame),0)\n",
    "            for i in 1:length(filelist)\n",
    "                aux = CSV.read(directory*subdir*filelist[i], DataFrame)\n",
    "                # if any(aux[:,:kMissing] .> 0)\n",
    "                #     missingproba = unique(aux[aux[:,:pMissing] .> 0,:pMissing])[1]\n",
    "                #     aux[!,:pMissing] .= missingproba\n",
    "                # end\n",
    "                try\n",
    "                    res = vcat(res, aux)\n",
    "                catch \n",
    "                    println(\"Error with \", directory*subdir*filelist[i])\n",
    "                end\n",
    "            end\n",
    "        end\n",
    "\n",
    "        # for subdir = [\"xgb/\"]\n",
    "        #     try \n",
    "        #         filelist = [f for f in readdir(\"xgboost/\"*directory*subdir) if endswith(f, \".csv\")]\n",
    "        #         for i in 1:length(filelist)\n",
    "        #             res = vcat(res, CSV.read(\"xgboost/\"*directory*subdir*filelist[i], DataFrame))\n",
    "        #         end\n",
    "        #     catch \n",
    "        #         println(\"No XGBoost results for \"*directory*subdir)\n",
    "        #     end\n",
    "        # end\n",
    "\n",
    "        res[!,:method] .= map(t -> replace(t, \"Encoding as new category\" => \"Imp-then-Reg 4\"), res[:,:method])\n",
    "        res[!,:method] .= map(t -> replace(t, \"Mode impute\" => \"Imp-then-Reg 5\"), res[:,:method])\n",
    "\n",
    "        # filter!(t -> t[:k] > 0, res) #Remove dataset with only a bias term\n",
    "        res[!,:method_cat] = map(method_category, res[:,:method])\n",
    "        res[!,:X_setting] .= \"syn_X_\"*m_model\n",
    "        res[!,:Y_setting] .= \"syn_Y_\"*y_model\n",
    "\n",
    "        for method in [\"Imp-then-Reg 4\", \"Imp-then-Reg 5\"]\n",
    "            aux = filter(t -> startswith(t[:method], method), res)\n",
    "            # @show nrow(aux)\n",
    "            idcols = [:dataset, :X_setting, :Y_setting, :SNR, :k, :pMissing, :splitnum]\n",
    "            gd = groupby(aux, idcols)\n",
    "\n",
    "            aux = similar(aux, 0)\n",
    "            for subdf in gd \n",
    "                scoremax = argmax(subdf[:,:score])\n",
    "                # @show subdf[scoremax,names(aux)]\n",
    "                push!(aux, subdf[scoremax,names(aux)])\n",
    "            end\n",
    "            aux[!,:method] .= method*\" - best\"\n",
    "\n",
    "            res = vcat(res, aux)\n",
    "        end\n",
    "\n",
    "        CSV.write(directory*\"FINAL_results.csv\", res)   \n",
    "    end\n",
    "end"
   ]
  },
  {
   "cell_type": "code",
   "execution_count": null,
   "metadata": {},
   "outputs": [],
   "source": [
    "setting = prefix*\"synthetic/\"\n",
    "files_with_issues = []\n",
    "# for y_model in [\"linear\", \"tree\", \"nn\"]\n",
    "for y_model in [\"linear\", \"nn\"]\n",
    "    for m_model = [\"mar\", \"censoring\"]\n",
    "        dir = y_model*\"_\"*m_model*\"/\"\n",
    "        directory = setting*dir\n",
    "        filelist = [f for f in readdir(directory*\"all/\") if endswith(f, \".csv\") && f ∉ [\"all_results.csv\",\"all_results_new.csv\"]]\n",
    "        res = similar(CSV.read(directory*\"all/\"*filelist[1], DataFrame),0)\n",
    "        for subdir = [\"all/\"]\n",
    "            filelist = [f for f in readdir(directory*subdir) if endswith(f, \".csv\") && f ∉ [\"all_results.csv\",\"all_results_new.csv\"]]\n",
    "    #         res = similar(CSV.read(directory*subdir*filelist[1], DataFrame),0)\n",
    "            for i in 1:length(filelist)\n",
    "                try\n",
    "                    aux = CSV.read(directory*subdir*filelist[i], DataFrame)\n",
    "                    if any(aux[:,:pMissing] .> 0)\n",
    "                        missingproba = unique(aux[aux[:,:pMissing] .> 0,:pMissing])[1]\n",
    "                        aux[!,:pMissing] .= missingproba\n",
    "                    end\n",
    "                    res = vcat(res, aux)\n",
    "                catch \n",
    "                    println(\"Error with \", directory*subdir*filelist[i])\n",
    "                    push!(files_with_issues, directory*subdir*filelist[i])\n",
    "                end\n",
    "            end\n",
    "        end\n",
    "\n",
    "        # for subdir = [\"xgb/\"]\n",
    "        #     try \n",
    "        #         filelist = [f for f in readdir(\"xgboost/\"*directory*subdir) if endswith(f, \".csv\")]\n",
    "        #         for i in 1:length(filelist)\n",
    "        #             res = vcat(res, CSV.read(\"xgboost/\"*directory*subdir*filelist[i], DataFrame))\n",
    "        #         end\n",
    "        #     catch \n",
    "        #         println(\"No XGBoost results for \"*directory*subdir)\n",
    "        #     end\n",
    "        # end\n",
    "\n",
    "        # filter!(t -> t[:k] > 0, res) #Remove dataset with only a bias term\n",
    "        res[!,:method_cat] = map(method_category, res[:,:method])\n",
    "        res[!,:X_setting] .= \"syn_X_\"*m_model\n",
    "        res[!,:Y_setting] .= \"syn_Y_\"*y_model\n",
    "\n",
    "        for method in [\"Oracle X\", \"Oracle XM\", \"Complete Features\", \"Imp-then-Reg 1\", \"Imp-then-Reg 2\", \"Imp-then-Reg 3\", \"Imp-then-Reg 4\", \"Imp-then-Reg 5\", \"Joint Imp-then-Reg\", \"Adaptive LR\"]\n",
    "            aux = filter(t -> startswith(t[:method], method), res)\n",
    "\n",
    "            idcols = [:dataset, :X_setting, :Y_setting, :SNR, :k, :pMissing, :splitnum]\n",
    "            gd = groupby(aux, idcols)\n",
    "\n",
    "            aux = similar(aux, 0)\n",
    "            for subdf in gd \n",
    "                scoremax = argmax(subdf[:,:score])\n",
    "                push!(aux, subdf[scoremax,names(aux)])\n",
    "            end\n",
    "            aux[!,:method] .= method*\" - best\"\n",
    "\n",
    "            res = vcat(res, aux)\n",
    "        end\n",
    "        \n",
    "        CSV.write(directory*\"FINAL_results.csv\", res)   \n",
    "    end\n",
    "end"
   ]
  },
  {
   "cell_type": "code",
   "execution_count": null,
   "metadata": {},
   "outputs": [],
   "source": [
    "setting"
   ]
  },
  {
   "cell_type": "code",
   "execution_count": null,
   "metadata": {},
   "outputs": [],
   "source": [
    "files_with_issues"
   ]
  },
  {
   "cell_type": "code",
   "execution_count": null,
   "metadata": {},
   "outputs": [],
   "source": [
    "# setting = \"synthetic/\"\n",
    "# # for y_model in [\"linear\", \"tree\", \"nn\"]\n",
    "# for y_model in [\"linear\", \"nn\"]\n",
    "#     for m_model = [\"mar\", \"censoring\"]\n",
    "#         dir = y_model*\"_\"*m_model*\"/\"\n",
    "#         directory = setting*dir\n",
    "        \n",
    "#         filelist = [f for f in readdir(directory*\"final/\") if endswith(f, \".csv\") && f ∉ [\"all_results.csv\",\"all_results_new.csv\"]]\n",
    "#         res = similar(CSV.read(directory*\"final/\"*filelist[1], DataFrame),0)\n",
    "\n",
    "#         for subdir = [\"high_n/\"]\n",
    "#             filelist = [f for f in readdir(directory*subdir) if endswith(f, \".csv\") && f ∉ [\"all_results.csv\",\"all_results_new.csv\"]]\n",
    "#     #         res = similar(CSV.read(directory*subdir*filelist[1], DataFrame),0)\n",
    "#             for i in 1:length(filelist)\n",
    "#                 aux = CSV.read(directory*subdir*filelist[i], DataFrame)\n",
    "#                 if any(aux[:,:pMissing] .> 0)\n",
    "#                     missingproba = unique(aux[aux[:,:pMissing] .> 0,:pMissing])[1]\n",
    "#                     aux[!,:pMissing] .= missingproba\n",
    "#                 end\n",
    "#                 try\n",
    "#                     res = vcat(res, aux)\n",
    "#                 catch \n",
    "#                     println(\"Error with \", directory*subdir*filelist[i])\n",
    "#                 end\n",
    "#             end\n",
    "#         end\n",
    "#         # filter!(t -> t[:k] > 0, res) #Remove dataset with only a bias term\n",
    "#         res[!,:method_cat] = map(method_category, res[:,:method])\n",
    "#         res[!,:X_setting] .= \"syn_X_\"*m_model\n",
    "#         res[!,:Y_setting] .= \"syn_Y_\"*y_model\n",
    "\n",
    "#         CSV.write(directory*\"HIGHN_results.csv\", res)   \n",
    "#     end\n",
    "# end"
   ]
  },
  {
   "cell_type": "code",
   "execution_count": null,
   "metadata": {},
   "outputs": [],
   "source": [
    "1+1"
   ]
  },
  {
   "cell_type": "markdown",
   "metadata": {},
   "source": [
    "Sanity check"
   ]
  },
  {
   "cell_type": "code",
   "execution_count": null,
   "metadata": {
    "collapsed": true
   },
   "outputs": [],
   "source": [
    "df = CSV.read(prefix*\"synthetic/linear_mar/FINAL_results.csv\", DataFrame) \n",
    "df[!,:setting] .= \"1 - Lin-MAR\"\n",
    "\n",
    "aux = CSV.read(prefix*\"synthetic/linear_censoring/FINAL_results.csv\", DataFrame) \n",
    "aux[!,:setting] .= \"2 - Lin-NMAR\"\n",
    "df = vcat(df, aux)\n",
    " \n",
    "# aux = CSV.read(prefix*\"synthetic/tree_mar/FINAL_results.csv\", DataFrame) \n",
    "# aux[!,:setting] .= \"3 - Tree-MAR\"\n",
    "# df = vcat(df, aux)\n",
    "\n",
    "# aux = CSV.read(prefix*\"synthetic/tree_censoring/FINAL_results.csv\", DataFrame) \n",
    "# aux[!,:setting] .= \"4 - Tree-NMAR\"\n",
    "# df = vcat(df, aux)\n",
    "\n",
    "aux = CSV.read(prefix*\"synthetic/nn_mar/FINAL_results.csv\", DataFrame) \n",
    "aux[!,:setting] .= \"5 - NN-MAR\"\n",
    "df = vcat(df, aux)\n",
    "\n",
    "aux = CSV.read(prefix*\"synthetic/nn_censoring/FINAL_results.csv\", DataFrame) \n",
    "aux[!,:setting] .= \"6 - NN-NMAR\"\n",
    "df = vcat(df, aux)\n",
    "\n",
    ";"
   ]
  },
  {
   "cell_type": "code",
   "execution_count": null,
   "metadata": {},
   "outputs": [],
   "source": [
    "df = CSV.read(prefix*\"synthetic_discrete/linear_mar/FINAL_results.csv\", DataFrame) \n",
    "df[!,:setting] .= \"1 - Lin-MAR\"\n",
    "\n",
    "aux = CSV.read(prefix*\"synthetic_discrete/linear_censoring/FINAL_results.csv\", DataFrame) \n",
    "aux[!,:setting] .= \"2 - Lin-NMAR\"\n",
    "df = vcat(df, aux)\n",
    " \n",
    "# aux = CSV.read(prefix*\"synthetic_discrete/tree_mar/FINAL_results.csv\", DataFrame) \n",
    "# aux[!,:setting] .= \"3 - Tree-MAR\"\n",
    "# df = vcat(df, aux)\n",
    "\n",
    "# aux = CSV.read(prefix*\"synthetic_discrete/tree_censoring/FINAL_results.csv\", DataFrame) \n",
    "# aux[!,:setting] .= \"4 - Tree-NMAR\"\n",
    "# df = vcat(df, aux)\n",
    "\n",
    "aux = CSV.read(prefix*\"synthetic_discrete/nn_mar/FINAL_results.csv\", DataFrame) \n",
    "aux[!,:setting] .= \"5 - NN-MAR\"\n",
    "df = vcat(df, aux)\n",
    "\n",
    "aux = CSV.read(prefix*\"synthetic_discrete/nn_censoring/FINAL_results.csv\", DataFrame) \n",
    "aux[!,:setting] .= \"6 - NN-NMAR\"\n",
    "df = vcat(df, aux)"
   ]
  },
  {
   "cell_type": "code",
   "execution_count": null,
   "metadata": {
    "collapsed": true
   },
   "outputs": [],
   "source": [
    "combine(groupby(df, [:dataset, :method, :setting]), nrow)"
   ]
  },
  {
   "cell_type": "code",
   "execution_count": null,
   "metadata": {
    "collapsed": true
   },
   "outputs": [],
   "source": [
    "unique(combine(groupby(df, [:dataset, :method, :setting]), nrow)[:,:nrow])"
   ]
  },
  {
   "cell_type": "code",
   "execution_count": null,
   "metadata": {
    "collapsed": true
   },
   "outputs": [],
   "source": [
    "filter( t-> t[:nrow] < 90, combine(groupby(res, [:dataset, :method, :setting]), nrow))"
   ]
  },
  {
   "cell_type": "code",
   "execution_count": null,
   "metadata": {
    "collapsed": true
   },
   "outputs": [],
   "source": [
    "pbdata = unique(filter( t -> t[:nrow] < 90, combine(groupby(df, [:dataset, :method, :setting]), nrow))[:,[:method, :setting, :dataset]])"
   ]
  },
  {
   "cell_type": "code",
   "execution_count": null,
   "metadata": {
    "collapsed": true
   },
   "outputs": [],
   "source": [
    "aux = filter( t -> t[:dataset] ∈ pbdata && t[:nrow] < 10, combine(groupby(df, [:dataset, :method, :setting, :pMissing]), nrow))\n",
    "unique(aux[:,[:dataset, :setting, :pMissing, :nrow]])"
   ]
  },
  {
   "cell_type": "code",
   "execution_count": null,
   "metadata": {
    "collapsed": true
   },
   "outputs": [],
   "source": [
    "filter(t -> t[:pMissing] == 0.1, unique(aux[:,[:dataset, :setting, :pMissing, :nrow]]))"
   ]
  },
  {
   "cell_type": "code",
   "execution_count": null,
   "metadata": {
    "collapsed": true
   },
   "outputs": [],
   "source": [
    "filter(t -> t[:pMissing] == 0.3, unique(aux[:,[:dataset, :setting, :pMissing, :nrow]]))"
   ]
  },
  {
   "cell_type": "code",
   "execution_count": null,
   "metadata": {
    "collapsed": true
   },
   "outputs": [],
   "source": [
    "filter(t -> startswith(t[:setting], \"5\"), unique(aux[:,[:dataset, :setting, :pMissing, :nrow]]))"
   ]
  }
 ],
 "metadata": {
  "@webio": {
   "lastCommId": null,
   "lastKernelId": null
  },
  "kernelspec": {
   "display_name": "Julia 1.9.3",
   "language": "julia",
   "name": "julia-1.9"
  },
  "language_info": {
   "file_extension": ".jl",
   "mimetype": "application/julia",
   "name": "julia",
   "version": "1.9.3"
  }
 },
 "nbformat": 4,
 "nbformat_minor": 2
}
