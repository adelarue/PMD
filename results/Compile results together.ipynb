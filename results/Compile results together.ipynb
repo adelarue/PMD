{
 "cells": [
  {
   "cell_type": "code",
   "execution_count": 9,
   "metadata": {},
   "outputs": [],
   "source": [
    "using CSV, DataFrames, Statistics"
   ]
  },
  {
   "cell_type": "code",
   "execution_count": 10,
   "metadata": {},
   "outputs": [
    {
     "data": {
      "text/plain": [
       "\"aistats-rev/\""
      ]
     },
     "metadata": {},
     "output_type": "display_data"
    }
   ],
   "source": [
    "prefix = \"aistats-rev/\""
   ]
  },
  {
   "cell_type": "code",
   "execution_count": 11,
   "metadata": {},
   "outputs": [
    {
     "data": {
      "text/plain": [
       "method_category (generic function with 1 method)"
      ]
     },
     "metadata": {},
     "output_type": "display_data"
    }
   ],
   "source": [
    "function method_category(meth)\n",
    "    if startswith(meth, \"Imp-then-Reg\")\n",
    "        return \"Imp-then-Reg\"\n",
    "    elseif startswith(meth, \"Joint Imp-then-Reg\")\n",
    "        return \"Joint Imp-then-Reg\"\n",
    "    elseif meth ∈ [\"Static\", \"Affine\", \"Finite\"]\n",
    "        return \"Adaptive LR\"\n",
    "    elseif startswith(meth, \"Complete Features\")\n",
    "        return \"Complete Features\"\n",
    "    else \n",
    "        return meth\n",
    "    end\n",
    "end"
   ]
  },
  {
   "cell_type": "code",
   "execution_count": 12,
   "metadata": {},
   "outputs": [
    {
     "data": {
      "text/plain": [
       "8-element Vector{String}:\n",
       " \"cylinder-bands\"\n",
       " \"ozone-level-detection-eight\"\n",
       " \"ozone-level-detection-one\"\n",
       " \"thyroid-disease-thyroid-0387\"\n",
       " \"trains\"\n",
       " \"credit-approval\"\n",
       " \"Ecdat-Mofa\"\n",
       " \"sleep\""
      ]
     },
     "metadata": {},
     "output_type": "display_data"
    }
   ],
   "source": [
    "pb_datasets = [\"cylinder-bands\", \"ozone-level-detection-eight\", \"ozone-level-detection-one\", \"thyroid-disease-thyroid-0387\", \"trains\",\n",
    "                \"credit-approval\", \"Ecdat-Mofa\", \"sleep\"]"
   ]
  },
  {
   "cell_type": "markdown",
   "metadata": {},
   "source": [
    "## For Real X - Syn Y Experiments"
   ]
  },
  {
   "cell_type": "code",
   "execution_count": 13,
   "metadata": {},
   "outputs": [],
   "source": [
    "prefix =\"aistats-rev/\"\n",
    "setting = prefix*\"fakey/\"\n",
    "for y_model in [\"linear\", \"nn\"]\n",
    "    for m_model = [\"mar\", \"nmar\", \"mar_adv\"]\n",
    "        dir = y_model*\"_\"*m_model*\"/\"\n",
    "        directory = setting*dir\n",
    "        \n",
    "        filelist = [f for f in readdir(directory*\"all/\") if endswith(f, \".csv\")]\n",
    "        res = similar(CSV.read(directory*\"all/\"*filelist[1], DataFrame),0)\n",
    "        \n",
    "        for subdir = [\"all/\"]\n",
    "            filelist = [f for f in readdir(directory*subdir) if endswith(f, \".csv\")]\n",
    "#             res = similar(CSV.read(directory*subdir*filelist[1], DataFrame),0)\n",
    "            for i in 1:length(filelist)\n",
    "                res = vcat(res, CSV.read(directory*subdir*filelist[i], DataFrame))\n",
    "            end\n",
    "        end\n",
    "\n",
    "    #     for subdir = [\"xgb/\"]\n",
    "    #         try \n",
    "    #             filelist = [f for f in readdir(\"xgboost/\"*directory*subdir) if endswith(f, \".csv\")]\n",
    "    #             for i in 1:length(filelist)\n",
    "    #                 res = vcat(res, CSV.read(\"xgboost/\"*directory*subdir*filelist[i], DataFrame))\n",
    "    #             end\n",
    "    #         catch \n",
    "    #             println(\"No XGBoost results for \"*directory*subdir)\n",
    "    #         end\n",
    "    #     end\n",
    "\n",
    "        res[!,:method_cat] = map(t -> method_category(t), res[:,:method])\n",
    "        res[!,:X_setting] .= \"real_X_\"*m_model\n",
    "        res[!,:Y_setting] .= \"syn_Y_\"*y_model\n",
    "\n",
    "        CSV.write(directory*\"FINAL_results.csv\", res)\n",
    "    end\n",
    "end"
   ]
  },
  {
   "cell_type": "code",
   "execution_count": 14,
   "metadata": {},
   "outputs": [],
   "source": [
    "setting = prefix*\"fakey/\"\n",
    "\n",
    "for y_model in [\"linear\", \"nn\"]\n",
    "    for m_model = [\"mar\", \"nmar\", \"mar_adv\"]\n",
    "        dir = y_model*\"_\"*m_model*\"/\"\n",
    "        directory = setting*dir\n",
    "  \n",
    "        res = CSV.read(directory*\"FINAL_results.csv\", DataFrame)\n",
    "        \n",
    "        res[!,:method] .= map(t -> (t == \"Affine\" ? \"Adaptive LR - Affine\" : t), res[:,:method]) \n",
    "        res[!,:method] .= map(t -> (t == \"Finite\" ? \"Adaptive LR - Finite\" : t), res[:,:method]) \n",
    "        res[!,:method] .= map(t -> (t == \"Static\" ? \"Adaptive LR - Affine intercept only\" : t), res[:,:method])\n",
    "        \n",
    "        filter!(t -> t[:dataset] ∉ pb_datasets, res)\n",
    "\n",
    "        for method in [\"Oracle X\", \"Oracle XM\", \"Complete Features\", \"Imp-then-Reg 1\", \"Imp-then-Reg 2\", \"Imp-then-Reg 3\", \"Imp-then-Reg 4\", \"Imp-then-Reg 5\", \"Joint Imp-then-Reg\", \"Adaptive LR\"]\n",
    "            aux = filter(t -> startswith(t[:method], method), res)\n",
    "\n",
    "            idcols = [:dataset, :X_setting, :Y_setting, :SNR, :k, :kMissing, :splitnum]\n",
    "            gd = groupby(aux, idcols)\n",
    "\n",
    "            aux = similar(aux, 0)\n",
    "            for subdf in gd \n",
    "                scoremax = argmax(subdf[:,:score])\n",
    "                push!(aux, subdf[scoremax,names(aux)])\n",
    "            end\n",
    "            aux[!,:method] .= method*\" - best\"\n",
    "\n",
    "            res = vcat(res, aux)\n",
    "        end\n",
    "        \n",
    "        CSV.write(directory*\"FINAL_results.csv\", res)\n",
    "    end\n",
    "end"
   ]
  },
  {
   "cell_type": "markdown",
   "metadata": {},
   "source": [
    "Sanity check"
   ]
  },
  {
   "cell_type": "code",
   "execution_count": 46,
   "metadata": {
    "collapsed": true
   },
   "outputs": [],
   "source": [
    "res = DataFrames.similar(CSV.read(prefix*\"fakey/\"*\"linear\"*\"_\"*\"mar\"*\"/FINAL_results.csv\", DataFrame), 0)\n",
    "for y_model in [\"linear\", \"nn\"]\n",
    "    for m_model = [\"mar\", \"nmar\", \"mar_adv\"]\n",
    "        dir = y_model*\"_\"*m_model*\"/\"\n",
    "        directory = prefix*\"fakey/\"*dir\n",
    "  \n",
    "        res = vcat(res, CSV.read(directory*\"FINAL_results.csv\", DataFrame))\n",
    "    end\n",
    "end"
   ]
  },
  {
   "cell_type": "code",
   "execution_count": 47,
   "metadata": {},
   "outputs": [
    {
     "data": {
      "text/html": [
       "<div><div style = \"float: left;\"><span>403986×16 DataFrame</span></div><div style = \"float: right;\"><span style = \"font-style: italic;\">403961 rows omitted</span></div><div style = \"clear: both;\"></div></div><div class = \"data-frame\" style = \"overflow-x: scroll;\"><table class = \"data-frame\" style = \"margin-bottom: 6px;\"><thead><tr class = \"header\"><th class = \"rowNumber\" style = \"font-weight: bold; text-align: right;\">Row</th><th style = \"text-align: left;\">dataset</th><th style = \"text-align: left;\">SNR</th><th style = \"text-align: left;\">k</th><th style = \"text-align: left;\">kMissing</th><th style = \"text-align: left;\">splitnum</th><th style = \"text-align: left;\">method</th><th style = \"text-align: left;\">r2</th><th style = \"text-align: left;\">osr2</th><th style = \"text-align: left;\">r2list</th><th style = \"text-align: left;\">osr2list</th><th style = \"text-align: left;\">time</th><th style = \"text-align: left;\">hp</th><th style = \"text-align: left;\">score</th><th style = \"text-align: left;\">method_cat</th><th style = \"text-align: left;\">X_setting</th><th style = \"text-align: left;\">Y_setting</th></tr><tr class = \"subheader headerLastRow\"><th class = \"rowNumber\" style = \"font-weight: bold; text-align: right;\"></th><th title = \"String\" style = \"text-align: left;\">String</th><th title = \"Int64\" style = \"text-align: left;\">Int64</th><th title = \"Int64\" style = \"text-align: left;\">Int64</th><th title = \"Int64\" style = \"text-align: left;\">Int64</th><th title = \"Int64\" style = \"text-align: left;\">Int64</th><th title = \"String\" style = \"text-align: left;\">String</th><th title = \"Float64\" style = \"text-align: left;\">Float64</th><th title = \"Float64\" style = \"text-align: left;\">Float64</th><th title = \"String\" style = \"text-align: left;\">String</th><th title = \"String\" style = \"text-align: left;\">String</th><th title = \"Float64\" style = \"text-align: left;\">Float64</th><th title = \"String\" style = \"text-align: left;\">String</th><th title = \"Float64\" style = \"text-align: left;\">Float64</th><th title = \"String31\" style = \"text-align: left;\">String31</th><th title = \"String15\" style = \"text-align: left;\">String15</th><th title = \"String15\" style = \"text-align: left;\">String15</th></tr></thead><tbody><tr><td class = \"rowNumber\" style = \"font-weight: bold; text-align: right;\">1</td><td style = \"text-align: left;\">COUNT-loomis</td><td style = \"text-align: right;\">2</td><td style = \"text-align: right;\">10</td><td style = \"text-align: right;\">0</td><td style = \"text-align: right;\">1</td><td style = \"text-align: left;\">XGBoost</td><td style = \"text-align: right;\">0.737051</td><td style = \"text-align: right;\">0.742668</td><td style = \"text-align: left;\">Any[0.7370507983003595]</td><td style = \"text-align: left;\">Any[0.74266763420168]</td><td style = \"text-align: right;\">23.4184</td><td style = \"text-align: left;\">Dict{Symbol, Real}(:min_child_weight =&gt; 6, :gamma =&gt; 0.1, :n_estimators =&gt; 50, :max_depth =&gt; 3)</td><td style = \"text-align: right;\">0.687844</td><td style = \"text-align: left;\">XGBoost</td><td style = \"text-align: left;\">real_X_mar</td><td style = \"text-align: left;\">syn_Y_linear</td></tr><tr><td class = \"rowNumber\" style = \"font-weight: bold; text-align: right;\">2</td><td style = \"text-align: left;\">COUNT-loomis</td><td style = \"text-align: right;\">2</td><td style = \"text-align: right;\">10</td><td style = \"text-align: right;\">0</td><td style = \"text-align: right;\">1</td><td style = \"text-align: left;\">Oracle X - linear</td><td style = \"text-align: right;\">0.73965</td><td style = \"text-align: right;\">0.762056</td><td style = \"text-align: left;\">Any[0.7396500880253674]</td><td style = \"text-align: left;\">Any[0.7620558281755224]</td><td style = \"text-align: right;\">3.73222</td><td style = \"text-align: left;\">Dict{Symbol, Any}(:alpha =&gt; 0.3, :regtype =&gt; :lasso)</td><td style = \"text-align: right;\">0.705147</td><td style = \"text-align: left;\">Oracle X - linear</td><td style = \"text-align: left;\">real_X_mar</td><td style = \"text-align: left;\">syn_Y_linear</td></tr><tr><td class = \"rowNumber\" style = \"font-weight: bold; text-align: right;\">3</td><td style = \"text-align: left;\">COUNT-loomis</td><td style = \"text-align: right;\">2</td><td style = \"text-align: right;\">10</td><td style = \"text-align: right;\">0</td><td style = \"text-align: right;\">1</td><td style = \"text-align: left;\">Oracle XM - linear</td><td style = \"text-align: right;\">0.73965</td><td style = \"text-align: right;\">0.762056</td><td style = \"text-align: left;\">Any[0.7396500880253674]</td><td style = \"text-align: left;\">Any[0.7620558281755224]</td><td style = \"text-align: right;\">0.0932829</td><td style = \"text-align: left;\">Dict{Symbol, Any}(:alpha =&gt; 0.3, :regtype =&gt; :lasso)</td><td style = \"text-align: right;\">0.705147</td><td style = \"text-align: left;\">Oracle XM - linear</td><td style = \"text-align: left;\">real_X_mar</td><td style = \"text-align: left;\">syn_Y_linear</td></tr><tr><td class = \"rowNumber\" style = \"font-weight: bold; text-align: right;\">4</td><td style = \"text-align: left;\">COUNT-loomis</td><td style = \"text-align: right;\">2</td><td style = \"text-align: right;\">10</td><td style = \"text-align: right;\">0</td><td style = \"text-align: right;\">1</td><td style = \"text-align: left;\">Complete Features - linear</td><td style = \"text-align: right;\">0.73965</td><td style = \"text-align: right;\">0.762056</td><td style = \"text-align: left;\">Any[0.7396500880253674]</td><td style = \"text-align: left;\">Any[0.7620558281755224]</td><td style = \"text-align: right;\">0.08202</td><td style = \"text-align: left;\">Dict{Symbol, Any}(:alpha =&gt; 0.3, :regtype =&gt; :lasso)</td><td style = \"text-align: right;\">0.705147</td><td style = \"text-align: left;\">Complete Features</td><td style = \"text-align: left;\">real_X_mar</td><td style = \"text-align: left;\">syn_Y_linear</td></tr><tr><td class = \"rowNumber\" style = \"font-weight: bold; text-align: right;\">5</td><td style = \"text-align: left;\">COUNT-loomis</td><td style = \"text-align: right;\">2</td><td style = \"text-align: right;\">10</td><td style = \"text-align: right;\">0</td><td style = \"text-align: right;\">1</td><td style = \"text-align: left;\">Oracle X - tree</td><td style = \"text-align: right;\">0.769396</td><td style = \"text-align: right;\">0.725498</td><td style = \"text-align: left;\">Any[0.7693959852749067]</td><td style = \"text-align: left;\">Any[0.7254980907285085]</td><td style = \"text-align: right;\">1.04029</td><td style = \"text-align: left;\">Dict(:maxdepth =&gt; 16)</td><td style = \"text-align: right;\">0.645335</td><td style = \"text-align: left;\">Oracle X - tree</td><td style = \"text-align: left;\">real_X_mar</td><td style = \"text-align: left;\">syn_Y_linear</td></tr><tr><td class = \"rowNumber\" style = \"font-weight: bold; text-align: right;\">6</td><td style = \"text-align: left;\">COUNT-loomis</td><td style = \"text-align: right;\">2</td><td style = \"text-align: right;\">10</td><td style = \"text-align: right;\">0</td><td style = \"text-align: right;\">1</td><td style = \"text-align: left;\">Oracle XM - tree</td><td style = \"text-align: right;\">0.769396</td><td style = \"text-align: right;\">0.725498</td><td style = \"text-align: left;\">Any[0.7693959852749067]</td><td style = \"text-align: left;\">Any[0.7254980907285085]</td><td style = \"text-align: right;\">0.011651</td><td style = \"text-align: left;\">Dict(:maxdepth =&gt; 16)</td><td style = \"text-align: right;\">0.645335</td><td style = \"text-align: left;\">Oracle XM - tree</td><td style = \"text-align: left;\">real_X_mar</td><td style = \"text-align: left;\">syn_Y_linear</td></tr><tr><td class = \"rowNumber\" style = \"font-weight: bold; text-align: right;\">7</td><td style = \"text-align: left;\">COUNT-loomis</td><td style = \"text-align: right;\">2</td><td style = \"text-align: right;\">10</td><td style = \"text-align: right;\">0</td><td style = \"text-align: right;\">1</td><td style = \"text-align: left;\">Complete Features - tree</td><td style = \"text-align: right;\">0.769396</td><td style = \"text-align: right;\">0.725498</td><td style = \"text-align: left;\">Any[0.7693959852749067]</td><td style = \"text-align: left;\">Any[0.7254980907285085]</td><td style = \"text-align: right;\">0.0117469</td><td style = \"text-align: left;\">Dict(:maxdepth =&gt; 16)</td><td style = \"text-align: right;\">0.645335</td><td style = \"text-align: left;\">Complete Features</td><td style = \"text-align: left;\">real_X_mar</td><td style = \"text-align: left;\">syn_Y_linear</td></tr><tr><td class = \"rowNumber\" style = \"font-weight: bold; text-align: right;\">8</td><td style = \"text-align: left;\">COUNT-loomis</td><td style = \"text-align: right;\">2</td><td style = \"text-align: right;\">10</td><td style = \"text-align: right;\">0</td><td style = \"text-align: right;\">1</td><td style = \"text-align: left;\">Oracle X - rf</td><td style = \"text-align: right;\">0.740138</td><td style = \"text-align: right;\">0.725082</td><td style = \"text-align: left;\">Any[0.7401381733617556]</td><td style = \"text-align: left;\">Any[0.7250819111243514]</td><td style = \"text-align: right;\">5.16308</td><td style = \"text-align: left;\">Dict(:ntrees =&gt; 75, :maxdepth =&gt; 10)</td><td style = \"text-align: right;\">0.676238</td><td style = \"text-align: left;\">Oracle X - rf</td><td style = \"text-align: left;\">real_X_mar</td><td style = \"text-align: left;\">syn_Y_linear</td></tr><tr><td class = \"rowNumber\" style = \"font-weight: bold; text-align: right;\">9</td><td style = \"text-align: left;\">COUNT-loomis</td><td style = \"text-align: right;\">2</td><td style = \"text-align: right;\">10</td><td style = \"text-align: right;\">0</td><td style = \"text-align: right;\">1</td><td style = \"text-align: left;\">Oracle XM - rf</td><td style = \"text-align: right;\">0.740138</td><td style = \"text-align: right;\">0.725082</td><td style = \"text-align: left;\">Any[0.7401381733617556]</td><td style = \"text-align: left;\">Any[0.7250819111243514]</td><td style = \"text-align: right;\">4.19069</td><td style = \"text-align: left;\">Dict(:ntrees =&gt; 75, :maxdepth =&gt; 10)</td><td style = \"text-align: right;\">0.676238</td><td style = \"text-align: left;\">Oracle XM - rf</td><td style = \"text-align: left;\">real_X_mar</td><td style = \"text-align: left;\">syn_Y_linear</td></tr><tr><td class = \"rowNumber\" style = \"font-weight: bold; text-align: right;\">10</td><td style = \"text-align: left;\">COUNT-loomis</td><td style = \"text-align: right;\">2</td><td style = \"text-align: right;\">10</td><td style = \"text-align: right;\">0</td><td style = \"text-align: right;\">1</td><td style = \"text-align: left;\">Complete Features - rf</td><td style = \"text-align: right;\">0.740138</td><td style = \"text-align: right;\">0.725082</td><td style = \"text-align: left;\">Any[0.7401381733617556]</td><td style = \"text-align: left;\">Any[0.7250819111243514]</td><td style = \"text-align: right;\">4.1713</td><td style = \"text-align: left;\">Dict(:ntrees =&gt; 75, :maxdepth =&gt; 10)</td><td style = \"text-align: right;\">0.676238</td><td style = \"text-align: left;\">Complete Features</td><td style = \"text-align: left;\">real_X_mar</td><td style = \"text-align: left;\">syn_Y_linear</td></tr><tr><td class = \"rowNumber\" style = \"font-weight: bold; text-align: right;\">11</td><td style = \"text-align: left;\">COUNT-loomis</td><td style = \"text-align: right;\">2</td><td style = \"text-align: right;\">10</td><td style = \"text-align: right;\">0</td><td style = \"text-align: right;\">1</td><td style = \"text-align: left;\">CART MIA</td><td style = \"text-align: right;\">0.769396</td><td style = \"text-align: right;\">0.725498</td><td style = \"text-align: left;\">Any[0.7693959852749067]</td><td style = \"text-align: left;\">Any[0.7254980907285085]</td><td style = \"text-align: right;\">0.011694</td><td style = \"text-align: left;\">Dict(:maxdepth =&gt; 16)</td><td style = \"text-align: right;\">0.645335</td><td style = \"text-align: left;\">CART MIA</td><td style = \"text-align: left;\">real_X_mar</td><td style = \"text-align: left;\">syn_Y_linear</td></tr><tr><td class = \"rowNumber\" style = \"font-weight: bold; text-align: right;\">12</td><td style = \"text-align: left;\">COUNT-loomis</td><td style = \"text-align: right;\">2</td><td style = \"text-align: right;\">10</td><td style = \"text-align: right;\">0</td><td style = \"text-align: right;\">1</td><td style = \"text-align: left;\">RF MIA</td><td style = \"text-align: right;\">0.740138</td><td style = \"text-align: right;\">0.725082</td><td style = \"text-align: left;\">Any[0.7401381733617556]</td><td style = \"text-align: left;\">Any[0.7250819111243514]</td><td style = \"text-align: right;\">4.17453</td><td style = \"text-align: left;\">Dict(:ntrees =&gt; 75, :maxdepth =&gt; 10)</td><td style = \"text-align: right;\">0.676238</td><td style = \"text-align: left;\">RF MIA</td><td style = \"text-align: left;\">real_X_mar</td><td style = \"text-align: left;\">syn_Y_linear</td></tr><tr><td class = \"rowNumber\" style = \"font-weight: bold; text-align: right;\">13</td><td style = \"text-align: left;\">COUNT-loomis</td><td style = \"text-align: right;\">2</td><td style = \"text-align: right;\">10</td><td style = \"text-align: right;\">0</td><td style = \"text-align: right;\">1</td><td style = \"text-align: left;\">Imp-then-Reg 1 - xgboost</td><td style = \"text-align: right;\">0.737051</td><td style = \"text-align: right;\">0.742668</td><td style = \"text-align: left;\">Any[0.7370507983003595]</td><td style = \"text-align: left;\">Any[0.74266763420168]</td><td style = \"text-align: right;\">11.3815</td><td style = \"text-align: left;\">Dict{Symbol, Real}(:min_child_weight =&gt; 6, :gamma =&gt; 0.1, :n_estimators =&gt; 50, :max_depth =&gt; 3)</td><td style = \"text-align: right;\">0.687844</td><td style = \"text-align: left;\">Imp-then-Reg</td><td style = \"text-align: left;\">real_X_mar</td><td style = \"text-align: left;\">syn_Y_linear</td></tr><tr><td style = \"text-align: right;\">&vellip;</td><td style = \"text-align: right;\">&vellip;</td><td style = \"text-align: right;\">&vellip;</td><td style = \"text-align: right;\">&vellip;</td><td style = \"text-align: right;\">&vellip;</td><td style = \"text-align: right;\">&vellip;</td><td style = \"text-align: right;\">&vellip;</td><td style = \"text-align: right;\">&vellip;</td><td style = \"text-align: right;\">&vellip;</td><td style = \"text-align: right;\">&vellip;</td><td style = \"text-align: right;\">&vellip;</td><td style = \"text-align: right;\">&vellip;</td><td style = \"text-align: right;\">&vellip;</td><td style = \"text-align: right;\">&vellip;</td><td style = \"text-align: right;\">&vellip;</td><td style = \"text-align: right;\">&vellip;</td><td style = \"text-align: right;\">&vellip;</td></tr><tr><td class = \"rowNumber\" style = \"font-weight: bold; text-align: right;\">403975</td><td style = \"text-align: left;\">wiki4he</td><td style = \"text-align: right;\">2</td><td style = \"text-align: right;\">10</td><td style = \"text-align: right;\">8</td><td style = \"text-align: right;\">6</td><td style = \"text-align: left;\">Adaptive LR - best</td><td style = \"text-align: right;\">0.692868</td><td style = \"text-align: right;\">0.593487</td><td style = \"text-align: left;\">Any[0.6710077954215818, 0.6426715666188567, 0.7095451347911103, 0.46170379098179715, -0.06411974147061272, 0.5543092171506521, 0.8765643238145897, 0.850514729999452, 0.8800820918942373, 0.8981257342744323, 0.4569855300641579, 0.8230140154252625, 0.7741819394279301, 0.0772933399289566, 0.8898900618129826, 0.8970760780222176, -8.446612544810991, 0.6317699725270258, 0.6400025415120014, 0.2653659804995272, 0.5790484504851887, -6.518493582967657, 0.872036220910112, 0.9395664259817205, 0.6887168308252233, 0.9974508563286908, -122838.45835725458, -Inf, -Inf, -Inf, -Inf, -Inf, -Inf, -Inf, -Inf, -Inf, -Inf, -Inf, -Inf, -Inf, -Inf, -Inf, -Inf]</td><td style = \"text-align: left;\">Any[0.5703073262289211, 0.24745724471594988, 0.8228111755921574, 0.7455554181878377, 0.582005221277227, 0.6995562291577777, 0.06923080296632678, 0.9110740171134349, 0.560059752193211, 0.016643423949296743, -0.5745398687126049, 0.8817417424629164, 0.05216975693253445, 0.8697076325320868, 0.9949159994897756, 0.9033710131677458, -0.2243879948299088, 0.8667179543219304, 0.9457093397771227, -26.152234084802792, 0.6128950703079568, 0.9522555025714045, -380.00374172849297, 0.9385143412351417, 0.8754040579456007, 0.9790307852445088, -1.2135771464398553, 0.9792521509131233, -15.067037654967834, -5.183152839334365, -12.024565552264297, 0.38575483870740823, -101.70092593192572, 0.7915732492786889, -2.431173755788896, -5.598303856618543, 0.9822024682917663, -593.2821609419652, 0.9984084250424851, 0.9543444791300486, -198.22173013005144, -0.4463632583333732, 0.8602361601355105]</td><td style = \"text-align: right;\">28.014</td><td style = \"text-align: left;\">Dict{Symbol, Any}(:missing_penalty =&gt; 1.0, :alpha =&gt; 1.0, :regtype =&gt; :missing_weight)</td><td style = \"text-align: right;\">0.594397</td><td style = \"text-align: left;\">Adaptive LR</td><td style = \"text-align: left;\">real_X_mar_adv</td><td style = \"text-align: left;\">syn_Y_nn</td></tr><tr><td class = \"rowNumber\" style = \"font-weight: bold; text-align: right;\">403976</td><td style = \"text-align: left;\">wiki4he</td><td style = \"text-align: right;\">2</td><td style = \"text-align: right;\">10</td><td style = \"text-align: right;\">8</td><td style = \"text-align: right;\">7</td><td style = \"text-align: left;\">Adaptive LR - best</td><td style = \"text-align: right;\">0.563979</td><td style = \"text-align: right;\">0.428584</td><td style = \"text-align: left;\">Any[0.5231468788770435, 0.4017839176654848, 0.834735322215114, -0.6644342450555041, -1.2832800590741904, 0.5211985239974868, 0.7434302827979244, 0.7873628439795982, -0.3494593032108697, -2.099717064455804, 0.13429585542449118, -1.2761100033038866, -6.2221216895917415, -2.764066719967345, 0.5403516632613321, 0.06372277517486524, -1.999397818078919, 0.37818881531748394, 0.7651960961290994, 0.7109152694545366, -0.29924258540218296, -1.0930861078481886, -1.913078726693549, -6081.766372985735, 0.9846784445276296, -1.1710359373820771, -1.5112654252696922, -Inf, -Inf, -Inf, -Inf, -Inf, -Inf, -Inf, -Inf, -Inf, -Inf, -Inf, -Inf, -Inf, -Inf, -Inf, -Inf]</td><td style = \"text-align: left;\">Any[0.42363567554510495, 0.21953103666207774, -0.36246918821322516, 0.378847574431331, 0.7946219472668502, 0.9277951078434943, 0.623852980716071, -308.9143929327838, -2.8286738753771457, -2.0685617634639835, 0.9868149402044843, -3.0603555783416923, 0.8903972409022667, 0.873042565432895, 0.4309722803964745, 0.8749506315927886, 0.921915457805156, 0.6373566492082507, 0.9317711624250646, -2.09222556894645, 0.8959403270011124, 0.280360633922075, -41.52818478395173, 0.22735595405675635, 0.8563364041417336, 0.8494723233820525, 0.8941916692772964, -0.35250124788684745, 0.9243299366222768, -3.778712519462321, 0.4174262522242459, -186.14284003112377, 0.9778780087386826, 0.9086159561563486, 0.785811144557931, 0.4075170637985236, 0.8871719580366265, 0.663995240411063, 0.39526918166363467, -0.1510802702165721, -7.520815366126369, -17.46365802493551, 0.8512947409663636]</td><td style = \"text-align: right;\">26.1881</td><td style = \"text-align: left;\">Dict{Symbol, Any}(:missing_penalty =&gt; 1.0, :alpha =&gt; 0.8, :regtype =&gt; :missing_weight)</td><td style = \"text-align: right;\">0.287565</td><td style = \"text-align: left;\">Adaptive LR</td><td style = \"text-align: left;\">real_X_mar_adv</td><td style = \"text-align: left;\">syn_Y_nn</td></tr><tr><td class = \"rowNumber\" style = \"font-weight: bold; text-align: right;\">403977</td><td style = \"text-align: left;\">wiki4he</td><td style = \"text-align: right;\">2</td><td style = \"text-align: right;\">10</td><td style = \"text-align: right;\">8</td><td style = \"text-align: right;\">8</td><td style = \"text-align: left;\">Adaptive LR - best</td><td style = \"text-align: right;\">0.372958</td><td style = \"text-align: right;\">0.263326</td><td style = \"text-align: left;\">Any[0.385404521638126, 0.3582591749034626, -0.22628046675892355, -0.13642327706121615, -0.8625635353998236, -0.8437259539305539, 0.6407868744750229, 0.09205949318533535, 0.05529605040142871, 0.03459670154549255, 0.3310566722091638, -0.2456465810402948, -5.6140306089554235, 0.10536119665612109, -3.858664714632466, 0.8432192111941448, -0.719878000991814, 0.2892140877263477, -20.245747138928998, -571.9195467353884, -0.5208287475186606, -1.3597244545875147, 0.17587259353118, 0.9556238878732506, -0.4315062944624246, 0.8665779148361414, 0.5405798048018537, -Inf, -Inf, -Inf, -Inf, -Inf, -Inf, -Inf, -Inf, -Inf, -Inf, -Inf, -Inf, -Inf, -Inf, -Inf, -Inf]</td><td style = \"text-align: left;\">Any[0.2652882302473182, 0.40350450622564693, 0.7001411390381582, -0.4130958218133951, 0.40739250047344067, -0.4087385768851264, -0.3862612474577578, -4.895262038583676, 0.5555339458418778, 0.428362797786468, 0.9289333441577581, -0.624229760036656, 0.4357491281715131, 0.8141098998095161, 0.5556796596710689, 0.9837104966619648, 0.9895947600693601, 0.18485101185749153, -16.713331864111677, 0.4021374809636953, 0.5041795176593222, 0.9335431544199055, -0.25958888099042965, 0.2722288400754349, 0.954850737891202, -35.05913536221185, 0.9274563583872257, -17.215432665417353, 0.13094720392339332, 0.9865053846982718, -1.4983328528040056, -6.9199381056840465, 0.9872128219375695, 0.7373814412868618, 0.9909522943409803, 0.8705043489034863, -57.9658576142923, 0.8837285301185488, 0.6189474333858341, 0.3775888012607349, -26.420152888033964, 0.6733605773484106, -0.5453091900448777]</td><td style = \"text-align: right;\">453.795</td><td style = \"text-align: left;\">Dict{Symbol, Any}(:missing_penalty =&gt; 8.0, :alpha =&gt; 1.0, :regtype =&gt; :missing_weight)</td><td style = \"text-align: right;\">0.254484</td><td style = \"text-align: left;\">Adaptive LR</td><td style = \"text-align: left;\">real_X_mar_adv</td><td style = \"text-align: left;\">syn_Y_nn</td></tr><tr><td class = \"rowNumber\" style = \"font-weight: bold; text-align: right;\">403978</td><td style = \"text-align: left;\">wiki4he</td><td style = \"text-align: right;\">2</td><td style = \"text-align: right;\">10</td><td style = \"text-align: right;\">8</td><td style = \"text-align: right;\">9</td><td style = \"text-align: left;\">Adaptive LR - best</td><td style = \"text-align: right;\">0.516303</td><td style = \"text-align: right;\">0.337483</td><td style = \"text-align: left;\">Any[0.5291878509546681, -0.8665655390249873, 0.1068048984159844, -0.22049849897224183, -0.1605304184374554, 0.6315223985113003, 0.6556152956932471, 0.7378022632032738, -1.396442147171029, 0.11004218733340054, 0.5419150114627662, 0.6721843024633093, -2.807362683843157, 0.3562618891295847, -5.784304563928689, -0.4228806531651055, -24.493735929106137, 0.1112338695249423, 0.802516203993318, -2.1703304361276228, -28.455773109768085, -36.67346530023411, 0.6185548686101114, -0.3340742520963249, -0.4549448337716837, -2.9090392645302647, -2.5183179137026053, -Inf, -Inf, -Inf, -Inf, -Inf, -Inf, -Inf, -Inf, -Inf, -Inf, -Inf, -Inf, -Inf, -Inf, -Inf, -Inf]</td><td style = \"text-align: left;\">Any[0.3661781141613548, 0.5062255727328608, 0.46265183843646196, 0.7840012891010337, 0.550122963078099, -0.33302931396732127, 0.13866814620247503, 0.6163562940013827, -1.361800436339705, 0.5760076046225038, -0.9830621488520495, 0.7905067022088273, 0.20335088589202566, 0.962541166183522, 0.9697803104026155, -5.3009416087994605, 0.8999797808530816, 0.9200143193287252, 0.6524835714990243, 0.9544228772684562, -5.895018258354115, 0.6526427092700944, -3.545650771928816, -1.7187919780485412, 0.9523621610219575, 0.5687270561820034, -1.812548355716899, 0.9670854205284104, -15.876634469063386, -1.1415676033158326, 0.9588692383665092, 0.8245321828540664, -22.47469154227775, 0.6810292732004126, -1.1580845151302985, 0.934457789019309, 0.7247707168846762, -1.1507806433174892, 0.959502286399404, 0.8482766329197255, 0.739956162227396, -0.7966189540728776, -0.9702726011131189]</td><td style = \"text-align: right;\">32.7651</td><td style = \"text-align: left;\">Dict{Symbol, Any}(:missing_penalty =&gt; 8.0, :alpha =&gt; 0.7, :regtype =&gt; :missing_weight)</td><td style = \"text-align: right;\">0.447975</td><td style = \"text-align: left;\">Adaptive LR</td><td style = \"text-align: left;\">real_X_mar_adv</td><td style = \"text-align: left;\">syn_Y_nn</td></tr><tr><td class = \"rowNumber\" style = \"font-weight: bold; text-align: right;\">403979</td><td style = \"text-align: left;\">wiki4he</td><td style = \"text-align: right;\">2</td><td style = \"text-align: right;\">10</td><td style = \"text-align: right;\">9</td><td style = \"text-align: right;\">2</td><td style = \"text-align: left;\">Adaptive LR - best</td><td style = \"text-align: right;\">0.60579</td><td style = \"text-align: right;\">0.446039</td><td style = \"text-align: left;\">Any[0.542397552429368, 0.502968693269596, 0.7145390165769415, 0.6979645418276709, 0.2104804680610951, 0.31860635788848013, 0.5292053090730539, 0.7909834563068907, 0.7080499848972832, 0.2124372440909037, 0.4302283530708868, 0.4908317421498094, 0.3699329049381792, 0.2438292992576827, 0.48195056540656245, 0.4874808265524726, 0.08471015953623684, -0.5894744709142969, 0.14705102231646938, -0.14745634274275154, -26.076629908003248, -0.4921590380277232, 0.991689408937206, -0.7289968798734325, 0.6998618069378473, 0.5531999992016328, -6.465750001734966, -Inf, -Inf, -Inf, -Inf, -Inf, -Inf, -Inf, -Inf, -Inf, -Inf, -Inf, -Inf, -Inf, -Inf, -Inf, -Inf]</td><td style = \"text-align: left;\">Any[0.5618618144618431, 0.2685840649107648, -0.7348268681575076, 0.374451967413155, -7.4599541021196, 0.7548029278581024, 0.9376553293671844, 0.9717977380611275, 0.12038673533646638, 0.2828975887507855, 0.43724198768336775, -1.5354144448390623, 0.7895388487719022, -1.7033201890956717, 0.9402096725605579, 0.31863243246781825, 0.5338878110747265, 0.7118465136897989, -4.736834651215504, 0.9632348662107998, -0.5382494879193371, 0.7816453641497638, -5.929336563884259, 0.9973655762029038, 0.8430088759397979, -32.299058818644745, 0.17209203185709987, -7.906906544086128, 0.9292249166239489, -3.6701275449355553, 0.9361116057485753, 0.1970947625641125, -0.44575120519979405, -0.7138931458628679, 0.6583447026299705, 0.8274556319117918, 0.47499814078726965, 0.9480334557029464, 0.8781576111798446, -17.370286958725398, -15.731225591701893, 0.8921821105820672, 0.8171700648941455]</td><td style = \"text-align: right;\">436.548</td><td style = \"text-align: left;\">Dict{Symbol, Any}(:missing_penalty =&gt; 1.0, :alpha =&gt; 0.7, :regtype =&gt; :missing_weight)</td><td style = \"text-align: right;\">0.481241</td><td style = \"text-align: left;\">Adaptive LR</td><td style = \"text-align: left;\">real_X_mar_adv</td><td style = \"text-align: left;\">syn_Y_nn</td></tr><tr><td class = \"rowNumber\" style = \"font-weight: bold; text-align: right;\">403980</td><td style = \"text-align: left;\">wiki4he</td><td style = \"text-align: right;\">2</td><td style = \"text-align: right;\">10</td><td style = \"text-align: right;\">9</td><td style = \"text-align: right;\">3</td><td style = \"text-align: left;\">Adaptive LR - best</td><td style = \"text-align: right;\">0.474211</td><td style = \"text-align: right;\">0.270561</td><td style = \"text-align: left;\">Any[0.4847410573109455, 0.36313399405174407, 0.37131098194647005, 0.2481978013339109, 0.28194537926560936, -0.09260710076721268, -2.6865879751325923, -0.06829997998158643, -1.7741950403306226, 0.16171273351542448, 0.1770023319288817, -0.3196890046420675, -0.2666507545477186, -3.5599817751053155, -0.5373183949173121, 0.9399053877768794, -2.2109135970685436, 0.3113801402452899, 0.8175195901501668, 0.7636792971593666, -1.3597305000882214, -6.812977976766742, 0.34056803555153714, -8.687269467043755, 0.40952958785459126, 0.7760001516024062, 0.9578777809214434, -Inf, -Inf, -Inf, -Inf, -Inf, -Inf, -Inf, -Inf, -Inf, -Inf, -Inf, -Inf, -Inf, -Inf, -Inf, -Inf]</td><td style = \"text-align: left;\">Any[0.30349206909835125, 0.5662910136868946, -3.6240667812284135, -0.08873095024819966, 0.4133000579345859, 0.4390731229587459, -0.6253535091632945, -0.00709723164790832, -502.4828061902863, 0.12615657984546746, 0.939729517231409, 0.7216638062658571, -6.222559843030549, 0.5951282544608392, 0.7209638155644282, 0.9782858893546305, 0.7946846433158363, 0.3606400342802475, -9.565361001819417, 0.7792208183894664, 0.7784464957915006, -557.2917093999865, -0.704615971318987, 0.8671939967649331, -2.2275895327011144, 0.9848885251853634, 0.08653564024337912, -22.35241424541534, 0.8465536018746016, 0.9926999843571381, 0.8423207797703289, -2.1140486760915205, 0.7033457869051171, -135.5727517167468, 0.9973199638400031, 0.999891907012565, 0.6062173360682277, 0.4798072065789465, 0.5558617667539494, 0.3318061300800166, 0.994421838723518, -4.9278825299380005, -21.121906936061567]</td><td style = \"text-align: right;\">436.36</td><td style = \"text-align: left;\">Dict{Symbol, Any}(:missing_penalty =&gt; 2.0, :alpha =&gt; 0.9, :regtype =&gt; :missing_weight)</td><td style = \"text-align: right;\">0.303307</td><td style = \"text-align: left;\">Adaptive LR</td><td style = \"text-align: left;\">real_X_mar_adv</td><td style = \"text-align: left;\">syn_Y_nn</td></tr><tr><td class = \"rowNumber\" style = \"font-weight: bold; text-align: right;\">403981</td><td style = \"text-align: left;\">wiki4he</td><td style = \"text-align: right;\">2</td><td style = \"text-align: right;\">10</td><td style = \"text-align: right;\">9</td><td style = \"text-align: right;\">4</td><td style = \"text-align: left;\">Adaptive LR - best</td><td style = \"text-align: right;\">0.652931</td><td style = \"text-align: right;\">0.534275</td><td style = \"text-align: left;\">Any[0.5890497218625812, 0.36352661452422186, 0.7709829207116081, 0.5885172616129594, 0.6328839063071497, 0.9244426575977461, 0.7296262449845176, 0.6762926446225439, 0.4948771909723554, 0.49491302915397617, 0.5516952411915796, 0.8662840688863862, 0.7240977407310747, 0.39232496460803634, -1.2060638123911565, -104.17842280080782, -10.595763595326577, 0.6403003620628279, -0.16483872871558192, 0.9543813423453028, 0.08033927816005537, 0.5889207369577236, -1.8067585282338938, -10.29669076414344, 0.7362951822279772, -1.2264870516666373, 0.9710950031531155, -Inf, -Inf, -Inf, -Inf, -Inf, -Inf, -Inf, -Inf, -Inf, -Inf, -Inf, -Inf, -Inf, -Inf, -Inf, -Inf]</td><td style = \"text-align: left;\">Any[0.5094670022637982, 0.573471306148108, 0.3174015144251596, 0.8427090011754081, 0.8831088677433223, 0.34801519535022174, 0.6728155508311908, -7.902885243667463, -1.3722724177874932, 0.9858925194056198, 0.5485361683383436, 0.8140554634906325, 0.988646324973105, 0.4545069969803709, -1.7910941289672149, 0.4132910878563494, 0.9486706479936562, 0.9904295587409542, 0.7877928538535897, 0.10565251436038692, 0.9734494025427637, 0.7017323917747976, 0.9321490641020483, 0.810082998731968, 0.9764888053304407, -151.26985406939957, -18.367437569199176, -4.946057324667354, 0.8715031502527768, 0.9233686020202567, 0.9985966498830976, 0.9626484210356074, -4647.205607943281, 0.9986352356199495, 0.5758478117481393, 0.4666985686905769, 0.6080964827653279, 0.7268826167844976, 0.991217191393903, -3.131973788208872, 0.5867268528006395, -12.101655647578985, -0.6088067550282772]</td><td style = \"text-align: right;\">41.4479</td><td style = \"text-align: left;\">Dict{Symbol, Any}(:missing_penalty =&gt; 1.0, :alpha =&gt; 0.7, :regtype =&gt; :missing_weight)</td><td style = \"text-align: right;\">0.541733</td><td style = \"text-align: left;\">Adaptive LR</td><td style = \"text-align: left;\">real_X_mar_adv</td><td style = \"text-align: left;\">syn_Y_nn</td></tr><tr><td class = \"rowNumber\" style = \"font-weight: bold; text-align: right;\">403982</td><td style = \"text-align: left;\">wiki4he</td><td style = \"text-align: right;\">2</td><td style = \"text-align: right;\">10</td><td style = \"text-align: right;\">9</td><td style = \"text-align: right;\">5</td><td style = \"text-align: left;\">Adaptive LR - best</td><td style = \"text-align: right;\">0.518725</td><td style = \"text-align: right;\">0.28644</td><td style = \"text-align: left;\">Any[0.4823695716057864, 0.6876813257172787, 0.2700355721994223, 0.7403299086846022, 0.7832147075451574, -2.0890041483673514, -0.14600949166339716, -0.9261123279409444, -0.4284582116269482, -1.0535219843082242, -0.3006742208385531, -0.01294213012765022, 0.21488773429825192, 0.548894234804556, -0.7413871427703704, 0.9864237705844494, 0.7094147198390292, 0.868704164777937, 0.49370723159880336, -2.2854321814770153, -0.5722755608472823, 0.43365213416229464, -26.891803718628097, -3321.424784200844, 0.8603904042942336, 0.6454720477144693, 0.5416427460450391, -Inf, -Inf, -Inf, -Inf, -Inf, -Inf, -Inf, -Inf, -Inf, -Inf, -Inf, -Inf, -Inf, -Inf, -Inf, -Inf]</td><td style = \"text-align: left;\">Any[0.3707430494514279, -1.3571104043297808, 0.8324079882042816, -0.32519013692883947, 0.7574687868492744, 0.18335140457913457, 0.5051131616747416, 0.44321071731998507, -31.311800553811523, -3.080087453652035, 0.9777865470785048, 0.9156607097390944, 0.13801423175887373, 0.4093487686504199, -0.1030640249583521, 0.3439705871235583, -0.030038145838843677, 0.810173727379681, 0.36986681327769244, 0.77521666445924, -9.948603357867047, -28.51375519076171, -28553.659077650773, 0.983922596368865, 0.6215252799974254, -232.28904462691668, 0.28814759049241523, 0.8068360361511913, -3.4415965586200956, -24.65520742522978, 0.7009083106557871, 0.1309529523106311, 0.7489864663250003, 0.02070405467604952, 0.7848269124441707, -296.6796849629221, 0.47055447253785854, 0.37460632247796755, 0.8255650322317221, 0.8037117692917943, 0.9246819657934682, -1.4489123975986207, 0.9157135774463052]</td><td style = \"text-align: right;\">41.3765</td><td style = \"text-align: left;\">Dict{Symbol, Any}(:missing_penalty =&gt; 1.0, :alpha =&gt; 1.0, :regtype =&gt; :missing_weight)</td><td style = \"text-align: right;\">0.346318</td><td style = \"text-align: left;\">Adaptive LR</td><td style = \"text-align: left;\">real_X_mar_adv</td><td style = \"text-align: left;\">syn_Y_nn</td></tr><tr><td class = \"rowNumber\" style = \"font-weight: bold; text-align: right;\">403983</td><td style = \"text-align: left;\">wiki4he</td><td style = \"text-align: right;\">2</td><td style = \"text-align: right;\">10</td><td style = \"text-align: right;\">9</td><td style = \"text-align: right;\">6</td><td style = \"text-align: left;\">Adaptive LR - best</td><td style = \"text-align: right;\">0.715347</td><td style = \"text-align: right;\">0.612934</td><td style = \"text-align: left;\">Any[0.6901767707359887, 0.7708560727590228, 0.5790776347086477, 0.6865750347073734, -0.7295610282500105, -0.19190075268573348, 0.3623487038712653, 0.41946386802992064, -0.9640094477091974, 0.825734810702438, 0.9685668864211597, 0.776667374110498, 0.6251813369740549, 0.6273651139753939, -3.8031572418211326, 0.46057509561897925, -0.06640534649301344, 0.3967460742457184, -18.084498374799697, 0.26309059522755085, -0.2855687706983028, 0.5150430700571317, -0.5576859694005951, 0.8660887694521432, 0.9574480957337711, 0.9624686647439719, 0.9048303404774283, -Inf, -Inf, -Inf, -Inf, -Inf, -Inf, -Inf, -Inf, -Inf, -Inf, -Inf, -Inf, -Inf, -Inf, -Inf, -Inf]</td><td style = \"text-align: left;\">Any[0.65988867527401, -0.9667953130201121, 0.820872955274984, 0.3771217876548657, -111.12808364305579, 0.734699698606021, 0.9212953416225544, -16.91881749844484, -0.38131643992478415, -0.32276952588651575, 0.963734170050045, 0.6710882805870767, -15.75522049082836, 0.792201305152975, -34.89490639934161, 0.9467529051018513, 0.39721802903138226, 0.8363359630043392, -48.319947774718806, -0.42771659498566006, 0.5344662688228965, 0.7033513295672738, 0.6464712485167596, 0.9991714013817801, -0.19441674134351317, 0.7311549350256675, 0.9803190584095437, -7.636051199674126, 0.9197613407946731, 0.8267707576559763, 0.9868347509549487, -1.4515155297772582, 0.9715895355556811, 0.5977393329935379, 0.6313029101227047, -0.7842641234855505, 0.699718963636218, 0.9218667010654141, 0.6321730339135292, 0.998602521821197, -61.89282613262241, 0.47645610010953776, 0.13845802470360846]</td><td style = \"text-align: right;\">34.9338</td><td style = \"text-align: left;\">Dict{Symbol, Any}(:missing_penalty =&gt; 1.0, :alpha =&gt; 0.6, :regtype =&gt; :missing_weight)</td><td style = \"text-align: right;\">0.579503</td><td style = \"text-align: left;\">Adaptive LR</td><td style = \"text-align: left;\">real_X_mar_adv</td><td style = \"text-align: left;\">syn_Y_nn</td></tr><tr><td class = \"rowNumber\" style = \"font-weight: bold; text-align: right;\">403984</td><td style = \"text-align: left;\">wiki4he</td><td style = \"text-align: right;\">2</td><td style = \"text-align: right;\">10</td><td style = \"text-align: right;\">9</td><td style = \"text-align: right;\">7</td><td style = \"text-align: left;\">Adaptive LR - best</td><td style = \"text-align: right;\">0.649572</td><td style = \"text-align: right;\">0.444177</td><td style = \"text-align: left;\">Any[0.5861389232767211, 0.849750794347243, 0.7154844191898468, 0.8039314058551947, -1.5676583719939234, 0.6307121358964858, 0.8569251243865437, 0.8934855008980972, 0.8064694203677826, 0.7389501552454093, 0.4895252414813994, 0.3819631491881186, 0.7808925179763075, 0.3367816677550325, 0.6464368701798604, 0.8098315363902332, 0.7566815985333902, 0.7605514964072072, -1.250328842858135, -2.6879614517100188, 0.6775730453463568, 0.7506110131209114, -97.8263998925113, 0.7242280199035047, 0.6422188587423336, 0.28406505188578723, -2.9464437195612776, -Inf, -Inf, -Inf, -Inf, -Inf, -Inf, -Inf, -Inf, -Inf, -Inf, -Inf, -Inf, -Inf, -Inf, -Inf, -Inf]</td><td style = \"text-align: left;\">Any[0.5440047537509791, -0.14824982698443412, 0.38782512629137245, -1.1545715718123555, 0.3889209432438614, -0.1215643548697729, 0.9396986283756996, 0.8143635508524484, 0.7647881954842924, -0.5691711518014739, -1.3716512876770146, 0.4261224524335937, 0.3932813399073569, -56.48590797257834, 0.9802343110671254, -0.6732742450928071, 0.9697717875228884, -60.55009304638437, 0.8447721434822111, -2.277481486948009, -5.06655061616852, -285.7515308543312, 0.6246292229682603, 0.13533496889805408, 0.9690750240743639, 0.7561965395107965, -1.3214420006207326, 0.9990075663642879, 0.9253538010297263, -3.8645253805393027, 0.9443625681506865, 0.1972217619587543, -1.4962772557674047, -0.15478353406458134, 0.7205137255361809, -0.5170839252523729, 0.15077713062746012, 0.8229046590903705, 0.2801583823685114, -10.441671807183381, 0.41730900261537385, 0.8320712012846133, 0.42080330522843334]</td><td style = \"text-align: right;\">425.077</td><td style = \"text-align: left;\">Dict{Symbol, Any}(:missing_penalty =&gt; 1.0, :alpha =&gt; 0.9, :regtype =&gt; :missing_weight)</td><td style = \"text-align: right;\">0.449232</td><td style = \"text-align: left;\">Adaptive LR</td><td style = \"text-align: left;\">real_X_mar_adv</td><td style = \"text-align: left;\">syn_Y_nn</td></tr><tr><td class = \"rowNumber\" style = \"font-weight: bold; text-align: right;\">403985</td><td style = \"text-align: left;\">wiki4he</td><td style = \"text-align: right;\">2</td><td style = \"text-align: right;\">10</td><td style = \"text-align: right;\">9</td><td style = \"text-align: right;\">8</td><td style = \"text-align: left;\">Adaptive LR - best</td><td style = \"text-align: right;\">0.44109</td><td style = \"text-align: right;\">0.355161</td><td style = \"text-align: left;\">Any[0.45255404172573954, -0.14459830444914457, 0.0687107485631312, 0.01796704404250249, 0.250347729310595, -0.5479540315389757, -4.1941988514215165, -0.09083723938416388, -6.174077806612946, 0.2592099836640439, 0.6404196101800751, 0.1887590110343007, -0.6598903839461994, -0.06396792933239004, -1.427595570324367, 0.761843390109858, -0.15502400004826655, 0.8457688371075255, -2.209508548506863, 0.6357802182745632, 0.5236724991068411, -20.71422664586665, -2.0232832268596486, 0.8683450079663706, 0.13927252949359792, 0.9246214334893051, -20.211289928208373, -Inf, -Inf, -Inf, -Inf, -Inf, -Inf, -Inf, -Inf, -Inf, -Inf, -Inf, -Inf, -Inf, -Inf, -Inf, -Inf]</td><td style = \"text-align: left;\">Any[0.36098709775196247, 0.5708985113275368, -0.8352306257865638, 0.5101368046555497, 0.380881196188371, 0.9144017345832542, -0.62782703010463, -1.1751845920815782, -1.586919806415139, -1.3167892134953214, 0.1868153442599919, -0.32601659968859553, -0.9176807972216618, 0.9088050211845528, 0.7436466514361111, 0.8232986552409565, 0.39821561238424974, -0.2973917091374143, 0.8959144862782263, 0.49830417889984346, 0.08101493355846567, -3.6201099265951218, 0.5285490448789166, -14.784276607277683, 0.29143502796683185, -45.25147646211374, 0.9577879784548908, 0.8326365328032713, 0.9665290690866128, 0.9709996832262299, 0.09557892446838345, -1.6087144697773264, 0.7152429408055865, -152.25836763912693, 0.9996798047991642, 0.9167265458455782, 0.6877842229018182, -0.20780309109492912, 0.6678909872906655, 0.835986018764727, -0.601864001418214, -19.821365747283508, 0.6669893248053521]</td><td style = \"text-align: right;\">33.2454</td><td style = \"text-align: left;\">Dict{Symbol, Any}(:missing_penalty =&gt; 1.0, :alpha =&gt; 0.7, :regtype =&gt; :missing_weight)</td><td style = \"text-align: right;\">0.277904</td><td style = \"text-align: left;\">Adaptive LR</td><td style = \"text-align: left;\">real_X_mar_adv</td><td style = \"text-align: left;\">syn_Y_nn</td></tr><tr><td class = \"rowNumber\" style = \"font-weight: bold; text-align: right;\">403986</td><td style = \"text-align: left;\">wiki4he</td><td style = \"text-align: right;\">2</td><td style = \"text-align: right;\">10</td><td style = \"text-align: right;\">9</td><td style = \"text-align: right;\">9</td><td style = \"text-align: left;\">Adaptive LR - best</td><td style = \"text-align: right;\">0.64988</td><td style = \"text-align: right;\">0.51579</td><td style = \"text-align: left;\">Any[0.558296788859489, 0.7833203209111601, 0.8261275707936606, 0.9199014472716396, 0.7834727312510559, 0.8409729895125997, 0.8997938030600916, 0.8535727641418756, 0.5805474642746684, 0.8881115728036619, 0.4212197422762891, 0.7551462846328494, 0.885025180397143, 0.09360375604395277, -0.06567168209169005, -381.61749429096534, 0.616581299435623, 0.7918116321932581, 0.8856017150886993, -14.686138674342532, 0.8740462259158268, 0.34972445910725347, 0.057352188276455274, 0.8553552812499169, 0.3528988432382755, -2.9198443505081, 0.8337824013655897, -Inf, -Inf, -Inf, -Inf, -Inf, -Inf, -Inf, -Inf, -Inf, -Inf, -Inf, -Inf, -Inf, -Inf, -Inf, -Inf]</td><td style = \"text-align: left;\">Any[0.5162729035696737, 0.1113384758896957, -0.24652527322977913, 0.14416098221726448, 0.749191142216241, 0.9318844049078875, 0.17281233062772572, -0.1807670764941547, -0.21920937287231945, 0.9820670632369634, 0.9247285101436937, 0.7037455443151439, 0.4662620730013507, 0.8180873463205219, 0.10668410565974007, -0.07568550613184089, 0.6571910444533682, -4.339250579663343, 0.9143644418009839, 0.9884024109812617, 0.8924932207879746, 0.7680886712083634, -0.3841749006049273, 0.9759606673544603, 0.759807111215701, -0.24927880805891278, 0.28752405678036996, -3.365222196212356, 0.9850698044428167, 0.8223784260558706, 0.9802494973943371, 0.9963498670989959, -3220.7390586651113, 0.9845169450939917, 0.7362081275313139, 0.7366536925294211, -0.1578870961061043, 0.8431031163064467, 0.9981612297154437, -265.96532164461115, 0.9784739865199593, -8.359345302702563, -9.508005349754688]</td><td style = \"text-align: right;\">499.025</td><td style = \"text-align: left;\">Dict{Symbol, Any}(:missing_penalty =&gt; 1.0, :alpha =&gt; 0.5, :regtype =&gt; :missing_weight)</td><td style = \"text-align: right;\">0.499691</td><td style = \"text-align: left;\">Adaptive LR</td><td style = \"text-align: left;\">real_X_mar_adv</td><td style = \"text-align: left;\">syn_Y_nn</td></tr></tbody></table></div>"
      ],
      "text/latex": [
       "\\begin{tabular}{r|ccccccc}\n",
       "\t& dataset & SNR & k & kMissing & splitnum & method & \\\\\n",
       "\t\\hline\n",
       "\t& String & Int64 & Int64 & Int64 & Int64 & String & \\\\\n",
       "\t\\hline\n",
       "\t1 & COUNT-loomis & 2 & 10 & 0 & 1 & XGBoost & $\\dots$ \\\\\n",
       "\t2 & COUNT-loomis & 2 & 10 & 0 & 1 & Oracle X - linear & $\\dots$ \\\\\n",
       "\t3 & COUNT-loomis & 2 & 10 & 0 & 1 & Oracle XM - linear & $\\dots$ \\\\\n",
       "\t4 & COUNT-loomis & 2 & 10 & 0 & 1 & Complete Features - linear & $\\dots$ \\\\\n",
       "\t5 & COUNT-loomis & 2 & 10 & 0 & 1 & Oracle X - tree & $\\dots$ \\\\\n",
       "\t6 & COUNT-loomis & 2 & 10 & 0 & 1 & Oracle XM - tree & $\\dots$ \\\\\n",
       "\t7 & COUNT-loomis & 2 & 10 & 0 & 1 & Complete Features - tree & $\\dots$ \\\\\n",
       "\t8 & COUNT-loomis & 2 & 10 & 0 & 1 & Oracle X - rf & $\\dots$ \\\\\n",
       "\t9 & COUNT-loomis & 2 & 10 & 0 & 1 & Oracle XM - rf & $\\dots$ \\\\\n",
       "\t10 & COUNT-loomis & 2 & 10 & 0 & 1 & Complete Features - rf & $\\dots$ \\\\\n",
       "\t11 & COUNT-loomis & 2 & 10 & 0 & 1 & CART MIA & $\\dots$ \\\\\n",
       "\t12 & COUNT-loomis & 2 & 10 & 0 & 1 & RF MIA & $\\dots$ \\\\\n",
       "\t13 & COUNT-loomis & 2 & 10 & 0 & 1 & Imp-then-Reg 1 - xgboost & $\\dots$ \\\\\n",
       "\t14 & COUNT-loomis & 2 & 10 & 0 & 1 & Imp-then-Reg 2 - xgboost & $\\dots$ \\\\\n",
       "\t15 & COUNT-loomis & 2 & 10 & 0 & 1 & Imp-then-Reg 3 - xgboost & $\\dots$ \\\\\n",
       "\t16 & COUNT-loomis & 2 & 10 & 0 & 1 & Imp-then-Reg 4 - xgboost & $\\dots$ \\\\\n",
       "\t17 & COUNT-loomis & 2 & 10 & 0 & 1 & Imp-then-Reg 5 - xgboost & $\\dots$ \\\\\n",
       "\t18 & COUNT-loomis & 2 & 10 & 0 & 1 & Adaptive LR - Affine intercept only & $\\dots$ \\\\\n",
       "\t19 & COUNT-loomis & 2 & 10 & 0 & 1 & Adaptive LR - Affine & $\\dots$ \\\\\n",
       "\t20 & COUNT-loomis & 2 & 10 & 0 & 1 & Adaptive LR - Finite & $\\dots$ \\\\\n",
       "\t21 & COUNT-loomis & 2 & 10 & 0 & 1 & Joint Imp-then-Reg - linear & $\\dots$ \\\\\n",
       "\t22 & COUNT-loomis & 2 & 10 & 0 & 1 & Joint Imp-then-Reg - tree & $\\dots$ \\\\\n",
       "\t23 & COUNT-loomis & 2 & 10 & 0 & 1 & Joint Imp-then-Reg - rf & $\\dots$ \\\\\n",
       "\t24 & COUNT-loomis & 2 & 10 & 0 & 10 & XGBoost & $\\dots$ \\\\\n",
       "\t$\\dots$ & $\\dots$ & $\\dots$ & $\\dots$ & $\\dots$ & $\\dots$ & $\\dots$ &  \\\\\n",
       "\\end{tabular}\n"
      ],
      "text/plain": [
       "\u001b[1m403986×16 DataFrame\u001b[0m\n",
       "\u001b[1m    Row \u001b[0m│\u001b[1m dataset      \u001b[0m\u001b[1m SNR   \u001b[0m\u001b[1m k     \u001b[0m\u001b[1m kMissing \u001b[0m\u001b[1m splitnum \u001b[0m\u001b[1m method              \u001b[0m ⋯\n",
       "        │\u001b[90m String       \u001b[0m\u001b[90m Int64 \u001b[0m\u001b[90m Int64 \u001b[0m\u001b[90m Int64    \u001b[0m\u001b[90m Int64    \u001b[0m\u001b[90m String              \u001b[0m ⋯\n",
       "────────┼───────────────────────────────────────────────────────────────────────\n",
       "      1 │ COUNT-loomis      2     10         0         1  XGBoost              ⋯\n",
       "      2 │ COUNT-loomis      2     10         0         1  Oracle X - linear\n",
       "      3 │ COUNT-loomis      2     10         0         1  Oracle XM - linear\n",
       "      4 │ COUNT-loomis      2     10         0         1  Complete Features -\n",
       "      5 │ COUNT-loomis      2     10         0         1  Oracle X - tree      ⋯\n",
       "      6 │ COUNT-loomis      2     10         0         1  Oracle XM - tree\n",
       "      7 │ COUNT-loomis      2     10         0         1  Complete Features -\n",
       "      8 │ COUNT-loomis      2     10         0         1  Oracle X - rf\n",
       "   ⋮    │      ⋮          ⋮      ⋮       ⋮         ⋮                  ⋮        ⋱\n",
       " 403980 │ wiki4he           2     10         9         3  Adaptive LR - best   ⋯\n",
       " 403981 │ wiki4he           2     10         9         4  Adaptive LR - best\n",
       " 403982 │ wiki4he           2     10         9         5  Adaptive LR - best\n",
       " 403983 │ wiki4he           2     10         9         6  Adaptive LR - best\n",
       " 403984 │ wiki4he           2     10         9         7  Adaptive LR - best   ⋯\n",
       " 403985 │ wiki4he           2     10         9         8  Adaptive LR - best\n",
       " 403986 │ wiki4he           2     10         9         9  Adaptive LR - best\n",
       "\u001b[36m                                              11 columns and 403971 rows omitted\u001b[0m"
      ]
     },
     "metadata": {},
     "output_type": "display_data"
    }
   ],
   "source": [
    "res"
   ]
  },
  {
   "cell_type": "code",
   "execution_count": 48,
   "metadata": {},
   "outputs": [
    {
     "data": {
      "text/html": [
       "<div><div style = \"float: left;\"><span>42933×6 DataFrame</span></div><div style = \"float: right;\"><span style = \"font-style: italic;\">42908 rows omitted</span></div><div style = \"clear: both;\"></div></div><div class = \"data-frame\" style = \"overflow-x: scroll;\"><table class = \"data-frame\" style = \"margin-bottom: 6px;\"><thead><tr class = \"header\"><th class = \"rowNumber\" style = \"font-weight: bold; text-align: right;\">Row</th><th style = \"text-align: left;\">dataset</th><th style = \"text-align: left;\">X_setting</th><th style = \"text-align: left;\">Y_setting</th><th style = \"text-align: left;\">kMissing</th><th style = \"text-align: left;\">method</th><th style = \"text-align: left;\">nrow</th></tr><tr class = \"subheader headerLastRow\"><th class = \"rowNumber\" style = \"font-weight: bold; text-align: right;\"></th><th title = \"String\" style = \"text-align: left;\">String</th><th title = \"String15\" style = \"text-align: left;\">String15</th><th title = \"String15\" style = \"text-align: left;\">String15</th><th title = \"Int64\" style = \"text-align: left;\">Int64</th><th title = \"String\" style = \"text-align: left;\">String</th><th title = \"Int64\" style = \"text-align: left;\">Int64</th></tr></thead><tbody><tr><td class = \"rowNumber\" style = \"font-weight: bold; text-align: right;\">1</td><td style = \"text-align: left;\">COUNT-loomis</td><td style = \"text-align: left;\">real_X_mar</td><td style = \"text-align: left;\">syn_Y_linear</td><td style = \"text-align: right;\">0</td><td style = \"text-align: left;\">XGBoost</td><td style = \"text-align: right;\">10</td></tr><tr><td class = \"rowNumber\" style = \"font-weight: bold; text-align: right;\">2</td><td style = \"text-align: left;\">COUNT-loomis</td><td style = \"text-align: left;\">real_X_mar</td><td style = \"text-align: left;\">syn_Y_linear</td><td style = \"text-align: right;\">0</td><td style = \"text-align: left;\">Oracle X - linear</td><td style = \"text-align: right;\">10</td></tr><tr><td class = \"rowNumber\" style = \"font-weight: bold; text-align: right;\">3</td><td style = \"text-align: left;\">COUNT-loomis</td><td style = \"text-align: left;\">real_X_mar</td><td style = \"text-align: left;\">syn_Y_linear</td><td style = \"text-align: right;\">0</td><td style = \"text-align: left;\">Oracle XM - linear</td><td style = \"text-align: right;\">10</td></tr><tr><td class = \"rowNumber\" style = \"font-weight: bold; text-align: right;\">4</td><td style = \"text-align: left;\">COUNT-loomis</td><td style = \"text-align: left;\">real_X_mar</td><td style = \"text-align: left;\">syn_Y_linear</td><td style = \"text-align: right;\">0</td><td style = \"text-align: left;\">Complete Features - linear</td><td style = \"text-align: right;\">10</td></tr><tr><td class = \"rowNumber\" style = \"font-weight: bold; text-align: right;\">5</td><td style = \"text-align: left;\">COUNT-loomis</td><td style = \"text-align: left;\">real_X_mar</td><td style = \"text-align: left;\">syn_Y_linear</td><td style = \"text-align: right;\">0</td><td style = \"text-align: left;\">Oracle X - tree</td><td style = \"text-align: right;\">10</td></tr><tr><td class = \"rowNumber\" style = \"font-weight: bold; text-align: right;\">6</td><td style = \"text-align: left;\">COUNT-loomis</td><td style = \"text-align: left;\">real_X_mar</td><td style = \"text-align: left;\">syn_Y_linear</td><td style = \"text-align: right;\">0</td><td style = \"text-align: left;\">Oracle XM - tree</td><td style = \"text-align: right;\">10</td></tr><tr><td class = \"rowNumber\" style = \"font-weight: bold; text-align: right;\">7</td><td style = \"text-align: left;\">COUNT-loomis</td><td style = \"text-align: left;\">real_X_mar</td><td style = \"text-align: left;\">syn_Y_linear</td><td style = \"text-align: right;\">0</td><td style = \"text-align: left;\">Complete Features - tree</td><td style = \"text-align: right;\">10</td></tr><tr><td class = \"rowNumber\" style = \"font-weight: bold; text-align: right;\">8</td><td style = \"text-align: left;\">COUNT-loomis</td><td style = \"text-align: left;\">real_X_mar</td><td style = \"text-align: left;\">syn_Y_linear</td><td style = \"text-align: right;\">0</td><td style = \"text-align: left;\">Oracle X - rf</td><td style = \"text-align: right;\">10</td></tr><tr><td class = \"rowNumber\" style = \"font-weight: bold; text-align: right;\">9</td><td style = \"text-align: left;\">COUNT-loomis</td><td style = \"text-align: left;\">real_X_mar</td><td style = \"text-align: left;\">syn_Y_linear</td><td style = \"text-align: right;\">0</td><td style = \"text-align: left;\">Oracle XM - rf</td><td style = \"text-align: right;\">10</td></tr><tr><td class = \"rowNumber\" style = \"font-weight: bold; text-align: right;\">10</td><td style = \"text-align: left;\">COUNT-loomis</td><td style = \"text-align: left;\">real_X_mar</td><td style = \"text-align: left;\">syn_Y_linear</td><td style = \"text-align: right;\">0</td><td style = \"text-align: left;\">Complete Features - rf</td><td style = \"text-align: right;\">10</td></tr><tr><td class = \"rowNumber\" style = \"font-weight: bold; text-align: right;\">11</td><td style = \"text-align: left;\">COUNT-loomis</td><td style = \"text-align: left;\">real_X_mar</td><td style = \"text-align: left;\">syn_Y_linear</td><td style = \"text-align: right;\">0</td><td style = \"text-align: left;\">CART MIA</td><td style = \"text-align: right;\">10</td></tr><tr><td class = \"rowNumber\" style = \"font-weight: bold; text-align: right;\">12</td><td style = \"text-align: left;\">COUNT-loomis</td><td style = \"text-align: left;\">real_X_mar</td><td style = \"text-align: left;\">syn_Y_linear</td><td style = \"text-align: right;\">0</td><td style = \"text-align: left;\">RF MIA</td><td style = \"text-align: right;\">10</td></tr><tr><td class = \"rowNumber\" style = \"font-weight: bold; text-align: right;\">13</td><td style = \"text-align: left;\">COUNT-loomis</td><td style = \"text-align: left;\">real_X_mar</td><td style = \"text-align: left;\">syn_Y_linear</td><td style = \"text-align: right;\">0</td><td style = \"text-align: left;\">Imp-then-Reg 1 - xgboost</td><td style = \"text-align: right;\">10</td></tr><tr><td style = \"text-align: right;\">&vellip;</td><td style = \"text-align: right;\">&vellip;</td><td style = \"text-align: right;\">&vellip;</td><td style = \"text-align: right;\">&vellip;</td><td style = \"text-align: right;\">&vellip;</td><td style = \"text-align: right;\">&vellip;</td><td style = \"text-align: right;\">&vellip;</td></tr><tr><td class = \"rowNumber\" style = \"font-weight: bold; text-align: right;\">42922</td><td style = \"text-align: left;\">thyroid-disease-sick</td><td style = \"text-align: left;\">real_X_mar_adv</td><td style = \"text-align: left;\">syn_Y_nn</td><td style = \"text-align: right;\">5</td><td style = \"text-align: left;\">Adaptive LR - best</td><td style = \"text-align: right;\">10</td></tr><tr><td class = \"rowNumber\" style = \"font-weight: bold; text-align: right;\">42923</td><td style = \"text-align: left;\">wiki4he</td><td style = \"text-align: left;\">real_X_mar_adv</td><td style = \"text-align: left;\">syn_Y_nn</td><td style = \"text-align: right;\">0</td><td style = \"text-align: left;\">Adaptive LR - best</td><td style = \"text-align: right;\">9</td></tr><tr><td class = \"rowNumber\" style = \"font-weight: bold; text-align: right;\">42924</td><td style = \"text-align: left;\">wiki4he</td><td style = \"text-align: left;\">real_X_mar_adv</td><td style = \"text-align: left;\">syn_Y_nn</td><td style = \"text-align: right;\">10</td><td style = \"text-align: left;\">Adaptive LR - best</td><td style = \"text-align: right;\">7</td></tr><tr><td class = \"rowNumber\" style = \"font-weight: bold; text-align: right;\">42925</td><td style = \"text-align: left;\">wiki4he</td><td style = \"text-align: left;\">real_X_mar_adv</td><td style = \"text-align: left;\">syn_Y_nn</td><td style = \"text-align: right;\">1</td><td style = \"text-align: left;\">Adaptive LR - best</td><td style = \"text-align: right;\">9</td></tr><tr><td class = \"rowNumber\" style = \"font-weight: bold; text-align: right;\">42926</td><td style = \"text-align: left;\">wiki4he</td><td style = \"text-align: left;\">real_X_mar_adv</td><td style = \"text-align: left;\">syn_Y_nn</td><td style = \"text-align: right;\">2</td><td style = \"text-align: left;\">Adaptive LR - best</td><td style = \"text-align: right;\">9</td></tr><tr><td class = \"rowNumber\" style = \"font-weight: bold; text-align: right;\">42927</td><td style = \"text-align: left;\">wiki4he</td><td style = \"text-align: left;\">real_X_mar_adv</td><td style = \"text-align: left;\">syn_Y_nn</td><td style = \"text-align: right;\">3</td><td style = \"text-align: left;\">Adaptive LR - best</td><td style = \"text-align: right;\">9</td></tr><tr><td class = \"rowNumber\" style = \"font-weight: bold; text-align: right;\">42928</td><td style = \"text-align: left;\">wiki4he</td><td style = \"text-align: left;\">real_X_mar_adv</td><td style = \"text-align: left;\">syn_Y_nn</td><td style = \"text-align: right;\">4</td><td style = \"text-align: left;\">Adaptive LR - best</td><td style = \"text-align: right;\">9</td></tr><tr><td class = \"rowNumber\" style = \"font-weight: bold; text-align: right;\">42929</td><td style = \"text-align: left;\">wiki4he</td><td style = \"text-align: left;\">real_X_mar_adv</td><td style = \"text-align: left;\">syn_Y_nn</td><td style = \"text-align: right;\">5</td><td style = \"text-align: left;\">Adaptive LR - best</td><td style = \"text-align: right;\">9</td></tr><tr><td class = \"rowNumber\" style = \"font-weight: bold; text-align: right;\">42930</td><td style = \"text-align: left;\">wiki4he</td><td style = \"text-align: left;\">real_X_mar_adv</td><td style = \"text-align: left;\">syn_Y_nn</td><td style = \"text-align: right;\">6</td><td style = \"text-align: left;\">Adaptive LR - best</td><td style = \"text-align: right;\">9</td></tr><tr><td class = \"rowNumber\" style = \"font-weight: bold; text-align: right;\">42931</td><td style = \"text-align: left;\">wiki4he</td><td style = \"text-align: left;\">real_X_mar_adv</td><td style = \"text-align: left;\">syn_Y_nn</td><td style = \"text-align: right;\">7</td><td style = \"text-align: left;\">Adaptive LR - best</td><td style = \"text-align: right;\">8</td></tr><tr><td class = \"rowNumber\" style = \"font-weight: bold; text-align: right;\">42932</td><td style = \"text-align: left;\">wiki4he</td><td style = \"text-align: left;\">real_X_mar_adv</td><td style = \"text-align: left;\">syn_Y_nn</td><td style = \"text-align: right;\">8</td><td style = \"text-align: left;\">Adaptive LR - best</td><td style = \"text-align: right;\">8</td></tr><tr><td class = \"rowNumber\" style = \"font-weight: bold; text-align: right;\">42933</td><td style = \"text-align: left;\">wiki4he</td><td style = \"text-align: left;\">real_X_mar_adv</td><td style = \"text-align: left;\">syn_Y_nn</td><td style = \"text-align: right;\">9</td><td style = \"text-align: left;\">Adaptive LR - best</td><td style = \"text-align: right;\">8</td></tr></tbody></table></div>"
      ],
      "text/latex": [
       "\\begin{tabular}{r|cccccc}\n",
       "\t& dataset & X\\_setting & Y\\_setting & kMissing & method & \\\\\n",
       "\t\\hline\n",
       "\t& String & String15 & String15 & Int64 & String & \\\\\n",
       "\t\\hline\n",
       "\t1 & COUNT-loomis & real\\_X\\_mar & syn\\_Y\\_linear & 0 & XGBoost & $\\dots$ \\\\\n",
       "\t2 & COUNT-loomis & real\\_X\\_mar & syn\\_Y\\_linear & 0 & Oracle X - linear & $\\dots$ \\\\\n",
       "\t3 & COUNT-loomis & real\\_X\\_mar & syn\\_Y\\_linear & 0 & Oracle XM - linear & $\\dots$ \\\\\n",
       "\t4 & COUNT-loomis & real\\_X\\_mar & syn\\_Y\\_linear & 0 & Complete Features - linear & $\\dots$ \\\\\n",
       "\t5 & COUNT-loomis & real\\_X\\_mar & syn\\_Y\\_linear & 0 & Oracle X - tree & $\\dots$ \\\\\n",
       "\t6 & COUNT-loomis & real\\_X\\_mar & syn\\_Y\\_linear & 0 & Oracle XM - tree & $\\dots$ \\\\\n",
       "\t7 & COUNT-loomis & real\\_X\\_mar & syn\\_Y\\_linear & 0 & Complete Features - tree & $\\dots$ \\\\\n",
       "\t8 & COUNT-loomis & real\\_X\\_mar & syn\\_Y\\_linear & 0 & Oracle X - rf & $\\dots$ \\\\\n",
       "\t9 & COUNT-loomis & real\\_X\\_mar & syn\\_Y\\_linear & 0 & Oracle XM - rf & $\\dots$ \\\\\n",
       "\t10 & COUNT-loomis & real\\_X\\_mar & syn\\_Y\\_linear & 0 & Complete Features - rf & $\\dots$ \\\\\n",
       "\t11 & COUNT-loomis & real\\_X\\_mar & syn\\_Y\\_linear & 0 & CART MIA & $\\dots$ \\\\\n",
       "\t12 & COUNT-loomis & real\\_X\\_mar & syn\\_Y\\_linear & 0 & RF MIA & $\\dots$ \\\\\n",
       "\t13 & COUNT-loomis & real\\_X\\_mar & syn\\_Y\\_linear & 0 & Imp-then-Reg 1 - xgboost & $\\dots$ \\\\\n",
       "\t14 & COUNT-loomis & real\\_X\\_mar & syn\\_Y\\_linear & 0 & Imp-then-Reg 2 - xgboost & $\\dots$ \\\\\n",
       "\t15 & COUNT-loomis & real\\_X\\_mar & syn\\_Y\\_linear & 0 & Imp-then-Reg 3 - xgboost & $\\dots$ \\\\\n",
       "\t16 & COUNT-loomis & real\\_X\\_mar & syn\\_Y\\_linear & 0 & Imp-then-Reg 4 - xgboost & $\\dots$ \\\\\n",
       "\t17 & COUNT-loomis & real\\_X\\_mar & syn\\_Y\\_linear & 0 & Imp-then-Reg 5 - xgboost & $\\dots$ \\\\\n",
       "\t18 & COUNT-loomis & real\\_X\\_mar & syn\\_Y\\_linear & 0 & Adaptive LR - Affine intercept only & $\\dots$ \\\\\n",
       "\t19 & COUNT-loomis & real\\_X\\_mar & syn\\_Y\\_linear & 0 & Adaptive LR - Affine & $\\dots$ \\\\\n",
       "\t20 & COUNT-loomis & real\\_X\\_mar & syn\\_Y\\_linear & 0 & Adaptive LR - Finite & $\\dots$ \\\\\n",
       "\t21 & COUNT-loomis & real\\_X\\_mar & syn\\_Y\\_linear & 0 & Joint Imp-then-Reg - linear & $\\dots$ \\\\\n",
       "\t22 & COUNT-loomis & real\\_X\\_mar & syn\\_Y\\_linear & 0 & Joint Imp-then-Reg - tree & $\\dots$ \\\\\n",
       "\t23 & COUNT-loomis & real\\_X\\_mar & syn\\_Y\\_linear & 0 & Joint Imp-then-Reg - rf & $\\dots$ \\\\\n",
       "\t24 & Ecdat-MCAS & real\\_X\\_mar & syn\\_Y\\_linear & 0 & XGBoost & $\\dots$ \\\\\n",
       "\t$\\dots$ & $\\dots$ & $\\dots$ & $\\dots$ & $\\dots$ & $\\dots$ &  \\\\\n",
       "\\end{tabular}\n"
      ],
      "text/plain": [
       "\u001b[1m42933×6 DataFrame\u001b[0m\n",
       "\u001b[1m   Row \u001b[0m│\u001b[1m dataset      \u001b[0m\u001b[1m X_setting      \u001b[0m\u001b[1m Y_setting    \u001b[0m\u001b[1m kMissing \u001b[0m\u001b[1m method         \u001b[0m ⋯\n",
       "       │\u001b[90m String       \u001b[0m\u001b[90m String15       \u001b[0m\u001b[90m String15     \u001b[0m\u001b[90m Int64    \u001b[0m\u001b[90m String         \u001b[0m ⋯\n",
       "───────┼────────────────────────────────────────────────────────────────────────\n",
       "     1 │ COUNT-loomis  real_X_mar      syn_Y_linear         0  XGBoost         ⋯\n",
       "     2 │ COUNT-loomis  real_X_mar      syn_Y_linear         0  Oracle X - line\n",
       "     3 │ COUNT-loomis  real_X_mar      syn_Y_linear         0  Oracle XM - lin\n",
       "     4 │ COUNT-loomis  real_X_mar      syn_Y_linear         0  Complete Featur\n",
       "     5 │ COUNT-loomis  real_X_mar      syn_Y_linear         0  Oracle X - tree ⋯\n",
       "     6 │ COUNT-loomis  real_X_mar      syn_Y_linear         0  Oracle XM - tre\n",
       "     7 │ COUNT-loomis  real_X_mar      syn_Y_linear         0  Complete Featur\n",
       "     8 │ COUNT-loomis  real_X_mar      syn_Y_linear         0  Oracle X - rf\n",
       "   ⋮   │      ⋮              ⋮              ⋮           ⋮                  ⋮   ⋱\n",
       " 42927 │ wiki4he       real_X_mar_adv  syn_Y_nn             3  Adaptive LR - b ⋯\n",
       " 42928 │ wiki4he       real_X_mar_adv  syn_Y_nn             4  Adaptive LR - b\n",
       " 42929 │ wiki4he       real_X_mar_adv  syn_Y_nn             5  Adaptive LR - b\n",
       " 42930 │ wiki4he       real_X_mar_adv  syn_Y_nn             6  Adaptive LR - b\n",
       " 42931 │ wiki4he       real_X_mar_adv  syn_Y_nn             7  Adaptive LR - b ⋯\n",
       " 42932 │ wiki4he       real_X_mar_adv  syn_Y_nn             8  Adaptive LR - b\n",
       " 42933 │ wiki4he       real_X_mar_adv  syn_Y_nn             9  Adaptive LR - b\n",
       "\u001b[36m                                                2 columns and 42918 rows omitted\u001b[0m"
      ]
     },
     "metadata": {},
     "output_type": "display_data"
    }
   ],
   "source": [
    "gd = groupby(res, [:dataset, :X_setting, :Y_setting, :kMissing, :method])\n",
    "aggres = combine(gd, nrow)"
   ]
  },
  {
   "cell_type": "code",
   "execution_count": 49,
   "metadata": {},
   "outputs": [],
   "source": [
    "feasible_combinations = unique(aggres[:,[:dataset, :kMissing]])\n",
    "feasible_combinations = crossjoin(\n",
    "                            crossjoin(\n",
    "                                crossjoin(feasible_combinations, DataFrame(splitnum=1:10)),\n",
    "                                DataFrame(X_setting = [\"real_X_mar\", \"real_X_nmar\", \"real_X_mar_adv\"])), \n",
    "                                DataFrame(Y_setting = [\"syn_Y_linear\", \"syn_Y_nn\"])\n",
    "                            )\n",
    "\n",
    "pbdatasets = antijoin(feasible_combinations, unique(res[:,[:dataset, :kMissing, :splitnum, :X_setting, :Y_setting]]), on=[:dataset, :kMissing, :splitnum, :X_setting, :Y_setting])\n",
    "pbdatasets = unique(pbdatasets[:,[:dataset, :X_setting, :Y_setting, :splitnum]])\n",
    "\n",
    "dataset_list = [d for d in readdir(\"../datasets/\") if !startswith(d, \".\")]\n",
    "sort!(dataset_list)\n",
    "\n",
    "pbdatasets[!,:array_num] .= (pbdatasets[:,:splitnum] .- 1) .* 71\n",
    "pbdatasets[!,:array_num] .+= map(t -> findfirst(t .== dataset_list)-1, pbdatasets[:,:dataset])\n",
    "\n",
    "pbdatasets[!,:back_dnum] .= map(t -> dataset_list[mod(t, 71) + 1], pbdatasets[:,:array_num])\n",
    "pbdatasets[!,:back_splitnum] .= map(t -> div(t, 71) + 1, pbdatasets[:,:array_num])\n",
    "\n",
    "@assert all(pbdatasets[:,:back_dnum] .== pbdatasets[:,:dataset])\n",
    "@assert all(pbdatasets[:,:back_splitnum] .== pbdatasets[:,:splitnum])"
   ]
  },
  {
   "cell_type": "code",
   "execution_count": 50,
   "metadata": {},
   "outputs": [
    {
     "data": {
      "text/plain": [
       "list_to_slurmarray (generic function with 1 method)"
      ]
     },
     "metadata": {},
     "output_type": "display_data"
    }
   ],
   "source": [
    "function list_to_slurmarray(l)\n",
    "    s = \"\"\n",
    "    begin_seq = -1; last_seq = -1; is_sequence = false\n",
    "\n",
    "    for an in l\n",
    "        if an == last_seq + 1\n",
    "            last_seq = an\n",
    "        else \n",
    "            if is_sequence\n",
    "                if begin_seq == last_seq\n",
    "                    s *= string(begin_seq)*\",\"\n",
    "                else\n",
    "                    s *= string(begin_seq)*\"-\"*string(last_seq)*\",\"\n",
    "                end\n",
    "            end\n",
    "            begin_seq = an\n",
    "            last_seq = an\n",
    "            is_sequence = true\n",
    "        end\n",
    "    end \n",
    "    s\n",
    "end"
   ]
  },
  {
   "cell_type": "code",
   "execution_count": 51,
   "metadata": {},
   "outputs": [
    {
     "name": "stdout",
     "output_type": "stream",
     "text": [
      "linear\n",
      "mar\n",
      "list_to_slurmarray(l) = \"23-24,31,70,94-95,102,115,165-166,173,186,191,205-206,236-237,257,279,328,333,348,376,378,386,416,449,470,490,499,520,541,567,589,591,612,641,662,683,703,\"\n",
      "nmar\n",
      "list_to_slurmarray(l) = \"4,23,42,49,62-63,70,94-95,115,141,146,165-166,186,212,223,236-237,244,257,307,328,354,378,399,425,449-450,457,470,496,520-521,528,541,548,558,572-573,591,612,628,662,670,\"\n",
      "mar_adv\n",
      "list_to_slurmarray(l) = \"23-24,31,44,70,94-95,102,113,115,141,152,165,186,218,234,236,257,264,274,276,279-280,307,315,328,335,346,378-379,428,430,449-450,457,470,499,507,518,520-521,528,541,548,561,563,570,572,591,612,628,641,643,662,\"\n",
      "\n",
      "nn\n",
      "mar\n",
      "list_to_slurmarray(l) = \"23-24,31,44,70,81,83,94-95,102,115,120,134,147,152,165-166,173,179,186,191,193,203-208,236-237,244,257,276,278,307-308,315,328,333,335,345-347,350,354,365,378-379,386,399,416,419,421-422,425,430,443,449-450,457,464,470,475,477,487-491,493,496,520-521,538,541,546,560-564,567,591-592,599,610,612,617,619,629-635,638,649,652,662-663,670,683,688,699-706,\"\n",
      "nmar\n",
      "list_to_slurmarray(l) = \"23-24,31,44,61-62,70,87,94-95,102,107,115,120,131,134,138,141,155,165-166,173,186,236-237,244,257,275,278,289,294,297,307-308,315,328,365,367,378-379,386,399,441,449-450,457,470,491,493,496,499,501,514,518,520-521,528,536,541,567,570,572,576,591-592,599,612,662-663,670,683,700,\"\n",
      "mar_adv\n",
      "list_to_slurmarray(l) = \"23-24,44,67,70,83,94-95,102,115,132,136-137,147,165-166,173,186,212,226,236-237,244,251,257,271,286,307-308,315,328,363,378-379,397,420,428,430,442-443,449-450,457,470,499,504,520-521,541,559-560,570,591-592,599,612,662-663,670,683,\"\n",
      "\n"
     ]
    }
   ],
   "source": [
    "for y_model in [\"linear\", \"nn\"]\n",
    "    println(y_model)\n",
    "    for m_model = [\"mar\", \"nmar\", \"mar_adv\"]\n",
    "        println(m_model)\n",
    "        aux = filter(t -> t[:Y_setting] == \"syn_Y_\"*y_model && t[:X_setting] == \"real_X_\"*m_model, pbdatasets)\n",
    "        l = sort(unique(aux[:,:array_num]))\n",
    "        @show list_to_slurmarray(l)\n",
    "    end\n",
    "    println()\n",
    "end"
   ]
  },
  {
   "cell_type": "markdown",
   "metadata": {},
   "source": [
    "## For Real Data Experiments"
   ]
  },
  {
   "cell_type": "code",
   "execution_count": 34,
   "metadata": {},
   "outputs": [
    {
     "data": {
      "text/plain": [
       "\"aistats-rev/\""
      ]
     },
     "metadata": {},
     "output_type": "display_data"
    }
   ],
   "source": [
    "prefix"
   ]
  },
  {
   "cell_type": "code",
   "execution_count": 35,
   "metadata": {},
   "outputs": [],
   "source": [
    "for directory = prefix .* [\"realy/\"]\n",
    "    filelist = [f for f in readdir(directory*\"all/\") if endswith(f, \".csv\") && f ∉ [\"all_results.csv\",\"all_results_new.csv\"]]\n",
    "    res = similar(CSV.read(directory*\"all/\"*filelist[1], DataFrame),0)\n",
    "    \n",
    "    # for subdir = [\"2022-08-23/\", \"rf_mia/\"]    \n",
    "    for subdir = [\"all/\", \"itr/\"]\n",
    "        filelist = [f for f in readdir(directory*subdir) if endswith(f, \".csv\") && f ∉ [\"all_results.csv\",\"all_results_new.csv\"]]\n",
    "#         res = similar(CSV.read(directory*subdir*filelist[1], DataFrame),0)\n",
    "        for i in 1:length(filelist)\n",
    "            res = vcat(res, CSV.read(directory*subdir*filelist[i], DataFrame))\n",
    "        end\n",
    "    end\n",
    "\n",
    "#     for subdir = [\"xgb/\"]\n",
    "#         try \n",
    "#             filelist = [f for f in readdir(\"xgboost/\"*directory*subdir) if endswith(f, \".csv\")]\n",
    "#             for i in 1:length(filelist)\n",
    "#                 res = vcat(res, CSV.read(\"xgboost/\"*directory*subdir*filelist[i], DataFrame))\n",
    "#             end\n",
    "#         catch \n",
    "#             println(\"No XGBoost results for \"*directory*subdir)\n",
    "#         end\n",
    "#     end\n",
    "    \n",
    "    # filter!(t -> t[:k] > 0, res) #Remove dataset with only a bias term\n",
    "    res[!,:method_cat] = map(method_category, res[:,:method])\n",
    "    res[!,:X_setting] .= \"real_X\"\n",
    "    res[!,:Y_setting] .= \"real_Y\"\n",
    "    \n",
    "    CSV.write(directory*\"FINAL_results.csv\", res)\n",
    "end"
   ]
  },
  {
   "cell_type": "markdown",
   "metadata": {},
   "source": [
    "Create `best` variant"
   ]
  },
  {
   "cell_type": "code",
   "execution_count": 36,
   "metadata": {},
   "outputs": [
    {
     "data": {
      "text/plain": [
       "\"aistats-rev/realy/FINAL_results.csv\""
      ]
     },
     "metadata": {},
     "output_type": "display_data"
    }
   ],
   "source": [
    "res = CSV.read(prefix*\"realy/\"*\"FINAL_results.csv\", DataFrame)\n",
    "\n",
    "filter!(t -> t[:dataset] ∉ pb_datasets, res)\n",
    "\n",
    "res[!,:method] .= map(t -> (t == \"Affine\" ? \"Adaptive LR - Affine\" : t), res[:,:method]) \n",
    "res[!,:method] .= map(t -> (t == \"Finite\" ? \"Adaptive LR - Finite\" : t), res[:,:method]) \n",
    "res[!,:method] .= map(t -> (t == \"Static\" ? \"Adaptive LR - Affine intercept only\" : t), res[:,:method])\n",
    "\n",
    "for method in [\"Complete Features\", \"Imp-then-Reg 1\", \"Imp-then-Reg 2\", \"Imp-then-Reg 3\", \"Imp-then-Reg 4\", \"Imp-then-Reg 5\", \"Joint Imp-then-Reg\", \"Adaptive LR\"]\n",
    "    aux = filter(t -> startswith(t[:method], method), res)\n",
    "    # @show size(aux)\n",
    "    idcols = [:dataset, :SNR, :k, :kMissing, :splitnum]\n",
    "    gd = groupby(aux, idcols)\n",
    "\n",
    "    aux = similar(aux, 0)\n",
    "    for subdf in gd \n",
    "        scoremax = argmax(subdf[:,:score])\n",
    "        push!(aux, subdf[scoremax,names(aux)])\n",
    "    end\n",
    "    aux[!,:method] .= method*\" - best\"\n",
    "\n",
    "    res = vcat(res, aux)\n",
    "end\n",
    "\n",
    "CSV.write(prefix*\"realy/\"*\"FINAL_results.csv\", res)"
   ]
  },
  {
   "cell_type": "markdown",
   "metadata": {},
   "source": [
    "Sanity check"
   ]
  },
  {
   "cell_type": "code",
   "execution_count": 37,
   "metadata": {
    "collapsed": true
   },
   "outputs": [
    {
     "data": {
      "text/html": [
       "<div><div style = \"float: left;\"><span>8×2 DataFrame</span></div><div style = \"clear: both;\"></div></div><div class = \"data-frame\" style = \"overflow-x: scroll;\"><table class = \"data-frame\" style = \"margin-bottom: 6px;\"><thead><tr class = \"header\"><th class = \"rowNumber\" style = \"font-weight: bold; text-align: right;\">Row</th><th style = \"text-align: left;\">dataset</th><th style = \"text-align: left;\">nrow</th></tr><tr class = \"subheader headerLastRow\"><th class = \"rowNumber\" style = \"font-weight: bold; text-align: right;\"></th><th title = \"String\" style = \"text-align: left;\">String</th><th title = \"Int64\" style = \"text-align: left;\">Int64</th></tr></thead><tbody><tr><td class = \"rowNumber\" style = \"font-weight: bold; text-align: right;\">1</td><td style = \"text-align: left;\">breast-cancer-wisconsin-prognostic</td><td style = \"text-align: right;\">9</td></tr><tr><td class = \"rowNumber\" style = \"font-weight: bold; text-align: right;\">2</td><td style = \"text-align: left;\">communities-and-crime-2</td><td style = \"text-align: right;\">4</td></tr><tr><td class = \"rowNumber\" style = \"font-weight: bold; text-align: right;\">3</td><td style = \"text-align: left;\">communities-and-crime</td><td style = \"text-align: right;\">9</td></tr><tr><td class = \"rowNumber\" style = \"font-weight: bold; text-align: right;\">4</td><td style = \"text-align: left;\">heart-disease-va</td><td style = \"text-align: right;\">9</td></tr><tr><td class = \"rowNumber\" style = \"font-weight: bold; text-align: right;\">5</td><td style = \"text-align: left;\">horse-colic</td><td style = \"text-align: right;\">9</td></tr><tr><td class = \"rowNumber\" style = \"font-weight: bold; text-align: right;\">6</td><td style = \"text-align: left;\">mammographic-mass</td><td style = \"text-align: right;\">9</td></tr><tr><td class = \"rowNumber\" style = \"font-weight: bold; text-align: right;\">7</td><td style = \"text-align: left;\">mlmRev-star</td><td style = \"text-align: right;\">4</td></tr><tr><td class = \"rowNumber\" style = \"font-weight: bold; text-align: right;\">8</td><td style = \"text-align: left;\">thyroid-disease-allhypo</td><td style = \"text-align: right;\">7</td></tr></tbody></table></div>"
      ],
      "text/latex": [
       "\\begin{tabular}{r|cc}\n",
       "\t& dataset & nrow\\\\\n",
       "\t\\hline\n",
       "\t& String & Int64\\\\\n",
       "\t\\hline\n",
       "\t1 & breast-cancer-wisconsin-prognostic & 9 \\\\\n",
       "\t2 & communities-and-crime-2 & 4 \\\\\n",
       "\t3 & communities-and-crime & 9 \\\\\n",
       "\t4 & heart-disease-va & 9 \\\\\n",
       "\t5 & horse-colic & 9 \\\\\n",
       "\t6 & mammographic-mass & 9 \\\\\n",
       "\t7 & mlmRev-star & 4 \\\\\n",
       "\t8 & thyroid-disease-allhypo & 7 \\\\\n",
       "\\end{tabular}\n"
      ],
      "text/plain": [
       "\u001b[1m8×2 DataFrame\u001b[0m\n",
       "\u001b[1m Row \u001b[0m│\u001b[1m dataset                           \u001b[0m\u001b[1m nrow  \u001b[0m\n",
       "     │\u001b[90m String                            \u001b[0m\u001b[90m Int64 \u001b[0m\n",
       "─────┼──────────────────────────────────────────\n",
       "   1 │ breast-cancer-wisconsin-prognost…      9\n",
       "   2 │ communities-and-crime-2                4\n",
       "   3 │ communities-and-crime                  9\n",
       "   4 │ heart-disease-va                       9\n",
       "   5 │ horse-colic                            9\n",
       "   6 │ mammographic-mass                      9\n",
       "   7 │ mlmRev-star                            4\n",
       "   8 │ thyroid-disease-allhypo                7"
      ]
     },
     "metadata": {},
     "output_type": "display_data"
    }
   ],
   "source": [
    "res = CSV.read(prefix*\"realy/\"*\"FINAL_results.csv\", DataFrame)\n",
    "unique(filter( t-> t[:nrow] < 10, combine(groupby(res, [:dataset, :method]), nrow))[:,[:dataset, :nrow]])"
   ]
  },
  {
   "cell_type": "code",
   "execution_count": 38,
   "metadata": {},
   "outputs": [
    {
     "data": {
      "text/plain": [
       "40-element Vector{String}:\n",
       " \"XGBoost\"\n",
       " \"Complete Features - linear\"\n",
       " \"Complete Features - tree\"\n",
       " \"Complete Features - rf\"\n",
       " \"CART MIA\"\n",
       " \"RF MIA\"\n",
       " \"Imp-then-Reg 1 - xgboost\"\n",
       " \"Imp-then-Reg 2 - xgboost\"\n",
       " \"Imp-then-Reg 3 - xgboost\"\n",
       " \"Imp-then-Reg 4 - xgboost\"\n",
       " ⋮\n",
       " \"Imp-then-Reg 5 - rf\"\n",
       " \"Complete Features - best\"\n",
       " \"Imp-then-Reg 1 - best\"\n",
       " \"Imp-then-Reg 2 - best\"\n",
       " \"Imp-then-Reg 3 - best\"\n",
       " \"Imp-then-Reg 4 - best\"\n",
       " \"Imp-then-Reg 5 - best\"\n",
       " \"Joint Imp-then-Reg - best\"\n",
       " \"Adaptive LR - best\""
      ]
     },
     "metadata": {},
     "output_type": "display_data"
    }
   ],
   "source": [
    "unique(res[:,:method])"
   ]
  },
  {
   "cell_type": "code",
   "execution_count": 39,
   "metadata": {},
   "outputs": [
    {
     "data": {
      "text/plain": [
       "71-element Vector{String}:\n",
       " \"COUNT-loomis\"\n",
       " \"Ecdat-MCAS\"\n",
       " \"Ecdat-Males\"\n",
       " \"Ecdat-Mofa\"\n",
       " \"Ecdat-RetSchool\"\n",
       " \"Ecdat-Schooling\"\n",
       " \"MASS-Cars93\"\n",
       " \"MASS-Pima.tr2\"\n",
       " \"MASS-survey\"\n",
       " \"Zelig-coalition2\"\n",
       " ⋮\n",
       " \"thyroid-disease-allhyper\"\n",
       " \"thyroid-disease-allhypo\"\n",
       " \"thyroid-disease-allrep\"\n",
       " \"thyroid-disease-dis\"\n",
       " \"thyroid-disease-sick\"\n",
       " \"thyroid-disease-sick-euthyroid\"\n",
       " \"thyroid-disease-thyroid-0387\"\n",
       " \"trains\"\n",
       " \"wiki4he\""
      ]
     },
     "metadata": {},
     "output_type": "display_data"
    }
   ],
   "source": [
    "dataset_list = [d for d in readdir(\"../datasets/\") if !startswith(d, \".\")]\n",
    "sort!(dataset_list)"
   ]
  },
  {
   "cell_type": "code",
   "execution_count": 40,
   "metadata": {},
   "outputs": [
    {
     "data": {
      "text/plain": [
       "8-element Vector{String}:\n",
       " \"breast-cancer-wisconsin-prognostic\"\n",
       " \"communities-and-crime-2\"\n",
       " \"communities-and-crime\"\n",
       " \"heart-disease-va\"\n",
       " \"horse-colic\"\n",
       " \"mammographic-mass\"\n",
       " \"mlmRev-star\"\n",
       " \"thyroid-disease-allhypo\""
      ]
     },
     "metadata": {},
     "output_type": "display_data"
    }
   ],
   "source": [
    "unique(filter(t -> t[:nrow] < 10, combine(groupby(filter(t -> !startswith(t[:method], \"Imp-then-Reg 4 - linear\"), res), [:dataset, :method]), nrow))[:,:dataset])"
   ]
  },
  {
   "cell_type": "code",
   "execution_count": 41,
   "metadata": {},
   "outputs": [
    {
     "data": {
      "text/plain": [
       "Any[]"
      ]
     },
     "metadata": {},
     "output_type": "display_data"
    }
   ],
   "source": [
    "unfinished_datasets = filter(t -> t[:nrow] < 10, \n",
    "    combine(\n",
    "        groupby(    combine(groupby(filter(t -> !startswith(t[:method], \"Imp-then-Reg 4 - linear\"), res), [:dataset, :method]), nrow), \n",
    "                    [:dataset]), \n",
    "        :nrow => maximum => :nrow))[:,:dataset]\n",
    "sort([findfirst(i .== dataset_list)-1 for i in unfinished_datasets])"
   ]
  },
  {
   "cell_type": "code",
   "execution_count": 45,
   "metadata": {},
   "outputs": [
    {
     "data": {
      "text/plain": [
       "8-element Vector{Int64}:\n",
       " 16\n",
       " 23\n",
       " 24\n",
       " 36\n",
       " 38\n",
       " 41\n",
       " 43\n",
       " 63"
      ]
     },
     "metadata": {},
     "output_type": "display_data"
    }
   ],
   "source": [
    "unfinished_datasets = filter(t -> t[:nrow] < 10, \n",
    "    combine(\n",
    "        groupby(    combine(groupby(res, [:dataset, :method]), nrow), \n",
    "                    [:dataset]), \n",
    "        :nrow => minimum => :nrow))[:,:dataset]\n",
    "sort([findfirst(i .== dataset_list)-1 for i in unfinished_datasets])"
   ]
  },
  {
   "cell_type": "code",
   "execution_count": 44,
   "metadata": {},
   "outputs": [
    {
     "data": {
      "text/plain": [
       "7-element Vector{Int64}:\n",
       " 16\n",
       " 23\n",
       " 24\n",
       " 36\n",
       " 38\n",
       " 41\n",
       " 43"
      ]
     },
     "metadata": {},
     "output_type": "display_data"
    }
   ],
   "source": [
    "unfinished_datasets = filter(t -> t[:nrow] < 10, \n",
    "    combine(\n",
    "        groupby(    combine(groupby(filter(t -> !startswith(t[:method], \"Imp-then-Reg\"), res), [:dataset, :method]), nrow), \n",
    "                    [:dataset]), \n",
    "        :nrow => minimum => :nrow))[:,:dataset]\n",
    "sort([findfirst(i .== dataset_list)-1 for i in unfinished_datasets])"
   ]
  },
  {
   "cell_type": "code",
   "execution_count": null,
   "metadata": {},
   "outputs": [],
   "source": [
    "setdiff(), pb_datasets)"
   ]
  },
  {
   "cell_type": "code",
   "execution_count": null,
   "metadata": {},
   "outputs": [],
   "source": []
  },
  {
   "cell_type": "markdown",
   "metadata": {},
   "source": [
    "# For Synthetic-Data Experiments"
   ]
  },
  {
   "cell_type": "code",
   "execution_count": null,
   "metadata": {},
   "outputs": [],
   "source": [
    "1+1"
   ]
  },
  {
   "cell_type": "code",
   "execution_count": null,
   "metadata": {},
   "outputs": [],
   "source": [
    "setting = prefix*\"synthetic_discrete/\"\n",
    "# for y_model in [\"linear\", \"tree\", \"nn\"]\n",
    "for y_model in [\"linear\", \"nn\"]\n",
    "    for m_model = [\"mar\", \"censoring\"]\n",
    "        dir = y_model*\"_\"*m_model*\"/\"\n",
    "        directory = setting*dir\n",
    "        \n",
    "        filelist = [f for f in readdir(directory*\"all/\") if endswith(f, \".csv\") && f ∉ [\"all_results.csv\",\"all_results_new.csv\"]]\n",
    "        res = similar(CSV.read(directory*\"all/\"*filelist[1], DataFrame),0)\n",
    "\n",
    "        for subdir = [\"all/\"]\n",
    "            filelist = [f for f in readdir(directory*subdir) if endswith(f, \".csv\") && f ∉ [\"all_results.csv\",\"all_results_new.csv\"]]\n",
    "            @show filelist\n",
    "\n",
    "    #         res = similar(CSV.read(directory*subdir*filelist[1], DataFrame),0)\n",
    "            for i in 1:length(filelist)\n",
    "                aux = CSV.read(directory*subdir*filelist[i], DataFrame)\n",
    "                # if any(aux[:,:kMissing] .> 0)\n",
    "                #     missingproba = unique(aux[aux[:,:pMissing] .> 0,:pMissing])[1]\n",
    "                #     aux[!,:pMissing] .= missingproba\n",
    "                # end\n",
    "                try\n",
    "                    res = vcat(res, aux)\n",
    "                catch \n",
    "                    println(\"Error with \", directory*subdir*filelist[i])\n",
    "                end\n",
    "            end\n",
    "        end\n",
    "\n",
    "        # for subdir = [\"xgb/\"]\n",
    "        #     try \n",
    "        #         filelist = [f for f in readdir(\"xgboost/\"*directory*subdir) if endswith(f, \".csv\")]\n",
    "        #         for i in 1:length(filelist)\n",
    "        #             res = vcat(res, CSV.read(\"xgboost/\"*directory*subdir*filelist[i], DataFrame))\n",
    "        #         end\n",
    "        #     catch \n",
    "        #         println(\"No XGBoost results for \"*directory*subdir)\n",
    "        #     end\n",
    "        # end\n",
    "\n",
    "        res[!,:method] .= map(t -> replace(t, \"Encoding as new category\" => \"Imp-then-Reg 4\"), res[:,:method])\n",
    "        res[!,:method] .= map(t -> replace(t, \"Mode impute\" => \"Imp-then-Reg 5\"), res[:,:method])\n",
    "\n",
    "        # filter!(t -> t[:k] > 0, res) #Remove dataset with only a bias term\n",
    "        res[!,:method_cat] = map(method_category, res[:,:method])\n",
    "        res[!,:X_setting] .= \"syn_X_\"*m_model\n",
    "        res[!,:Y_setting] .= \"syn_Y_\"*y_model\n",
    "\n",
    "        for method in [\"Imp-then-Reg 4\", \"Imp-then-Reg 5\"]\n",
    "            aux = filter(t -> startswith(t[:method], method), res)\n",
    "            # @show nrow(aux)\n",
    "            idcols = [:dataset, :X_setting, :Y_setting, :SNR, :k, :pMissing, :splitnum]\n",
    "            gd = groupby(aux, idcols)\n",
    "\n",
    "            aux = similar(aux, 0)\n",
    "            for subdf in gd \n",
    "                scoremax = argmax(subdf[:,:score])\n",
    "                # @show subdf[scoremax,names(aux)]\n",
    "                push!(aux, subdf[scoremax,names(aux)])\n",
    "            end\n",
    "            aux[!,:method] .= method*\" - best\"\n",
    "\n",
    "            res = vcat(res, aux)\n",
    "        end\n",
    "\n",
    "        CSV.write(directory*\"FINAL_results.csv\", res)   \n",
    "    end\n",
    "end"
   ]
  },
  {
   "cell_type": "code",
   "execution_count": null,
   "metadata": {},
   "outputs": [],
   "source": [
    "setting = prefix*\"synthetic/\"\n",
    "files_with_issues = []\n",
    "# for y_model in [\"linear\", \"tree\", \"nn\"]\n",
    "for y_model in [\"linear\", \"nn\"]\n",
    "    for m_model = [\"mar\", \"censoring\"]\n",
    "        dir = y_model*\"_\"*m_model*\"/\"\n",
    "        directory = setting*dir\n",
    "        filelist = [f for f in readdir(directory*\"all/\") if endswith(f, \".csv\") && f ∉ [\"all_results.csv\",\"all_results_new.csv\"]]\n",
    "        res = similar(CSV.read(directory*\"all/\"*filelist[1], DataFrame),0)\n",
    "        for subdir = [\"all/\"]\n",
    "            filelist = [f for f in readdir(directory*subdir) if endswith(f, \".csv\") && f ∉ [\"all_results.csv\",\"all_results_new.csv\"]]\n",
    "    #         res = similar(CSV.read(directory*subdir*filelist[1], DataFrame),0)\n",
    "            for i in 1:length(filelist)\n",
    "                try\n",
    "                    aux = CSV.read(directory*subdir*filelist[i], DataFrame)\n",
    "                    if any(aux[:,:pMissing] .> 0)\n",
    "                        missingproba = unique(aux[aux[:,:pMissing] .> 0,:pMissing])[1]\n",
    "                        aux[!,:pMissing] .= missingproba\n",
    "                    end\n",
    "                    res = vcat(res, aux)\n",
    "                catch \n",
    "                    println(\"Error with \", directory*subdir*filelist[i])\n",
    "                    push!(files_with_issues, directory*subdir*filelist[i])\n",
    "                end\n",
    "            end\n",
    "        end\n",
    "\n",
    "        # for subdir = [\"xgb/\"]\n",
    "        #     try \n",
    "        #         filelist = [f for f in readdir(\"xgboost/\"*directory*subdir) if endswith(f, \".csv\")]\n",
    "        #         for i in 1:length(filelist)\n",
    "        #             res = vcat(res, CSV.read(\"xgboost/\"*directory*subdir*filelist[i], DataFrame))\n",
    "        #         end\n",
    "        #     catch \n",
    "        #         println(\"No XGBoost results for \"*directory*subdir)\n",
    "        #     end\n",
    "        # end\n",
    "\n",
    "        # filter!(t -> t[:k] > 0, res) #Remove dataset with only a bias term\n",
    "        res[!,:method_cat] = map(method_category, res[:,:method])\n",
    "        res[!,:X_setting] .= \"syn_X_\"*m_model\n",
    "        res[!,:Y_setting] .= \"syn_Y_\"*y_model\n",
    "\n",
    "        for method in [\"Oracle X\", \"Oracle XM\", \"Complete Features\", \"Imp-then-Reg 1\", \"Imp-then-Reg 2\", \"Imp-then-Reg 3\", \"Imp-then-Reg 4\", \"Imp-then-Reg 5\", \"Joint Imp-then-Reg\", \"Adaptive LR\"]\n",
    "            aux = filter(t -> startswith(t[:method], method), res)\n",
    "\n",
    "            idcols = [:dataset, :X_setting, :Y_setting, :SNR, :k, :pMissing, :splitnum]\n",
    "            gd = groupby(aux, idcols)\n",
    "\n",
    "            aux = similar(aux, 0)\n",
    "            for subdf in gd \n",
    "                scoremax = argmax(subdf[:,:score])\n",
    "                push!(aux, subdf[scoremax,names(aux)])\n",
    "            end\n",
    "            aux[!,:method] .= method*\" - best\"\n",
    "\n",
    "            res = vcat(res, aux)\n",
    "        end\n",
    "        \n",
    "        CSV.write(directory*\"FINAL_results.csv\", res)   \n",
    "    end\n",
    "end"
   ]
  },
  {
   "cell_type": "code",
   "execution_count": null,
   "metadata": {},
   "outputs": [],
   "source": [
    "setting"
   ]
  },
  {
   "cell_type": "code",
   "execution_count": null,
   "metadata": {},
   "outputs": [],
   "source": [
    "files_with_issues"
   ]
  },
  {
   "cell_type": "code",
   "execution_count": null,
   "metadata": {},
   "outputs": [],
   "source": [
    "# setting = \"synthetic/\"\n",
    "# # for y_model in [\"linear\", \"tree\", \"nn\"]\n",
    "# for y_model in [\"linear\", \"nn\"]\n",
    "#     for m_model = [\"mar\", \"censoring\"]\n",
    "#         dir = y_model*\"_\"*m_model*\"/\"\n",
    "#         directory = setting*dir\n",
    "        \n",
    "#         filelist = [f for f in readdir(directory*\"final/\") if endswith(f, \".csv\") && f ∉ [\"all_results.csv\",\"all_results_new.csv\"]]\n",
    "#         res = similar(CSV.read(directory*\"final/\"*filelist[1], DataFrame),0)\n",
    "\n",
    "#         for subdir = [\"high_n/\"]\n",
    "#             filelist = [f for f in readdir(directory*subdir) if endswith(f, \".csv\") && f ∉ [\"all_results.csv\",\"all_results_new.csv\"]]\n",
    "#     #         res = similar(CSV.read(directory*subdir*filelist[1], DataFrame),0)\n",
    "#             for i in 1:length(filelist)\n",
    "#                 aux = CSV.read(directory*subdir*filelist[i], DataFrame)\n",
    "#                 if any(aux[:,:pMissing] .> 0)\n",
    "#                     missingproba = unique(aux[aux[:,:pMissing] .> 0,:pMissing])[1]\n",
    "#                     aux[!,:pMissing] .= missingproba\n",
    "#                 end\n",
    "#                 try\n",
    "#                     res = vcat(res, aux)\n",
    "#                 catch \n",
    "#                     println(\"Error with \", directory*subdir*filelist[i])\n",
    "#                 end\n",
    "#             end\n",
    "#         end\n",
    "#         # filter!(t -> t[:k] > 0, res) #Remove dataset with only a bias term\n",
    "#         res[!,:method_cat] = map(method_category, res[:,:method])\n",
    "#         res[!,:X_setting] .= \"syn_X_\"*m_model\n",
    "#         res[!,:Y_setting] .= \"syn_Y_\"*y_model\n",
    "\n",
    "#         CSV.write(directory*\"HIGHN_results.csv\", res)   \n",
    "#     end\n",
    "# end"
   ]
  },
  {
   "cell_type": "code",
   "execution_count": null,
   "metadata": {},
   "outputs": [],
   "source": [
    "1+1"
   ]
  },
  {
   "cell_type": "markdown",
   "metadata": {},
   "source": [
    "Sanity check"
   ]
  },
  {
   "cell_type": "code",
   "execution_count": null,
   "metadata": {
    "collapsed": true
   },
   "outputs": [],
   "source": [
    "df = CSV.read(prefix*\"synthetic/linear_mar/FINAL_results.csv\", DataFrame) \n",
    "df[!,:setting] .= \"1 - Lin-MAR\"\n",
    "\n",
    "aux = CSV.read(prefix*\"synthetic/linear_censoring/FINAL_results.csv\", DataFrame) \n",
    "aux[!,:setting] .= \"2 - Lin-NMAR\"\n",
    "df = vcat(df, aux)\n",
    " \n",
    "# aux = CSV.read(prefix*\"synthetic/tree_mar/FINAL_results.csv\", DataFrame) \n",
    "# aux[!,:setting] .= \"3 - Tree-MAR\"\n",
    "# df = vcat(df, aux)\n",
    "\n",
    "# aux = CSV.read(prefix*\"synthetic/tree_censoring/FINAL_results.csv\", DataFrame) \n",
    "# aux[!,:setting] .= \"4 - Tree-NMAR\"\n",
    "# df = vcat(df, aux)\n",
    "\n",
    "aux = CSV.read(prefix*\"synthetic/nn_mar/FINAL_results.csv\", DataFrame) \n",
    "aux[!,:setting] .= \"5 - NN-MAR\"\n",
    "df = vcat(df, aux)\n",
    "\n",
    "aux = CSV.read(prefix*\"synthetic/nn_censoring/FINAL_results.csv\", DataFrame) \n",
    "aux[!,:setting] .= \"6 - NN-NMAR\"\n",
    "df = vcat(df, aux)\n",
    "\n",
    ";"
   ]
  },
  {
   "cell_type": "code",
   "execution_count": null,
   "metadata": {},
   "outputs": [],
   "source": [
    "df = CSV.read(prefix*\"synthetic_discrete/linear_mar/FINAL_results.csv\", DataFrame) \n",
    "df[!,:setting] .= \"1 - Lin-MAR\"\n",
    "\n",
    "aux = CSV.read(prefix*\"synthetic_discrete/linear_censoring/FINAL_results.csv\", DataFrame) \n",
    "aux[!,:setting] .= \"2 - Lin-NMAR\"\n",
    "df = vcat(df, aux)\n",
    " \n",
    "# aux = CSV.read(prefix*\"synthetic_discrete/tree_mar/FINAL_results.csv\", DataFrame) \n",
    "# aux[!,:setting] .= \"3 - Tree-MAR\"\n",
    "# df = vcat(df, aux)\n",
    "\n",
    "# aux = CSV.read(prefix*\"synthetic_discrete/tree_censoring/FINAL_results.csv\", DataFrame) \n",
    "# aux[!,:setting] .= \"4 - Tree-NMAR\"\n",
    "# df = vcat(df, aux)\n",
    "\n",
    "aux = CSV.read(prefix*\"synthetic_discrete/nn_mar/FINAL_results.csv\", DataFrame) \n",
    "aux[!,:setting] .= \"5 - NN-MAR\"\n",
    "df = vcat(df, aux)\n",
    "\n",
    "aux = CSV.read(prefix*\"synthetic_discrete/nn_censoring/FINAL_results.csv\", DataFrame) \n",
    "aux[!,:setting] .= \"6 - NN-NMAR\"\n",
    "df = vcat(df, aux)"
   ]
  },
  {
   "cell_type": "code",
   "execution_count": null,
   "metadata": {
    "collapsed": true
   },
   "outputs": [],
   "source": [
    "combine(groupby(df, [:dataset, :method, :setting]), nrow)"
   ]
  },
  {
   "cell_type": "code",
   "execution_count": null,
   "metadata": {
    "collapsed": true
   },
   "outputs": [],
   "source": [
    "unique(combine(groupby(df, [:dataset, :method, :setting]), nrow)[:,:nrow])"
   ]
  },
  {
   "cell_type": "code",
   "execution_count": null,
   "metadata": {
    "collapsed": true
   },
   "outputs": [],
   "source": [
    "filter( t-> t[:nrow] < 90, combine(groupby(res, [:dataset, :method, :setting]), nrow))"
   ]
  },
  {
   "cell_type": "code",
   "execution_count": null,
   "metadata": {
    "collapsed": true
   },
   "outputs": [],
   "source": [
    "pbdata = unique(filter( t -> t[:nrow] < 90, combine(groupby(df, [:dataset, :method, :setting]), nrow))[:,[:method, :setting, :dataset]])"
   ]
  },
  {
   "cell_type": "code",
   "execution_count": null,
   "metadata": {
    "collapsed": true
   },
   "outputs": [],
   "source": [
    "aux = filter( t -> t[:dataset] ∈ pbdata && t[:nrow] < 10, combine(groupby(df, [:dataset, :method, :setting, :pMissing]), nrow))\n",
    "unique(aux[:,[:dataset, :setting, :pMissing, :nrow]])"
   ]
  },
  {
   "cell_type": "code",
   "execution_count": null,
   "metadata": {
    "collapsed": true
   },
   "outputs": [],
   "source": [
    "filter(t -> t[:pMissing] == 0.1, unique(aux[:,[:dataset, :setting, :pMissing, :nrow]]))"
   ]
  },
  {
   "cell_type": "code",
   "execution_count": null,
   "metadata": {
    "collapsed": true
   },
   "outputs": [],
   "source": [
    "filter(t -> t[:pMissing] == 0.3, unique(aux[:,[:dataset, :setting, :pMissing, :nrow]]))"
   ]
  },
  {
   "cell_type": "code",
   "execution_count": null,
   "metadata": {
    "collapsed": true
   },
   "outputs": [],
   "source": [
    "filter(t -> startswith(t[:setting], \"5\"), unique(aux[:,[:dataset, :setting, :pMissing, :nrow]]))"
   ]
  }
 ],
 "metadata": {
  "@webio": {
   "lastCommId": null,
   "lastKernelId": null
  },
  "kernelspec": {
   "display_name": "Julia 1.9.3",
   "language": "julia",
   "name": "julia-1.9"
  },
  "language_info": {
   "file_extension": ".jl",
   "mimetype": "application/julia",
   "name": "julia",
   "version": "1.9.3"
  }
 },
 "nbformat": 4,
 "nbformat_minor": 2
}
