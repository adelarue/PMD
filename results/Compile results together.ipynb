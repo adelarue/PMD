{
 "cells": [
  {
   "cell_type": "code",
   "execution_count": 1,
   "metadata": {},
   "outputs": [],
   "source": [
    "using CSV, DataFrames, Statistics"
   ]
  },
  {
   "cell_type": "code",
   "execution_count": 2,
   "metadata": {},
   "outputs": [
    {
     "data": {
      "text/plain": [
       "\"tmlr-rev/\""
      ]
     },
     "metadata": {},
     "output_type": "display_data"
    }
   ],
   "source": [
    "# prefix = \"aistats-rev/\"\n",
    "prefix = \"tmlr-rev/\""
   ]
  },
  {
   "cell_type": "code",
   "execution_count": 3,
   "metadata": {},
   "outputs": [
    {
     "data": {
      "text/plain": [
       "method_category (generic function with 1 method)"
      ]
     },
     "metadata": {},
     "output_type": "display_data"
    }
   ],
   "source": [
    "function method_category(meth)\n",
    "    if startswith(meth, \"Imp-then-Reg\")\n",
    "        return \"Imp-then-Reg\"\n",
    "    elseif startswith(meth, \"Joint Imp-then-Reg\")\n",
    "        return \"Joint Imp-then-Reg\"\n",
    "    elseif meth ∈ [\"Static\", \"Affine\", \"Finite\"]\n",
    "        return \"Adaptive LR\"\n",
    "    elseif startswith(meth, \"Complete Features\")\n",
    "        return \"Complete Features\"\n",
    "    else \n",
    "        return meth\n",
    "    end\n",
    "end"
   ]
  },
  {
   "cell_type": "code",
   "execution_count": 4,
   "metadata": {},
   "outputs": [
    {
     "data": {
      "text/plain": [
       "8-element Vector{String}:\n",
       " \"cylinder-bands\"\n",
       " \"ozone-level-detection-eight\"\n",
       " \"ozone-level-detection-one\"\n",
       " \"thyroid-disease-thyroid-0387\"\n",
       " \"trains\"\n",
       " \"credit-approval\"\n",
       " \"Ecdat-Mofa\"\n",
       " \"sleep\""
      ]
     },
     "metadata": {},
     "output_type": "display_data"
    }
   ],
   "source": [
    "pb_datasets = [\"cylinder-bands\", \"ozone-level-detection-eight\", \"ozone-level-detection-one\", \"thyroid-disease-thyroid-0387\", \"trains\",\n",
    "                \"credit-approval\", \"Ecdat-Mofa\", \"sleep\"]"
   ]
  },
  {
   "cell_type": "markdown",
   "metadata": {},
   "source": [
    "## For Real X - Syn Y Experiments"
   ]
  },
  {
   "cell_type": "code",
   "execution_count": 5,
   "metadata": {},
   "outputs": [],
   "source": [
    "# prefix =\"aistats-rev/\"\n",
    "prefix = \"tmlr-rev/\"\n",
    "\n",
    "setting = prefix*\"fakey/\"\n",
    "for y_model in [\"linear\", \"nn\"]\n",
    "    for m_model = [\"mar\", \"nmar\", \"mar_adv\"]\n",
    "        dir = y_model*\"_\"*m_model*\"/\"\n",
    "        directory = setting*dir\n",
    "        \n",
    "        # filelist = [f for f in readdir(directory*\"all/\") if endswith(f, \".csv\")]\n",
    "        # res = similar(CSV.read(directory*\"all/\"*filelist[1], DataFrame),0)\n",
    "        \n",
    "        # for subdir = [\"all/\", \"itr/\", \"itr_nn/\"]\n",
    "        filelist = [f for f in readdir(directory*\"itr_nn/\") if endswith(f, \".csv\")]\n",
    "        res = similar(CSV.read(directory*\"itr_nn/\"*filelist[1], DataFrame),0)\n",
    "        \n",
    "        for subdir = [\"itr_nn/\"]\n",
    "            filelist = [f for f in readdir(directory*subdir) if endswith(f, \".csv\")]\n",
    "#             res = similar(CSV.read(directory*subdir*filelist[1], DataFrame),0)\n",
    "            for i in 1:length(filelist)\n",
    "                res = vcat(res, CSV.read(directory*subdir*filelist[i], DataFrame))\n",
    "            end\n",
    "        end\n",
    "\n",
    "        res[!,:method_cat] = map(t -> method_category(t), res[:,:method])\n",
    "        res[!,:X_setting] .= \"real_X_\"*m_model\n",
    "        res[!,:Y_setting] .= \"syn_Y_\"*y_model\n",
    "\n",
    "        CSV.write(directory*\"FINAL_results.csv\", res)\n",
    "    end\n",
    "end"
   ]
  },
  {
   "cell_type": "code",
   "execution_count": 6,
   "metadata": {},
   "outputs": [],
   "source": [
    "setting = prefix*\"fakey/\"\n",
    "\n",
    "for y_model in [\"linear\", \"nn\"]\n",
    "    for m_model = [\"mar\", \"nmar\", \"mar_adv\"]\n",
    "        dir = y_model*\"_\"*m_model*\"/\"\n",
    "        directory = setting*dir\n",
    "  \n",
    "        res = CSV.read(directory*\"FINAL_results.csv\", DataFrame)\n",
    "        \n",
    "        res[!,:method] .= map(t -> (t == \"Affine\" ? \"Adaptive LR - Affine\" : t), res[:,:method]) \n",
    "        res[!,:method] .= map(t -> (t == \"Finite\" ? \"Adaptive LR - Finite\" : t), res[:,:method]) \n",
    "        res[!,:method] .= map(t -> (t == \"Static\" ? \"Adaptive LR - Affine intercept only\" : t), res[:,:method])\n",
    "        \n",
    "        filter!(t -> t[:dataset] ∉ pb_datasets, res)\n",
    "\n",
    "        for method in [\"Oracle X\", \"Oracle XM\", \"Complete Features\", \"Imp-then-Reg 1\", \"Imp-then-Reg 2\", \"Imp-then-Reg 3\", \"Imp-then-Reg 4\", \"Imp-then-Reg 5\", \"Joint Imp-then-Reg\", \"Adaptive LR\"]\n",
    "            aux = filter(t -> startswith(t[:method], method), res)\n",
    "\n",
    "            idcols = [:dataset, :X_setting, :Y_setting, :SNR, :k, :kMissing, :splitnum]\n",
    "            gd = groupby(aux, idcols)\n",
    "\n",
    "            aux = similar(aux, 0)\n",
    "            for subdf in gd \n",
    "                scoremax = argmax(subdf[:,:score])\n",
    "                push!(aux, subdf[scoremax,names(aux)])\n",
    "            end\n",
    "            aux[!,:method] .= method*\" - best\"\n",
    "\n",
    "            res = vcat(res, aux)\n",
    "        end\n",
    "        \n",
    "        CSV.write(directory*\"FINAL_results.csv\", res)\n",
    "    end\n",
    "end"
   ]
  },
  {
   "cell_type": "markdown",
   "metadata": {},
   "source": [
    "Sanity check"
   ]
  },
  {
   "cell_type": "code",
   "execution_count": 7,
   "metadata": {
    "collapsed": true
   },
   "outputs": [],
   "source": [
    "res = DataFrames.similar(CSV.read(prefix*\"fakey/\"*\"linear\"*\"_\"*\"mar\"*\"/FINAL_results.csv\", DataFrame), 0)\n",
    "for y_model in [\"linear\", \"nn\"]\n",
    "    for m_model = [\"mar\", \"nmar\", \"mar_adv\"]\n",
    "        dir = y_model*\"_\"*m_model*\"/\"\n",
    "        directory = prefix*\"fakey/\"*dir\n",
    "  \n",
    "        res = vcat(res, CSV.read(directory*\"FINAL_results.csv\", DataFrame))\n",
    "    end\n",
    "end"
   ]
  },
  {
   "cell_type": "code",
   "execution_count": 8,
   "metadata": {},
   "outputs": [
    {
     "data": {
      "text/html": [
       "<div><div style = \"float: left;\"><span>14560×6 DataFrame</span></div><div style = \"float: right;\"><span style = \"font-style: italic;\">14535 rows omitted</span></div><div style = \"clear: both;\"></div></div><div class = \"data-frame\" style = \"overflow-x: scroll;\"><table class = \"data-frame\" style = \"margin-bottom: 6px;\"><thead><tr class = \"header\"><th class = \"rowNumber\" style = \"font-weight: bold; text-align: right;\">Row</th><th style = \"text-align: left;\">dataset</th><th style = \"text-align: left;\">X_setting</th><th style = \"text-align: left;\">Y_setting</th><th style = \"text-align: left;\">kMissing</th><th style = \"text-align: left;\">method</th><th style = \"text-align: left;\">nrow</th></tr><tr class = \"subheader headerLastRow\"><th class = \"rowNumber\" style = \"font-weight: bold; text-align: right;\"></th><th title = \"String\" style = \"text-align: left;\">String</th><th title = \"String15\" style = \"text-align: left;\">String15</th><th title = \"String15\" style = \"text-align: left;\">String15</th><th title = \"Int64\" style = \"text-align: left;\">Int64</th><th title = \"String31\" style = \"text-align: left;\">String31</th><th title = \"Int64\" style = \"text-align: left;\">Int64</th></tr></thead><tbody><tr><td class = \"rowNumber\" style = \"font-weight: bold; text-align: right;\">1</td><td style = \"text-align: left;\">COUNT-loomis</td><td style = \"text-align: left;\">real_X_mar</td><td style = \"text-align: left;\">syn_Y_linear</td><td style = \"text-align: right;\">0</td><td style = \"text-align: left;\">Imp-then-Reg 1 - nn</td><td style = \"text-align: right;\">10</td></tr><tr><td class = \"rowNumber\" style = \"font-weight: bold; text-align: right;\">2</td><td style = \"text-align: left;\">COUNT-loomis</td><td style = \"text-align: left;\">real_X_mar</td><td style = \"text-align: left;\">syn_Y_linear</td><td style = \"text-align: right;\">0</td><td style = \"text-align: left;\">Imp-then-Reg 2 - nn</td><td style = \"text-align: right;\">10</td></tr><tr><td class = \"rowNumber\" style = \"font-weight: bold; text-align: right;\">3</td><td style = \"text-align: left;\">COUNT-loomis</td><td style = \"text-align: left;\">real_X_mar</td><td style = \"text-align: left;\">syn_Y_linear</td><td style = \"text-align: right;\">0</td><td style = \"text-align: left;\">Imp-then-Reg 3 - nn</td><td style = \"text-align: right;\">10</td></tr><tr><td class = \"rowNumber\" style = \"font-weight: bold; text-align: right;\">4</td><td style = \"text-align: left;\">COUNT-loomis</td><td style = \"text-align: left;\">real_X_mar</td><td style = \"text-align: left;\">syn_Y_linear</td><td style = \"text-align: right;\">0</td><td style = \"text-align: left;\">Imp-then-Reg 4 - nn</td><td style = \"text-align: right;\">10</td></tr><tr><td class = \"rowNumber\" style = \"font-weight: bold; text-align: right;\">5</td><td style = \"text-align: left;\">COUNT-loomis</td><td style = \"text-align: left;\">real_X_mar</td><td style = \"text-align: left;\">syn_Y_linear</td><td style = \"text-align: right;\">0</td><td style = \"text-align: left;\">Imp-then-Reg 5 - nn</td><td style = \"text-align: right;\">10</td></tr><tr><td class = \"rowNumber\" style = \"font-weight: bold; text-align: right;\">6</td><td style = \"text-align: left;\">Ecdat-MCAS</td><td style = \"text-align: left;\">real_X_mar</td><td style = \"text-align: left;\">syn_Y_linear</td><td style = \"text-align: right;\">0</td><td style = \"text-align: left;\">Imp-then-Reg 1 - nn</td><td style = \"text-align: right;\">10</td></tr><tr><td class = \"rowNumber\" style = \"font-weight: bold; text-align: right;\">7</td><td style = \"text-align: left;\">Ecdat-MCAS</td><td style = \"text-align: left;\">real_X_mar</td><td style = \"text-align: left;\">syn_Y_linear</td><td style = \"text-align: right;\">0</td><td style = \"text-align: left;\">Imp-then-Reg 2 - nn</td><td style = \"text-align: right;\">10</td></tr><tr><td class = \"rowNumber\" style = \"font-weight: bold; text-align: right;\">8</td><td style = \"text-align: left;\">Ecdat-MCAS</td><td style = \"text-align: left;\">real_X_mar</td><td style = \"text-align: left;\">syn_Y_linear</td><td style = \"text-align: right;\">0</td><td style = \"text-align: left;\">Imp-then-Reg 3 - nn</td><td style = \"text-align: right;\">10</td></tr><tr><td class = \"rowNumber\" style = \"font-weight: bold; text-align: right;\">9</td><td style = \"text-align: left;\">Ecdat-MCAS</td><td style = \"text-align: left;\">real_X_mar</td><td style = \"text-align: left;\">syn_Y_linear</td><td style = \"text-align: right;\">0</td><td style = \"text-align: left;\">Imp-then-Reg 4 - nn</td><td style = \"text-align: right;\">10</td></tr><tr><td class = \"rowNumber\" style = \"font-weight: bold; text-align: right;\">10</td><td style = \"text-align: left;\">Ecdat-MCAS</td><td style = \"text-align: left;\">real_X_mar</td><td style = \"text-align: left;\">syn_Y_linear</td><td style = \"text-align: right;\">0</td><td style = \"text-align: left;\">Imp-then-Reg 5 - nn</td><td style = \"text-align: right;\">10</td></tr><tr><td class = \"rowNumber\" style = \"font-weight: bold; text-align: right;\">11</td><td style = \"text-align: left;\">Ecdat-MCAS</td><td style = \"text-align: left;\">real_X_mar</td><td style = \"text-align: left;\">syn_Y_linear</td><td style = \"text-align: right;\">1</td><td style = \"text-align: left;\">Imp-then-Reg 1 - nn</td><td style = \"text-align: right;\">10</td></tr><tr><td class = \"rowNumber\" style = \"font-weight: bold; text-align: right;\">12</td><td style = \"text-align: left;\">Ecdat-MCAS</td><td style = \"text-align: left;\">real_X_mar</td><td style = \"text-align: left;\">syn_Y_linear</td><td style = \"text-align: right;\">1</td><td style = \"text-align: left;\">Imp-then-Reg 2 - nn</td><td style = \"text-align: right;\">10</td></tr><tr><td class = \"rowNumber\" style = \"font-weight: bold; text-align: right;\">13</td><td style = \"text-align: left;\">Ecdat-MCAS</td><td style = \"text-align: left;\">real_X_mar</td><td style = \"text-align: left;\">syn_Y_linear</td><td style = \"text-align: right;\">1</td><td style = \"text-align: left;\">Imp-then-Reg 3 - nn</td><td style = \"text-align: right;\">10</td></tr><tr><td style = \"text-align: right;\">&vellip;</td><td style = \"text-align: right;\">&vellip;</td><td style = \"text-align: right;\">&vellip;</td><td style = \"text-align: right;\">&vellip;</td><td style = \"text-align: right;\">&vellip;</td><td style = \"text-align: right;\">&vellip;</td><td style = \"text-align: right;\">&vellip;</td></tr><tr><td class = \"rowNumber\" style = \"font-weight: bold; text-align: right;\">14549</td><td style = \"text-align: left;\">thyroid-disease-sick</td><td style = \"text-align: left;\">real_X_mar_adv</td><td style = \"text-align: left;\">syn_Y_nn</td><td style = \"text-align: right;\">5</td><td style = \"text-align: left;\">Imp-then-Reg 5 - best</td><td style = \"text-align: right;\">10</td></tr><tr><td class = \"rowNumber\" style = \"font-weight: bold; text-align: right;\">14550</td><td style = \"text-align: left;\">wiki4he</td><td style = \"text-align: left;\">real_X_mar_adv</td><td style = \"text-align: left;\">syn_Y_nn</td><td style = \"text-align: right;\">0</td><td style = \"text-align: left;\">Imp-then-Reg 5 - best</td><td style = \"text-align: right;\">10</td></tr><tr><td class = \"rowNumber\" style = \"font-weight: bold; text-align: right;\">14551</td><td style = \"text-align: left;\">wiki4he</td><td style = \"text-align: left;\">real_X_mar_adv</td><td style = \"text-align: left;\">syn_Y_nn</td><td style = \"text-align: right;\">10</td><td style = \"text-align: left;\">Imp-then-Reg 5 - best</td><td style = \"text-align: right;\">10</td></tr><tr><td class = \"rowNumber\" style = \"font-weight: bold; text-align: right;\">14552</td><td style = \"text-align: left;\">wiki4he</td><td style = \"text-align: left;\">real_X_mar_adv</td><td style = \"text-align: left;\">syn_Y_nn</td><td style = \"text-align: right;\">1</td><td style = \"text-align: left;\">Imp-then-Reg 5 - best</td><td style = \"text-align: right;\">10</td></tr><tr><td class = \"rowNumber\" style = \"font-weight: bold; text-align: right;\">14553</td><td style = \"text-align: left;\">wiki4he</td><td style = \"text-align: left;\">real_X_mar_adv</td><td style = \"text-align: left;\">syn_Y_nn</td><td style = \"text-align: right;\">2</td><td style = \"text-align: left;\">Imp-then-Reg 5 - best</td><td style = \"text-align: right;\">10</td></tr><tr><td class = \"rowNumber\" style = \"font-weight: bold; text-align: right;\">14554</td><td style = \"text-align: left;\">wiki4he</td><td style = \"text-align: left;\">real_X_mar_adv</td><td style = \"text-align: left;\">syn_Y_nn</td><td style = \"text-align: right;\">3</td><td style = \"text-align: left;\">Imp-then-Reg 5 - best</td><td style = \"text-align: right;\">10</td></tr><tr><td class = \"rowNumber\" style = \"font-weight: bold; text-align: right;\">14555</td><td style = \"text-align: left;\">wiki4he</td><td style = \"text-align: left;\">real_X_mar_adv</td><td style = \"text-align: left;\">syn_Y_nn</td><td style = \"text-align: right;\">4</td><td style = \"text-align: left;\">Imp-then-Reg 5 - best</td><td style = \"text-align: right;\">10</td></tr><tr><td class = \"rowNumber\" style = \"font-weight: bold; text-align: right;\">14556</td><td style = \"text-align: left;\">wiki4he</td><td style = \"text-align: left;\">real_X_mar_adv</td><td style = \"text-align: left;\">syn_Y_nn</td><td style = \"text-align: right;\">5</td><td style = \"text-align: left;\">Imp-then-Reg 5 - best</td><td style = \"text-align: right;\">10</td></tr><tr><td class = \"rowNumber\" style = \"font-weight: bold; text-align: right;\">14557</td><td style = \"text-align: left;\">wiki4he</td><td style = \"text-align: left;\">real_X_mar_adv</td><td style = \"text-align: left;\">syn_Y_nn</td><td style = \"text-align: right;\">6</td><td style = \"text-align: left;\">Imp-then-Reg 5 - best</td><td style = \"text-align: right;\">10</td></tr><tr><td class = \"rowNumber\" style = \"font-weight: bold; text-align: right;\">14558</td><td style = \"text-align: left;\">wiki4he</td><td style = \"text-align: left;\">real_X_mar_adv</td><td style = \"text-align: left;\">syn_Y_nn</td><td style = \"text-align: right;\">7</td><td style = \"text-align: left;\">Imp-then-Reg 5 - best</td><td style = \"text-align: right;\">10</td></tr><tr><td class = \"rowNumber\" style = \"font-weight: bold; text-align: right;\">14559</td><td style = \"text-align: left;\">wiki4he</td><td style = \"text-align: left;\">real_X_mar_adv</td><td style = \"text-align: left;\">syn_Y_nn</td><td style = \"text-align: right;\">8</td><td style = \"text-align: left;\">Imp-then-Reg 5 - best</td><td style = \"text-align: right;\">10</td></tr><tr><td class = \"rowNumber\" style = \"font-weight: bold; text-align: right;\">14560</td><td style = \"text-align: left;\">wiki4he</td><td style = \"text-align: left;\">real_X_mar_adv</td><td style = \"text-align: left;\">syn_Y_nn</td><td style = \"text-align: right;\">9</td><td style = \"text-align: left;\">Imp-then-Reg 5 - best</td><td style = \"text-align: right;\">10</td></tr></tbody></table></div>"
      ],
      "text/latex": [
       "\\begin{tabular}{r|cccccc}\n",
       "\t& dataset & X\\_setting & Y\\_setting & kMissing & method & nrow\\\\\n",
       "\t\\hline\n",
       "\t& String & String15 & String15 & Int64 & String31 & Int64\\\\\n",
       "\t\\hline\n",
       "\t1 & COUNT-loomis & real\\_X\\_mar & syn\\_Y\\_linear & 0 & Imp-then-Reg 1 - nn & 10 \\\\\n",
       "\t2 & COUNT-loomis & real\\_X\\_mar & syn\\_Y\\_linear & 0 & Imp-then-Reg 2 - nn & 10 \\\\\n",
       "\t3 & COUNT-loomis & real\\_X\\_mar & syn\\_Y\\_linear & 0 & Imp-then-Reg 3 - nn & 10 \\\\\n",
       "\t4 & COUNT-loomis & real\\_X\\_mar & syn\\_Y\\_linear & 0 & Imp-then-Reg 4 - nn & 10 \\\\\n",
       "\t5 & COUNT-loomis & real\\_X\\_mar & syn\\_Y\\_linear & 0 & Imp-then-Reg 5 - nn & 10 \\\\\n",
       "\t6 & Ecdat-MCAS & real\\_X\\_mar & syn\\_Y\\_linear & 0 & Imp-then-Reg 1 - nn & 10 \\\\\n",
       "\t7 & Ecdat-MCAS & real\\_X\\_mar & syn\\_Y\\_linear & 0 & Imp-then-Reg 2 - nn & 10 \\\\\n",
       "\t8 & Ecdat-MCAS & real\\_X\\_mar & syn\\_Y\\_linear & 0 & Imp-then-Reg 3 - nn & 10 \\\\\n",
       "\t9 & Ecdat-MCAS & real\\_X\\_mar & syn\\_Y\\_linear & 0 & Imp-then-Reg 4 - nn & 10 \\\\\n",
       "\t10 & Ecdat-MCAS & real\\_X\\_mar & syn\\_Y\\_linear & 0 & Imp-then-Reg 5 - nn & 10 \\\\\n",
       "\t11 & Ecdat-MCAS & real\\_X\\_mar & syn\\_Y\\_linear & 1 & Imp-then-Reg 1 - nn & 10 \\\\\n",
       "\t12 & Ecdat-MCAS & real\\_X\\_mar & syn\\_Y\\_linear & 1 & Imp-then-Reg 2 - nn & 10 \\\\\n",
       "\t13 & Ecdat-MCAS & real\\_X\\_mar & syn\\_Y\\_linear & 1 & Imp-then-Reg 3 - nn & 10 \\\\\n",
       "\t14 & Ecdat-MCAS & real\\_X\\_mar & syn\\_Y\\_linear & 1 & Imp-then-Reg 4 - nn & 10 \\\\\n",
       "\t15 & Ecdat-MCAS & real\\_X\\_mar & syn\\_Y\\_linear & 1 & Imp-then-Reg 5 - nn & 10 \\\\\n",
       "\t16 & Ecdat-MCAS & real\\_X\\_mar & syn\\_Y\\_linear & 2 & Imp-then-Reg 1 - nn & 10 \\\\\n",
       "\t17 & Ecdat-MCAS & real\\_X\\_mar & syn\\_Y\\_linear & 2 & Imp-then-Reg 2 - nn & 10 \\\\\n",
       "\t18 & Ecdat-MCAS & real\\_X\\_mar & syn\\_Y\\_linear & 2 & Imp-then-Reg 3 - nn & 10 \\\\\n",
       "\t19 & Ecdat-MCAS & real\\_X\\_mar & syn\\_Y\\_linear & 2 & Imp-then-Reg 4 - nn & 10 \\\\\n",
       "\t20 & Ecdat-MCAS & real\\_X\\_mar & syn\\_Y\\_linear & 2 & Imp-then-Reg 5 - nn & 10 \\\\\n",
       "\t21 & Ecdat-Males & real\\_X\\_mar & syn\\_Y\\_linear & 0 & Imp-then-Reg 1 - nn & 10 \\\\\n",
       "\t22 & Ecdat-Males & real\\_X\\_mar & syn\\_Y\\_linear & 0 & Imp-then-Reg 2 - nn & 10 \\\\\n",
       "\t23 & Ecdat-Males & real\\_X\\_mar & syn\\_Y\\_linear & 0 & Imp-then-Reg 3 - nn & 10 \\\\\n",
       "\t24 & Ecdat-Males & real\\_X\\_mar & syn\\_Y\\_linear & 0 & Imp-then-Reg 4 - nn & 10 \\\\\n",
       "\t$\\dots$ & $\\dots$ & $\\dots$ & $\\dots$ & $\\dots$ & $\\dots$ & $\\dots$ \\\\\n",
       "\\end{tabular}\n"
      ],
      "text/plain": [
       "\u001b[1m14560×6 DataFrame\u001b[0m\n",
       "\u001b[1m   Row \u001b[0m│\u001b[1m dataset      \u001b[0m\u001b[1m X_setting      \u001b[0m\u001b[1m Y_setting    \u001b[0m\u001b[1m kMissing \u001b[0m\u001b[1m method         \u001b[0m ⋯\n",
       "       │\u001b[90m String       \u001b[0m\u001b[90m String15       \u001b[0m\u001b[90m String15     \u001b[0m\u001b[90m Int64    \u001b[0m\u001b[90m String31       \u001b[0m ⋯\n",
       "───────┼────────────────────────────────────────────────────────────────────────\n",
       "     1 │ COUNT-loomis  real_X_mar      syn_Y_linear         0  Imp-then-Reg 1  ⋯\n",
       "     2 │ COUNT-loomis  real_X_mar      syn_Y_linear         0  Imp-then-Reg 2\n",
       "     3 │ COUNT-loomis  real_X_mar      syn_Y_linear         0  Imp-then-Reg 3\n",
       "     4 │ COUNT-loomis  real_X_mar      syn_Y_linear         0  Imp-then-Reg 4\n",
       "     5 │ COUNT-loomis  real_X_mar      syn_Y_linear         0  Imp-then-Reg 5  ⋯\n",
       "     6 │ Ecdat-MCAS    real_X_mar      syn_Y_linear         0  Imp-then-Reg 1\n",
       "     7 │ Ecdat-MCAS    real_X_mar      syn_Y_linear         0  Imp-then-Reg 2\n",
       "     8 │ Ecdat-MCAS    real_X_mar      syn_Y_linear         0  Imp-then-Reg 3\n",
       "   ⋮   │      ⋮              ⋮              ⋮           ⋮                ⋮     ⋱\n",
       " 14554 │ wiki4he       real_X_mar_adv  syn_Y_nn             3  Imp-then-Reg 5  ⋯\n",
       " 14555 │ wiki4he       real_X_mar_adv  syn_Y_nn             4  Imp-then-Reg 5\n",
       " 14556 │ wiki4he       real_X_mar_adv  syn_Y_nn             5  Imp-then-Reg 5\n",
       " 14557 │ wiki4he       real_X_mar_adv  syn_Y_nn             6  Imp-then-Reg 5\n",
       " 14558 │ wiki4he       real_X_mar_adv  syn_Y_nn             7  Imp-then-Reg 5  ⋯\n",
       " 14559 │ wiki4he       real_X_mar_adv  syn_Y_nn             8  Imp-then-Reg 5\n",
       " 14560 │ wiki4he       real_X_mar_adv  syn_Y_nn             9  Imp-then-Reg 5\n",
       "\u001b[36m                                                2 columns and 14545 rows omitted\u001b[0m"
      ]
     },
     "metadata": {},
     "output_type": "display_data"
    }
   ],
   "source": [
    "gd = groupby(res, [:dataset, :X_setting, :Y_setting, :kMissing, :method])\n",
    "aggres = combine(gd, nrow)"
   ]
  },
  {
   "cell_type": "code",
   "execution_count": 9,
   "metadata": {},
   "outputs": [],
   "source": [
    "feasible_combinations = unique(aggres[:,[:dataset, :kMissing]])\n",
    "feasible_combinations = crossjoin(\n",
    "                            crossjoin(\n",
    "                                crossjoin(feasible_combinations, DataFrame(splitnum=1:10)),\n",
    "                                DataFrame(X_setting = [\"real_X_mar\", \"real_X_nmar\", \"real_X_mar_adv\"])), \n",
    "                                DataFrame(Y_setting = [\"syn_Y_linear\", \"syn_Y_nn\"])\n",
    "                            )\n",
    "\n",
    "pbdatasets = antijoin(feasible_combinations, unique(res[:,[:dataset, :kMissing, :splitnum, :X_setting, :Y_setting, :method]]), on=[:dataset, :kMissing, :splitnum, :X_setting, :Y_setting])\n",
    "pbdatasets = unique(pbdatasets[:,[:dataset, :X_setting, :Y_setting, :splitnum]])\n",
    "\n",
    "dataset_list = [d for d in readdir(\"../datasets/\") if !startswith(d, \".\")]\n",
    "sort!(dataset_list)\n",
    "\n",
    "pbdatasets[!,:array_num] .= (pbdatasets[:,:splitnum] .- 1) .* 71\n",
    "pbdatasets[!,:array_num] .+= map(t -> findfirst(t .== dataset_list)-1, pbdatasets[:,:dataset])\n",
    "\n",
    "pbdatasets[!,:back_dnum] .= map(t -> dataset_list[mod(t, 71) + 1], pbdatasets[:,:array_num])\n",
    "pbdatasets[!,:back_splitnum] .= map(t -> div(t, 71) + 1, pbdatasets[:,:array_num])\n",
    "\n",
    "@assert all(pbdatasets[:,:back_dnum] .== pbdatasets[:,:dataset])\n",
    "@assert all(pbdatasets[:,:back_splitnum] .== pbdatasets[:,:splitnum])"
   ]
  },
  {
   "cell_type": "code",
   "execution_count": 10,
   "metadata": {},
   "outputs": [
    {
     "data": {
      "text/plain": [
       "list_to_slurmarray (generic function with 1 method)"
      ]
     },
     "metadata": {},
     "output_type": "display_data"
    }
   ],
   "source": [
    "function list_to_slurmarray(l)\n",
    "    s = \"\"\n",
    "    begin_seq = -1; last_seq = -1; is_sequence = false\n",
    "\n",
    "    for an in l\n",
    "        if an == last_seq + 1\n",
    "            last_seq = an\n",
    "        else \n",
    "            if is_sequence\n",
    "                if begin_seq == last_seq\n",
    "                    s *= string(begin_seq)*\",\"\n",
    "                else\n",
    "                    s *= string(begin_seq)*\"-\"*string(last_seq)*\",\"\n",
    "                end\n",
    "            end\n",
    "            begin_seq = an\n",
    "            last_seq = an\n",
    "            is_sequence = true\n",
    "        end\n",
    "    end \n",
    "    s\n",
    "end"
   ]
  },
  {
   "cell_type": "code",
   "execution_count": 11,
   "metadata": {},
   "outputs": [
    {
     "name": "stdout",
     "output_type": "stream",
     "text": [
      "linear\n",
      "mar\n",
      "list_to_slurmarray(l) = \"47,118,166,189,237,256,260,327,331,402,473,544,611,615,\"\n",
      "nmar\n",
      "list_to_slurmarray(l) = \"47,118,256,260,331,402,473,540,544,615,682,686,\"\n",
      "mar_adv\n",
      "list_to_slurmarray(l) = \"47,118,185,189,256,260,331,402,473,544,611,615,\"\n",
      "\n",
      "nn\n",
      "mar\n",
      "list_to_slurmarray(l) = \"47,114,118,189,256,260,327,331,402,473,611,615,\"\n",
      "nmar\n",
      "list_to_slurmarray(l) = \"47,118,185,189,256,260,331,402,473,544,615,\"\n",
      "mar_adv\n",
      "list_to_slurmarray(l) = \"47,118,189,256,260,331,402,473,544,615,686,\"\n",
      "\n"
     ]
    }
   ],
   "source": [
    "for y_model in [\"linear\", \"nn\"]\n",
    "    println(y_model)\n",
    "    for m_model = [\"mar\", \"nmar\", \"mar_adv\"]\n",
    "        println(m_model)\n",
    "        aux = filter(t -> t[:Y_setting] == \"syn_Y_\"*y_model && t[:X_setting] == \"real_X_\"*m_model, pbdatasets)\n",
    "        l = sort(unique(aux[:,:array_num]))\n",
    "        @show list_to_slurmarray(l)\n",
    "    end\n",
    "    println()\n",
    "end"
   ]
  },
  {
   "cell_type": "code",
   "execution_count": null,
   "metadata": {},
   "outputs": [],
   "source": [
    "47,114,118,166,185,189,237,256,260,327,331,402,473,540,544,611,615,682,686"
   ]
  },
  {
   "cell_type": "code",
   "execution_count": 54,
   "metadata": {},
   "outputs": [
    {
     "name": "stdout",
     "output_type": "stream",
     "text": [
      "linear\n",
      "mar\n",
      "list_to_slurmarray(l) = \"49,120,166,185,189,191,237,256,260,262,308,327,331,333,379,398,402,404,450,469,473,475,521,540,544,546,592,611,615,617,663,682,686,\"\n",
      "nmar\n",
      "list_to_slurmarray(l) = \"49,120,165-166,189,191,236-237,260,262,307-308,327,331,333,347,378-379,398,402,404,418,449-450,469,473,475,489,491,520-521,540,544,546,560,562,591-592,611,615,617,631,633,662-663,682,686,688,702,\"\n",
      "mar_adv\n",
      "list_to_slurmarray(l) = \"24,95,120,166,189,191,237,256,260,262,308,327,331,333,379,398,402,404,450,469,473,475,521,540,544,546,592,611,615,617,663,682,686,\"\n",
      "\n",
      "nn\n",
      "mar\n",
      "list_to_slurmarray(l) = \"49,95,118,120,166,185,189,191,237,256,260,262,308,327,331,333,379,398,402,404,450,469,473,475,521,540,544,546,592,611,615,617,663,682,686,\"\n",
      "nmar\n",
      "list_to_slurmarray(l) = \"49,120,189,191,260,262,327,331,333,398,402,404,469,473,475,540,544,546,592,611,615,617,662-663,682,686,\"\n",
      "mar_adv\n",
      "list_to_slurmarray(l) = \"24,49,67,95,118,120,138,166,189,191,209,237,260,262,280,308,331,333,351,379,398,402,404,422,450,469,473,475,493,521,540,544,546,564,592,611,615,617,635,663,682,686,688,\"\n",
      "\n"
     ]
    }
   ],
   "source": [
    "for y_model in [\"linear\", \"nn\"]\n",
    "    println(y_model)\n",
    "    for m_model = [\"mar\", \"nmar\", \"mar_adv\"]\n",
    "        println(m_model)\n",
    "        aux = filter(t -> t[:Y_setting] == \"syn_Y_\"*y_model && t[:X_setting] == \"real_X_\"*m_model, pbdatasets)\n",
    "        l = sort(unique(aux[:,:array_num]))\n",
    "        @show list_to_slurmarray(l)\n",
    "    end\n",
    "    println()\n",
    "end"
   ]
  },
  {
   "cell_type": "markdown",
   "metadata": {},
   "source": [
    "## For Real Data Experiments"
   ]
  },
  {
   "cell_type": "code",
   "execution_count": 12,
   "metadata": {},
   "outputs": [
    {
     "data": {
      "text/plain": [
       "\"tmlr-rev/\""
      ]
     },
     "metadata": {},
     "output_type": "display_data"
    }
   ],
   "source": [
    "prefix"
   ]
  },
  {
   "cell_type": "code",
   "execution_count": 9,
   "metadata": {},
   "outputs": [],
   "source": [
    "for directory = prefix .* [\"realy/\"]\n",
    "    filelist = [f for f in readdir(directory*\"all/\") if endswith(f, \".csv\") && f ∉ [\"all_results.csv\",\"all_results_new.csv\"]]\n",
    "    res = similar(CSV.read(directory*\"all/\"*filelist[1], DataFrame),0)\n",
    "    \n",
    "    for subdir = [\"all/\", \"itr/\", \"jitr/\", \"itr_nn/\"]\n",
    "        filelist = [f for f in readdir(directory*subdir) if endswith(f, \".csv\") && f ∉ [\"all_results.csv\",\"all_results_new.csv\"]]\n",
    "#         res = similar(CSV.read(directory*subdir*filelist[1], DataFrame),0)\n",
    "        for i in 1:length(filelist)\n",
    "            res = vcat(res, CSV.read(directory*subdir*filelist[i], DataFrame))\n",
    "        end\n",
    "    end\n",
    "    \n",
    "    # filter!(t -> t[:k] > 0, res) #Remove dataset with only a bias term\n",
    "    res[!,:method_cat] = map(method_category, res[:,:method])\n",
    "    res[!,:X_setting] .= \"real_X\"\n",
    "    res[!,:Y_setting] .= \"real_Y\"\n",
    "    \n",
    "    CSV.write(directory*\"FINAL_results.csv\", res)\n",
    "end"
   ]
  },
  {
   "cell_type": "markdown",
   "metadata": {},
   "source": [
    "Create `best` variant"
   ]
  },
  {
   "cell_type": "code",
   "execution_count": 36,
   "metadata": {},
   "outputs": [
    {
     "data": {
      "text/plain": [
       "\"aistats-rev/realy/FINAL_results.csv\""
      ]
     },
     "metadata": {},
     "output_type": "display_data"
    }
   ],
   "source": [
    "res = CSV.read(prefix*\"realy/\"*\"FINAL_results.csv\", DataFrame)\n",
    "\n",
    "filter!(t -> t[:dataset] ∉ pb_datasets, res)\n",
    "\n",
    "res[!,:method] .= map(t -> (t == \"Affine\" ? \"Adaptive LR - Affine\" : t), res[:,:method]) \n",
    "res[!,:method] .= map(t -> (t == \"Finite\" ? \"Adaptive LR - Finite\" : t), res[:,:method]) \n",
    "res[!,:method] .= map(t -> (t == \"Static\" ? \"Adaptive LR - Affine intercept only\" : t), res[:,:method])\n",
    "\n",
    "for method in [\"Complete Features\", \"Imp-then-Reg 1\", \"Imp-then-Reg 2\", \"Imp-then-Reg 3\", \"Imp-then-Reg 4\", \"Imp-then-Reg 5\", \"Joint Imp-then-Reg\", \"Adaptive LR\"]\n",
    "    aux = filter(t -> startswith(t[:method], method), res)\n",
    "    # @show size(aux)\n",
    "    idcols = [:dataset, :SNR, :k, :kMissing, :splitnum]\n",
    "    gd = groupby(aux, idcols)\n",
    "\n",
    "    aux = similar(aux, 0)\n",
    "    for subdf in gd \n",
    "        scoremax = argmax(subdf[:,:score])\n",
    "        push!(aux, subdf[scoremax,names(aux)])\n",
    "    end\n",
    "    aux[!,:method] .= method*\" - best\"\n",
    "\n",
    "    res = vcat(res, aux)\n",
    "end\n",
    "\n",
    "CSV.write(prefix*\"realy/\"*\"FINAL_results.csv\", res)"
   ]
  },
  {
   "cell_type": "markdown",
   "metadata": {},
   "source": [
    "Sanity check"
   ]
  },
  {
   "cell_type": "code",
   "execution_count": 10,
   "metadata": {
    "collapsed": true
   },
   "outputs": [
    {
     "data": {
      "text/html": [
       "<div><div style = \"float: left;\"><span>2×2 DataFrame</span></div><div style = \"clear: both;\"></div></div><div class = \"data-frame\" style = \"overflow-x: scroll;\"><table class = \"data-frame\" style = \"margin-bottom: 6px;\"><thead><tr class = \"header\"><th class = \"rowNumber\" style = \"font-weight: bold; text-align: right;\">Row</th><th style = \"text-align: left;\">dataset</th><th style = \"text-align: left;\">nrow</th></tr><tr class = \"subheader headerLastRow\"><th class = \"rowNumber\" style = \"font-weight: bold; text-align: right;\"></th><th title = \"String\" style = \"text-align: left;\">String</th><th title = \"Int64\" style = \"text-align: left;\">Int64</th></tr></thead><tbody><tr><td class = \"rowNumber\" style = \"font-weight: bold; text-align: right;\">1</td><td style = \"text-align: left;\">mlmRev-star</td><td style = \"text-align: right;\">6</td></tr><tr><td class = \"rowNumber\" style = \"font-weight: bold; text-align: right;\">2</td><td style = \"text-align: left;\">pscl-politicalInformation</td><td style = \"text-align: right;\">3</td></tr></tbody></table></div>"
      ],
      "text/latex": [
       "\\begin{tabular}{r|cc}\n",
       "\t& dataset & nrow\\\\\n",
       "\t\\hline\n",
       "\t& String & Int64\\\\\n",
       "\t\\hline\n",
       "\t1 & mlmRev-star & 6 \\\\\n",
       "\t2 & pscl-politicalInformation & 3 \\\\\n",
       "\\end{tabular}\n"
      ],
      "text/plain": [
       "\u001b[1m2×2 DataFrame\u001b[0m\n",
       "\u001b[1m Row \u001b[0m│\u001b[1m dataset                   \u001b[0m\u001b[1m nrow  \u001b[0m\n",
       "     │\u001b[90m String                    \u001b[0m\u001b[90m Int64 \u001b[0m\n",
       "─────┼──────────────────────────────────\n",
       "   1 │ mlmRev-star                    6\n",
       "   2 │ pscl-politicalInformation      3"
      ]
     },
     "metadata": {},
     "output_type": "display_data"
    }
   ],
   "source": [
    "res = CSV.read(prefix*\"realy/\"*\"FINAL_results.csv\", DataFrame)\n",
    "unique(filter( t-> t[:nrow] < 10, combine(groupby(res, [:dataset, :method]), nrow))[:,[:dataset, :nrow]])"
   ]
  },
  {
   "cell_type": "code",
   "execution_count": 16,
   "metadata": {},
   "outputs": [
    {
     "data": {
      "text/html": [
       "<div><div style = \"float: left;\"><span>460×3 DataFrame</span></div><div style = \"float: right;\"><span style = \"font-style: italic;\">435 rows omitted</span></div><div style = \"clear: both;\"></div></div><div class = \"data-frame\" style = \"overflow-x: scroll;\"><table class = \"data-frame\" style = \"margin-bottom: 6px;\"><thead><tr class = \"header\"><th class = \"rowNumber\" style = \"font-weight: bold; text-align: right;\">Row</th><th style = \"text-align: left;\">dataset</th><th style = \"text-align: left;\">splitnum</th><th style = \"text-align: left;\">nrow</th></tr><tr class = \"subheader headerLastRow\"><th class = \"rowNumber\" style = \"font-weight: bold; text-align: right;\"></th><th title = \"String\" style = \"text-align: left;\">String</th><th title = \"Int64\" style = \"text-align: left;\">Int64</th><th title = \"Int64\" style = \"text-align: left;\">Int64</th></tr></thead><tbody><tr><td class = \"rowNumber\" style = \"font-weight: bold; text-align: right;\">1</td><td style = \"text-align: left;\">COUNT-loomis</td><td style = \"text-align: right;\">1</td><td style = \"text-align: right;\">41</td></tr><tr><td class = \"rowNumber\" style = \"font-weight: bold; text-align: right;\">2</td><td style = \"text-align: left;\">COUNT-loomis</td><td style = \"text-align: right;\">2</td><td style = \"text-align: right;\">41</td></tr><tr><td class = \"rowNumber\" style = \"font-weight: bold; text-align: right;\">3</td><td style = \"text-align: left;\">COUNT-loomis</td><td style = \"text-align: right;\">3</td><td style = \"text-align: right;\">41</td></tr><tr><td class = \"rowNumber\" style = \"font-weight: bold; text-align: right;\">4</td><td style = \"text-align: left;\">COUNT-loomis</td><td style = \"text-align: right;\">4</td><td style = \"text-align: right;\">41</td></tr><tr><td class = \"rowNumber\" style = \"font-weight: bold; text-align: right;\">5</td><td style = \"text-align: left;\">COUNT-loomis</td><td style = \"text-align: right;\">5</td><td style = \"text-align: right;\">41</td></tr><tr><td class = \"rowNumber\" style = \"font-weight: bold; text-align: right;\">6</td><td style = \"text-align: left;\">COUNT-loomis</td><td style = \"text-align: right;\">6</td><td style = \"text-align: right;\">41</td></tr><tr><td class = \"rowNumber\" style = \"font-weight: bold; text-align: right;\">7</td><td style = \"text-align: left;\">COUNT-loomis</td><td style = \"text-align: right;\">7</td><td style = \"text-align: right;\">41</td></tr><tr><td class = \"rowNumber\" style = \"font-weight: bold; text-align: right;\">8</td><td style = \"text-align: left;\">COUNT-loomis</td><td style = \"text-align: right;\">8</td><td style = \"text-align: right;\">41</td></tr><tr><td class = \"rowNumber\" style = \"font-weight: bold; text-align: right;\">9</td><td style = \"text-align: left;\">COUNT-loomis</td><td style = \"text-align: right;\">9</td><td style = \"text-align: right;\">41</td></tr><tr><td class = \"rowNumber\" style = \"font-weight: bold; text-align: right;\">10</td><td style = \"text-align: left;\">COUNT-loomis</td><td style = \"text-align: right;\">10</td><td style = \"text-align: right;\">41</td></tr><tr><td class = \"rowNumber\" style = \"font-weight: bold; text-align: right;\">11</td><td style = \"text-align: left;\">Ecdat-MCAS</td><td style = \"text-align: right;\">1</td><td style = \"text-align: right;\">41</td></tr><tr><td class = \"rowNumber\" style = \"font-weight: bold; text-align: right;\">12</td><td style = \"text-align: left;\">Ecdat-MCAS</td><td style = \"text-align: right;\">2</td><td style = \"text-align: right;\">41</td></tr><tr><td class = \"rowNumber\" style = \"font-weight: bold; text-align: right;\">13</td><td style = \"text-align: left;\">Ecdat-MCAS</td><td style = \"text-align: right;\">3</td><td style = \"text-align: right;\">41</td></tr><tr><td style = \"text-align: right;\">&vellip;</td><td style = \"text-align: right;\">&vellip;</td><td style = \"text-align: right;\">&vellip;</td><td style = \"text-align: right;\">&vellip;</td></tr><tr><td class = \"rowNumber\" style = \"font-weight: bold; text-align: right;\">449</td><td style = \"text-align: left;\">thyroid-disease-sick</td><td style = \"text-align: right;\">9</td><td style = \"text-align: right;\">41</td></tr><tr><td class = \"rowNumber\" style = \"font-weight: bold; text-align: right;\">450</td><td style = \"text-align: left;\">thyroid-disease-sick</td><td style = \"text-align: right;\">10</td><td style = \"text-align: right;\">41</td></tr><tr><td class = \"rowNumber\" style = \"font-weight: bold; text-align: right;\">451</td><td style = \"text-align: left;\">wiki4he</td><td style = \"text-align: right;\">1</td><td style = \"text-align: right;\">41</td></tr><tr><td class = \"rowNumber\" style = \"font-weight: bold; text-align: right;\">452</td><td style = \"text-align: left;\">wiki4he</td><td style = \"text-align: right;\">2</td><td style = \"text-align: right;\">41</td></tr><tr><td class = \"rowNumber\" style = \"font-weight: bold; text-align: right;\">453</td><td style = \"text-align: left;\">wiki4he</td><td style = \"text-align: right;\">3</td><td style = \"text-align: right;\">41</td></tr><tr><td class = \"rowNumber\" style = \"font-weight: bold; text-align: right;\">454</td><td style = \"text-align: left;\">wiki4he</td><td style = \"text-align: right;\">4</td><td style = \"text-align: right;\">41</td></tr><tr><td class = \"rowNumber\" style = \"font-weight: bold; text-align: right;\">455</td><td style = \"text-align: left;\">wiki4he</td><td style = \"text-align: right;\">5</td><td style = \"text-align: right;\">41</td></tr><tr><td class = \"rowNumber\" style = \"font-weight: bold; text-align: right;\">456</td><td style = \"text-align: left;\">wiki4he</td><td style = \"text-align: right;\">6</td><td style = \"text-align: right;\">41</td></tr><tr><td class = \"rowNumber\" style = \"font-weight: bold; text-align: right;\">457</td><td style = \"text-align: left;\">wiki4he</td><td style = \"text-align: right;\">7</td><td style = \"text-align: right;\">41</td></tr><tr><td class = \"rowNumber\" style = \"font-weight: bold; text-align: right;\">458</td><td style = \"text-align: left;\">wiki4he</td><td style = \"text-align: right;\">8</td><td style = \"text-align: right;\">41</td></tr><tr><td class = \"rowNumber\" style = \"font-weight: bold; text-align: right;\">459</td><td style = \"text-align: left;\">wiki4he</td><td style = \"text-align: right;\">9</td><td style = \"text-align: right;\">41</td></tr><tr><td class = \"rowNumber\" style = \"font-weight: bold; text-align: right;\">460</td><td style = \"text-align: left;\">wiki4he</td><td style = \"text-align: right;\">10</td><td style = \"text-align: right;\">41</td></tr></tbody></table></div>"
      ],
      "text/latex": [
       "\\begin{tabular}{r|ccc}\n",
       "\t& dataset & splitnum & nrow\\\\\n",
       "\t\\hline\n",
       "\t& String & Int64 & Int64\\\\\n",
       "\t\\hline\n",
       "\t1 & COUNT-loomis & 1 & 41 \\\\\n",
       "\t2 & COUNT-loomis & 2 & 41 \\\\\n",
       "\t3 & COUNT-loomis & 3 & 41 \\\\\n",
       "\t4 & COUNT-loomis & 4 & 41 \\\\\n",
       "\t5 & COUNT-loomis & 5 & 41 \\\\\n",
       "\t6 & COUNT-loomis & 6 & 41 \\\\\n",
       "\t7 & COUNT-loomis & 7 & 41 \\\\\n",
       "\t8 & COUNT-loomis & 8 & 41 \\\\\n",
       "\t9 & COUNT-loomis & 9 & 41 \\\\\n",
       "\t10 & COUNT-loomis & 10 & 41 \\\\\n",
       "\t11 & Ecdat-MCAS & 1 & 41 \\\\\n",
       "\t12 & Ecdat-MCAS & 2 & 41 \\\\\n",
       "\t13 & Ecdat-MCAS & 3 & 41 \\\\\n",
       "\t14 & Ecdat-MCAS & 4 & 41 \\\\\n",
       "\t15 & Ecdat-MCAS & 5 & 41 \\\\\n",
       "\t16 & Ecdat-MCAS & 6 & 41 \\\\\n",
       "\t17 & Ecdat-MCAS & 7 & 41 \\\\\n",
       "\t18 & Ecdat-MCAS & 8 & 41 \\\\\n",
       "\t19 & Ecdat-MCAS & 9 & 41 \\\\\n",
       "\t20 & Ecdat-MCAS & 10 & 41 \\\\\n",
       "\t21 & Ecdat-Males & 1 & 41 \\\\\n",
       "\t22 & Ecdat-Males & 2 & 41 \\\\\n",
       "\t23 & Ecdat-Males & 3 & 41 \\\\\n",
       "\t24 & Ecdat-Males & 4 & 41 \\\\\n",
       "\t$\\dots$ & $\\dots$ & $\\dots$ & $\\dots$ \\\\\n",
       "\\end{tabular}\n"
      ],
      "text/plain": [
       "\u001b[1m460×3 DataFrame\u001b[0m\n",
       "\u001b[1m Row \u001b[0m│\u001b[1m dataset              \u001b[0m\u001b[1m splitnum \u001b[0m\u001b[1m nrow  \u001b[0m\n",
       "     │\u001b[90m String               \u001b[0m\u001b[90m Int64    \u001b[0m\u001b[90m Int64 \u001b[0m\n",
       "─────┼───────────────────────────────────────\n",
       "   1 │ COUNT-loomis                 1     41\n",
       "   2 │ COUNT-loomis                 2     41\n",
       "   3 │ COUNT-loomis                 3     41\n",
       "   4 │ COUNT-loomis                 4     41\n",
       "   5 │ COUNT-loomis                 5     41\n",
       "   6 │ COUNT-loomis                 6     41\n",
       "   7 │ COUNT-loomis                 7     41\n",
       "   8 │ COUNT-loomis                 8     41\n",
       "  ⋮  │          ⋮               ⋮        ⋮\n",
       " 454 │ wiki4he                      4     41\n",
       " 455 │ wiki4he                      5     41\n",
       " 456 │ wiki4he                      6     41\n",
       " 457 │ wiki4he                      7     41\n",
       " 458 │ wiki4he                      8     41\n",
       " 459 │ wiki4he                      9     41\n",
       " 460 │ wiki4he                     10     41\n",
       "\u001b[36m                             445 rows omitted\u001b[0m"
      ]
     },
     "metadata": {},
     "output_type": "display_data"
    }
   ],
   "source": [
    "feasible_combinations = unique(res[:,[:dataset]])\n",
    "feasible_combinations = crossjoin(feasible_combinations, DataFrame(splitnum=1:10))\n",
    "\n",
    "pbdatasets = leftjoin(feasible_combinations, res, on=[:dataset, :splitnum])\n",
    "gd = groupby(pbdatasets, [:dataset, :splitnum])\n",
    "sort(combine(gd, nrow), :nrow)\n",
    "\n",
    "# unique(res[:,[:dataset, :kMissing, :splitnum, :X_setting, :Y_setting]]), on=[:dataset, :kMissing, :splitnum, :X_setting, :Y_setting])\n",
    "# pbdatasets = unique(pbdatasets[:,[:dataset, :X_setting, :Y_setting, :splitnum]])\n",
    "\n",
    "# dataset_list = [d for d in readdir(\"../datasets/\") if !startswith(d, \".\")]\n",
    "# sort!(dataset_list)\n",
    "\n",
    "# pbdatasets[!,:array_num] .= (pbdatasets[:,:splitnum] .- 1) .* 71\n",
    "# pbdatasets[!,:array_num] .+= map(t -> findfirst(t .== dataset_list)-1, pbdatasets[:,:dataset])\n",
    "\n",
    "# pbdatasets[!,:back_dnum] .= map(t -> dataset_list[mod(t, 71) + 1], pbdatasets[:,:array_num])\n",
    "# pbdatasets[!,:back_splitnum] .= map(t -> div(t, 71) + 1, pbdatasets[:,:array_num])\n",
    "\n",
    "# @assert all(pbdatasets[:,:back_dnum] .== pbdatasets[:,:dataset])\n",
    "# @assert all(pbdatasets[:,:back_splitnum] .== pbdatasets[:,:splitnum])"
   ]
  },
  {
   "cell_type": "code",
   "execution_count": 12,
   "metadata": {},
   "outputs": [
    {
     "data": {
      "text/plain": [
       "71-element Vector{String}:\n",
       " \"COUNT-loomis\"\n",
       " \"Ecdat-MCAS\"\n",
       " \"Ecdat-Males\"\n",
       " \"Ecdat-Mofa\"\n",
       " \"Ecdat-RetSchool\"\n",
       " \"Ecdat-Schooling\"\n",
       " \"MASS-Cars93\"\n",
       " \"MASS-Pima.tr2\"\n",
       " \"MASS-survey\"\n",
       " \"Zelig-coalition2\"\n",
       " ⋮\n",
       " \"thyroid-disease-allhyper\"\n",
       " \"thyroid-disease-allhypo\"\n",
       " \"thyroid-disease-allrep\"\n",
       " \"thyroid-disease-dis\"\n",
       " \"thyroid-disease-sick\"\n",
       " \"thyroid-disease-sick-euthyroid\"\n",
       " \"thyroid-disease-thyroid-0387\"\n",
       " \"trains\"\n",
       " \"wiki4he\""
      ]
     },
     "metadata": {},
     "output_type": "display_data"
    }
   ],
   "source": [
    "dataset_list = [d for d in readdir(\"../datasets/\") if !startswith(d, \".\")]\n",
    "sort!(dataset_list)"
   ]
  },
  {
   "cell_type": "code",
   "execution_count": 13,
   "metadata": {},
   "outputs": [
    {
     "data": {
      "text/plain": [
       "2-element Vector{String}:\n",
       " \"mlmRev-star\"\n",
       " \"pscl-politicalInformation\""
      ]
     },
     "metadata": {},
     "output_type": "display_data"
    }
   ],
   "source": [
    "unique(filter(t -> t[:nrow] < 10, combine(groupby(filter(t -> !startswith(t[:method], \"Imp-then-Reg 4 - linear\"), res), [:dataset, :method]), nrow))[:,:dataset])"
   ]
  },
  {
   "cell_type": "code",
   "execution_count": 14,
   "metadata": {},
   "outputs": [
    {
     "data": {
      "text/plain": [
       "2-element Vector{Int64}:\n",
       " 43\n",
       " 49"
      ]
     },
     "metadata": {},
     "output_type": "display_data"
    }
   ],
   "source": [
    "unfinished_datasets = filter(t -> t[:nrow] < 10, \n",
    "    combine(\n",
    "        groupby(    combine(groupby(filter(t -> !startswith(t[:method], \"Imp-then-Reg 4 - linear\"), res), [:dataset, :method]), nrow), \n",
    "                    [:dataset]), \n",
    "        :nrow => minimum => :nrow))[:,:dataset]\n",
    "sort([findfirst(i .== dataset_list)-1 for i in unfinished_datasets])"
   ]
  },
  {
   "cell_type": "code",
   "execution_count": 15,
   "metadata": {},
   "outputs": [
    {
     "data": {
      "text/plain": [
       "2-element Vector{Int64}:\n",
       " 43\n",
       " 49"
      ]
     },
     "metadata": {},
     "output_type": "display_data"
    }
   ],
   "source": [
    "unfinished_datasets = filter(t -> t[:nrow] < 10, \n",
    "    combine(\n",
    "        groupby(    combine(groupby(res, [:dataset, :method]), nrow), \n",
    "                    [:dataset]), \n",
    "        :nrow => minimum => :nrow))[:,:dataset]\n",
    "sort([findfirst(i .== dataset_list)-1 for i in unfinished_datasets])"
   ]
  },
  {
   "cell_type": "code",
   "execution_count": 21,
   "metadata": {},
   "outputs": [
    {
     "data": {
      "text/plain": [
       "Any[]"
      ]
     },
     "metadata": {},
     "output_type": "display_data"
    }
   ],
   "source": [
    "unfinished_datasets = filter(t -> t[:nrow] < 10, \n",
    "    combine(\n",
    "        groupby(    combine(groupby(filter(t -> !startswith(t[:method], \"Imp-then-Reg\"), res), [:dataset, :method]), nrow), \n",
    "                    [:dataset]), \n",
    "        :nrow => minimum => :nrow))[:,:dataset]\n",
    "sort([findfirst(i .== dataset_list)-1 for i in unfinished_datasets])"
   ]
  },
  {
   "cell_type": "code",
   "execution_count": 41,
   "metadata": {},
   "outputs": [
    {
     "data": {
      "text/plain": [
       "20-element Vector{Int64}:\n",
       "  43\n",
       "  49\n",
       " 114\n",
       " 120\n",
       " 185\n",
       " 191\n",
       " 256\n",
       " 262\n",
       " 327\n",
       " 333\n",
       " 398\n",
       " 404\n",
       " 469\n",
       " 475\n",
       " 540\n",
       " 546\n",
       " 611\n",
       " 617\n",
       " 682\n",
       " 688"
      ]
     },
     "metadata": {},
     "output_type": "display_data"
    }
   ],
   "source": [
    "sort(union([71*i + (17) for i in 0:9], [71*i + 49 for i in 0:9]))"
   ]
  },
  {
   "cell_type": "code",
   "execution_count": 40,
   "metadata": {},
   "outputs": [
    {
     "name": "stdout",
     "output_type": "stream",
     "text": [
      "d_num = mod(array_num, 71) + 1 = 49\n",
      "iter_do = div(array_num, 71) + 1 = 8\n"
     ]
    },
    {
     "data": {
      "text/plain": [
       "8"
      ]
     },
     "metadata": {},
     "output_type": "display_data"
    }
   ],
   "source": [
    "array_num = 545\n",
    "@show d_num = mod(array_num, 71) + 1\n",
    "@show iter_do = div(array_num, 71) + 1"
   ]
  },
  {
   "cell_type": "markdown",
   "metadata": {},
   "source": [
    "# For Synthetic-Data Experiments"
   ]
  },
  {
   "cell_type": "code",
   "execution_count": 30,
   "metadata": {},
   "outputs": [
    {
     "data": {
      "text/plain": [
       "\"aistats-rev/\""
      ]
     },
     "metadata": {},
     "output_type": "display_data"
    }
   ],
   "source": [
    "prefix"
   ]
  },
  {
   "cell_type": "code",
   "execution_count": 31,
   "metadata": {},
   "outputs": [],
   "source": [
    "setting = prefix*\"synthetic_discrete/\"\n",
    "for y_model in [\"linear\", \"nn\"]\n",
    "    for m_model = [\"mar\", \"censoring\"]\n",
    "        dir = y_model*\"_\"*m_model*\"/\"\n",
    "        directory = setting*dir\n",
    "\n",
    "        # filelist = [f for f in readdir(directory*\"itr_nn/\") if endswith(f, \".csv\") && f ∉ [\"all_results.csv\",\"all_results_new.csv\"]]\n",
    "        # res = similar(CSV.read(directory*\"itr_nn/\"*filelist[1], DataFrame),0)\n",
    "\n",
    "        # for subdir = [\"itr_nn/\"]\n",
    "\n",
    "        filelist = [f for f in readdir(directory*\"all/\") if endswith(f, \".csv\") && f ∉ [\"all_results.csv\",\"all_results_new.csv\"]]\n",
    "        res = similar(CSV.read(directory*\"all/\"*filelist[1], DataFrame),0)\n",
    "\n",
    "        for subdir = [\"all/\", \"itr/\", \"itr_nn/\"]\n",
    "            filelist = [f for f in readdir(directory*subdir) if endswith(f, \".csv\") && f ∉ [\"all_results.csv\",\"all_results_new.csv\"]]\n",
    "            # @show filelist\n",
    "\n",
    "            for i in 1:length(filelist)\n",
    "                aux = CSV.read(directory*subdir*filelist[i], DataFrame)\n",
    "                try\n",
    "                    res = vcat(res, aux)\n",
    "                catch \n",
    "                    println(\"Error with \", directory*subdir*filelist[i])\n",
    "                end\n",
    "            end\n",
    "        end\n",
    "\n",
    "        res[!,:method] .= map(t -> replace(t, \"Encoding as new category\" => \"Imp-then-Reg 4\"), res[:,:method])\n",
    "        res[!,:method] .= map(t -> replace(t, \"Mode impute\" => \"Imp-then-Reg 5\"), res[:,:method])\n",
    "\n",
    "        # filter!(t -> t[:k] > 0, res) #Remove dataset with only a bias term\n",
    "        res[!,:method_cat] = map(method_category, res[:,:method])\n",
    "        res[!,:X_setting] .= \"syn_X_\"*m_model\n",
    "        res[!,:Y_setting] .= \"syn_Y_\"*y_model\n",
    "\n",
    "        for method in [\"Imp-then-Reg 4\", \"Imp-then-Reg 5\"]\n",
    "            aux = filter(t -> startswith(t[:method], method), res)\n",
    "            # @show nrow(aux)\n",
    "            idcols = [:dataset, :X_setting, :Y_setting, :SNR, :k, :pMissing, :splitnum]\n",
    "            gd = groupby(aux, idcols)\n",
    "\n",
    "            aux = similar(aux, 0)\n",
    "            for subdf in gd \n",
    "                scoremax = argmax(subdf[:,:score])\n",
    "                # @show subdf[scoremax,names(aux)]\n",
    "                push!(aux, subdf[scoremax,names(aux)])\n",
    "            end\n",
    "            aux[!,:method] .= method*\" - best\"\n",
    "\n",
    "            res = vcat(res, aux)\n",
    "        end\n",
    "\n",
    "        CSV.write(directory*\"FINAL_results.csv\", res)   \n",
    "    end\n",
    "end"
   ]
  },
  {
   "cell_type": "code",
   "execution_count": 42,
   "metadata": {},
   "outputs": [
    {
     "data": {
      "text/plain": [
       "\"aistats-rev/\""
      ]
     },
     "metadata": {},
     "output_type": "display_data"
    }
   ],
   "source": [
    "prefix"
   ]
  },
  {
   "cell_type": "code",
   "execution_count": 43,
   "metadata": {},
   "outputs": [],
   "source": [
    "setting = prefix*\"synthetic/\"\n",
    "files_with_issues = []\n",
    "# for y_model in [\"linear\", \"tree\", \"nn\"]\n",
    "for y_model in [\"linear\", \"nn\"]\n",
    "    for m_model = [\"mar\", \"censoring\"]\n",
    "        dir = y_model*\"_\"*m_model*\"/\"\n",
    "        directory = setting*dir\n",
    "        # filelist = [f for f in readdir(directory*\"itr_nn/\") if endswith(f, \".csv\") && f ∉ [\"all_results.csv\",\"all_results_new.csv\"]]\n",
    "        \n",
    "        # res = similar(CSV.read(directory*\"itr_nn/\"*filelist[1], DataFrame),0)\n",
    "        # for subdir = [\"itr_nn/\"]\n",
    "\n",
    "        filelist = [f for f in readdir(directory*\"all/\") if endswith(f, \".csv\") && f ∉ [\"all_results.csv\",\"all_results_new.csv\"]]\n",
    "        \n",
    "        res = similar(CSV.read(directory*\"all/\"*filelist[1], DataFrame),0)\n",
    "        for subdir = [\"all/\",\"itr_nn/\"]\n",
    "            filelist = [f for f in readdir(directory*subdir) if endswith(f, \".csv\") && f ∉ [\"all_results.csv\",\"all_results_new.csv\"]]\n",
    "\n",
    "            for i in 1:length(filelist)\n",
    "                try\n",
    "                    aux = CSV.read(directory*subdir*filelist[i], DataFrame)\n",
    "                    if any(aux[:,:pMissing] .> 0)\n",
    "                        missingproba = unique(aux[aux[:,:pMissing] .> 0,:pMissing])[1]\n",
    "                        aux[!,:pMissing] .= missingproba\n",
    "                    end\n",
    "                    res = vcat(res, aux)\n",
    "                catch \n",
    "                    println(\"Error with \", directory*subdir*filelist[i])\n",
    "                    push!(files_with_issues, directory*subdir*filelist[i])\n",
    "                end\n",
    "            end\n",
    "        end\n",
    "\n",
    "        res[!,:method_cat] = map(method_category, res[:,:method])\n",
    "        res[!,:X_setting] .= \"syn_X_\"*m_model\n",
    "        res[!,:Y_setting] .= \"syn_Y_\"*y_model\n",
    "\n",
    "        for method in [\"Oracle X\", \"Oracle XM\", \"Complete Features\", \"Imp-then-Reg 1\", \"Imp-then-Reg 2\", \"Imp-then-Reg 3\", \"Imp-then-Reg 4\", \"Imp-then-Reg 5\", \"Joint Imp-then-Reg\", \"Adaptive LR\"]\n",
    "            aux = filter(t -> startswith(t[:method], method), res)\n",
    "\n",
    "            idcols = [:dataset, :X_setting, :Y_setting, :SNR, :k, :pMissing, :splitnum]\n",
    "            gd = groupby(aux, idcols)\n",
    "\n",
    "            aux = similar(aux, 0)\n",
    "            for subdf in gd \n",
    "                scoremax = argmax(subdf[:,:score])\n",
    "                push!(aux, subdf[scoremax,names(aux)])\n",
    "            end\n",
    "            aux[!,:method] .= method*\" - best\"\n",
    "\n",
    "            res = vcat(res, aux)\n",
    "        end\n",
    "        \n",
    "        CSV.write(directory*\"FINAL_results.csv\", res)   \n",
    "    end\n",
    "end"
   ]
  },
  {
   "cell_type": "code",
   "execution_count": 44,
   "metadata": {},
   "outputs": [
    {
     "data": {
      "text/plain": [
       "2"
      ]
     },
     "metadata": {},
     "output_type": "display_data"
    }
   ],
   "source": [
    "1+1"
   ]
  },
  {
   "cell_type": "markdown",
   "metadata": {},
   "source": [
    "Sanity check"
   ]
  },
  {
   "cell_type": "code",
   "execution_count": 20,
   "metadata": {
    "collapsed": true
   },
   "outputs": [],
   "source": [
    "df = CSV.read(prefix*\"synthetic/linear_mar/FINAL_results.csv\", DataFrame) \n",
    "df[!,:setting] .= \"1 - Lin-MAR\"\n",
    "\n",
    "aux = CSV.read(prefix*\"synthetic/linear_censoring/FINAL_results.csv\", DataFrame) \n",
    "aux[!,:setting] .= \"2 - Lin-NMAR\"\n",
    "df = vcat(df, aux)\n",
    "\n",
    "aux = CSV.read(prefix*\"synthetic/nn_mar/FINAL_results.csv\", DataFrame) \n",
    "aux[!,:setting] .= \"5 - NN-MAR\"\n",
    "df = vcat(df, aux)\n",
    "\n",
    "aux = CSV.read(prefix*\"synthetic/nn_censoring/FINAL_results.csv\", DataFrame) \n",
    "aux[!,:setting] .= \"6 - NN-NMAR\"\n",
    "df = vcat(df, aux)\n",
    "\n",
    ";"
   ]
  },
  {
   "cell_type": "code",
   "execution_count": null,
   "metadata": {},
   "outputs": [],
   "source": [
    "df = CSV.read(prefix*\"synthetic_discrete/linear_mar/FINAL_results.csv\", DataFrame) \n",
    "df[!,:setting] .= \"1 - Lin-MAR\"\n",
    "\n",
    "aux = CSV.read(prefix*\"synthetic_discrete/linear_censoring/FINAL_results.csv\", DataFrame) \n",
    "aux[!,:setting] .= \"2 - Lin-NMAR\"\n",
    "df = vcat(df, aux)\n",
    " \n",
    "# aux = CSV.read(prefix*\"synthetic_discrete/tree_mar/FINAL_results.csv\", DataFrame) \n",
    "# aux[!,:setting] .= \"3 - Tree-MAR\"\n",
    "# df = vcat(df, aux)\n",
    "\n",
    "# aux = CSV.read(prefix*\"synthetic_discrete/tree_censoring/FINAL_results.csv\", DataFrame) \n",
    "# aux[!,:setting] .= \"4 - Tree-NMAR\"\n",
    "# df = vcat(df, aux)\n",
    "\n",
    "aux = CSV.read(prefix*\"synthetic_discrete/nn_mar/FINAL_results.csv\", DataFrame) \n",
    "aux[!,:setting] .= \"5 - NN-MAR\"\n",
    "df = vcat(df, aux)\n",
    "\n",
    "aux = CSV.read(prefix*\"synthetic_discrete/nn_censoring/FINAL_results.csv\", DataFrame) \n",
    "aux[!,:setting] .= \"6 - NN-NMAR\"\n",
    "df = vcat(df, aux)"
   ]
  },
  {
   "cell_type": "code",
   "execution_count": 21,
   "metadata": {
    "collapsed": true
   },
   "outputs": [
    {
     "data": {
      "text/html": [
       "<div><div style = \"float: left;\"><span>1600×4 DataFrame</span></div><div style = \"float: right;\"><span style = \"font-style: italic;\">1575 rows omitted</span></div><div style = \"clear: both;\"></div></div><div class = \"data-frame\" style = \"overflow-x: scroll;\"><table class = \"data-frame\" style = \"margin-bottom: 6px;\"><thead><tr class = \"header\"><th class = \"rowNumber\" style = \"font-weight: bold; text-align: right;\">Row</th><th style = \"text-align: left;\">dataset</th><th style = \"text-align: left;\">method</th><th style = \"text-align: left;\">setting</th><th style = \"text-align: left;\">nrow</th></tr><tr class = \"subheader headerLastRow\"><th class = \"rowNumber\" style = \"font-weight: bold; text-align: right;\"></th><th title = \"String15\" style = \"text-align: left;\">String15</th><th title = \"String31\" style = \"text-align: left;\">String31</th><th title = \"String\" style = \"text-align: left;\">String</th><th title = \"Int64\" style = \"text-align: left;\">Int64</th></tr></thead><tbody><tr><td class = \"rowNumber\" style = \"font-weight: bold; text-align: right;\">1</td><td style = \"text-align: left;\">n_1000_p_10</td><td style = \"text-align: left;\">Imp-then-Reg 1 - nn</td><td style = \"text-align: left;\">1 - Lin-MAR</td><td style = \"text-align: right;\">80</td></tr><tr><td class = \"rowNumber\" style = \"font-weight: bold; text-align: right;\">2</td><td style = \"text-align: left;\">n_1000_p_10</td><td style = \"text-align: left;\">Imp-then-Reg 2 - nn</td><td style = \"text-align: left;\">1 - Lin-MAR</td><td style = \"text-align: right;\">80</td></tr><tr><td class = \"rowNumber\" style = \"font-weight: bold; text-align: right;\">3</td><td style = \"text-align: left;\">n_1000_p_10</td><td style = \"text-align: left;\">Imp-then-Reg 3 - nn</td><td style = \"text-align: left;\">1 - Lin-MAR</td><td style = \"text-align: right;\">80</td></tr><tr><td class = \"rowNumber\" style = \"font-weight: bold; text-align: right;\">4</td><td style = \"text-align: left;\">n_1000_p_10</td><td style = \"text-align: left;\">Imp-then-Reg 4 - nn</td><td style = \"text-align: left;\">1 - Lin-MAR</td><td style = \"text-align: right;\">80</td></tr><tr><td class = \"rowNumber\" style = \"font-weight: bold; text-align: right;\">5</td><td style = \"text-align: left;\">n_100_p_10</td><td style = \"text-align: left;\">Imp-then-Reg 1 - nn</td><td style = \"text-align: left;\">1 - Lin-MAR</td><td style = \"text-align: right;\">80</td></tr><tr><td class = \"rowNumber\" style = \"font-weight: bold; text-align: right;\">6</td><td style = \"text-align: left;\">n_100_p_10</td><td style = \"text-align: left;\">Imp-then-Reg 2 - nn</td><td style = \"text-align: left;\">1 - Lin-MAR</td><td style = \"text-align: right;\">80</td></tr><tr><td class = \"rowNumber\" style = \"font-weight: bold; text-align: right;\">7</td><td style = \"text-align: left;\">n_100_p_10</td><td style = \"text-align: left;\">Imp-then-Reg 3 - nn</td><td style = \"text-align: left;\">1 - Lin-MAR</td><td style = \"text-align: right;\">80</td></tr><tr><td class = \"rowNumber\" style = \"font-weight: bold; text-align: right;\">8</td><td style = \"text-align: left;\">n_100_p_10</td><td style = \"text-align: left;\">Imp-then-Reg 4 - nn</td><td style = \"text-align: left;\">1 - Lin-MAR</td><td style = \"text-align: right;\">80</td></tr><tr><td class = \"rowNumber\" style = \"font-weight: bold; text-align: right;\">9</td><td style = \"text-align: left;\">n_120_p_10</td><td style = \"text-align: left;\">Imp-then-Reg 1 - nn</td><td style = \"text-align: left;\">1 - Lin-MAR</td><td style = \"text-align: right;\">80</td></tr><tr><td class = \"rowNumber\" style = \"font-weight: bold; text-align: right;\">10</td><td style = \"text-align: left;\">n_120_p_10</td><td style = \"text-align: left;\">Imp-then-Reg 2 - nn</td><td style = \"text-align: left;\">1 - Lin-MAR</td><td style = \"text-align: right;\">80</td></tr><tr><td class = \"rowNumber\" style = \"font-weight: bold; text-align: right;\">11</td><td style = \"text-align: left;\">n_120_p_10</td><td style = \"text-align: left;\">Imp-then-Reg 3 - nn</td><td style = \"text-align: left;\">1 - Lin-MAR</td><td style = \"text-align: right;\">80</td></tr><tr><td class = \"rowNumber\" style = \"font-weight: bold; text-align: right;\">12</td><td style = \"text-align: left;\">n_120_p_10</td><td style = \"text-align: left;\">Imp-then-Reg 4 - nn</td><td style = \"text-align: left;\">1 - Lin-MAR</td><td style = \"text-align: right;\">80</td></tr><tr><td class = \"rowNumber\" style = \"font-weight: bold; text-align: right;\">13</td><td style = \"text-align: left;\">n_140_p_10</td><td style = \"text-align: left;\">Imp-then-Reg 1 - nn</td><td style = \"text-align: left;\">1 - Lin-MAR</td><td style = \"text-align: right;\">80</td></tr><tr><td style = \"text-align: right;\">&vellip;</td><td style = \"text-align: right;\">&vellip;</td><td style = \"text-align: right;\">&vellip;</td><td style = \"text-align: right;\">&vellip;</td><td style = \"text-align: right;\">&vellip;</td></tr><tr><td class = \"rowNumber\" style = \"font-weight: bold; text-align: right;\">1589</td><td style = \"text-align: left;\">n_780_p_10</td><td style = \"text-align: left;\">Imp-then-Reg 4 - best</td><td style = \"text-align: left;\">6 - NN-NMAR</td><td style = \"text-align: right;\">80</td></tr><tr><td class = \"rowNumber\" style = \"font-weight: bold; text-align: right;\">1590</td><td style = \"text-align: left;\">n_800_p_10</td><td style = \"text-align: left;\">Imp-then-Reg 4 - best</td><td style = \"text-align: left;\">6 - NN-NMAR</td><td style = \"text-align: right;\">80</td></tr><tr><td class = \"rowNumber\" style = \"font-weight: bold; text-align: right;\">1591</td><td style = \"text-align: left;\">n_80_p_10</td><td style = \"text-align: left;\">Imp-then-Reg 4 - best</td><td style = \"text-align: left;\">6 - NN-NMAR</td><td style = \"text-align: right;\">80</td></tr><tr><td class = \"rowNumber\" style = \"font-weight: bold; text-align: right;\">1592</td><td style = \"text-align: left;\">n_820_p_10</td><td style = \"text-align: left;\">Imp-then-Reg 4 - best</td><td style = \"text-align: left;\">6 - NN-NMAR</td><td style = \"text-align: right;\">80</td></tr><tr><td class = \"rowNumber\" style = \"font-weight: bold; text-align: right;\">1593</td><td style = \"text-align: left;\">n_840_p_10</td><td style = \"text-align: left;\">Imp-then-Reg 4 - best</td><td style = \"text-align: left;\">6 - NN-NMAR</td><td style = \"text-align: right;\">80</td></tr><tr><td class = \"rowNumber\" style = \"font-weight: bold; text-align: right;\">1594</td><td style = \"text-align: left;\">n_860_p_10</td><td style = \"text-align: left;\">Imp-then-Reg 4 - best</td><td style = \"text-align: left;\">6 - NN-NMAR</td><td style = \"text-align: right;\">80</td></tr><tr><td class = \"rowNumber\" style = \"font-weight: bold; text-align: right;\">1595</td><td style = \"text-align: left;\">n_880_p_10</td><td style = \"text-align: left;\">Imp-then-Reg 4 - best</td><td style = \"text-align: left;\">6 - NN-NMAR</td><td style = \"text-align: right;\">80</td></tr><tr><td class = \"rowNumber\" style = \"font-weight: bold; text-align: right;\">1596</td><td style = \"text-align: left;\">n_900_p_10</td><td style = \"text-align: left;\">Imp-then-Reg 4 - best</td><td style = \"text-align: left;\">6 - NN-NMAR</td><td style = \"text-align: right;\">80</td></tr><tr><td class = \"rowNumber\" style = \"font-weight: bold; text-align: right;\">1597</td><td style = \"text-align: left;\">n_920_p_10</td><td style = \"text-align: left;\">Imp-then-Reg 4 - best</td><td style = \"text-align: left;\">6 - NN-NMAR</td><td style = \"text-align: right;\">80</td></tr><tr><td class = \"rowNumber\" style = \"font-weight: bold; text-align: right;\">1598</td><td style = \"text-align: left;\">n_940_p_10</td><td style = \"text-align: left;\">Imp-then-Reg 4 - best</td><td style = \"text-align: left;\">6 - NN-NMAR</td><td style = \"text-align: right;\">80</td></tr><tr><td class = \"rowNumber\" style = \"font-weight: bold; text-align: right;\">1599</td><td style = \"text-align: left;\">n_960_p_10</td><td style = \"text-align: left;\">Imp-then-Reg 4 - best</td><td style = \"text-align: left;\">6 - NN-NMAR</td><td style = \"text-align: right;\">80</td></tr><tr><td class = \"rowNumber\" style = \"font-weight: bold; text-align: right;\">1600</td><td style = \"text-align: left;\">n_980_p_10</td><td style = \"text-align: left;\">Imp-then-Reg 4 - best</td><td style = \"text-align: left;\">6 - NN-NMAR</td><td style = \"text-align: right;\">80</td></tr></tbody></table></div>"
      ],
      "text/latex": [
       "\\begin{tabular}{r|cccc}\n",
       "\t& dataset & method & setting & nrow\\\\\n",
       "\t\\hline\n",
       "\t& String15 & String31 & String & Int64\\\\\n",
       "\t\\hline\n",
       "\t1 & n\\_1000\\_p\\_10 & Imp-then-Reg 1 - nn & 1 - Lin-MAR & 80 \\\\\n",
       "\t2 & n\\_1000\\_p\\_10 & Imp-then-Reg 2 - nn & 1 - Lin-MAR & 80 \\\\\n",
       "\t3 & n\\_1000\\_p\\_10 & Imp-then-Reg 3 - nn & 1 - Lin-MAR & 80 \\\\\n",
       "\t4 & n\\_1000\\_p\\_10 & Imp-then-Reg 4 - nn & 1 - Lin-MAR & 80 \\\\\n",
       "\t5 & n\\_100\\_p\\_10 & Imp-then-Reg 1 - nn & 1 - Lin-MAR & 80 \\\\\n",
       "\t6 & n\\_100\\_p\\_10 & Imp-then-Reg 2 - nn & 1 - Lin-MAR & 80 \\\\\n",
       "\t7 & n\\_100\\_p\\_10 & Imp-then-Reg 3 - nn & 1 - Lin-MAR & 80 \\\\\n",
       "\t8 & n\\_100\\_p\\_10 & Imp-then-Reg 4 - nn & 1 - Lin-MAR & 80 \\\\\n",
       "\t9 & n\\_120\\_p\\_10 & Imp-then-Reg 1 - nn & 1 - Lin-MAR & 80 \\\\\n",
       "\t10 & n\\_120\\_p\\_10 & Imp-then-Reg 2 - nn & 1 - Lin-MAR & 80 \\\\\n",
       "\t11 & n\\_120\\_p\\_10 & Imp-then-Reg 3 - nn & 1 - Lin-MAR & 80 \\\\\n",
       "\t12 & n\\_120\\_p\\_10 & Imp-then-Reg 4 - nn & 1 - Lin-MAR & 80 \\\\\n",
       "\t13 & n\\_140\\_p\\_10 & Imp-then-Reg 1 - nn & 1 - Lin-MAR & 80 \\\\\n",
       "\t14 & n\\_140\\_p\\_10 & Imp-then-Reg 2 - nn & 1 - Lin-MAR & 80 \\\\\n",
       "\t15 & n\\_140\\_p\\_10 & Imp-then-Reg 3 - nn & 1 - Lin-MAR & 80 \\\\\n",
       "\t16 & n\\_140\\_p\\_10 & Imp-then-Reg 4 - nn & 1 - Lin-MAR & 80 \\\\\n",
       "\t17 & n\\_160\\_p\\_10 & Imp-then-Reg 1 - nn & 1 - Lin-MAR & 80 \\\\\n",
       "\t18 & n\\_160\\_p\\_10 & Imp-then-Reg 2 - nn & 1 - Lin-MAR & 80 \\\\\n",
       "\t19 & n\\_160\\_p\\_10 & Imp-then-Reg 3 - nn & 1 - Lin-MAR & 80 \\\\\n",
       "\t20 & n\\_160\\_p\\_10 & Imp-then-Reg 4 - nn & 1 - Lin-MAR & 80 \\\\\n",
       "\t21 & n\\_180\\_p\\_10 & Imp-then-Reg 1 - nn & 1 - Lin-MAR & 80 \\\\\n",
       "\t22 & n\\_180\\_p\\_10 & Imp-then-Reg 2 - nn & 1 - Lin-MAR & 80 \\\\\n",
       "\t23 & n\\_180\\_p\\_10 & Imp-then-Reg 3 - nn & 1 - Lin-MAR & 80 \\\\\n",
       "\t24 & n\\_180\\_p\\_10 & Imp-then-Reg 4 - nn & 1 - Lin-MAR & 80 \\\\\n",
       "\t$\\dots$ & $\\dots$ & $\\dots$ & $\\dots$ & $\\dots$ \\\\\n",
       "\\end{tabular}\n"
      ],
      "text/plain": [
       "\u001b[1m1600×4 DataFrame\u001b[0m\n",
       "\u001b[1m  Row \u001b[0m│\u001b[1m dataset     \u001b[0m\u001b[1m method                \u001b[0m\u001b[1m setting     \u001b[0m\u001b[1m nrow  \u001b[0m\n",
       "      │\u001b[90m String15    \u001b[0m\u001b[90m String31              \u001b[0m\u001b[90m String      \u001b[0m\u001b[90m Int64 \u001b[0m\n",
       "──────┼────────────────────────────────────────────────────────\n",
       "    1 │ n_1000_p_10  Imp-then-Reg 1 - nn    1 - Lin-MAR     80\n",
       "    2 │ n_1000_p_10  Imp-then-Reg 2 - nn    1 - Lin-MAR     80\n",
       "    3 │ n_1000_p_10  Imp-then-Reg 3 - nn    1 - Lin-MAR     80\n",
       "    4 │ n_1000_p_10  Imp-then-Reg 4 - nn    1 - Lin-MAR     80\n",
       "    5 │ n_100_p_10   Imp-then-Reg 1 - nn    1 - Lin-MAR     80\n",
       "    6 │ n_100_p_10   Imp-then-Reg 2 - nn    1 - Lin-MAR     80\n",
       "    7 │ n_100_p_10   Imp-then-Reg 3 - nn    1 - Lin-MAR     80\n",
       "    8 │ n_100_p_10   Imp-then-Reg 4 - nn    1 - Lin-MAR     80\n",
       "  ⋮   │      ⋮                 ⋮                 ⋮         ⋮\n",
       " 1594 │ n_860_p_10   Imp-then-Reg 4 - best  6 - NN-NMAR     80\n",
       " 1595 │ n_880_p_10   Imp-then-Reg 4 - best  6 - NN-NMAR     80\n",
       " 1596 │ n_900_p_10   Imp-then-Reg 4 - best  6 - NN-NMAR     80\n",
       " 1597 │ n_920_p_10   Imp-then-Reg 4 - best  6 - NN-NMAR     80\n",
       " 1598 │ n_940_p_10   Imp-then-Reg 4 - best  6 - NN-NMAR     80\n",
       " 1599 │ n_960_p_10   Imp-then-Reg 4 - best  6 - NN-NMAR     80\n",
       " 1600 │ n_980_p_10   Imp-then-Reg 4 - best  6 - NN-NMAR     80\n",
       "\u001b[36m                                              1585 rows omitted\u001b[0m"
      ]
     },
     "metadata": {},
     "output_type": "display_data"
    }
   ],
   "source": [
    "combine(groupby(df, [:dataset, :method, :setting]), nrow)"
   ]
  },
  {
   "cell_type": "code",
   "execution_count": 22,
   "metadata": {
    "collapsed": true
   },
   "outputs": [
    {
     "data": {
      "text/plain": [
       "2-element Vector{Int64}:\n",
       " 80\n",
       " 70"
      ]
     },
     "metadata": {},
     "output_type": "display_data"
    }
   ],
   "source": [
    "unique(combine(groupby(df, [:dataset, :method, :setting]), nrow)[:,:nrow])"
   ]
  },
  {
   "cell_type": "code",
   "execution_count": 25,
   "metadata": {},
   "outputs": [
    {
     "data": {
      "text/html": [
       "<div><div style = \"float: left;\"><span>127680×18 DataFrame</span></div><div style = \"float: right;\"><span style = \"font-style: italic;\">127655 rows omitted</span></div><div style = \"clear: both;\"></div></div><div class = \"data-frame\" style = \"overflow-x: scroll;\"><table class = \"data-frame\" style = \"margin-bottom: 6px;\"><thead><tr class = \"header\"><th class = \"rowNumber\" style = \"font-weight: bold; text-align: right;\">Row</th><th style = \"text-align: left;\">dataset</th><th style = \"text-align: left;\">SNR</th><th style = \"text-align: left;\">k</th><th style = \"text-align: left;\">pMissing</th><th style = \"text-align: left;\">splitnum</th><th style = \"text-align: left;\">method</th><th style = \"text-align: left;\">r2</th><th style = \"text-align: left;\">osr2</th><th style = \"text-align: left;\">r2list</th><th style = \"text-align: left;\">osr2list</th><th style = \"text-align: left;\">muvec</th><th style = \"text-align: left;\">time</th><th style = \"text-align: left;\">hp</th><th style = \"text-align: left;\">score</th><th style = \"text-align: left;\">method_cat</th><th style = \"text-align: left;\">X_setting</th><th style = \"text-align: left;\">Y_setting</th><th style = \"text-align: left;\">setting</th></tr><tr class = \"subheader headerLastRow\"><th class = \"rowNumber\" style = \"font-weight: bold; text-align: right;\"></th><th title = \"String15\" style = \"text-align: left;\">String15</th><th title = \"Int64\" style = \"text-align: left;\">Int64</th><th title = \"Int64\" style = \"text-align: left;\">Int64</th><th title = \"Float64\" style = \"text-align: left;\">Float64</th><th title = \"Int64\" style = \"text-align: left;\">Int64</th><th title = \"String31\" style = \"text-align: left;\">String31</th><th title = \"Float64\" style = \"text-align: left;\">Float64</th><th title = \"Float64\" style = \"text-align: left;\">Float64</th><th title = \"String\" style = \"text-align: left;\">String</th><th title = \"String\" style = \"text-align: left;\">String</th><th title = \"String\" style = \"text-align: left;\">String</th><th title = \"Float64\" style = \"text-align: left;\">Float64</th><th title = \"String31\" style = \"text-align: left;\">String31</th><th title = \"Float64\" style = \"text-align: left;\">Float64</th><th title = \"String15\" style = \"text-align: left;\">String15</th><th title = \"String15\" style = \"text-align: left;\">String15</th><th title = \"String15\" style = \"text-align: left;\">String15</th><th title = \"String\" style = \"text-align: left;\">String</th></tr></thead><tbody><tr><td class = \"rowNumber\" style = \"font-weight: bold; text-align: right;\">1</td><td style = \"text-align: left;\">n_1000_p_10</td><td style = \"text-align: right;\">2</td><td style = \"text-align: right;\">5</td><td style = \"text-align: right;\">0.1</td><td style = \"text-align: right;\">1</td><td style = \"text-align: left;\">Imp-then-Reg 1 - nn</td><td style = \"text-align: right;\">0.783002</td><td style = \"text-align: right;\">0.751881</td><td style = \"text-align: left;\">Any[0.7665171843286452, 0.7893688177528002, 0.817890224476437, 0.8036376354991142, 0.8596366435831156, 0.6794559329720173, 0.8255995802632057, 0.7932532468734835, 0.6801241320648609, 0.7697311410179672, 0.7853428465486968, -0.14125156335652678, -2.6213999614988786, 0.7836464677029975, 0.48283759691039496, 0.6985706718146727, 0.8828181855263525, 0.613880113666227, 0.8529106628148347, 0.26800333636336826, 0.4312812175230756, 0.32808287495344757, 0.7954332113661159, 0.6461918753114773, 0.8413415048750846, 0.7482858639789494, 0.45331449723493056, -0.319303024917974, 0.9435875483957107, 0.609444513131788, 0.8375865206899261, -0.4003122840987927, 0.36382307143911496, -0.09835751708094853, 0.7673083877612625, 0.8710774660429738, 0.8497286891177294, 0.5302368964187063, 0.5509431808908263, 0.9357898844478688, 0.6173602852352, -Inf, 0.11734489013879679, 0.5492124607929425, 0.8774381044892472, 0.4961494381574233, 0.26043816106758044, 0.9318871916838743, 0.8340444739105703, 0.6950496067109759, 0.6996386744453672, -4.068040894228982, 0.7487812165423975, 0.9192184101213814, 0.9103397566045368, -Inf, 0.868464490317837, -Inf, -26.194196960340797, 0.9879315708713736, -Inf, -Inf, -Inf, -Inf, -Inf, 0.9562525904598034, -Inf, -Inf, -Inf, 0.36146436668297743, -Inf, -Inf, -Inf, -Inf, 0.03581616526594078, -Inf, -Inf, -6.706069592621754, 0.8791090182581316, -Inf, -Inf, -7.353232277921936, -Inf, -Inf, -Inf, -Inf, 0.8766534149488281, -Inf, -Inf, -Inf, -Inf, -Inf, -Inf, -Inf, 0.11915598568978736, -Inf, 0.7329947531807602]</td><td style = \"text-align: left;\">Any[0.7533434727434916, 0.8037345427780918, 0.801091541948193, 0.8007502185610421, 0.7593401249053844, 0.7953275600860703, 0.7104046230222195, 0.7896755196027223, 0.7976046380948352, 0.7348855590308163, 0.7843037337786878, 0.7762867554262245, 0.2606144580701999, 0.8207606392407211, 0.732780895226183, 0.8076320574830487, 0.9073364799484116, 0.6911663494068845, 0.6719979652951384, 0.8859652509898766, 0.7328795072402021, 0.7980052642660229, 0.8934376901623409, 0.802096588017864, 0.8701239974730035, 0.8478849214126659, 0.583579958875988, 0.9352982485171242, 0.7364575044174088, 0.7263647011033944, 0.7243856002901728, 0.8471031669051663, 0.9088612467233923, 0.8229505915793724, 0.8937747827013545, 0.8133201220031822, 0.8659186494466297, 0.6486402106480877, 0.6397369309060714, 0.7240070603104105, 0.8886599489996887, 0.8432553668484993, 0.6813032572836998, 0.7443056106764531, 0.7315750611175126, 0.48032726104171986, 0.7905149315000028, 0.6810310992022784, 0.9176607783529119, 0.8507442460822956, 0.7665969506205166, 0.8769600648907918, 0.8433764792654727, 0.6148707254401669, 0.9069935448001605, 0.7167954529733869, 0.7420524532711759, 0.9567343061692194, 0.505121207810054, 0.81418855777992, 0.8728106686162509, 0.6903808182616198, 0.9759403767751433, 0.9898534388495667, 0.320505167926451, 0.974180438883839, 0.27748718852662624, 0.9583687821634513, 0.9248942225551539, 0.8922518436649951, 0.9905967953608596, 0.9614222082125097, 0.5592893556705427, 0.9333689186420774, NaN, 0.9871552174054466, 0.46362290119727223, -55.52448204205184, 0.9675299011821044, 0.9607117609873352, 0.9523900151543707, -405.12377523098894, 0.8132824812298787, 0.34888789864703895, 0.6052839845803966, 0.8796903402451017, NaN, -0.6092324821737163, 0.9969813443984485, -0.9926120429373997, 0.9212446959641847, 0.9919953863878542, 0.9954529716678489, 0.9994265414934197, NaN, -2.260342809991455, 0.7307303641950899]</td><td style = \"text-align: left;\">Any[]</td><td style = \"text-align: right;\">104.997</td><td style = \"text-align: left;\">Dict(:hidden_nodes =&gt; 5)</td><td style = \"text-align: right;\">0.771493</td><td style = \"text-align: left;\">Imp-then-Reg</td><td style = \"text-align: left;\">syn_X_mar</td><td style = \"text-align: left;\">syn_Y_linear</td><td style = \"text-align: left;\">1 - Lin-MAR</td></tr><tr><td class = \"rowNumber\" style = \"font-weight: bold; text-align: right;\">2</td><td style = \"text-align: left;\">n_1000_p_10</td><td style = \"text-align: right;\">2</td><td style = \"text-align: right;\">5</td><td style = \"text-align: right;\">0.1</td><td style = \"text-align: right;\">1</td><td style = \"text-align: left;\">Imp-then-Reg 2 - nn</td><td style = \"text-align: right;\">0.782897</td><td style = \"text-align: right;\">0.754546</td><td style = \"text-align: left;\">Any[0.7695939310834479, 0.7958369386061889, 0.827814557522069, 0.8124808499360384, 0.8544290933216263, 0.708769247897624, 0.8238413029996138, 0.7783586825160131, 0.6369868680916724, 0.7647952856299172, 0.8085629997570332, -0.020778675987531914, -1.1891065228864166, 0.7077365926033982, 0.5602674445804408, 0.6947784948622318, 0.9206853581879901, 0.5987470137226976, 0.8559958934138292, 0.20086105771632234, 0.5379175403254608, 0.35448048765976137, 0.7723925617106107, 0.5157676799946905, 0.850736088355077, 0.7392890624144961, 0.3114193461440736, 0.07373379100688571, 0.8511785024911431, 0.6488826511439205, 0.8177883067963392, -0.25654814668254233, 0.34142180252845533, 0.056894729858257054, 0.5508596989375744, 0.84582371908937, 0.8494927525957112, 0.3263251995978159, 0.4632315424425151, 0.9690389600841008, 0.515034430047064, -Inf, 0.42540663415138713, 0.5093301265142569, 0.9148947701563377, 0.5567094968973754, 0.16301179146936562, 0.8959761991549539, 0.7990286955663712, 0.7216664024505351, 0.6468482688433377, -6.087204592110704, 0.7333693038751192, 0.927830799039229, 0.8683075817987834, -Inf, 0.8668733779427975, -Inf, -23.76296159081411, -1.721503800261969, -Inf, -Inf, -Inf, -Inf, -Inf, 0.8772305471331727, -Inf, -Inf, -Inf, 0.06111365529466117, -Inf, -Inf, -Inf, -Inf, 0.018392097098101856, -Inf, -Inf, -7.9328802402687195, 0.9271954130310256, -Inf, -Inf, -6.748401914438455, -Inf, -Inf, -Inf, -Inf, 0.8072834374699871, -Inf, -Inf, -Inf, -Inf, -Inf, -Inf, -Inf, -15.853480246842107, -Inf, 0.7497594111657485]</td><td style = \"text-align: left;\">Any[0.7521681012378905, 0.8126629783176237, 0.8048579471688717, 0.7999280740232624, 0.766688318602418, 0.7819688816916097, 0.6973782155005628, 0.7877361223969955, 0.7931621161018239, 0.736278978012374, 0.794466800296958, 0.7682462934069024, 0.3787257666893511, 0.8302368497168655, 0.7569165192018001, 0.8429676075660077, 0.9139018779528438, 0.6882268256552164, 0.6515020829261398, 0.8794748282369214, 0.7242776045123211, 0.7716087021858555, 0.865272396219245, 0.8271648613269447, 0.899149753564218, 0.8468126028626084, 0.6092986002179042, 0.9314684786165909, 0.7532446130601375, 0.7280467323446524, 0.7054619961027493, 0.8516071832983716, 0.9151337023989542, 0.8353819694666139, 0.9102310048590457, 0.8284675179383485, 0.8523934501961714, 0.6423099559384536, 0.6219547553711251, 0.7014072000298008, 0.8829970501739517, 0.8302512754085627, 0.683425618560443, 0.7465933776529302, 0.7163030267243915, 0.44694638070215176, 0.7883999024134154, 0.6120973843215418, 0.920660784707393, 0.8656948037519019, 0.7494581446085709, 0.8933590858151238, 0.8483755433781045, 0.5853930026019574, 0.8838589883307574, 0.68879496128795, 0.7394542427916451, 0.9300854049930224, 0.6185309342561682, -1.1373707481623918, 0.8541197261372468, 0.6778341636982071, 0.9756338696099099, 0.9867927284578659, 0.5271235281509936, 0.9920038490423388, -0.015203931995264597, 0.9751212254760645, 0.9315804816226486, 0.9158294364945033, 0.974781382325438, 0.9709774334614083, 0.30325395332864613, 0.9310115452356211, NaN, 0.9979333037612477, 0.6859695056002493, -20.680287100495082, 0.9741089615354155, 0.9717593215036416, 0.9685753599425421, -374.8476950104407, 0.8885675989307297, 0.49049286508494805, 0.7848834830720819, 0.9306427873063838, NaN, 0.7330043627034505, 0.9578457087882754, -1.004188217074487, 0.8627905388746467, 0.9895135238061091, 0.9970494735169647, 0.9980918477133427, NaN, -6.629448684013537, 0.7476450565391904]</td><td style = \"text-align: left;\">Any[]</td><td style = \"text-align: right;\">34.9523</td><td style = \"text-align: left;\">Dict(:hidden_nodes =&gt; 5)</td><td style = \"text-align: right;\">0.76351</td><td style = \"text-align: left;\">Imp-then-Reg</td><td style = \"text-align: left;\">syn_X_mar</td><td style = \"text-align: left;\">syn_Y_linear</td><td style = \"text-align: left;\">1 - Lin-MAR</td></tr><tr><td class = \"rowNumber\" style = \"font-weight: bold; text-align: right;\">3</td><td style = \"text-align: left;\">n_1000_p_10</td><td style = \"text-align: right;\">2</td><td style = \"text-align: right;\">5</td><td style = \"text-align: right;\">0.1</td><td style = \"text-align: right;\">1</td><td style = \"text-align: left;\">Imp-then-Reg 3 - nn</td><td style = \"text-align: right;\">0.782897</td><td style = \"text-align: right;\">0.750016</td><td style = \"text-align: left;\">Any[0.7695939416516333, 0.7958369526866782, 0.8278145640625207, 0.8124808354659239, 0.8544290895660229, 0.7087692589112391, 0.8238413012544599, 0.7783586773569674, 0.6369868661215787, 0.7647952533283091, 0.8085630135075417, -0.020778445395478906, -1.1891055660540832, 0.7077366887606142, 0.5602674265551975, 0.6947784541850772, 0.9206853474053175, 0.5987469299336079, 0.8559958954823075, 0.20086105771632234, 0.5379175108047054, 0.35448059121376707, 0.7723925493486936, 0.5157677052471549, 0.8507360858830431, 0.7392890605081506, 0.31141934758392387, 0.07373389278720888, 0.8511784864352053, 0.6488826008166027, 0.8177882933551301, -0.2565481947916959, 0.3414217165319471, 0.056894587077069514, 0.5508597822858282, 0.8458237233418163, 0.8494928872877417, 0.3263251995978159, 0.46323148241814227, 0.9690389662200491, 0.5150344884057507, -Inf, 0.425406642594943, 0.5093302383580417, 0.9148947886612724, 0.5567094967881682, 0.16301185973168153, 0.8959761901680168, 0.7990287436897183, 0.7216664008860303, 0.6468482382832296, -6.087205213107657, 0.7333693038751192, 0.9278307949426374, 0.8683074677076876, -Inf, 0.8668734410655881, -Inf, -23.7629621926325, -1.721503800261969, -Inf, -Inf, -Inf, -Inf, -Inf, 0.8772305139950777, -Inf, -Inf, -Inf, 0.06111365529466117, -Inf, -Inf, -Inf, -Inf, 0.018392048928594362, -Inf, -Inf, -7.93287757095951, 0.9271954225944553, -Inf, -Inf, -6.748403023859631, -Inf, -Inf, -Inf, -Inf, 0.807283292956117, -Inf, -Inf, -Inf, -Inf, -Inf, -Inf, -Inf, -15.853452472466433, -Inf, 0.7497594053484748]</td><td style = \"text-align: left;\">Any[0.7521680994299383, 0.8123904300766639, 0.8040011960516338, 0.7996519155370673, 0.7663001016596891, 0.7809210530276217, 0.6980563026586246, 0.7874439666962774, 0.7927511384809067, 0.7370440791802451, 0.794628731186694, 0.7699219261032517, 0.16706963083381943, 0.8141231087693638, 0.7612707046169328, 0.8311941870887949, 0.914301819808216, 0.6908136751963966, 0.6537614891483523, 0.8785114620171054, 0.7269152651934047, 0.7712527645110495, 0.877733591849323, 0.8276294887122486, 0.8999718037648458, 0.8468195786481199, 0.6074067611418328, 0.9322488949966774, 0.754446717967485, 0.7312826382207773, 0.7111491448045101, 0.852810689399898, 0.9132013173996878, 0.8363869799858668, 0.9091935092637233, 0.828961186686889, 0.8527340817203795, 0.6416626303893624, 0.6261747580149295, 0.704120695434774, 0.8830364474658359, 0.8294420970853376, 0.6799462915920408, 0.7534720251163912, 0.713352835159247, 0.44966577696424526, 0.7896330422686428, 0.6140944845761758, 0.9212209841987675, 0.8633302442049511, 0.7497760348089509, 0.8924186187827025, 0.8485477167162067, 0.5804838229821985, 0.8842525059877345, 0.6957096932155452, 0.7363884172029354, 0.9149955869296442, 0.612933902828444, 0.7748957682070254, 0.8595757966489567, 0.6743709763906585, 0.979161516232696, 0.99509027668682, 0.5005095765410219, 0.9918870721184193, 0.18055269828967968, 0.9682834499185693, 0.9549620167636645, 0.913217039923502, 0.9763025003933516, 0.9757595754140497, 0.3024160962257302, 0.9337352350633826, NaN, 0.9987335790201997, 0.9100053774677388, -5.516860535006561, 0.9712494551059435, 0.9720198253594454, 0.9633858255218835, -358.1248289462613, 0.8703071147390662, 0.3586674004396836, 0.6881919417777069, 0.9156974747625289, NaN, 0.6774191059032785, 0.9855516006418766, -2.317012115408258, 0.8656088890110161, 0.9910379737540359, 0.9969193152257196, 0.9985438195031417, NaN, -3.031179313696021, 0.7340433820173857]</td><td style = \"text-align: left;\">Any[]</td><td style = \"text-align: right;\">33.3299</td><td style = \"text-align: left;\">Dict(:hidden_nodes =&gt; 5)</td><td style = \"text-align: right;\">0.76351</td><td style = \"text-align: left;\">Imp-then-Reg</td><td style = \"text-align: left;\">syn_X_mar</td><td style = \"text-align: left;\">syn_Y_linear</td><td style = \"text-align: left;\">1 - Lin-MAR</td></tr><tr><td class = \"rowNumber\" style = \"font-weight: bold; text-align: right;\">4</td><td style = \"text-align: left;\">n_1000_p_10</td><td style = \"text-align: right;\">2</td><td style = \"text-align: right;\">5</td><td style = \"text-align: right;\">0.1</td><td style = \"text-align: right;\">1</td><td style = \"text-align: left;\">Imp-then-Reg 4 - nn</td><td style = \"text-align: right;\">0.733965</td><td style = \"text-align: right;\">0.706336</td><td style = \"text-align: left;\">Any[0.7605807795236998, 0.7634209003276502, 0.795501981440903, 0.7051564685946253, 0.8878488518144565, 0.5822187780675685, 0.8417237314952828, 0.7630200470329874, 0.6673854962768224, 0.4440774842623657, 0.7742502105000912, -0.46028494391109986, -0.33885831084742235, 0.92828063095226, -0.3072833113663609, 0.5771419162614879, 0.8713327465371642, 0.5343843075644699, 0.9119651911613658, -0.08327089145391708, -0.20240886795371504, -0.19932833891369284, 0.7042731570114258, 0.957392421471461, 0.6891324453452699, 0.7280057730396803, 0.5257341665713793, -0.5559607104636988, 0.8922482737599786, 0.6051483910911541, 0.5448365364306574, -0.9110944118830671, -0.37443335936621946, -0.15538692654191455, 0.7583465940782543, 0.804515480578048, 0.7536199940432141, -0.6323949520973826, 0.47954367267217324, 0.5672789173147061, 0.1895516577910329, -Inf, 0.47086379450749727, 0.6797708037941008, 0.9452380994442241, 0.3067173792400051, 0.2962643879309851, 0.818379557947117, 0.5627095188067072, 0.6257184251899214, 0.6035497142080817, -16.428507670505187, 0.5777249137394478, 0.9264624606954023, 0.9111984124711572, -Inf, 0.8373958647834616, -Inf, -2.033105485790371, 0.7203423679908647, -Inf, -Inf, -Inf, -Inf, -Inf, 0.8103118890562873, -Inf, -Inf, -Inf, -3.0823651591877175, -Inf, -Inf, -Inf, -Inf, 0.33400441807047676, -Inf, -Inf, -5.173059018520357, 0.5876802472623965, -Inf, -Inf, -6.450071369631795, -Inf, -Inf, -Inf, -Inf, 0.4688024139614889, -Inf, -Inf, -Inf, -Inf, -Inf, -Inf, -Inf, -47.82713250515329, -Inf, 0.6140961671656445]</td><td style = \"text-align: left;\">Any[0.7448310331115977, 0.795218173605973, 0.7583328022946928, 0.7585617660335339, 0.7594753406220568, 0.7690065518684406, 0.6705681273761129, 0.7760313539470453, 0.7943118541555901, 0.33594438803391435, 0.7595136342465623, 0.7592170392602272, 0.3261855733353197, 0.7570865230253282, 0.5166904732074097, 0.7302563713615071, 0.8977349509103848, 0.5515024401196975, 0.6445669260908651, 0.8922342296577563, 0.6386180643793228, 0.7968715029994429, 0.8571030305764274, 0.7746664091765094, 0.8464330928633592, 0.5219095265569931, 0.48462523487076214, 0.8248020359977007, 0.6726583554428207, 0.3458246547318724, 0.42220064128176293, 0.7976647137930173, 0.8895207878245436, 0.7261748436241923, 0.47893340088919956, 0.8126988344846575, 0.8436566046095951, 0.6530754124473082, 0.5856358954438008, 0.5267347887858054, 0.8865490427568574, 0.768092696890196, 0.6799575419133561, 0.632361693393271, 0.7456056433184635, 0.4235032766050755, 0.8217402920737599, 0.70174820984087, 0.6204044642180758, 0.8689517655396923, 0.7940597973053841, 0.8251637575568261, 0.7523013416897135, 0.6103225138854386, 0.8717593797245745, 0.75537993724204, 0.7750344283185737, 0.9567490543650417, -0.16281504811226455, 0.1616027915138355, 0.7666918365771874, 0.3983821242255987, 0.9660340293143368, 0.9379563599834282, -0.3733776550270793, 0.8691827527973193, -0.12294298332071385, 0.9833680817005382, 0.8986760125832389, 0.9209952057171302, 0.9688538237554045, 0.9657577043393641, 0.7722997824925335, 0.8365740106204616, NaN, 0.9991383742748394, 0.42965039137570604, -61.80995082094497, 0.9099899658628816, 0.93649299919285, 0.878865824403205, -275.6345813785419, 0.8924228703224191, -2.8994498156777255, 0.9159452514653921, 0.8959539614185411, NaN, 0.7785091742249702, 0.05021736924923692, -0.05342967389480946, 0.8664153970234746, 0.8013680549445384, 0.9867243213952334, 0.9999624824563382, NaN, -9.762324970613118, 0.7105725900517874]</td><td style = \"text-align: left;\">Any[-0.42866392298366984, 1.0251187628444092, -1.0368463398831775, -0.3417904042252529, -0.5864453739417947, 1.018953445500854, -0.33199172783580433, -1.2494065855290715, -0.4943958222281771, 0.047070671165473775]</td><td style = \"text-align: right;\">44.2912</td><td style = \"text-align: left;\">Dict(:hidden_nodes =&gt; 5)</td><td style = \"text-align: right;\">0.71201</td><td style = \"text-align: left;\">Imp-then-Reg</td><td style = \"text-align: left;\">syn_X_mar</td><td style = \"text-align: left;\">syn_Y_linear</td><td style = \"text-align: left;\">1 - Lin-MAR</td></tr><tr><td class = \"rowNumber\" style = \"font-weight: bold; text-align: right;\">5</td><td style = \"text-align: left;\">n_1000_p_10</td><td style = \"text-align: right;\">2</td><td style = \"text-align: right;\">5</td><td style = \"text-align: right;\">0.1</td><td style = \"text-align: right;\">10</td><td style = \"text-align: left;\">Imp-then-Reg 1 - nn</td><td style = \"text-align: right;\">0.427568</td><td style = \"text-align: right;\">0.389282</td><td style = \"text-align: left;\">Any[0.4366348799930332, 0.5436226762274985, 0.19010290077451863, 0.3306631463447812, 0.38777194494981504, 0.47449666159102566, 0.41465205929207993, 0.5202751752177699, 0.40831741266961974, 0.05541533478359428, 0.3975317072611525, -3.02456976577825, -3.4809131328985217, 0.11539845681913641, 0.6070047852054365, -0.5022048449780623, 0.5061178911995885, 0.627589488753527, 0.22845077621941223, 0.4666630043977038, 0.549158952582053, 0.11516343633096804, 0.7848695255704033, -1.9977681536783165, -9.904231687047618, -0.6593105090736526, -1.3540323526517755, 0.5266530160118904, 0.714333313696264, -0.35285416878042364, -1.0404704801791564, -0.1732418669296476, -0.6827258518373127, 0.07543580019907481, 0.0866657554054232, -Inf, 0.4199852727563762, -0.4390575071937812, -Inf, 0.5774691587095182, -0.13789421175044203, 0.6068254787526659, -2.3508761453064957, 0.21245261208683408, 0.6571429467272203, -0.5549998773115323, -0.36668019873888147, -Inf, -Inf, -Inf, 0.048987369534396974, -Inf, -Inf, -Inf, -Inf, 0.6673218607971678, 0.725913989287794, -Inf, -Inf, -1.0725656202637452, -Inf, 0.7748275033262362, -Inf, -Inf, -Inf, -Inf, -Inf, -Inf, -Inf, -Inf, -Inf, -Inf, -37.885009713167214, -Inf, -Inf, -Inf, -Inf, -Inf, 0.36459501003854267]</td><td style = \"text-align: left;\">Any[0.3886685005868725, 0.4174667627562043, 0.43918984618745993, 0.3924778633433835, 0.4001224126380658, 0.3911103689017056, 0.3841026227398574, 0.4831364686348192, 0.45205733753676547, 0.4032158305327277, 0.3233426364916955, 0.6412147186675565, 0.6174688021401982, 0.4841937905151057, 0.38447913181360316, 0.3659951752789843, 0.400039295808166, 0.44187280505728, 0.06865854485107581, 0.1956425507306191, 0.6015482598613835, 0.3999884868995488, 0.41772932307567545, 0.24066797428013476, 0.6404577213146443, 0.3444720068406384, 0.5144577627564635, 0.6131348852972565, 0.5436255908232925, 0.3356544186294922, 0.6139907991012576, 0.719681489788158, 0.4254785407502196, 0.19899841410100294, 0.30367623861171544, 0.8157657865895847, 0.34364054382541664, 0.356627323637393, 0.6961129731223914, 0.6964764255507263, 0.39757064187662006, 0.64200463069248, 0.5839775725379359, 0.6924838261125585, 0.5719488715433722, 0.3888760057992061, 0.591865135708423, -0.04613978766252491, 0.6629354629671254, 0.44941089947426904, 0.2400691521349304, 0.8203644557179823, 0.6729617069489706, 0.9147491767151816, 0.9458451160713419, -0.41756297310371826, 0.04180872877437147, -0.13369005628410946, 0.4238396800263651, 0.10271466542336283, 0.8340164224874467, -0.08006171582451582, 0.42498823300596233, 0.8913131064694804, -1.2437356454433406, -1.205464635694684, 0.4996487222648547, 0.891888948541025, 0.17982993098075994, 0.9965201262915007, 0.5761334211442724, 0.7347430290547059, -2.646180198788289, -102.63152078230799, 0.9288126207835536, 0.9886572904280915, -1.4473400117715105, 0.997737103052332, 0.440658814608907]</td><td style = \"text-align: left;\">Any[]</td><td style = \"text-align: right;\">46.8637</td><td style = \"text-align: left;\">Dict(:hidden_nodes =&gt; 5)</td><td style = \"text-align: right;\">0.381919</td><td style = \"text-align: left;\">Imp-then-Reg</td><td style = \"text-align: left;\">syn_X_mar</td><td style = \"text-align: left;\">syn_Y_linear</td><td style = \"text-align: left;\">1 - Lin-MAR</td></tr><tr><td class = \"rowNumber\" style = \"font-weight: bold; text-align: right;\">6</td><td style = \"text-align: left;\">n_1000_p_10</td><td style = \"text-align: right;\">2</td><td style = \"text-align: right;\">5</td><td style = \"text-align: right;\">0.1</td><td style = \"text-align: right;\">10</td><td style = \"text-align: left;\">Imp-then-Reg 2 - nn</td><td style = \"text-align: right;\">0.427881</td><td style = \"text-align: right;\">0.399551</td><td style = \"text-align: left;\">Any[0.4252096480074009, 0.5829479304476874, 0.07376517606301647, 0.4296458405411727, 0.3146113850342459, 0.48052158755121344, 0.3859225561699624, 0.5575160281812015, 0.3427645036093403, -0.03049340253404953, 0.334877561482506, -2.509518235640218, -4.761457912648442, -0.12378759682922569, 0.6011270346256892, -0.5689813124736434, 0.5600853378318729, 0.6776760886844242, 0.1980978888591256, 0.6152669737897942, 0.5741654314468628, 0.21275361716713126, 0.7570733610515186, -2.070786506489417, -15.208455469407248, -0.9447762083909819, -0.24369520541348177, 0.4892884045824142, 0.7437195011748486, -0.3625325699328008, -0.6730071960582023, -0.12504455012164062, -0.23095235578229878, -0.08546421004788374, 0.04466460660908145, -Inf, 0.40657199277149425, -0.44357516487390525, -Inf, 0.6911101281568719, -0.28770857957813134, -0.010624551724792486, -2.742902463418436, 0.2780636392981688, 0.6464381695087156, -0.8371501169475124, -0.20939604139812085, -Inf, -Inf, -Inf, 0.3945793218250304, -Inf, -Inf, -Inf, -Inf, 0.8639736231050297, 0.5218675521890763, -Inf, -Inf, -0.8218640996994864, -Inf, 0.8040932022045952, -Inf, -Inf, -Inf, -Inf, -Inf, -Inf, -Inf, -Inf, -Inf, -Inf, -39.22592110149481, -Inf, -Inf, -Inf, -Inf, -Inf, 0.49954762943086595]</td><td style = \"text-align: left;\">Any[0.40570495574129783, 0.42362851000091095, 0.44380068164692943, 0.4076537229660564, 0.4407214030575516, 0.4143679932592026, 0.4038748739628887, 0.5033139693450794, 0.4502954548460324, 0.3866387632421956, 0.31538200830074836, 0.6451705085150572, 0.5056596791547128, 0.482915770138708, 0.35761434458054187, 0.34963333686929654, 0.3379441884714427, 0.44309446665591146, 0.15807873802432282, 0.16752587959708165, 0.624132088437471, 0.3608124285426838, 0.3996170996399472, 0.31894599543455426, 0.5886477985909035, 0.290490557850959, 0.5234467017615672, 0.6558078409317141, 0.5791758274984469, 0.39979361759665655, 0.6419063548159104, 0.7555156052749619, 0.5100434857260072, 0.276290876204472, 0.4398170634510997, 0.7970450169666181, 0.29887358650733975, 0.42839196565132365, 0.7197065872751095, 0.6689700713539305, 0.4576453540728197, 0.6740243735822611, 0.5366264890205361, 0.7240916969044213, 0.5290752509650987, 0.3933168053184064, 0.5550067856529652, -0.025489693534216817, 0.670080363471315, 0.5023277228980618, -0.0026208471829554103, 0.7455010110109045, 0.6480212180245126, 0.9201413875603472, 0.8777413847128028, -7.004574876031448, 0.5721947088146482, -0.39490744093377184, 0.260496428735436, -0.6525977168720118, 0.8158166785339495, -0.41226232164086696, 0.3719183201339611, 0.8815539976057037, -1.1993600498746524, -16.9303665891718, 0.42033371651205953, 0.9071824708959136, -0.8171729293141521, 0.9989966105014764, 0.667363305980778, 0.761407043945851, -2.5640932817718776, -61.202985483950606, 0.9190176141904917, 0.2918054279240655, -7.033636189818347, 0.9867005802034079, 0.42508472861072333]</td><td style = \"text-align: left;\">Any[]</td><td style = \"text-align: right;\">58.512</td><td style = \"text-align: left;\">Dict(:hidden_nodes =&gt; 5)</td><td style = \"text-align: right;\">0.392127</td><td style = \"text-align: left;\">Imp-then-Reg</td><td style = \"text-align: left;\">syn_X_mar</td><td style = \"text-align: left;\">syn_Y_linear</td><td style = \"text-align: left;\">1 - Lin-MAR</td></tr><tr><td class = \"rowNumber\" style = \"font-weight: bold; text-align: right;\">7</td><td style = \"text-align: left;\">n_1000_p_10</td><td style = \"text-align: right;\">2</td><td style = \"text-align: right;\">5</td><td style = \"text-align: right;\">0.1</td><td style = \"text-align: right;\">10</td><td style = \"text-align: left;\">Imp-then-Reg 3 - nn</td><td style = \"text-align: right;\">0.427881</td><td style = \"text-align: right;\">0.399448</td><td style = \"text-align: left;\">Any[0.4252096647763447, 0.582947912398432, 0.07376515027429675, 0.4296458391748972, 0.3146113672897084, 0.4805216443120398, 0.3859225401490527, 0.5575160295912418, 0.34276450489340937, -0.030493413864385976, 0.3348776442337337, -2.5095174054562213, -4.761459586704755, -0.12378743830834193, 0.6011270649986382, -0.568981267766516, 0.5600853953338678, 0.6776760818242833, 0.19809759171100239, 0.6152669333629466, 0.5741653805384368, 0.2127535885216988, 0.7570734204519126, -2.070786008625238, -15.208455195785191, -0.9447764280252771, -0.24369520541348177, 0.4892883843750636, 0.7437194392067887, -0.3625326699225855, -0.6730072908583418, -0.12504452866974836, -0.23095235578229878, -0.08546421004788374, 0.04466454105819173, -Inf, 0.40657200363953383, -0.44357492085588723, -Inf, 0.6911101777806332, -0.28770921647916614, -0.010624208703149618, -2.7429022573970863, 0.27806371250309114, 0.6464381901536351, -0.8371500237095872, -0.20939605099736247, -Inf, -Inf, -Inf, 0.39457921703906995, -Inf, -Inf, -Inf, -Inf, 0.8639736435822897, 0.5218677386591806, -Inf, -Inf, -0.8218640996994864, -Inf, 0.8040929188407949, -Inf, -Inf, -Inf, -Inf, -Inf, -Inf, -Inf, -Inf, -Inf, -Inf, -39.22591528261121, -Inf, -Inf, -Inf, -Inf, -Inf, 0.4995476355108115]</td><td style = \"text-align: left;\">Any[0.40570495500412873, 0.4248943719667838, 0.4438450883520949, 0.4076885197120439, 0.43705071790736616, 0.4128271357703309, 0.3990443201493289, 0.5035857922251508, 0.4504521651915314, 0.387802577678781, 0.3178778243454907, 0.6461879526791754, 0.5071141515954812, 0.4851360438318276, 0.3540915261379083, 0.3402886267434493, 0.3339688121763963, 0.44262393216182705, 0.15354331634132612, 0.1672885262138919, 0.6245048488076427, 0.3741136484125215, 0.3968107086975966, 0.3163227495030948, 0.5703464473024893, 0.2825717601509258, 0.5264244357605299, 0.6543322771608306, 0.5317695395154949, 0.3930700488416665, 0.6419284693690743, 0.7551647491096799, 0.50926451036932, 0.22091056400611941, 0.4421064800726664, 0.7972690222888987, 0.3044908310893829, 0.43111459296545174, 0.7126270462133109, 0.673898174242546, 0.4274540234719175, 0.6723107153568608, 0.5461614253252586, 0.7419796230813425, 0.5351550619862939, 0.39123918321548834, 0.5584837722809811, -0.0037233438765333915, 0.658509120735326, 0.5621368519672294, 0.2016072752562752, 0.7569506129057672, 0.6454900461698536, 0.9198646460225226, 0.9123681637013938, -7.3932722341076325, 0.4166533523812377, -0.4052593749519522, 0.37383536387992733, -0.6532447870180236, 0.8159002650852678, -0.3819915261350062, 0.37221130151924686, 0.9211137064456683, -1.204609699480339, -4.663954192027965, 0.4051033448307656, 0.9066853682283815, 0.142831484813013, 0.9989227889320881, 0.6667263997465183, 0.7616746755607389, -5.587234531198056, -53.803362089735934, 0.9143914138985048, 0.6900343655690095, -8.270317450305058, 0.988520926117294, 0.34281491185138513]</td><td style = \"text-align: left;\">Any[]</td><td style = \"text-align: right;\">55.9656</td><td style = \"text-align: left;\">Dict(:hidden_nodes =&gt; 5)</td><td style = \"text-align: right;\">0.392127</td><td style = \"text-align: left;\">Imp-then-Reg</td><td style = \"text-align: left;\">syn_X_mar</td><td style = \"text-align: left;\">syn_Y_linear</td><td style = \"text-align: left;\">1 - Lin-MAR</td></tr><tr><td class = \"rowNumber\" style = \"font-weight: bold; text-align: right;\">8</td><td style = \"text-align: left;\">n_1000_p_10</td><td style = \"text-align: right;\">2</td><td style = \"text-align: right;\">5</td><td style = \"text-align: right;\">0.1</td><td style = \"text-align: right;\">10</td><td style = \"text-align: left;\">Imp-then-Reg 4 - nn</td><td style = \"text-align: right;\">0.420074</td><td style = \"text-align: right;\">0.35315</td><td style = \"text-align: left;\">Any[0.4303511504413934, 0.5686686433638384, 0.33579075011963144, 0.39697051377992987, 0.3731021352178082, 0.39627953508969327, 0.3994176293795436, 0.5872182423298158, 0.39781080356368115, 0.17073250168065257, 0.19872754436482098, -2.397424193368689, -2.268843392426981, 0.004460703479162387, 0.565818812553273, -0.15924766704777382, 0.32998673763890773, 0.5199129614924107, 0.14626919493125934, 0.4359968717529237, 0.3862788184008218, 0.23725873278581733, 0.6287368574500016, -1.4599222260030862, -12.947302398673164, -0.8305768146663544, -0.4179737361661384, 0.5886884635069901, 0.7479779650875589, -0.35905518577392215, -1.1110211115488418, -0.14539397029884182, 0.9799065287870853, -0.4760285859526687, -0.16621827204755357, -Inf, 0.3694768354670762, -0.7231275435781279, -Inf, 0.2809882151570552, -0.4983073179312447, -0.019315607522374822, -1.6959542903349787, 0.3962188024183759, 0.5579496140878539, -1.149290802817438, -0.69979304641889, -Inf, -Inf, -Inf, -0.27970368808388124, -Inf, -Inf, -Inf, -Inf, 0.605747398339803, 0.8026151869122558, -Inf, -Inf, 0.03494098754101482, -Inf, 0.9254352573036184, -Inf, -Inf, -Inf, -Inf, -Inf, -Inf, -Inf, -Inf, -Inf, -Inf, -108.17329593202665, -Inf, -Inf, -Inf, -Inf, -Inf, 0.2122324730435151]</td><td style = \"text-align: left;\">Any[0.3685687298424143, 0.38323526543093045, 0.34068950430240386, 0.3634571992940603, 0.4022679794882331, 0.3373238765714358, 0.3988246930284609, 0.43068420995921397, 0.4033535942613362, 0.4175712004656449, 0.34076638332253906, 0.6387422210061031, 0.48519436048550313, 0.541370928809147, 0.33483769505538685, 0.45115956822114034, 0.37343992707463114, 0.43147495857300744, 0.03221400553747411, 0.109027523746285, 0.49072208465095146, 0.3435294433593551, 0.3388268064925841, 0.16154052045417866, 0.5560196758244456, 0.3910412944564947, 0.2613071131144983, 0.6046321831946262, 0.470704567335678, 0.29703415845595493, 0.6405341142760594, 0.6585460969959561, 0.3592521161203107, -0.03467983990380863, 0.3087912774393087, 0.8049153561337221, 0.30596152019565326, 0.5335505231784816, 0.6660722061179443, 0.6529478451045959, 0.5364309481627815, 0.5274605793209497, 0.4429701738170042, 0.6753881307733154, 0.5138610755311672, 0.31097864272479137, 0.6816938106074759, 0.057763912330316636, 0.6858650103627912, 0.317068419815528, 0.07479665778515321, 0.685279600461373, 0.741615465129814, 0.8666453817625264, 0.760503308478791, -0.4847406971855994, 0.8134513967524555, -0.22005993937870927, 0.2364923977545742, 0.7538061881858285, 0.7509168049801958, -0.07804494799768569, 0.3087872726844859, 0.9297231017123067, -1.6883551584142689, -2.649687463372799, 0.31293657811201026, 0.8681207045770818, -0.6973562379559348, 0.9404134098569568, 0.48911183516965595, 0.7594021270877005, -2.718818127955238, -14.314696426456484, 0.995427078672344, 0.9133736850042714, -13.142454452541521, 0.9965064539644239, 0.31297799402124005]</td><td style = \"text-align: left;\">Any[-0.34248833572898024, 1.0687173728234751, -1.0235288149660053, -0.5132152319429715, 0.9727544156421395, -0.5042845886572083, -1.1591633154295267, -0.43771778641023035, 0.13789382406972084]</td><td style = \"text-align: right;\">45.8</td><td style = \"text-align: left;\">Dict(:hidden_nodes =&gt; 5)</td><td style = \"text-align: right;\">0.354542</td><td style = \"text-align: left;\">Imp-then-Reg</td><td style = \"text-align: left;\">syn_X_mar</td><td style = \"text-align: left;\">syn_Y_linear</td><td style = \"text-align: left;\">1 - Lin-MAR</td></tr><tr><td class = \"rowNumber\" style = \"font-weight: bold; text-align: right;\">9</td><td style = \"text-align: left;\">n_1000_p_10</td><td style = \"text-align: right;\">2</td><td style = \"text-align: right;\">5</td><td style = \"text-align: right;\">0.1</td><td style = \"text-align: right;\">2</td><td style = \"text-align: left;\">Imp-then-Reg 1 - nn</td><td style = \"text-align: right;\">0.796302</td><td style = \"text-align: right;\">0.791629</td><td style = \"text-align: left;\">Any[0.8017022771201804, 0.8138346476642295, 0.8484447179939855, 0.7279801036716174, 0.8161972541949157, 0.7844597076789214, 0.6907898642275283, 0.8545467103092715, 0.8659452499641678, 0.7468641270117076, 0.740015047341041, 0.8806263817993235, 0.7922834319158887, 0.7834960181499493, 0.636501267892068, 0.5221423598937255, 0.74402478375584, -0.1702742086608109, 0.8665508478503321, -0.3844463202261359, 0.9108670824188131, 0.4801832911764604, 0.8057252010623004, 0.8968762473218592, 0.680610677712051, 0.569306682901328, 0.7100563692268782, 0.6617169882742691, 0.7256718693979365, 0.8273458975400354, -9.583437857626066, -2.155774017379486, 0.39553069869768687, 0.23456298783399887, 0.9577582705478375, 0.892359939298553, 0.8233715338206609, 0.6976533231833588, 0.7591736591247334, 0.4372419620241029, 0.3620676158320896, -0.5487021324466317, 0.6395642306186773, 0.9622128413883845, 0.9326603009803422, -Inf, -Inf, -Inf, -10.492258501330024, -Inf, -Inf, -259.5374422667785, -2.2047158048110207, -Inf, -Inf, -Inf, -Inf, -Inf, 0.7518112225245934, -Inf, -0.09423888560051141, -Inf, -15.631146322474212, -Inf, -Inf, -Inf, 0.4335400463823025, -Inf, -Inf, -Inf, -Inf, 0.8945646364260715, -175.48872334493308, -Inf, -Inf, -Inf, -Inf, -Inf, -Inf, -Inf, -Inf, 0.5191279935646332]</td><td style = \"text-align: left;\">Any[0.7897578674774436, 0.8018618524838745, 0.7715053121256235, 0.7552516615495283, 0.7417430744223037, 0.840766911153825, 0.8236218176905774, 0.8007020978024952, 0.812201963426673, 0.8484970816886604, 0.815843641350874, 0.7829132304012867, 0.7714173425151214, 0.8363545597778772, 0.8285429147531354, 0.8269880515364978, 0.7446505111532624, 0.7205271982386132, 0.8580766893247153, 0.6899512237364254, 0.7288121505514309, 0.8848249472385096, 0.9045193392916986, 0.8358040222547982, 0.8377870198726878, 0.8531769416418944, 0.6335728878216235, 0.839339232932082, 0.6710739561272128, 0.7789337760701939, 0.8340389345467599, 0.8497711144058634, 0.9249011161912575, 0.8137901479759098, 0.8267205629974135, 0.826340921100131, 0.797529431040721, 0.9028465249985602, 0.835330424176285, 0.8570401695451637, 0.8797987605801455, 0.8445698043287346, 0.9488112107065276, 0.8319864702312051, 0.7782325856099612, 0.9259102549328351, 0.9534579500765723, 0.7269811834754916, 0.745950608181226, 0.8883139053743965, 0.8840076895982165, 0.8453301005931257, 0.8259801404320223, 0.8591005964955498, 0.17819574753320955, 0.9705335334239478, 0.23330071566281718, 0.0007046671641501856, 0.39565238622975507, 0.9945980921017756, 0.9625283986447464, 0.32236855974418144, 0.9772738088508249, -1.170715180050653, 0.895158252648469, 0.9369540184375449, 0.7626329494982629, 0.9997807177804464, 0.6843098605889824, 0.7947495968417742, 0.8694303564955288, 0.6951935545923273, -0.4119609986078152, 0.8310439654349921, 0.9801471569062574, -2.677241717570779, 0.992342801138933, 0.9937745467804336, 0.8069294663453, -93.89674429224952, 0.9463105886255487, 0.7538231560726422]</td><td style = \"text-align: left;\">Any[]</td><td style = \"text-align: right;\">37.6152</td><td style = \"text-align: left;\">Dict(:hidden_nodes =&gt; 5)</td><td style = \"text-align: right;\">0.782113</td><td style = \"text-align: left;\">Imp-then-Reg</td><td style = \"text-align: left;\">syn_X_mar</td><td style = \"text-align: left;\">syn_Y_linear</td><td style = \"text-align: left;\">1 - Lin-MAR</td></tr><tr><td class = \"rowNumber\" style = \"font-weight: bold; text-align: right;\">10</td><td style = \"text-align: left;\">n_1000_p_10</td><td style = \"text-align: right;\">2</td><td style = \"text-align: right;\">5</td><td style = \"text-align: right;\">0.1</td><td style = \"text-align: right;\">2</td><td style = \"text-align: left;\">Imp-then-Reg 2 - nn</td><td style = \"text-align: right;\">0.793859</td><td style = \"text-align: right;\">0.786556</td><td style = \"text-align: left;\">Any[0.7994279411603342, 0.8082055408822351, 0.8448957678664777, 0.6999438453171385, 0.8169656247919546, 0.7858660407024767, 0.6737817366982672, 0.8578347867344018, 0.8641489333031086, 0.7405858653657741, 0.7851543268179229, 0.8680910031648345, 0.7833482682292734, 0.8106308782047077, 0.6277452593338941, 0.520287901852242, 0.7037689995455148, -0.3993260694523004, 0.8367888299342725, -0.2850082430462655, 0.9043879340814462, 0.5351593696030147, 0.7965716112234889, 0.7838664652074602, 0.6786856186573922, 0.6358014464047106, 0.6591487279496332, 0.6726644344418851, 0.6827841931197063, 0.8283210407999014, -7.589503478655379, -2.0880920892636534, 0.540467463002453, 0.29594008313666975, 0.9740155952611258, 0.8775336021056935, 0.8730395063876283, 0.8442130132138419, 0.794651277834529, 0.46088292729589464, 0.2945919419871186, 0.41967305302337543, 0.7450205959060751, 0.9732866257764914, 0.9628367343744092, -Inf, -Inf, -Inf, -9.083355536285557, -Inf, -Inf, -285.09270049368735, -0.21875075461289017, -Inf, -Inf, -Inf, -Inf, -Inf, 0.6769120625762295, -Inf, -0.08638257959278017, -Inf, -10.22103898861963, -Inf, -Inf, -Inf, 0.3930040020477319, -Inf, -Inf, -Inf, -Inf, 0.8885688965701214, -307.02924045670454, -Inf, -Inf, -Inf, -Inf, -Inf, -Inf, -Inf, -Inf, 0.40057338817518395]</td><td style = \"text-align: left;\">Any[0.7867960066137684, 0.8028890783113746, 0.7577012245391297, 0.7492497787999545, 0.7353342904328992, 0.8397421183271672, 0.8206535617082806, 0.8002682067235234, 0.809054480969488, 0.8436275903862587, 0.8108107366659636, 0.7759155113761208, 0.7657754303501978, 0.8222583994204353, 0.8086266631473356, 0.8417406019494781, 0.7320734854692106, 0.6591526967672057, 0.876941123529496, 0.6345168152570089, 0.7301141372577542, 0.8753847266124208, 0.9044383452919689, 0.7970154692999691, 0.8568495381114788, 0.8481209081915677, 0.622010623345796, 0.8210471067450026, 0.7168147233317315, 0.7660979331207562, 0.8318164275465161, 0.8564754205616983, 0.9256463843190702, 0.7985600777563293, 0.823519603642052, 0.8368339029954719, 0.7756135786273715, 0.8685960163619513, 0.8235509720751647, 0.8384215373680368, 0.8786280392692184, 0.857279148258958, 0.9517298934321945, 0.8404214408404004, 0.8212926633382763, 0.9314997041927269, 0.9681125996621087, 0.7682658963203274, 0.782517942241871, 0.9074107611913024, 0.8867281066362728, 0.8173779720211305, 0.8831624174071493, 0.8111389447204527, 0.41229467021143495, 0.9691098536803866, 0.16036695601819262, 0.09400634735435931, 0.21262638628633124, 0.9956436832261534, 0.9540854046062717, 0.24671159825435784, 0.978191567732168, -1.4845669617978023, 0.9816686618256507, 0.9815203006522207, 0.664024612295442, 0.9986108618452576, 0.7753143227176187, 0.8272652433453636, 0.8215728679401677, 0.698841509848171, -0.16913174358617122, 0.8095678740708316, 0.9816506420865242, -2.575302136431561, 0.93783285434999, 0.9936260421901012, 0.8572592584578097, -57.32514173161605, 0.9095457201543555, 0.7267825606932892]</td><td style = \"text-align: left;\">Any[]</td><td style = \"text-align: right;\">49.6144</td><td style = \"text-align: left;\">Dict(:hidden_nodes =&gt; 5)</td><td style = \"text-align: right;\">0.784006</td><td style = \"text-align: left;\">Imp-then-Reg</td><td style = \"text-align: left;\">syn_X_mar</td><td style = \"text-align: left;\">syn_Y_linear</td><td style = \"text-align: left;\">1 - Lin-MAR</td></tr><tr><td class = \"rowNumber\" style = \"font-weight: bold; text-align: right;\">11</td><td style = \"text-align: left;\">n_1000_p_10</td><td style = \"text-align: right;\">2</td><td style = \"text-align: right;\">5</td><td style = \"text-align: right;\">0.1</td><td style = \"text-align: right;\">2</td><td style = \"text-align: left;\">Imp-then-Reg 3 - nn</td><td style = \"text-align: right;\">0.793859</td><td style = \"text-align: right;\">0.786698</td><td style = \"text-align: left;\">Any[0.7994279440953269, 0.8082055399367851, 0.8448957721238239, 0.6999438528487127, 0.8169656341713963, 0.7858660436370998, 0.6737817353619651, 0.857834793633282, 0.8641489276156935, 0.7405858641630525, 0.7851543958245977, 0.8680909977603722, 0.7833482717431769, 0.8106309126739237, 0.6277452600815124, 0.5202878115678146, 0.7037689995455148, -0.39932610419626147, 0.8367888071731544, -0.2850083715882721, 0.9043879446707807, 0.5351593490974261, 0.7965716381771106, 0.7838665341262965, 0.6786856300350064, 0.6358014723550626, 0.6591487067706634, 0.6726644517520347, 0.6827842766196062, 0.8283209983300712, -7.589505427196791, -2.088091833753691, 0.540467463002453, 0.295940088790568, 0.9740155963896429, 0.877533628587872, 0.8730395321679743, 0.8442130158938534, 0.7946511570027486, 0.4608829741643673, 0.2945919660850679, 0.41967301358904496, 0.7450204931295596, 0.9732866257764914, 0.9628367343714477, -Inf, -Inf, -Inf, -9.083354181800877, -Inf, -Inf, -285.09270049368735, -0.21875061867821066, -Inf, -Inf, -Inf, -Inf, -Inf, 0.6769119938645722, -Inf, -0.08638257959278017, -Inf, -10.221032184505882, -Inf, -Inf, -Inf, 0.3930039163386687, -Inf, -Inf, -Inf, -Inf, 0.8885689219668359, -307.0292895658839, -Inf, -Inf, -Inf, -Inf, -Inf, -Inf, -Inf, -Inf, 0.4005733632600771]</td><td style = \"text-align: left;\">Any[0.7867960047280731, 0.8014187369626515, 0.7571111866805431, 0.7491809570397552, 0.734738340898976, 0.8394075220633465, 0.820631246412784, 0.8002255081285725, 0.8091781240660929, 0.8435100861073525, 0.810544254139718, 0.7774795266551879, 0.768404247088591, 0.8229050991725704, 0.8082814344194479, 0.845791979726108, 0.7316626908462698, 0.6517296581274544, 0.8777849078838529, 0.6419608164231347, 0.7295251705097645, 0.8750053648190814, 0.9053736190176684, 0.8167867943921224, 0.8565070366961982, 0.8474754701009491, 0.6244975090208368, 0.8184056825098244, 0.7143288537384659, 0.7643417128652367, 0.8307045469702637, 0.8567325651026491, 0.9221944588512797, 0.7988127540397807, 0.8223431149472225, 0.8351610256373383, 0.7758430304560073, 0.9011378936384404, 0.8286557483398191, 0.8352405246829324, 0.8786674791386504, 0.8529231564838499, 0.9526047132195149, 0.8424987666813252, 0.8225296286441544, 0.9311894700953842, 0.969199404280111, 0.7268751651656975, 0.7136981562319378, 0.8948706017618002, 0.8855979780700493, 0.8156991657607542, 0.8064305831488486, 0.8568340367619324, 0.1516865248384176, 0.9688609628039389, 0.16323176742685996, -0.046699809019737915, 0.209149785519688, 0.995591625089831, 0.9513477993551803, 0.2667906278453438, 0.9781444953681983, -1.4934390493159917, 0.8481057706796841, 0.980999067383302, 0.662321005626781, 0.9985901118036257, 0.7736723372847696, 0.827042028922338, 0.8269909557627477, 0.6927594309813008, -0.194627387569132, 0.8061895055773565, 0.9820090353304757, -2.6587307482221663, 0.9960675587657036, 0.9936284684578728, 0.8621564077269847, -57.282256441266725, 0.9393771253844028, 0.6993950479226865]</td><td style = \"text-align: left;\">Any[]</td><td style = \"text-align: right;\">47.6617</td><td style = \"text-align: left;\">Dict(:hidden_nodes =&gt; 5)</td><td style = \"text-align: right;\">0.784006</td><td style = \"text-align: left;\">Imp-then-Reg</td><td style = \"text-align: left;\">syn_X_mar</td><td style = \"text-align: left;\">syn_Y_linear</td><td style = \"text-align: left;\">1 - Lin-MAR</td></tr><tr><td class = \"rowNumber\" style = \"font-weight: bold; text-align: right;\">12</td><td style = \"text-align: left;\">n_1000_p_10</td><td style = \"text-align: right;\">2</td><td style = \"text-align: right;\">5</td><td style = \"text-align: right;\">0.1</td><td style = \"text-align: right;\">2</td><td style = \"text-align: left;\">Imp-then-Reg 4 - nn</td><td style = \"text-align: right;\">0.789213</td><td style = \"text-align: right;\">0.761528</td><td style = \"text-align: left;\">Any[0.8014463621560536, 0.810475630014851, 0.828285163699197, 0.7288637249258771, 0.7644077146074285, 0.8349209232499958, 0.7092772738723954, 0.8417940294524395, 0.885852462302479, 0.7496279875257225, 0.4544324312151573, 0.7886680668789146, 0.709420522345904, 0.6481736279695751, 0.4577378214144646, 0.6873108728557117, 0.8749400479774867, -0.5442399232220152, 0.8569650564001944, 0.08210497902880498, 0.8555499551061264, 0.46073544295946667, 0.7416263816583252, 0.8263852233382314, 0.6582346367557983, 0.45544347507676686, 0.6836126682790862, 0.7677705276617988, 0.7164485122356838, 0.7686193186794836, -7.0527603550782185, -2.411392476351321, 0.6464897943124956, 0.4262433842302562, 0.8960384387821207, 0.9030408424982183, 0.9703802525625167, 0.6561497270133891, 0.5897061447877456, 0.659572356779043, 0.39716993544828993, -5.742538714505054, 0.26535835451699463, 0.8710132880003553, 0.9277907284794721, -Inf, -Inf, -Inf, -16.51828895246855, -Inf, -Inf, -230.32328717077414, -3.2178321491648516, -Inf, -Inf, -Inf, -Inf, -Inf, 0.5173607288666007, -Inf, -5.200891432773221, -Inf, -37.284986090988866, -Inf, -Inf, -Inf, 0.5728704642525767, -Inf, -Inf, -Inf, -Inf, 0.7718261308705563, -162.43759358364932, -Inf, -Inf, -Inf, -Inf, -Inf, -Inf, -Inf, -Inf, 0.4696497014380687]</td><td style = \"text-align: left;\">Any[0.782478868159112, 0.7892255727961127, 0.7700930915876548, 0.7356069607173943, 0.570493518224153, 0.8277268671351594, 0.8072891267085136, 0.7598796924142102, 0.7903688357752539, 0.8402540624379502, 0.7976747395007834, 0.46101123914831144, 0.7566667887545877, 0.7212206592041635, 0.6919154424101275, 0.8278399062412406, 0.7388965300817484, 0.6931527722573314, 0.8399095365446823, 0.6227268393161783, 0.6928795295081649, 0.890997348432109, 0.8740041012601412, 0.8674012787252612, 0.7649697436564203, 0.8405311795187934, 0.6078763917817, 0.7443507667221995, 0.692027827016108, 0.7618320801054058, 0.7501789161753638, 0.7972129417176115, 0.9253637848964333, 0.7701521816904984, 0.7820518178242157, 0.7533641449378249, 0.8057976970181434, 0.9150328519704601, 0.8544583037064335, 0.6935507884609362, 0.8890875087568817, 0.7802972313508219, 0.919243806805481, 0.8064208936274915, 0.7607549925104116, 0.9364002294394909, 0.8532790359047873, 0.7196860031585328, 0.6593952000234748, 0.6382774847462502, 0.8713268865707837, 0.8906988151549202, 0.7205427898613745, 0.4866779722647373, 0.28210131123969684, 0.941590103310215, -0.014742631205545864, 0.3986999386076798, 0.1894857400429738, 0.9471597025497177, 0.9670885917394221, 0.34928987808877454, 0.9856535592202256, -0.3406017286282259, 0.93008656330625, 0.7993739774967498, 0.43653882959982093, 0.926345566837664, 0.34964553677990795, 0.5079810372759466, 0.19538129043155972, 0.7428573823112475, -2.871937704934688, 0.9043781669011173, 0.9324812890972349, -0.12270415444594396, 0.16524692604620428, 0.9705843278115064, 0.9433531900577727, -43.633053950655764, 0.9874473799767687, 0.7731949683781759]</td><td style = \"text-align: left;\">Any[-0.37865803055698816, 1.0065256723216225, -1.0410615911539394, -0.5201741765447165, 1.054297390991025, -0.3416011938448544, -1.20166168768397, -0.49014868650800114, 0.028384202124396348]</td><td style = \"text-align: right;\">34.1304</td><td style = \"text-align: left;\">Dict(:hidden_nodes =&gt; 5)</td><td style = \"text-align: right;\">0.767429</td><td style = \"text-align: left;\">Imp-then-Reg</td><td style = \"text-align: left;\">syn_X_mar</td><td style = \"text-align: left;\">syn_Y_linear</td><td style = \"text-align: left;\">1 - Lin-MAR</td></tr><tr><td class = \"rowNumber\" style = \"font-weight: bold; text-align: right;\">13</td><td style = \"text-align: left;\">n_1000_p_10</td><td style = \"text-align: right;\">2</td><td style = \"text-align: right;\">5</td><td style = \"text-align: right;\">0.1</td><td style = \"text-align: right;\">3</td><td style = \"text-align: left;\">Imp-then-Reg 1 - nn</td><td style = \"text-align: right;\">0.799105</td><td style = \"text-align: right;\">0.787641</td><td style = \"text-align: left;\">Any[0.7824196655276141, 0.7514908632484616, 0.7742453144670621, 0.8088239704246449, 0.7012426882245708, 0.8677299276898864, 0.8159435659682857, 0.8252632173872292, 0.7510967831484482, 0.7960884513590888, 0.935453853528053, 0.3119969655446052, 0.6931268978900575, 0.741909344600312, 0.7403148483040249, 0.8655998250219303, -0.4530930149351067, 0.8769665849968886, 0.6676644630592634, 0.7257578311582566, -0.15221901408297134, 0.8051781491821859, 0.5055991216446685, 0.6099773344140342, -2.7705435126268276, 0.5747095143526615, 0.8079538677686717, 0.9633832303597489, 0.9068931772752822, 0.6685084561462202, -0.9646758104487905, -3.317560298518174, 0.9626082339868881, 0.9398699575751033, 0.948433644859455, 0.9124165011411247, -68198.3672420101, 0.895680250108633, 0.6562549616852358, 0.9077415920242459, 0.9429254473405555, 0.5642147120845455, 0.3794888470481276, -0.3206745230268162, 0.531928567247691, -Inf, -Inf, -Inf, 0.6718645530470306, -Inf, -Inf, 0.7166486761643944, 0.8578947653369305, -Inf, -Inf, -Inf, -Inf, -Inf, 0.3357198672615127, -Inf, 0.9694047753248094, -Inf, 0.9557589701064283, -Inf, -Inf, -Inf, -1.164256513468057, -Inf, -Inf, -Inf, -Inf, -0.7921018214363944, 0.30269631652682927, -Inf, -Inf, -Inf, -Inf, -Inf, -Inf, -Inf, -Inf, 0.4571742571929647]</td><td style = \"text-align: left;\">Any[0.7888049020232404, 0.7697878946426588, 0.8121487461441348, 0.7948795260340581, 0.774490620201734, 0.7814868073569918, 0.8349740041215643, 0.8638861658465582, 0.7659206621674495, 0.7774092022889239, 0.8219142325527231, 0.7040444643403518, 0.9067557718712355, 0.8092487874238417, 0.8285568981610081, 0.7575692258114158, 0.904781843675396, 0.8311633538757635, 0.9232933496149727, 0.8650759632879255, 0.7372029908322452, 0.7794686970704449, 0.8531408692359773, 0.8547544584141248, 0.8284564727618986, 0.7276541003354873, 0.8450344567718134, 0.7614436331219557, 0.823044852932354, 0.8616498778879698, 0.8416196274965955, 0.743043939026699, 0.9290467968118237, 0.8022839259217812, 0.5894353070944034, 0.6934327184151066, 0.9193158363366792, 0.6536456519459912, 0.8183346360262699, 0.8856355261972688, 0.7645619286056481, 0.8359603312393304, 0.7599614871752538, 0.8472906976963146, 0.7901927214425205, 0.8447769472323504, 0.9877689541223468, 0.9906119927404197, 0.9687112094452742, 0.7629652740511367, -0.9307453855043595, 0.888157124111829, 0.6482945378988123, 0.9392046862623076, 0.8282667017346863, 0.8599836516954219, 0.9620952846983593, 0.8806861980711426, 0.8963321548155754, 0.9716071285560113, 0.994161622623377, 0.9621165970842923, 0.49391606192545423, 0.9480071587092399, 0.12098465916334755, -0.153243862281226, 0.9975026573019826, 0.9623884632304841, 0.9899737972302324, 0.5769160758874361, -1.0143097027493435, -0.2419489071872143, 0.7511830923520211, -542.7267229034011, 0.7348551881336292, 0.9029286845061111, -45.60835150913067, 0.7578996162522781, 0.9970682275744224, -0.653912358520518, 0.6949911413002048, 0.4805525112532385]</td><td style = \"text-align: left;\">Any[]</td><td style = \"text-align: right;\">58.5001</td><td style = \"text-align: left;\">Dict(:hidden_nodes =&gt; 5)</td><td style = \"text-align: right;\">0.779604</td><td style = \"text-align: left;\">Imp-then-Reg</td><td style = \"text-align: left;\">syn_X_mar</td><td style = \"text-align: left;\">syn_Y_linear</td><td style = \"text-align: left;\">1 - Lin-MAR</td></tr><tr><td style = \"text-align: right;\">&vellip;</td><td style = \"text-align: right;\">&vellip;</td><td style = \"text-align: right;\">&vellip;</td><td style = \"text-align: right;\">&vellip;</td><td style = \"text-align: right;\">&vellip;</td><td style = \"text-align: right;\">&vellip;</td><td style = \"text-align: right;\">&vellip;</td><td style = \"text-align: right;\">&vellip;</td><td style = \"text-align: right;\">&vellip;</td><td style = \"text-align: right;\">&vellip;</td><td style = \"text-align: right;\">&vellip;</td><td style = \"text-align: right;\">&vellip;</td><td style = \"text-align: right;\">&vellip;</td><td style = \"text-align: right;\">&vellip;</td><td style = \"text-align: right;\">&vellip;</td><td style = \"text-align: right;\">&vellip;</td><td style = \"text-align: right;\">&vellip;</td><td style = \"text-align: right;\">&vellip;</td><td style = \"text-align: right;\">&vellip;</td></tr><tr><td class = \"rowNumber\" style = \"font-weight: bold; text-align: right;\">127669</td><td style = \"text-align: left;\">n_980_p_10</td><td style = \"text-align: right;\">2</td><td style = \"text-align: right;\">5</td><td style = \"text-align: right;\">0.7</td><td style = \"text-align: right;\">8</td><td style = \"text-align: left;\">Imp-then-Reg 4 - best</td><td style = \"text-align: right;\">0.490789</td><td style = \"text-align: right;\">0.427885</td><td style = \"text-align: left;\">Any[0.5757140246367555, 0.025865033454907316, 0.2195696528859663, -0.8907948267837986, 0.5674566939152541, -0.21096196186024962, 0.2680311400386576, -1.4664616003898039, -0.16396686557135198, -2.4439262240418667, -0.5740775040800994, -0.25288120603897823, 0.34629386518036176, -1.685318262581181, -1.4734551578578996, -0.016351711430047766, 0.1657123808899904, -1.191343306671322, -0.19438006674492359, -1.3455085125477737, 0.11142942685363111, -0.03950350266560232, -0.0067123952236001205, -2.8663551918459698, 0.026949899106796793, -0.18253665647605444, -0.2729811872657033, 0.001303421649643588, -0.9684911800540352, -0.22611473650612068, -1.9916421605057013, -1.4749827956869743, -3.7372842939497133, 0.43298987474243533, 0.32556579999313073, -2.888454322467268, 0.1122890340188597, -0.16558401981257265, -0.5275198767979234, -0.744176847706491, -2.2029915832561655, 0.8249408169985872, -0.07635232710552886, -3.1153872260430653, -0.4286980250857291, -Inf, -3.29713127682482, -0.6504281344805893, -1.147525956948456, -0.20763467274447223, 0.11580510059069993, -4.31832583840458, 0.9187176432345283, -6.323480501705446, -2.428384718645226, 0.35560898387752793, -1.6561087165677346, -1405.250161439848, -4.13784622799718, -0.7849538413587271, -1.4450898477801628, -Inf, -Inf, 0.07371885316364701, -0.6001535137119838, -1.2669942281070163, -Inf, -29.34141025103906, 0.8104144262911028, -2.7836762875111702, -2.008187294840543, -0.4644111588423787, -0.5451867968187327, 0.8800545747960671, -Inf, -8.46734416422003, -1.2037262768609693, -18.57642616576643, -Inf, 0.97184950576006, 0.1501210897802161, -0.5506777758491814, -8.923757799009273, -Inf, -Inf, -Inf, -Inf, -1.9436481629083189, -0.04073728611888572, -Inf, -Inf, -Inf, -Inf, -0.8302695776747357, -Inf, -Inf, -5.559038555099023, -Inf, -2.7389270050788177, -0.07594998706106182, -0.23087802935846646, -40.91229262782092, -Inf, -Inf, -Inf, -Inf, -26.959285369869963, -Inf, -Inf, -Inf, -Inf, -Inf, -Inf, -Inf, -Inf, -Inf, -0.9237809083584683]</td><td style = \"text-align: left;\">Any[0.4708512069400954, 0.04171610753028088, 0.07200523380444623, -0.649026535799369, 0.5601956661404216, -0.2418270119206256, 0.07225041941522703, -0.042862356992632744, -0.042344406706565696, -2.2501519756408435, -0.24287527335678782, 0.1523401416332696, 0.2176110130087976, -1.2464738842036631, -0.6096249755211687, -0.07985396257728761, -0.9421195203876229, -1.1461259341202492, 0.6076794887686012, -1.1468700034350214, -0.07519907990744912, 0.2251141034801145, -0.8314356548471946, -1.0702729185566517, 0.26258845354975513, 0.08011964509443903, 0.24417972262133614, 0.14043363007799814, -1.328578207159385, 0.39700775487102913, -0.4299888605192075, 0.07757726483124827, 0.35875858578887176, 0.04099559515546036, -0.2679289221437451, 0.4499364252736693, -2.1036796006715237, 0.3058440951275304, 0.05668703754687465, 0.21683001531139978, -0.6673349706264506, -1.0863190327205547, 0.20061252040669042, -0.9937134746649086, 0.45157714209385436, 0.3287155945390601, -1.4627372450909348, -0.7698708592291479, 0.1767190506509967, -0.06699740741742044, 0.4894760032221903, -4.416928681415497, 0.4780295096589956, -2.4157254065126277, -0.4606612314737639, 0.23913297570115155, -0.7779898125642595, 0.2208477971248305, -1.1569000533248102, -0.8405727015798317, -0.45794818993222886, 0.2178283138874071, 0.3089772670194151, -0.7110304585587761, 0.1279366172656775, -0.3566959709144901, 0.6442538155565958, -1.0340016527778548, 0.07876266131846532, -0.5065839938930163, -1.4388133961121663, -1.6902955814605343, -4.217247376491704, 0.6626488048725137, 0.06421951015981875, -0.5052643211577643, -6.818177596739439, 0.5265614428300565, -0.1283732411813403, 0.5026907079288966, 0.6520704685330962, 0.3500819704255178, -0.6795341700113795, -1.3872676678465443, -1.1186895234235519, 0.928693517156757, -0.8281610004000755, -0.4235329847390945, -1.1719964423342741, 0.7656252509556283, 0.8202459661063948, 0.16319293524522682, 0.378169204332615, -0.6530678753189274, -0.30484123926084705, -2.803875738190927, -0.3143444314624775, 0.6895884539771797, -0.23173438790118372, -1.302774287628865, -0.415740428201671, -0.27228810775532253, -0.29296660692024834, 0.03602830298128579, -2.408382456794518, 0.4686372689276308, -1.4926237861688305, -2.9059184377483356, -3.483861033592844, 0.9495717979367214, 0.1622885748238715, 0.5079335011299955, -0.3955608151563321, 0.24548907400234388, 0.9288472449473323, 0.493146610284368, 0.6884892484846895]</td><td style = \"text-align: left;\">Any[1.5959923733487396, -1.2377676317707937, 1.4534198951095718, 2.2544882530291885, 2.5294290528765346, -3.540572337199767, 0.7915896302447292, -3.7644954149125995, -1.396094878203981]</td><td style = \"text-align: right;\">12.9809</td><td style = \"text-align: left;\">Dict(:hidden_nodes =&gt; 30)</td><td style = \"text-align: right;\">0.482642</td><td style = \"text-align: left;\">Imp-then-Reg</td><td style = \"text-align: left;\">syn_X_censoring</td><td style = \"text-align: left;\">syn_Y_nn</td><td style = \"text-align: left;\">6 - NN-NMAR</td></tr><tr><td class = \"rowNumber\" style = \"font-weight: bold; text-align: right;\">127670</td><td style = \"text-align: left;\">n_980_p_10</td><td style = \"text-align: right;\">2</td><td style = \"text-align: right;\">5</td><td style = \"text-align: right;\">0.7</td><td style = \"text-align: right;\">9</td><td style = \"text-align: left;\">Imp-then-Reg 4 - best</td><td style = \"text-align: right;\">0.178016</td><td style = \"text-align: right;\">0.146308</td><td style = \"text-align: left;\">Any[0.06228419185382661, 0.1223768462663094, -0.2501591575678972, -0.03290941003103498, -0.10507653841397735, 0.022798568107827877, -0.1393601696167952, -0.13773815696112823, 0.06924471216999417, -0.07377799138423047, 0.004216699751221742, -0.15135646669007863, -0.3547265527978811, -0.022323421927931575, -0.1298114737107019, -0.12164089827518598, -0.3859386465923875, -0.14111799502930422, 0.20000648032907065, -0.1815839003369446, -0.96638437987167, -0.027548490989085295, 0.05089109596631447, -0.2443969990550967, 0.12931953457668766, -0.30995218645413347, -0.2747280876523248, 0.10193642693569005, 0.45437955401311514, -0.21030115178313236, -0.13122995350328814, -0.7725335414923302, -0.9548896331343921, 0.07375585064841295, -0.7309738635759873, -0.3142814021513445, -0.09544693615336075, -2.5730602121813626, -0.9916297898267072, 0.10499921774144017, 0.535979485938938, -0.3616986479055875, 0.009132818369223084, -0.3550964249510906, -0.9789552771809533, -0.9893896448667463, -0.33116700209853756, -Inf, -0.2427701258786843, -0.04422467721654866, -1.695970206144843, 0.6367765991824705, -0.6660580993131815, -2.4245433403313106, -1.4620917346242779, 0.22759731838299335, 0.22447480712291723, 0.11521081433027436, -Inf, -73.46383638512337, -0.11717244134619875, -0.025626581140981042, -24.14081315738785, -4.865793574343876, -1.5523285692155744, -1.298157259414848, 0.1272192265495129, -Inf, -0.06889623631679309, -0.03589766565131458, -80.64063454831313, -Inf, -Inf, -Inf, -Inf, -0.5527001157335449, 0.2683500160267127, -1.7407746574852228, -22.86971977274367, -0.08221334429508365, -Inf, -1.4822209777089235, -Inf, -Inf, 0.1999541250721244, -17.585443224969744, 0.2782986004715048, 0.8211931859578712, -Inf, -0.18366962602227943, -0.29761602648620644, -5.181489734453763, -10.915674285387787, -Inf, -Inf, -Inf, -Inf, 0.18033832972670272, -3.4071698296106847, -Inf, -0.5514841988200734, -Inf, -Inf, -Inf, -Inf, -Inf, -356.9362154772633, -Inf, -Inf, -3.5474936230975285, -Inf, -0.005857796072828547, -Inf, -Inf, -Inf, -Inf, -Inf, -Inf, -0.15046735189358063]</td><td style = \"text-align: left;\">Any[0.04458250187651547, -0.05745246663616599, -0.14101337479201503, -0.03913251523145833, -0.1702077160835478, -0.089204309577259, -0.08988887672892676, -0.15846567478557283, 0.04016756298441382, -0.39896214807221675, -0.030699767862421456, -0.0018037363526737238, 0.08113074046898194, 0.07463649300523256, 0.21573420196803872, 0.19691302732474825, -0.3203631462874492, 0.0586750600868694, -0.0862830931641776, -0.2900036181127148, -0.2470656941387337, -0.06720763252359951, 0.09745482920960324, 0.3078556730529848, 0.09638968125480762, -0.19672941848688819, -0.1289598178506841, 0.0731342329778436, -0.08489218340796234, -0.12012656404353605, 0.2591763159466698, 0.07121980151950935, -0.18935859925507414, 0.23656516817508277, 0.2133602310256868, -0.5223142248369308, -0.036372186333081924, -0.9548485526116941, -0.058018525715164415, 0.21508980702464542, 0.21719971554686246, 0.04870943550675488, -0.44470525610907785, 0.30515244255091345, -0.0003055245831493636, -0.8334126532461497, 0.6617258094994245, 0.16101914777552206, 0.2882710129832745, 0.04084280584662092, -1.7469436421911548, 0.08576293779500055, -1.4352469393877487, -0.2074563516417116, -0.19576525824858826, -0.20566123850637452, -0.007816628446168483, 0.031625742910076804, 0.7574515786265928, -0.2728771830147363, 0.3632037877102795, -0.08611258322104898, 0.8329955338860551, 0.5999203769073224, 0.07338257890000566, -0.3689644777680299, 0.46440127196532044, 0.3064770214751713, 0.20550097608082163, -0.3890698734158091, -0.11144744392903005, 0.38742757987850474, 0.5605971090035475, 0.08649020273022134, -0.5002595540186323, -0.12302346325274982, 0.07157996545095835, 0.18113206468606158, 0.017382898928739232, -0.38805096273048645, 0.3101400330006925, -0.6146318833264455, -0.07232543644441969, -0.03933056529957457, -2.9441481947324095, 0.04715656789301226, -0.8005093507643448, 0.2043679151497806, 0.6643005097861296, 0.4591240236215669, 0.07543255647068359, 0.35638891601350753, -2.3981635606955307, 0.21195288969919102, 0.16072836330916063, 0.3534189885826937, -1.600705703309667, -0.32233411810542356, 0.2615421216168563, 0.13723751981265642, -0.4951154611817372, 0.26275398214624346, -0.7941066461545614, 0.5394918642086564, 0.0216693943098607, -2.8920109351145307, 0.06222117892751111, 0.6475478039804907, 0.9668793994217563, 0.4720019082032423, 0.6903520189821273, 0.12051889945773997, -19.221707555491495, -1.1149900756694127, 0.9230089438071085, 0.9936968151750976, 0.01686780285901479, -73.755936503541, -0.13454932489391158]</td><td style = \"text-align: left;\">Any[1.5270068373303238, -1.3205583580208449, 1.5370611865022379, 2.2739657503418664, 2.6328988585830504, -3.635672125375546, 0.7786576186198687, -3.7193356724246946, -1.4353768150750084]</td><td style = \"text-align: right;\">15.2891</td><td style = \"text-align: left;\">Dict(:hidden_nodes =&gt; 30)</td><td style = \"text-align: right;\">0.10409</td><td style = \"text-align: left;\">Imp-then-Reg</td><td style = \"text-align: left;\">syn_X_censoring</td><td style = \"text-align: left;\">syn_Y_nn</td><td style = \"text-align: left;\">6 - NN-NMAR</td></tr><tr><td class = \"rowNumber\" style = \"font-weight: bold; text-align: right;\">127671</td><td style = \"text-align: left;\">n_980_p_10</td><td style = \"text-align: right;\">2</td><td style = \"text-align: right;\">5</td><td style = \"text-align: right;\">0.8</td><td style = \"text-align: right;\">1</td><td style = \"text-align: left;\">Imp-then-Reg 4 - best</td><td style = \"text-align: right;\">0.328594</td><td style = \"text-align: right;\">0.299647</td><td style = \"text-align: left;\">Any[-0.013514596064610362, 0.010390711000776931, -0.11186532457716702, -0.06318368315094736, -0.21665384472363147, -0.11438429965398367, 0.08809232370583253, -0.32049342485613885, 0.010952906367321602, 0.29359361837480225, -0.43784519221816987, -3.9643947980037284, -4.959585586679832, -0.11173592272289223, 0.38410810992523725, -0.05696748804361507, -0.36904366108614095, -0.4235080003811278, -0.08531571657871684, -0.5383284650638371, -0.07616110201379556, -0.21236055406212828, -1.2119655937474128, -5.18308961441512, -2.359704541509106, -0.049147783114617205, -0.49069821730062, -1.7956212447618527, 0.6108564277639419, -2.109686678560338, -1.014575908317426, -0.20097262824485718, -0.023155623522332025, -0.5302997785150148, -12.868788937776415, -6.135159833840673, -22.467765088699608, -1.3189795884552638, -Inf, -11.069822152641942, -0.4772966759780266, -Inf, -0.8656733719190604, -1.3624418709293864, 0.6560920391385368, -3.4736285378940464, -0.9169097788838496, -6.760478091504105, -7.305772885820728, 0.5001422030052716, -5.954032550872562, -0.6192052015230651, -1.335816741994655, -1.0867083430928401, -0.2395550394762671, -1.0464683596642916, -2.048495146903716, -0.34043381087643576, -Inf, -Inf, -5.250368740563598, -10.471554061802358, -Inf, -Inf, -Inf, -1.204792742738379, -Inf, -Inf, -Inf, -2032.7308428653205, -Inf, -5.556023867347369, -Inf, -Inf, -Inf, -Inf, -Inf, -Inf, -15.829986249268046, -140.05884150751527, -Inf, -19.187833989425695, -Inf, 0.6633849359154727]</td><td style = \"text-align: left;\">Any[0.02499143017692107, 0.012229194379636876, -0.3097988182900877, 0.016413047467290887, -0.10473135766332331, -0.08554963758483813, 0.05448507396825941, -0.2515093295648654, -0.007896264251379126, -0.24329931968478924, -0.2956782519934582, -1.7550179434082867, -2.7797841648268418, -0.2604185451957426, -0.548640887620294, -0.22058580615245948, -0.5116772179290108, 0.004155456113718925, 0.14598769395076527, 0.34756860421215585, -0.13934722711065084, -0.6014767911948269, -0.42087178507913925, -0.6749970616355525, -4.338363306477044, 0.045833904362838185, -3.201119721643881, -1.0664491648470484, 0.536232016032341, -0.23153449808464122, -2.0750556793313404, 0.09283366365991508, -0.2920655187721073, -0.30799159594465375, -0.7712094929120885, -0.5437418092239448, -3.6962610732166024, -0.5312164244523994, 0.4312224067362612, -0.6501952314962736, 0.06728680446487734, 0.006101061801948138, -0.1182992085655512, 0.19342270279837226, 0.2507726432846019, -0.27246762517290946, -1.7456317721287742, -7.096752498418235, -0.5672987447830857, -2.0179274501484246, 0.21774001628173367, -0.3240037662736066, -0.9198629187965015, -0.6564678681714691, 0.013923701016180345, -0.7403798519817089, -2.74819344089675, 0.1895047367174849, 0.15213500772378197, -0.9018132388353091, -1.327036723727494, -0.6832303421185411, -2.6026720963589267, -0.2965871317058806, 0.39781350323607423, 0.3482809433824803, -0.06700223171042796, -5.223301345839637, 0.2542558591927573, -2.4793924128489957, -0.23974367670814845, -2.6784540671605566, -0.2859150621190838, -1.4825642897857838, -1.3387499254563076, -1.234913400895576, 0.1134265389792587, -1.9904822297440314, -2.550361015006958, -3.9636435476113983, 0.910539711134111, -0.5651605814929235, 0.5704416986653555, 0.36008232729598855]</td><td style = \"text-align: left;\">Any[1.8780809770347426, -1.7768800162929077, 1.8602758889789424, 2.6079469146423175, 2.9147820944721565, -4.202743104994812, 1.09212219087845, -4.266337960011823, -1.6933409606408056]</td><td style = \"text-align: right;\">11.5533</td><td style = \"text-align: left;\">Dict(:hidden_nodes =&gt; 35)</td><td style = \"text-align: right;\">0.302448</td><td style = \"text-align: left;\">Imp-then-Reg</td><td style = \"text-align: left;\">syn_X_censoring</td><td style = \"text-align: left;\">syn_Y_nn</td><td style = \"text-align: left;\">6 - NN-NMAR</td></tr><tr><td class = \"rowNumber\" style = \"font-weight: bold; text-align: right;\">127672</td><td style = \"text-align: left;\">n_980_p_10</td><td style = \"text-align: right;\">2</td><td style = \"text-align: right;\">5</td><td style = \"text-align: right;\">0.8</td><td style = \"text-align: right;\">10</td><td style = \"text-align: left;\">Imp-then-Reg 4 - best</td><td style = \"text-align: right;\">0.23066</td><td style = \"text-align: right;\">0.215993</td><td style = \"text-align: left;\">Any[-0.023227727086237993, 0.15104669995241538, -0.10752046206806054, 0.14480321690720876, -0.28880295595777605, 0.04889251055136523, -0.0967183715688047, -0.04485457406895699, -0.39573707680212333, 0.2963729867673709, 0.05563968136632513, -0.3428247736340897, -2.5717406937665865, -1.0662274559187352, -0.8257588892304162, -0.2479737776683344, 0.021899553776293157, -0.205787451336084, -4.620734515157864, -0.9960138165323738, 0.07228262453242418, -0.09678311979837462, -1.4242489339940079, -2.963295987668931, 0.22988049392362597, -1.9041256762833685, -1.8078252956801286, -14.960454218097913, -0.15718335218152224, -2.1657688067120624, -0.5414737147132869, -6.360438199793754, -4.234565206667208, -3.1223787504944296, -1.1847388484256363, -0.5787230329936714, -0.6010594938093179, -5.206020154103063, -0.9546313746682702, -177.18564339840663, -2.905655001345727, -1.782072870890869, -0.29771853852246655, 0.25665704165595116, -2.8294201826941454, -0.24866337016578832, 0.0018449914281717383, -0.04569248522086711, -0.17218722990920665, -2.7440099916172342, -0.07013651899112583, -0.5511822963039779, -4.231149621475006, -1.4782813583918504, -0.44758247444283805, -Inf, -Inf, -9.766703621279216, -5.600911925398973, -5.293859692469744, -Inf, -0.143373310081377, -1.4876646831726297, -3.233624695582357, 0.47534348649273817, -Inf, -Inf, -Inf, -Inf, -Inf, -Inf, -Inf, -Inf, -Inf, -Inf, -2.380841081152093, -Inf, -Inf, -Inf, -Inf, -Inf, -Inf, -2.8118168463443767, -Inf, 0.8861620973868126]</td><td style = \"text-align: left;\">Any[-0.02110593749251577, 0.2150197754101203, -0.05436750216960595, -0.0786105870022833, -0.3207203995338188, 0.004976188951592353, -0.05287262860092534, -0.008815892848273998, -0.13807855659057422, 0.5194010288563702, -0.01556154044136182, -0.009877583550895075, 0.14579049365990848, -0.40925364430713396, -1.567923296430941, -0.31474597135310356, 0.18533652330855277, -0.12297444345553044, 0.2635714170801806, -0.005313786388611685, 0.02554131093951495, 0.0014600156511090923, -1.2735281824016038, -0.796753066247736, 0.19079220233629235, -0.7795083021725271, -4.096011747805598, -3.7204854282694173, 0.16229874223704766, 0.22748960179532063, -0.7557568809850346, -1.0856387358567838, -5.605842444122111, -0.4409161859643185, -0.5215977179861124, -0.16425928976963822, -0.6053574586315076, -0.20349898520566367, -0.5340128226518581, -2.8743212868997183, -0.9493840977252972, -1.5477488414857135, 0.2749877948395978, -0.39723035252157324, 0.5184658464836411, 0.30038547706097596, -0.3865223316653916, -0.37690696208117447, -0.2937272229147083, -1.841502200356584, -0.17510143414278212, -0.47248509914933456, 0.6395626488374346, 0.24447763272064804, -1.302149893981699, 0.6341050147801761, -0.3978798891115378, -0.07888638920847613, -0.6061183992487822, 0.07312394567367486, 0.19573073314915834, -0.771719019237421, 0.32661516509621535, -2.889835812297144, -0.13655532105595314, -8.128144122803732, 0.4465763680566047, -1.0952150431640844, -0.5827355877797331, -0.41189699134211866, 0.3585758909257194, 0.22861718064350545, 0.594779646907847, 0.9214378506839062, 0.8478395119713269, -0.5886324374081326, 0.3430975702400557, -1.1703199619505442, -0.5385944389220789, -2.749779768985361, -5.856484566629961, -4.1247914692127265, -9975.7373882192, -0.005969587132342635, 0.5663174483674184]</td><td style = \"text-align: left;\">Any[1.8623102954405517, -1.7173158762897116, 1.8832644878594593, 2.742904084105678, 2.8187187335108725, -4.294246145911146, 1.077590434441408, -4.298584319150654, -1.6765934648352938]</td><td style = \"text-align: right;\">20.0622</td><td style = \"text-align: left;\">Dict(:hidden_nodes =&gt; 35)</td><td style = \"text-align: right;\">0.133191</td><td style = \"text-align: left;\">Imp-then-Reg</td><td style = \"text-align: left;\">syn_X_censoring</td><td style = \"text-align: left;\">syn_Y_nn</td><td style = \"text-align: left;\">6 - NN-NMAR</td></tr><tr><td class = \"rowNumber\" style = \"font-weight: bold; text-align: right;\">127673</td><td style = \"text-align: left;\">n_980_p_10</td><td style = \"text-align: right;\">2</td><td style = \"text-align: right;\">5</td><td style = \"text-align: right;\">0.8</td><td style = \"text-align: right;\">2</td><td style = \"text-align: left;\">Imp-then-Reg 4 - best</td><td style = \"text-align: right;\">0.553658</td><td style = \"text-align: right;\">0.508764</td><td style = \"text-align: left;\">Any[0.37462071227544314, 0.33761943334956646, 0.201182213059383, 0.5456445218008477, 0.24653673739723647, 0.22852058729819502, 0.43705978137555745, -0.2874323769545055, -0.42904327231568384, 0.44844309233264923, 0.2872880310556766, -0.22722625904423444, 0.43500947628124575, 0.3218311083178286, 0.3153821496707888, 0.654936726255398, 0.21677286531730167, 0.19940812250586204, 0.318348703498031, -1.077970136622037, -0.13401429796445252, 0.08773608304501745, -0.6074695526904432, 0.3211305798702364, 0.4217057348638922, -7.931309243559479, -4.699935948919175, -0.386946193602294, 0.3761064856701102, 0.5408422182636359, 0.5108942219110408, -13.747381274137217, -1.6758265535118215, 0.6722313357998939, -0.16861149273952836, -1.592399656850949, 0.13458653946357468, -2.618299945228312, -2.410286866588833, -5.819191618981536, 0.11844777261015593, -0.14063992762516442, -1.432485941696434, -9.00892704377917, -14.62011328955157, -0.7798510894306543, 0.3982279440672777, -40.84410869898047, -0.711470323635202, -0.2750676912138763, 0.35668714059194573, -Inf, 0.4511165626358017, -10.709015268692552, 0.36070115031227257, 0.8050621705276266, -Inf, -0.6456889748583512, -1.2968424261666125, -Inf, -16.66664892263899, -0.7441353808073787, -Inf, -Inf, 0.09975090216076532, -2.3328645826880803, -13.369476818041171, -Inf, -0.49004188069135424, -Inf, -Inf, -Inf, -96.39053213386092, -Inf, -Inf, -Inf, -Inf, -Inf, -Inf, -Inf, -Inf, -Inf, -Inf, 0.8262309572447288]</td><td style = \"text-align: left;\">Any[0.35990926785910415, 0.44010919081905053, 0.28083743821317153, 0.43846507975576565, 0.21629448263823103, 0.31442959886548916, 0.378734360178288, -0.028678553679611918, -0.02300801671719599, 0.5841897754406908, -0.13528827071531424, -0.5738587167749865, 0.11512581112332598, -0.03920363041042085, 0.05511011855483572, -0.032721126727636385, 0.09579243196591114, 0.28760016906425323, 0.24196753843354368, -0.3874354411803278, 0.25436208864710463, 0.07835739690956323, 0.18305808312706096, 0.3849876284726299, 0.06050541418694788, -0.07410683597675782, -1.1995799721225247, -1.2200141549996535, 0.5711163041220675, -0.29405798352848955, 0.6633243529752381, -0.19048506649584174, 0.2833508104676268, 0.012376860898356545, -0.047805833912671236, 0.5898244623164357, -0.4539372632563716, -1.7662803080772949, 0.13354258592586232, -1.5932477967127574, 0.5559628425731112, -0.5280184732067426, -0.5598264823220014, -0.7773668005438068, -1.6310985294639315, -0.705201985035331, -0.3267904335144878, 0.46664454404077893, -0.25819559597265407, -0.23966152183515255, 0.25663808000751165, -0.06297316293460353, 0.5106214053126926, -0.19850537636630228, 0.6787579074486438, 0.643098582289169, -0.6197656814783044, -1.1022482628425698, -0.5357034840667052, 0.1852685368197, -1.19685474158209, 0.27664004361378913, 0.6086939608922961, 0.22041511244235623, -0.4569786583219304, -1.1511949272219404, 0.8979059964442911, 0.7358090102514169, -24.912387307601517, -5.953544904764774, -3.876690991980751, 0.10758083941728946, -8543.473559772217, -0.7659868552183073, 0.9958021683120319, 0.8369042073305588, -3.809390391811104, 0.3401441290146324, 0.7520534456205187, 0.8705718751174097, -43.7024138784253, -14.140681749977514, -0.5094927808412657, 0.6262069755302281]</td><td style = \"text-align: left;\">Any[1.9573929413973037, -1.7942207321993637, 2.0587086403427914, 2.7249478171583856, 2.8934049896933938, -4.187438572139117, 1.121511226469461, -4.551543429706059, -1.7495776882866718]</td><td style = \"text-align: right;\">34.6129</td><td style = \"text-align: left;\">Dict(:hidden_nodes =&gt; 25)</td><td style = \"text-align: right;\">0.510601</td><td style = \"text-align: left;\">Imp-then-Reg</td><td style = \"text-align: left;\">syn_X_censoring</td><td style = \"text-align: left;\">syn_Y_nn</td><td style = \"text-align: left;\">6 - NN-NMAR</td></tr><tr><td class = \"rowNumber\" style = \"font-weight: bold; text-align: right;\">127674</td><td style = \"text-align: left;\">n_980_p_10</td><td style = \"text-align: right;\">2</td><td style = \"text-align: right;\">5</td><td style = \"text-align: right;\">0.8</td><td style = \"text-align: right;\">3</td><td style = \"text-align: left;\">Imp-then-Reg 4 - best</td><td style = \"text-align: right;\">0.346681</td><td style = \"text-align: right;\">0.323614</td><td style = \"text-align: left;\">Any[0.07158311803204476, 0.2951716555594288, -0.9742428447925557, -0.6510820974630953, -0.27330145887367663, -0.25828151345168604, 0.2397573327319159, 0.40846021622452, -1.20257996922766, 0.4477595313880347, 0.372854308796972, -0.41650721918077394, -3.2218325289893377, -0.016826813414681174, -1.0769162080075882, 0.10614997449503161, 0.006851913981719138, 0.18280180814717695, -0.4086374437673703, 0.5627103069544597, 0.019682457108801454, -2.0140966400099045, 0.5012312290159373, -1.6445631019939628, -10.449091087182543, -2.4937097304536686, -1.7849535509528, -8.722832521688526, -1.6609694513606517, 0.46216375000333065, 0.12920588900900354, -246.77653388916173, -1.234206517496221, 0.4286405250036178, -6.756770083588296, -21.1109992423555, -0.09037396282994603, -0.6798370113719192, -2.1281391692707903, -2.0900962404383625, 0.22401516258692322, -3.5702756313401673, 0.5974092092547211, -1.8693038177715833, -3.839628751434483, -0.5659456345292291, 0.225057021414663, -1.2942642898484817, -0.4687891594233511, -Inf, 0.09348209939295204, -1.396181482425554, -Inf, 0.1401465779517479, 0.9042780968455887, -0.4597726790647272, -3.6220984226777517, -3.4086137648197496, -96.57123656075963, 0.41790648798922936, -3.550900518116574, -Inf, -Inf, -0.917366461288057, -Inf, -Inf, -89.95070152397018, -Inf, -2.40179170780671, -0.9322995210374478, -Inf, -Inf, -Inf, -11.312168383489201, -Inf, -314.5387016369085, -Inf, -Inf, -Inf, -Inf, -Inf, -Inf, -Inf, -Inf, -9.175595816024881, -Inf, -Inf, 0.4429656945249617]</td><td style = \"text-align: left;\">Any[0.17147583549870726, 0.2017711957461551, -0.7399408324109098, -0.5217818424598795, -0.3538694379831364, 0.11935570100033344, -0.05345633770874869, 0.15781326347355695, -1.5577507431982642, 0.5897458217558277, 0.07201691167785051, -0.295052975764464, -3.048232919064202, -0.1038637456424496, -0.20328808310555768, 0.24056503967994425, -0.3149145473060935, -0.018356698516410308, -0.15950089606305173, 0.4177376281067403, 0.0832753617764288, -0.3483183509902734, -0.19505172822321648, -0.39019178026747103, -1.2914075618945349, -4.821273128759009, -2.4533902864068473, -0.7433727745135823, -0.49954972402863285, 0.04254502384290304, 0.3039888516497953, 0.6676741487004834, -1.431929509728425, 0.4597295333507724, -1.4362124325129164, -5.3736937464071115, -2.3135483425268633, 0.22674763657080532, 0.7500327996564773, 0.18977078121607027, 0.6174038327820208, -3.6562287998074483, 0.4191421218174166, 0.6051094129480341, -0.0994889354975681, 0.30708537091965227, -0.42852045591323895, -6.879551327119834, -0.3091025044903477, -0.029055146321162573, 0.37899613928354725, 0.3173138974952451, 0.8695821136515351, 0.2973017256120847, -2.654458087709669, -0.3499383251171886, -0.5613603745786482, -0.761307250621349, -0.032658927467718035, 0.5080891137758059, -4.90570251289947, -0.9022306083645224, -0.6366808355160185, 0.674144105942976, -1.9575391363878571, 0.4180957807848328, 0.27271993510933756, -0.038404106387015524, 0.18860079765815518, 0.4840018282356039, -1.3355204549988637, 0.3640222705852676, -0.901515018159275, -1.0129920167319235, 0.7778028818073601, -1.2350997013509675, -6.536704299825554, 0.9420724599853835, 0.7145397644831788, -0.7642098611293731, -5.201786233092685, 0.79049428914486, 0.17265289990385835, -1.9575996706807661, NaN, 0.9813121330336945, 0.949300938031845, 0.3290611628950756]</td><td style = \"text-align: left;\">Any[1.9887299811105197, -1.7896204919184615, 2.016591643959154, 2.7033870932669988, 2.9081427880839494, -4.261597424881311, 1.0975169458723393, -4.458757518786983, -1.6755266429390434]</td><td style = \"text-align: right;\">24.1067</td><td style = \"text-align: left;\">Dict(:hidden_nodes =&gt; 15)</td><td style = \"text-align: right;\">0.368573</td><td style = \"text-align: left;\">Imp-then-Reg</td><td style = \"text-align: left;\">syn_X_censoring</td><td style = \"text-align: left;\">syn_Y_nn</td><td style = \"text-align: left;\">6 - NN-NMAR</td></tr><tr><td class = \"rowNumber\" style = \"font-weight: bold; text-align: right;\">127675</td><td style = \"text-align: left;\">n_980_p_10</td><td style = \"text-align: right;\">2</td><td style = \"text-align: right;\">5</td><td style = \"text-align: right;\">0.8</td><td style = \"text-align: right;\">4</td><td style = \"text-align: left;\">Imp-then-Reg 4 - best</td><td style = \"text-align: right;\">0.159936</td><td style = \"text-align: right;\">0.104202</td><td style = \"text-align: left;\">Any[-0.0275833159374248, 0.16116158382361234, -0.14856560151259335, 0.04284347169090408, -0.028032935664041192, -0.037626520613831316, -0.1332529430731546, -0.09116877310234184, -0.08543641102183352, -1.032593389191974, -0.05678555543654906, -1.0129724843594552, 0.20354087948668342, -0.17311547438383612, -0.055120252340394194, -0.13713368111988222, -0.06793497246300184, 0.013338776691940502, 0.1052026101553426, 0.23720407441467684, 0.14228842551797694, -0.8477998611255868, -0.5030661406545192, -0.8789452599295224, -0.5441773797386651, -0.5855365034470599, -1.00941817982569, -0.0667214951619548, -0.33715553105189744, -0.33971648371752017, -0.38988732688617334, -3.7708373297452127, -12.918331918887116, 0.5762540806370021, -0.6447277358324148, -58.03943937757182, -6.82328964735755, -1.7976820583264597, -1.8601520121303405, -0.44684044868889994, -0.559765457031207, 0.01480787986068588, -1.075455397746993, -0.05278847693830979, -1.5490832338034228, 0.07894868146756118, -0.03209136534909662, -0.2532530086463973, -6.490950273348589, -0.9165635077283745, -4.890921801648366, -Inf, -0.6048362426939837, -0.10016218783363495, -0.7210399951572044, 0.07189473722198114, -3.6596689619591913, -0.6155745950422089, -1.3553395980031775, -11.166174476817519, -Inf, -Inf, -Inf, -1.2381625156994724, -0.06459046123273482, -98.58233032997, -Inf, -Inf, -10.97517753446483, -4901.66544212577, -Inf, -Inf, -Inf, -Inf, 0.432684366390224, -Inf, -Inf, -Inf, -Inf, -Inf, -Inf, -Inf, -Inf, -Inf, -Inf, -Inf, 0.1805409405928028]</td><td style = \"text-align: left;\">Any[-0.07828266113665072, -0.046533979196162534, 0.0361957212566858, 0.02809005196694614, -0.0018538987410448016, -0.010561706793007941, -0.2205028552868764, 0.05686540242883842, -0.06598007557579733, -0.4521191103464133, -0.05965760941244258, -0.7977161200960377, -0.1428829060805059, -0.02760141808484695, -0.06854114844787085, -0.05754361231506455, -0.05802363786356124, 0.029688312909204595, -0.026921336300066656, -0.14198813949619749, -0.03735073126771038, -0.24641552148599177, -0.00969600957623129, 0.31066440153818486, -0.311146772951445, -0.22368075221776684, -0.44012798809412423, 0.0005949774882244574, 0.2839010885625951, 0.09496081748342955, -0.4239436518767399, -0.052921278152979756, 0.6437946245385926, -0.2749174713164686, -0.15433867597508955, -0.5685506113098531, -1.3156977314371483, 0.5230896962523337, -0.55882554931039, -0.599980633842329, 0.1393147778075482, -0.07123079037045565, -0.8678538328514609, -0.09909159780483345, 0.0829576529216276, -0.6742074682445438, -0.13224175133808735, 0.24898181816135978, 0.4792426846574135, -0.06435223451582539, -0.907183964865381, 0.03414869375784102, 0.3502735809994433, -0.036212337127536465, -0.6546698477964583, -0.370634883886628, 0.21717613100195765, -0.5768628908967046, -0.9012893498323835, -0.39442193233353606, -0.463024292941729, 0.700235515164533, -2.383695028019186, -2.213900478326743, -0.07813762317522488, 0.3756417774256168, -0.09278109248702315, 0.6134172214804443, -0.5359126249855193, -1.1285180058476625, -0.041905053608509935, 0.22546244557832906, 0.9054616067721879, 0.08860738434249138, 0.20440618214763706, -0.2038775995166906, 0.6474291324822262, 0.34883118684662173, 0.42981999452706743, 0.2512932689656636, 0.5308509905951135, -0.5207984410022646, 0.9084238111144463, -5.373818216948445, 0.8261196752408243, -3.681150548652714, -0.21920367339693758]</td><td style = \"text-align: left;\">Any[1.8483518667758054, -1.7858802991543854, 1.8990495213521883, 2.702643065303601, 2.865895783288322, -4.247237901321569, 1.1023567646568828, -4.392426523073235, -1.7708678946507004]</td><td style = \"text-align: right;\">14.0223</td><td style = \"text-align: left;\">Dict(:hidden_nodes =&gt; 25)</td><td style = \"text-align: right;\">0.0905728</td><td style = \"text-align: left;\">Imp-then-Reg</td><td style = \"text-align: left;\">syn_X_censoring</td><td style = \"text-align: left;\">syn_Y_nn</td><td style = \"text-align: left;\">6 - NN-NMAR</td></tr><tr><td class = \"rowNumber\" style = \"font-weight: bold; text-align: right;\">127676</td><td style = \"text-align: left;\">n_980_p_10</td><td style = \"text-align: right;\">2</td><td style = \"text-align: right;\">5</td><td style = \"text-align: right;\">0.8</td><td style = \"text-align: right;\">5</td><td style = \"text-align: left;\">Imp-then-Reg 4 - best</td><td style = \"text-align: right;\">0.153411</td><td style = \"text-align: right;\">0.133353</td><td style = \"text-align: left;\">Any[-0.014121815656391368, 0.13107961046885153, -0.5920800501004562, 0.29900460411969976, -0.9788849621785869, -0.18280545413947769, -0.08680130941622077, -0.16926536418720461, -0.013048966286640873, 0.15488411423869963, -0.06882819583411992, -1.393927804639505, -1.015013022548362, -0.8411951920048333, -0.4891779433973398, -0.6236995212701046, -0.1638762105835414, -0.34075492884455993, -1.572391697634174, -0.5868884229310285, -0.06881533848806565, -0.022598331273117056, -3.8723491929415967, -0.8800255874002711, -0.2982167741352606, -0.34140479586306993, -2.812562877650164, -8.309550963450054, 0.8215342474597189, -13.397847454464332, -6.049293548122439, -18.64642532587674, -36.81622978212257, -0.1041498436642978, -0.2333833110727419, -0.47843957260668435, 0.3685841787575903, -0.26955870218597444, -2.9899208672906843, -49.26248392238756, 0.6003770620242015, -3.2698151638123543, 0.3468149376503554, -2.7270873027006752, -1.5576867299081347, -0.26120591658119174, 0.18699104884463624, -0.8499377004202435, 0.14203049407396462, -17.865676144390374, -Inf, 0.01505510065761917, -1.1532191149920754, -24.52512754797275, -Inf, -4.018921973558908, -3.845327888550657, -Inf, -11.301102694821695, -353.63169146865306, -Inf, -144.55429750006888, -4.124065548660738, -Inf, -1.5408047539747272, -Inf, -0.6721484351771154, -165.2695415801923, -Inf, -Inf, -Inf, -Inf, -Inf, -Inf, -Inf, -7.759093316929153, -6.190967106976808, -Inf, -Inf, -10.978459744374362, -Inf, -Inf, -Inf, -Inf, -Inf, 0.03766692151328488]</td><td style = \"text-align: left;\">Any[-0.0245587969536325, 0.1305137618415343, -0.32739575461739334, -0.15788490311307446, -1.0271071948695187, -0.024246179032206827, -0.1291160100659552, -0.15652553240590783, -0.20327504831890542, 0.46621791845944727, -0.0907332600671138, -0.1835293927595898, -0.7582726525662702, -1.2955351589815298, -0.9830609006158995, -0.366907412261988, 0.28638221777566875, -0.42572911730391727, -1.1424328693938177, -0.7085250818425552, 0.09802752025455674, -0.1771684719133837, -0.07450065577924514, -0.6228442338179014, 0.16819731548889783, -1.033032071837058, -2.395007240884853, -7.541599440682118, 0.12458117817948389, -0.7780166876746937, -1.4912986897758072, -2.9096235490586673, -4.176489680589053, -0.15003588630701903, -0.3894419497976469, -0.6662155251236865, 0.08048297986053388, -0.8753877533497261, -3.243285196666924, -5.566069278699167, -0.09295894525511295, -2.23648678059294, 0.33094531728248544, -0.9008689630948126, -0.7710554141777965, -0.658399921977223, 0.40092911106229967, -1.1927365481008878, 0.1808060508120608, -3.8285393064805557, -2.298606128039611, 0.3522213509309261, -0.9731957697743729, -17.57707561931415, -0.08306204928113603, -0.8744408243048127, 0.5686638557434127, -1.216608199137597, 0.7154366629488701, 0.6908900709054597, -3.3341476533630177, -1.4539455344104466, -2.648882301248113, 0.5082531059110886, -0.26199659842198275, 0.4406773054238964, 0.47656103869230915, -1.745277474760131, -0.8078099548858249, 0.5419469487531055, 0.7352652327307805, -2.9659427673391057, 0.014657870368201875, 0.18155952156473587, 0.36480501374755814, 0.6650780299225114, -0.6970618696858772, 0.6392664410599215, 0.8414252418297251, -2.315830975413718, -0.262982069817727, -2.3025166460230686, 0.5664140706363352, 0.9416374406380397, -1.7078840960014139, 0.3980025145210163]</td><td style = \"text-align: left;\">Any[2.0243622631582956, -1.827748850062228, 1.8496565183925997, 2.6860313209343234, 2.8942929020598367, -4.248309457436926, 1.1157357037083908, -4.361717182087365, -1.7141259231507024]</td><td style = \"text-align: right;\">22.4334</td><td style = \"text-align: left;\">Dict(:hidden_nodes =&gt; 35)</td><td style = \"text-align: right;\">0.156158</td><td style = \"text-align: left;\">Imp-then-Reg</td><td style = \"text-align: left;\">syn_X_censoring</td><td style = \"text-align: left;\">syn_Y_nn</td><td style = \"text-align: left;\">6 - NN-NMAR</td></tr><tr><td class = \"rowNumber\" style = \"font-weight: bold; text-align: right;\">127677</td><td style = \"text-align: left;\">n_980_p_10</td><td style = \"text-align: right;\">2</td><td style = \"text-align: right;\">5</td><td style = \"text-align: right;\">0.8</td><td style = \"text-align: right;\">6</td><td style = \"text-align: left;\">Imp-then-Reg 4 - best</td><td style = \"text-align: right;\">0.278673</td><td style = \"text-align: right;\">0.242393</td><td style = \"text-align: left;\">Any[0.0005108943200535787, 0.0535717696793967, -0.20752182470389657, 0.40042680748817583, 0.22728399980439418, -0.17377963754440717, -0.01809292536412288, -0.6276075424232384, -0.2305828359223958, -0.4124058078161006, -1.243706623872821, -1.3195665293075147, -3.2371847840927703, -0.06562306700138532, 0.4706971737826082, 0.05198688410536079, 0.3355319769188809, -0.04254612002323155, 0.45399643933311706, -2.04506124530692, -0.604883568826641, -1.529114236324026, -0.24059355322282938, -2.328452942670994, -11.609887263243072, -0.38130747841431045, -9.73150903441114, -0.7283285604256613, -9.07288972007575, 0.09331252941030654, -71.44912314057862, -0.30761330924514474, -0.3718116643727867, -1.1962802294563302, -2.7734146524128103, -0.14642122615464248, -2.742794729508328, -3.7148680887421444, -11.845628904429347, -Inf, -0.2568534579930166, -2.5924904188369386, -0.14199911419834432, -0.4782958025149866, -0.09930867239647556, -3.2868729592663186, -Inf, -45.568105009778314, -4.733131993280082, -1.7459354395606281, -3.1786113986350424, -0.5337644845348364, -0.12330244262229972, -0.9913602257978404, -5.002079328459906, -1.836616223571566, -1.6483011249612747, -Inf, -1.7884319438239369, -1.5785196416570737, -Inf, -15.661121312797384, -Inf, 0.03301580956183081, -Inf, -25.790592088264713, -Inf, -Inf, -Inf, -Inf, -Inf, -Inf, -Inf, -Inf, -Inf, -Inf, -1.421682212090853, -Inf, -18.448020381571734, -Inf, -Inf, -Inf, 0.38712460387714565]</td><td style = \"text-align: left;\">Any[-0.02832673818426934, -0.029213374961446714, -0.42419184912795505, 0.16413017069661184, -0.05013730044892073, -0.2165548821367378, 0.012821597312940303, -0.4478257860270325, -0.15006792272177627, -0.07770113384787702, -0.32923089054454513, -2.987189803502836, -3.1085692256956294, -0.06495775635008338, 0.500697740081038, -0.02590076309466438, -0.8205822852189535, -0.4380145338475139, 0.05170826955116903, -0.345369326940949, 0.07930754511504745, -0.2155919348675217, -0.09979872095042852, -0.354110665747037, -7.118910792442131, -0.023755419680116407, -1.4659283046251517, -0.37789416761987904, 0.12227898964407236, -0.013304782023023876, -1.236129689375347, 0.16697259388698993, -0.020732340180518838, -0.26437336351097396, -1.350497590569931, -0.5034878119327464, -4.578360337743547, -1.5600502227324835, 0.6327880898703259, -0.9525589691537866, -0.004527252944461546, -2.732975712530722, 0.4819886723084613, -0.5911437419227952, 0.20841616944315777, -0.9248663065045613, -2.901172036412741, -15.518529561223037, -0.67280840818204, 0.3476671432623759, -0.12618530051670396, -0.020012451911305407, -0.7036468574554466, 0.4522580989888454, -4.717644435084233, 0.4096659057567865, -1.5654318188808611, -2.11328625161589, -1.533967142729924, 0.5918880049573034, -1.644618184478444, -8.610506865378593, -1.959884273553416, -0.3512286619289062, -3.953517813986581, -1.5419966050474243, 0.3178421996747879, 0.08958162169454109, 0.43927516063116134, -0.3058285284291109, -1.075274929114347, 0.10856581058900694, -1.2280690429860046, 0.5888211553001002, 0.38234785991344, 0.9644297090841558, -105.23649212629175, -2.9651335727914367, 0.4108949996046837, 0.9753965343213156, -18.435451335374243, 0.6502620763325051, 0.20066326247524036]</td><td style = \"text-align: left;\">Any[1.8814714725780184, -1.697168104190972, 2.066919154287177, 2.840463720153632, 2.8154370142232783, -4.295940282384777, 1.0207263132424058, -4.3695072774140895, -1.7011780044454101]</td><td style = \"text-align: right;\">20.2607</td><td style = \"text-align: left;\">Dict(:hidden_nodes =&gt; 35)</td><td style = \"text-align: right;\">0.305623</td><td style = \"text-align: left;\">Imp-then-Reg</td><td style = \"text-align: left;\">syn_X_censoring</td><td style = \"text-align: left;\">syn_Y_nn</td><td style = \"text-align: left;\">6 - NN-NMAR</td></tr><tr><td class = \"rowNumber\" style = \"font-weight: bold; text-align: right;\">127678</td><td style = \"text-align: left;\">n_980_p_10</td><td style = \"text-align: right;\">2</td><td style = \"text-align: right;\">5</td><td style = \"text-align: right;\">0.8</td><td style = \"text-align: right;\">7</td><td style = \"text-align: left;\">Imp-then-Reg 4 - best</td><td style = \"text-align: right;\">0.513748</td><td style = \"text-align: right;\">0.489467</td><td style = \"text-align: left;\">Any[0.27260085006649415, 0.4221870320164385, 0.6019616580173974, 0.4847421479712657, 0.3543152657694776, 0.09491046386005997, 0.32083210834887366, -0.19170393482115355, 0.13861936334813174, 0.568325131886415, 0.11329689574488588, -0.8457924234649723, -0.14498919747685468, -1.0594763384473374, -0.4611691735004815, -0.24059968413889266, -0.15149501632500373, 0.446631837094285, 0.01396589214775612, -1.7663853140868246, -1.0721840646910321, 0.40834194422714887, -0.08965292930800395, -3.1158549633333585, -0.9100362311815768, 0.2882137319804694, -4.349872473660656, -3.0185475234371815, -0.39008283143836353, -1.4004866645636773, -13.962858136892395, -0.6327845608566987, 0.3370644538883353, 0.36807656247261933, 0.1605367694012093, -7.896917408523366, 0.8228254963356234, -1.8974493029610455, 0.20340610848408924, -2.546713161696692, -1.63594417592373, -0.7091657258700688, -1.8510455086438986, 0.1061450681242575, -6.329084932584137, -0.35774589769056453, -1.520132088799952, 0.18505828329753626, -Inf, 0.6895993865690508, -35.659422941849186, -2.4421558345919525, -0.8124909483937275, -Inf, -Inf, -46.64757203769618, -5.9784046586481505, -155.67662144367154, -48.388952838315014, -Inf, 0.1413335740638617, -568.2043880398058, -Inf, -777.5510718149695, -2.725149369535983, 0.6635605538533802, -Inf, -Inf, -Inf, -Inf, -0.919880561975676, -Inf, 0.30357061768706195, -Inf, -Inf, -Inf, -Inf, -0.9631222115814309, -Inf, -Inf, -16.693252117558558, -0.436205077807291]</td><td style = \"text-align: left;\">Any[0.3328908959136637, 0.33014384419647347, 0.2691456145717841, 0.49031213114598815, 0.23040934211598696, 0.3617460915628492, 0.4224538348274671, -0.142465850144325, -0.3099570350245928, 0.5230221480272672, 0.021469683071753454, -0.6513552165168108, 0.3234886280809952, -0.4639608596717131, 0.2834185954933226, 0.06508624191968015, 0.30083284876988237, 0.3342234414180687, -0.030394571142698945, -0.3462995580389925, -0.20434657469403206, 0.23321702357835572, -0.4664775543242765, 0.19828359505361626, -0.28877731281651275, -0.18849370347186878, -0.6263964715530599, -0.48442077422433494, 0.6218959712222114, -0.01149760831425617, 0.7534942955029513, -0.23619683692157056, 0.07853667732060787, 0.10536590239450916, 0.11104775157070212, 0.277601934939529, 0.15089841206482058, -4.341343429663083, 0.5978580358224828, -0.8894725941260677, 0.03345515809979405, -0.3183602173533133, -0.929754455337924, -2.1489715909292926, -3.6401868179059464, -1.1203135951012513, 0.11612779243210936, 0.20384856823464992, 0.44445656787718313, -1.5647975147626232, -0.12201972794358817, -0.551754981797393, -0.14375201316976782, 0.4185463879198775, 0.6671621225179378, -0.9164063906063713, -1.1787598694028119, -0.5990907338175016, -1.817504531024651, -0.27255770170112914, -0.7475019861077652, -4.508321474460667, 0.6765173213416619, -0.41702445164311985, -0.5540435099651162, -1.2024192948190597, -2.45611287662918, 0.017122382879022124, 0.0945958110080437, 0.5223471700818549, -7.574596974120167, -1.3123507251381037, -1.6390588889169635, -0.7317082029802084, -0.3582063176312438, 0.8631886701465429, -6.833145653505392, NaN, -9.053481531884447, 0.38270517315346364, NaN, 0.37908528512267614]</td><td style = \"text-align: left;\">Any[1.9402435264751576, -1.818701876327459, 1.7987672025535044, 2.5540287955787457, 2.89789360881602, -4.25002956339393, 1.2035951130142288, -4.518902798632188, -1.78486963075323]</td><td style = \"text-align: right;\">35.0072</td><td style = \"text-align: left;\">Dict(:hidden_nodes =&gt; 10)</td><td style = \"text-align: right;\">0.510159</td><td style = \"text-align: left;\">Imp-then-Reg</td><td style = \"text-align: left;\">syn_X_censoring</td><td style = \"text-align: left;\">syn_Y_nn</td><td style = \"text-align: left;\">6 - NN-NMAR</td></tr><tr><td class = \"rowNumber\" style = \"font-weight: bold; text-align: right;\">127679</td><td style = \"text-align: left;\">n_980_p_10</td><td style = \"text-align: right;\">2</td><td style = \"text-align: right;\">5</td><td style = \"text-align: right;\">0.8</td><td style = \"text-align: right;\">8</td><td style = \"text-align: left;\">Imp-then-Reg 4 - best</td><td style = \"text-align: right;\">0.307386</td><td style = \"text-align: right;\">0.289594</td><td style = \"text-align: left;\">Any[0.13056514057285928, 0.35493068441937325, -0.5228339083914417, -1.6737262407930449, -0.46487459671580944, -0.5727217003862464, -0.0842997361912532, -0.35581066621261903, -0.5715235068101421, 0.7297959139808605, 0.43088293927293375, -1.0904709460511484, -6.692029858800302, 0.45739247253729887, -1.0502913123321553, -0.007665637621128152, -1.4699258161108535, 0.11247204891303952, 0.12332997782211519, -0.05225874416692444, -0.010077806948253665, 0.05757868242726172, -0.3208669515225573, -0.4116049984702568, -14.641493528053642, -4.496840579305109, -2.6056976706040147, -6.661349293456474, -3.5026466557406017, 0.6432014690617129, 0.12408398124060127, 0.42253250022824196, -1.3548207496432445, 0.5799242382278809, -1.3811479344675779, -2.324182322070027, -7.875408131945928, -0.14514286743721438, 0.04628319271453041, -4.610220590654711, -0.38154695762870805, -Inf, -0.24178167774572068, 0.7350998834395468, -1.5625750276964387, -0.6836227692630072, 0.43017893377646166, -15.6303654209281, -16.40323067191774, -Inf, -0.9373671319260724, 0.10988389689484335, -1.0479030087625718, -39.07071817775728, -2.845863671326494, -Inf, -2.0231813070294615, -0.2607002247056478, -2.3917144585135577, -Inf, -Inf, -Inf, -0.21606854563053646, -0.5618070896163139, 0.18658284734409358, -Inf, 0.596732738864485, -Inf, -Inf, 0.29575172163475316, -Inf, -Inf, -48.409374064283625, -Inf, -Inf, -Inf, -Inf, -Inf, -Inf, -Inf, -Inf, -Inf, -Inf, -Inf, -Inf]</td><td style = \"text-align: left;\">Any[0.18809245795423113, 0.2776467277857956, -0.5498695669242697, -0.7923708373167551, -0.790997468182153, -0.5115498844455877, 0.26327173019062733, -0.04078148434770079, -0.7060423928555923, 0.414571751946059, 0.21765492318038304, -0.15840948005999866, -3.7308961925166972, 0.08779754287707753, -0.2800065559908025, -0.08810804444368747, -0.49173606556299765, -0.009576082708792288, -0.06464923359768471, 0.3825044021357361, -0.17093646075243507, -0.3481494321870857, -0.19132017536540857, -0.703198083999351, -1.8504431092742535, -5.017138059305157, -4.56415855135515, -1.0659445244121777, -0.943977624986214, 0.3034371064182547, 0.667799140569795, 0.5414151153012546, -1.6401096200300005, 0.34876663137214736, -1.891676660145729, -2.057315408308441, -1.0422395900055261, -0.07461094183050365, 0.3463470739774318, -0.2540000785414891, 0.062361893276173364, -1.2844331048254611, -0.4158217240257043, 0.616047203860925, 0.2043325889859866, -0.15917371070074982, -0.48396329398441273, -8.016069194240563, -1.0937900580113467, 0.7640836349765033, -0.1974987591813333, 0.25148617744280166, 0.3554159742630485, -3.844179008443475, 0.34720388258189094, -0.5537604192310936, -2.815643563140658, 0.5425136175972711, -4.628937775624177, 0.026618932481005886, -6.96887060631798, 0.7342609898536658, -0.3246985247501917, 0.695760822990849, -0.4434363259192078, 0.26127897814182954, -0.19503795925308376, 0.13350989733223795, -2.3648472227637223, 0.8281559416314295, -7.087678096568501, 0.8354427601393664, 0.8507106428643247, 0.3674709381719182, -1.7099981191643248, 0.9798427365138831, -0.20026077249970498, -3.9072054211595892, 0.37321120677295305, -0.9514157385498636, 0.20727459094640321, 0.9924128168565779, 0.9717632024526486, -7.544963546346112, 0.5309188391442636]</td><td style = \"text-align: left;\">Any[1.827091719175901, -1.7717959068137994, 1.8773731538330576, 2.671851409714802, 2.8968029695678985, -4.285047874257366, 1.0568784957919415, -4.390958385708427, -1.7204119453376017]</td><td style = \"text-align: right;\">19.6965</td><td style = \"text-align: left;\">Dict(:hidden_nodes =&gt; 20)</td><td style = \"text-align: right;\">0.367505</td><td style = \"text-align: left;\">Imp-then-Reg</td><td style = \"text-align: left;\">syn_X_censoring</td><td style = \"text-align: left;\">syn_Y_nn</td><td style = \"text-align: left;\">6 - NN-NMAR</td></tr><tr><td class = \"rowNumber\" style = \"font-weight: bold; text-align: right;\">127680</td><td style = \"text-align: left;\">n_980_p_10</td><td style = \"text-align: right;\">2</td><td style = \"text-align: right;\">5</td><td style = \"text-align: right;\">0.8</td><td style = \"text-align: right;\">9</td><td style = \"text-align: left;\">Imp-then-Reg 4 - best</td><td style = \"text-align: right;\">0.107912</td><td style = \"text-align: right;\">0.0631279</td><td style = \"text-align: left;\">Any[-0.31238711334010394, -0.05019861367756717, -0.23958672426063599, -0.11512069073761211, -0.284120693079265, -0.10328982336472037, -0.47058238351965054, 0.025814341694214482, -0.45536707566385104, -1.210396982407015, 0.05805155570739595, 0.16494307077666326, -0.08343612171710224, -0.01998948748449947, -0.23826439672734678, -0.3616124230045479, 0.10292666832125685, 0.06468964746097317, -0.2079583603434383, -0.3287746862955887, -0.1521236440808269, 0.08474872945799505, 0.1245365240371622, -0.44934745156218847, -0.08060471639491507, -0.17625563420611612, 0.09621688598088352, -2.0400311856661193, -0.44793361410606347, 0.025780141493185305, -Inf, -0.9678121392681194, -0.511590947871815, -1.035405238117833, 0.07721230394045209, -1.510092144138615, -10.024992501088061, 0.0564663760423425, 0.28330518532741145, 0.20614852314589338, -1.2029631297564864, 0.15203455902631557, -1.4533609744336742, -0.5237931649533745, -0.5033419703002582, -Inf, 0.0997059650118417, 0.4259192439765388, -0.22291743722860113, -24.871671915468212, -0.3220170051967568, -0.3235613309095202, -0.08384126855746277, -194.2358697176009, -1.5023075340134682, 0.06966764461929853, -1.7568226150812438, 0.2801017610539891, -Inf, -4.189670989294814, 0.8888332389393055, -Inf, -1.0669038458375772, -Inf, -0.5740200980498569, -Inf, -4.7590025596522825, -Inf, -1.7250654810701076, -Inf, -Inf, -Inf, -Inf, -7.0228261034765875, -0.7020575340630775, -1.432938119936447, -Inf, -Inf, -Inf, -Inf, -Inf, -Inf, -Inf, -Inf, -Inf, -Inf, -Inf, -Inf, -Inf, -1.8202866381241787]</td><td style = \"text-align: left;\">Any[-0.34254634508382, 0.02132097617969131, -0.08298312703934996, -0.1871195326863564, -0.38368211721522494, -0.19056363920181818, -0.32134282722716834, 0.045302753509349314, -0.5346863999392477, -0.3430187670036835, 0.0038813107571334937, -0.016743581605131785, 0.13213591657853796, 0.032577048114515894, 0.023100882291708702, 0.05076681462577248, -0.28705804738512497, 0.050591126460092894, -0.09466787114964959, -0.4144747131840836, -0.1612353063091656, -0.15459055835792324, -0.04496153425105631, -0.05180709986369836, -0.14594877515146165, -0.23157540528292775, 0.26152689002687235, -0.07163963014972152, -0.18475237944864342, -0.14769918129558413, -0.008703171409075727, 0.10215505065164066, 0.056837510910416555, -0.08989564957705909, -0.24072977395789352, -0.42421766595876664, -0.34825246150366973, 0.08861513140497235, -0.6307664408817759, -0.6113128019317047, 0.6553191230938105, -0.04932079770343201, -0.014631179112511772, 0.2839358403898017, 0.23878890672351283, 0.12657649152767714, 0.21212962692825432, -0.011729293035722455, -0.11967617792237695, 0.6092723816998797, -0.4339371699725263, 0.17649143155247704, 0.14036239196873934, -1.002388826653847, 0.15606515719118075, 0.04464444766760656, -0.2248277372609646, 0.035761821361670276, -0.40549360566833426, -0.5234795837479451, -0.2944893778984612, -0.20979346726408887, 0.2974147957760199, 0.19287694874534267, 0.5961359283338272, -1.1141208801908902, 0.29578733860999806, 0.08247252717669107, -0.021203992255842907, 0.21810541521853888, -0.9667325979732528, -0.10226952909562037, -0.1649804284291858, 0.6731962640504916, 0.8157898536319573, -1.439711070101783, -0.5888472908312028, 0.65524018310936, -0.22731996020477552, 0.7875036632060656, 0.4603233209224783, 0.041106352078024266, -7.05426962509395, -0.04092197958290522, -0.7513712780011053, 0.39325765594713114, -3.469815674259939, 0.9903930280942725, -247042.81350227178, -0.2223622622518744]</td><td style = \"text-align: left;\">Any[1.8982975609459531, -1.7672339439796925, 1.7807838016814088, 2.5319090306781806, 2.8701348678769647, -4.237384905073641, 1.0850070911110774, -4.284343336215018, -1.6768992501428595]</td><td style = \"text-align: right;\">24.5388</td><td style = \"text-align: left;\">Dict(:hidden_nodes =&gt; 35)</td><td style = \"text-align: right;\">0.0850921</td><td style = \"text-align: left;\">Imp-then-Reg</td><td style = \"text-align: left;\">syn_X_censoring</td><td style = \"text-align: left;\">syn_Y_nn</td><td style = \"text-align: left;\">6 - NN-NMAR</td></tr></tbody></table></div>"
      ],
      "text/latex": [
       "\\begin{tabular}{r|ccccccccc}\n",
       "\t& dataset & SNR & k & pMissing & splitnum & method & r2 & osr2 & \\\\\n",
       "\t\\hline\n",
       "\t& String15 & Int64 & Int64 & Float64 & Int64 & String31 & Float64 & Float64 & \\\\\n",
       "\t\\hline\n",
       "\t1 & n\\_1000\\_p\\_10 & 2 & 5 & 0.1 & 1 & Imp-then-Reg 1 - nn & 0.783002 & 0.751881 & $\\dots$ \\\\\n",
       "\t2 & n\\_1000\\_p\\_10 & 2 & 5 & 0.1 & 1 & Imp-then-Reg 2 - nn & 0.782897 & 0.754546 & $\\dots$ \\\\\n",
       "\t3 & n\\_1000\\_p\\_10 & 2 & 5 & 0.1 & 1 & Imp-then-Reg 3 - nn & 0.782897 & 0.750016 & $\\dots$ \\\\\n",
       "\t4 & n\\_1000\\_p\\_10 & 2 & 5 & 0.1 & 1 & Imp-then-Reg 4 - nn & 0.733965 & 0.706336 & $\\dots$ \\\\\n",
       "\t5 & n\\_1000\\_p\\_10 & 2 & 5 & 0.1 & 10 & Imp-then-Reg 1 - nn & 0.427568 & 0.389282 & $\\dots$ \\\\\n",
       "\t6 & n\\_1000\\_p\\_10 & 2 & 5 & 0.1 & 10 & Imp-then-Reg 2 - nn & 0.427881 & 0.399551 & $\\dots$ \\\\\n",
       "\t7 & n\\_1000\\_p\\_10 & 2 & 5 & 0.1 & 10 & Imp-then-Reg 3 - nn & 0.427881 & 0.399448 & $\\dots$ \\\\\n",
       "\t8 & n\\_1000\\_p\\_10 & 2 & 5 & 0.1 & 10 & Imp-then-Reg 4 - nn & 0.420074 & 0.35315 & $\\dots$ \\\\\n",
       "\t9 & n\\_1000\\_p\\_10 & 2 & 5 & 0.1 & 2 & Imp-then-Reg 1 - nn & 0.796302 & 0.791629 & $\\dots$ \\\\\n",
       "\t10 & n\\_1000\\_p\\_10 & 2 & 5 & 0.1 & 2 & Imp-then-Reg 2 - nn & 0.793859 & 0.786556 & $\\dots$ \\\\\n",
       "\t11 & n\\_1000\\_p\\_10 & 2 & 5 & 0.1 & 2 & Imp-then-Reg 3 - nn & 0.793859 & 0.786698 & $\\dots$ \\\\\n",
       "\t12 & n\\_1000\\_p\\_10 & 2 & 5 & 0.1 & 2 & Imp-then-Reg 4 - nn & 0.789213 & 0.761528 & $\\dots$ \\\\\n",
       "\t13 & n\\_1000\\_p\\_10 & 2 & 5 & 0.1 & 3 & Imp-then-Reg 1 - nn & 0.799105 & 0.787641 & $\\dots$ \\\\\n",
       "\t14 & n\\_1000\\_p\\_10 & 2 & 5 & 0.1 & 3 & Imp-then-Reg 2 - nn & 0.798451 & 0.785669 & $\\dots$ \\\\\n",
       "\t15 & n\\_1000\\_p\\_10 & 2 & 5 & 0.1 & 3 & Imp-then-Reg 3 - nn & 0.798451 & 0.78772 & $\\dots$ \\\\\n",
       "\t16 & n\\_1000\\_p\\_10 & 2 & 5 & 0.1 & 3 & Imp-then-Reg 4 - nn & 0.797378 & 0.773668 & $\\dots$ \\\\\n",
       "\t17 & n\\_1000\\_p\\_10 & 2 & 5 & 0.1 & 4 & Imp-then-Reg 1 - nn & 0.794604 & 0.772336 & $\\dots$ \\\\\n",
       "\t18 & n\\_1000\\_p\\_10 & 2 & 5 & 0.1 & 4 & Imp-then-Reg 2 - nn & 0.796341 & 0.77228 & $\\dots$ \\\\\n",
       "\t19 & n\\_1000\\_p\\_10 & 2 & 5 & 0.1 & 4 & Imp-then-Reg 3 - nn & 0.796341 & 0.77217 & $\\dots$ \\\\\n",
       "\t20 & n\\_1000\\_p\\_10 & 2 & 5 & 0.1 & 4 & Imp-then-Reg 4 - nn & 0.776706 & 0.74878 & $\\dots$ \\\\\n",
       "\t21 & n\\_1000\\_p\\_10 & 2 & 5 & 0.1 & 5 & Imp-then-Reg 1 - nn & 0.449551 & 0.404679 & $\\dots$ \\\\\n",
       "\t22 & n\\_1000\\_p\\_10 & 2 & 5 & 0.1 & 5 & Imp-then-Reg 2 - nn & 0.449281 & 0.406477 & $\\dots$ \\\\\n",
       "\t23 & n\\_1000\\_p\\_10 & 2 & 5 & 0.1 & 5 & Imp-then-Reg 3 - nn & 0.449281 & 0.405081 & $\\dots$ \\\\\n",
       "\t24 & n\\_1000\\_p\\_10 & 2 & 5 & 0.1 & 5 & Imp-then-Reg 4 - nn & 0.451786 & 0.369597 & $\\dots$ \\\\\n",
       "\t$\\dots$ & $\\dots$ & $\\dots$ & $\\dots$ & $\\dots$ & $\\dots$ & $\\dots$ & $\\dots$ & $\\dots$ &  \\\\\n",
       "\\end{tabular}\n"
      ],
      "text/plain": [
       "\u001b[1m127680×18 DataFrame\u001b[0m\n",
       "\u001b[1m    Row \u001b[0m│\u001b[1m dataset     \u001b[0m\u001b[1m SNR   \u001b[0m\u001b[1m k     \u001b[0m\u001b[1m pMissing \u001b[0m\u001b[1m splitnum \u001b[0m\u001b[1m method               \u001b[0m ⋯\n",
       "        │\u001b[90m String15    \u001b[0m\u001b[90m Int64 \u001b[0m\u001b[90m Int64 \u001b[0m\u001b[90m Float64  \u001b[0m\u001b[90m Int64    \u001b[0m\u001b[90m String31             \u001b[0m ⋯\n",
       "────────┼───────────────────────────────────────────────────────────────────────\n",
       "      1 │ n_1000_p_10      2      5       0.1         1  Imp-then-Reg 1 - nn   ⋯\n",
       "      2 │ n_1000_p_10      2      5       0.1         1  Imp-then-Reg 2 - nn\n",
       "      3 │ n_1000_p_10      2      5       0.1         1  Imp-then-Reg 3 - nn\n",
       "      4 │ n_1000_p_10      2      5       0.1         1  Imp-then-Reg 4 - nn\n",
       "      5 │ n_1000_p_10      2      5       0.1        10  Imp-then-Reg 1 - nn   ⋯\n",
       "      6 │ n_1000_p_10      2      5       0.1        10  Imp-then-Reg 2 - nn\n",
       "      7 │ n_1000_p_10      2      5       0.1        10  Imp-then-Reg 3 - nn\n",
       "      8 │ n_1000_p_10      2      5       0.1        10  Imp-then-Reg 4 - nn\n",
       "   ⋮    │      ⋮         ⋮      ⋮       ⋮         ⋮                ⋮           ⋱\n",
       " 127674 │ n_980_p_10       2      5       0.8         3  Imp-then-Reg 4 - best ⋯\n",
       " 127675 │ n_980_p_10       2      5       0.8         4  Imp-then-Reg 4 - best\n",
       " 127676 │ n_980_p_10       2      5       0.8         5  Imp-then-Reg 4 - best\n",
       " 127677 │ n_980_p_10       2      5       0.8         6  Imp-then-Reg 4 - best\n",
       " 127678 │ n_980_p_10       2      5       0.8         7  Imp-then-Reg 4 - best ⋯\n",
       " 127679 │ n_980_p_10       2      5       0.8         8  Imp-then-Reg 4 - best\n",
       " 127680 │ n_980_p_10       2      5       0.8         9  Imp-then-Reg 4 - best\n",
       "\u001b[36m                                              12 columns and 127665 rows omitted\u001b[0m"
      ]
     },
     "metadata": {},
     "output_type": "display_data"
    }
   ],
   "source": [
    "df"
   ]
  },
  {
   "cell_type": "code",
   "execution_count": 28,
   "metadata": {},
   "outputs": [
    {
     "data": {
      "text/plain": [
       "7-element Vector{Float64}:\n",
       " 0.1\n",
       " 0.2\n",
       " 0.3\n",
       " 0.4\n",
       " 0.5\n",
       " 0.6\n",
       " 0.7"
      ]
     },
     "metadata": {},
     "output_type": "display_data"
    }
   ],
   "source": [
    "unique(filter(t -> t[:dataset] == \"n_20_p_10\", df)[:,:pMissing])"
   ]
  },
  {
   "cell_type": "code",
   "execution_count": 24,
   "metadata": {
    "collapsed": true
   },
   "outputs": [
    {
     "data": {
      "text/html": [
       "<div><div style = \"float: left;\"><span>32×4 DataFrame</span></div><div style = \"float: right;\"><span style = \"font-style: italic;\">7 rows omitted</span></div><div style = \"clear: both;\"></div></div><div class = \"data-frame\" style = \"overflow-x: scroll;\"><table class = \"data-frame\" style = \"margin-bottom: 6px;\"><thead><tr class = \"header\"><th class = \"rowNumber\" style = \"font-weight: bold; text-align: right;\">Row</th><th style = \"text-align: left;\">dataset</th><th style = \"text-align: left;\">method</th><th style = \"text-align: left;\">setting</th><th style = \"text-align: left;\">nrow</th></tr><tr class = \"subheader headerLastRow\"><th class = \"rowNumber\" style = \"font-weight: bold; text-align: right;\"></th><th title = \"String15\" style = \"text-align: left;\">String15</th><th title = \"String31\" style = \"text-align: left;\">String31</th><th title = \"String\" style = \"text-align: left;\">String</th><th title = \"Int64\" style = \"text-align: left;\">Int64</th></tr></thead><tbody><tr><td class = \"rowNumber\" style = \"font-weight: bold; text-align: right;\">1</td><td style = \"text-align: left;\">n_20_p_10</td><td style = \"text-align: left;\">Imp-then-Reg 1 - nn</td><td style = \"text-align: left;\">1 - Lin-MAR</td><td style = \"text-align: right;\">70</td></tr><tr><td class = \"rowNumber\" style = \"font-weight: bold; text-align: right;\">2</td><td style = \"text-align: left;\">n_20_p_10</td><td style = \"text-align: left;\">Imp-then-Reg 2 - nn</td><td style = \"text-align: left;\">1 - Lin-MAR</td><td style = \"text-align: right;\">70</td></tr><tr><td class = \"rowNumber\" style = \"font-weight: bold; text-align: right;\">3</td><td style = \"text-align: left;\">n_20_p_10</td><td style = \"text-align: left;\">Imp-then-Reg 3 - nn</td><td style = \"text-align: left;\">1 - Lin-MAR</td><td style = \"text-align: right;\">70</td></tr><tr><td class = \"rowNumber\" style = \"font-weight: bold; text-align: right;\">4</td><td style = \"text-align: left;\">n_20_p_10</td><td style = \"text-align: left;\">Imp-then-Reg 4 - nn</td><td style = \"text-align: left;\">1 - Lin-MAR</td><td style = \"text-align: right;\">70</td></tr><tr><td class = \"rowNumber\" style = \"font-weight: bold; text-align: right;\">5</td><td style = \"text-align: left;\">n_20_p_10</td><td style = \"text-align: left;\">Imp-then-Reg 1 - best</td><td style = \"text-align: left;\">1 - Lin-MAR</td><td style = \"text-align: right;\">70</td></tr><tr><td class = \"rowNumber\" style = \"font-weight: bold; text-align: right;\">6</td><td style = \"text-align: left;\">n_20_p_10</td><td style = \"text-align: left;\">Imp-then-Reg 2 - best</td><td style = \"text-align: left;\">1 - Lin-MAR</td><td style = \"text-align: right;\">70</td></tr><tr><td class = \"rowNumber\" style = \"font-weight: bold; text-align: right;\">7</td><td style = \"text-align: left;\">n_20_p_10</td><td style = \"text-align: left;\">Imp-then-Reg 3 - best</td><td style = \"text-align: left;\">1 - Lin-MAR</td><td style = \"text-align: right;\">70</td></tr><tr><td class = \"rowNumber\" style = \"font-weight: bold; text-align: right;\">8</td><td style = \"text-align: left;\">n_20_p_10</td><td style = \"text-align: left;\">Imp-then-Reg 4 - best</td><td style = \"text-align: left;\">1 - Lin-MAR</td><td style = \"text-align: right;\">70</td></tr><tr><td class = \"rowNumber\" style = \"font-weight: bold; text-align: right;\">9</td><td style = \"text-align: left;\">n_20_p_10</td><td style = \"text-align: left;\">Imp-then-Reg 1 - nn</td><td style = \"text-align: left;\">2 - Lin-NMAR</td><td style = \"text-align: right;\">70</td></tr><tr><td class = \"rowNumber\" style = \"font-weight: bold; text-align: right;\">10</td><td style = \"text-align: left;\">n_20_p_10</td><td style = \"text-align: left;\">Imp-then-Reg 2 - nn</td><td style = \"text-align: left;\">2 - Lin-NMAR</td><td style = \"text-align: right;\">70</td></tr><tr><td class = \"rowNumber\" style = \"font-weight: bold; text-align: right;\">11</td><td style = \"text-align: left;\">n_20_p_10</td><td style = \"text-align: left;\">Imp-then-Reg 3 - nn</td><td style = \"text-align: left;\">2 - Lin-NMAR</td><td style = \"text-align: right;\">70</td></tr><tr><td class = \"rowNumber\" style = \"font-weight: bold; text-align: right;\">12</td><td style = \"text-align: left;\">n_20_p_10</td><td style = \"text-align: left;\">Imp-then-Reg 4 - nn</td><td style = \"text-align: left;\">2 - Lin-NMAR</td><td style = \"text-align: right;\">70</td></tr><tr><td class = \"rowNumber\" style = \"font-weight: bold; text-align: right;\">13</td><td style = \"text-align: left;\">n_20_p_10</td><td style = \"text-align: left;\">Imp-then-Reg 1 - best</td><td style = \"text-align: left;\">2 - Lin-NMAR</td><td style = \"text-align: right;\">70</td></tr><tr><td style = \"text-align: right;\">&vellip;</td><td style = \"text-align: right;\">&vellip;</td><td style = \"text-align: right;\">&vellip;</td><td style = \"text-align: right;\">&vellip;</td><td style = \"text-align: right;\">&vellip;</td></tr><tr><td class = \"rowNumber\" style = \"font-weight: bold; text-align: right;\">21</td><td style = \"text-align: left;\">n_20_p_10</td><td style = \"text-align: left;\">Imp-then-Reg 1 - best</td><td style = \"text-align: left;\">5 - NN-MAR</td><td style = \"text-align: right;\">70</td></tr><tr><td class = \"rowNumber\" style = \"font-weight: bold; text-align: right;\">22</td><td style = \"text-align: left;\">n_20_p_10</td><td style = \"text-align: left;\">Imp-then-Reg 2 - best</td><td style = \"text-align: left;\">5 - NN-MAR</td><td style = \"text-align: right;\">70</td></tr><tr><td class = \"rowNumber\" style = \"font-weight: bold; text-align: right;\">23</td><td style = \"text-align: left;\">n_20_p_10</td><td style = \"text-align: left;\">Imp-then-Reg 3 - best</td><td style = \"text-align: left;\">5 - NN-MAR</td><td style = \"text-align: right;\">70</td></tr><tr><td class = \"rowNumber\" style = \"font-weight: bold; text-align: right;\">24</td><td style = \"text-align: left;\">n_20_p_10</td><td style = \"text-align: left;\">Imp-then-Reg 4 - best</td><td style = \"text-align: left;\">5 - NN-MAR</td><td style = \"text-align: right;\">70</td></tr><tr><td class = \"rowNumber\" style = \"font-weight: bold; text-align: right;\">25</td><td style = \"text-align: left;\">n_20_p_10</td><td style = \"text-align: left;\">Imp-then-Reg 1 - nn</td><td style = \"text-align: left;\">6 - NN-NMAR</td><td style = \"text-align: right;\">70</td></tr><tr><td class = \"rowNumber\" style = \"font-weight: bold; text-align: right;\">26</td><td style = \"text-align: left;\">n_20_p_10</td><td style = \"text-align: left;\">Imp-then-Reg 2 - nn</td><td style = \"text-align: left;\">6 - NN-NMAR</td><td style = \"text-align: right;\">70</td></tr><tr><td class = \"rowNumber\" style = \"font-weight: bold; text-align: right;\">27</td><td style = \"text-align: left;\">n_20_p_10</td><td style = \"text-align: left;\">Imp-then-Reg 3 - nn</td><td style = \"text-align: left;\">6 - NN-NMAR</td><td style = \"text-align: right;\">70</td></tr><tr><td class = \"rowNumber\" style = \"font-weight: bold; text-align: right;\">28</td><td style = \"text-align: left;\">n_20_p_10</td><td style = \"text-align: left;\">Imp-then-Reg 4 - nn</td><td style = \"text-align: left;\">6 - NN-NMAR</td><td style = \"text-align: right;\">70</td></tr><tr><td class = \"rowNumber\" style = \"font-weight: bold; text-align: right;\">29</td><td style = \"text-align: left;\">n_20_p_10</td><td style = \"text-align: left;\">Imp-then-Reg 1 - best</td><td style = \"text-align: left;\">6 - NN-NMAR</td><td style = \"text-align: right;\">70</td></tr><tr><td class = \"rowNumber\" style = \"font-weight: bold; text-align: right;\">30</td><td style = \"text-align: left;\">n_20_p_10</td><td style = \"text-align: left;\">Imp-then-Reg 2 - best</td><td style = \"text-align: left;\">6 - NN-NMAR</td><td style = \"text-align: right;\">70</td></tr><tr><td class = \"rowNumber\" style = \"font-weight: bold; text-align: right;\">31</td><td style = \"text-align: left;\">n_20_p_10</td><td style = \"text-align: left;\">Imp-then-Reg 3 - best</td><td style = \"text-align: left;\">6 - NN-NMAR</td><td style = \"text-align: right;\">70</td></tr><tr><td class = \"rowNumber\" style = \"font-weight: bold; text-align: right;\">32</td><td style = \"text-align: left;\">n_20_p_10</td><td style = \"text-align: left;\">Imp-then-Reg 4 - best</td><td style = \"text-align: left;\">6 - NN-NMAR</td><td style = \"text-align: right;\">70</td></tr></tbody></table></div>"
      ],
      "text/latex": [
       "\\begin{tabular}{r|cccc}\n",
       "\t& dataset & method & setting & nrow\\\\\n",
       "\t\\hline\n",
       "\t& String15 & String31 & String & Int64\\\\\n",
       "\t\\hline\n",
       "\t1 & n\\_20\\_p\\_10 & Imp-then-Reg 1 - nn & 1 - Lin-MAR & 70 \\\\\n",
       "\t2 & n\\_20\\_p\\_10 & Imp-then-Reg 2 - nn & 1 - Lin-MAR & 70 \\\\\n",
       "\t3 & n\\_20\\_p\\_10 & Imp-then-Reg 3 - nn & 1 - Lin-MAR & 70 \\\\\n",
       "\t4 & n\\_20\\_p\\_10 & Imp-then-Reg 4 - nn & 1 - Lin-MAR & 70 \\\\\n",
       "\t5 & n\\_20\\_p\\_10 & Imp-then-Reg 1 - best & 1 - Lin-MAR & 70 \\\\\n",
       "\t6 & n\\_20\\_p\\_10 & Imp-then-Reg 2 - best & 1 - Lin-MAR & 70 \\\\\n",
       "\t7 & n\\_20\\_p\\_10 & Imp-then-Reg 3 - best & 1 - Lin-MAR & 70 \\\\\n",
       "\t8 & n\\_20\\_p\\_10 & Imp-then-Reg 4 - best & 1 - Lin-MAR & 70 \\\\\n",
       "\t9 & n\\_20\\_p\\_10 & Imp-then-Reg 1 - nn & 2 - Lin-NMAR & 70 \\\\\n",
       "\t10 & n\\_20\\_p\\_10 & Imp-then-Reg 2 - nn & 2 - Lin-NMAR & 70 \\\\\n",
       "\t11 & n\\_20\\_p\\_10 & Imp-then-Reg 3 - nn & 2 - Lin-NMAR & 70 \\\\\n",
       "\t12 & n\\_20\\_p\\_10 & Imp-then-Reg 4 - nn & 2 - Lin-NMAR & 70 \\\\\n",
       "\t13 & n\\_20\\_p\\_10 & Imp-then-Reg 1 - best & 2 - Lin-NMAR & 70 \\\\\n",
       "\t14 & n\\_20\\_p\\_10 & Imp-then-Reg 2 - best & 2 - Lin-NMAR & 70 \\\\\n",
       "\t15 & n\\_20\\_p\\_10 & Imp-then-Reg 3 - best & 2 - Lin-NMAR & 70 \\\\\n",
       "\t16 & n\\_20\\_p\\_10 & Imp-then-Reg 4 - best & 2 - Lin-NMAR & 70 \\\\\n",
       "\t17 & n\\_20\\_p\\_10 & Imp-then-Reg 1 - nn & 5 - NN-MAR & 70 \\\\\n",
       "\t18 & n\\_20\\_p\\_10 & Imp-then-Reg 2 - nn & 5 - NN-MAR & 70 \\\\\n",
       "\t19 & n\\_20\\_p\\_10 & Imp-then-Reg 3 - nn & 5 - NN-MAR & 70 \\\\\n",
       "\t20 & n\\_20\\_p\\_10 & Imp-then-Reg 4 - nn & 5 - NN-MAR & 70 \\\\\n",
       "\t21 & n\\_20\\_p\\_10 & Imp-then-Reg 1 - best & 5 - NN-MAR & 70 \\\\\n",
       "\t22 & n\\_20\\_p\\_10 & Imp-then-Reg 2 - best & 5 - NN-MAR & 70 \\\\\n",
       "\t23 & n\\_20\\_p\\_10 & Imp-then-Reg 3 - best & 5 - NN-MAR & 70 \\\\\n",
       "\t24 & n\\_20\\_p\\_10 & Imp-then-Reg 4 - best & 5 - NN-MAR & 70 \\\\\n",
       "\t$\\dots$ & $\\dots$ & $\\dots$ & $\\dots$ & $\\dots$ \\\\\n",
       "\\end{tabular}\n"
      ],
      "text/plain": [
       "\u001b[1m32×4 DataFrame\u001b[0m\n",
       "\u001b[1m Row \u001b[0m│\u001b[1m dataset   \u001b[0m\u001b[1m method                \u001b[0m\u001b[1m setting      \u001b[0m\u001b[1m nrow  \u001b[0m\n",
       "     │\u001b[90m String15  \u001b[0m\u001b[90m String31              \u001b[0m\u001b[90m String       \u001b[0m\u001b[90m Int64 \u001b[0m\n",
       "─────┼───────────────────────────────────────────────────────\n",
       "   1 │ n_20_p_10  Imp-then-Reg 1 - nn    1 - Lin-MAR      70\n",
       "   2 │ n_20_p_10  Imp-then-Reg 2 - nn    1 - Lin-MAR      70\n",
       "   3 │ n_20_p_10  Imp-then-Reg 3 - nn    1 - Lin-MAR      70\n",
       "   4 │ n_20_p_10  Imp-then-Reg 4 - nn    1 - Lin-MAR      70\n",
       "   5 │ n_20_p_10  Imp-then-Reg 1 - best  1 - Lin-MAR      70\n",
       "   6 │ n_20_p_10  Imp-then-Reg 2 - best  1 - Lin-MAR      70\n",
       "   7 │ n_20_p_10  Imp-then-Reg 3 - best  1 - Lin-MAR      70\n",
       "   8 │ n_20_p_10  Imp-then-Reg 4 - best  1 - Lin-MAR      70\n",
       "  ⋮  │     ⋮                ⋮                 ⋮          ⋮\n",
       "  26 │ n_20_p_10  Imp-then-Reg 2 - nn    6 - NN-NMAR      70\n",
       "  27 │ n_20_p_10  Imp-then-Reg 3 - nn    6 - NN-NMAR      70\n",
       "  28 │ n_20_p_10  Imp-then-Reg 4 - nn    6 - NN-NMAR      70\n",
       "  29 │ n_20_p_10  Imp-then-Reg 1 - best  6 - NN-NMAR      70\n",
       "  30 │ n_20_p_10  Imp-then-Reg 2 - best  6 - NN-NMAR      70\n",
       "  31 │ n_20_p_10  Imp-then-Reg 3 - best  6 - NN-NMAR      70\n",
       "  32 │ n_20_p_10  Imp-then-Reg 4 - best  6 - NN-NMAR      70\n",
       "\u001b[36m                                              17 rows omitted\u001b[0m"
      ]
     },
     "metadata": {},
     "output_type": "display_data"
    }
   ],
   "source": [
    "filter( t-> t[:nrow] < 80, combine(groupby(df, [:dataset, :method, :setting]), nrow))"
   ]
  },
  {
   "cell_type": "code",
   "execution_count": null,
   "metadata": {
    "collapsed": true
   },
   "outputs": [],
   "source": [
    "pbdata = unique(filter( t -> t[:nrow] < 90, combine(groupby(df, [:dataset, :method, :setting]), nrow))[:,[:method, :setting, :dataset]])"
   ]
  },
  {
   "cell_type": "code",
   "execution_count": null,
   "metadata": {
    "collapsed": true
   },
   "outputs": [],
   "source": [
    "aux = filter( t -> t[:dataset] ∈ pbdata && t[:nrow] < 10, combine(groupby(df, [:dataset, :method, :setting, :pMissing]), nrow))\n",
    "unique(aux[:,[:dataset, :setting, :pMissing, :nrow]])"
   ]
  },
  {
   "cell_type": "code",
   "execution_count": null,
   "metadata": {
    "collapsed": true
   },
   "outputs": [],
   "source": [
    "filter(t -> t[:pMissing] == 0.1, unique(aux[:,[:dataset, :setting, :pMissing, :nrow]]))"
   ]
  },
  {
   "cell_type": "code",
   "execution_count": null,
   "metadata": {
    "collapsed": true
   },
   "outputs": [],
   "source": [
    "filter(t -> t[:pMissing] == 0.3, unique(aux[:,[:dataset, :setting, :pMissing, :nrow]]))"
   ]
  },
  {
   "cell_type": "code",
   "execution_count": null,
   "metadata": {
    "collapsed": true
   },
   "outputs": [],
   "source": [
    "filter(t -> startswith(t[:setting], \"5\"), unique(aux[:,[:dataset, :setting, :pMissing, :nrow]]))"
   ]
  }
 ],
 "metadata": {
  "@webio": {
   "lastCommId": null,
   "lastKernelId": null
  },
  "kernelspec": {
   "display_name": "Julia 1.9.3",
   "language": "julia",
   "name": "julia-1.9"
  },
  "language_info": {
   "file_extension": ".jl",
   "mimetype": "application/julia",
   "name": "julia",
   "version": "1.9.3"
  }
 },
 "nbformat": 4,
 "nbformat_minor": 2
}
