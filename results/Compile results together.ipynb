{
 "cells": [
  {
   "cell_type": "code",
   "execution_count": 56,
   "metadata": {},
   "outputs": [],
   "source": [
    "using CSV, DataFrames, Statistics"
   ]
  },
  {
   "cell_type": "code",
   "execution_count": 57,
   "metadata": {},
   "outputs": [
    {
     "data": {
      "text/plain": [
       "\"aistats-rev/\""
      ]
     },
     "metadata": {},
     "output_type": "display_data"
    }
   ],
   "source": [
    "prefix = \"aistats-rev/\""
   ]
  },
  {
   "cell_type": "code",
   "execution_count": 58,
   "metadata": {},
   "outputs": [
    {
     "data": {
      "text/plain": [
       "method_category (generic function with 1 method)"
      ]
     },
     "metadata": {},
     "output_type": "display_data"
    }
   ],
   "source": [
    "function method_category(meth)\n",
    "    if startswith(meth, \"Imp-then-Reg\")\n",
    "        return \"Imp-then-Reg\"\n",
    "    elseif startswith(meth, \"Joint Imp-then-Reg\")\n",
    "        return \"Joint Imp-then-Reg\"\n",
    "    elseif meth ∈ [\"Static\", \"Affine\", \"Finite\"]\n",
    "        return \"Adaptive LR\"\n",
    "    elseif startswith(meth, \"Complete Features\")\n",
    "        return \"Complete Features\"\n",
    "    else \n",
    "        return meth\n",
    "    end\n",
    "end"
   ]
  },
  {
   "cell_type": "code",
   "execution_count": 59,
   "metadata": {},
   "outputs": [
    {
     "data": {
      "text/plain": [
       "8-element Vector{String}:\n",
       " \"cylinder-bands\"\n",
       " \"ozone-level-detection-eight\"\n",
       " \"ozone-level-detection-one\"\n",
       " \"thyroid-disease-thyroid-0387\"\n",
       " \"trains\"\n",
       " \"credit-approval\"\n",
       " \"Ecdat-Mofa\"\n",
       " \"sleep\""
      ]
     },
     "metadata": {},
     "output_type": "display_data"
    }
   ],
   "source": [
    "pb_datasets = [\"cylinder-bands\", \"ozone-level-detection-eight\", \"ozone-level-detection-one\", \"thyroid-disease-thyroid-0387\", \"trains\",\n",
    "                \"credit-approval\", \"Ecdat-Mofa\", \"sleep\"]"
   ]
  },
  {
   "cell_type": "markdown",
   "metadata": {},
   "source": [
    "## For Real X - Syn Y Experiments"
   ]
  },
  {
   "cell_type": "code",
   "execution_count": 60,
   "metadata": {},
   "outputs": [],
   "source": [
    "setting = prefix*\"fakey/\"\n",
    "for y_model in [\"linear\", \"nn\"]\n",
    "    for m_model = [\"mar\", \"nmar\", \"mar_adv\"]\n",
    "        dir = y_model*\"_\"*m_model*\"/\"\n",
    "        directory = setting*dir\n",
    "        \n",
    "        filelist = [f for f in readdir(directory*\"all/\") if endswith(f, \".csv\")]\n",
    "        res = similar(CSV.read(directory*\"all/\"*filelist[1], DataFrame),0)\n",
    "        \n",
    "        for subdir = [\"all/\"]\n",
    "            filelist = [f for f in readdir(directory*subdir) if endswith(f, \".csv\")]\n",
    "#             res = similar(CSV.read(directory*subdir*filelist[1], DataFrame),0)\n",
    "            for i in 1:length(filelist)\n",
    "                res = vcat(res, CSV.read(directory*subdir*filelist[i], DataFrame))\n",
    "            end\n",
    "        end\n",
    "\n",
    "    #     for subdir = [\"xgb/\"]\n",
    "    #         try \n",
    "    #             filelist = [f for f in readdir(\"xgboost/\"*directory*subdir) if endswith(f, \".csv\")]\n",
    "    #             for i in 1:length(filelist)\n",
    "    #                 res = vcat(res, CSV.read(\"xgboost/\"*directory*subdir*filelist[i], DataFrame))\n",
    "    #             end\n",
    "    #         catch \n",
    "    #             println(\"No XGBoost results for \"*directory*subdir)\n",
    "    #         end\n",
    "    #     end\n",
    "\n",
    "        res[!,:method_cat] = map(t -> method_category(t), res[:,:method])\n",
    "        res[!,:X_setting] .= \"real_X_\"*m_model\n",
    "        res[!,:Y_setting] .= \"syn_Y_\"*y_model\n",
    "\n",
    "        CSV.write(directory*\"FINAL_results.csv\", res)\n",
    "    end\n",
    "end"
   ]
  },
  {
   "cell_type": "code",
   "execution_count": null,
   "metadata": {},
   "outputs": [],
   "source": [
    "setting = prefix*\"fakey/\"\n",
    "\n",
    "for y_model in [\"linear\", \"nn\"]\n",
    "    for m_model = [\"mar\", \"nmar\", \"mar_adv\"]\n",
    "        dir = y_model*\"_\"*m_model*\"/\"\n",
    "        directory = setting*dir\n",
    "  \n",
    "        res = CSV.read(directory*\"FINAL_results.csv\", DataFrame)\n",
    "        \n",
    "        res[!,:method] .= map(t -> (t == \"Affine\" ? \"Adaptive LR - Affine\" : t), res[:,:method]) \n",
    "        res[!,:method] .= map(t -> (t == \"Finite\" ? \"Adaptive LR - Finite\" : t), res[:,:method]) \n",
    "        res[!,:method] .= map(t -> (t == \"Static\" ? \"Adaptive LR - Affine intercept only\" : t), res[:,:method])\n",
    "        \n",
    "        filter!(t -> t[:dataset] ∉ pb_datasets, res)\n",
    "\n",
    "        for method in [\"Oracle X\", \"Oracle XM\", \"Complete Features\", \"Imp-then-Reg 1\", \"Imp-then-Reg 2\", \"Imp-then-Reg 3\", \"Imp-then-Reg 4\", \"Imp-then-Reg 5\", \"Joint Imp-then-Reg\", \"Adaptive LR\"]\n",
    "            aux = filter(t -> startswith(t[:method], method), res)\n",
    "\n",
    "            idcols = [:dataset, :X_setting, :Y_setting, :SNR, :k, :kMissing, :splitnum]\n",
    "            gd = groupby(aux, idcols)\n",
    "\n",
    "            aux = similar(aux, 0)\n",
    "            for subdf in gd \n",
    "                scoremax = argmax(subdf[:,:score])\n",
    "                push!(aux, subdf[scoremax,names(aux)])\n",
    "            end\n",
    "            aux[!,:method] .= method*\" - best\"\n",
    "\n",
    "            res = vcat(res, aux)\n",
    "        end\n",
    "        \n",
    "        CSV.write(directory*\"FINAL_results.csv\", res)\n",
    "    end\n",
    "end"
   ]
  },
  {
   "cell_type": "markdown",
   "metadata": {},
   "source": [
    "Sanity check"
   ]
  },
  {
   "cell_type": "code",
   "execution_count": 61,
   "metadata": {
    "collapsed": true
   },
   "outputs": [],
   "source": [
    "res = DataFrames.similar(CSV.read(prefix*\"fakey/\"*\"linear\"*\"_\"*\"mar\"*\"/FINAL_results.csv\", DataFrame), 0)\n",
    "for y_model in [\"linear\", \"nn\"]\n",
    "    for m_model = [\"mar\", \"nmar\", \"mar_adv\"]\n",
    "        dir = y_model*\"_\"*m_model*\"/\"\n",
    "        directory = prefix*\"fakey/\"*dir\n",
    "  \n",
    "        res = vcat(res, CSV.read(directory*\"FINAL_results.csv\", DataFrame))\n",
    "    end\n",
    "end"
   ]
  },
  {
   "cell_type": "code",
   "execution_count": null,
   "metadata": {},
   "outputs": [],
   "source": [
    "res"
   ]
  },
  {
   "cell_type": "code",
   "execution_count": 62,
   "metadata": {},
   "outputs": [
    {
     "data": {
      "text/html": [
       "<div><div style = \"float: left;\"><span>26956×6 DataFrame</span></div><div style = \"float: right;\"><span style = \"font-style: italic;\">26931 rows omitted</span></div><div style = \"clear: both;\"></div></div><div class = \"data-frame\" style = \"overflow-x: scroll;\"><table class = \"data-frame\" style = \"margin-bottom: 6px;\"><thead><tr class = \"header\"><th class = \"rowNumber\" style = \"font-weight: bold; text-align: right;\">Row</th><th style = \"text-align: left;\">dataset</th><th style = \"text-align: left;\">X_setting</th><th style = \"text-align: left;\">Y_setting</th><th style = \"text-align: left;\">kMissing</th><th style = \"text-align: left;\">method</th><th style = \"text-align: left;\">nrow</th></tr><tr class = \"subheader headerLastRow\"><th class = \"rowNumber\" style = \"font-weight: bold; text-align: right;\"></th><th title = \"String\" style = \"text-align: left;\">String</th><th title = \"String15\" style = \"text-align: left;\">String15</th><th title = \"String15\" style = \"text-align: left;\">String15</th><th title = \"Int64\" style = \"text-align: left;\">Int64</th><th title = \"String31\" style = \"text-align: left;\">String31</th><th title = \"Int64\" style = \"text-align: left;\">Int64</th></tr></thead><tbody><tr><td class = \"rowNumber\" style = \"font-weight: bold; text-align: right;\">1</td><td style = \"text-align: left;\">COUNT-loomis</td><td style = \"text-align: left;\">real_X_mar</td><td style = \"text-align: left;\">syn_Y_linear</td><td style = \"text-align: right;\">0</td><td style = \"text-align: left;\">XGBoost</td><td style = \"text-align: right;\">10</td></tr><tr><td class = \"rowNumber\" style = \"font-weight: bold; text-align: right;\">2</td><td style = \"text-align: left;\">COUNT-loomis</td><td style = \"text-align: left;\">real_X_mar</td><td style = \"text-align: left;\">syn_Y_linear</td><td style = \"text-align: right;\">0</td><td style = \"text-align: left;\">Oracle X - linear</td><td style = \"text-align: right;\">10</td></tr><tr><td class = \"rowNumber\" style = \"font-weight: bold; text-align: right;\">3</td><td style = \"text-align: left;\">COUNT-loomis</td><td style = \"text-align: left;\">real_X_mar</td><td style = \"text-align: left;\">syn_Y_linear</td><td style = \"text-align: right;\">0</td><td style = \"text-align: left;\">Oracle XM - linear</td><td style = \"text-align: right;\">10</td></tr><tr><td class = \"rowNumber\" style = \"font-weight: bold; text-align: right;\">4</td><td style = \"text-align: left;\">COUNT-loomis</td><td style = \"text-align: left;\">real_X_mar</td><td style = \"text-align: left;\">syn_Y_linear</td><td style = \"text-align: right;\">0</td><td style = \"text-align: left;\">Complete Features - linear</td><td style = \"text-align: right;\">10</td></tr><tr><td class = \"rowNumber\" style = \"font-weight: bold; text-align: right;\">5</td><td style = \"text-align: left;\">COUNT-loomis</td><td style = \"text-align: left;\">real_X_mar</td><td style = \"text-align: left;\">syn_Y_linear</td><td style = \"text-align: right;\">0</td><td style = \"text-align: left;\">Oracle X - tree</td><td style = \"text-align: right;\">10</td></tr><tr><td class = \"rowNumber\" style = \"font-weight: bold; text-align: right;\">6</td><td style = \"text-align: left;\">COUNT-loomis</td><td style = \"text-align: left;\">real_X_mar</td><td style = \"text-align: left;\">syn_Y_linear</td><td style = \"text-align: right;\">0</td><td style = \"text-align: left;\">Oracle XM - tree</td><td style = \"text-align: right;\">10</td></tr><tr><td class = \"rowNumber\" style = \"font-weight: bold; text-align: right;\">7</td><td style = \"text-align: left;\">COUNT-loomis</td><td style = \"text-align: left;\">real_X_mar</td><td style = \"text-align: left;\">syn_Y_linear</td><td style = \"text-align: right;\">0</td><td style = \"text-align: left;\">Complete Features - tree</td><td style = \"text-align: right;\">10</td></tr><tr><td class = \"rowNumber\" style = \"font-weight: bold; text-align: right;\">8</td><td style = \"text-align: left;\">COUNT-loomis</td><td style = \"text-align: left;\">real_X_mar</td><td style = \"text-align: left;\">syn_Y_linear</td><td style = \"text-align: right;\">0</td><td style = \"text-align: left;\">Oracle X - rf</td><td style = \"text-align: right;\">10</td></tr><tr><td class = \"rowNumber\" style = \"font-weight: bold; text-align: right;\">9</td><td style = \"text-align: left;\">COUNT-loomis</td><td style = \"text-align: left;\">real_X_mar</td><td style = \"text-align: left;\">syn_Y_linear</td><td style = \"text-align: right;\">0</td><td style = \"text-align: left;\">Oracle XM - rf</td><td style = \"text-align: right;\">10</td></tr><tr><td class = \"rowNumber\" style = \"font-weight: bold; text-align: right;\">10</td><td style = \"text-align: left;\">COUNT-loomis</td><td style = \"text-align: left;\">real_X_mar</td><td style = \"text-align: left;\">syn_Y_linear</td><td style = \"text-align: right;\">0</td><td style = \"text-align: left;\">Complete Features - rf</td><td style = \"text-align: right;\">10</td></tr><tr><td class = \"rowNumber\" style = \"font-weight: bold; text-align: right;\">11</td><td style = \"text-align: left;\">COUNT-loomis</td><td style = \"text-align: left;\">real_X_mar</td><td style = \"text-align: left;\">syn_Y_linear</td><td style = \"text-align: right;\">0</td><td style = \"text-align: left;\">CART MIA</td><td style = \"text-align: right;\">10</td></tr><tr><td class = \"rowNumber\" style = \"font-weight: bold; text-align: right;\">12</td><td style = \"text-align: left;\">COUNT-loomis</td><td style = \"text-align: left;\">real_X_mar</td><td style = \"text-align: left;\">syn_Y_linear</td><td style = \"text-align: right;\">0</td><td style = \"text-align: left;\">RF MIA</td><td style = \"text-align: right;\">10</td></tr><tr><td class = \"rowNumber\" style = \"font-weight: bold; text-align: right;\">13</td><td style = \"text-align: left;\">COUNT-loomis</td><td style = \"text-align: left;\">real_X_mar</td><td style = \"text-align: left;\">syn_Y_linear</td><td style = \"text-align: right;\">0</td><td style = \"text-align: left;\">Imp-then-Reg 1 - xgboost</td><td style = \"text-align: right;\">10</td></tr><tr><td style = \"text-align: right;\">&vellip;</td><td style = \"text-align: right;\">&vellip;</td><td style = \"text-align: right;\">&vellip;</td><td style = \"text-align: right;\">&vellip;</td><td style = \"text-align: right;\">&vellip;</td><td style = \"text-align: right;\">&vellip;</td><td style = \"text-align: right;\">&vellip;</td></tr><tr><td class = \"rowNumber\" style = \"font-weight: bold; text-align: right;\">26945</td><td style = \"text-align: left;\">wiki4he</td><td style = \"text-align: left;\">real_X_mar_adv</td><td style = \"text-align: left;\">syn_Y_nn</td><td style = \"text-align: right;\">0</td><td style = \"text-align: left;\">RF MIA</td><td style = \"text-align: right;\">1</td></tr><tr><td class = \"rowNumber\" style = \"font-weight: bold; text-align: right;\">26946</td><td style = \"text-align: left;\">wiki4he</td><td style = \"text-align: left;\">real_X_mar_adv</td><td style = \"text-align: left;\">syn_Y_nn</td><td style = \"text-align: right;\">0</td><td style = \"text-align: left;\">Imp-then-Reg 1 - xgboost</td><td style = \"text-align: right;\">1</td></tr><tr><td class = \"rowNumber\" style = \"font-weight: bold; text-align: right;\">26947</td><td style = \"text-align: left;\">wiki4he</td><td style = \"text-align: left;\">real_X_mar_adv</td><td style = \"text-align: left;\">syn_Y_nn</td><td style = \"text-align: right;\">0</td><td style = \"text-align: left;\">Imp-then-Reg 2 - xgboost</td><td style = \"text-align: right;\">1</td></tr><tr><td class = \"rowNumber\" style = \"font-weight: bold; text-align: right;\">26948</td><td style = \"text-align: left;\">wiki4he</td><td style = \"text-align: left;\">real_X_mar_adv</td><td style = \"text-align: left;\">syn_Y_nn</td><td style = \"text-align: right;\">0</td><td style = \"text-align: left;\">Imp-then-Reg 3 - xgboost</td><td style = \"text-align: right;\">1</td></tr><tr><td class = \"rowNumber\" style = \"font-weight: bold; text-align: right;\">26949</td><td style = \"text-align: left;\">wiki4he</td><td style = \"text-align: left;\">real_X_mar_adv</td><td style = \"text-align: left;\">syn_Y_nn</td><td style = \"text-align: right;\">0</td><td style = \"text-align: left;\">Imp-then-Reg 4 - xgboost</td><td style = \"text-align: right;\">1</td></tr><tr><td class = \"rowNumber\" style = \"font-weight: bold; text-align: right;\">26950</td><td style = \"text-align: left;\">wiki4he</td><td style = \"text-align: left;\">real_X_mar_adv</td><td style = \"text-align: left;\">syn_Y_nn</td><td style = \"text-align: right;\">0</td><td style = \"text-align: left;\">Imp-then-Reg 5 - xgboost</td><td style = \"text-align: right;\">1</td></tr><tr><td class = \"rowNumber\" style = \"font-weight: bold; text-align: right;\">26951</td><td style = \"text-align: left;\">wiki4he</td><td style = \"text-align: left;\">real_X_mar_adv</td><td style = \"text-align: left;\">syn_Y_nn</td><td style = \"text-align: right;\">0</td><td style = \"text-align: left;\">Static</td><td style = \"text-align: right;\">1</td></tr><tr><td class = \"rowNumber\" style = \"font-weight: bold; text-align: right;\">26952</td><td style = \"text-align: left;\">wiki4he</td><td style = \"text-align: left;\">real_X_mar_adv</td><td style = \"text-align: left;\">syn_Y_nn</td><td style = \"text-align: right;\">0</td><td style = \"text-align: left;\">Affine</td><td style = \"text-align: right;\">1</td></tr><tr><td class = \"rowNumber\" style = \"font-weight: bold; text-align: right;\">26953</td><td style = \"text-align: left;\">wiki4he</td><td style = \"text-align: left;\">real_X_mar_adv</td><td style = \"text-align: left;\">syn_Y_nn</td><td style = \"text-align: right;\">0</td><td style = \"text-align: left;\">Finite</td><td style = \"text-align: right;\">1</td></tr><tr><td class = \"rowNumber\" style = \"font-weight: bold; text-align: right;\">26954</td><td style = \"text-align: left;\">wiki4he</td><td style = \"text-align: left;\">real_X_mar_adv</td><td style = \"text-align: left;\">syn_Y_nn</td><td style = \"text-align: right;\">0</td><td style = \"text-align: left;\">Joint Imp-then-Reg - linear</td><td style = \"text-align: right;\">1</td></tr><tr><td class = \"rowNumber\" style = \"font-weight: bold; text-align: right;\">26955</td><td style = \"text-align: left;\">wiki4he</td><td style = \"text-align: left;\">real_X_mar_adv</td><td style = \"text-align: left;\">syn_Y_nn</td><td style = \"text-align: right;\">0</td><td style = \"text-align: left;\">Joint Imp-then-Reg - tree</td><td style = \"text-align: right;\">1</td></tr><tr><td class = \"rowNumber\" style = \"font-weight: bold; text-align: right;\">26956</td><td style = \"text-align: left;\">wiki4he</td><td style = \"text-align: left;\">real_X_mar_adv</td><td style = \"text-align: left;\">syn_Y_nn</td><td style = \"text-align: right;\">0</td><td style = \"text-align: left;\">Joint Imp-then-Reg - rf</td><td style = \"text-align: right;\">1</td></tr></tbody></table></div>"
      ],
      "text/latex": [
       "\\begin{tabular}{r|cccccc}\n",
       "\t& dataset & X\\_setting & Y\\_setting & kMissing & method & nrow\\\\\n",
       "\t\\hline\n",
       "\t& String & String15 & String15 & Int64 & String31 & Int64\\\\\n",
       "\t\\hline\n",
       "\t1 & COUNT-loomis & real\\_X\\_mar & syn\\_Y\\_linear & 0 & XGBoost & 10 \\\\\n",
       "\t2 & COUNT-loomis & real\\_X\\_mar & syn\\_Y\\_linear & 0 & Oracle X - linear & 10 \\\\\n",
       "\t3 & COUNT-loomis & real\\_X\\_mar & syn\\_Y\\_linear & 0 & Oracle XM - linear & 10 \\\\\n",
       "\t4 & COUNT-loomis & real\\_X\\_mar & syn\\_Y\\_linear & 0 & Complete Features - linear & 10 \\\\\n",
       "\t5 & COUNT-loomis & real\\_X\\_mar & syn\\_Y\\_linear & 0 & Oracle X - tree & 10 \\\\\n",
       "\t6 & COUNT-loomis & real\\_X\\_mar & syn\\_Y\\_linear & 0 & Oracle XM - tree & 10 \\\\\n",
       "\t7 & COUNT-loomis & real\\_X\\_mar & syn\\_Y\\_linear & 0 & Complete Features - tree & 10 \\\\\n",
       "\t8 & COUNT-loomis & real\\_X\\_mar & syn\\_Y\\_linear & 0 & Oracle X - rf & 10 \\\\\n",
       "\t9 & COUNT-loomis & real\\_X\\_mar & syn\\_Y\\_linear & 0 & Oracle XM - rf & 10 \\\\\n",
       "\t10 & COUNT-loomis & real\\_X\\_mar & syn\\_Y\\_linear & 0 & Complete Features - rf & 10 \\\\\n",
       "\t11 & COUNT-loomis & real\\_X\\_mar & syn\\_Y\\_linear & 0 & CART MIA & 10 \\\\\n",
       "\t12 & COUNT-loomis & real\\_X\\_mar & syn\\_Y\\_linear & 0 & RF MIA & 10 \\\\\n",
       "\t13 & COUNT-loomis & real\\_X\\_mar & syn\\_Y\\_linear & 0 & Imp-then-Reg 1 - xgboost & 10 \\\\\n",
       "\t14 & COUNT-loomis & real\\_X\\_mar & syn\\_Y\\_linear & 0 & Imp-then-Reg 2 - xgboost & 10 \\\\\n",
       "\t15 & COUNT-loomis & real\\_X\\_mar & syn\\_Y\\_linear & 0 & Imp-then-Reg 3 - xgboost & 10 \\\\\n",
       "\t16 & COUNT-loomis & real\\_X\\_mar & syn\\_Y\\_linear & 0 & Imp-then-Reg 4 - xgboost & 10 \\\\\n",
       "\t17 & COUNT-loomis & real\\_X\\_mar & syn\\_Y\\_linear & 0 & Imp-then-Reg 5 - xgboost & 10 \\\\\n",
       "\t18 & COUNT-loomis & real\\_X\\_mar & syn\\_Y\\_linear & 0 & Static & 10 \\\\\n",
       "\t19 & COUNT-loomis & real\\_X\\_mar & syn\\_Y\\_linear & 0 & Affine & 10 \\\\\n",
       "\t20 & COUNT-loomis & real\\_X\\_mar & syn\\_Y\\_linear & 0 & Finite & 10 \\\\\n",
       "\t21 & COUNT-loomis & real\\_X\\_mar & syn\\_Y\\_linear & 0 & Joint Imp-then-Reg - linear & 10 \\\\\n",
       "\t22 & COUNT-loomis & real\\_X\\_mar & syn\\_Y\\_linear & 0 & Joint Imp-then-Reg - tree & 10 \\\\\n",
       "\t23 & COUNT-loomis & real\\_X\\_mar & syn\\_Y\\_linear & 0 & Joint Imp-then-Reg - rf & 10 \\\\\n",
       "\t24 & Ecdat-MCAS & real\\_X\\_mar & syn\\_Y\\_linear & 0 & XGBoost & 10 \\\\\n",
       "\t$\\dots$ & $\\dots$ & $\\dots$ & $\\dots$ & $\\dots$ & $\\dots$ & $\\dots$ \\\\\n",
       "\\end{tabular}\n"
      ],
      "text/plain": [
       "\u001b[1m26956×6 DataFrame\u001b[0m\n",
       "\u001b[1m   Row \u001b[0m│\u001b[1m dataset      \u001b[0m\u001b[1m X_setting      \u001b[0m\u001b[1m Y_setting    \u001b[0m\u001b[1m kMissing \u001b[0m\u001b[1m method         \u001b[0m ⋯\n",
       "       │\u001b[90m String       \u001b[0m\u001b[90m String15       \u001b[0m\u001b[90m String15     \u001b[0m\u001b[90m Int64    \u001b[0m\u001b[90m String31       \u001b[0m ⋯\n",
       "───────┼────────────────────────────────────────────────────────────────────────\n",
       "     1 │ COUNT-loomis  real_X_mar      syn_Y_linear         0  XGBoost         ⋯\n",
       "     2 │ COUNT-loomis  real_X_mar      syn_Y_linear         0  Oracle X - line\n",
       "     3 │ COUNT-loomis  real_X_mar      syn_Y_linear         0  Oracle XM - lin\n",
       "     4 │ COUNT-loomis  real_X_mar      syn_Y_linear         0  Complete Featur\n",
       "     5 │ COUNT-loomis  real_X_mar      syn_Y_linear         0  Oracle X - tree ⋯\n",
       "     6 │ COUNT-loomis  real_X_mar      syn_Y_linear         0  Oracle XM - tre\n",
       "     7 │ COUNT-loomis  real_X_mar      syn_Y_linear         0  Complete Featur\n",
       "     8 │ COUNT-loomis  real_X_mar      syn_Y_linear         0  Oracle X - rf\n",
       "   ⋮   │      ⋮              ⋮              ⋮           ⋮                   ⋮  ⋱\n",
       " 26950 │ wiki4he       real_X_mar_adv  syn_Y_nn             0  Imp-then-Reg 5  ⋯\n",
       " 26951 │ wiki4he       real_X_mar_adv  syn_Y_nn             0  Static\n",
       " 26952 │ wiki4he       real_X_mar_adv  syn_Y_nn             0  Affine\n",
       " 26953 │ wiki4he       real_X_mar_adv  syn_Y_nn             0  Finite\n",
       " 26954 │ wiki4he       real_X_mar_adv  syn_Y_nn             0  Joint Imp-then- ⋯\n",
       " 26955 │ wiki4he       real_X_mar_adv  syn_Y_nn             0  Joint Imp-then-\n",
       " 26956 │ wiki4he       real_X_mar_adv  syn_Y_nn             0  Joint Imp-then-\n",
       "\u001b[36m                                                2 columns and 26941 rows omitted\u001b[0m"
      ]
     },
     "metadata": {},
     "output_type": "display_data"
    }
   ],
   "source": [
    "gd = groupby(res, [:dataset, :X_setting, :Y_setting, :kMissing, :method])\n",
    "aggres = combine(gd, nrow)"
   ]
  },
  {
   "cell_type": "code",
   "execution_count": 28,
   "metadata": {},
   "outputs": [
    {
     "data": {
      "text/html": [
       "<div><div style = \"float: left;\"><span>8848×5 DataFrame</span></div><div style = \"float: right;\"><span style = \"font-style: italic;\">8823 rows omitted</span></div><div style = \"clear: both;\"></div></div><div class = \"data-frame\" style = \"overflow-x: scroll;\"><table class = \"data-frame\" style = \"margin-bottom: 6px;\"><thead><tr class = \"header\"><th class = \"rowNumber\" style = \"font-weight: bold; text-align: right;\">Row</th><th style = \"text-align: left;\">dataset</th><th style = \"text-align: left;\">kMissing</th><th style = \"text-align: left;\">splitnum</th><th style = \"text-align: left;\">X_setting</th><th style = \"text-align: left;\">Y_setting</th></tr><tr class = \"subheader headerLastRow\"><th class = \"rowNumber\" style = \"font-weight: bold; text-align: right;\"></th><th title = \"String\" style = \"text-align: left;\">String</th><th title = \"Int64\" style = \"text-align: left;\">Int64</th><th title = \"Int64\" style = \"text-align: left;\">Int64</th><th title = \"String15\" style = \"text-align: left;\">String15</th><th title = \"String15\" style = \"text-align: left;\">String15</th></tr></thead><tbody><tr><td class = \"rowNumber\" style = \"font-weight: bold; text-align: right;\">1</td><td style = \"text-align: left;\">COUNT-loomis</td><td style = \"text-align: right;\">0</td><td style = \"text-align: right;\">1</td><td style = \"text-align: left;\">real_X_mar</td><td style = \"text-align: left;\">syn_Y_linear</td></tr><tr><td class = \"rowNumber\" style = \"font-weight: bold; text-align: right;\">2</td><td style = \"text-align: left;\">COUNT-loomis</td><td style = \"text-align: right;\">0</td><td style = \"text-align: right;\">10</td><td style = \"text-align: left;\">real_X_mar</td><td style = \"text-align: left;\">syn_Y_linear</td></tr><tr><td class = \"rowNumber\" style = \"font-weight: bold; text-align: right;\">3</td><td style = \"text-align: left;\">COUNT-loomis</td><td style = \"text-align: right;\">0</td><td style = \"text-align: right;\">2</td><td style = \"text-align: left;\">real_X_mar</td><td style = \"text-align: left;\">syn_Y_linear</td></tr><tr><td class = \"rowNumber\" style = \"font-weight: bold; text-align: right;\">4</td><td style = \"text-align: left;\">COUNT-loomis</td><td style = \"text-align: right;\">0</td><td style = \"text-align: right;\">3</td><td style = \"text-align: left;\">real_X_mar</td><td style = \"text-align: left;\">syn_Y_linear</td></tr><tr><td class = \"rowNumber\" style = \"font-weight: bold; text-align: right;\">5</td><td style = \"text-align: left;\">COUNT-loomis</td><td style = \"text-align: right;\">0</td><td style = \"text-align: right;\">4</td><td style = \"text-align: left;\">real_X_mar</td><td style = \"text-align: left;\">syn_Y_linear</td></tr><tr><td class = \"rowNumber\" style = \"font-weight: bold; text-align: right;\">6</td><td style = \"text-align: left;\">COUNT-loomis</td><td style = \"text-align: right;\">0</td><td style = \"text-align: right;\">5</td><td style = \"text-align: left;\">real_X_mar</td><td style = \"text-align: left;\">syn_Y_linear</td></tr><tr><td class = \"rowNumber\" style = \"font-weight: bold; text-align: right;\">7</td><td style = \"text-align: left;\">COUNT-loomis</td><td style = \"text-align: right;\">0</td><td style = \"text-align: right;\">6</td><td style = \"text-align: left;\">real_X_mar</td><td style = \"text-align: left;\">syn_Y_linear</td></tr><tr><td class = \"rowNumber\" style = \"font-weight: bold; text-align: right;\">8</td><td style = \"text-align: left;\">COUNT-loomis</td><td style = \"text-align: right;\">0</td><td style = \"text-align: right;\">7</td><td style = \"text-align: left;\">real_X_mar</td><td style = \"text-align: left;\">syn_Y_linear</td></tr><tr><td class = \"rowNumber\" style = \"font-weight: bold; text-align: right;\">9</td><td style = \"text-align: left;\">COUNT-loomis</td><td style = \"text-align: right;\">0</td><td style = \"text-align: right;\">8</td><td style = \"text-align: left;\">real_X_mar</td><td style = \"text-align: left;\">syn_Y_linear</td></tr><tr><td class = \"rowNumber\" style = \"font-weight: bold; text-align: right;\">10</td><td style = \"text-align: left;\">COUNT-loomis</td><td style = \"text-align: right;\">0</td><td style = \"text-align: right;\">9</td><td style = \"text-align: left;\">real_X_mar</td><td style = \"text-align: left;\">syn_Y_linear</td></tr><tr><td class = \"rowNumber\" style = \"font-weight: bold; text-align: right;\">11</td><td style = \"text-align: left;\">Ecdat-MCAS</td><td style = \"text-align: right;\">0</td><td style = \"text-align: right;\">1</td><td style = \"text-align: left;\">real_X_mar</td><td style = \"text-align: left;\">syn_Y_linear</td></tr><tr><td class = \"rowNumber\" style = \"font-weight: bold; text-align: right;\">12</td><td style = \"text-align: left;\">Ecdat-MCAS</td><td style = \"text-align: right;\">0</td><td style = \"text-align: right;\">10</td><td style = \"text-align: left;\">real_X_mar</td><td style = \"text-align: left;\">syn_Y_linear</td></tr><tr><td class = \"rowNumber\" style = \"font-weight: bold; text-align: right;\">13</td><td style = \"text-align: left;\">Ecdat-MCAS</td><td style = \"text-align: right;\">0</td><td style = \"text-align: right;\">2</td><td style = \"text-align: left;\">real_X_mar</td><td style = \"text-align: left;\">syn_Y_linear</td></tr><tr><td style = \"text-align: right;\">&vellip;</td><td style = \"text-align: right;\">&vellip;</td><td style = \"text-align: right;\">&vellip;</td><td style = \"text-align: right;\">&vellip;</td><td style = \"text-align: right;\">&vellip;</td><td style = \"text-align: right;\">&vellip;</td></tr><tr><td class = \"rowNumber\" style = \"font-weight: bold; text-align: right;\">8837</td><td style = \"text-align: left;\">thyroid-disease-allrep</td><td style = \"text-align: right;\">0</td><td style = \"text-align: right;\">4</td><td style = \"text-align: left;\">real_X_mar_adv</td><td style = \"text-align: left;\">syn_Y_nn</td></tr><tr><td class = \"rowNumber\" style = \"font-weight: bold; text-align: right;\">8838</td><td style = \"text-align: left;\">thyroid-disease-allrep</td><td style = \"text-align: right;\">0</td><td style = \"text-align: right;\">9</td><td style = \"text-align: left;\">real_X_mar_adv</td><td style = \"text-align: left;\">syn_Y_nn</td></tr><tr><td class = \"rowNumber\" style = \"font-weight: bold; text-align: right;\">8839</td><td style = \"text-align: left;\">thyroid-disease-dis</td><td style = \"text-align: right;\">0</td><td style = \"text-align: right;\">1</td><td style = \"text-align: left;\">real_X_mar_adv</td><td style = \"text-align: left;\">syn_Y_nn</td></tr><tr><td class = \"rowNumber\" style = \"font-weight: bold; text-align: right;\">8840</td><td style = \"text-align: left;\">thyroid-disease-dis</td><td style = \"text-align: right;\">0</td><td style = \"text-align: right;\">3</td><td style = \"text-align: left;\">real_X_mar_adv</td><td style = \"text-align: left;\">syn_Y_nn</td></tr><tr><td class = \"rowNumber\" style = \"font-weight: bold; text-align: right;\">8841</td><td style = \"text-align: left;\">thyroid-disease-dis</td><td style = \"text-align: right;\">0</td><td style = \"text-align: right;\">8</td><td style = \"text-align: left;\">real_X_mar_adv</td><td style = \"text-align: left;\">syn_Y_nn</td></tr><tr><td class = \"rowNumber\" style = \"font-weight: bold; text-align: right;\">8842</td><td style = \"text-align: left;\">thyroid-disease-dis</td><td style = \"text-align: right;\">0</td><td style = \"text-align: right;\">9</td><td style = \"text-align: left;\">real_X_mar_adv</td><td style = \"text-align: left;\">syn_Y_nn</td></tr><tr><td class = \"rowNumber\" style = \"font-weight: bold; text-align: right;\">8843</td><td style = \"text-align: left;\">thyroid-disease-sick-euthyroid</td><td style = \"text-align: right;\">0</td><td style = \"text-align: right;\">1</td><td style = \"text-align: left;\">real_X_mar_adv</td><td style = \"text-align: left;\">syn_Y_nn</td></tr><tr><td class = \"rowNumber\" style = \"font-weight: bold; text-align: right;\">8844</td><td style = \"text-align: left;\">thyroid-disease-sick-euthyroid</td><td style = \"text-align: right;\">0</td><td style = \"text-align: right;\">9</td><td style = \"text-align: left;\">real_X_mar_adv</td><td style = \"text-align: left;\">syn_Y_nn</td></tr><tr><td class = \"rowNumber\" style = \"font-weight: bold; text-align: right;\">8845</td><td style = \"text-align: left;\">thyroid-disease-sick</td><td style = \"text-align: right;\">0</td><td style = \"text-align: right;\">1</td><td style = \"text-align: left;\">real_X_mar_adv</td><td style = \"text-align: left;\">syn_Y_nn</td></tr><tr><td class = \"rowNumber\" style = \"font-weight: bold; text-align: right;\">8846</td><td style = \"text-align: left;\">thyroid-disease-sick</td><td style = \"text-align: right;\">0</td><td style = \"text-align: right;\">3</td><td style = \"text-align: left;\">real_X_mar_adv</td><td style = \"text-align: left;\">syn_Y_nn</td></tr><tr><td class = \"rowNumber\" style = \"font-weight: bold; text-align: right;\">8847</td><td style = \"text-align: left;\">thyroid-disease-sick</td><td style = \"text-align: right;\">0</td><td style = \"text-align: right;\">4</td><td style = \"text-align: left;\">real_X_mar_adv</td><td style = \"text-align: left;\">syn_Y_nn</td></tr><tr><td class = \"rowNumber\" style = \"font-weight: bold; text-align: right;\">8848</td><td style = \"text-align: left;\">wiki4he</td><td style = \"text-align: right;\">0</td><td style = \"text-align: right;\">1</td><td style = \"text-align: left;\">real_X_mar_adv</td><td style = \"text-align: left;\">syn_Y_nn</td></tr></tbody></table></div>"
      ],
      "text/latex": [
       "\\begin{tabular}{r|ccccc}\n",
       "\t& dataset & kMissing & splitnum & X\\_setting & Y\\_setting\\\\\n",
       "\t\\hline\n",
       "\t& String & Int64 & Int64 & String15 & String15\\\\\n",
       "\t\\hline\n",
       "\t1 & COUNT-loomis & 0 & 1 & real\\_X\\_mar & syn\\_Y\\_linear \\\\\n",
       "\t2 & COUNT-loomis & 0 & 10 & real\\_X\\_mar & syn\\_Y\\_linear \\\\\n",
       "\t3 & COUNT-loomis & 0 & 2 & real\\_X\\_mar & syn\\_Y\\_linear \\\\\n",
       "\t4 & COUNT-loomis & 0 & 3 & real\\_X\\_mar & syn\\_Y\\_linear \\\\\n",
       "\t5 & COUNT-loomis & 0 & 4 & real\\_X\\_mar & syn\\_Y\\_linear \\\\\n",
       "\t6 & COUNT-loomis & 0 & 5 & real\\_X\\_mar & syn\\_Y\\_linear \\\\\n",
       "\t7 & COUNT-loomis & 0 & 6 & real\\_X\\_mar & syn\\_Y\\_linear \\\\\n",
       "\t8 & COUNT-loomis & 0 & 7 & real\\_X\\_mar & syn\\_Y\\_linear \\\\\n",
       "\t9 & COUNT-loomis & 0 & 8 & real\\_X\\_mar & syn\\_Y\\_linear \\\\\n",
       "\t10 & COUNT-loomis & 0 & 9 & real\\_X\\_mar & syn\\_Y\\_linear \\\\\n",
       "\t11 & Ecdat-MCAS & 0 & 1 & real\\_X\\_mar & syn\\_Y\\_linear \\\\\n",
       "\t12 & Ecdat-MCAS & 0 & 10 & real\\_X\\_mar & syn\\_Y\\_linear \\\\\n",
       "\t13 & Ecdat-MCAS & 0 & 2 & real\\_X\\_mar & syn\\_Y\\_linear \\\\\n",
       "\t14 & Ecdat-MCAS & 0 & 3 & real\\_X\\_mar & syn\\_Y\\_linear \\\\\n",
       "\t15 & Ecdat-MCAS & 0 & 4 & real\\_X\\_mar & syn\\_Y\\_linear \\\\\n",
       "\t16 & Ecdat-MCAS & 0 & 5 & real\\_X\\_mar & syn\\_Y\\_linear \\\\\n",
       "\t17 & Ecdat-MCAS & 0 & 6 & real\\_X\\_mar & syn\\_Y\\_linear \\\\\n",
       "\t18 & Ecdat-MCAS & 0 & 7 & real\\_X\\_mar & syn\\_Y\\_linear \\\\\n",
       "\t19 & Ecdat-MCAS & 0 & 8 & real\\_X\\_mar & syn\\_Y\\_linear \\\\\n",
       "\t20 & Ecdat-MCAS & 0 & 9 & real\\_X\\_mar & syn\\_Y\\_linear \\\\\n",
       "\t21 & Ecdat-MCAS & 1 & 1 & real\\_X\\_mar & syn\\_Y\\_linear \\\\\n",
       "\t22 & Ecdat-MCAS & 1 & 10 & real\\_X\\_mar & syn\\_Y\\_linear \\\\\n",
       "\t23 & Ecdat-MCAS & 1 & 2 & real\\_X\\_mar & syn\\_Y\\_linear \\\\\n",
       "\t24 & Ecdat-MCAS & 1 & 3 & real\\_X\\_mar & syn\\_Y\\_linear \\\\\n",
       "\t$\\dots$ & $\\dots$ & $\\dots$ & $\\dots$ & $\\dots$ & $\\dots$ \\\\\n",
       "\\end{tabular}\n"
      ],
      "text/plain": [
       "\u001b[1m8848×5 DataFrame\u001b[0m\n",
       "\u001b[1m  Row \u001b[0m│\u001b[1m dataset                        \u001b[0m\u001b[1m kMissing \u001b[0m\u001b[1m splitnum \u001b[0m\u001b[1m X_setting      \u001b[0m\u001b[1m Y_\u001b[0m ⋯\n",
       "      │\u001b[90m String                         \u001b[0m\u001b[90m Int64    \u001b[0m\u001b[90m Int64    \u001b[0m\u001b[90m String15       \u001b[0m\u001b[90m St\u001b[0m ⋯\n",
       "──────┼─────────────────────────────────────────────────────────────────────────\n",
       "    1 │ COUNT-loomis                           0         1  real_X_mar      sy ⋯\n",
       "    2 │ COUNT-loomis                           0        10  real_X_mar      sy\n",
       "    3 │ COUNT-loomis                           0         2  real_X_mar      sy\n",
       "    4 │ COUNT-loomis                           0         3  real_X_mar      sy\n",
       "    5 │ COUNT-loomis                           0         4  real_X_mar      sy ⋯\n",
       "    6 │ COUNT-loomis                           0         5  real_X_mar      sy\n",
       "    7 │ COUNT-loomis                           0         6  real_X_mar      sy\n",
       "    8 │ COUNT-loomis                           0         7  real_X_mar      sy\n",
       "  ⋮   │               ⋮                    ⋮         ⋮            ⋮            ⋱\n",
       " 8842 │ thyroid-disease-dis                    0         9  real_X_mar_adv  sy ⋯\n",
       " 8843 │ thyroid-disease-sick-euthyroid         0         1  real_X_mar_adv  sy\n",
       " 8844 │ thyroid-disease-sick-euthyroid         0         9  real_X_mar_adv  sy\n",
       " 8845 │ thyroid-disease-sick                   0         1  real_X_mar_adv  sy\n",
       " 8846 │ thyroid-disease-sick                   0         3  real_X_mar_adv  sy ⋯\n",
       " 8847 │ thyroid-disease-sick                   0         4  real_X_mar_adv  sy\n",
       " 8848 │ wiki4he                                0         1  real_X_mar_adv  sy\n",
       "\u001b[36m                                                  1 column and 8833 rows omitted\u001b[0m"
      ]
     },
     "metadata": {},
     "output_type": "display_data"
    }
   ],
   "source": []
  },
  {
   "cell_type": "code",
   "execution_count": 63,
   "metadata": {},
   "outputs": [],
   "source": [
    "feasible_combinations = unique(aggres[:,[:dataset, :kMissing]])\n",
    "feasible_combinations = crossjoin(\n",
    "                            crossjoin(\n",
    "                                crossjoin(feasible_combinations, DataFrame(splitnum=1:10)),\n",
    "                                DataFrame(X_setting = [\"real_X_mar\", \"real_X_nmar\", \"real_X_mar_adv\"])), \n",
    "                                DataFrame(Y_setting = [\"syn_Y_linear\", \"syn_Y_nn\"])\n",
    "                            )\n",
    "\n",
    "pbdatasets = antijoin(feasible_combinations, unique(res[:,[:dataset, :kMissing, :splitnum, :X_setting, :Y_setting]]), on=[:dataset, :kMissing, :splitnum, :X_setting, :Y_setting])\n",
    "pbdatasets = unique(pbdatasets[:,[:dataset, :X_setting, :Y_setting, :splitnum]])\n",
    "\n",
    "dataset_list = [d for d in readdir(\"../datasets/\") if !startswith(d, \".\")]\n",
    "sort!(dataset_list)\n",
    "\n",
    "pbdatasets[!,:array_num] .= (pbdatasets[:,:splitnum] .- 1) .* 71\n",
    "pbdatasets[!,:array_num] .+= map(t -> findfirst(t .== dataset_list)-1, pbdatasets[:,:dataset])\n",
    "\n",
    "pbdatasets[!,:back_dnum] .= map(t -> dataset_list[mod(t, 71) + 1], pbdatasets[:,:array_num])\n",
    "pbdatasets[!,:back_splitnum] .= map(t -> div(t, 71) + 1, pbdatasets[:,:array_num])\n",
    "\n",
    "@assert all(pbdatasets[:,:back_dnum] .== pbdatasets[:,:dataset])\n",
    "@assert all(pbdatasets[:,:back_splitnum] .== pbdatasets[:,:splitnum])"
   ]
  },
  {
   "cell_type": "code",
   "execution_count": 64,
   "metadata": {},
   "outputs": [
    {
     "data": {
      "text/plain": [
       "list_to_slurmarray (generic function with 1 method)"
      ]
     },
     "metadata": {},
     "output_type": "display_data"
    }
   ],
   "source": [
    "function list_to_slurmarray(l)\n",
    "    s = \"\"\n",
    "    begin_seq = -1; last_seq = -1; is_sequence = false\n",
    "\n",
    "    for an in l\n",
    "        if an == last_seq + 1\n",
    "            last_seq = an\n",
    "        else \n",
    "            if is_sequence\n",
    "                if begin_seq == last_seq\n",
    "                    s *= string(begin_seq)*\",\"\n",
    "                else\n",
    "                    s *= string(begin_seq)*\"-\"*string(last_seq)*\",\"\n",
    "                end\n",
    "            end\n",
    "            begin_seq = an\n",
    "            last_seq = an\n",
    "            is_sequence = true\n",
    "        end\n",
    "    end \n",
    "    s\n",
    "end"
   ]
  },
  {
   "cell_type": "code",
   "execution_count": 66,
   "metadata": {},
   "outputs": [
    {
     "name": "stdout",
     "output_type": "stream",
     "text": [
      "linear\n",
      "mar\n"
     ]
    },
    {
     "name": "stdout",
     "output_type": "stream",
     "text": [
      "list_to_slurmarray(l) = \"23-24,31,49,61,66-67,70,94-95,102,115,120,132-138,141,146,165-166,173,186,191,193,203-205,208-209,212,223,236-237,244,257,262,274-277,279-280,283,294,307-308,315,328,333,346-351,354,376,378-379,386,404,416-422,425,436,447,449-450,457,470,475,477,487-493,496,499,501-502,507,518,520-521,528,539,541,546,548,557-564,567,572-573,578,589,591-592,599,612,617,619,628-635,638,641,643-644,649,660,662-663,670,683,688,690,700-706,\"\n",
      "nmar\n",
      "list_to_slurmarray(l) = \"4,10,21,23-24,31,42,49,51,61-67,70,81,94-95,102,115,120,132-138,141,146-147,152,163,165-166,173,186,191,193,203-209,212,217-218,223,234,236-237,244,257,262,264,274-280,283,288-289,294,305,307-308,315,328,333,335,345-348,350-351,365,376,378-379,386,399,404,417-422,425,449-450,457,470,475,477,487-493,496,520-521,528,541,546,548,558-564,567,572-573,578,589,591-592,599,612,617,619,628-635,638,644,649,660,662-663,670,688,700-706,\"\n",
      "mar_adv\n",
      "list_to_slurmarray(l) = \"23-24,31,38,42,44,49,51,61-67,70,92,94-95,102,113,115,120,122,131-138,141,146-147,152,163,165-166,173,186,191,193,202-209,212,217-218,223,234,236-237,244,251,255,257,262,264,273-280,283,288-289,294,305,307-308,315,328,333,335,345-351,354,359-360,365,376,378-379,386,404,415-422,425,428,430-431,447,449-450,457,464,470,475,477,486-493,496,499,501-502,507,518,520-521,528,535,539,541,546,548,557-564,567,570,572-573,578,589,591-592,599,612,617,619,628-631,633-635,638,641,643-644,649,660,662-663,670,688,690,700-706,\"\n",
      "\n",
      "nn\n",
      "mar\n",
      "list_to_slurmarray(l) = \"21,23-24,31,38,44,49,51,61-67,70,75-76,81,83,94-95,97,102,115,120,122,132-138,141,146-147,152,165-166,173,179,186,191,193,203-209,212,217-218,223,236-237,244,257,262,264,273-280,283,288-289,294,305,307-308,315,322,328,333,335,344-351,354,359-360,365,378-379,386,399,416-422,425,430,443,447,449-450,457,464,470,475,477,487-493,496,520-521,528,538,541,546,548,558-564,610,612,617,619,629-635,638,649,652,662-663,670,683,688,690,699-706,\"\n",
      "nmar\n",
      "list_to_slurmarray(l) = \"10,21,23-24,31,38,44,49,51,61-67,70,75-76,81,87,92,94-95,102,107,109,115,120,122,131-138,141,146-147,152,155,163,165-166,173,180,186,191,193,203-209,212,217-218,223,234,236-237,244,251,255,257,262,264,273-280,283,288-289,294,297,305,307-308,315,328,333,335,344-351,354,359-360,365,367,376,378-379,386,399,404,406,416-422,425,430-431,436,441,447,449-450,457,470,475,477,487-493,496,499,501-502,507,514,518,520-521,528,536,541,546,548,557-564,567,570,572-573,576,578,589,591-592,599,606,610,612,617,619,629-635,638,643-644,649,660,662-663,670,677,681,683,688,690,700-703,\"\n",
      "mar_adv\n",
      "list_to_slurmarray(l) = \"4-5,10,12,21,23-24,31,38,44,49,51,60-67,70,75-76,81,83,92,94-95,102,115,120,122,131-138,141,146-147,152,163,165-166,173,186,191,193,202-209,212,217,223,225-226,234,236-237,244,251,255,257,262,264,271,273-280,283,286,288-289,294,305,307-308,315,328,333,335,345-351,354,359-360,363,378-379,386,397,404,406,415-422,425,428,430-431,436,438,442-443,447,449-450,457,470,475,477,486-493,496,499,501-502,504,507,509,518,520-521,528,541,546,548,557-564,567,570,572-573,578,580,589,591-592,599,610,612,617,619,628-635,638,643-644,649,660,662-663,670,681,683,688,690,699-706,\"\n",
      "\n"
     ]
    }
   ],
   "source": [
    "for y_model in [\"linear\", \"nn\"]\n",
    "    println(y_model)\n",
    "    for m_model = [\"mar\", \"nmar\", \"mar_adv\"]\n",
    "        println(m_model)\n",
    "        aux = filter(t -> t[:Y_setting] == \"syn_Y_\"*y_model && t[:X_setting] == \"real_X_\"*m_model, pbdatasets)\n",
    "        l = sort(unique(aux[:,:array_num]))\n",
    "        @show list_to_slurmarray(l)\n",
    "    end\n",
    "    println()\n",
    "end"
   ]
  },
  {
   "cell_type": "markdown",
   "metadata": {},
   "source": [
    "## For Real Data Experiments"
   ]
  },
  {
   "cell_type": "code",
   "execution_count": null,
   "metadata": {},
   "outputs": [],
   "source": [
    "1+1"
   ]
  },
  {
   "cell_type": "code",
   "execution_count": 46,
   "metadata": {},
   "outputs": [],
   "source": [
    "for directory = prefix .* [\"realy/\"]\n",
    "    filelist = [f for f in readdir(directory*\"all/\") if endswith(f, \".csv\") && f ∉ [\"all_results.csv\",\"all_results_new.csv\"]]\n",
    "    res = similar(CSV.read(directory*\"all/\"*filelist[1], DataFrame),0)\n",
    "    \n",
    "    # for subdir = [\"2022-08-23/\", \"rf_mia/\"]    \n",
    "    for subdir = [\"all/\", \"itr/\"]\n",
    "        filelist = [f for f in readdir(directory*subdir) if endswith(f, \".csv\") && f ∉ [\"all_results.csv\",\"all_results_new.csv\"]]\n",
    "#         res = similar(CSV.read(directory*subdir*filelist[1], DataFrame),0)\n",
    "        for i in 1:length(filelist)\n",
    "            res = vcat(res, CSV.read(directory*subdir*filelist[i], DataFrame))\n",
    "        end\n",
    "    end\n",
    "\n",
    "#     for subdir = [\"xgb/\"]\n",
    "#         try \n",
    "#             filelist = [f for f in readdir(\"xgboost/\"*directory*subdir) if endswith(f, \".csv\")]\n",
    "#             for i in 1:length(filelist)\n",
    "#                 res = vcat(res, CSV.read(\"xgboost/\"*directory*subdir*filelist[i], DataFrame))\n",
    "#             end\n",
    "#         catch \n",
    "#             println(\"No XGBoost results for \"*directory*subdir)\n",
    "#         end\n",
    "#     end\n",
    "    \n",
    "    # filter!(t -> t[:k] > 0, res) #Remove dataset with only a bias term\n",
    "    res[!,:method_cat] = map(method_category, res[:,:method])\n",
    "    res[!,:X_setting] .= \"real_X\"\n",
    "    res[!,:Y_setting] .= \"real_Y\"\n",
    "    \n",
    "    CSV.write(directory*\"FINAL_results.csv\", res)\n",
    "end"
   ]
  },
  {
   "cell_type": "markdown",
   "metadata": {},
   "source": [
    "Sanity check"
   ]
  },
  {
   "cell_type": "code",
   "execution_count": 47,
   "metadata": {
    "collapsed": true
   },
   "outputs": [
    {
     "data": {
      "text/html": [
       "<div><div style = \"float: left;\"><span>23×2 DataFrame</span></div><div style = \"clear: both;\"></div></div><div class = \"data-frame\" style = \"overflow-x: scroll;\"><table class = \"data-frame\" style = \"margin-bottom: 6px;\"><thead><tr class = \"header\"><th class = \"rowNumber\" style = \"font-weight: bold; text-align: right;\">Row</th><th style = \"text-align: left;\">dataset</th><th style = \"text-align: left;\">nrow</th></tr><tr class = \"subheader headerLastRow\"><th class = \"rowNumber\" style = \"font-weight: bold; text-align: right;\"></th><th title = \"String\" style = \"text-align: left;\">String</th><th title = \"Int64\" style = \"text-align: left;\">Int64</th></tr></thead><tbody><tr><td class = \"rowNumber\" style = \"font-weight: bold; text-align: right;\">1</td><td style = \"text-align: left;\">Ecdat-Males</td><td style = \"text-align: right;\">2</td></tr><tr><td class = \"rowNumber\" style = \"font-weight: bold; text-align: right;\">2</td><td style = \"text-align: left;\">Ecdat-Schooling</td><td style = \"text-align: right;\">9</td></tr><tr><td class = \"rowNumber\" style = \"font-weight: bold; text-align: right;\">3</td><td style = \"text-align: left;\">arrhythmia</td><td style = \"text-align: right;\">9</td></tr><tr><td class = \"rowNumber\" style = \"font-weight: bold; text-align: right;\">4</td><td style = \"text-align: left;\">breast-cancer-wisconsin-prognostic</td><td style = \"text-align: right;\">9</td></tr><tr><td class = \"rowNumber\" style = \"font-weight: bold; text-align: right;\">5</td><td style = \"text-align: left;\">communities-and-crime-2</td><td style = \"text-align: right;\">3</td></tr><tr><td class = \"rowNumber\" style = \"font-weight: bold; text-align: right;\">6</td><td style = \"text-align: left;\">communities-and-crime-2</td><td style = \"text-align: right;\">2</td></tr><tr><td class = \"rowNumber\" style = \"font-weight: bold; text-align: right;\">7</td><td style = \"text-align: left;\">communities-and-crime</td><td style = \"text-align: right;\">7</td></tr><tr><td class = \"rowNumber\" style = \"font-weight: bold; text-align: right;\">8</td><td style = \"text-align: left;\">communities-and-crime</td><td style = \"text-align: right;\">3</td></tr><tr><td class = \"rowNumber\" style = \"font-weight: bold; text-align: right;\">9</td><td style = \"text-align: left;\">credit-approval</td><td style = \"text-align: right;\">9</td></tr><tr><td class = \"rowNumber\" style = \"font-weight: bold; text-align: right;\">10</td><td style = \"text-align: left;\">cylinder-bands</td><td style = \"text-align: right;\">1</td></tr><tr><td class = \"rowNumber\" style = \"font-weight: bold; text-align: right;\">11</td><td style = \"text-align: left;\">heart-disease-va</td><td style = \"text-align: right;\">9</td></tr><tr><td class = \"rowNumber\" style = \"font-weight: bold; text-align: right;\">12</td><td style = \"text-align: left;\">horse-colic</td><td style = \"text-align: right;\">9</td></tr><tr><td class = \"rowNumber\" style = \"font-weight: bold; text-align: right;\">13</td><td style = \"text-align: left;\">mammographic-mass</td><td style = \"text-align: right;\">9</td></tr><tr><td class = \"rowNumber\" style = \"font-weight: bold; text-align: right;\">14</td><td style = \"text-align: left;\">mlmRev-star</td><td style = \"text-align: right;\">1</td></tr><tr><td class = \"rowNumber\" style = \"font-weight: bold; text-align: right;\">15</td><td style = \"text-align: left;\">mushroom</td><td style = \"text-align: right;\">6</td></tr><tr><td class = \"rowNumber\" style = \"font-weight: bold; text-align: right;\">16</td><td style = \"text-align: left;\">mushroom</td><td style = \"text-align: right;\">3</td></tr><tr><td class = \"rowNumber\" style = \"font-weight: bold; text-align: right;\">17</td><td style = \"text-align: left;\">ozone-level-detection-one</td><td style = \"text-align: right;\">2</td></tr><tr><td class = \"rowNumber\" style = \"font-weight: bold; text-align: right;\">18</td><td style = \"text-align: left;\">ozone-level-detection-one</td><td style = \"text-align: right;\">1</td></tr><tr><td class = \"rowNumber\" style = \"font-weight: bold; text-align: right;\">19</td><td style = \"text-align: left;\">pscl-politicalInformation</td><td style = \"text-align: right;\">5</td></tr><tr><td class = \"rowNumber\" style = \"font-weight: bold; text-align: right;\">20</td><td style = \"text-align: left;\">thyroid-disease-allhyper</td><td style = \"text-align: right;\">5</td></tr><tr><td class = \"rowNumber\" style = \"font-weight: bold; text-align: right;\">21</td><td style = \"text-align: left;\">thyroid-disease-allrep</td><td style = \"text-align: right;\">8</td></tr><tr><td class = \"rowNumber\" style = \"font-weight: bold; text-align: right;\">22</td><td style = \"text-align: left;\">thyroid-disease-thyroid-0387</td><td style = \"text-align: right;\">4</td></tr><tr><td class = \"rowNumber\" style = \"font-weight: bold; text-align: right;\">23</td><td style = \"text-align: left;\">ozone-level-detection-eight</td><td style = \"text-align: right;\">1</td></tr></tbody></table></div>"
      ],
      "text/latex": [
       "\\begin{tabular}{r|cc}\n",
       "\t& dataset & nrow\\\\\n",
       "\t\\hline\n",
       "\t& String & Int64\\\\\n",
       "\t\\hline\n",
       "\t1 & Ecdat-Males & 2 \\\\\n",
       "\t2 & Ecdat-Schooling & 9 \\\\\n",
       "\t3 & arrhythmia & 9 \\\\\n",
       "\t4 & breast-cancer-wisconsin-prognostic & 9 \\\\\n",
       "\t5 & communities-and-crime-2 & 3 \\\\\n",
       "\t6 & communities-and-crime-2 & 2 \\\\\n",
       "\t7 & communities-and-crime & 7 \\\\\n",
       "\t8 & communities-and-crime & 3 \\\\\n",
       "\t9 & credit-approval & 9 \\\\\n",
       "\t10 & cylinder-bands & 1 \\\\\n",
       "\t11 & heart-disease-va & 9 \\\\\n",
       "\t12 & horse-colic & 9 \\\\\n",
       "\t13 & mammographic-mass & 9 \\\\\n",
       "\t14 & mlmRev-star & 1 \\\\\n",
       "\t15 & mushroom & 6 \\\\\n",
       "\t16 & mushroom & 3 \\\\\n",
       "\t17 & ozone-level-detection-one & 2 \\\\\n",
       "\t18 & ozone-level-detection-one & 1 \\\\\n",
       "\t19 & pscl-politicalInformation & 5 \\\\\n",
       "\t20 & thyroid-disease-allhyper & 5 \\\\\n",
       "\t21 & thyroid-disease-allrep & 8 \\\\\n",
       "\t22 & thyroid-disease-thyroid-0387 & 4 \\\\\n",
       "\t23 & ozone-level-detection-eight & 1 \\\\\n",
       "\\end{tabular}\n"
      ],
      "text/plain": [
       "\u001b[1m23×2 DataFrame\u001b[0m\n",
       "\u001b[1m Row \u001b[0m│\u001b[1m dataset                           \u001b[0m\u001b[1m nrow  \u001b[0m\n",
       "     │\u001b[90m String                            \u001b[0m\u001b[90m Int64 \u001b[0m\n",
       "─────┼──────────────────────────────────────────\n",
       "   1 │ Ecdat-Males                            2\n",
       "   2 │ Ecdat-Schooling                        9\n",
       "   3 │ arrhythmia                             9\n",
       "   4 │ breast-cancer-wisconsin-prognost…      9\n",
       "   5 │ communities-and-crime-2                3\n",
       "   6 │ communities-and-crime-2                2\n",
       "   7 │ communities-and-crime                  7\n",
       "   8 │ communities-and-crime                  3\n",
       "  ⋮  │                 ⋮                    ⋮\n",
       "  17 │ ozone-level-detection-one              2\n",
       "  18 │ ozone-level-detection-one              1\n",
       "  19 │ pscl-politicalInformation              5\n",
       "  20 │ thyroid-disease-allhyper               5\n",
       "  21 │ thyroid-disease-allrep                 8\n",
       "  22 │ thyroid-disease-thyroid-0387           4\n",
       "  23 │ ozone-level-detection-eight            1\n",
       "\u001b[36m                                  8 rows omitted\u001b[0m"
      ]
     },
     "metadata": {},
     "output_type": "display_data"
    }
   ],
   "source": [
    "res = CSV.read(prefix*\"realy/\"*\"FINAL_results.csv\", DataFrame)\n",
    "\n",
    "unique(filter( t-> t[:nrow] < 10, combine(groupby(res, [:dataset, :method]), nrow))[:,[:dataset, :nrow]])"
   ]
  },
  {
   "cell_type": "code",
   "execution_count": null,
   "metadata": {},
   "outputs": [],
   "source": []
  },
  {
   "cell_type": "code",
   "execution_count": 48,
   "metadata": {},
   "outputs": [
    {
     "data": {
      "text/plain": [
       "71-element Vector{String}:\n",
       " \"COUNT-loomis\"\n",
       " \"Ecdat-MCAS\"\n",
       " \"Ecdat-Males\"\n",
       " \"Ecdat-Mofa\"\n",
       " \"Ecdat-RetSchool\"\n",
       " \"Ecdat-Schooling\"\n",
       " \"MASS-Cars93\"\n",
       " \"MASS-Pima.tr2\"\n",
       " \"MASS-survey\"\n",
       " \"Zelig-coalition2\"\n",
       " ⋮\n",
       " \"thyroid-disease-allhyper\"\n",
       " \"thyroid-disease-allhypo\"\n",
       " \"thyroid-disease-allrep\"\n",
       " \"thyroid-disease-dis\"\n",
       " \"thyroid-disease-sick\"\n",
       " \"thyroid-disease-sick-euthyroid\"\n",
       " \"thyroid-disease-thyroid-0387\"\n",
       " \"trains\"\n",
       " \"wiki4he\""
      ]
     },
     "metadata": {},
     "output_type": "display_data"
    }
   ],
   "source": [
    "dataset_list = [d for d in readdir(\"../datasets/\") if !startswith(d, \".\")]\n",
    "sort!(dataset_list)"
   ]
  },
  {
   "cell_type": "code",
   "execution_count": 50,
   "metadata": {},
   "outputs": [
    {
     "data": {
      "text/plain": [
       "9-element Vector{Int64}:\n",
       " 23\n",
       " 24\n",
       " 27\n",
       " 43\n",
       " 44\n",
       " 45\n",
       " 46\n",
       " 49\n",
       " 68"
      ]
     },
     "metadata": {},
     "output_type": "display_data"
    }
   ],
   "source": [
    "unfinished_datasets = filter(t -> t[:nrow] < 10, combine(groupby( combine(groupby(res, [:dataset, :method]), nrow), [:dataset]), :nrow => maximum => :nrow))[:,:dataset]\n",
    "sort([findfirst(i .== dataset_list)-1 for i in unfinished_datasets])"
   ]
  },
  {
   "cell_type": "code",
   "execution_count": null,
   "metadata": {},
   "outputs": [],
   "source": [
    "setdiff(), pb_datasets)"
   ]
  },
  {
   "cell_type": "markdown",
   "metadata": {},
   "source": [
    "Create `best` variant"
   ]
  },
  {
   "cell_type": "code",
   "execution_count": null,
   "metadata": {},
   "outputs": [],
   "source": [
    "res = CSV.read(prefix*\"realy/\"*\"FINAL_results.csv\", DataFrame)\n",
    "\n",
    "filter!(t -> t[:dataset] ∉ pb_datasets, res)\n",
    "\n",
    "res[!,:method] .= map(t -> (t == \"Affine\" ? \"Adaptive LR - Affine\" : t), res[:,:method]) \n",
    "res[!,:method] .= map(t -> (t == \"Finite\" ? \"Adaptive LR - Finite\" : t), res[:,:method]) \n",
    "res[!,:method] .= map(t -> (t == \"Static\" ? \"Adaptive LR - Affine intercept only\" : t), res[:,:method])\n",
    "\n",
    "for method in [\"Complete Features\", \"Imp-then-Reg 1\", \"Imp-then-Reg 2\", \"Imp-then-Reg 3\", \"Imp-then-Reg 4\", \"Imp-then-Reg 5\", \"Joint Imp-then-Reg\", \"Adaptive LR\"]\n",
    "    aux = filter(t -> startswith(t[:method], method), res)\n",
    "    # @show size(aux)\n",
    "    idcols = [:dataset, :SNR, :k, :kMissing, :splitnum]\n",
    "    gd = groupby(aux, idcols)\n",
    "\n",
    "    aux = similar(aux, 0)\n",
    "    for subdf in gd \n",
    "        scoremax = argmax(subdf[:,:score])\n",
    "        push!(aux, subdf[scoremax,names(aux)])\n",
    "    end\n",
    "    aux[!,:method] .= method*\" - best\"\n",
    "\n",
    "    res = vcat(res, aux)\n",
    "end\n",
    "\n",
    "CSV.write(prefix*\"realy/\"*\"FINAL_results.csv\", res)"
   ]
  },
  {
   "cell_type": "code",
   "execution_count": null,
   "metadata": {},
   "outputs": [],
   "source": []
  },
  {
   "cell_type": "markdown",
   "metadata": {},
   "source": [
    "# For Synthetic-Data Experiments"
   ]
  },
  {
   "cell_type": "code",
   "execution_count": null,
   "metadata": {},
   "outputs": [],
   "source": [
    "1+1"
   ]
  },
  {
   "cell_type": "code",
   "execution_count": null,
   "metadata": {},
   "outputs": [],
   "source": [
    "setting = prefix*\"synthetic_discrete/\"\n",
    "# for y_model in [\"linear\", \"tree\", \"nn\"]\n",
    "for y_model in [\"linear\", \"nn\"]\n",
    "    for m_model = [\"mar\", \"censoring\"]\n",
    "        dir = y_model*\"_\"*m_model*\"/\"\n",
    "        directory = setting*dir\n",
    "        \n",
    "        filelist = [f for f in readdir(directory*\"all/\") if endswith(f, \".csv\") && f ∉ [\"all_results.csv\",\"all_results_new.csv\"]]\n",
    "        res = similar(CSV.read(directory*\"all/\"*filelist[1], DataFrame),0)\n",
    "\n",
    "        for subdir = [\"all/\"]\n",
    "            filelist = [f for f in readdir(directory*subdir) if endswith(f, \".csv\") && f ∉ [\"all_results.csv\",\"all_results_new.csv\"]]\n",
    "            @show filelist\n",
    "\n",
    "    #         res = similar(CSV.read(directory*subdir*filelist[1], DataFrame),0)\n",
    "            for i in 1:length(filelist)\n",
    "                aux = CSV.read(directory*subdir*filelist[i], DataFrame)\n",
    "                # if any(aux[:,:kMissing] .> 0)\n",
    "                #     missingproba = unique(aux[aux[:,:pMissing] .> 0,:pMissing])[1]\n",
    "                #     aux[!,:pMissing] .= missingproba\n",
    "                # end\n",
    "                try\n",
    "                    res = vcat(res, aux)\n",
    "                catch \n",
    "                    println(\"Error with \", directory*subdir*filelist[i])\n",
    "                end\n",
    "            end\n",
    "        end\n",
    "\n",
    "        # for subdir = [\"xgb/\"]\n",
    "        #     try \n",
    "        #         filelist = [f for f in readdir(\"xgboost/\"*directory*subdir) if endswith(f, \".csv\")]\n",
    "        #         for i in 1:length(filelist)\n",
    "        #             res = vcat(res, CSV.read(\"xgboost/\"*directory*subdir*filelist[i], DataFrame))\n",
    "        #         end\n",
    "        #     catch \n",
    "        #         println(\"No XGBoost results for \"*directory*subdir)\n",
    "        #     end\n",
    "        # end\n",
    "\n",
    "        res[!,:method] .= map(t -> replace(t, \"Encoding as new category\" => \"Imp-then-Reg 4\"), res[:,:method])\n",
    "        res[!,:method] .= map(t -> replace(t, \"Mode impute\" => \"Imp-then-Reg 5\"), res[:,:method])\n",
    "\n",
    "        # filter!(t -> t[:k] > 0, res) #Remove dataset with only a bias term\n",
    "        res[!,:method_cat] = map(method_category, res[:,:method])\n",
    "        res[!,:X_setting] .= \"syn_X_\"*m_model\n",
    "        res[!,:Y_setting] .= \"syn_Y_\"*y_model\n",
    "\n",
    "        for method in [\"Imp-then-Reg 4\", \"Imp-then-Reg 5\"]\n",
    "            aux = filter(t -> startswith(t[:method], method), res)\n",
    "            # @show nrow(aux)\n",
    "            idcols = [:dataset, :X_setting, :Y_setting, :SNR, :k, :pMissing, :splitnum]\n",
    "            gd = groupby(aux, idcols)\n",
    "\n",
    "            aux = similar(aux, 0)\n",
    "            for subdf in gd \n",
    "                scoremax = argmax(subdf[:,:score])\n",
    "                # @show subdf[scoremax,names(aux)]\n",
    "                push!(aux, subdf[scoremax,names(aux)])\n",
    "            end\n",
    "            aux[!,:method] .= method*\" - best\"\n",
    "\n",
    "            res = vcat(res, aux)\n",
    "        end\n",
    "\n",
    "        CSV.write(directory*\"FINAL_results.csv\", res)   \n",
    "    end\n",
    "end"
   ]
  },
  {
   "cell_type": "code",
   "execution_count": null,
   "metadata": {},
   "outputs": [],
   "source": [
    "setting = prefix*\"synthetic/\"\n",
    "files_with_issues = []\n",
    "# for y_model in [\"linear\", \"tree\", \"nn\"]\n",
    "for y_model in [\"linear\", \"nn\"]\n",
    "    for m_model = [\"mar\", \"censoring\"]\n",
    "        dir = y_model*\"_\"*m_model*\"/\"\n",
    "        directory = setting*dir\n",
    "        filelist = [f for f in readdir(directory*\"all/\") if endswith(f, \".csv\") && f ∉ [\"all_results.csv\",\"all_results_new.csv\"]]\n",
    "        res = similar(CSV.read(directory*\"all/\"*filelist[1], DataFrame),0)\n",
    "        for subdir = [\"all/\"]\n",
    "            filelist = [f for f in readdir(directory*subdir) if endswith(f, \".csv\") && f ∉ [\"all_results.csv\",\"all_results_new.csv\"]]\n",
    "    #         res = similar(CSV.read(directory*subdir*filelist[1], DataFrame),0)\n",
    "            for i in 1:length(filelist)\n",
    "                try\n",
    "                    aux = CSV.read(directory*subdir*filelist[i], DataFrame)\n",
    "                    if any(aux[:,:pMissing] .> 0)\n",
    "                        missingproba = unique(aux[aux[:,:pMissing] .> 0,:pMissing])[1]\n",
    "                        aux[!,:pMissing] .= missingproba\n",
    "                    end\n",
    "                    res = vcat(res, aux)\n",
    "                catch \n",
    "                    println(\"Error with \", directory*subdir*filelist[i])\n",
    "                    push!(files_with_issues, directory*subdir*filelist[i])\n",
    "                end\n",
    "            end\n",
    "        end\n",
    "\n",
    "        # for subdir = [\"xgb/\"]\n",
    "        #     try \n",
    "        #         filelist = [f for f in readdir(\"xgboost/\"*directory*subdir) if endswith(f, \".csv\")]\n",
    "        #         for i in 1:length(filelist)\n",
    "        #             res = vcat(res, CSV.read(\"xgboost/\"*directory*subdir*filelist[i], DataFrame))\n",
    "        #         end\n",
    "        #     catch \n",
    "        #         println(\"No XGBoost results for \"*directory*subdir)\n",
    "        #     end\n",
    "        # end\n",
    "\n",
    "        # filter!(t -> t[:k] > 0, res) #Remove dataset with only a bias term\n",
    "        res[!,:method_cat] = map(method_category, res[:,:method])\n",
    "        res[!,:X_setting] .= \"syn_X_\"*m_model\n",
    "        res[!,:Y_setting] .= \"syn_Y_\"*y_model\n",
    "\n",
    "        for method in [\"Oracle X\", \"Oracle XM\", \"Complete Features\", \"Imp-then-Reg 1\", \"Imp-then-Reg 2\", \"Imp-then-Reg 3\", \"Imp-then-Reg 4\", \"Imp-then-Reg 5\", \"Joint Imp-then-Reg\", \"Adaptive LR\"]\n",
    "            aux = filter(t -> startswith(t[:method], method), res)\n",
    "\n",
    "            idcols = [:dataset, :X_setting, :Y_setting, :SNR, :k, :pMissing, :splitnum]\n",
    "            gd = groupby(aux, idcols)\n",
    "\n",
    "            aux = similar(aux, 0)\n",
    "            for subdf in gd \n",
    "                scoremax = argmax(subdf[:,:score])\n",
    "                push!(aux, subdf[scoremax,names(aux)])\n",
    "            end\n",
    "            aux[!,:method] .= method*\" - best\"\n",
    "\n",
    "            res = vcat(res, aux)\n",
    "        end\n",
    "        \n",
    "        CSV.write(directory*\"FINAL_results.csv\", res)   \n",
    "    end\n",
    "end"
   ]
  },
  {
   "cell_type": "code",
   "execution_count": null,
   "metadata": {},
   "outputs": [],
   "source": [
    "setting"
   ]
  },
  {
   "cell_type": "code",
   "execution_count": null,
   "metadata": {},
   "outputs": [],
   "source": [
    "files_with_issues"
   ]
  },
  {
   "cell_type": "code",
   "execution_count": null,
   "metadata": {},
   "outputs": [],
   "source": [
    "# setting = \"synthetic/\"\n",
    "# # for y_model in [\"linear\", \"tree\", \"nn\"]\n",
    "# for y_model in [\"linear\", \"nn\"]\n",
    "#     for m_model = [\"mar\", \"censoring\"]\n",
    "#         dir = y_model*\"_\"*m_model*\"/\"\n",
    "#         directory = setting*dir\n",
    "        \n",
    "#         filelist = [f for f in readdir(directory*\"final/\") if endswith(f, \".csv\") && f ∉ [\"all_results.csv\",\"all_results_new.csv\"]]\n",
    "#         res = similar(CSV.read(directory*\"final/\"*filelist[1], DataFrame),0)\n",
    "\n",
    "#         for subdir = [\"high_n/\"]\n",
    "#             filelist = [f for f in readdir(directory*subdir) if endswith(f, \".csv\") && f ∉ [\"all_results.csv\",\"all_results_new.csv\"]]\n",
    "#     #         res = similar(CSV.read(directory*subdir*filelist[1], DataFrame),0)\n",
    "#             for i in 1:length(filelist)\n",
    "#                 aux = CSV.read(directory*subdir*filelist[i], DataFrame)\n",
    "#                 if any(aux[:,:pMissing] .> 0)\n",
    "#                     missingproba = unique(aux[aux[:,:pMissing] .> 0,:pMissing])[1]\n",
    "#                     aux[!,:pMissing] .= missingproba\n",
    "#                 end\n",
    "#                 try\n",
    "#                     res = vcat(res, aux)\n",
    "#                 catch \n",
    "#                     println(\"Error with \", directory*subdir*filelist[i])\n",
    "#                 end\n",
    "#             end\n",
    "#         end\n",
    "#         # filter!(t -> t[:k] > 0, res) #Remove dataset with only a bias term\n",
    "#         res[!,:method_cat] = map(method_category, res[:,:method])\n",
    "#         res[!,:X_setting] .= \"syn_X_\"*m_model\n",
    "#         res[!,:Y_setting] .= \"syn_Y_\"*y_model\n",
    "\n",
    "#         CSV.write(directory*\"HIGHN_results.csv\", res)   \n",
    "#     end\n",
    "# end"
   ]
  },
  {
   "cell_type": "code",
   "execution_count": null,
   "metadata": {},
   "outputs": [],
   "source": [
    "1+1"
   ]
  },
  {
   "cell_type": "markdown",
   "metadata": {},
   "source": [
    "Sanity check"
   ]
  },
  {
   "cell_type": "code",
   "execution_count": null,
   "metadata": {
    "collapsed": true
   },
   "outputs": [],
   "source": [
    "df = CSV.read(prefix*\"synthetic/linear_mar/FINAL_results.csv\", DataFrame) \n",
    "df[!,:setting] .= \"1 - Lin-MAR\"\n",
    "\n",
    "aux = CSV.read(prefix*\"synthetic/linear_censoring/FINAL_results.csv\", DataFrame) \n",
    "aux[!,:setting] .= \"2 - Lin-NMAR\"\n",
    "df = vcat(df, aux)\n",
    " \n",
    "# aux = CSV.read(prefix*\"synthetic/tree_mar/FINAL_results.csv\", DataFrame) \n",
    "# aux[!,:setting] .= \"3 - Tree-MAR\"\n",
    "# df = vcat(df, aux)\n",
    "\n",
    "# aux = CSV.read(prefix*\"synthetic/tree_censoring/FINAL_results.csv\", DataFrame) \n",
    "# aux[!,:setting] .= \"4 - Tree-NMAR\"\n",
    "# df = vcat(df, aux)\n",
    "\n",
    "aux = CSV.read(prefix*\"synthetic/nn_mar/FINAL_results.csv\", DataFrame) \n",
    "aux[!,:setting] .= \"5 - NN-MAR\"\n",
    "df = vcat(df, aux)\n",
    "\n",
    "aux = CSV.read(prefix*\"synthetic/nn_censoring/FINAL_results.csv\", DataFrame) \n",
    "aux[!,:setting] .= \"6 - NN-NMAR\"\n",
    "df = vcat(df, aux)\n",
    "\n",
    ";"
   ]
  },
  {
   "cell_type": "code",
   "execution_count": null,
   "metadata": {},
   "outputs": [],
   "source": [
    "df = CSV.read(prefix*\"synthetic_discrete/linear_mar/FINAL_results.csv\", DataFrame) \n",
    "df[!,:setting] .= \"1 - Lin-MAR\"\n",
    "\n",
    "aux = CSV.read(prefix*\"synthetic_discrete/linear_censoring/FINAL_results.csv\", DataFrame) \n",
    "aux[!,:setting] .= \"2 - Lin-NMAR\"\n",
    "df = vcat(df, aux)\n",
    " \n",
    "# aux = CSV.read(prefix*\"synthetic_discrete/tree_mar/FINAL_results.csv\", DataFrame) \n",
    "# aux[!,:setting] .= \"3 - Tree-MAR\"\n",
    "# df = vcat(df, aux)\n",
    "\n",
    "# aux = CSV.read(prefix*\"synthetic_discrete/tree_censoring/FINAL_results.csv\", DataFrame) \n",
    "# aux[!,:setting] .= \"4 - Tree-NMAR\"\n",
    "# df = vcat(df, aux)\n",
    "\n",
    "aux = CSV.read(prefix*\"synthetic_discrete/nn_mar/FINAL_results.csv\", DataFrame) \n",
    "aux[!,:setting] .= \"5 - NN-MAR\"\n",
    "df = vcat(df, aux)\n",
    "\n",
    "aux = CSV.read(prefix*\"synthetic_discrete/nn_censoring/FINAL_results.csv\", DataFrame) \n",
    "aux[!,:setting] .= \"6 - NN-NMAR\"\n",
    "df = vcat(df, aux)"
   ]
  },
  {
   "cell_type": "code",
   "execution_count": null,
   "metadata": {
    "collapsed": true
   },
   "outputs": [],
   "source": [
    "combine(groupby(df, [:dataset, :method, :setting]), nrow)"
   ]
  },
  {
   "cell_type": "code",
   "execution_count": null,
   "metadata": {
    "collapsed": true
   },
   "outputs": [],
   "source": [
    "unique(combine(groupby(df, [:dataset, :method, :setting]), nrow)[:,:nrow])"
   ]
  },
  {
   "cell_type": "code",
   "execution_count": null,
   "metadata": {
    "collapsed": true
   },
   "outputs": [],
   "source": [
    "filter( t-> t[:nrow] < 90, combine(groupby(res, [:dataset, :method, :setting]), nrow))"
   ]
  },
  {
   "cell_type": "code",
   "execution_count": null,
   "metadata": {
    "collapsed": true
   },
   "outputs": [],
   "source": [
    "pbdata = unique(filter( t -> t[:nrow] < 90, combine(groupby(df, [:dataset, :method, :setting]), nrow))[:,[:method, :setting, :dataset]])"
   ]
  },
  {
   "cell_type": "code",
   "execution_count": null,
   "metadata": {
    "collapsed": true
   },
   "outputs": [],
   "source": [
    "aux = filter( t -> t[:dataset] ∈ pbdata && t[:nrow] < 10, combine(groupby(df, [:dataset, :method, :setting, :pMissing]), nrow))\n",
    "unique(aux[:,[:dataset, :setting, :pMissing, :nrow]])"
   ]
  },
  {
   "cell_type": "code",
   "execution_count": null,
   "metadata": {
    "collapsed": true
   },
   "outputs": [],
   "source": [
    "filter(t -> t[:pMissing] == 0.1, unique(aux[:,[:dataset, :setting, :pMissing, :nrow]]))"
   ]
  },
  {
   "cell_type": "code",
   "execution_count": null,
   "metadata": {
    "collapsed": true
   },
   "outputs": [],
   "source": [
    "filter(t -> t[:pMissing] == 0.3, unique(aux[:,[:dataset, :setting, :pMissing, :nrow]]))"
   ]
  },
  {
   "cell_type": "code",
   "execution_count": null,
   "metadata": {
    "collapsed": true
   },
   "outputs": [],
   "source": [
    "filter(t -> startswith(t[:setting], \"5\"), unique(aux[:,[:dataset, :setting, :pMissing, :nrow]]))"
   ]
  }
 ],
 "metadata": {
  "@webio": {
   "lastCommId": null,
   "lastKernelId": null
  },
  "kernelspec": {
   "display_name": "Julia 1.9.3",
   "language": "julia",
   "name": "julia-1.9"
  },
  "language_info": {
   "file_extension": ".jl",
   "mimetype": "application/julia",
   "name": "julia",
   "version": "1.9.3"
  }
 },
 "nbformat": 4,
 "nbformat_minor": 2
}
