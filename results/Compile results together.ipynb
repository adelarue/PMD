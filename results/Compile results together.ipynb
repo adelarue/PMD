{
 "cells": [
  {
   "cell_type": "code",
   "execution_count": 10,
   "metadata": {},
   "outputs": [],
   "source": [
    "using CSV, DataFrames, Statistics"
   ]
  },
  {
   "cell_type": "code",
   "execution_count": 11,
   "metadata": {},
   "outputs": [
    {
     "data": {
      "text/plain": [
       "\"aistats-rev/\""
      ]
     },
     "metadata": {},
     "output_type": "display_data"
    }
   ],
   "source": [
    "prefix = \"aistats-rev/\""
   ]
  },
  {
   "cell_type": "code",
   "execution_count": 12,
   "metadata": {},
   "outputs": [
    {
     "data": {
      "text/plain": [
       "method_category (generic function with 1 method)"
      ]
     },
     "metadata": {},
     "output_type": "display_data"
    }
   ],
   "source": [
    "function method_category(meth)\n",
    "    if startswith(meth, \"Imp-then-Reg\")\n",
    "        return \"Imp-then-Reg\"\n",
    "    elseif startswith(meth, \"Joint Imp-then-Reg\")\n",
    "        return \"Joint Imp-then-Reg\"\n",
    "    elseif meth ∈ [\"Static\", \"Affine\", \"Finite\"]\n",
    "        return \"Adaptive LR\"\n",
    "    elseif startswith(meth, \"Complete Features\")\n",
    "        return \"Complete Features\"\n",
    "    else \n",
    "        return meth\n",
    "    end\n",
    "end"
   ]
  },
  {
   "cell_type": "code",
   "execution_count": 13,
   "metadata": {},
   "outputs": [
    {
     "data": {
      "text/plain": [
       "8-element Vector{String}:\n",
       " \"cylinder-bands\"\n",
       " \"ozone-level-detection-eight\"\n",
       " \"ozone-level-detection-one\"\n",
       " \"thyroid-disease-thyroid-0387\"\n",
       " \"trains\"\n",
       " \"credit-approval\"\n",
       " \"Ecdat-Mofa\"\n",
       " \"sleep\""
      ]
     },
     "metadata": {},
     "output_type": "display_data"
    }
   ],
   "source": [
    "pb_datasets = [\"cylinder-bands\", \"ozone-level-detection-eight\", \"ozone-level-detection-one\", \"thyroid-disease-thyroid-0387\", \"trains\",\n",
    "                \"credit-approval\", \"Ecdat-Mofa\", \"sleep\"]"
   ]
  },
  {
   "cell_type": "markdown",
   "metadata": {},
   "source": [
    "## For Real X - Syn Y Experiments"
   ]
  },
  {
   "cell_type": "code",
   "execution_count": 14,
   "metadata": {},
   "outputs": [],
   "source": [
    "prefix =\"aistats-rev/\"\n",
    "setting = prefix*\"fakey/\"\n",
    "for y_model in [\"linear\", \"nn\"]\n",
    "    for m_model = [\"mar\", \"nmar\", \"mar_adv\"]\n",
    "        dir = y_model*\"_\"*m_model*\"/\"\n",
    "        directory = setting*dir\n",
    "        \n",
    "        filelist = [f for f in readdir(directory*\"all/\") if endswith(f, \".csv\")]\n",
    "        res = similar(CSV.read(directory*\"all/\"*filelist[1], DataFrame),0)\n",
    "        \n",
    "        for subdir = [\"all/\"]\n",
    "            filelist = [f for f in readdir(directory*subdir) if endswith(f, \".csv\")]\n",
    "#             res = similar(CSV.read(directory*subdir*filelist[1], DataFrame),0)\n",
    "            for i in 1:length(filelist)\n",
    "                res = vcat(res, CSV.read(directory*subdir*filelist[i], DataFrame))\n",
    "            end\n",
    "        end\n",
    "\n",
    "    #     for subdir = [\"xgb/\"]\n",
    "    #         try \n",
    "    #             filelist = [f for f in readdir(\"xgboost/\"*directory*subdir) if endswith(f, \".csv\")]\n",
    "    #             for i in 1:length(filelist)\n",
    "    #                 res = vcat(res, CSV.read(\"xgboost/\"*directory*subdir*filelist[i], DataFrame))\n",
    "    #             end\n",
    "    #         catch \n",
    "    #             println(\"No XGBoost results for \"*directory*subdir)\n",
    "    #         end\n",
    "    #     end\n",
    "\n",
    "        res[!,:method_cat] = map(t -> method_category(t), res[:,:method])\n",
    "        res[!,:X_setting] .= \"real_X_\"*m_model\n",
    "        res[!,:Y_setting] .= \"syn_Y_\"*y_model\n",
    "\n",
    "        CSV.write(directory*\"FINAL_results.csv\", res)\n",
    "    end\n",
    "end"
   ]
  },
  {
   "cell_type": "code",
   "execution_count": 15,
   "metadata": {},
   "outputs": [],
   "source": [
    "setting = prefix*\"fakey/\"\n",
    "\n",
    "for y_model in [\"linear\", \"nn\"]\n",
    "    for m_model = [\"mar\", \"nmar\", \"mar_adv\"]\n",
    "        dir = y_model*\"_\"*m_model*\"/\"\n",
    "        directory = setting*dir\n",
    "  \n",
    "        res = CSV.read(directory*\"FINAL_results.csv\", DataFrame)\n",
    "        \n",
    "        res[!,:method] .= map(t -> (t == \"Affine\" ? \"Adaptive LR - Affine\" : t), res[:,:method]) \n",
    "        res[!,:method] .= map(t -> (t == \"Finite\" ? \"Adaptive LR - Finite\" : t), res[:,:method]) \n",
    "        res[!,:method] .= map(t -> (t == \"Static\" ? \"Adaptive LR - Affine intercept only\" : t), res[:,:method])\n",
    "        \n",
    "        filter!(t -> t[:dataset] ∉ pb_datasets, res)\n",
    "\n",
    "        for method in [\"Oracle X\", \"Oracle XM\", \"Complete Features\", \"Imp-then-Reg 1\", \"Imp-then-Reg 2\", \"Imp-then-Reg 3\", \"Imp-then-Reg 4\", \"Imp-then-Reg 5\", \"Joint Imp-then-Reg\", \"Adaptive LR\"]\n",
    "            aux = filter(t -> startswith(t[:method], method), res)\n",
    "\n",
    "            idcols = [:dataset, :X_setting, :Y_setting, :SNR, :k, :kMissing, :splitnum]\n",
    "            gd = groupby(aux, idcols)\n",
    "\n",
    "            aux = similar(aux, 0)\n",
    "            for subdf in gd \n",
    "                scoremax = argmax(subdf[:,:score])\n",
    "                push!(aux, subdf[scoremax,names(aux)])\n",
    "            end\n",
    "            aux[!,:method] .= method*\" - best\"\n",
    "\n",
    "            res = vcat(res, aux)\n",
    "        end\n",
    "        \n",
    "        CSV.write(directory*\"FINAL_results.csv\", res)\n",
    "    end\n",
    "end"
   ]
  },
  {
   "cell_type": "markdown",
   "metadata": {},
   "source": [
    "Sanity check"
   ]
  },
  {
   "cell_type": "code",
   "execution_count": 16,
   "metadata": {
    "collapsed": true
   },
   "outputs": [],
   "source": [
    "res = DataFrames.similar(CSV.read(prefix*\"fakey/\"*\"linear\"*\"_\"*\"mar\"*\"/FINAL_results.csv\", DataFrame), 0)\n",
    "for y_model in [\"linear\", \"nn\"]\n",
    "    for m_model = [\"mar\", \"nmar\", \"mar_adv\"]\n",
    "        dir = y_model*\"_\"*m_model*\"/\"\n",
    "        directory = prefix*\"fakey/\"*dir\n",
    "  \n",
    "        res = vcat(res, CSV.read(directory*\"FINAL_results.csv\", DataFrame))\n",
    "    end\n",
    "end"
   ]
  },
  {
   "cell_type": "code",
   "execution_count": 17,
   "metadata": {},
   "outputs": [
    {
     "data": {
      "text/html": [
       "<div><div style = \"float: left;\"><span>324126×16 DataFrame</span></div><div style = \"float: right;\"><span style = \"font-style: italic;\">324101 rows omitted</span></div><div style = \"clear: both;\"></div></div><div class = \"data-frame\" style = \"overflow-x: scroll;\"><table class = \"data-frame\" style = \"margin-bottom: 6px;\"><thead><tr class = \"header\"><th class = \"rowNumber\" style = \"font-weight: bold; text-align: right;\">Row</th><th style = \"text-align: left;\">dataset</th><th style = \"text-align: left;\">SNR</th><th style = \"text-align: left;\">k</th><th style = \"text-align: left;\">kMissing</th><th style = \"text-align: left;\">splitnum</th><th style = \"text-align: left;\">method</th><th style = \"text-align: left;\">r2</th><th style = \"text-align: left;\">osr2</th><th style = \"text-align: left;\">r2list</th><th style = \"text-align: left;\">osr2list</th><th style = \"text-align: left;\">time</th><th style = \"text-align: left;\">hp</th><th style = \"text-align: left;\">score</th><th style = \"text-align: left;\">method_cat</th><th style = \"text-align: left;\">X_setting</th><th style = \"text-align: left;\">Y_setting</th></tr><tr class = \"subheader headerLastRow\"><th class = \"rowNumber\" style = \"font-weight: bold; text-align: right;\"></th><th title = \"String\" style = \"text-align: left;\">String</th><th title = \"Int64\" style = \"text-align: left;\">Int64</th><th title = \"Int64\" style = \"text-align: left;\">Int64</th><th title = \"Int64\" style = \"text-align: left;\">Int64</th><th title = \"Int64\" style = \"text-align: left;\">Int64</th><th title = \"String\" style = \"text-align: left;\">String</th><th title = \"Float64\" style = \"text-align: left;\">Float64</th><th title = \"Float64\" style = \"text-align: left;\">Float64</th><th title = \"String\" style = \"text-align: left;\">String</th><th title = \"String\" style = \"text-align: left;\">String</th><th title = \"Float64\" style = \"text-align: left;\">Float64</th><th title = \"String\" style = \"text-align: left;\">String</th><th title = \"Float64\" style = \"text-align: left;\">Float64</th><th title = \"String31\" style = \"text-align: left;\">String31</th><th title = \"String15\" style = \"text-align: left;\">String15</th><th title = \"String15\" style = \"text-align: left;\">String15</th></tr></thead><tbody><tr><td class = \"rowNumber\" style = \"font-weight: bold; text-align: right;\">1</td><td style = \"text-align: left;\">COUNT-loomis</td><td style = \"text-align: right;\">2</td><td style = \"text-align: right;\">10</td><td style = \"text-align: right;\">0</td><td style = \"text-align: right;\">1</td><td style = \"text-align: left;\">XGBoost</td><td style = \"text-align: right;\">0.737051</td><td style = \"text-align: right;\">0.742668</td><td style = \"text-align: left;\">Any[0.7370507983003595]</td><td style = \"text-align: left;\">Any[0.74266763420168]</td><td style = \"text-align: right;\">23.4184</td><td style = \"text-align: left;\">Dict{Symbol, Real}(:min_child_weight =&gt; 6, :gamma =&gt; 0.1, :n_estimators =&gt; 50, :max_depth =&gt; 3)</td><td style = \"text-align: right;\">0.687844</td><td style = \"text-align: left;\">XGBoost</td><td style = \"text-align: left;\">real_X_mar</td><td style = \"text-align: left;\">syn_Y_linear</td></tr><tr><td class = \"rowNumber\" style = \"font-weight: bold; text-align: right;\">2</td><td style = \"text-align: left;\">COUNT-loomis</td><td style = \"text-align: right;\">2</td><td style = \"text-align: right;\">10</td><td style = \"text-align: right;\">0</td><td style = \"text-align: right;\">1</td><td style = \"text-align: left;\">Oracle X - linear</td><td style = \"text-align: right;\">0.73965</td><td style = \"text-align: right;\">0.762056</td><td style = \"text-align: left;\">Any[0.7396500880253674]</td><td style = \"text-align: left;\">Any[0.7620558281755224]</td><td style = \"text-align: right;\">3.73222</td><td style = \"text-align: left;\">Dict{Symbol, Any}(:alpha =&gt; 0.3, :regtype =&gt; :lasso)</td><td style = \"text-align: right;\">0.705147</td><td style = \"text-align: left;\">Oracle X - linear</td><td style = \"text-align: left;\">real_X_mar</td><td style = \"text-align: left;\">syn_Y_linear</td></tr><tr><td class = \"rowNumber\" style = \"font-weight: bold; text-align: right;\">3</td><td style = \"text-align: left;\">COUNT-loomis</td><td style = \"text-align: right;\">2</td><td style = \"text-align: right;\">10</td><td style = \"text-align: right;\">0</td><td style = \"text-align: right;\">1</td><td style = \"text-align: left;\">Oracle XM - linear</td><td style = \"text-align: right;\">0.73965</td><td style = \"text-align: right;\">0.762056</td><td style = \"text-align: left;\">Any[0.7396500880253674]</td><td style = \"text-align: left;\">Any[0.7620558281755224]</td><td style = \"text-align: right;\">0.0932829</td><td style = \"text-align: left;\">Dict{Symbol, Any}(:alpha =&gt; 0.3, :regtype =&gt; :lasso)</td><td style = \"text-align: right;\">0.705147</td><td style = \"text-align: left;\">Oracle XM - linear</td><td style = \"text-align: left;\">real_X_mar</td><td style = \"text-align: left;\">syn_Y_linear</td></tr><tr><td class = \"rowNumber\" style = \"font-weight: bold; text-align: right;\">4</td><td style = \"text-align: left;\">COUNT-loomis</td><td style = \"text-align: right;\">2</td><td style = \"text-align: right;\">10</td><td style = \"text-align: right;\">0</td><td style = \"text-align: right;\">1</td><td style = \"text-align: left;\">Complete Features - linear</td><td style = \"text-align: right;\">0.73965</td><td style = \"text-align: right;\">0.762056</td><td style = \"text-align: left;\">Any[0.7396500880253674]</td><td style = \"text-align: left;\">Any[0.7620558281755224]</td><td style = \"text-align: right;\">0.08202</td><td style = \"text-align: left;\">Dict{Symbol, Any}(:alpha =&gt; 0.3, :regtype =&gt; :lasso)</td><td style = \"text-align: right;\">0.705147</td><td style = \"text-align: left;\">Complete Features</td><td style = \"text-align: left;\">real_X_mar</td><td style = \"text-align: left;\">syn_Y_linear</td></tr><tr><td class = \"rowNumber\" style = \"font-weight: bold; text-align: right;\">5</td><td style = \"text-align: left;\">COUNT-loomis</td><td style = \"text-align: right;\">2</td><td style = \"text-align: right;\">10</td><td style = \"text-align: right;\">0</td><td style = \"text-align: right;\">1</td><td style = \"text-align: left;\">Oracle X - tree</td><td style = \"text-align: right;\">0.769396</td><td style = \"text-align: right;\">0.725498</td><td style = \"text-align: left;\">Any[0.7693959852749067]</td><td style = \"text-align: left;\">Any[0.7254980907285085]</td><td style = \"text-align: right;\">1.04029</td><td style = \"text-align: left;\">Dict(:maxdepth =&gt; 16)</td><td style = \"text-align: right;\">0.645335</td><td style = \"text-align: left;\">Oracle X - tree</td><td style = \"text-align: left;\">real_X_mar</td><td style = \"text-align: left;\">syn_Y_linear</td></tr><tr><td class = \"rowNumber\" style = \"font-weight: bold; text-align: right;\">6</td><td style = \"text-align: left;\">COUNT-loomis</td><td style = \"text-align: right;\">2</td><td style = \"text-align: right;\">10</td><td style = \"text-align: right;\">0</td><td style = \"text-align: right;\">1</td><td style = \"text-align: left;\">Oracle XM - tree</td><td style = \"text-align: right;\">0.769396</td><td style = \"text-align: right;\">0.725498</td><td style = \"text-align: left;\">Any[0.7693959852749067]</td><td style = \"text-align: left;\">Any[0.7254980907285085]</td><td style = \"text-align: right;\">0.011651</td><td style = \"text-align: left;\">Dict(:maxdepth =&gt; 16)</td><td style = \"text-align: right;\">0.645335</td><td style = \"text-align: left;\">Oracle XM - tree</td><td style = \"text-align: left;\">real_X_mar</td><td style = \"text-align: left;\">syn_Y_linear</td></tr><tr><td class = \"rowNumber\" style = \"font-weight: bold; text-align: right;\">7</td><td style = \"text-align: left;\">COUNT-loomis</td><td style = \"text-align: right;\">2</td><td style = \"text-align: right;\">10</td><td style = \"text-align: right;\">0</td><td style = \"text-align: right;\">1</td><td style = \"text-align: left;\">Complete Features - tree</td><td style = \"text-align: right;\">0.769396</td><td style = \"text-align: right;\">0.725498</td><td style = \"text-align: left;\">Any[0.7693959852749067]</td><td style = \"text-align: left;\">Any[0.7254980907285085]</td><td style = \"text-align: right;\">0.0117469</td><td style = \"text-align: left;\">Dict(:maxdepth =&gt; 16)</td><td style = \"text-align: right;\">0.645335</td><td style = \"text-align: left;\">Complete Features</td><td style = \"text-align: left;\">real_X_mar</td><td style = \"text-align: left;\">syn_Y_linear</td></tr><tr><td class = \"rowNumber\" style = \"font-weight: bold; text-align: right;\">8</td><td style = \"text-align: left;\">COUNT-loomis</td><td style = \"text-align: right;\">2</td><td style = \"text-align: right;\">10</td><td style = \"text-align: right;\">0</td><td style = \"text-align: right;\">1</td><td style = \"text-align: left;\">Oracle X - rf</td><td style = \"text-align: right;\">0.740138</td><td style = \"text-align: right;\">0.725082</td><td style = \"text-align: left;\">Any[0.7401381733617556]</td><td style = \"text-align: left;\">Any[0.7250819111243514]</td><td style = \"text-align: right;\">5.16308</td><td style = \"text-align: left;\">Dict(:ntrees =&gt; 75, :maxdepth =&gt; 10)</td><td style = \"text-align: right;\">0.676238</td><td style = \"text-align: left;\">Oracle X - rf</td><td style = \"text-align: left;\">real_X_mar</td><td style = \"text-align: left;\">syn_Y_linear</td></tr><tr><td class = \"rowNumber\" style = \"font-weight: bold; text-align: right;\">9</td><td style = \"text-align: left;\">COUNT-loomis</td><td style = \"text-align: right;\">2</td><td style = \"text-align: right;\">10</td><td style = \"text-align: right;\">0</td><td style = \"text-align: right;\">1</td><td style = \"text-align: left;\">Oracle XM - rf</td><td style = \"text-align: right;\">0.740138</td><td style = \"text-align: right;\">0.725082</td><td style = \"text-align: left;\">Any[0.7401381733617556]</td><td style = \"text-align: left;\">Any[0.7250819111243514]</td><td style = \"text-align: right;\">4.19069</td><td style = \"text-align: left;\">Dict(:ntrees =&gt; 75, :maxdepth =&gt; 10)</td><td style = \"text-align: right;\">0.676238</td><td style = \"text-align: left;\">Oracle XM - rf</td><td style = \"text-align: left;\">real_X_mar</td><td style = \"text-align: left;\">syn_Y_linear</td></tr><tr><td class = \"rowNumber\" style = \"font-weight: bold; text-align: right;\">10</td><td style = \"text-align: left;\">COUNT-loomis</td><td style = \"text-align: right;\">2</td><td style = \"text-align: right;\">10</td><td style = \"text-align: right;\">0</td><td style = \"text-align: right;\">1</td><td style = \"text-align: left;\">Complete Features - rf</td><td style = \"text-align: right;\">0.740138</td><td style = \"text-align: right;\">0.725082</td><td style = \"text-align: left;\">Any[0.7401381733617556]</td><td style = \"text-align: left;\">Any[0.7250819111243514]</td><td style = \"text-align: right;\">4.1713</td><td style = \"text-align: left;\">Dict(:ntrees =&gt; 75, :maxdepth =&gt; 10)</td><td style = \"text-align: right;\">0.676238</td><td style = \"text-align: left;\">Complete Features</td><td style = \"text-align: left;\">real_X_mar</td><td style = \"text-align: left;\">syn_Y_linear</td></tr><tr><td class = \"rowNumber\" style = \"font-weight: bold; text-align: right;\">11</td><td style = \"text-align: left;\">COUNT-loomis</td><td style = \"text-align: right;\">2</td><td style = \"text-align: right;\">10</td><td style = \"text-align: right;\">0</td><td style = \"text-align: right;\">1</td><td style = \"text-align: left;\">CART MIA</td><td style = \"text-align: right;\">0.769396</td><td style = \"text-align: right;\">0.725498</td><td style = \"text-align: left;\">Any[0.7693959852749067]</td><td style = \"text-align: left;\">Any[0.7254980907285085]</td><td style = \"text-align: right;\">0.011694</td><td style = \"text-align: left;\">Dict(:maxdepth =&gt; 16)</td><td style = \"text-align: right;\">0.645335</td><td style = \"text-align: left;\">CART MIA</td><td style = \"text-align: left;\">real_X_mar</td><td style = \"text-align: left;\">syn_Y_linear</td></tr><tr><td class = \"rowNumber\" style = \"font-weight: bold; text-align: right;\">12</td><td style = \"text-align: left;\">COUNT-loomis</td><td style = \"text-align: right;\">2</td><td style = \"text-align: right;\">10</td><td style = \"text-align: right;\">0</td><td style = \"text-align: right;\">1</td><td style = \"text-align: left;\">RF MIA</td><td style = \"text-align: right;\">0.740138</td><td style = \"text-align: right;\">0.725082</td><td style = \"text-align: left;\">Any[0.7401381733617556]</td><td style = \"text-align: left;\">Any[0.7250819111243514]</td><td style = \"text-align: right;\">4.17453</td><td style = \"text-align: left;\">Dict(:ntrees =&gt; 75, :maxdepth =&gt; 10)</td><td style = \"text-align: right;\">0.676238</td><td style = \"text-align: left;\">RF MIA</td><td style = \"text-align: left;\">real_X_mar</td><td style = \"text-align: left;\">syn_Y_linear</td></tr><tr><td class = \"rowNumber\" style = \"font-weight: bold; text-align: right;\">13</td><td style = \"text-align: left;\">COUNT-loomis</td><td style = \"text-align: right;\">2</td><td style = \"text-align: right;\">10</td><td style = \"text-align: right;\">0</td><td style = \"text-align: right;\">1</td><td style = \"text-align: left;\">Imp-then-Reg 1 - xgboost</td><td style = \"text-align: right;\">0.737051</td><td style = \"text-align: right;\">0.742668</td><td style = \"text-align: left;\">Any[0.7370507983003595]</td><td style = \"text-align: left;\">Any[0.74266763420168]</td><td style = \"text-align: right;\">11.3815</td><td style = \"text-align: left;\">Dict{Symbol, Real}(:min_child_weight =&gt; 6, :gamma =&gt; 0.1, :n_estimators =&gt; 50, :max_depth =&gt; 3)</td><td style = \"text-align: right;\">0.687844</td><td style = \"text-align: left;\">Imp-then-Reg</td><td style = \"text-align: left;\">real_X_mar</td><td style = \"text-align: left;\">syn_Y_linear</td></tr><tr><td style = \"text-align: right;\">&vellip;</td><td style = \"text-align: right;\">&vellip;</td><td style = \"text-align: right;\">&vellip;</td><td style = \"text-align: right;\">&vellip;</td><td style = \"text-align: right;\">&vellip;</td><td style = \"text-align: right;\">&vellip;</td><td style = \"text-align: right;\">&vellip;</td><td style = \"text-align: right;\">&vellip;</td><td style = \"text-align: right;\">&vellip;</td><td style = \"text-align: right;\">&vellip;</td><td style = \"text-align: right;\">&vellip;</td><td style = \"text-align: right;\">&vellip;</td><td style = \"text-align: right;\">&vellip;</td><td style = \"text-align: right;\">&vellip;</td><td style = \"text-align: right;\">&vellip;</td><td style = \"text-align: right;\">&vellip;</td><td style = \"text-align: right;\">&vellip;</td></tr><tr><td class = \"rowNumber\" style = \"font-weight: bold; text-align: right;\">324115</td><td style = \"text-align: left;\">thyroid-disease-sick</td><td style = \"text-align: right;\">2</td><td style = \"text-align: right;\">10</td><td style = \"text-align: right;\">3</td><td style = \"text-align: right;\">3</td><td style = \"text-align: left;\">Adaptive LR - best</td><td style = \"text-align: right;\">0.427602</td><td style = \"text-align: right;\">0.275266</td><td style = \"text-align: left;\">Any[0.4345072133148886, 0.41286684517225714, 0.024734798389267065, 0.5039890522021029, 0.47798262816587467, 0.4817292239977815, 0.21624117569625767, -0.4582693505386255, -0.012092459727666593, 0.018370051227767692]</td><td style = \"text-align: left;\">Any[0.2866537844845235, 0.2503923401145952, 0.1149479056526359, 0.20758309897294214, 0.43072222085134926, -0.09043162301604935, -0.030458255265051415, -0.5536787718846226, -1.056247344756978, 0.6354975909457263]</td><td style = \"text-align: right;\">11.743</td><td style = \"text-align: left;\">Dict{Symbol, Any}(:missing_penalty =&gt; 1.0, :alpha =&gt; 0.3, :regtype =&gt; :missing_weight)</td><td style = \"text-align: right;\">0.410823</td><td style = \"text-align: left;\">Adaptive LR</td><td style = \"text-align: left;\">real_X_mar_adv</td><td style = \"text-align: left;\">syn_Y_nn</td></tr><tr><td class = \"rowNumber\" style = \"font-weight: bold; text-align: right;\">324116</td><td style = \"text-align: left;\">thyroid-disease-sick</td><td style = \"text-align: right;\">2</td><td style = \"text-align: right;\">10</td><td style = \"text-align: right;\">3</td><td style = \"text-align: right;\">4</td><td style = \"text-align: left;\">Adaptive LR - best</td><td style = \"text-align: right;\">0.432589</td><td style = \"text-align: right;\">0.276514</td><td style = \"text-align: left;\">Any[0.43861640503599286, 0.39546101869947214, 0.09432726030772409, 0.7446549420050206, 0.3769528902239534, 0.27704754379189267, 0.2853139810134727, 0.5998075156665158, -2.0449396226226186, 0.2932658130130388]</td><td style = \"text-align: left;\">Any[0.26011440745428493, 0.37961495181415017, 0.1610900893713143, 0.04252676527757593, 0.5806725255687462, 0.10741797326416491, 0.08212541717691935, 0.49473748080697266, -1.6920346184492696, 0.39981891369130873]</td><td style = \"text-align: right;\">243.461</td><td style = \"text-align: left;\">Dict{Symbol, Any}(:missing_penalty =&gt; 2.0, :alpha =&gt; 0.4, :regtype =&gt; :missing_weight)</td><td style = \"text-align: right;\">0.381947</td><td style = \"text-align: left;\">Adaptive LR</td><td style = \"text-align: left;\">real_X_mar_adv</td><td style = \"text-align: left;\">syn_Y_nn</td></tr><tr><td class = \"rowNumber\" style = \"font-weight: bold; text-align: right;\">324117</td><td style = \"text-align: left;\">thyroid-disease-sick</td><td style = \"text-align: right;\">2</td><td style = \"text-align: right;\">10</td><td style = \"text-align: right;\">3</td><td style = \"text-align: right;\">8</td><td style = \"text-align: left;\">Adaptive LR - best</td><td style = \"text-align: right;\">0.432993</td><td style = \"text-align: right;\">0.361747</td><td style = \"text-align: left;\">Any[0.4218767812605583, 0.45569565927902256, 0.17771142858066546, 0.4395749680619493, 0.5559588876034096, 0.36932678106173744, 0.2437756630606216, -0.09707368148896478, -0.614758168114081, 0.43617355331635654]</td><td style = \"text-align: left;\">Any[0.3388142580346848, 0.36547086570257137, -0.20924388580145514, 0.5602854473657972, 0.4497471979936146, 0.7275702588283479, 0.12810722907994088, -1.028977694272402, 0.5312288391281458, -27.977723692817335]</td><td style = \"text-align: right;\">179.601</td><td style = \"text-align: left;\">Dict{Symbol, Any}(:missing_penalty =&gt; 4.0, :alpha =&gt; 0.9, :regtype =&gt; :missing_weight)</td><td style = \"text-align: right;\">0.395314</td><td style = \"text-align: left;\">Adaptive LR</td><td style = \"text-align: left;\">real_X_mar_adv</td><td style = \"text-align: left;\">syn_Y_nn</td></tr><tr><td class = \"rowNumber\" style = \"font-weight: bold; text-align: right;\">324118</td><td style = \"text-align: left;\">thyroid-disease-sick</td><td style = \"text-align: right;\">2</td><td style = \"text-align: right;\">10</td><td style = \"text-align: right;\">4</td><td style = \"text-align: right;\">1</td><td style = \"text-align: left;\">Adaptive LR - best</td><td style = \"text-align: right;\">0.699244</td><td style = \"text-align: right;\">0.671537</td><td style = \"text-align: left;\">Any[0.5129886614073248, 0.865974602494636, 0.7925774005071703, 0.5182815874186921, 0.7058649074361536, 0.7015802974256016, 0.5059557090612673, 0.8768848426755846, -13.194210990543972, -0.6487883797117546]</td><td style = \"text-align: left;\">Any[0.3117405284260031, 0.9109134594785581, 0.5284064398514259, 0.22139025877057772, 0.10369513659453367, 0.6778919208073197, -0.510044541790561, 0.6931555271481757, -0.48369552126564486, 0.9792286638955932]</td><td style = \"text-align: right;\">301.855</td><td style = \"text-align: left;\">Dict{Symbol, Any}(:missing_penalty =&gt; 1.0, :alpha =&gt; 0.7, :regtype =&gt; :missing_weight)</td><td style = \"text-align: right;\">0.649059</td><td style = \"text-align: left;\">Adaptive LR</td><td style = \"text-align: left;\">real_X_mar_adv</td><td style = \"text-align: left;\">syn_Y_nn</td></tr><tr><td class = \"rowNumber\" style = \"font-weight: bold; text-align: right;\">324119</td><td style = \"text-align: left;\">thyroid-disease-sick</td><td style = \"text-align: right;\">2</td><td style = \"text-align: right;\">10</td><td style = \"text-align: right;\">4</td><td style = \"text-align: right;\">10</td><td style = \"text-align: left;\">Adaptive LR - best</td><td style = \"text-align: right;\">0.49549</td><td style = \"text-align: right;\">0.414301</td><td style = \"text-align: left;\">Any[0.5034935970009331, 0.49169910301029196, 0.3623397179479244, 0.542416925979827, 0.38932046983754487, 0.2601698662907247, -0.803376689524419, 0.6307623437488952, -1.2676647374649472, -30.10260864131838]</td><td style = \"text-align: left;\">Any[0.43562551367095104, 0.23781755950083105, 0.15652192342382454, 0.20563351747641723, -0.39426171254300657, 0.21120288500755535, -1.770765611533832, -0.37433817169922046, -3.75985188134279, 0.949236919881092]</td><td style = \"text-align: right;\">362.857</td><td style = \"text-align: left;\">Dict{Symbol, Any}(:missing_penalty =&gt; 6.0, :alpha =&gt; 0.2, :regtype =&gt; :missing_weight)</td><td style = \"text-align: right;\">0.380266</td><td style = \"text-align: left;\">Adaptive LR</td><td style = \"text-align: left;\">real_X_mar_adv</td><td style = \"text-align: left;\">syn_Y_nn</td></tr><tr><td class = \"rowNumber\" style = \"font-weight: bold; text-align: right;\">324120</td><td style = \"text-align: left;\">thyroid-disease-sick</td><td style = \"text-align: right;\">2</td><td style = \"text-align: right;\">10</td><td style = \"text-align: right;\">4</td><td style = \"text-align: right;\">4</td><td style = \"text-align: left;\">Adaptive LR - best</td><td style = \"text-align: right;\">0.429988</td><td style = \"text-align: right;\">0.270626</td><td style = \"text-align: left;\">Any[0.42846376514249296, 0.3289982493291267, 0.13923349594137213, 0.6307993177882116, 0.3754029557390046, 0.40463512867200524, 0.3671908029380079, 0.10328920741341141, -0.7747472520845158, 0.1337636911395229]</td><td style = \"text-align: left;\">Any[0.22924402768443364, 0.3491407103130275, -0.024207851609333364, -0.020996113033412422, 0.6974636090662549, 0.059042292686764974, -0.13151954851298187, 0.46270407167888705, -1.4607173834517941, -92.54372786058046]</td><td style = \"text-align: right;\">242.207</td><td style = \"text-align: left;\">Dict{Symbol, Any}(:missing_penalty =&gt; 12.0, :alpha =&gt; 0.5, :regtype =&gt; :missing_weight)</td><td style = \"text-align: right;\">0.394008</td><td style = \"text-align: left;\">Adaptive LR</td><td style = \"text-align: left;\">real_X_mar_adv</td><td style = \"text-align: left;\">syn_Y_nn</td></tr><tr><td class = \"rowNumber\" style = \"font-weight: bold; text-align: right;\">324121</td><td style = \"text-align: left;\">thyroid-disease-sick</td><td style = \"text-align: right;\">2</td><td style = \"text-align: right;\">10</td><td style = \"text-align: right;\">4</td><td style = \"text-align: right;\">8</td><td style = \"text-align: left;\">Adaptive LR - best</td><td style = \"text-align: right;\">0.440197</td><td style = \"text-align: right;\">0.347374</td><td style = \"text-align: left;\">Any[0.39926215934472054, 0.46613381116111563, 0.018643805554324433, 0.2525892312689735, 0.5587955358592507, 0.36588062469302873, 0.052049158415536034, 0.7098866573707618, -0.040349768576866785, 0.5757338306728232]</td><td style = \"text-align: left;\">Any[0.30860782935617126, 0.24797293191670833, 0.0010412131374227807, 0.34282878434478725, 0.5266969947127325, 0.5177301044237141, -0.01478229529453845, -0.0701742044667053, 0.18198085737752312, -42.519812274903025]</td><td style = \"text-align: right;\">26.9664</td><td style = \"text-align: left;\">Dict(:maxdepth =&gt; 14)</td><td style = \"text-align: right;\">0.37624</td><td style = \"text-align: left;\">Adaptive LR</td><td style = \"text-align: left;\">real_X_mar_adv</td><td style = \"text-align: left;\">syn_Y_nn</td></tr><tr><td class = \"rowNumber\" style = \"font-weight: bold; text-align: right;\">324122</td><td style = \"text-align: left;\">thyroid-disease-sick</td><td style = \"text-align: right;\">2</td><td style = \"text-align: right;\">10</td><td style = \"text-align: right;\">5</td><td style = \"text-align: right;\">1</td><td style = \"text-align: left;\">Adaptive LR - best</td><td style = \"text-align: right;\">0.603929</td><td style = \"text-align: right;\">0.566961</td><td style = \"text-align: left;\">Any[0.4432102631232224, 0.8091481163009855, 0.6786051782367464, 0.5605468208994195, 0.15195961752309428, 0.15169859941188246, 0.2468518595214978, 0.6614533221483019, -0.5008587648831067, -0.05725784053898941]</td><td style = \"text-align: left;\">Any[0.2260061572161728, 0.7896769449785619, 0.7358953267907424, 0.05369787129913395, 0.06310973733882042, -0.01641219234732061, -0.8498863393617888, -0.400274195426374, -1.632589036749906, 0.8634031569873329]</td><td style = \"text-align: right;\">313.269</td><td style = \"text-align: left;\">Dict{Symbol, Any}(:missing_penalty =&gt; 1.0, :alpha =&gt; 1.0, :regtype =&gt; :missing_weight)</td><td style = \"text-align: right;\">0.561997</td><td style = \"text-align: left;\">Adaptive LR</td><td style = \"text-align: left;\">real_X_mar_adv</td><td style = \"text-align: left;\">syn_Y_nn</td></tr><tr><td class = \"rowNumber\" style = \"font-weight: bold; text-align: right;\">324123</td><td style = \"text-align: left;\">thyroid-disease-sick</td><td style = \"text-align: right;\">2</td><td style = \"text-align: right;\">10</td><td style = \"text-align: right;\">5</td><td style = \"text-align: right;\">10</td><td style = \"text-align: left;\">Adaptive LR - best</td><td style = \"text-align: right;\">0.699763</td><td style = \"text-align: right;\">0.647945</td><td style = \"text-align: left;\">Any[0.6148065022270073, 0.6578666905189041, 0.34832868707282094, 0.4670820048130171, 0.28975111644679674, 0.7954308000477207, 0.7143165041419162, 0.7167684302066915, 0.7660181704633731, 0.5536425344126018]</td><td style = \"text-align: left;\">Any[0.5654081401159885, 0.478287271502857, 0.5141664484143671, 0.12796423706871074, 0.11323764567091654, 0.6942337179222737, -0.5803428037780949, 0.44616380455850335, -0.3448130762293784, -0.4899205775274458]</td><td style = \"text-align: right;\">26.5426</td><td style = \"text-align: left;\">Dict(:maxdepth =&gt; 8)</td><td style = \"text-align: right;\">0.649476</td><td style = \"text-align: left;\">Adaptive LR</td><td style = \"text-align: left;\">real_X_mar_adv</td><td style = \"text-align: left;\">syn_Y_nn</td></tr><tr><td class = \"rowNumber\" style = \"font-weight: bold; text-align: right;\">324124</td><td style = \"text-align: left;\">wiki4he</td><td style = \"text-align: right;\">2</td><td style = \"text-align: right;\">10</td><td style = \"text-align: right;\">0</td><td style = \"text-align: right;\">1</td><td style = \"text-align: left;\">Adaptive LR - best</td><td style = \"text-align: right;\">0.608495</td><td style = \"text-align: right;\">0.588739</td><td style = \"text-align: left;\">Any[0.630784713597837, 0.1776890245491739, 0.32559455076373256, 0.6112621070610091, -2.4152483241555376, 0.7150844945975283, -0.3105282047630227, 0.8002417132889895, 0.24101889978929625, -1.5372203143787244, 0.7124581990825691, 0.6991167900528632, 0.06719264904617339, -13.061588965730065, -0.03949688557911357, -47.56406648895332, -0.4565335490020608, 0.16145688390812973, 0.6609364956131911, -1.4671679488532967, -0.4711833203206277, -0.6659309540676681, -4.750346474341058, -6.7530792306183365, -10.27726092189557, -1.4055343946881478, -1.7406085894567709, -Inf, -Inf, -Inf, -Inf, -Inf, -Inf, -Inf, -Inf, -Inf, -Inf, -Inf, -Inf, -Inf, -Inf, -Inf, -Inf]</td><td style = \"text-align: left;\">Any[0.52121073035669, 0.11328202771379903, 0.8871084800595361, 0.7317744652785463, 0.3027698866880987, 0.7423740433842365, 0.9648227428555177, 0.7347573843158639, -1.7174823141069782, 0.29984027023173576, 0.42087903982809494, -0.7290506177336284, -0.5688226381825048, 0.02684880559950209, -1.1060642005578951, 0.9947018193238238, 0.44892401788758474, 0.9230636635902486, 0.5292785769933853, 0.9677530957249354, 0.006705627808246684, -8.254932203593372, 0.6664179924861997, -5.291050254747919, 0.4151646346419524, 0.21585695962640272, 0.2828996666591872, -1.3649312791177253, -11.068272438456091, -2.793999208274004, -2.662380259033458, 0.9999640672626736, 0.9573650317965529, 0.7945049197873684, 0.9993424065216697, 0.8984139804911517, 0.7735996268255536, 0.880399082925369, -6.352110739655459, 0.7265675273865939, 0.9999144942835749, -1.4067664896085916, -4.228396469448303]</td><td style = \"text-align: right;\">27.9962</td><td style = \"text-align: left;\">Dict{Symbol, Any}(:missing_penalty =&gt; 4.0, :alpha =&gt; 0.2, :regtype =&gt; :missing_weight)</td><td style = \"text-align: right;\">0.42357</td><td style = \"text-align: left;\">Adaptive LR</td><td style = \"text-align: left;\">real_X_mar_adv</td><td style = \"text-align: left;\">syn_Y_nn</td></tr><tr><td class = \"rowNumber\" style = \"font-weight: bold; text-align: right;\">324125</td><td style = \"text-align: left;\">wiki4he</td><td style = \"text-align: right;\">2</td><td style = \"text-align: right;\">10</td><td style = \"text-align: right;\">0</td><td style = \"text-align: right;\">7</td><td style = \"text-align: left;\">Adaptive LR - best</td><td style = \"text-align: right;\">0.602377</td><td style = \"text-align: right;\">0.374887</td><td style = \"text-align: left;\">Any[0.5790242311701281, 0.69172467455687, 0.34651089850492056, 0.1630302521670549, 0.26164180356488553, 0.807573470429379, 0.8969948850017936, -0.2610267527556085, -0.19039079850013851, -3.974157183640231, 0.4560995606620414, 0.4899728532207013, 0.7836648789630505, 0.025563173991354105, -38.223662412024126, 0.7150120867398377, -19.339041399492366, 0.9426560205511472, 0.41903023483681656, 0.820704143023699, 0.9677911083123945, -13.962713478473981, 0.8717513388467582, -6.763509424790118, -2.582639434978226, -4.362565314583515, 0.7680172735711441, -Inf, -Inf, -Inf, -Inf, -Inf, -Inf, -Inf, -Inf, -Inf, -Inf, -Inf, -Inf, -Inf, -Inf, -Inf, -Inf]</td><td style = \"text-align: left;\">Any[0.34318723150325825, 0.7433293275152304, 0.21018631058614878, 0.5371605242191027, 0.6800373242744958, 0.7640879481170355, 0.20900648852981007, 0.4489617447397166, 0.5002476387913151, 0.3959921026213655, 0.661954848272072, 0.023013160557820322, 0.5734562597018971, 0.28038645582608046, -0.8630712542011865, -21.259657362448596, 0.3031593176533228, 0.6094513010863017, -1.9492331850534321, -17.56256965429688, 0.9579627463247826, -23.332505505357627, -0.7016724275190664, 0.4866393323753154, 0.9995691537396024, 0.9985445360117536, 0.7149158984699813, 0.9708653675380287, 0.9969039413277028, -0.890944518770965, 0.9899891995064226, 0.9812913853039524, 0.7516780127611662, -1.802703607590459, -1.5430661184931136, 0.7819905074945102, 0.9995298253094647, 0.9970552803283977, 0.9799502192083815, 0.9378926063728709, -0.35211725234119595, 0.4732210245048838, 0.3164277970383236]</td><td style = \"text-align: right;\">407.928</td><td style = \"text-align: left;\">Dict{Symbol, Any}(:missing_penalty =&gt; 4.0, :alpha =&gt; 0.5, :regtype =&gt; :missing_weight)</td><td style = \"text-align: right;\">0.490398</td><td style = \"text-align: left;\">Adaptive LR</td><td style = \"text-align: left;\">real_X_mar_adv</td><td style = \"text-align: left;\">syn_Y_nn</td></tr><tr><td class = \"rowNumber\" style = \"font-weight: bold; text-align: right;\">324126</td><td style = \"text-align: left;\">wiki4he</td><td style = \"text-align: right;\">2</td><td style = \"text-align: right;\">10</td><td style = \"text-align: right;\">0</td><td style = \"text-align: right;\">9</td><td style = \"text-align: left;\">Adaptive LR - best</td><td style = \"text-align: right;\">0.724338</td><td style = \"text-align: right;\">0.646096</td><td style = \"text-align: left;\">Any[0.6958822742699561, 0.7862420541308637, 0.4454835536532171, 0.5317581081797678, 0.5705884579251491, 0.4358708586657398, 0.8279735613275784, 0.8694669331312166, 0.8650950702482241, 0.5441407217999701, 0.25275645133304714, 0.8137886749722161, 0.8876355288031755, 0.7354286160368098, -0.28286801689755126, 0.45927633339072815, -9.115441017489465, 0.9690212018521056, 0.9870407862826072, 0.9871484960849003, 0.9178113678867484, 0.32756218013533234, 0.9792714238233328, -3.7968043354450094, -0.06999046828696387, -528.3732738958037, -0.26559968103117026, -Inf, -Inf, -Inf, -Inf, -Inf, -Inf, -Inf, -Inf, -Inf, -Inf, -Inf, -Inf, -Inf, -Inf, -Inf, -Inf]</td><td style = \"text-align: left;\">Any[0.6842941121313354, 0.12467728254083887, 0.018976769729712073, 0.171159257689949, 0.9128775076303838, 0.895937256095992, 0.8679787492799946, 0.9293104686881491, -4.898406787966916, 0.999968694687338, 0.41127274803553693, 0.5542066025860315, 0.7110273831142452, -6.319941352240113, 0.8557759284328473, 0.9041048217096301, -0.2313004266205958, 0.9948893602999854, 0.9763983866187979, -1.9493214181708467, 0.9672082194489777, 0.9975195281249102, 0.7741872668314037, 0.5883807389722542, -8.367984344706098, 0.9125136256716079, -100.65553888142894, 0.5873553397168068, 0.9411037032291147, -0.19090845452521532, 0.6812015158578208, -3.835549735104726, -7.258215583060718, -22.037034537630113, 0.7427752361234399, 0.9469536822408352, 0.9316390317669968, 0.30874716283411086, 0.16157373170005696, 0.9351594085360676, 0.8851497624711828, 0.790632428228847, 0.9959263768892692]</td><td style = \"text-align: right;\">399.114</td><td style = \"text-align: left;\">Dict{Symbol, Any}(:missing_penalty =&gt; 2.0, :alpha =&gt; 1.0, :regtype =&gt; :missing_weight)</td><td style = \"text-align: right;\">0.628949</td><td style = \"text-align: left;\">Adaptive LR</td><td style = \"text-align: left;\">real_X_mar_adv</td><td style = \"text-align: left;\">syn_Y_nn</td></tr></tbody></table></div>"
      ],
      "text/latex": [
       "\\begin{tabular}{r|ccccccc}\n",
       "\t& dataset & SNR & k & kMissing & splitnum & method & \\\\\n",
       "\t\\hline\n",
       "\t& String & Int64 & Int64 & Int64 & Int64 & String & \\\\\n",
       "\t\\hline\n",
       "\t1 & COUNT-loomis & 2 & 10 & 0 & 1 & XGBoost & $\\dots$ \\\\\n",
       "\t2 & COUNT-loomis & 2 & 10 & 0 & 1 & Oracle X - linear & $\\dots$ \\\\\n",
       "\t3 & COUNT-loomis & 2 & 10 & 0 & 1 & Oracle XM - linear & $\\dots$ \\\\\n",
       "\t4 & COUNT-loomis & 2 & 10 & 0 & 1 & Complete Features - linear & $\\dots$ \\\\\n",
       "\t5 & COUNT-loomis & 2 & 10 & 0 & 1 & Oracle X - tree & $\\dots$ \\\\\n",
       "\t6 & COUNT-loomis & 2 & 10 & 0 & 1 & Oracle XM - tree & $\\dots$ \\\\\n",
       "\t7 & COUNT-loomis & 2 & 10 & 0 & 1 & Complete Features - tree & $\\dots$ \\\\\n",
       "\t8 & COUNT-loomis & 2 & 10 & 0 & 1 & Oracle X - rf & $\\dots$ \\\\\n",
       "\t9 & COUNT-loomis & 2 & 10 & 0 & 1 & Oracle XM - rf & $\\dots$ \\\\\n",
       "\t10 & COUNT-loomis & 2 & 10 & 0 & 1 & Complete Features - rf & $\\dots$ \\\\\n",
       "\t11 & COUNT-loomis & 2 & 10 & 0 & 1 & CART MIA & $\\dots$ \\\\\n",
       "\t12 & COUNT-loomis & 2 & 10 & 0 & 1 & RF MIA & $\\dots$ \\\\\n",
       "\t13 & COUNT-loomis & 2 & 10 & 0 & 1 & Imp-then-Reg 1 - xgboost & $\\dots$ \\\\\n",
       "\t14 & COUNT-loomis & 2 & 10 & 0 & 1 & Imp-then-Reg 2 - xgboost & $\\dots$ \\\\\n",
       "\t15 & COUNT-loomis & 2 & 10 & 0 & 1 & Imp-then-Reg 3 - xgboost & $\\dots$ \\\\\n",
       "\t16 & COUNT-loomis & 2 & 10 & 0 & 1 & Imp-then-Reg 4 - xgboost & $\\dots$ \\\\\n",
       "\t17 & COUNT-loomis & 2 & 10 & 0 & 1 & Imp-then-Reg 5 - xgboost & $\\dots$ \\\\\n",
       "\t18 & COUNT-loomis & 2 & 10 & 0 & 1 & Adaptive LR - Affine intercept only & $\\dots$ \\\\\n",
       "\t19 & COUNT-loomis & 2 & 10 & 0 & 1 & Adaptive LR - Affine & $\\dots$ \\\\\n",
       "\t20 & COUNT-loomis & 2 & 10 & 0 & 1 & Adaptive LR - Finite & $\\dots$ \\\\\n",
       "\t21 & COUNT-loomis & 2 & 10 & 0 & 1 & Joint Imp-then-Reg - linear & $\\dots$ \\\\\n",
       "\t22 & COUNT-loomis & 2 & 10 & 0 & 1 & Joint Imp-then-Reg - tree & $\\dots$ \\\\\n",
       "\t23 & COUNT-loomis & 2 & 10 & 0 & 1 & Joint Imp-then-Reg - rf & $\\dots$ \\\\\n",
       "\t24 & COUNT-loomis & 2 & 10 & 0 & 10 & XGBoost & $\\dots$ \\\\\n",
       "\t$\\dots$ & $\\dots$ & $\\dots$ & $\\dots$ & $\\dots$ & $\\dots$ & $\\dots$ &  \\\\\n",
       "\\end{tabular}\n"
      ],
      "text/plain": [
       "\u001b[1m324126×16 DataFrame\u001b[0m\n",
       "\u001b[1m    Row \u001b[0m│\u001b[1m dataset              \u001b[0m\u001b[1m SNR   \u001b[0m\u001b[1m k     \u001b[0m\u001b[1m kMissing \u001b[0m\u001b[1m splitnum \u001b[0m\u001b[1m method      \u001b[0m ⋯\n",
       "        │\u001b[90m String               \u001b[0m\u001b[90m Int64 \u001b[0m\u001b[90m Int64 \u001b[0m\u001b[90m Int64    \u001b[0m\u001b[90m Int64    \u001b[0m\u001b[90m String      \u001b[0m ⋯\n",
       "────────┼───────────────────────────────────────────────────────────────────────\n",
       "      1 │ COUNT-loomis              2     10         0         1  XGBoost      ⋯\n",
       "      2 │ COUNT-loomis              2     10         0         1  Oracle X - l\n",
       "      3 │ COUNT-loomis              2     10         0         1  Oracle XM -\n",
       "      4 │ COUNT-loomis              2     10         0         1  Complete Fea\n",
       "      5 │ COUNT-loomis              2     10         0         1  Oracle X - t ⋯\n",
       "      6 │ COUNT-loomis              2     10         0         1  Oracle XM -\n",
       "      7 │ COUNT-loomis              2     10         0         1  Complete Fea\n",
       "      8 │ COUNT-loomis              2     10         0         1  Oracle X - r\n",
       "   ⋮    │          ⋮              ⋮      ⋮       ⋮         ⋮                   ⋱\n",
       " 324120 │ thyroid-disease-sick      2     10         4         4  Adaptive LR  ⋯\n",
       " 324121 │ thyroid-disease-sick      2     10         4         8  Adaptive LR\n",
       " 324122 │ thyroid-disease-sick      2     10         5         1  Adaptive LR\n",
       " 324123 │ thyroid-disease-sick      2     10         5        10  Adaptive LR\n",
       " 324124 │ wiki4he                   2     10         0         1  Adaptive LR  ⋯\n",
       " 324125 │ wiki4he                   2     10         0         7  Adaptive LR\n",
       " 324126 │ wiki4he                   2     10         0         9  Adaptive LR\n",
       "\u001b[36m                                              11 columns and 324111 rows omitted\u001b[0m"
      ]
     },
     "metadata": {},
     "output_type": "display_data"
    }
   ],
   "source": [
    "res"
   ]
  },
  {
   "cell_type": "code",
   "execution_count": 18,
   "metadata": {},
   "outputs": [
    {
     "data": {
      "text/html": [
       "<div><div style = \"float: left;\"><span>38643×6 DataFrame</span></div><div style = \"float: right;\"><span style = \"font-style: italic;\">38618 rows omitted</span></div><div style = \"clear: both;\"></div></div><div class = \"data-frame\" style = \"overflow-x: scroll;\"><table class = \"data-frame\" style = \"margin-bottom: 6px;\"><thead><tr class = \"header\"><th class = \"rowNumber\" style = \"font-weight: bold; text-align: right;\">Row</th><th style = \"text-align: left;\">dataset</th><th style = \"text-align: left;\">X_setting</th><th style = \"text-align: left;\">Y_setting</th><th style = \"text-align: left;\">kMissing</th><th style = \"text-align: left;\">method</th><th style = \"text-align: left;\">nrow</th></tr><tr class = \"subheader headerLastRow\"><th class = \"rowNumber\" style = \"font-weight: bold; text-align: right;\"></th><th title = \"String\" style = \"text-align: left;\">String</th><th title = \"String15\" style = \"text-align: left;\">String15</th><th title = \"String15\" style = \"text-align: left;\">String15</th><th title = \"Int64\" style = \"text-align: left;\">Int64</th><th title = \"String\" style = \"text-align: left;\">String</th><th title = \"Int64\" style = \"text-align: left;\">Int64</th></tr></thead><tbody><tr><td class = \"rowNumber\" style = \"font-weight: bold; text-align: right;\">1</td><td style = \"text-align: left;\">COUNT-loomis</td><td style = \"text-align: left;\">real_X_mar</td><td style = \"text-align: left;\">syn_Y_linear</td><td style = \"text-align: right;\">0</td><td style = \"text-align: left;\">XGBoost</td><td style = \"text-align: right;\">10</td></tr><tr><td class = \"rowNumber\" style = \"font-weight: bold; text-align: right;\">2</td><td style = \"text-align: left;\">COUNT-loomis</td><td style = \"text-align: left;\">real_X_mar</td><td style = \"text-align: left;\">syn_Y_linear</td><td style = \"text-align: right;\">0</td><td style = \"text-align: left;\">Oracle X - linear</td><td style = \"text-align: right;\">10</td></tr><tr><td class = \"rowNumber\" style = \"font-weight: bold; text-align: right;\">3</td><td style = \"text-align: left;\">COUNT-loomis</td><td style = \"text-align: left;\">real_X_mar</td><td style = \"text-align: left;\">syn_Y_linear</td><td style = \"text-align: right;\">0</td><td style = \"text-align: left;\">Oracle XM - linear</td><td style = \"text-align: right;\">10</td></tr><tr><td class = \"rowNumber\" style = \"font-weight: bold; text-align: right;\">4</td><td style = \"text-align: left;\">COUNT-loomis</td><td style = \"text-align: left;\">real_X_mar</td><td style = \"text-align: left;\">syn_Y_linear</td><td style = \"text-align: right;\">0</td><td style = \"text-align: left;\">Complete Features - linear</td><td style = \"text-align: right;\">10</td></tr><tr><td class = \"rowNumber\" style = \"font-weight: bold; text-align: right;\">5</td><td style = \"text-align: left;\">COUNT-loomis</td><td style = \"text-align: left;\">real_X_mar</td><td style = \"text-align: left;\">syn_Y_linear</td><td style = \"text-align: right;\">0</td><td style = \"text-align: left;\">Oracle X - tree</td><td style = \"text-align: right;\">10</td></tr><tr><td class = \"rowNumber\" style = \"font-weight: bold; text-align: right;\">6</td><td style = \"text-align: left;\">COUNT-loomis</td><td style = \"text-align: left;\">real_X_mar</td><td style = \"text-align: left;\">syn_Y_linear</td><td style = \"text-align: right;\">0</td><td style = \"text-align: left;\">Oracle XM - tree</td><td style = \"text-align: right;\">10</td></tr><tr><td class = \"rowNumber\" style = \"font-weight: bold; text-align: right;\">7</td><td style = \"text-align: left;\">COUNT-loomis</td><td style = \"text-align: left;\">real_X_mar</td><td style = \"text-align: left;\">syn_Y_linear</td><td style = \"text-align: right;\">0</td><td style = \"text-align: left;\">Complete Features - tree</td><td style = \"text-align: right;\">10</td></tr><tr><td class = \"rowNumber\" style = \"font-weight: bold; text-align: right;\">8</td><td style = \"text-align: left;\">COUNT-loomis</td><td style = \"text-align: left;\">real_X_mar</td><td style = \"text-align: left;\">syn_Y_linear</td><td style = \"text-align: right;\">0</td><td style = \"text-align: left;\">Oracle X - rf</td><td style = \"text-align: right;\">10</td></tr><tr><td class = \"rowNumber\" style = \"font-weight: bold; text-align: right;\">9</td><td style = \"text-align: left;\">COUNT-loomis</td><td style = \"text-align: left;\">real_X_mar</td><td style = \"text-align: left;\">syn_Y_linear</td><td style = \"text-align: right;\">0</td><td style = \"text-align: left;\">Oracle XM - rf</td><td style = \"text-align: right;\">10</td></tr><tr><td class = \"rowNumber\" style = \"font-weight: bold; text-align: right;\">10</td><td style = \"text-align: left;\">COUNT-loomis</td><td style = \"text-align: left;\">real_X_mar</td><td style = \"text-align: left;\">syn_Y_linear</td><td style = \"text-align: right;\">0</td><td style = \"text-align: left;\">Complete Features - rf</td><td style = \"text-align: right;\">10</td></tr><tr><td class = \"rowNumber\" style = \"font-weight: bold; text-align: right;\">11</td><td style = \"text-align: left;\">COUNT-loomis</td><td style = \"text-align: left;\">real_X_mar</td><td style = \"text-align: left;\">syn_Y_linear</td><td style = \"text-align: right;\">0</td><td style = \"text-align: left;\">CART MIA</td><td style = \"text-align: right;\">10</td></tr><tr><td class = \"rowNumber\" style = \"font-weight: bold; text-align: right;\">12</td><td style = \"text-align: left;\">COUNT-loomis</td><td style = \"text-align: left;\">real_X_mar</td><td style = \"text-align: left;\">syn_Y_linear</td><td style = \"text-align: right;\">0</td><td style = \"text-align: left;\">RF MIA</td><td style = \"text-align: right;\">10</td></tr><tr><td class = \"rowNumber\" style = \"font-weight: bold; text-align: right;\">13</td><td style = \"text-align: left;\">COUNT-loomis</td><td style = \"text-align: left;\">real_X_mar</td><td style = \"text-align: left;\">syn_Y_linear</td><td style = \"text-align: right;\">0</td><td style = \"text-align: left;\">Imp-then-Reg 1 - xgboost</td><td style = \"text-align: right;\">10</td></tr><tr><td style = \"text-align: right;\">&vellip;</td><td style = \"text-align: right;\">&vellip;</td><td style = \"text-align: right;\">&vellip;</td><td style = \"text-align: right;\">&vellip;</td><td style = \"text-align: right;\">&vellip;</td><td style = \"text-align: right;\">&vellip;</td><td style = \"text-align: right;\">&vellip;</td></tr><tr><td class = \"rowNumber\" style = \"font-weight: bold; text-align: right;\">38632</td><td style = \"text-align: left;\">thyroid-disease-sick-euthyroid</td><td style = \"text-align: left;\">real_X_mar_adv</td><td style = \"text-align: left;\">syn_Y_nn</td><td style = \"text-align: right;\">3</td><td style = \"text-align: left;\">Adaptive LR - best</td><td style = \"text-align: right;\">2</td></tr><tr><td class = \"rowNumber\" style = \"font-weight: bold; text-align: right;\">38633</td><td style = \"text-align: left;\">thyroid-disease-sick-euthyroid</td><td style = \"text-align: left;\">real_X_mar_adv</td><td style = \"text-align: left;\">syn_Y_nn</td><td style = \"text-align: right;\">4</td><td style = \"text-align: left;\">Adaptive LR - best</td><td style = \"text-align: right;\">2</td></tr><tr><td class = \"rowNumber\" style = \"font-weight: bold; text-align: right;\">38634</td><td style = \"text-align: left;\">thyroid-disease-sick-euthyroid</td><td style = \"text-align: left;\">real_X_mar_adv</td><td style = \"text-align: left;\">syn_Y_nn</td><td style = \"text-align: right;\">5</td><td style = \"text-align: left;\">Adaptive LR - best</td><td style = \"text-align: right;\">1</td></tr><tr><td class = \"rowNumber\" style = \"font-weight: bold; text-align: right;\">38635</td><td style = \"text-align: left;\">thyroid-disease-sick-euthyroid</td><td style = \"text-align: left;\">real_X_mar_adv</td><td style = \"text-align: left;\">syn_Y_nn</td><td style = \"text-align: right;\">6</td><td style = \"text-align: left;\">Adaptive LR - best</td><td style = \"text-align: right;\">1</td></tr><tr><td class = \"rowNumber\" style = \"font-weight: bold; text-align: right;\">38636</td><td style = \"text-align: left;\">thyroid-disease-sick-euthyroid</td><td style = \"text-align: left;\">real_X_mar_adv</td><td style = \"text-align: left;\">syn_Y_nn</td><td style = \"text-align: right;\">7</td><td style = \"text-align: left;\">Adaptive LR - best</td><td style = \"text-align: right;\">1</td></tr><tr><td class = \"rowNumber\" style = \"font-weight: bold; text-align: right;\">38637</td><td style = \"text-align: left;\">thyroid-disease-sick</td><td style = \"text-align: left;\">real_X_mar_adv</td><td style = \"text-align: left;\">syn_Y_nn</td><td style = \"text-align: right;\">0</td><td style = \"text-align: left;\">Adaptive LR - best</td><td style = \"text-align: right;\">9</td></tr><tr><td class = \"rowNumber\" style = \"font-weight: bold; text-align: right;\">38638</td><td style = \"text-align: left;\">thyroid-disease-sick</td><td style = \"text-align: left;\">real_X_mar_adv</td><td style = \"text-align: left;\">syn_Y_nn</td><td style = \"text-align: right;\">1</td><td style = \"text-align: left;\">Adaptive LR - best</td><td style = \"text-align: right;\">10</td></tr><tr><td class = \"rowNumber\" style = \"font-weight: bold; text-align: right;\">38639</td><td style = \"text-align: left;\">thyroid-disease-sick</td><td style = \"text-align: left;\">real_X_mar_adv</td><td style = \"text-align: left;\">syn_Y_nn</td><td style = \"text-align: right;\">2</td><td style = \"text-align: left;\">Adaptive LR - best</td><td style = \"text-align: right;\">8</td></tr><tr><td class = \"rowNumber\" style = \"font-weight: bold; text-align: right;\">38640</td><td style = \"text-align: left;\">thyroid-disease-sick</td><td style = \"text-align: left;\">real_X_mar_adv</td><td style = \"text-align: left;\">syn_Y_nn</td><td style = \"text-align: right;\">3</td><td style = \"text-align: left;\">Adaptive LR - best</td><td style = \"text-align: right;\">6</td></tr><tr><td class = \"rowNumber\" style = \"font-weight: bold; text-align: right;\">38641</td><td style = \"text-align: left;\">thyroid-disease-sick</td><td style = \"text-align: left;\">real_X_mar_adv</td><td style = \"text-align: left;\">syn_Y_nn</td><td style = \"text-align: right;\">4</td><td style = \"text-align: left;\">Adaptive LR - best</td><td style = \"text-align: right;\">4</td></tr><tr><td class = \"rowNumber\" style = \"font-weight: bold; text-align: right;\">38642</td><td style = \"text-align: left;\">thyroid-disease-sick</td><td style = \"text-align: left;\">real_X_mar_adv</td><td style = \"text-align: left;\">syn_Y_nn</td><td style = \"text-align: right;\">5</td><td style = \"text-align: left;\">Adaptive LR - best</td><td style = \"text-align: right;\">2</td></tr><tr><td class = \"rowNumber\" style = \"font-weight: bold; text-align: right;\">38643</td><td style = \"text-align: left;\">wiki4he</td><td style = \"text-align: left;\">real_X_mar_adv</td><td style = \"text-align: left;\">syn_Y_nn</td><td style = \"text-align: right;\">0</td><td style = \"text-align: left;\">Adaptive LR - best</td><td style = \"text-align: right;\">3</td></tr></tbody></table></div>"
      ],
      "text/latex": [
       "\\begin{tabular}{r|cccccc}\n",
       "\t& dataset & X\\_setting & Y\\_setting & kMissing & method & \\\\\n",
       "\t\\hline\n",
       "\t& String & String15 & String15 & Int64 & String & \\\\\n",
       "\t\\hline\n",
       "\t1 & COUNT-loomis & real\\_X\\_mar & syn\\_Y\\_linear & 0 & XGBoost & $\\dots$ \\\\\n",
       "\t2 & COUNT-loomis & real\\_X\\_mar & syn\\_Y\\_linear & 0 & Oracle X - linear & $\\dots$ \\\\\n",
       "\t3 & COUNT-loomis & real\\_X\\_mar & syn\\_Y\\_linear & 0 & Oracle XM - linear & $\\dots$ \\\\\n",
       "\t4 & COUNT-loomis & real\\_X\\_mar & syn\\_Y\\_linear & 0 & Complete Features - linear & $\\dots$ \\\\\n",
       "\t5 & COUNT-loomis & real\\_X\\_mar & syn\\_Y\\_linear & 0 & Oracle X - tree & $\\dots$ \\\\\n",
       "\t6 & COUNT-loomis & real\\_X\\_mar & syn\\_Y\\_linear & 0 & Oracle XM - tree & $\\dots$ \\\\\n",
       "\t7 & COUNT-loomis & real\\_X\\_mar & syn\\_Y\\_linear & 0 & Complete Features - tree & $\\dots$ \\\\\n",
       "\t8 & COUNT-loomis & real\\_X\\_mar & syn\\_Y\\_linear & 0 & Oracle X - rf & $\\dots$ \\\\\n",
       "\t9 & COUNT-loomis & real\\_X\\_mar & syn\\_Y\\_linear & 0 & Oracle XM - rf & $\\dots$ \\\\\n",
       "\t10 & COUNT-loomis & real\\_X\\_mar & syn\\_Y\\_linear & 0 & Complete Features - rf & $\\dots$ \\\\\n",
       "\t11 & COUNT-loomis & real\\_X\\_mar & syn\\_Y\\_linear & 0 & CART MIA & $\\dots$ \\\\\n",
       "\t12 & COUNT-loomis & real\\_X\\_mar & syn\\_Y\\_linear & 0 & RF MIA & $\\dots$ \\\\\n",
       "\t13 & COUNT-loomis & real\\_X\\_mar & syn\\_Y\\_linear & 0 & Imp-then-Reg 1 - xgboost & $\\dots$ \\\\\n",
       "\t14 & COUNT-loomis & real\\_X\\_mar & syn\\_Y\\_linear & 0 & Imp-then-Reg 2 - xgboost & $\\dots$ \\\\\n",
       "\t15 & COUNT-loomis & real\\_X\\_mar & syn\\_Y\\_linear & 0 & Imp-then-Reg 3 - xgboost & $\\dots$ \\\\\n",
       "\t16 & COUNT-loomis & real\\_X\\_mar & syn\\_Y\\_linear & 0 & Imp-then-Reg 4 - xgboost & $\\dots$ \\\\\n",
       "\t17 & COUNT-loomis & real\\_X\\_mar & syn\\_Y\\_linear & 0 & Imp-then-Reg 5 - xgboost & $\\dots$ \\\\\n",
       "\t18 & COUNT-loomis & real\\_X\\_mar & syn\\_Y\\_linear & 0 & Adaptive LR - Affine intercept only & $\\dots$ \\\\\n",
       "\t19 & COUNT-loomis & real\\_X\\_mar & syn\\_Y\\_linear & 0 & Adaptive LR - Affine & $\\dots$ \\\\\n",
       "\t20 & COUNT-loomis & real\\_X\\_mar & syn\\_Y\\_linear & 0 & Adaptive LR - Finite & $\\dots$ \\\\\n",
       "\t21 & COUNT-loomis & real\\_X\\_mar & syn\\_Y\\_linear & 0 & Joint Imp-then-Reg - linear & $\\dots$ \\\\\n",
       "\t22 & COUNT-loomis & real\\_X\\_mar & syn\\_Y\\_linear & 0 & Joint Imp-then-Reg - tree & $\\dots$ \\\\\n",
       "\t23 & COUNT-loomis & real\\_X\\_mar & syn\\_Y\\_linear & 0 & Joint Imp-then-Reg - rf & $\\dots$ \\\\\n",
       "\t24 & Ecdat-MCAS & real\\_X\\_mar & syn\\_Y\\_linear & 0 & XGBoost & $\\dots$ \\\\\n",
       "\t$\\dots$ & $\\dots$ & $\\dots$ & $\\dots$ & $\\dots$ & $\\dots$ &  \\\\\n",
       "\\end{tabular}\n"
      ],
      "text/plain": [
       "\u001b[1m38643×6 DataFrame\u001b[0m\n",
       "\u001b[1m   Row \u001b[0m│\u001b[1m dataset                        \u001b[0m\u001b[1m X_setting      \u001b[0m\u001b[1m Y_setting    \u001b[0m\u001b[1m kMissin\u001b[0m ⋯\n",
       "       │\u001b[90m String                         \u001b[0m\u001b[90m String15       \u001b[0m\u001b[90m String15     \u001b[0m\u001b[90m Int64  \u001b[0m ⋯\n",
       "───────┼────────────────────────────────────────────────────────────────────────\n",
       "     1 │ COUNT-loomis                    real_X_mar      syn_Y_linear          ⋯\n",
       "     2 │ COUNT-loomis                    real_X_mar      syn_Y_linear\n",
       "     3 │ COUNT-loomis                    real_X_mar      syn_Y_linear\n",
       "     4 │ COUNT-loomis                    real_X_mar      syn_Y_linear\n",
       "     5 │ COUNT-loomis                    real_X_mar      syn_Y_linear          ⋯\n",
       "     6 │ COUNT-loomis                    real_X_mar      syn_Y_linear\n",
       "     7 │ COUNT-loomis                    real_X_mar      syn_Y_linear\n",
       "     8 │ COUNT-loomis                    real_X_mar      syn_Y_linear\n",
       "   ⋮   │               ⋮                       ⋮              ⋮           ⋮    ⋱\n",
       " 38637 │ thyroid-disease-sick            real_X_mar_adv  syn_Y_nn              ⋯\n",
       " 38638 │ thyroid-disease-sick            real_X_mar_adv  syn_Y_nn\n",
       " 38639 │ thyroid-disease-sick            real_X_mar_adv  syn_Y_nn\n",
       " 38640 │ thyroid-disease-sick            real_X_mar_adv  syn_Y_nn\n",
       " 38641 │ thyroid-disease-sick            real_X_mar_adv  syn_Y_nn              ⋯\n",
       " 38642 │ thyroid-disease-sick            real_X_mar_adv  syn_Y_nn\n",
       " 38643 │ wiki4he                         real_X_mar_adv  syn_Y_nn\n",
       "\u001b[36m                                                3 columns and 38628 rows omitted\u001b[0m"
      ]
     },
     "metadata": {},
     "output_type": "display_data"
    }
   ],
   "source": [
    "gd = groupby(res, [:dataset, :X_setting, :Y_setting, :kMissing, :method])\n",
    "aggres = combine(gd, nrow)"
   ]
  },
  {
   "cell_type": "code",
   "execution_count": 19,
   "metadata": {},
   "outputs": [],
   "source": []
  },
  {
   "cell_type": "code",
   "execution_count": 20,
   "metadata": {},
   "outputs": [],
   "source": [
    "feasible_combinations = unique(aggres[:,[:dataset, :kMissing]])\n",
    "feasible_combinations = crossjoin(\n",
    "                            crossjoin(\n",
    "                                crossjoin(feasible_combinations, DataFrame(splitnum=1:10)),\n",
    "                                DataFrame(X_setting = [\"real_X_mar\", \"real_X_nmar\", \"real_X_mar_adv\"])), \n",
    "                                DataFrame(Y_setting = [\"syn_Y_linear\", \"syn_Y_nn\"])\n",
    "                            )\n",
    "\n",
    "pbdatasets = antijoin(feasible_combinations, unique(res[:,[:dataset, :kMissing, :splitnum, :X_setting, :Y_setting]]), on=[:dataset, :kMissing, :splitnum, :X_setting, :Y_setting])\n",
    "pbdatasets = unique(pbdatasets[:,[:dataset, :X_setting, :Y_setting, :splitnum]])\n",
    "\n",
    "dataset_list = [d for d in readdir(\"../datasets/\") if !startswith(d, \".\")]\n",
    "sort!(dataset_list)\n",
    "\n",
    "pbdatasets[!,:array_num] .= (pbdatasets[:,:splitnum] .- 1) .* 71\n",
    "pbdatasets[!,:array_num] .+= map(t -> findfirst(t .== dataset_list)-1, pbdatasets[:,:dataset])\n",
    "\n",
    "pbdatasets[!,:back_dnum] .= map(t -> dataset_list[mod(t, 71) + 1], pbdatasets[:,:array_num])\n",
    "pbdatasets[!,:back_splitnum] .= map(t -> div(t, 71) + 1, pbdatasets[:,:array_num])\n",
    "\n",
    "@assert all(pbdatasets[:,:back_dnum] .== pbdatasets[:,:dataset])\n",
    "@assert all(pbdatasets[:,:back_splitnum] .== pbdatasets[:,:splitnum])"
   ]
  },
  {
   "cell_type": "code",
   "execution_count": 21,
   "metadata": {},
   "outputs": [
    {
     "data": {
      "text/plain": [
       "list_to_slurmarray (generic function with 1 method)"
      ]
     },
     "metadata": {},
     "output_type": "display_data"
    }
   ],
   "source": [
    "function list_to_slurmarray(l)\n",
    "    s = \"\"\n",
    "    begin_seq = -1; last_seq = -1; is_sequence = false\n",
    "\n",
    "    for an in l\n",
    "        if an == last_seq + 1\n",
    "            last_seq = an\n",
    "        else \n",
    "            if is_sequence\n",
    "                if begin_seq == last_seq\n",
    "                    s *= string(begin_seq)*\",\"\n",
    "                else\n",
    "                    s *= string(begin_seq)*\"-\"*string(last_seq)*\",\"\n",
    "                end\n",
    "            end\n",
    "            begin_seq = an\n",
    "            last_seq = an\n",
    "            is_sequence = true\n",
    "        end\n",
    "    end \n",
    "    s\n",
    "end"
   ]
  },
  {
   "cell_type": "code",
   "execution_count": 22,
   "metadata": {},
   "outputs": [
    {
     "name": "stdout",
     "output_type": "stream",
     "text": [
      "linear\n",
      "mar\n"
     ]
    },
    {
     "name": "stdout",
     "output_type": "stream",
     "text": [
      "list_to_slurmarray(l) = \"23-24,31,49,61-67,70,94-95,102,115,120,132-138,141,146,165-166,173,186,191,193,203-209,212,223,236-237,244,257,262,274-280,283,294,307-308,315,328,333,346-351,354,376,378-379,386,404,416-422,425,436,447,449-450,457,470,475,477,487-493,496,499,501-502,507,518,520-521,528,539,541,546,548,557-564,567,572-573,578,589,591-592,599,612,617,619,628-635,638,641,643-644,649,660,662-663,670,683,688,690,700-706,\"\n",
      "nmar\n",
      "list_to_slurmarray(l) = \"4,10,21,23-24,31,42,49,51,61-67,70,81,94-95,102,115,120,132-138,141,146-147,152,163,165-166,173,186,191,193,203-209,212,217-218,223,234,236-237,244,257,262,264,274-280,283,288-289,294,305,307-308,315,328,333,335,345-351,365,376,378-379,386,399,404,417-422,425,449-450,457,470,475,477,487-493,496,520-521,528,541,546,548,558-564,567,572-573,578,589,591-592,599,612,617,619,628-635,638,644,649,660,662-663,670,688,700-706,\"\n",
      "mar_adv\n",
      "list_to_slurmarray(l) = \"23-24,31,38,42,44,49,51,61-67,70,92,94-95,102,113,115,120,122,131-138,141,146-147,152,163,165-166,173,186,191,193,202-209,212,217-218,223,234,236-237,244,251,255,257,262,264,273-280,283,288-289,294,305,307-308,315,328,333,335,345-351,354,359-360,365,376,378-379,386,404,415-422,425,428,430-431,447,449-450,457,464,470,475,477,486-493,496,499,501-502,507,518,520-521,528,535,539,541,546,548,557-564,567,570,572-573,578,589,591-592,599,612,617,619,628-635,638,641,643-644,649,660,662-663,670,688,690,700-706,\"\n",
      "\n",
      "nn\n",
      "mar\n",
      "list_to_slurmarray(l) = \"23-24,31,44,70,75,81,83,94-95,102,115,120,134,138,141,147,152,165-166,173,179,186,191,193,203-209,212,223,236-237,244,257,262,276,278,280,283,307-308,315,328,333,335,345-347,349-351,354,365,378,386,399,416,419,421-422,425,430,443,449-450,457,464,470,475,477,487-493,496,520-521,528,538,541,546,558-564,591,610,612,617,619,629-635,638,649,652,662-663,670,683,688,699-706,\"\n",
      "nmar\n",
      "list_to_slurmarray(l) = \"10,23-24,31,44,49,51,61-67,70,75-76,81,87,92,94-95,102,107,115,120,122,131-138,141,146-147,152,155,163,165-166,173,186,191,193,203-209,212,223,236-237,244,257,262,264,273-280,283,289,294,297,305,307-308,315,328,333,335,345-351,354,365,367,376,378-379,386,399,404,406,416-422,425,430,436,441,449-450,457,470,475,477,487-493,496,499,501-502,507,514,518,520-521,528,536,541,546,548,558-564,567,570,572-573,576,578,589,591-592,599,612,617,619,629-635,638,643-644,649,660,662-663,670,683,688,690,700-704,\"\n",
      "mar_adv\n",
      "list_to_slurmarray(l) = \"10,31,44,49,51,61-63,67,70,81,83,94-95,102,115,120,122,132,134-138,141,146-147,152,165-166,173,186,191,193,203-209,212,223,226,236-237,244,251,257,262,264,271,274-280,283,286,288,294,307-308,315,328,333,335,345-351,354,359,363,378-379,386,397,404,406,416-422,425,428,430,436,442-443,449-450,457,470,475,477,487-493,496,499,501,504,507,520-521,528,541,546,558-564,567,570,578,591-592,599,612,617,619,629-635,638,649,662-663,670,683,688,690,700-703,\"\n",
      "\n"
     ]
    }
   ],
   "source": [
    "for y_model in [\"linear\", \"nn\"]\n",
    "    println(y_model)\n",
    "    for m_model = [\"mar\", \"nmar\", \"mar_adv\"]\n",
    "        println(m_model)\n",
    "        aux = filter(t -> t[:Y_setting] == \"syn_Y_\"*y_model && t[:X_setting] == \"real_X_\"*m_model, pbdatasets)\n",
    "        l = sort(unique(aux[:,:array_num]))\n",
    "        @show list_to_slurmarray(l)\n",
    "    end\n",
    "    println()\n",
    "end"
   ]
  },
  {
   "cell_type": "code",
   "execution_count": 85,
   "metadata": {},
   "outputs": [
    {
     "name": "stdout",
     "output_type": "stream",
     "text": [
      "linear\n",
      "mar\n"
     ]
    },
    {
     "name": "stdout",
     "output_type": "stream",
     "text": [
      "list_to_slurmarray(l) = \"23-24,31,49,61-67,70,94-95,102,115,120,132-138,141,146,165-166,173,186,191,193,203-209,212,223,236-237,244,257,262,274-280,283,294,307-308,315,328,333,346-351,354,376,378-379,386,404,416-422,425,436,447,449-450,457,470,475,477,487-493,496,499,501-502,507,518,520-521,528,539,541,546,548,557-564,567,572-573,578,589,591-592,599,612,617,619,628-635,638,641,643-644,649,660,662-663,670,683,688,690,700-706,\"\n",
      "nmar\n",
      "list_to_slurmarray(l) = \"4,10,21,23-24,31,42,49,51,61-67,70,81,94-95,102,115,120,132-138,141,146-147,152,163,165-166,173,186,191,193,203-209,212,217-218,223,234,236-237,244,257,262,264,274-280,283,288-289,294,305,307-308,315,328,333,335,345-351,365,376,378-379,386,399,404,417-422,425,449-450,457,470,475,477,487-493,496,520-521,528,541,546,548,558-564,567,572-573,578,589,591-592,599,612,617,619,628-635,638,644,649,660,662-663,670,688,700-706,\"\n",
      "mar_adv\n",
      "list_to_slurmarray(l) = \"23-24,31,38,42,44,49,51,61-67,70,92,94-95,102,113,115,120,122,131-138,141,146-147,152,163,165-166,173,186,191,193,202-209,212,217-218,223,234,236-237,244,251,255,257,262,264,273-280,283,288-289,294,305,307-308,315,328,333,335,345-351,354,359-360,365,376,378-379,386,404,415-422,425,428,430-431,447,449-450,457,464,470,475,477,486-493,496,499,501-502,507,518,520-521,528,535,539,541,546,548,557-564,567,570,572-573,578,589,591-592,599,612,617,619,628-635,638,641,643-644,649,660,662-663,670,688,690,700-706,\"\n",
      "\n",
      "nn\n",
      "mar\n",
      "list_to_slurmarray(l) = \"21,23-24,31,44,70,75,81,83,94-95,102,115,120,133-138,141,147,152,165-166,173,179,186,191,193,203-209,212,217,223,236-237,244,257,262,264,274-280,283,288,294,305,307-308,315,328,333,335,345-351,354,359,365,378-379,386,399,416-422,425,430,443,449-450,457,464,470,475,477,487-493,496,520-521,528,538,541,546,548,558-564,591,610,612,617,619,629-635,638,649,652,662-663,670,683,688,699-706,\"\n",
      "nmar\n",
      "list_to_slurmarray(l) = \"10,21,23-24,31,44,49,51,61-67,70,75-76,81,87,92,94-95,102,107,109,115,120,122,131-138,141,146-147,152,155,163,165-166,173,180,186,191,193,203-209,212,217-218,223,234,236-237,244,251,255,257,262,264,273-280,283,288-289,294,297,305,307-308,315,328,333,335,344-351,354,359-360,365,367,376,378-379,386,399,404,406,416-422,425,430-431,436,441,447,449-450,457,470,475,477,487-493,496,499,501-502,507,514,518,520-521,528,536,541,546,548,557-564,567,570,572-573,576,578,589,591-592,599,606,610,612,617,619,629-635,638,643-644,649,660,662-663,670,677,681,683,688,690,700-704,\"\n",
      "mar_adv\n",
      "list_to_slurmarray(l) = \"4-5,10,21,31,44,49,51,61-67,70,75-76,81,83,92,94-95,102,115,120,122,131-138,141,146-147,152,165-166,173,186,191,193,202-209,212,217,223,226,234,236-237,244,251,257,262,264,271,274-280,283,286,288-289,294,305,307-308,315,328,333,335,345-351,354,359-360,363,378-379,386,397,404,406,416-422,425,428,430-431,436,438,442-443,447,449-450,457,470,475,477,486-493,496,499,501,504,507,520-521,528,541,546,557-564,567,570,572-573,578,580,589,591-592,599,612,617,619,628-635,638,643-644,649,662-663,670,683,688,690,699-703,706,\"\n",
      "\n"
     ]
    }
   ],
   "source": [
    "for y_model in [\"linear\", \"nn\"]\n",
    "    println(y_model)\n",
    "    for m_model = [\"mar\", \"nmar\", \"mar_adv\"]\n",
    "        println(m_model)\n",
    "        aux = filter(t -> t[:Y_setting] == \"syn_Y_\"*y_model && t[:X_setting] == \"real_X_\"*m_model, pbdatasets)\n",
    "        l = sort(unique(aux[:,:array_num]))\n",
    "        @show list_to_slurmarray(l)\n",
    "    end\n",
    "    println()\n",
    "end"
   ]
  },
  {
   "cell_type": "markdown",
   "metadata": {},
   "source": [
    "## For Real Data Experiments"
   ]
  },
  {
   "cell_type": "code",
   "execution_count": null,
   "metadata": {},
   "outputs": [],
   "source": [
    "1+1"
   ]
  },
  {
   "cell_type": "code",
   "execution_count": 46,
   "metadata": {},
   "outputs": [],
   "source": [
    "for directory = prefix .* [\"realy/\"]\n",
    "    filelist = [f for f in readdir(directory*\"all/\") if endswith(f, \".csv\") && f ∉ [\"all_results.csv\",\"all_results_new.csv\"]]\n",
    "    res = similar(CSV.read(directory*\"all/\"*filelist[1], DataFrame),0)\n",
    "    \n",
    "    # for subdir = [\"2022-08-23/\", \"rf_mia/\"]    \n",
    "    for subdir = [\"all/\", \"itr/\"]\n",
    "        filelist = [f for f in readdir(directory*subdir) if endswith(f, \".csv\") && f ∉ [\"all_results.csv\",\"all_results_new.csv\"]]\n",
    "#         res = similar(CSV.read(directory*subdir*filelist[1], DataFrame),0)\n",
    "        for i in 1:length(filelist)\n",
    "            res = vcat(res, CSV.read(directory*subdir*filelist[i], DataFrame))\n",
    "        end\n",
    "    end\n",
    "\n",
    "#     for subdir = [\"xgb/\"]\n",
    "#         try \n",
    "#             filelist = [f for f in readdir(\"xgboost/\"*directory*subdir) if endswith(f, \".csv\")]\n",
    "#             for i in 1:length(filelist)\n",
    "#                 res = vcat(res, CSV.read(\"xgboost/\"*directory*subdir*filelist[i], DataFrame))\n",
    "#             end\n",
    "#         catch \n",
    "#             println(\"No XGBoost results for \"*directory*subdir)\n",
    "#         end\n",
    "#     end\n",
    "    \n",
    "    # filter!(t -> t[:k] > 0, res) #Remove dataset with only a bias term\n",
    "    res[!,:method_cat] = map(method_category, res[:,:method])\n",
    "    res[!,:X_setting] .= \"real_X\"\n",
    "    res[!,:Y_setting] .= \"real_Y\"\n",
    "    \n",
    "    CSV.write(directory*\"FINAL_results.csv\", res)\n",
    "end"
   ]
  },
  {
   "cell_type": "markdown",
   "metadata": {},
   "source": [
    "Sanity check"
   ]
  },
  {
   "cell_type": "code",
   "execution_count": 68,
   "metadata": {
    "collapsed": true
   },
   "outputs": [
    {
     "data": {
      "text/html": [
       "<div><div style = \"float: left;\"><span>23×2 DataFrame</span></div><div style = \"clear: both;\"></div></div><div class = \"data-frame\" style = \"overflow-x: scroll;\"><table class = \"data-frame\" style = \"margin-bottom: 6px;\"><thead><tr class = \"header\"><th class = \"rowNumber\" style = \"font-weight: bold; text-align: right;\">Row</th><th style = \"text-align: left;\">dataset</th><th style = \"text-align: left;\">nrow</th></tr><tr class = \"subheader headerLastRow\"><th class = \"rowNumber\" style = \"font-weight: bold; text-align: right;\"></th><th title = \"String\" style = \"text-align: left;\">String</th><th title = \"Int64\" style = \"text-align: left;\">Int64</th></tr></thead><tbody><tr><td class = \"rowNumber\" style = \"font-weight: bold; text-align: right;\">1</td><td style = \"text-align: left;\">Ecdat-Males</td><td style = \"text-align: right;\">2</td></tr><tr><td class = \"rowNumber\" style = \"font-weight: bold; text-align: right;\">2</td><td style = \"text-align: left;\">Ecdat-Schooling</td><td style = \"text-align: right;\">9</td></tr><tr><td class = \"rowNumber\" style = \"font-weight: bold; text-align: right;\">3</td><td style = \"text-align: left;\">arrhythmia</td><td style = \"text-align: right;\">9</td></tr><tr><td class = \"rowNumber\" style = \"font-weight: bold; text-align: right;\">4</td><td style = \"text-align: left;\">breast-cancer-wisconsin-prognostic</td><td style = \"text-align: right;\">9</td></tr><tr><td class = \"rowNumber\" style = \"font-weight: bold; text-align: right;\">5</td><td style = \"text-align: left;\">communities-and-crime-2</td><td style = \"text-align: right;\">3</td></tr><tr><td class = \"rowNumber\" style = \"font-weight: bold; text-align: right;\">6</td><td style = \"text-align: left;\">communities-and-crime-2</td><td style = \"text-align: right;\">2</td></tr><tr><td class = \"rowNumber\" style = \"font-weight: bold; text-align: right;\">7</td><td style = \"text-align: left;\">communities-and-crime</td><td style = \"text-align: right;\">7</td></tr><tr><td class = \"rowNumber\" style = \"font-weight: bold; text-align: right;\">8</td><td style = \"text-align: left;\">communities-and-crime</td><td style = \"text-align: right;\">3</td></tr><tr><td class = \"rowNumber\" style = \"font-weight: bold; text-align: right;\">9</td><td style = \"text-align: left;\">credit-approval</td><td style = \"text-align: right;\">9</td></tr><tr><td class = \"rowNumber\" style = \"font-weight: bold; text-align: right;\">10</td><td style = \"text-align: left;\">cylinder-bands</td><td style = \"text-align: right;\">1</td></tr><tr><td class = \"rowNumber\" style = \"font-weight: bold; text-align: right;\">11</td><td style = \"text-align: left;\">heart-disease-va</td><td style = \"text-align: right;\">9</td></tr><tr><td class = \"rowNumber\" style = \"font-weight: bold; text-align: right;\">12</td><td style = \"text-align: left;\">horse-colic</td><td style = \"text-align: right;\">9</td></tr><tr><td class = \"rowNumber\" style = \"font-weight: bold; text-align: right;\">13</td><td style = \"text-align: left;\">mammographic-mass</td><td style = \"text-align: right;\">9</td></tr><tr><td class = \"rowNumber\" style = \"font-weight: bold; text-align: right;\">14</td><td style = \"text-align: left;\">mlmRev-star</td><td style = \"text-align: right;\">1</td></tr><tr><td class = \"rowNumber\" style = \"font-weight: bold; text-align: right;\">15</td><td style = \"text-align: left;\">mushroom</td><td style = \"text-align: right;\">6</td></tr><tr><td class = \"rowNumber\" style = \"font-weight: bold; text-align: right;\">16</td><td style = \"text-align: left;\">mushroom</td><td style = \"text-align: right;\">3</td></tr><tr><td class = \"rowNumber\" style = \"font-weight: bold; text-align: right;\">17</td><td style = \"text-align: left;\">ozone-level-detection-one</td><td style = \"text-align: right;\">2</td></tr><tr><td class = \"rowNumber\" style = \"font-weight: bold; text-align: right;\">18</td><td style = \"text-align: left;\">ozone-level-detection-one</td><td style = \"text-align: right;\">1</td></tr><tr><td class = \"rowNumber\" style = \"font-weight: bold; text-align: right;\">19</td><td style = \"text-align: left;\">pscl-politicalInformation</td><td style = \"text-align: right;\">5</td></tr><tr><td class = \"rowNumber\" style = \"font-weight: bold; text-align: right;\">20</td><td style = \"text-align: left;\">thyroid-disease-allhyper</td><td style = \"text-align: right;\">5</td></tr><tr><td class = \"rowNumber\" style = \"font-weight: bold; text-align: right;\">21</td><td style = \"text-align: left;\">thyroid-disease-allrep</td><td style = \"text-align: right;\">8</td></tr><tr><td class = \"rowNumber\" style = \"font-weight: bold; text-align: right;\">22</td><td style = \"text-align: left;\">thyroid-disease-thyroid-0387</td><td style = \"text-align: right;\">4</td></tr><tr><td class = \"rowNumber\" style = \"font-weight: bold; text-align: right;\">23</td><td style = \"text-align: left;\">ozone-level-detection-eight</td><td style = \"text-align: right;\">1</td></tr></tbody></table></div>"
      ],
      "text/latex": [
       "\\begin{tabular}{r|cc}\n",
       "\t& dataset & nrow\\\\\n",
       "\t\\hline\n",
       "\t& String & Int64\\\\\n",
       "\t\\hline\n",
       "\t1 & Ecdat-Males & 2 \\\\\n",
       "\t2 & Ecdat-Schooling & 9 \\\\\n",
       "\t3 & arrhythmia & 9 \\\\\n",
       "\t4 & breast-cancer-wisconsin-prognostic & 9 \\\\\n",
       "\t5 & communities-and-crime-2 & 3 \\\\\n",
       "\t6 & communities-and-crime-2 & 2 \\\\\n",
       "\t7 & communities-and-crime & 7 \\\\\n",
       "\t8 & communities-and-crime & 3 \\\\\n",
       "\t9 & credit-approval & 9 \\\\\n",
       "\t10 & cylinder-bands & 1 \\\\\n",
       "\t11 & heart-disease-va & 9 \\\\\n",
       "\t12 & horse-colic & 9 \\\\\n",
       "\t13 & mammographic-mass & 9 \\\\\n",
       "\t14 & mlmRev-star & 1 \\\\\n",
       "\t15 & mushroom & 6 \\\\\n",
       "\t16 & mushroom & 3 \\\\\n",
       "\t17 & ozone-level-detection-one & 2 \\\\\n",
       "\t18 & ozone-level-detection-one & 1 \\\\\n",
       "\t19 & pscl-politicalInformation & 5 \\\\\n",
       "\t20 & thyroid-disease-allhyper & 5 \\\\\n",
       "\t21 & thyroid-disease-allrep & 8 \\\\\n",
       "\t22 & thyroid-disease-thyroid-0387 & 4 \\\\\n",
       "\t23 & ozone-level-detection-eight & 1 \\\\\n",
       "\\end{tabular}\n"
      ],
      "text/plain": [
       "\u001b[1m23×2 DataFrame\u001b[0m\n",
       "\u001b[1m Row \u001b[0m│\u001b[1m dataset                           \u001b[0m\u001b[1m nrow  \u001b[0m\n",
       "     │\u001b[90m String                            \u001b[0m\u001b[90m Int64 \u001b[0m\n",
       "─────┼──────────────────────────────────────────\n",
       "   1 │ Ecdat-Males                            2\n",
       "   2 │ Ecdat-Schooling                        9\n",
       "   3 │ arrhythmia                             9\n",
       "   4 │ breast-cancer-wisconsin-prognost…      9\n",
       "   5 │ communities-and-crime-2                3\n",
       "   6 │ communities-and-crime-2                2\n",
       "   7 │ communities-and-crime                  7\n",
       "   8 │ communities-and-crime                  3\n",
       "  ⋮  │                 ⋮                    ⋮\n",
       "  17 │ ozone-level-detection-one              2\n",
       "  18 │ ozone-level-detection-one              1\n",
       "  19 │ pscl-politicalInformation              5\n",
       "  20 │ thyroid-disease-allhyper               5\n",
       "  21 │ thyroid-disease-allrep                 8\n",
       "  22 │ thyroid-disease-thyroid-0387           4\n",
       "  23 │ ozone-level-detection-eight            1\n",
       "\u001b[36m                                  8 rows omitted\u001b[0m"
      ]
     },
     "metadata": {},
     "output_type": "display_data"
    }
   ],
   "source": [
    "res = CSV.read(prefix*\"realy/\"*\"FINAL_results.csv\", DataFrame)\n",
    "unique(filter( t-> t[:nrow] < 10, combine(groupby(res, [:dataset, :method]), nrow))[:,[:dataset, :nrow]])"
   ]
  },
  {
   "cell_type": "code",
   "execution_count": 69,
   "metadata": {},
   "outputs": [
    {
     "data": {
      "text/plain": [
       "32-element Vector{String31}:\n",
       " \"XGBoost\"\n",
       " \"Complete Features - linear\"\n",
       " \"Complete Features - tree\"\n",
       " \"Complete Features - rf\"\n",
       " \"CART MIA\"\n",
       " \"RF MIA\"\n",
       " \"Imp-then-Reg 1 - xgboost\"\n",
       " \"Imp-then-Reg 2 - xgboost\"\n",
       " \"Imp-then-Reg 3 - xgboost\"\n",
       " \"Imp-then-Reg 4 - xgboost\"\n",
       " ⋮\n",
       " \"Imp-then-Reg 2 - tree\"\n",
       " \"Imp-then-Reg 3 - tree\"\n",
       " \"Imp-then-Reg 4 - tree\"\n",
       " \"Imp-then-Reg 5 - tree\"\n",
       " \"Imp-then-Reg 1 - rf\"\n",
       " \"Imp-then-Reg 2 - rf\"\n",
       " \"Imp-then-Reg 3 - rf\"\n",
       " \"Imp-then-Reg 4 - rf\"\n",
       " \"Imp-then-Reg 5 - rf\""
      ]
     },
     "metadata": {},
     "output_type": "display_data"
    }
   ],
   "source": [
    "unique(res[:,:method])"
   ]
  },
  {
   "cell_type": "code",
   "execution_count": 48,
   "metadata": {},
   "outputs": [
    {
     "data": {
      "text/plain": [
       "71-element Vector{String}:\n",
       " \"COUNT-loomis\"\n",
       " \"Ecdat-MCAS\"\n",
       " \"Ecdat-Males\"\n",
       " \"Ecdat-Mofa\"\n",
       " \"Ecdat-RetSchool\"\n",
       " \"Ecdat-Schooling\"\n",
       " \"MASS-Cars93\"\n",
       " \"MASS-Pima.tr2\"\n",
       " \"MASS-survey\"\n",
       " \"Zelig-coalition2\"\n",
       " ⋮\n",
       " \"thyroid-disease-allhyper\"\n",
       " \"thyroid-disease-allhypo\"\n",
       " \"thyroid-disease-allrep\"\n",
       " \"thyroid-disease-dis\"\n",
       " \"thyroid-disease-sick\"\n",
       " \"thyroid-disease-sick-euthyroid\"\n",
       " \"thyroid-disease-thyroid-0387\"\n",
       " \"trains\"\n",
       " \"wiki4he\""
      ]
     },
     "metadata": {},
     "output_type": "display_data"
    }
   ],
   "source": [
    "dataset_list = [d for d in readdir(\"../datasets/\") if !startswith(d, \".\")]\n",
    "sort!(dataset_list)"
   ]
  },
  {
   "cell_type": "code",
   "execution_count": 74,
   "metadata": {},
   "outputs": [
    {
     "data": {
      "text/plain": [
       "9-element Vector{Int64}:\n",
       " 23\n",
       " 24\n",
       " 27\n",
       " 43\n",
       " 44\n",
       " 45\n",
       " 46\n",
       " 49\n",
       " 68"
      ]
     },
     "metadata": {},
     "output_type": "display_data"
    }
   ],
   "source": [
    "unfinished_datasets = filter(t -> t[:nrow] < 10, \n",
    "    combine(\n",
    "        groupby(    combine(groupby(filter(t -> !startswith(t[:method], \"Imp-then-Reg 4 - linear\"), res), [:dataset, :method]), nrow), \n",
    "                    [:dataset]), \n",
    "        :nrow => maximum => :nrow))[:,:dataset]\n",
    "sort([findfirst(i .== dataset_list)-1 for i in unfinished_datasets])"
   ]
  },
  {
   "cell_type": "code",
   "execution_count": 73,
   "metadata": {},
   "outputs": [
    {
     "data": {
      "text/plain": [
       "9-element Vector{Int64}:\n",
       " 23\n",
       " 24\n",
       " 27\n",
       " 43\n",
       " 44\n",
       " 45\n",
       " 46\n",
       " 49\n",
       " 68"
      ]
     },
     "metadata": {},
     "output_type": "display_data"
    }
   ],
   "source": [
    "unfinished_datasets = filter(t -> t[:nrow] < 10, \n",
    "    combine(\n",
    "        groupby(    combine(groupby(res, [:dataset, :method]), nrow), \n",
    "                    [:dataset]), \n",
    "        :nrow => maximum => :nrow))[:,:dataset]\n",
    "sort([findfirst(i .== dataset_list)-1 for i in unfinished_datasets])"
   ]
  },
  {
   "cell_type": "code",
   "execution_count": 71,
   "metadata": {},
   "outputs": [
    {
     "data": {
      "text/plain": [
       "13-element Vector{Int64}:\n",
       " 16\n",
       " 23\n",
       " 24\n",
       " 26\n",
       " 27\n",
       " 36\n",
       " 38\n",
       " 41\n",
       " 43\n",
       " 44\n",
       " 46\n",
       " 49\n",
       " 68"
      ]
     },
     "metadata": {},
     "output_type": "display_data"
    }
   ],
   "source": [
    "unfinished_datasets = filter(t -> t[:nrow] < 10, \n",
    "    combine(\n",
    "        groupby(    combine(groupby(filter(t -> !startswith(t[:method], \"Imp-then-Reg\"), res), [:dataset, :method]), nrow), \n",
    "                    [:dataset]), \n",
    "        :nrow => maximum => :nrow))[:,:dataset]\n",
    "sort([findfirst(i .== dataset_list)-1 for i in unfinished_datasets])"
   ]
  },
  {
   "cell_type": "code",
   "execution_count": null,
   "metadata": {},
   "outputs": [],
   "source": [
    "setdiff(), pb_datasets)"
   ]
  },
  {
   "cell_type": "markdown",
   "metadata": {},
   "source": [
    "Create `best` variant"
   ]
  },
  {
   "cell_type": "code",
   "execution_count": null,
   "metadata": {},
   "outputs": [],
   "source": [
    "res = CSV.read(prefix*\"realy/\"*\"FINAL_results.csv\", DataFrame)\n",
    "\n",
    "filter!(t -> t[:dataset] ∉ pb_datasets, res)\n",
    "\n",
    "res[!,:method] .= map(t -> (t == \"Affine\" ? \"Adaptive LR - Affine\" : t), res[:,:method]) \n",
    "res[!,:method] .= map(t -> (t == \"Finite\" ? \"Adaptive LR - Finite\" : t), res[:,:method]) \n",
    "res[!,:method] .= map(t -> (t == \"Static\" ? \"Adaptive LR - Affine intercept only\" : t), res[:,:method])\n",
    "\n",
    "for method in [\"Complete Features\", \"Imp-then-Reg 1\", \"Imp-then-Reg 2\", \"Imp-then-Reg 3\", \"Imp-then-Reg 4\", \"Imp-then-Reg 5\", \"Joint Imp-then-Reg\", \"Adaptive LR\"]\n",
    "    aux = filter(t -> startswith(t[:method], method), res)\n",
    "    # @show size(aux)\n",
    "    idcols = [:dataset, :SNR, :k, :kMissing, :splitnum]\n",
    "    gd = groupby(aux, idcols)\n",
    "\n",
    "    aux = similar(aux, 0)\n",
    "    for subdf in gd \n",
    "        scoremax = argmax(subdf[:,:score])\n",
    "        push!(aux, subdf[scoremax,names(aux)])\n",
    "    end\n",
    "    aux[!,:method] .= method*\" - best\"\n",
    "\n",
    "    res = vcat(res, aux)\n",
    "end\n",
    "\n",
    "CSV.write(prefix*\"realy/\"*\"FINAL_results.csv\", res)"
   ]
  },
  {
   "cell_type": "code",
   "execution_count": null,
   "metadata": {},
   "outputs": [],
   "source": []
  },
  {
   "cell_type": "markdown",
   "metadata": {},
   "source": [
    "# For Synthetic-Data Experiments"
   ]
  },
  {
   "cell_type": "code",
   "execution_count": null,
   "metadata": {},
   "outputs": [],
   "source": [
    "1+1"
   ]
  },
  {
   "cell_type": "code",
   "execution_count": null,
   "metadata": {},
   "outputs": [],
   "source": [
    "setting = prefix*\"synthetic_discrete/\"\n",
    "# for y_model in [\"linear\", \"tree\", \"nn\"]\n",
    "for y_model in [\"linear\", \"nn\"]\n",
    "    for m_model = [\"mar\", \"censoring\"]\n",
    "        dir = y_model*\"_\"*m_model*\"/\"\n",
    "        directory = setting*dir\n",
    "        \n",
    "        filelist = [f for f in readdir(directory*\"all/\") if endswith(f, \".csv\") && f ∉ [\"all_results.csv\",\"all_results_new.csv\"]]\n",
    "        res = similar(CSV.read(directory*\"all/\"*filelist[1], DataFrame),0)\n",
    "\n",
    "        for subdir = [\"all/\"]\n",
    "            filelist = [f for f in readdir(directory*subdir) if endswith(f, \".csv\") && f ∉ [\"all_results.csv\",\"all_results_new.csv\"]]\n",
    "            @show filelist\n",
    "\n",
    "    #         res = similar(CSV.read(directory*subdir*filelist[1], DataFrame),0)\n",
    "            for i in 1:length(filelist)\n",
    "                aux = CSV.read(directory*subdir*filelist[i], DataFrame)\n",
    "                # if any(aux[:,:kMissing] .> 0)\n",
    "                #     missingproba = unique(aux[aux[:,:pMissing] .> 0,:pMissing])[1]\n",
    "                #     aux[!,:pMissing] .= missingproba\n",
    "                # end\n",
    "                try\n",
    "                    res = vcat(res, aux)\n",
    "                catch \n",
    "                    println(\"Error with \", directory*subdir*filelist[i])\n",
    "                end\n",
    "            end\n",
    "        end\n",
    "\n",
    "        # for subdir = [\"xgb/\"]\n",
    "        #     try \n",
    "        #         filelist = [f for f in readdir(\"xgboost/\"*directory*subdir) if endswith(f, \".csv\")]\n",
    "        #         for i in 1:length(filelist)\n",
    "        #             res = vcat(res, CSV.read(\"xgboost/\"*directory*subdir*filelist[i], DataFrame))\n",
    "        #         end\n",
    "        #     catch \n",
    "        #         println(\"No XGBoost results for \"*directory*subdir)\n",
    "        #     end\n",
    "        # end\n",
    "\n",
    "        res[!,:method] .= map(t -> replace(t, \"Encoding as new category\" => \"Imp-then-Reg 4\"), res[:,:method])\n",
    "        res[!,:method] .= map(t -> replace(t, \"Mode impute\" => \"Imp-then-Reg 5\"), res[:,:method])\n",
    "\n",
    "        # filter!(t -> t[:k] > 0, res) #Remove dataset with only a bias term\n",
    "        res[!,:method_cat] = map(method_category, res[:,:method])\n",
    "        res[!,:X_setting] .= \"syn_X_\"*m_model\n",
    "        res[!,:Y_setting] .= \"syn_Y_\"*y_model\n",
    "\n",
    "        for method in [\"Imp-then-Reg 4\", \"Imp-then-Reg 5\"]\n",
    "            aux = filter(t -> startswith(t[:method], method), res)\n",
    "            # @show nrow(aux)\n",
    "            idcols = [:dataset, :X_setting, :Y_setting, :SNR, :k, :pMissing, :splitnum]\n",
    "            gd = groupby(aux, idcols)\n",
    "\n",
    "            aux = similar(aux, 0)\n",
    "            for subdf in gd \n",
    "                scoremax = argmax(subdf[:,:score])\n",
    "                # @show subdf[scoremax,names(aux)]\n",
    "                push!(aux, subdf[scoremax,names(aux)])\n",
    "            end\n",
    "            aux[!,:method] .= method*\" - best\"\n",
    "\n",
    "            res = vcat(res, aux)\n",
    "        end\n",
    "\n",
    "        CSV.write(directory*\"FINAL_results.csv\", res)   \n",
    "    end\n",
    "end"
   ]
  },
  {
   "cell_type": "code",
   "execution_count": null,
   "metadata": {},
   "outputs": [],
   "source": [
    "setting = prefix*\"synthetic/\"\n",
    "files_with_issues = []\n",
    "# for y_model in [\"linear\", \"tree\", \"nn\"]\n",
    "for y_model in [\"linear\", \"nn\"]\n",
    "    for m_model = [\"mar\", \"censoring\"]\n",
    "        dir = y_model*\"_\"*m_model*\"/\"\n",
    "        directory = setting*dir\n",
    "        filelist = [f for f in readdir(directory*\"all/\") if endswith(f, \".csv\") && f ∉ [\"all_results.csv\",\"all_results_new.csv\"]]\n",
    "        res = similar(CSV.read(directory*\"all/\"*filelist[1], DataFrame),0)\n",
    "        for subdir = [\"all/\"]\n",
    "            filelist = [f for f in readdir(directory*subdir) if endswith(f, \".csv\") && f ∉ [\"all_results.csv\",\"all_results_new.csv\"]]\n",
    "    #         res = similar(CSV.read(directory*subdir*filelist[1], DataFrame),0)\n",
    "            for i in 1:length(filelist)\n",
    "                try\n",
    "                    aux = CSV.read(directory*subdir*filelist[i], DataFrame)\n",
    "                    if any(aux[:,:pMissing] .> 0)\n",
    "                        missingproba = unique(aux[aux[:,:pMissing] .> 0,:pMissing])[1]\n",
    "                        aux[!,:pMissing] .= missingproba\n",
    "                    end\n",
    "                    res = vcat(res, aux)\n",
    "                catch \n",
    "                    println(\"Error with \", directory*subdir*filelist[i])\n",
    "                    push!(files_with_issues, directory*subdir*filelist[i])\n",
    "                end\n",
    "            end\n",
    "        end\n",
    "\n",
    "        # for subdir = [\"xgb/\"]\n",
    "        #     try \n",
    "        #         filelist = [f for f in readdir(\"xgboost/\"*directory*subdir) if endswith(f, \".csv\")]\n",
    "        #         for i in 1:length(filelist)\n",
    "        #             res = vcat(res, CSV.read(\"xgboost/\"*directory*subdir*filelist[i], DataFrame))\n",
    "        #         end\n",
    "        #     catch \n",
    "        #         println(\"No XGBoost results for \"*directory*subdir)\n",
    "        #     end\n",
    "        # end\n",
    "\n",
    "        # filter!(t -> t[:k] > 0, res) #Remove dataset with only a bias term\n",
    "        res[!,:method_cat] = map(method_category, res[:,:method])\n",
    "        res[!,:X_setting] .= \"syn_X_\"*m_model\n",
    "        res[!,:Y_setting] .= \"syn_Y_\"*y_model\n",
    "\n",
    "        for method in [\"Oracle X\", \"Oracle XM\", \"Complete Features\", \"Imp-then-Reg 1\", \"Imp-then-Reg 2\", \"Imp-then-Reg 3\", \"Imp-then-Reg 4\", \"Imp-then-Reg 5\", \"Joint Imp-then-Reg\", \"Adaptive LR\"]\n",
    "            aux = filter(t -> startswith(t[:method], method), res)\n",
    "\n",
    "            idcols = [:dataset, :X_setting, :Y_setting, :SNR, :k, :pMissing, :splitnum]\n",
    "            gd = groupby(aux, idcols)\n",
    "\n",
    "            aux = similar(aux, 0)\n",
    "            for subdf in gd \n",
    "                scoremax = argmax(subdf[:,:score])\n",
    "                push!(aux, subdf[scoremax,names(aux)])\n",
    "            end\n",
    "            aux[!,:method] .= method*\" - best\"\n",
    "\n",
    "            res = vcat(res, aux)\n",
    "        end\n",
    "        \n",
    "        CSV.write(directory*\"FINAL_results.csv\", res)   \n",
    "    end\n",
    "end"
   ]
  },
  {
   "cell_type": "code",
   "execution_count": null,
   "metadata": {},
   "outputs": [],
   "source": [
    "setting"
   ]
  },
  {
   "cell_type": "code",
   "execution_count": null,
   "metadata": {},
   "outputs": [],
   "source": [
    "files_with_issues"
   ]
  },
  {
   "cell_type": "code",
   "execution_count": null,
   "metadata": {},
   "outputs": [],
   "source": [
    "# setting = \"synthetic/\"\n",
    "# # for y_model in [\"linear\", \"tree\", \"nn\"]\n",
    "# for y_model in [\"linear\", \"nn\"]\n",
    "#     for m_model = [\"mar\", \"censoring\"]\n",
    "#         dir = y_model*\"_\"*m_model*\"/\"\n",
    "#         directory = setting*dir\n",
    "        \n",
    "#         filelist = [f for f in readdir(directory*\"final/\") if endswith(f, \".csv\") && f ∉ [\"all_results.csv\",\"all_results_new.csv\"]]\n",
    "#         res = similar(CSV.read(directory*\"final/\"*filelist[1], DataFrame),0)\n",
    "\n",
    "#         for subdir = [\"high_n/\"]\n",
    "#             filelist = [f for f in readdir(directory*subdir) if endswith(f, \".csv\") && f ∉ [\"all_results.csv\",\"all_results_new.csv\"]]\n",
    "#     #         res = similar(CSV.read(directory*subdir*filelist[1], DataFrame),0)\n",
    "#             for i in 1:length(filelist)\n",
    "#                 aux = CSV.read(directory*subdir*filelist[i], DataFrame)\n",
    "#                 if any(aux[:,:pMissing] .> 0)\n",
    "#                     missingproba = unique(aux[aux[:,:pMissing] .> 0,:pMissing])[1]\n",
    "#                     aux[!,:pMissing] .= missingproba\n",
    "#                 end\n",
    "#                 try\n",
    "#                     res = vcat(res, aux)\n",
    "#                 catch \n",
    "#                     println(\"Error with \", directory*subdir*filelist[i])\n",
    "#                 end\n",
    "#             end\n",
    "#         end\n",
    "#         # filter!(t -> t[:k] > 0, res) #Remove dataset with only a bias term\n",
    "#         res[!,:method_cat] = map(method_category, res[:,:method])\n",
    "#         res[!,:X_setting] .= \"syn_X_\"*m_model\n",
    "#         res[!,:Y_setting] .= \"syn_Y_\"*y_model\n",
    "\n",
    "#         CSV.write(directory*\"HIGHN_results.csv\", res)   \n",
    "#     end\n",
    "# end"
   ]
  },
  {
   "cell_type": "code",
   "execution_count": null,
   "metadata": {},
   "outputs": [],
   "source": [
    "1+1"
   ]
  },
  {
   "cell_type": "markdown",
   "metadata": {},
   "source": [
    "Sanity check"
   ]
  },
  {
   "cell_type": "code",
   "execution_count": null,
   "metadata": {
    "collapsed": true
   },
   "outputs": [],
   "source": [
    "df = CSV.read(prefix*\"synthetic/linear_mar/FINAL_results.csv\", DataFrame) \n",
    "df[!,:setting] .= \"1 - Lin-MAR\"\n",
    "\n",
    "aux = CSV.read(prefix*\"synthetic/linear_censoring/FINAL_results.csv\", DataFrame) \n",
    "aux[!,:setting] .= \"2 - Lin-NMAR\"\n",
    "df = vcat(df, aux)\n",
    " \n",
    "# aux = CSV.read(prefix*\"synthetic/tree_mar/FINAL_results.csv\", DataFrame) \n",
    "# aux[!,:setting] .= \"3 - Tree-MAR\"\n",
    "# df = vcat(df, aux)\n",
    "\n",
    "# aux = CSV.read(prefix*\"synthetic/tree_censoring/FINAL_results.csv\", DataFrame) \n",
    "# aux[!,:setting] .= \"4 - Tree-NMAR\"\n",
    "# df = vcat(df, aux)\n",
    "\n",
    "aux = CSV.read(prefix*\"synthetic/nn_mar/FINAL_results.csv\", DataFrame) \n",
    "aux[!,:setting] .= \"5 - NN-MAR\"\n",
    "df = vcat(df, aux)\n",
    "\n",
    "aux = CSV.read(prefix*\"synthetic/nn_censoring/FINAL_results.csv\", DataFrame) \n",
    "aux[!,:setting] .= \"6 - NN-NMAR\"\n",
    "df = vcat(df, aux)\n",
    "\n",
    ";"
   ]
  },
  {
   "cell_type": "code",
   "execution_count": null,
   "metadata": {},
   "outputs": [],
   "source": [
    "df = CSV.read(prefix*\"synthetic_discrete/linear_mar/FINAL_results.csv\", DataFrame) \n",
    "df[!,:setting] .= \"1 - Lin-MAR\"\n",
    "\n",
    "aux = CSV.read(prefix*\"synthetic_discrete/linear_censoring/FINAL_results.csv\", DataFrame) \n",
    "aux[!,:setting] .= \"2 - Lin-NMAR\"\n",
    "df = vcat(df, aux)\n",
    " \n",
    "# aux = CSV.read(prefix*\"synthetic_discrete/tree_mar/FINAL_results.csv\", DataFrame) \n",
    "# aux[!,:setting] .= \"3 - Tree-MAR\"\n",
    "# df = vcat(df, aux)\n",
    "\n",
    "# aux = CSV.read(prefix*\"synthetic_discrete/tree_censoring/FINAL_results.csv\", DataFrame) \n",
    "# aux[!,:setting] .= \"4 - Tree-NMAR\"\n",
    "# df = vcat(df, aux)\n",
    "\n",
    "aux = CSV.read(prefix*\"synthetic_discrete/nn_mar/FINAL_results.csv\", DataFrame) \n",
    "aux[!,:setting] .= \"5 - NN-MAR\"\n",
    "df = vcat(df, aux)\n",
    "\n",
    "aux = CSV.read(prefix*\"synthetic_discrete/nn_censoring/FINAL_results.csv\", DataFrame) \n",
    "aux[!,:setting] .= \"6 - NN-NMAR\"\n",
    "df = vcat(df, aux)"
   ]
  },
  {
   "cell_type": "code",
   "execution_count": null,
   "metadata": {
    "collapsed": true
   },
   "outputs": [],
   "source": [
    "combine(groupby(df, [:dataset, :method, :setting]), nrow)"
   ]
  },
  {
   "cell_type": "code",
   "execution_count": null,
   "metadata": {
    "collapsed": true
   },
   "outputs": [],
   "source": [
    "unique(combine(groupby(df, [:dataset, :method, :setting]), nrow)[:,:nrow])"
   ]
  },
  {
   "cell_type": "code",
   "execution_count": null,
   "metadata": {
    "collapsed": true
   },
   "outputs": [],
   "source": [
    "filter( t-> t[:nrow] < 90, combine(groupby(res, [:dataset, :method, :setting]), nrow))"
   ]
  },
  {
   "cell_type": "code",
   "execution_count": null,
   "metadata": {
    "collapsed": true
   },
   "outputs": [],
   "source": [
    "pbdata = unique(filter( t -> t[:nrow] < 90, combine(groupby(df, [:dataset, :method, :setting]), nrow))[:,[:method, :setting, :dataset]])"
   ]
  },
  {
   "cell_type": "code",
   "execution_count": null,
   "metadata": {
    "collapsed": true
   },
   "outputs": [],
   "source": [
    "aux = filter( t -> t[:dataset] ∈ pbdata && t[:nrow] < 10, combine(groupby(df, [:dataset, :method, :setting, :pMissing]), nrow))\n",
    "unique(aux[:,[:dataset, :setting, :pMissing, :nrow]])"
   ]
  },
  {
   "cell_type": "code",
   "execution_count": null,
   "metadata": {
    "collapsed": true
   },
   "outputs": [],
   "source": [
    "filter(t -> t[:pMissing] == 0.1, unique(aux[:,[:dataset, :setting, :pMissing, :nrow]]))"
   ]
  },
  {
   "cell_type": "code",
   "execution_count": null,
   "metadata": {
    "collapsed": true
   },
   "outputs": [],
   "source": [
    "filter(t -> t[:pMissing] == 0.3, unique(aux[:,[:dataset, :setting, :pMissing, :nrow]]))"
   ]
  },
  {
   "cell_type": "code",
   "execution_count": null,
   "metadata": {
    "collapsed": true
   },
   "outputs": [],
   "source": [
    "filter(t -> startswith(t[:setting], \"5\"), unique(aux[:,[:dataset, :setting, :pMissing, :nrow]]))"
   ]
  }
 ],
 "metadata": {
  "@webio": {
   "lastCommId": null,
   "lastKernelId": null
  },
  "kernelspec": {
   "display_name": "Julia 1.9.3",
   "language": "julia",
   "name": "julia-1.9"
  },
  "language_info": {
   "file_extension": ".jl",
   "mimetype": "application/julia",
   "name": "julia",
   "version": "1.9.3"
  }
 },
 "nbformat": 4,
 "nbformat_minor": 2
}
