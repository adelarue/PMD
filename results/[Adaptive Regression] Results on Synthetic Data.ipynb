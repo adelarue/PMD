{
 "cells": [
  {
   "cell_type": "code",
   "execution_count": 32,
   "metadata": {},
   "outputs": [
    {
     "data": {
      "text/plain": [
       "se (generic function with 1 method)"
      ]
     },
     "metadata": {},
     "output_type": "display_data"
    }
   ],
   "source": [
    "using CSV, DataFrames, Statistics\n",
    "using Plots, StatsPlots\n",
    "using ColorSchemes, Measures\n",
    "\n",
    "function se(x)\n",
    "    std(x)/sqrt(length(x))\n",
    "end"
   ]
  },
  {
   "cell_type": "code",
   "execution_count": 33,
   "metadata": {},
   "outputs": [],
   "source": [
    "df = similar(CSV.read(\"aistats-rev/synthetic/\"*\"linear_mar/\"*\"FINAL_results.csv\", DataFrame),0)\n",
    "for dir = [\"linear_mar/\", \"linear_censoring/\", \"nn_mar/\", \"nn_censoring/\"]\n",
    "    directory = \"aistats-rev/\"*\"synthetic/\"*dir\n",
    "    df = vcat(df, CSV.read(directory*\"FINAL_results.csv\", DataFrame)[:,names(df)])\n",
    "end"
   ]
  },
  {
   "cell_type": "markdown",
   "metadata": {},
   "source": [
    "#### Formatting Fixing"
   ]
  },
  {
   "cell_type": "code",
   "execution_count": null,
   "metadata": {},
   "outputs": [],
   "source": [
    "df[!,:n] .= map(t -> parse(Int,split(t,\"_\")[2]), df[:,:dataset]) ;\n",
    "df[isnan.(df[:,:r2]),:r2] .= 0.\n",
    "df[isnan.(df[:,:osr2]),:osr2] .= 0.\n",
    "\n",
    "filter!(t -> t[:pMissing] <= 0.8, df)\n",
    "filter!(t -> t[:n] > 20, df) ;\n",
    "\n",
    "# df[!,:method] .= map(t -> replace(t, \"Imp-then-Reg 4\" => \"Mean Impute-then-Regress\"), df[:,:method])\n",
    "# df[!,:method] .= map(t -> replace(t, \"Imp-then-Reg 2\" => \"mice Impute-then-Regress\"), df[:,:method])\n",
    "# df[!,:method] .= map(t -> replace(t, \"Joint Imp-then-Reg\" => \"Joint Impute-then-Regress\"), df[:,:method])\n",
    "# df[!,:method] .= map(t -> replace(t, \"Static\" => \"Adaptive LR - Affine intercept\"), df[:,:method]) ;"
   ]
  },
  {
   "cell_type": "markdown",
   "metadata": {},
   "source": [
    "#### Rename methods and generate the ``best'' variants"
   ]
  },
  {
   "cell_type": "code",
   "execution_count": null,
   "metadata": {},
   "outputs": [],
   "source": [
    "#Rename methods\n",
    "df[!,:method] .= map(t -> replace(t, \"Imp-then-Reg 4\" => \"Mean Impute-then-Regress\"), df[:,:method])\n",
    "df[!,:method] .= map(t -> replace(t, \"Imp-then-Reg 2\" => \"mice Impute-then-Regress\"), df[:,:method])\n",
    "\n",
    "df[!,:method] .= map(t -> replace(t, \"Joint Imp-then-Reg\" => \"Joint Impute-then-Regress\"), df[:,:method])\n",
    "\n",
    "df[!,:method] .= map(t -> replace(t, \"Affine\" => \"Adaptive LR - Affine\"), df[:,:method]) ;\n",
    "df[!,:method] .= map(t -> replace(t, \"Finite\" => \"Adaptive LR - Finite\"), df[:,:method]) ;\n",
    "df[!,:method] .= map(t -> replace(t, \"Static\" => \"Adaptive LR - Affine intercept only\"), df[:,:method]) ;"
   ]
  },
  {
   "cell_type": "code",
   "execution_count": null,
   "metadata": {},
   "outputs": [],
   "source": [
    "for method in [\"Adaptive LR\"]\n",
    "    aux = filter(t -> startswith(t[:method], method), df)\n",
    "    # @show size(aux)\n",
    "    idcols = [:dataset, :X_setting, :Y_setting, :n, :SNR, :k, :pMissing, :splitnum]\n",
    "    gd = groupby(aux, idcols)\n",
    "\n",
    "    aux = similar(aux, 0)\n",
    "    for subdf in gd \n",
    "        scoremax = argmax(subdf[:,:score])\n",
    "        push!(aux, subdf[scoremax,names(aux)])\n",
    "    end\n",
    "    aux[!,:method] .= method*\" - best\"\n",
    "\n",
    "    df = vcat(df, aux)\n",
    "end"
   ]
  },
  {
   "cell_type": "markdown",
   "metadata": {},
   "source": [
    "## Section 3: Evaluation of joint impute-then-regress strategies"
   ]
  },
  {
   "cell_type": "markdown",
   "metadata": {},
   "source": [
    "#### Figure 1: Plot R2 vs pMissing, linear Y, adaptive LR vs. heuristic for joint"
   ]
  },
  {
   "cell_type": "markdown",
   "metadata": {},
   "source": [
    "Linear Y"
   ]
  },
  {
   "cell_type": "code",
   "execution_count": null,
   "metadata": {},
   "outputs": [],
   "source": [
    "df_lin = filter(t-> t[:Y_setting] == \"syn_Y_linear\", df)\n",
    "filter!(t -> t[:method] ∈ [\"Adaptive LR - Affine intercept only\", \n",
    "        \"Joint Impute-then-Regress - best\", \n",
    "        \"Mean Impute-then-Regress - best\"], df_lin)\n",
    "\n",
    "\n",
    "gd = groupby(df_lin, [:pMissing, :method, :X_setting])\n",
    "stats = combine(gd, :osr2 .=> [mean, se]) ;"
   ]
  },
  {
   "cell_type": "code",
   "execution_count": null,
   "metadata": {},
   "outputs": [],
   "source": [
    "@df filter(t -> t[:X_setting] == \"syn_X_mar\", stats) groupedbar(:pMissing, :osr2_mean, \n",
    "    yerr=:osr2_se, group=:method, legend=:bottomleft, \n",
    "    guidefontsize=12, tickfontsize=12, legendfontsize=11,\n",
    "    color = [pal[3] pal[1] pal[2]])\n",
    "xaxis!(\"Fraction of missing entries\")\n",
    "yaxis!(\"Out-of-sample R2\", ylims=(0.2,0.72))"
   ]
  },
  {
   "cell_type": "code",
   "execution_count": null,
   "metadata": {},
   "outputs": [],
   "source": [
    "mkpath(\"../figures/adaptive_regression/validation\")\n",
    "Plots.savefig(\"../figures/adaptive_regression/validation/synthetic_linearY_mar.pdf\")"
   ]
  },
  {
   "cell_type": "code",
   "execution_count": null,
   "metadata": {},
   "outputs": [],
   "source": [
    "@df filter(t -> t[:X_setting] == \"syn_X_censoring\", stats) groupedbar(:pMissing, :osr2_mean, \n",
    "    yerr=:osr2_se, group=:method, legend=:bottomleft,\n",
    "    guidefontsize=12, tickfontsize=12, legendfontsize=11,\n",
    "    color = [pal[3] pal[1] pal[2]])\n",
    "xaxis!(\"Fraction of missing entries\")\n",
    "yaxis!(\"Out-of-sample R2\", ylims=(0.2,0.72))"
   ]
  },
  {
   "cell_type": "code",
   "execution_count": null,
   "metadata": {},
   "outputs": [],
   "source": [
    "Plots.savefig(\"../figures/adaptive_regression/validation/synthetic_linearY_censoring.pdf\")"
   ]
  },
  {
   "cell_type": "markdown",
   "metadata": {},
   "source": [
    "NN Y"
   ]
  },
  {
   "cell_type": "code",
   "execution_count": null,
   "metadata": {},
   "outputs": [],
   "source": [
    "df_nn = filter(t-> t[:Y_setting] == \"syn_Y_nn\", df)\n",
    "filter!(t -> t[:method] ∈ [ \n",
    "        \"Joint Impute-then-Regress - best\", \n",
    "        \"Mean Impute-then-Regress - best\"], df_nn)\n",
    "\n",
    "gd = groupby(df_nn, [:pMissing, :method, :X_setting])\n",
    "stats = combine(gd, :osr2 .=> [mean, se])"
   ]
  },
  {
   "cell_type": "code",
   "execution_count": null,
   "metadata": {},
   "outputs": [],
   "source": [
    "@df filter(t -> t[:X_setting] == \"syn_X_mar\", stats) groupedbar(:pMissing, :osr2_mean, \n",
    "    yerr=:osr2_se, group=:method, legend=:bottomleft,\n",
    "    guidefontsize=12, tickfontsize=12, legendfontsize=11,\n",
    "    color = [pal[1] pal[2]])\n",
    "xaxis!(\"Fraction of missing entries\")\n",
    "yaxis!(\"Out-of-sample R2\", ylims=(0,0.55))"
   ]
  },
  {
   "cell_type": "code",
   "execution_count": null,
   "metadata": {},
   "outputs": [],
   "source": [
    "Plots.savefig(\"../figures/adaptive_regression/validation/synthetic_nnY_mar.pdf\")"
   ]
  },
  {
   "cell_type": "code",
   "execution_count": null,
   "metadata": {},
   "outputs": [],
   "source": [
    "@df filter(t -> t[:X_setting] == \"syn_X_censoring\", stats) groupedbar(:pMissing, :osr2_mean, yerr=:osr2_se, \n",
    "    group=:method, legend=:bottomleft, \n",
    "    guidefontsize=12, tickfontsize=12, legendfontsize=11,\n",
    "    color = [pal[1] pal[2]])\n",
    "xaxis!(\"Fraction of missing entries\")\n",
    "yaxis!(\"Out-of-sample R2\", ylims=(0.3,0.58))"
   ]
  },
  {
   "cell_type": "code",
   "execution_count": null,
   "metadata": {},
   "outputs": [],
   "source": [
    "Plots.savefig(\"../figures/adaptive_regression/validation/synthetic_nnY_censoring.pdf\")"
   ]
  },
  {
   "cell_type": "markdown",
   "metadata": {},
   "source": [
    "#### Output 2: Summary Table"
   ]
  },
  {
   "cell_type": "code",
   "execution_count": null,
   "metadata": {},
   "outputs": [],
   "source": [
    "subdf = filter(t -> t[:method] ∈ [ \"Adaptive LR - best\", \n",
    "        \"CART MIA\", \n",
    "        \"RF MIA\",\n",
    "        \"XGBoost\",\n",
    "        \"Joint Impute-then-Regress - best\", \n",
    "        \"Mean Impute-then-Regress - best\", \n",
    "        \"mice Impute-then-Regress - best\"], \n",
    "    df)\n",
    "\n",
    "filter!(t -> t[:pMissing] < 0.9, subdf)\n",
    "filter!(t -> t[:n] <= 1000, subdf)\n",
    "\n",
    "gd = groupby(subdf, [:X_setting, :Y_setting, :method])\n",
    "stats = combine(gd, :osr2 .=> [mean, se])"
   ]
  },
  {
   "cell_type": "code",
   "execution_count": null,
   "metadata": {},
   "outputs": [],
   "source": [
    "s = \"\"\n",
    "for m in sort(unique(stats[:,:method]))\n",
    "    aux = filter(t->t[:method]==m, stats)\n",
    "    s *= m*\" & \"\n",
    "    for x in [\"syn_X_mar\", \"syn_X_censoring\"]\n",
    "        for y in \"syn_Y_\".*[\"linear\", \"nn\"]\n",
    "            r1 = filter(t -> t[:Y_setting] == y && t[:X_setting] == x, aux)[1,:osr2_mean]\n",
    "            s *= string(round(r1, digits=3))\n",
    "            r1 = filter(t -> t[:Y_setting] == y && t[:X_setting] == x, aux)[1,:osr2_se]\n",
    "            s *= string(\" (\",round(r1, digits=3), \") & \")\n",
    "        end\n",
    "    end\n",
    "    s *= \" \\\\\\\\ \\n\"\n",
    "end\n",
    "print(s)"
   ]
  },
  {
   "cell_type": "code",
   "execution_count": null,
   "metadata": {},
   "outputs": [],
   "source": [
    "sort(unique(subdf[:,:n]))"
   ]
  },
  {
   "cell_type": "code",
   "execution_count": null,
   "metadata": {},
   "outputs": [],
   "source": []
  }
 ],
 "metadata": {
  "@webio": {
   "lastCommId": null,
   "lastKernelId": null
  },
  "kernelspec": {
   "display_name": "Julia 1.9.3",
   "language": "julia",
   "name": "julia-1.9"
  },
  "language_info": {
   "file_extension": ".jl",
   "mimetype": "application/julia",
   "name": "julia",
   "version": "1.9.3"
  }
 },
 "nbformat": 4,
 "nbformat_minor": 2
}
