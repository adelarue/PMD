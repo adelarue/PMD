{
 "cells": [
  {
   "cell_type": "code",
   "execution_count": null,
   "metadata": {},
   "outputs": [],
   "source": [
    "using CSV, DataFrames, Plots, StatsPlots, Statistics"
   ]
  },
  {
   "cell_type": "code",
   "execution_count": null,
   "metadata": {},
   "outputs": [],
   "source": [
    "directory = \"nmar_outliers/\"\n",
    "filelist = [f for f in readdir(directory) if endswith(f, \".csv\")]\n",
    "res = similar(DataFrame(CSV.read(directory*filelist[1])),0)\n",
    "for i in 1:length(filelist)\n",
    "    res = vcat(res, DataFrame(CSV.read(directory*filelist[i])))\n",
    "end\n",
    "res[!,:method_cat] = map(t -> startswith(t,\"Imp-then-Reg\") ? \"Imp-then-Reg\" : t, res[:,:method]);"
   ]
  },
  {
   "cell_type": "code",
   "execution_count": null,
   "metadata": {},
   "outputs": [],
   "source": [
    "res = res[.!isnan.(res[:,:osr2]), :]"
   ]
  },
  {
   "cell_type": "code",
   "execution_count": null,
   "metadata": {},
   "outputs": [],
   "source": [
    "@show length(unique(res[:,:dataset]))"
   ]
  },
  {
   "cell_type": "code",
   "execution_count": null,
   "metadata": {},
   "outputs": [],
   "source": [
    "dataset_list = [d for d in readdir(\"../datasets/\") if length(d) > 0 && d != \".DS_Store\"]\n",
    "setdiff(dataset_list, unique(res[:,:dataset]))"
   ]
  },
  {
   "cell_type": "code",
   "execution_count": null,
   "metadata": {},
   "outputs": [],
   "source": [
    "intersect(dataset_list, unique(res[:,:dataset]))"
   ]
  },
  {
   "cell_type": "code",
   "execution_count": null,
   "metadata": {},
   "outputs": [],
   "source": [
    "setdiff(    filter(t -> t[:method] == \"Imp-then-Reg 1\", res)[:, :dataset],\n",
    "            filter(t -> t[:method] == \"Affine\", res)[:, :dataset])"
   ]
  },
  {
   "cell_type": "markdown",
   "metadata": {},
   "source": [
    "## Claim 1: Mode-imputation does not help\n"
   ]
  },
  {
   "cell_type": "code",
   "execution_count": null,
   "metadata": {},
   "outputs": [],
   "source": [
    "#Select only datasets where at least one missing categorical feature\n",
    "pattern_count_all = DataFrame(CSV.read(\"pattern_counts_allfeat.csv\"))[:,[:Name,:n,:p,:p_miss]]\n",
    "rename!(pattern_count_all, :p_miss => :p_miss_all)\n",
    "pattern_count_num = DataFrame(CSV.read(\"pattern_counts_numonly.csv\"))[:,[:Name,:p_miss]]\n",
    "rename!(pattern_count_num, :p_miss => :p_miss_num)\n",
    "relevant_data = join(pattern_count_all, pattern_count_num, on=:Name)\n",
    "filter!(t -> t[:p_miss_all] > t[:p_miss_num], relevant_data)\n",
    "relevant_data[!,:p_miss_cat] = relevant_data[:,:p_miss_all] .- relevant_data[:,:p_miss_num]\n",
    "relevant_data"
   ]
  },
  {
   "cell_type": "code",
   "execution_count": null,
   "metadata": {},
   "outputs": [],
   "source": [
    "mi_res = deepcopy(res)\n",
    "# @show length(unique(mi_res[:,:dataset]))\n",
    "filter!( t -> t[:dataset] ∈ unique(relevant_data[:,:Name]), mi_res)\n",
    "# @show length(unique(mi_res[:,:dataset]))\n",
    "save = unique(mi_res[:,:dataset])\n",
    "filter!(t -> t[:method] ∈ [\"Imp-then-Reg 4\", \"Imp-then-Reg 5\"], mi_res)\n",
    "# @show length(unique(mi_res[:,:dataset]))\n",
    "# @show setdiff(save, unique(mi_res[:,:dataset]))\n",
    "select!(mi_res, Not([:method_cat]))\n",
    "mi_res[!,:method] = map( t -> t == \"Imp-then-Reg 4\" ? \"Missing_Indicator\" : \"Mode_Impute\", mi_res[:,:method]);\n",
    "# mi_res[mi_res[:,:osr2] .< 0,:osr2] .= 0."
   ]
  },
  {
   "cell_type": "code",
   "execution_count": null,
   "metadata": {},
   "outputs": [],
   "source": [
    "setdiff(intersect(relevant_data[:,:Name], res[:,:dataset]), unique(mi_res[:,:dataset]))"
   ]
  },
  {
   "cell_type": "code",
   "execution_count": null,
   "metadata": {},
   "outputs": [],
   "source": [
    "setdiff(    filter(t -> t[:method] == \"Imp-then-Reg 4\", res)[:, :dataset],\n",
    "            filter(t -> t[:method] == \"Imp-then-Reg 5\", res)[:, :dataset])"
   ]
  },
  {
   "cell_type": "code",
   "execution_count": null,
   "metadata": {},
   "outputs": [],
   "source": [
    "#filter!(row -> row[:k] == 5 && row[:kMissing] == 1, mi_res)"
   ]
  },
  {
   "cell_type": "code",
   "execution_count": null,
   "metadata": {
    "scrolled": true
   },
   "outputs": [],
   "source": [
    "mi_wide = unstack(mi_res, [:dataset, :splitnum, :k, :kMissing], :method, :osr2)\n",
    "dropmissing!(mi_wide); #TO DO: Check for which dataset/splits this is needed. Should not be "
   ]
  },
  {
   "cell_type": "code",
   "execution_count": null,
   "metadata": {},
   "outputs": [],
   "source": [
    "names(mi_wide)"
   ]
  },
  {
   "cell_type": "code",
   "execution_count": null,
   "metadata": {},
   "outputs": [],
   "source": [
    "mi_wide[!, :wins] = 1.0 .* (mi_wide[:,:Missing_Indicator] .> mi_wide[:,:Mode_Impute])\n",
    "mi_wide[!, :improvement] = mi_wide[:,:Missing_Indicator] .- mi_wide[:,:Mode_Impute] \n",
    "mi_wide[!, :rel_improvement] = mi_wide[:, :improvement] ./ abs.(mi_wide[:,:Mode_Impute]);"
   ]
  },
  {
   "cell_type": "code",
   "execution_count": null,
   "metadata": {},
   "outputs": [],
   "source": [
    "#Question: Should we average results over each data set before counting improvement?\n",
    "select!(mi_wide, Not(:splitnum))\n",
    "mi_wide = aggregate(mi_wide, [:dataset, :k, :kMissing], mean)\n",
    "rename!(mi_wide, \n",
    "        [(:Missing_Indicator_mean => :Missing_Indicator), (:Mode_Impute_mean => :Mode_Impute),\n",
    "        (:wins_mean => :wins_splitlevel),\n",
    "        (:improvement_mean => :improvement_splitlevel), (:rel_improvement_mean => :rel_improvement_splitlevel)]\n",
    ")\n",
    "\n",
    "mi_wide[!, :wins] = 1.0 .* (mi_wide[:,:Missing_Indicator] .> mi_wide[:,:Mode_Impute])\n",
    "mi_wide[!, :improvement] = mi_wide[:,:Missing_Indicator] .- mi_wide[:,:Mode_Impute] \n",
    "mi_wide[!, :rel_improvement] = mi_wide[:, :improvement] ./ abs.(mi_wide[:,:Mode_Impute]);"
   ]
  },
  {
   "cell_type": "code",
   "execution_count": null,
   "metadata": {},
   "outputs": [],
   "source": [
    "@show mean(mi_wide[:,:wins_splitlevel])\n",
    "@show mean(mi_wide[:,:wins])\n",
    "@show sum(mi_wide[:,:wins])"
   ]
  },
  {
   "cell_type": "code",
   "execution_count": null,
   "metadata": {},
   "outputs": [],
   "source": [
    "function iqr(l)\n",
    "    return quantile(l, .75), quantile(l, .25)\n",
    "end"
   ]
  },
  {
   "cell_type": "code",
   "execution_count": null,
   "metadata": {},
   "outputs": [],
   "source": [
    "mi_wide[isnan.(mi_wide[:,:improvement]),:]"
   ]
  },
  {
   "cell_type": "code",
   "execution_count": null,
   "metadata": {},
   "outputs": [],
   "source": [
    "res[isnan.(res[:,:osr2]),:]"
   ]
  },
  {
   "cell_type": "code",
   "execution_count": null,
   "metadata": {},
   "outputs": [],
   "source": [
    "metric = :rel_improvement\n",
    "μ = median(mi_wide[mi_wide[:,:improvement] .> 0,metric])\n",
    "CI = std(mi_wide[mi_wide[:,:improvement] .> 0,metric]) / sqrt(sum(mi_wide[:,:improvement] .> 0))\n",
    "IQR = iqr(mi_wide[mi_wide[:,:improvement] .> 0,metric])\n",
    "@show μ, CI, IQR"
   ]
  },
  {
   "cell_type": "code",
   "execution_count": null,
   "metadata": {},
   "outputs": [],
   "source": [
    "μ = -median(mi_wide[mi_wide[:,:improvement] .< 0,metric])\n",
    "CI = std(mi_wide[mi_wide[:,:improvement] .< 0,metric]) / sqrt(sum(mi_wide[:,:improvement] .< 0))\n",
    "IQR = iqr(mi_wide[mi_wide[:,:improvement] .< 0,metric])\n",
    "@show μ, CI, IQR"
   ]
  },
  {
   "cell_type": "code",
   "execution_count": null,
   "metadata": {},
   "outputs": [],
   "source": [
    "μ = mean(mi_wide[!,metric])\n",
    "CI = std(mi_wide[!,metric]) / sqrt(nrow(mi_wide))\n",
    "IQR = iqr(mi_wide[!,metric])\n",
    "@show μ, CI, IQR"
   ]
  },
  {
   "cell_type": "code",
   "execution_count": null,
   "metadata": {},
   "outputs": [],
   "source": [
    "mi_wide[:,:wins_splitlevel]"
   ]
  },
  {
   "cell_type": "code",
   "execution_count": null,
   "metadata": {},
   "outputs": [],
   "source": [
    "mi_augmented = join(mi_wide, rename(relevant_data, :Name => :dataset), on=:dataset)\n",
    "mi_augmented[!,:prop_miss_cat] = 1.0 .* mi_augmented[:,:p_miss_cat] ./ mi_augmented[:,:p_miss_all]\n",
    "mi_augmented[!,:prop_miss_cat2] = 1.0 .* mi_augmented[:,:p_miss_cat] ./ mi_augmented[:,:p]\n",
    "mi_augmented[!,:wins] = map( t -> (t > 0) ? :blue : :red, mi_augmented[:,:wins]);"
   ]
  },
  {
   "cell_type": "code",
   "execution_count": null,
   "metadata": {},
   "outputs": [],
   "source": [
    "@df mi_augmented scatter(:prop_miss_cat2, :improvement, color=:wins, legend=:none)"
   ]
  },
  {
   "cell_type": "code",
   "execution_count": null,
   "metadata": {},
   "outputs": [],
   "source": [
    "mi_augmented[:,[:dataset,:Mode_Impute, :Missing_Indicator,:rel_improvement]]"
   ]
  },
  {
   "cell_type": "markdown",
   "metadata": {},
   "source": [
    "## Claim 2: Mean-imputation is good\n"
   ]
  },
  {
   "cell_type": "code",
   "execution_count": null,
   "metadata": {},
   "outputs": [],
   "source": [
    "#Select only datasets where at least one missing numerical feature\n",
    "pattern_count_num = DataFrame(CSV.read(\"pattern_counts_numonly.csv\"))[:,[:Name,:n,:p,:p_miss]]\n",
    "rename!(pattern_count_num, :p_miss => :p_miss_num)\n",
    "filter!(t -> t[:p_miss_num] > 0, pattern_count_num)"
   ]
  },
  {
   "cell_type": "code",
   "execution_count": null,
   "metadata": {},
   "outputs": [],
   "source": [
    "for d in unique(res[:,:dataset])\n",
    "    aux = filter(t-> t[:dataset] == d, res)\n",
    "    filter!(t-> t[:method_cat] == \"Imp-then-Reg\", aux)\n",
    "    if size(aux,1) == 0\n",
    "        @show d\n",
    "    end\n",
    "end"
   ]
  },
  {
   "cell_type": "code",
   "execution_count": null,
   "metadata": {},
   "outputs": [],
   "source": [
    "itr_res = deepcopy(res)\n",
    "@show length(unique(itr_res[:,:dataset]))\n",
    "filter!(t -> t[:dataset] ∈ unique(pattern_count_num[:,:Name]), itr_res) #filter datasets\n",
    "@show length(unique(itr_res[:,:dataset]))\n",
    "filter!(t -> t[:method_cat] == \"Imp-then-Reg\", itr_res) #compare only impute-then-regress\n",
    "@show length(unique(itr_res[:,:dataset]))\n",
    "filter!(t -> t[:method] != \"Imp-then-Reg 5\", itr_res) #remove mode impute\n",
    "select!(itr_res, Not(:method_cat))\n",
    "\n",
    "select!(itr_res, Not(:splitnum))\n",
    "itr_res = aggregate(itr_res, [:dataset, :method, :k, :kMissing], mean)\n",
    "@show length(unique(itr_res[:,:dataset]))\n",
    "rename!(itr_res, :osr2_mean => :osr2)"
   ]
  },
  {
   "cell_type": "code",
   "execution_count": null,
   "metadata": {},
   "outputs": [],
   "source": [
    "itr_res[!,:osr2] .= round.(itr_res[:,:osr2], digits=4)\n",
    "itr_best = by(itr_res, [:dataset, :k, :kMissing]) do df\n",
    "    DataFrame(results = [sort(unique(df[:,:osr2]), rev=true)])\n",
    "end\n",
    "@show length(unique(itr_best[:,:dataset]))"
   ]
  },
  {
   "cell_type": "code",
   "execution_count": null,
   "metadata": {},
   "outputs": [],
   "source": [
    "itr_res = join(itr_res, itr_best, on = [:dataset, :k, :kMissing])\n",
    "@show length(unique(itr_res[:,:dataset]))\n",
    "\n",
    "rank = zeros(size(itr_res,1))\n",
    "for i in 1:size(itr_res,1)\n",
    "    rank[i] = findfirst(itr_res[i,:osr2] .== itr_res[i,:results])\n",
    "end\n",
    "itr_res[!,:rank] = rank\n",
    "itr_res[!,:wins] = 1 .* (itr_res[:,:rank] .== 1)\n",
    "select!(itr_res, Not(:results))\n",
    "itr_res\n",
    "@show length(unique(itr_res[:,:dataset]))"
   ]
  },
  {
   "cell_type": "code",
   "execution_count": null,
   "metadata": {},
   "outputs": [],
   "source": [
    "aggregate(itr_res[:,[:method,:wins]], :method, sum)"
   ]
  },
  {
   "cell_type": "code",
   "execution_count": null,
   "metadata": {},
   "outputs": [],
   "source": [
    "aggregate(itr_res[:,[:method,:rank]], :method, t -> sum(t.>0))"
   ]
  },
  {
   "cell_type": "code",
   "execution_count": null,
   "metadata": {},
   "outputs": [],
   "source": [
    "itr_res"
   ]
  },
  {
   "cell_type": "code",
   "execution_count": null,
   "metadata": {},
   "outputs": [],
   "source": [
    "pairwise_wins = unstack(itr_res, [:dataset, :k, :kMissing], :method, :osr2)\n",
    "methods = Symbol.([\"Imp-then-Reg 1\", \"Imp-then-Reg 2\", \"Imp-then-Reg 3\", \"Imp-then-Reg 4\"])\n",
    "for (i, m1) in enumerate(methods), (j, m2) in enumerate(methods)\n",
    "    if m1 != m2\n",
    "        pairwise_wins[!, Symbol(\"V$(i)_beats_V$(j)\")] = pairwise_wins[!, m1] .> pairwise_wins[!, m2]\n",
    "    end\n",
    "end\n",
    "dropmissing!(pairwise_wins)\n",
    "desc = DataFrames.describe(pairwise_wins)\n",
    "filter!(row -> row[:variable] != :dataset, desc)\n",
    "desc[!, :sum] = nrow(pairwise_wins) * desc[!, :mean]\n",
    "@show nrow(pairwise_wins)\n",
    "select(desc, [:variable, :sum])"
   ]
  },
  {
   "cell_type": "code",
   "execution_count": null,
   "metadata": {},
   "outputs": [],
   "source": [
    "desc"
   ]
  },
  {
   "cell_type": "code",
   "execution_count": null,
   "metadata": {},
   "outputs": [],
   "source": [
    "for m1 in unique(itr_res[:,:method])\n",
    "    aux1 = filter(t-> t[:method] == m1, itr_res)\n",
    "    for m2 in unique(itr_res[:,:method])\n",
    "        if m1 != m2\n",
    "            aux2 = filter(t-> t[:method] == m2, itr_res)\n",
    "            wincount = 0 \n",
    "            for d in unique(itr_res[:,:dataset])\n",
    "                if aux1[findfirst(aux1[:,:dataset] .== d),:rank] < aux2[findfirst(aux2[:,:dataset] .== d),:rank]\n",
    "                    wincount += 1\n",
    "                end\n",
    "            end \n",
    "            println(\"$m1 wins over $m2 in $wincount instances\")\n",
    "        end\n",
    "    end\n",
    "    println()\n",
    "end"
   ]
  },
  {
   "cell_type": "code",
   "execution_count": null,
   "metadata": {},
   "outputs": [],
   "source": [
    "using StatsBase"
   ]
  },
  {
   "cell_type": "code",
   "execution_count": null,
   "metadata": {},
   "outputs": [],
   "source": [
    "stack(itr_res[:,[:method, :rank]], :method, t-> sum(t .> 0))"
   ]
  },
  {
   "cell_type": "code",
   "execution_count": null,
   "metadata": {},
   "outputs": [],
   "source": []
  },
  {
   "cell_type": "code",
   "execution_count": null,
   "metadata": {},
   "outputs": [],
   "source": [
    "distr_rank = by(itr_res, :method) do df\n",
    "    [sum(df[:,:rank].==1) (sum(df[:,:rank].==2)) (sum(df[:,:rank].==3)) (sum(df[:,:rank].==4))]\n",
    "end\n",
    "\n",
    "groupedbar(Matrix(distr_rank[:,2:end])', bar_position = :dodge, fill=.7, label=[\"V1\" \"V2\" \"V3\" \"V4\"], size= (800,400))\n",
    "xaxis!(\"Rank\")\n",
    "yaxis!(\"Count\")\n",
    "# savefig(\"nmar_outliers_imputethenreg_freq.png\")"
   ]
  },
  {
   "cell_type": "code",
   "execution_count": null,
   "metadata": {},
   "outputs": [],
   "source": []
  },
  {
   "cell_type": "code",
   "execution_count": null,
   "metadata": {},
   "outputs": [],
   "source": [
    "union(unique(itr_res[:,:dataset]), unique(mi_wide[:,:dataset]))"
   ]
  },
  {
   "cell_type": "markdown",
   "metadata": {},
   "source": [
    "## Claim 3: Compare our approach to state-of-the-art"
   ]
  },
  {
   "cell_type": "code",
   "execution_count": null,
   "metadata": {},
   "outputs": [],
   "source": [
    "#Select only datasets where at least one missing numerical feature\n",
    "pattern_count_num = DataFrame(CSV.read(\"pattern_counts_numonly.csv\"))[:,[:Name,:p_miss]]\n",
    "rename!(pattern_count_num, :p_miss => :p_miss_num)\n",
    "filter!(t -> t[:p_miss_num] > 0, pattern_count_num)"
   ]
  },
  {
   "cell_type": "code",
   "execution_count": null,
   "metadata": {},
   "outputs": [],
   "source": [
    "all_res = deepcopy(res)\n",
    "filter!(t -> t[:dataset] ∈ unique(pattern_count_num[:,:Name]), all_res) #filter datasets\n",
    "select!(all_res, Not(:method_cat))\n",
    "sort!(all_res, [:dataset, :splitnum, :method])\n",
    "\n",
    "#Average over splits\n",
    "all_res = aggregate(all_res[:,[:dataset, :method, :osr2]], [:dataset, :method], mean)\n",
    "rename!(all_res, :osr2_mean => :osr2)\n",
    "all_res[!,:osr2] = round.(all_res[:,:osr2], digits=4);\n",
    "\n",
    "best_pred = by(all_res, [:dataset]) do df\n",
    "    DataFrame(results = [sort(unique(df[:,:osr2]), rev=true)])\n",
    "end\n",
    "\n",
    "all_res = join(all_res, best_pred, on = [:dataset])\n",
    "\n",
    "rank = zeros(size(all_res,1))\n",
    "for i in 1:size(all_res,1)\n",
    "    rank[i] = findfirst(all_res[i,:osr2] .== all_res[i,:results])\n",
    "end\n",
    "all_res[!,:rank] = rank\n",
    "select!(all_res, Not(:results))\n",
    "all_res"
   ]
  },
  {
   "cell_type": "code",
   "execution_count": null,
   "metadata": {},
   "outputs": [],
   "source": [
    "for m1 in unique(all_res[:,:method])\n",
    "    aux1 = filter(t-> t[:method] == m1, all_res)\n",
    "    if m1 ∉ [\"Imp-then-Reg $i\" for i in [1,2,3,5]]\n",
    "        for m2 in unique(all_res[:,:method])\n",
    "            if m1 != m2 && m2 ∉ [\"Imp-then-Reg $i\" for i in [1,2,3,5]]\n",
    "                aux2 = filter(t-> t[:method] == m2, all_res)\n",
    "                wincount = 0 \n",
    "                for d in unique(all_res[:,:dataset])\n",
    "                    try\n",
    "                        if aux1[findfirst(aux1[:,:dataset] .== d),:rank] < aux2[findfirst(aux2[:,:dataset] .== d),:rank]\n",
    "                            wincount += 1\n",
    "                        end\n",
    "                    catch\n",
    "                        ()\n",
    "                    end\n",
    "                end \n",
    "                println(\"$m1 wins over $m2 in $wincount instances\")\n",
    "            end\n",
    "        end\n",
    "        println()\n",
    "    end\n",
    "end"
   ]
  },
  {
   "cell_type": "code",
   "execution_count": null,
   "metadata": {},
   "outputs": [],
   "source": []
  }
 ],
 "metadata": {
  "@webio": {
   "lastCommId": null,
   "lastKernelId": null
  },
  "kernelspec": {
   "display_name": "Julia 1.1.0",
   "language": "julia",
   "name": "julia-1.1"
  },
  "language_info": {
   "file_extension": ".jl",
   "mimetype": "application/julia",
   "name": "julia",
   "version": "1.1.0"
  }
 },
 "nbformat": 4,
 "nbformat_minor": 2
}
