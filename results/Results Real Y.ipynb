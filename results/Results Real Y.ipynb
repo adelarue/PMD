{
 "cells": [
  {
   "cell_type": "code",
   "execution_count": 114,
   "metadata": {
    "collapsed": true
   },
   "outputs": [],
   "source": [
    "using CSV, DataFrames, Plots, StatsPlots, Statistics"
   ]
  },
  {
   "cell_type": "code",
   "execution_count": 115,
   "metadata": {
    "collapsed": true
   },
   "outputs": [],
   "source": [
    "directory = \"realy/\"\n",
    "filelist = [f for f in readdir(directory) if endswith(f, \".csv\")]\n",
    "res = similar(DataFrame(CSV.read(directory*filelist[1])),0)\n",
    "for i in 1:length(filelist)\n",
    "    res = vcat(res, DataFrame(CSV.read(directory*filelist[i])))\n",
    "end\n",
    "res[!,:method_cat] = map(t -> startswith(t,\"Imp-then-Reg\") ? \"Imp-then-Reg\" : t, res[:,:method]);"
   ]
  },
  {
   "cell_type": "code",
   "execution_count": 156,
   "metadata": {
    "collapsed": true
   },
   "outputs": [
    {
     "data": {
      "text/html": [
       "<table class=\"data-frame\"><thead><tr><th></th><th>dataset</th><th>splitnum</th><th>method</th><th>osr2</th><th>method_cat</th></tr><tr><th></th><th>String</th><th>Int64</th><th>String</th><th>Float64</th><th>String</th></tr></thead><tbody><p>4,185 rows × 5 columns</p><tr><th>1</th><td>COUNT-loomis</td><td>1</td><td>Complete Features</td><td>0.223516</td><td>Complete Features</td></tr><tr><th>2</th><td>COUNT-loomis</td><td>1</td><td>Imp-then-Reg 1</td><td>0.226873</td><td>Imp-then-Reg</td></tr><tr><th>3</th><td>COUNT-loomis</td><td>1</td><td>Imp-then-Reg 2</td><td>0.220976</td><td>Imp-then-Reg</td></tr><tr><th>4</th><td>COUNT-loomis</td><td>1</td><td>Imp-then-Reg 3</td><td>0.230629</td><td>Imp-then-Reg</td></tr><tr><th>5</th><td>COUNT-loomis</td><td>1</td><td>Imp-then-Reg 4</td><td>0.227795</td><td>Imp-then-Reg</td></tr><tr><th>6</th><td>COUNT-loomis</td><td>1</td><td>Imp-then-Reg 5</td><td>0.242791</td><td>Imp-then-Reg</td></tr><tr><th>7</th><td>COUNT-loomis</td><td>1</td><td>Static</td><td>0.231293</td><td>Static</td></tr><tr><th>8</th><td>COUNT-loomis</td><td>1</td><td>Affine</td><td>0.227795</td><td>Affine</td></tr><tr><th>9</th><td>COUNT-loomis</td><td>10</td><td>Complete Features</td><td>0.180556</td><td>Complete Features</td></tr><tr><th>10</th><td>COUNT-loomis</td><td>10</td><td>Imp-then-Reg 1</td><td>0.1799</td><td>Imp-then-Reg</td></tr><tr><th>11</th><td>COUNT-loomis</td><td>10</td><td>Imp-then-Reg 2</td><td>0.182526</td><td>Imp-then-Reg</td></tr><tr><th>12</th><td>COUNT-loomis</td><td>10</td><td>Imp-then-Reg 3</td><td>0.183519</td><td>Imp-then-Reg</td></tr><tr><th>13</th><td>COUNT-loomis</td><td>10</td><td>Imp-then-Reg 4</td><td>0.18535</td><td>Imp-then-Reg</td></tr><tr><th>14</th><td>COUNT-loomis</td><td>10</td><td>Imp-then-Reg 5</td><td>0.173391</td><td>Imp-then-Reg</td></tr><tr><th>15</th><td>COUNT-loomis</td><td>10</td><td>Static</td><td>0.1799</td><td>Static</td></tr><tr><th>16</th><td>COUNT-loomis</td><td>10</td><td>Affine</td><td>0.184881</td><td>Affine</td></tr><tr><th>17</th><td>COUNT-loomis</td><td>11</td><td>Complete Features</td><td>0.220786</td><td>Complete Features</td></tr><tr><th>18</th><td>COUNT-loomis</td><td>11</td><td>Imp-then-Reg 1</td><td>0.204984</td><td>Imp-then-Reg</td></tr><tr><th>19</th><td>COUNT-loomis</td><td>11</td><td>Imp-then-Reg 2</td><td>0.222902</td><td>Imp-then-Reg</td></tr><tr><th>20</th><td>COUNT-loomis</td><td>11</td><td>Imp-then-Reg 3</td><td>0.220881</td><td>Imp-then-Reg</td></tr><tr><th>21</th><td>COUNT-loomis</td><td>11</td><td>Imp-then-Reg 4</td><td>0.217437</td><td>Imp-then-Reg</td></tr><tr><th>22</th><td>COUNT-loomis</td><td>11</td><td>Imp-then-Reg 5</td><td>0.230975</td><td>Imp-then-Reg</td></tr><tr><th>23</th><td>COUNT-loomis</td><td>11</td><td>Static</td><td>0.222534</td><td>Static</td></tr><tr><th>24</th><td>COUNT-loomis</td><td>11</td><td>Affine</td><td>0.220881</td><td>Affine</td></tr><tr><th>25</th><td>COUNT-loomis</td><td>12</td><td>Complete Features</td><td>-0.121503</td><td>Complete Features</td></tr><tr><th>26</th><td>COUNT-loomis</td><td>12</td><td>Imp-then-Reg 1</td><td>-0.0776193</td><td>Imp-then-Reg</td></tr><tr><th>27</th><td>COUNT-loomis</td><td>12</td><td>Imp-then-Reg 2</td><td>-0.085734</td><td>Imp-then-Reg</td></tr><tr><th>28</th><td>COUNT-loomis</td><td>12</td><td>Imp-then-Reg 3</td><td>-0.125317</td><td>Imp-then-Reg</td></tr><tr><th>29</th><td>COUNT-loomis</td><td>12</td><td>Imp-then-Reg 4</td><td>-0.0817938</td><td>Imp-then-Reg</td></tr><tr><th>30</th><td>COUNT-loomis</td><td>12</td><td>Imp-then-Reg 5</td><td>-0.129883</td><td>Imp-then-Reg</td></tr><tr><th>&vellip;</th><td>&vellip;</td><td>&vellip;</td><td>&vellip;</td><td>&vellip;</td><td>&vellip;</td></tr></tbody></table>"
      ],
      "text/latex": [
       "\\begin{tabular}{r|ccccc}\n",
       "\t& dataset & splitnum & method & osr2 & method\\_cat\\\\\n",
       "\t\\hline\n",
       "\t& String & Int64 & String & Float64 & String\\\\\n",
       "\t\\hline\n",
       "\t1 & COUNT-loomis & 1 & Complete Features & 0.223516 & Complete Features \\\\\n",
       "\t2 & COUNT-loomis & 1 & Imp-then-Reg 1 & 0.226873 & Imp-then-Reg \\\\\n",
       "\t3 & COUNT-loomis & 1 & Imp-then-Reg 2 & 0.220976 & Imp-then-Reg \\\\\n",
       "\t4 & COUNT-loomis & 1 & Imp-then-Reg 3 & 0.230629 & Imp-then-Reg \\\\\n",
       "\t5 & COUNT-loomis & 1 & Imp-then-Reg 4 & 0.227795 & Imp-then-Reg \\\\\n",
       "\t6 & COUNT-loomis & 1 & Imp-then-Reg 5 & 0.242791 & Imp-then-Reg \\\\\n",
       "\t7 & COUNT-loomis & 1 & Static & 0.231293 & Static \\\\\n",
       "\t8 & COUNT-loomis & 1 & Affine & 0.227795 & Affine \\\\\n",
       "\t9 & COUNT-loomis & 10 & Complete Features & 0.180556 & Complete Features \\\\\n",
       "\t10 & COUNT-loomis & 10 & Imp-then-Reg 1 & 0.1799 & Imp-then-Reg \\\\\n",
       "\t11 & COUNT-loomis & 10 & Imp-then-Reg 2 & 0.182526 & Imp-then-Reg \\\\\n",
       "\t12 & COUNT-loomis & 10 & Imp-then-Reg 3 & 0.183519 & Imp-then-Reg \\\\\n",
       "\t13 & COUNT-loomis & 10 & Imp-then-Reg 4 & 0.18535 & Imp-then-Reg \\\\\n",
       "\t14 & COUNT-loomis & 10 & Imp-then-Reg 5 & 0.173391 & Imp-then-Reg \\\\\n",
       "\t15 & COUNT-loomis & 10 & Static & 0.1799 & Static \\\\\n",
       "\t16 & COUNT-loomis & 10 & Affine & 0.184881 & Affine \\\\\n",
       "\t17 & COUNT-loomis & 11 & Complete Features & 0.220786 & Complete Features \\\\\n",
       "\t18 & COUNT-loomis & 11 & Imp-then-Reg 1 & 0.204984 & Imp-then-Reg \\\\\n",
       "\t19 & COUNT-loomis & 11 & Imp-then-Reg 2 & 0.222902 & Imp-then-Reg \\\\\n",
       "\t20 & COUNT-loomis & 11 & Imp-then-Reg 3 & 0.220881 & Imp-then-Reg \\\\\n",
       "\t21 & COUNT-loomis & 11 & Imp-then-Reg 4 & 0.217437 & Imp-then-Reg \\\\\n",
       "\t22 & COUNT-loomis & 11 & Imp-then-Reg 5 & 0.230975 & Imp-then-Reg \\\\\n",
       "\t23 & COUNT-loomis & 11 & Static & 0.222534 & Static \\\\\n",
       "\t24 & COUNT-loomis & 11 & Affine & 0.220881 & Affine \\\\\n",
       "\t25 & COUNT-loomis & 12 & Complete Features & -0.121503 & Complete Features \\\\\n",
       "\t26 & COUNT-loomis & 12 & Imp-then-Reg 1 & -0.0776193 & Imp-then-Reg \\\\\n",
       "\t27 & COUNT-loomis & 12 & Imp-then-Reg 2 & -0.085734 & Imp-then-Reg \\\\\n",
       "\t28 & COUNT-loomis & 12 & Imp-then-Reg 3 & -0.125317 & Imp-then-Reg \\\\\n",
       "\t29 & COUNT-loomis & 12 & Imp-then-Reg 4 & -0.0817938 & Imp-then-Reg \\\\\n",
       "\t30 & COUNT-loomis & 12 & Imp-then-Reg 5 & -0.129883 & Imp-then-Reg \\\\\n",
       "\t$\\dots$ & $\\dots$ & $\\dots$ & $\\dots$ & $\\dots$ & $\\dots$ \\\\\n",
       "\\end{tabular}\n"
      ],
      "text/plain": [
       "4185×5 DataFrame. Omitted printing of 1 columns\n",
       "│ Row  │ dataset      │ splitnum │ method            │ osr2     │\n",
       "│      │ \u001b[90mString\u001b[39m       │ \u001b[90mInt64\u001b[39m    │ \u001b[90mString\u001b[39m            │ \u001b[90mFloat64\u001b[39m  │\n",
       "├──────┼──────────────┼──────────┼───────────────────┼──────────┤\n",
       "│ 1    │ COUNT-loomis │ 1        │ Complete Features │ 0.223516 │\n",
       "│ 2    │ COUNT-loomis │ 1        │ Imp-then-Reg 1    │ 0.226873 │\n",
       "│ 3    │ COUNT-loomis │ 1        │ Imp-then-Reg 2    │ 0.220976 │\n",
       "│ 4    │ COUNT-loomis │ 1        │ Imp-then-Reg 3    │ 0.230629 │\n",
       "│ 5    │ COUNT-loomis │ 1        │ Imp-then-Reg 4    │ 0.227795 │\n",
       "│ 6    │ COUNT-loomis │ 1        │ Imp-then-Reg 5    │ 0.242791 │\n",
       "│ 7    │ COUNT-loomis │ 1        │ Static            │ 0.231293 │\n",
       "│ 8    │ COUNT-loomis │ 1        │ Affine            │ 0.227795 │\n",
       "│ 9    │ COUNT-loomis │ 10       │ Complete Features │ 0.180556 │\n",
       "│ 10   │ COUNT-loomis │ 10       │ Imp-then-Reg 1    │ 0.1799   │\n",
       "⋮\n",
       "│ 4175 │ wiki4he      │ 8        │ Imp-then-Reg 5    │ 0.402406 │\n",
       "│ 4176 │ wiki4he      │ 8        │ Static            │ 0.393108 │\n",
       "│ 4177 │ wiki4he      │ 8        │ Affine            │ 0.340652 │\n",
       "│ 4178 │ wiki4he      │ 9        │ Complete Features │ 0.10525  │\n",
       "│ 4179 │ wiki4he      │ 9        │ Imp-then-Reg 1    │ 0.379901 │\n",
       "│ 4180 │ wiki4he      │ 9        │ Imp-then-Reg 2    │ 0.405018 │\n",
       "│ 4181 │ wiki4he      │ 9        │ Imp-then-Reg 3    │ 0.38046  │\n",
       "│ 4182 │ wiki4he      │ 9        │ Imp-then-Reg 4    │ 0.410766 │\n",
       "│ 4183 │ wiki4he      │ 9        │ Imp-then-Reg 5    │ 0.407254 │\n",
       "│ 4184 │ wiki4he      │ 9        │ Static            │ 0.387042 │\n",
       "│ 4185 │ wiki4he      │ 9        │ Affine            │ 0.377217 │"
      ]
     },
     "execution_count": 156,
     "metadata": {},
     "output_type": "execute_result"
    }
   ],
   "source": [
    "res = res[.!isnan.(res[:,:osr2]), :]"
   ]
  },
  {
   "cell_type": "code",
   "execution_count": 116,
   "metadata": {},
   "outputs": [
    {
     "name": "stdout",
     "output_type": "stream",
     "text": [
      "length(unique(res[:, :dataset])) = 52\n"
     ]
    },
    {
     "data": {
      "text/plain": [
       "52"
      ]
     },
     "execution_count": 116,
     "metadata": {},
     "output_type": "execute_result"
    }
   ],
   "source": [
    "@show length(unique(res[:,:dataset]))"
   ]
  },
  {
   "cell_type": "code",
   "execution_count": 117,
   "metadata": {
    "collapsed": true
   },
   "outputs": [
    {
     "data": {
      "text/plain": [
       "19-element Array{String,1}:\n",
       " \"MASS-survey\"            \n",
       " \"Zelig-coalition2\"       \n",
       " \"boot-neuro\"             \n",
       " \"car-Davis\"              \n",
       " \"car-Freedman\"           \n",
       " \"car-Hartnagel\"          \n",
       " \"car-SLID\"               \n",
       " \"cluster-plantTraits\"    \n",
       " \"datasets-airquality\"    \n",
       " \"ggplot2-movies\"         \n",
       " \"ggplot2-msleep\"         \n",
       " \"mlmRev-Gcsemv\"          \n",
       " \"plyr-baseball\"          \n",
       " \"reshape2-french_fries\"  \n",
       " \"robustbase-ambientNOxCH\"\n",
       " \"rpart-car.test.frame\"   \n",
       " \"rpart-stagec\"           \n",
       " \"sem-Tests\"              \n",
       " \"sleep\"                  "
      ]
     },
     "execution_count": 117,
     "metadata": {},
     "output_type": "execute_result"
    }
   ],
   "source": [
    "dataset_list = [d for d in readdir(\"../datasets/\") if length(d) > 0 && d != \".DS_Store\"]\n",
    "setdiff(dataset_list, unique(res[:,:dataset]))"
   ]
  },
  {
   "cell_type": "code",
   "execution_count": 118,
   "metadata": {
    "collapsed": true
   },
   "outputs": [
    {
     "data": {
      "text/plain": [
       "52-element Array{String,1}:\n",
       " \"COUNT-loomis\"                    \n",
       " \"Ecdat-MCAS\"                      \n",
       " \"Ecdat-Males\"                     \n",
       " \"Ecdat-Mofa\"                      \n",
       " \"Ecdat-RetSchool\"                 \n",
       " \"Ecdat-Schooling\"                 \n",
       " \"MASS-Cars93\"                     \n",
       " \"MASS-Pima.tr2\"                   \n",
       " \"arrhythmia\"                      \n",
       " \"auto-mpg\"                        \n",
       " \"automobile\"                      \n",
       " \"breast-cancer\"                   \n",
       " \"breast-cancer-wisconsin-original\"\n",
       " ⋮                                 \n",
       " \"survival-mgus\"                   \n",
       " \"survival-pbc\"                    \n",
       " \"thyroid-disease-allbp\"           \n",
       " \"thyroid-disease-allhyper\"        \n",
       " \"thyroid-disease-allhypo\"         \n",
       " \"thyroid-disease-allrep\"          \n",
       " \"thyroid-disease-dis\"             \n",
       " \"thyroid-disease-sick\"            \n",
       " \"thyroid-disease-sick-euthyroid\"  \n",
       " \"thyroid-disease-thyroid-0387\"    \n",
       " \"trains\"                          \n",
       " \"wiki4he\"                         "
      ]
     },
     "execution_count": 118,
     "metadata": {},
     "output_type": "execute_result"
    }
   ],
   "source": [
    "intersect(dataset_list, unique(res[:,:dataset]))"
   ]
  },
  {
   "cell_type": "code",
   "execution_count": 119,
   "metadata": {},
   "outputs": [
    {
     "data": {
      "text/plain": [
       "1-element Array{String,1}:\n",
       " \"trains\""
      ]
     },
     "execution_count": 119,
     "metadata": {},
     "output_type": "execute_result"
    }
   ],
   "source": [
    "setdiff(    filter(t -> t[:method] == \"Imp-then-Reg 1\", res)[:, :dataset],\n",
    "            filter(t -> t[:method] == \"Affine\", res)[:, :dataset])"
   ]
  },
  {
   "cell_type": "markdown",
   "metadata": {},
   "source": [
    "## Claim 1: Mode-imputation does not help\n"
   ]
  },
  {
   "cell_type": "code",
   "execution_count": 120,
   "metadata": {
    "collapsed": true
   },
   "outputs": [
    {
     "data": {
      "text/html": [
       "<table class=\"data-frame\"><thead><tr><th></th><th>Name</th><th>n</th><th>p</th><th>p_miss_all</th><th>p_miss_num</th><th>p_miss_cat</th></tr><tr><th></th><th>String</th><th>Int64</th><th>Int64</th><th>Int64</th><th>Int64</th><th>Int64</th></tr></thead><tbody><p>45 rows × 6 columns</p><tr><th>1</th><td>COUNT-loomis</td><td>384</td><td>9</td><td>9</td><td>0</td><td>9</td></tr><tr><th>2</th><td>Ecdat-Males</td><td>4360</td><td>37</td><td>4</td><td>0</td><td>4</td></tr><tr><th>3</th><td>Ecdat-Schooling</td><td>3010</td><td>51</td><td>10</td><td>2</td><td>8</td></tr><tr><th>4</th><td>MASS-survey</td><td>237</td><td>24</td><td>23</td><td>4</td><td>19</td></tr><tr><th>5</th><td>Zelig-coalition2</td><td>314</td><td>24</td><td>14</td><td>0</td><td>14</td></tr><tr><th>6</th><td>automobile</td><td>205</td><td>69</td><td>8</td><td>6</td><td>2</td></tr><tr><th>7</th><td>breast-cancer</td><td>286</td><td>41</td><td>7</td><td>0</td><td>7</td></tr><tr><th>8</th><td>car-Chile</td><td>2532</td><td>14</td><td>6</td><td>3</td><td>3</td></tr><tr><th>9</th><td>car-SLID</td><td>7425</td><td>8</td><td>5</td><td>2</td><td>3</td></tr><tr><th>10</th><td>cluster-plantTraits</td><td>136</td><td>68</td><td>39</td><td>2</td><td>37</td></tr><tr><th>11</th><td>communities-and-crime</td><td>1994</td><td>126</td><td>25</td><td>22</td><td>3</td></tr><tr><th>12</th><td>communities-and-crime-2</td><td>2215</td><td>129</td><td>25</td><td>22</td><td>3</td></tr><tr><th>13</th><td>congressional-voting-records</td><td>435</td><td>32</td><td>32</td><td>0</td><td>32</td></tr><tr><th>14</th><td>credit-approval</td><td>690</td><td>46</td><td>42</td><td>2</td><td>40</td></tr><tr><th>15</th><td>cylinder-bands</td><td>540</td><td>868</td><td>55</td><td>17</td><td>38</td></tr><tr><th>16</th><td>echocardiogram</td><td>132</td><td>8</td><td>8</td><td>6</td><td>2</td></tr><tr><th>17</th><td>ggplot2-msleep</td><td>83</td><td>35</td><td>32</td><td>3</td><td>29</td></tr><tr><th>18</th><td>heart-disease-cleveland</td><td>303</td><td>28</td><td>8</td><td>0</td><td>8</td></tr><tr><th>19</th><td>heart-disease-hungarian</td><td>294</td><td>25</td><td>20</td><td>3</td><td>17</td></tr><tr><th>20</th><td>heart-disease-switzerland</td><td>123</td><td>26</td><td>21</td><td>3</td><td>18</td></tr><tr><th>21</th><td>heart-disease-va</td><td>200</td><td>25</td><td>17</td><td>4</td><td>13</td></tr><tr><th>22</th><td>hepatitis</td><td>155</td><td>32</td><td>25</td><td>5</td><td>20</td></tr><tr><th>23</th><td>horse-colic</td><td>300</td><td>60</td><td>59</td><td>7</td><td>52</td></tr><tr><th>24</th><td>lung-cancer</td><td>32</td><td>157</td><td>33</td><td>0</td><td>33</td></tr><tr><th>25</th><td>mammographic-mass</td><td>961</td><td>15</td><td>15</td><td>2</td><td>13</td></tr><tr><th>26</th><td>mlmRev-star</td><td>24613</td><td>122</td><td>74</td><td>2</td><td>72</td></tr><tr><th>27</th><td>mushroom</td><td>8124</td><td>116</td><td>4</td><td>0</td><td>4</td></tr><tr><th>28</th><td>plyr-baseball</td><td>21699</td><td>296</td><td>23</td><td>9</td><td>14</td></tr><tr><th>29</th><td>post-operative-patient</td><td>90</td><td>23</td><td>4</td><td>0</td><td>4</td></tr><tr><th>30</th><td>pscl-politicalInformation</td><td>1800</td><td>1440</td><td>1432</td><td>1</td><td>1431</td></tr><tr><th>&vellip;</th><td>&vellip;</td><td>&vellip;</td><td>&vellip;</td><td>&vellip;</td><td>&vellip;</td><td>&vellip;</td></tr></tbody></table>"
      ],
      "text/latex": [
       "\\begin{tabular}{r|cccccc}\n",
       "\t& Name & n & p & p\\_miss\\_all & p\\_miss\\_num & p\\_miss\\_cat\\\\\n",
       "\t\\hline\n",
       "\t& String & Int64 & Int64 & Int64 & Int64 & Int64\\\\\n",
       "\t\\hline\n",
       "\t1 & COUNT-loomis & 384 & 9 & 9 & 0 & 9 \\\\\n",
       "\t2 & Ecdat-Males & 4360 & 37 & 4 & 0 & 4 \\\\\n",
       "\t3 & Ecdat-Schooling & 3010 & 51 & 10 & 2 & 8 \\\\\n",
       "\t4 & MASS-survey & 237 & 24 & 23 & 4 & 19 \\\\\n",
       "\t5 & Zelig-coalition2 & 314 & 24 & 14 & 0 & 14 \\\\\n",
       "\t6 & automobile & 205 & 69 & 8 & 6 & 2 \\\\\n",
       "\t7 & breast-cancer & 286 & 41 & 7 & 0 & 7 \\\\\n",
       "\t8 & car-Chile & 2532 & 14 & 6 & 3 & 3 \\\\\n",
       "\t9 & car-SLID & 7425 & 8 & 5 & 2 & 3 \\\\\n",
       "\t10 & cluster-plantTraits & 136 & 68 & 39 & 2 & 37 \\\\\n",
       "\t11 & communities-and-crime & 1994 & 126 & 25 & 22 & 3 \\\\\n",
       "\t12 & communities-and-crime-2 & 2215 & 129 & 25 & 22 & 3 \\\\\n",
       "\t13 & congressional-voting-records & 435 & 32 & 32 & 0 & 32 \\\\\n",
       "\t14 & credit-approval & 690 & 46 & 42 & 2 & 40 \\\\\n",
       "\t15 & cylinder-bands & 540 & 868 & 55 & 17 & 38 \\\\\n",
       "\t16 & echocardiogram & 132 & 8 & 8 & 6 & 2 \\\\\n",
       "\t17 & ggplot2-msleep & 83 & 35 & 32 & 3 & 29 \\\\\n",
       "\t18 & heart-disease-cleveland & 303 & 28 & 8 & 0 & 8 \\\\\n",
       "\t19 & heart-disease-hungarian & 294 & 25 & 20 & 3 & 17 \\\\\n",
       "\t20 & heart-disease-switzerland & 123 & 26 & 21 & 3 & 18 \\\\\n",
       "\t21 & heart-disease-va & 200 & 25 & 17 & 4 & 13 \\\\\n",
       "\t22 & hepatitis & 155 & 32 & 25 & 5 & 20 \\\\\n",
       "\t23 & horse-colic & 300 & 60 & 59 & 7 & 52 \\\\\n",
       "\t24 & lung-cancer & 32 & 157 & 33 & 0 & 33 \\\\\n",
       "\t25 & mammographic-mass & 961 & 15 & 15 & 2 & 13 \\\\\n",
       "\t26 & mlmRev-star & 24613 & 122 & 74 & 2 & 72 \\\\\n",
       "\t27 & mushroom & 8124 & 116 & 4 & 0 & 4 \\\\\n",
       "\t28 & plyr-baseball & 21699 & 296 & 23 & 9 & 14 \\\\\n",
       "\t29 & post-operative-patient & 90 & 23 & 4 & 0 & 4 \\\\\n",
       "\t30 & pscl-politicalInformation & 1800 & 1440 & 1432 & 1 & 1431 \\\\\n",
       "\t$\\dots$ & $\\dots$ & $\\dots$ & $\\dots$ & $\\dots$ & $\\dots$ & $\\dots$ \\\\\n",
       "\\end{tabular}\n"
      ],
      "text/plain": [
       "45×6 DataFrame. Omitted printing of 2 columns\n",
       "│ Row │ Name                           │ n     │ p     │ p_miss_all │\n",
       "│     │ \u001b[90mString\u001b[39m                         │ \u001b[90mInt64\u001b[39m │ \u001b[90mInt64\u001b[39m │ \u001b[90mInt64\u001b[39m      │\n",
       "├─────┼────────────────────────────────┼───────┼───────┼────────────┤\n",
       "│ 1   │ COUNT-loomis                   │ 384   │ 9     │ 9          │\n",
       "│ 2   │ Ecdat-Males                    │ 4360  │ 37    │ 4          │\n",
       "│ 3   │ Ecdat-Schooling                │ 3010  │ 51    │ 10         │\n",
       "│ 4   │ MASS-survey                    │ 237   │ 24    │ 23         │\n",
       "│ 5   │ Zelig-coalition2               │ 314   │ 24    │ 14         │\n",
       "│ 6   │ automobile                     │ 205   │ 69    │ 8          │\n",
       "│ 7   │ breast-cancer                  │ 286   │ 41    │ 7          │\n",
       "│ 8   │ car-Chile                      │ 2532  │ 14    │ 6          │\n",
       "│ 9   │ car-SLID                       │ 7425  │ 8     │ 5          │\n",
       "│ 10  │ cluster-plantTraits            │ 136   │ 68    │ 39         │\n",
       "⋮\n",
       "│ 35  │ survival-pbc                   │ 418   │ 27    │ 24         │\n",
       "│ 36  │ thyroid-disease-allbp          │ 2800  │ 52    │ 52         │\n",
       "│ 37  │ thyroid-disease-allhyper       │ 2800  │ 52    │ 52         │\n",
       "│ 38  │ thyroid-disease-allhypo        │ 2800  │ 52    │ 52         │\n",
       "│ 39  │ thyroid-disease-allrep         │ 2800  │ 52    │ 52         │\n",
       "│ 40  │ thyroid-disease-dis            │ 2800  │ 52    │ 52         │\n",
       "│ 41  │ thyroid-disease-sick           │ 2800  │ 52    │ 52         │\n",
       "│ 42  │ thyroid-disease-sick-euthyroid │ 3163  │ 43    │ 43         │\n",
       "│ 43  │ thyroid-disease-thyroid-0387   │ 9172  │ 55    │ 54         │\n",
       "│ 44  │ trains                         │ 10    │ 77    │ 22         │\n",
       "│ 45  │ wiki4he                        │ 913   │ 73    │ 68         │"
      ]
     },
     "execution_count": 120,
     "metadata": {},
     "output_type": "execute_result"
    }
   ],
   "source": [
    "#Select only datasets where at least one missing categorical feature\n",
    "pattern_count_all = DataFrame(CSV.read(\"pattern_counts_allfeat.csv\"))[:,[:Name,:n,:p,:p_miss]]\n",
    "rename!(pattern_count_all, :p_miss => :p_miss_all)\n",
    "pattern_count_num = DataFrame(CSV.read(\"pattern_counts_numonly.csv\"))[:,[:Name,:p_miss]]\n",
    "rename!(pattern_count_num, :p_miss => :p_miss_num)\n",
    "relevant_data = join(pattern_count_all, pattern_count_num, on=:Name)\n",
    "filter!(t -> t[:p_miss_all] > t[:p_miss_num], relevant_data)\n",
    "relevant_data[!,:p_miss_cat] = relevant_data[:,:p_miss_all] .- relevant_data[:,:p_miss_num]\n",
    "relevant_data"
   ]
  },
  {
   "cell_type": "code",
   "execution_count": 121,
   "metadata": {
    "collapsed": true
   },
   "outputs": [],
   "source": [
    "mi_res = deepcopy(res)\n",
    "# @show length(unique(mi_res[:,:dataset]))\n",
    "filter!( t -> t[:dataset] ∈ unique(relevant_data[:,:Name]), mi_res)\n",
    "# @show length(unique(mi_res[:,:dataset]))\n",
    "save = unique(mi_res[:,:dataset])\n",
    "filter!(t -> t[:method] ∈ [\"Imp-then-Reg 4\", \"Imp-then-Reg 5\"], mi_res)\n",
    "# @show length(unique(mi_res[:,:dataset]))\n",
    "# @show setdiff(save, unique(mi_res[:,:dataset]))\n",
    "select!(mi_res, Not([:method_cat]))\n",
    "mi_res[!,:method] = map( t -> t == \"Imp-then-Reg 4\" ? \"Missing_Indicator\" : \"Mode_Impute\", mi_res[:,:method]);\n",
    "# mi_res[mi_res[:,:osr2] .< 0,:osr2] .= 0."
   ]
  },
  {
   "cell_type": "code",
   "execution_count": 122,
   "metadata": {},
   "outputs": [
    {
     "data": {
      "text/plain": [
       "2-element WeakRefStrings.StringArray{String,1}:\n",
       " \"cylinder-bands\"\n",
       " \"trains\"        "
      ]
     },
     "execution_count": 122,
     "metadata": {},
     "output_type": "execute_result"
    }
   ],
   "source": [
    "setdiff(intersect(relevant_data[:,:Name], res[:,:dataset]), unique(mi_res[:,:dataset]))"
   ]
  },
  {
   "cell_type": "code",
   "execution_count": 123,
   "metadata": {},
   "outputs": [
    {
     "data": {
      "text/plain": [
       "0-element Array{String,1}"
      ]
     },
     "execution_count": 123,
     "metadata": {},
     "output_type": "execute_result"
    }
   ],
   "source": [
    "setdiff(    filter(t -> t[:method] == \"Imp-then-Reg 4\", res)[:, :dataset],\n",
    "            filter(t -> t[:method] == \"Imp-then-Reg 5\", res)[:, :dataset])"
   ]
  },
  {
   "cell_type": "code",
   "execution_count": 124,
   "metadata": {
    "collapsed": true
   },
   "outputs": [],
   "source": [
    "mi_wide = unstack(mi_res, [:dataset, :splitnum], :method, :osr2)\n",
    "dropmissing!(mi_wide); #TO DO: Check for which dataset/splits this is needed. Should not be "
   ]
  },
  {
   "cell_type": "code",
   "execution_count": 125,
   "metadata": {
    "collapsed": true
   },
   "outputs": [],
   "source": [
    "mi_wide[!, :wins] = 1.0 .* (mi_wide[:,:Missing_Indicator] .> mi_wide[:,:Mode_Impute])\n",
    "mi_wide[!, :improvement] = mi_wide[:,:Missing_Indicator] .- mi_wide[:,:Mode_Impute] \n",
    "mi_wide[!, :rel_improvement] = mi_wide[:, :improvement] ./ abs.(mi_wide[:,:Mode_Impute]);"
   ]
  },
  {
   "cell_type": "code",
   "execution_count": 126,
   "metadata": {
    "collapsed": true
   },
   "outputs": [],
   "source": [
    "#Question: Should we average results over each data set before counting improvement?\n",
    "select!(mi_wide, Not(:splitnum))\n",
    "mi_wide = aggregate(mi_wide, [:dataset], mean)\n",
    "rename!(mi_wide, \n",
    "        [(:Missing_Indicator_mean => :Missing_Indicator), (:Mode_Impute_mean => :Mode_Impute),\n",
    "        (:wins_mean => :wins_splitlevel),\n",
    "        (:improvement_mean => :improvement_splitlevel), (:rel_improvement_mean => :rel_improvement_splitlevel)]\n",
    ")\n",
    "\n",
    "mi_wide[!, :wins] = 1.0 .* (mi_wide[:,:Missing_Indicator] .> mi_wide[:,:Mode_Impute])\n",
    "mi_wide[!, :improvement] = mi_wide[:,:Missing_Indicator] .- mi_wide[:,:Mode_Impute] \n",
    "mi_wide[!, :rel_improvement] = mi_wide[:, :improvement] ./ abs.(mi_wide[:,:Mode_Impute]);"
   ]
  },
  {
   "cell_type": "code",
   "execution_count": 127,
   "metadata": {},
   "outputs": [
    {
     "name": "stdout",
     "output_type": "stream",
     "text": [
      "mean(mi_wide[:, :wins_splitlevel]) = 0.4895723104056438\n",
      "mean(mi_wide[:, :wins]) = 0.6388888888888888\n",
      "sum(mi_wide[:, :wins]) = 23.0\n"
     ]
    },
    {
     "data": {
      "text/plain": [
       "23.0"
      ]
     },
     "execution_count": 127,
     "metadata": {},
     "output_type": "execute_result"
    }
   ],
   "source": [
    "@show mean(mi_wide[:,:wins_splitlevel])\n",
    "@show mean(mi_wide[:,:wins])\n",
    "@show sum(mi_wide[:,:wins])"
   ]
  },
  {
   "cell_type": "code",
   "execution_count": 142,
   "metadata": {},
   "outputs": [
    {
     "data": {
      "text/plain": [
       "iqr (generic function with 1 method)"
      ]
     },
     "execution_count": 142,
     "metadata": {},
     "output_type": "execute_result"
    }
   ],
   "source": [
    "function iqr(l)\n",
    "    return quantile(l, .75), quantile(l, .25)\n",
    "end"
   ]
  },
  {
   "cell_type": "code",
   "execution_count": 143,
   "metadata": {},
   "outputs": [
    {
     "data": {
      "text/html": [
       "<table class=\"data-frame\"><thead><tr><th></th><th>dataset</th><th>Missing_Indicator</th><th>Mode_Impute</th><th>wins_splitlevel</th><th>improvement_splitlevel</th></tr><tr><th></th><th>String</th><th>Float64</th><th>Float64</th><th>Float64</th><th>Float64</th></tr></thead><tbody><p>0 rows × 9 columns (omitted printing of 4 columns)</p></tbody></table>"
      ],
      "text/latex": [
       "\\begin{tabular}{r|cccccc}\n",
       "\t& dataset & Missing\\_Indicator & Mode\\_Impute & wins\\_splitlevel & improvement\\_splitlevel & \\\\\n",
       "\t\\hline\n",
       "\t& String & Float64 & Float64 & Float64 & Float64 & \\\\\n",
       "\t\\hline\n",
       "\\end{tabular}\n"
      ],
      "text/plain": [
       "0×9 DataFrame\n"
      ]
     },
     "execution_count": 143,
     "metadata": {},
     "output_type": "execute_result"
    }
   ],
   "source": [
    "mi_wide[isnan.(mi_wide[:,:improvement]),:]"
   ]
  },
  {
   "cell_type": "code",
   "execution_count": 144,
   "metadata": {},
   "outputs": [
    {
     "data": {
      "text/html": [
       "<table class=\"data-frame\"><thead><tr><th></th><th>dataset</th><th>splitnum</th><th>method</th><th>osr2</th><th>method_cat</th></tr><tr><th></th><th>String</th><th>Int64</th><th>String</th><th>Float64</th><th>String</th></tr></thead><tbody><p>4 rows × 5 columns</p><tr><th>1</th><td>heart-disease-switzerland</td><td>5</td><td>Complete Features</td><td>NaN</td><td>Complete Features</td></tr><tr><th>2</th><td>heart-disease-switzerland</td><td>5</td><td>Imp-then-Reg 1</td><td>NaN</td><td>Imp-then-Reg</td></tr><tr><th>3</th><td>trains</td><td>10</td><td>Imp-then-Reg 1</td><td>NaN</td><td>Imp-then-Reg</td></tr><tr><th>4</th><td>trains</td><td>9</td><td>Complete Features</td><td>NaN</td><td>Complete Features</td></tr></tbody></table>"
      ],
      "text/latex": [
       "\\begin{tabular}{r|ccccc}\n",
       "\t& dataset & splitnum & method & osr2 & method\\_cat\\\\\n",
       "\t\\hline\n",
       "\t& String & Int64 & String & Float64 & String\\\\\n",
       "\t\\hline\n",
       "\t1 & heart-disease-switzerland & 5 & Complete Features & NaN & Complete Features \\\\\n",
       "\t2 & heart-disease-switzerland & 5 & Imp-then-Reg 1 & NaN & Imp-then-Reg \\\\\n",
       "\t3 & trains & 10 & Imp-then-Reg 1 & NaN & Imp-then-Reg \\\\\n",
       "\t4 & trains & 9 & Complete Features & NaN & Complete Features \\\\\n",
       "\\end{tabular}\n"
      ],
      "text/plain": [
       "4×5 DataFrame. Omitted printing of 1 columns\n",
       "│ Row │ dataset                   │ splitnum │ method            │ osr2    │\n",
       "│     │ \u001b[90mString\u001b[39m                    │ \u001b[90mInt64\u001b[39m    │ \u001b[90mString\u001b[39m            │ \u001b[90mFloat64\u001b[39m │\n",
       "├─────┼───────────────────────────┼──────────┼───────────────────┼─────────┤\n",
       "│ 1   │ heart-disease-switzerland │ 5        │ Complete Features │ NaN     │\n",
       "│ 2   │ heart-disease-switzerland │ 5        │ Imp-then-Reg 1    │ NaN     │\n",
       "│ 3   │ trains                    │ 10       │ Imp-then-Reg 1    │ NaN     │\n",
       "│ 4   │ trains                    │ 9        │ Complete Features │ NaN     │"
      ]
     },
     "execution_count": 144,
     "metadata": {},
     "output_type": "execute_result"
    }
   ],
   "source": [
    "res[isnan.(res[:,:osr2]),:]"
   ]
  },
  {
   "cell_type": "code",
   "execution_count": 145,
   "metadata": {},
   "outputs": [
    {
     "name": "stdout",
     "output_type": "stream",
     "text": [
      "(μ, CI, IQR) = (0.006016329666197838, 0.3761285536203948, (0.02247417848913668, 0.0025037822662262134))\n"
     ]
    },
    {
     "data": {
      "text/plain": [
       "(0.006016329666197838, 0.3761285536203948, (0.02247417848913668, 0.0025037822662262134))"
      ]
     },
     "execution_count": 145,
     "metadata": {},
     "output_type": "execute_result"
    }
   ],
   "source": [
    "metric = :rel_improvement\n",
    "μ = median(mi_wide[mi_wide[:,:improvement] .> 0,metric])\n",
    "CI = std(mi_wide[mi_wide[:,:improvement] .> 0,metric]) / sqrt(sum(mi_wide[:,:improvement] .> 0))\n",
    "IQR = iqr(mi_wide[mi_wide[:,:improvement] .> 0,metric])\n",
    "@show μ, CI, IQR"
   ]
  },
  {
   "cell_type": "code",
   "execution_count": 148,
   "metadata": {},
   "outputs": [
    {
     "name": "stdout",
     "output_type": "stream",
     "text": [
      "(μ, CI, IQR) = (0.0013591801867083413, 0.001091810770788452, (-0.0005143696464945895, -0.0030082623476673787))\n"
     ]
    },
    {
     "data": {
      "text/plain": [
       "(0.0013591801867083413, 0.001091810770788452, (-0.0005143696464945895, -0.0030082623476673787))"
      ]
     },
     "execution_count": 148,
     "metadata": {},
     "output_type": "execute_result"
    }
   ],
   "source": [
    "μ = -median(mi_wide[mi_wide[:,:improvement] .< 0,metric])\n",
    "CI = std(mi_wide[mi_wide[:,:improvement] .< 0,metric]) / sqrt(sum(mi_wide[:,:improvement] .< 0))\n",
    "IQR = iqr(mi_wide[mi_wide[:,:improvement] .< 0,metric])\n",
    "@show μ, CI, IQR"
   ]
  },
  {
   "cell_type": "code",
   "execution_count": 65,
   "metadata": {
    "collapsed": true
   },
   "outputs": [
    {
     "data": {
      "text/plain": [
       "36-element Array{Float64,1}:\n",
       " 0.8333333333333334 \n",
       " 0.5                \n",
       " 0.4166666666666667 \n",
       " 0.45454545454545453\n",
       " 0.5454545454545454 \n",
       " 0.36363636363636365\n",
       " 0.5454545454545454 \n",
       " 0.45454545454545453\n",
       " 0.6363636363636364 \n",
       " 0.6363636363636364 \n",
       " 0.45454545454545453\n",
       " 0.18181818181818182\n",
       " 0.9090909090909091 \n",
       " ⋮                  \n",
       " 0.6363636363636364 \n",
       " 0.45454545454545453\n",
       " 0.45454545454545453\n",
       " 0.375              \n",
       " 0.3333333333333333 \n",
       " 0.3333333333333333 \n",
       " 0.5555555555555556 \n",
       " 0.7                \n",
       " 0.45454545454545453\n",
       " 0.45454545454545453\n",
       " 0.36363636363636365\n",
       " 0.2727272727272727 "
      ]
     },
     "execution_count": 65,
     "metadata": {},
     "output_type": "execute_result"
    }
   ],
   "source": [
    "mi_wide[:,:wins_splitlevel]"
   ]
  },
  {
   "cell_type": "code",
   "execution_count": 67,
   "metadata": {
    "collapsed": true
   },
   "outputs": [],
   "source": [
    "mi_augmented = join(mi_wide, rename(relevant_data, :Name => :dataset), on=:dataset)\n",
    "mi_augmented[!,:prop_miss_cat] = 1.0 .* mi_augmented[:,:p_miss_cat] ./ mi_augmented[:,:p_miss_all]\n",
    "mi_augmented[!,:prop_miss_cat2] = 1.0 .* mi_augmented[:,:p_miss_cat] ./ mi_augmented[:,:p]\n",
    "mi_augmented[!,:wins] = map( t -> (t > 0) ? :blue : :red, mi_augmented[:,:wins]);"
   ]
  },
  {
   "cell_type": "code",
   "execution_count": 72,
   "metadata": {
    "collapsed": true
   },
   "outputs": [
    {
     "data": {
      "image/svg+xml": [
       "<?xml version=\"1.0\" encoding=\"utf-8\"?>\n",
       "<svg xmlns=\"http://www.w3.org/2000/svg\" xmlns:xlink=\"http://www.w3.org/1999/xlink\" width=\"600\" height=\"400\" viewBox=\"0 0 2400 1600\">\n",
       "<defs>\n",
       "  <clipPath id=\"clip7500\">\n",
       "    <rect x=\"0\" y=\"0\" width=\"2000\" height=\"2000\"/>\n",
       "  </clipPath>\n",
       "</defs>\n",
       "<defs>\n",
       "  <clipPath id=\"clip7501\">\n",
       "    <rect x=\"0\" y=\"0\" width=\"2400\" height=\"1600\"/>\n",
       "  </clipPath>\n",
       "</defs>\n",
       "<polygon clip-path=\"url(#clip7501)\" points=\"\n",
       "0,1600 2400,1600 2400,0 0,0 \n",
       "  \" fill=\"#ffffff\" fill-rule=\"evenodd\" fill-opacity=\"1\"/>\n",
       "<defs>\n",
       "  <clipPath id=\"clip7502\">\n",
       "    <rect x=\"480\" y=\"0\" width=\"1681\" height=\"1600\"/>\n",
       "  </clipPath>\n",
       "</defs>\n",
       "<polygon clip-path=\"url(#clip7501)\" points=\"\n",
       "141.865,1487.47 2352.76,1487.47 2352.76,47.2441 141.865,47.2441 \n",
       "  \" fill=\"#ffffff\" fill-rule=\"evenodd\" fill-opacity=\"1\"/>\n",
       "<defs>\n",
       "  <clipPath id=\"clip7503\">\n",
       "    <rect x=\"141\" y=\"47\" width=\"2212\" height=\"1441\"/>\n",
       "  </clipPath>\n",
       "</defs>\n",
       "<polyline clip-path=\"url(#clip7503)\" style=\"stroke:#000000; stroke-width:2; stroke-opacity:0.1; fill:none\" points=\"\n",
       "  154.776,1487.47 154.776,47.2441 \n",
       "  \"/>\n",
       "<polyline clip-path=\"url(#clip7503)\" style=\"stroke:#000000; stroke-width:2; stroke-opacity:0.1; fill:none\" points=\"\n",
       "  688.628,1487.47 688.628,47.2441 \n",
       "  \"/>\n",
       "<polyline clip-path=\"url(#clip7503)\" style=\"stroke:#000000; stroke-width:2; stroke-opacity:0.1; fill:none\" points=\"\n",
       "  1222.48,1487.47 1222.48,47.2441 \n",
       "  \"/>\n",
       "<polyline clip-path=\"url(#clip7503)\" style=\"stroke:#000000; stroke-width:2; stroke-opacity:0.1; fill:none\" points=\"\n",
       "  1756.33,1487.47 1756.33,47.2441 \n",
       "  \"/>\n",
       "<polyline clip-path=\"url(#clip7503)\" style=\"stroke:#000000; stroke-width:2; stroke-opacity:0.1; fill:none\" points=\"\n",
       "  2290.18,1487.47 2290.18,47.2441 \n",
       "  \"/>\n",
       "<polyline clip-path=\"url(#clip7503)\" style=\"stroke:#000000; stroke-width:2; stroke-opacity:0.1; fill:none\" points=\"\n",
       "  141.865,1342.93 2352.76,1342.93 \n",
       "  \"/>\n",
       "<polyline clip-path=\"url(#clip7503)\" style=\"stroke:#000000; stroke-width:2; stroke-opacity:0.1; fill:none\" points=\"\n",
       "  141.865,996.529 2352.76,996.529 \n",
       "  \"/>\n",
       "<polyline clip-path=\"url(#clip7503)\" style=\"stroke:#000000; stroke-width:2; stroke-opacity:0.1; fill:none\" points=\"\n",
       "  141.865,650.126 2352.76,650.126 \n",
       "  \"/>\n",
       "<polyline clip-path=\"url(#clip7503)\" style=\"stroke:#000000; stroke-width:2; stroke-opacity:0.1; fill:none\" points=\"\n",
       "  141.865,303.722 2352.76,303.722 \n",
       "  \"/>\n",
       "<polyline clip-path=\"url(#clip7501)\" style=\"stroke:#000000; stroke-width:4; stroke-opacity:1; fill:none\" points=\"\n",
       "  141.865,1487.47 2352.76,1487.47 \n",
       "  \"/>\n",
       "<polyline clip-path=\"url(#clip7501)\" style=\"stroke:#000000; stroke-width:4; stroke-opacity:1; fill:none\" points=\"\n",
       "  141.865,1487.47 141.865,47.2441 \n",
       "  \"/>\n",
       "<polyline clip-path=\"url(#clip7501)\" style=\"stroke:#000000; stroke-width:4; stroke-opacity:1; fill:none\" points=\"\n",
       "  154.776,1487.47 154.776,1465.87 \n",
       "  \"/>\n",
       "<polyline clip-path=\"url(#clip7501)\" style=\"stroke:#000000; stroke-width:4; stroke-opacity:1; fill:none\" points=\"\n",
       "  688.628,1487.47 688.628,1465.87 \n",
       "  \"/>\n",
       "<polyline clip-path=\"url(#clip7501)\" style=\"stroke:#000000; stroke-width:4; stroke-opacity:1; fill:none\" points=\"\n",
       "  1222.48,1487.47 1222.48,1465.87 \n",
       "  \"/>\n",
       "<polyline clip-path=\"url(#clip7501)\" style=\"stroke:#000000; stroke-width:4; stroke-opacity:1; fill:none\" points=\"\n",
       "  1756.33,1487.47 1756.33,1465.87 \n",
       "  \"/>\n",
       "<polyline clip-path=\"url(#clip7501)\" style=\"stroke:#000000; stroke-width:4; stroke-opacity:1; fill:none\" points=\"\n",
       "  2290.18,1487.47 2290.18,1465.87 \n",
       "  \"/>\n",
       "<polyline clip-path=\"url(#clip7501)\" style=\"stroke:#000000; stroke-width:4; stroke-opacity:1; fill:none\" points=\"\n",
       "  141.865,1342.93 175.028,1342.93 \n",
       "  \"/>\n",
       "<polyline clip-path=\"url(#clip7501)\" style=\"stroke:#000000; stroke-width:4; stroke-opacity:1; fill:none\" points=\"\n",
       "  141.865,996.529 175.028,996.529 \n",
       "  \"/>\n",
       "<polyline clip-path=\"url(#clip7501)\" style=\"stroke:#000000; stroke-width:4; stroke-opacity:1; fill:none\" points=\"\n",
       "  141.865,650.126 175.028,650.126 \n",
       "  \"/>\n",
       "<polyline clip-path=\"url(#clip7501)\" style=\"stroke:#000000; stroke-width:4; stroke-opacity:1; fill:none\" points=\"\n",
       "  141.865,303.722 175.028,303.722 \n",
       "  \"/>\n",
       "<g clip-path=\"url(#clip7501)\">\n",
       "<text style=\"fill:#000000; fill-opacity:1; font-family:Arial,Helvetica Neue,Helvetica,sans-serif; font-size:48px; text-anchor:middle;\" transform=\"rotate(0, 154.776, 1541.47)\" x=\"154.776\" y=\"1541.47\">0.00</text>\n",
       "</g>\n",
       "<g clip-path=\"url(#clip7501)\">\n",
       "<text style=\"fill:#000000; fill-opacity:1; font-family:Arial,Helvetica Neue,Helvetica,sans-serif; font-size:48px; text-anchor:middle;\" transform=\"rotate(0, 688.628, 1541.47)\" x=\"688.628\" y=\"1541.47\">0.25</text>\n",
       "</g>\n",
       "<g clip-path=\"url(#clip7501)\">\n",
       "<text style=\"fill:#000000; fill-opacity:1; font-family:Arial,Helvetica Neue,Helvetica,sans-serif; font-size:48px; text-anchor:middle;\" transform=\"rotate(0, 1222.48, 1541.47)\" x=\"1222.48\" y=\"1541.47\">0.50</text>\n",
       "</g>\n",
       "<g clip-path=\"url(#clip7501)\">\n",
       "<text style=\"fill:#000000; fill-opacity:1; font-family:Arial,Helvetica Neue,Helvetica,sans-serif; font-size:48px; text-anchor:middle;\" transform=\"rotate(0, 1756.33, 1541.47)\" x=\"1756.33\" y=\"1541.47\">0.75</text>\n",
       "</g>\n",
       "<g clip-path=\"url(#clip7501)\">\n",
       "<text style=\"fill:#000000; fill-opacity:1; font-family:Arial,Helvetica Neue,Helvetica,sans-serif; font-size:48px; text-anchor:middle;\" transform=\"rotate(0, 2290.18, 1541.47)\" x=\"2290.18\" y=\"1541.47\">1.00</text>\n",
       "</g>\n",
       "<g clip-path=\"url(#clip7501)\">\n",
       "<text style=\"fill:#000000; fill-opacity:1; font-family:Arial,Helvetica Neue,Helvetica,sans-serif; font-size:48px; text-anchor:end;\" transform=\"rotate(0, 117.865, 1360.43)\" x=\"117.865\" y=\"1360.43\">-2</text>\n",
       "</g>\n",
       "<g clip-path=\"url(#clip7501)\">\n",
       "<text style=\"fill:#000000; fill-opacity:1; font-family:Arial,Helvetica Neue,Helvetica,sans-serif; font-size:48px; text-anchor:end;\" transform=\"rotate(0, 117.865, 1014.03)\" x=\"117.865\" y=\"1014.03\">-1</text>\n",
       "</g>\n",
       "<g clip-path=\"url(#clip7501)\">\n",
       "<text style=\"fill:#000000; fill-opacity:1; font-family:Arial,Helvetica Neue,Helvetica,sans-serif; font-size:48px; text-anchor:end;\" transform=\"rotate(0, 117.865, 667.626)\" x=\"117.865\" y=\"667.626\">0</text>\n",
       "</g>\n",
       "<g clip-path=\"url(#clip7501)\">\n",
       "<text style=\"fill:#000000; fill-opacity:1; font-family:Arial,Helvetica Neue,Helvetica,sans-serif; font-size:48px; text-anchor:end;\" transform=\"rotate(0, 117.865, 321.222)\" x=\"117.865\" y=\"321.222\">1</text>\n",
       "</g>\n",
       "<circle clip-path=\"url(#clip7503)\" style=\"fill:#000000; stroke:none; fill-opacity:1\" cx=\"2290.18\" cy=\"646.921\" r=\"18\"/>\n",
       "<circle clip-path=\"url(#clip7503)\" style=\"fill:#0000ff; stroke:none; fill-opacity:1\" cx=\"2290.18\" cy=\"646.921\" r=\"14\"/>\n",
       "<circle clip-path=\"url(#clip7503)\" style=\"fill:#000000; stroke:none; fill-opacity:1\" cx=\"385.631\" cy=\"650.248\" r=\"18\"/>\n",
       "<circle clip-path=\"url(#clip7503)\" style=\"fill:#ff0000; stroke:none; fill-opacity:1\" cx=\"385.631\" cy=\"650.248\" r=\"14\"/>\n",
       "<circle clip-path=\"url(#clip7503)\" style=\"fill:#000000; stroke:none; fill-opacity:1\" cx=\"489.742\" cy=\"650.033\" r=\"18\"/>\n",
       "<circle clip-path=\"url(#clip7503)\" style=\"fill:#0000ff; stroke:none; fill-opacity:1\" cx=\"489.742\" cy=\"650.033\" r=\"14\"/>\n",
       "<circle clip-path=\"url(#clip7503)\" style=\"fill:#000000; stroke:none; fill-opacity:1\" cx=\"216.672\" cy=\"650.087\" r=\"18\"/>\n",
       "<circle clip-path=\"url(#clip7503)\" style=\"fill:#0000ff; stroke:none; fill-opacity:1\" cx=\"216.672\" cy=\"650.087\" r=\"14\"/>\n",
       "<circle clip-path=\"url(#clip7503)\" style=\"fill:#000000; stroke:none; fill-opacity:1\" cx=\"519.358\" cy=\"289.499\" r=\"18\"/>\n",
       "<circle clip-path=\"url(#clip7503)\" style=\"fill:#0000ff; stroke:none; fill-opacity:1\" cx=\"519.358\" cy=\"289.499\" r=\"14\"/>\n",
       "<circle clip-path=\"url(#clip7503)\" style=\"fill:#000000; stroke:none; fill-opacity:1\" cx=\"612.364\" cy=\"626.77\" r=\"18\"/>\n",
       "<circle clip-path=\"url(#clip7503)\" style=\"fill:#0000ff; stroke:none; fill-opacity:1\" cx=\"612.364\" cy=\"626.77\" r=\"14\"/>\n",
       "<circle clip-path=\"url(#clip7503)\" style=\"fill:#000000; stroke:none; fill-opacity:1\" cx=\"205.619\" cy=\"649.605\" r=\"18\"/>\n",
       "<circle clip-path=\"url(#clip7503)\" style=\"fill:#0000ff; stroke:none; fill-opacity:1\" cx=\"205.619\" cy=\"649.605\" r=\"14\"/>\n",
       "<circle clip-path=\"url(#clip7503)\" style=\"fill:#000000; stroke:none; fill-opacity:1\" cx=\"204.437\" cy=\"649.969\" r=\"18\"/>\n",
       "<circle clip-path=\"url(#clip7503)\" style=\"fill:#0000ff; stroke:none; fill-opacity:1\" cx=\"204.437\" cy=\"649.969\" r=\"14\"/>\n",
       "<circle clip-path=\"url(#clip7503)\" style=\"fill:#000000; stroke:none; fill-opacity:1\" cx=\"2290.18\" cy=\"567.054\" r=\"18\"/>\n",
       "<circle clip-path=\"url(#clip7503)\" style=\"fill:#0000ff; stroke:none; fill-opacity:1\" cx=\"2290.18\" cy=\"567.054\" r=\"14\"/>\n",
       "<circle clip-path=\"url(#clip7503)\" style=\"fill:#000000; stroke:none; fill-opacity:1\" cx=\"2011.65\" cy=\"576.281\" r=\"18\"/>\n",
       "<circle clip-path=\"url(#clip7503)\" style=\"fill:#0000ff; stroke:none; fill-opacity:1\" cx=\"2011.65\" cy=\"576.281\" r=\"14\"/>\n",
       "<circle clip-path=\"url(#clip7503)\" style=\"fill:#000000; stroke:none; fill-opacity:1\" cx=\"688.628\" cy=\"630.177\" r=\"18\"/>\n",
       "<circle clip-path=\"url(#clip7503)\" style=\"fill:#0000ff; stroke:none; fill-opacity:1\" cx=\"688.628\" cy=\"630.177\" r=\"14\"/>\n",
       "<circle clip-path=\"url(#clip7503)\" style=\"fill:#000000; stroke:none; fill-opacity:1\" cx=\"764.893\" cy=\"1011.08\" r=\"18\"/>\n",
       "<circle clip-path=\"url(#clip7503)\" style=\"fill:#ff0000; stroke:none; fill-opacity:1\" cx=\"764.893\" cy=\"1011.08\" r=\"14\"/>\n",
       "<circle clip-path=\"url(#clip7503)\" style=\"fill:#000000; stroke:none; fill-opacity:1\" cx=\"1606.85\" cy=\"176.628\" r=\"18\"/>\n",
       "<circle clip-path=\"url(#clip7503)\" style=\"fill:#0000ff; stroke:none; fill-opacity:1\" cx=\"1606.85\" cy=\"176.628\" r=\"14\"/>\n",
       "<circle clip-path=\"url(#clip7503)\" style=\"fill:#000000; stroke:none; fill-opacity:1\" cx=\"1633.14\" cy=\"1446.71\" r=\"18\"/>\n",
       "<circle clip-path=\"url(#clip7503)\" style=\"fill:#ff0000; stroke:none; fill-opacity:1\" cx=\"1633.14\" cy=\"1446.71\" r=\"14\"/>\n",
       "<circle clip-path=\"url(#clip7503)\" style=\"fill:#000000; stroke:none; fill-opacity:1\" cx=\"1265.19\" cy=\"495.674\" r=\"18\"/>\n",
       "<circle clip-path=\"url(#clip7503)\" style=\"fill:#0000ff; stroke:none; fill-opacity:1\" cx=\"1265.19\" cy=\"495.674\" r=\"14\"/>\n",
       "<circle clip-path=\"url(#clip7503)\" style=\"fill:#000000; stroke:none; fill-opacity:1\" cx=\"1489.41\" cy=\"676.644\" r=\"18\"/>\n",
       "<circle clip-path=\"url(#clip7503)\" style=\"fill:#ff0000; stroke:none; fill-opacity:1\" cx=\"1489.41\" cy=\"676.644\" r=\"14\"/>\n",
       "<circle clip-path=\"url(#clip7503)\" style=\"fill:#000000; stroke:none; fill-opacity:1\" cx=\"2005.46\" cy=\"627.84\" r=\"18\"/>\n",
       "<circle clip-path=\"url(#clip7503)\" style=\"fill:#0000ff; stroke:none; fill-opacity:1\" cx=\"2005.46\" cy=\"627.84\" r=\"14\"/>\n",
       "<circle clip-path=\"url(#clip7503)\" style=\"fill:#000000; stroke:none; fill-opacity:1\" cx=\"603.62\" cy=\"88.0053\" r=\"18\"/>\n",
       "<circle clip-path=\"url(#clip7503)\" style=\"fill:#0000ff; stroke:none; fill-opacity:1\" cx=\"603.62\" cy=\"88.0053\" r=\"14\"/>\n",
       "<circle clip-path=\"url(#clip7503)\" style=\"fill:#000000; stroke:none; fill-opacity:1\" cx=\"2005.46\" cy=\"813.16\" r=\"18\"/>\n",
       "<circle clip-path=\"url(#clip7503)\" style=\"fill:#ff0000; stroke:none; fill-opacity:1\" cx=\"2005.46\" cy=\"813.16\" r=\"14\"/>\n",
       "<circle clip-path=\"url(#clip7503)\" style=\"fill:#000000; stroke:none; fill-opacity:1\" cx=\"1415.02\" cy=\"649.951\" r=\"18\"/>\n",
       "<circle clip-path=\"url(#clip7503)\" style=\"fill:#0000ff; stroke:none; fill-opacity:1\" cx=\"1415.02\" cy=\"649.951\" r=\"14\"/>\n",
       "<circle clip-path=\"url(#clip7503)\" style=\"fill:#000000; stroke:none; fill-opacity:1\" cx=\"228.411\" cy=\"586.403\" r=\"18\"/>\n",
       "<circle clip-path=\"url(#clip7503)\" style=\"fill:#0000ff; stroke:none; fill-opacity:1\" cx=\"228.411\" cy=\"586.403\" r=\"14\"/>\n",
       "<circle clip-path=\"url(#clip7503)\" style=\"fill:#000000; stroke:none; fill-opacity:1\" cx=\"526.151\" cy=\"663.985\" r=\"18\"/>\n",
       "<circle clip-path=\"url(#clip7503)\" style=\"fill:#ff0000; stroke:none; fill-opacity:1\" cx=\"526.151\" cy=\"663.985\" r=\"14\"/>\n",
       "<circle clip-path=\"url(#clip7503)\" style=\"fill:#000000; stroke:none; fill-opacity:1\" cx=\"2276.84\" cy=\"639.573\" r=\"18\"/>\n",
       "<circle clip-path=\"url(#clip7503)\" style=\"fill:#0000ff; stroke:none; fill-opacity:1\" cx=\"2276.84\" cy=\"639.573\" r=\"14\"/>\n",
       "<circle clip-path=\"url(#clip7503)\" style=\"fill:#000000; stroke:none; fill-opacity:1\" cx=\"2290.18\" cy=\"703.616\" r=\"18\"/>\n",
       "<circle clip-path=\"url(#clip7503)\" style=\"fill:#ff0000; stroke:none; fill-opacity:1\" cx=\"2290.18\" cy=\"703.616\" r=\"14\"/>\n",
       "<circle clip-path=\"url(#clip7503)\" style=\"fill:#000000; stroke:none; fill-opacity:1\" cx=\"2290.18\" cy=\"376.101\" r=\"18\"/>\n",
       "<circle clip-path=\"url(#clip7503)\" style=\"fill:#0000ff; stroke:none; fill-opacity:1\" cx=\"2290.18\" cy=\"376.101\" r=\"14\"/>\n",
       "<circle clip-path=\"url(#clip7503)\" style=\"fill:#000000; stroke:none; fill-opacity:1\" cx=\"811.825\" cy=\"648.759\" r=\"18\"/>\n",
       "<circle clip-path=\"url(#clip7503)\" style=\"fill:#0000ff; stroke:none; fill-opacity:1\" cx=\"811.825\" cy=\"648.759\" r=\"14\"/>\n",
       "<circle clip-path=\"url(#clip7503)\" style=\"fill:#000000; stroke:none; fill-opacity:1\" cx=\"1499.29\" cy=\"511.474\" r=\"18\"/>\n",
       "<circle clip-path=\"url(#clip7503)\" style=\"fill:#0000ff; stroke:none; fill-opacity:1\" cx=\"1499.29\" cy=\"511.474\" r=\"14\"/>\n",
       "<circle clip-path=\"url(#clip7503)\" style=\"fill:#000000; stroke:none; fill-opacity:1\" cx=\"2043.79\" cy=\"720.866\" r=\"18\"/>\n",
       "<circle clip-path=\"url(#clip7503)\" style=\"fill:#ff0000; stroke:none; fill-opacity:1\" cx=\"2043.79\" cy=\"720.866\" r=\"14\"/>\n",
       "<circle clip-path=\"url(#clip7503)\" style=\"fill:#000000; stroke:none; fill-opacity:1\" cx=\"2043.79\" cy=\"581.623\" r=\"18\"/>\n",
       "<circle clip-path=\"url(#clip7503)\" style=\"fill:#0000ff; stroke:none; fill-opacity:1\" cx=\"2043.79\" cy=\"581.623\" r=\"14\"/>\n",
       "<circle clip-path=\"url(#clip7503)\" style=\"fill:#000000; stroke:none; fill-opacity:1\" cx=\"2043.79\" cy=\"1352.67\" r=\"18\"/>\n",
       "<circle clip-path=\"url(#clip7503)\" style=\"fill:#ff0000; stroke:none; fill-opacity:1\" cx=\"2043.79\" cy=\"1352.67\" r=\"14\"/>\n",
       "<circle clip-path=\"url(#clip7503)\" style=\"fill:#000000; stroke:none; fill-opacity:1\" cx=\"2043.79\" cy=\"1028.73\" r=\"18\"/>\n",
       "<circle clip-path=\"url(#clip7503)\" style=\"fill:#ff0000; stroke:none; fill-opacity:1\" cx=\"2043.79\" cy=\"1028.73\" r=\"14\"/>\n",
       "<circle clip-path=\"url(#clip7503)\" style=\"fill:#000000; stroke:none; fill-opacity:1\" cx=\"2043.79\" cy=\"355.186\" r=\"18\"/>\n",
       "<circle clip-path=\"url(#clip7503)\" style=\"fill:#0000ff; stroke:none; fill-opacity:1\" cx=\"2043.79\" cy=\"355.186\" r=\"14\"/>\n",
       "<circle clip-path=\"url(#clip7503)\" style=\"fill:#000000; stroke:none; fill-opacity:1\" cx=\"2043.79\" cy=\"930.508\" r=\"18\"/>\n",
       "<circle clip-path=\"url(#clip7503)\" style=\"fill:#ff0000; stroke:none; fill-opacity:1\" cx=\"2043.79\" cy=\"930.508\" r=\"14\"/>\n",
       "<circle clip-path=\"url(#clip7503)\" style=\"fill:#000000; stroke:none; fill-opacity:1\" cx=\"2018.4\" cy=\"868.48\" r=\"18\"/>\n",
       "<circle clip-path=\"url(#clip7503)\" style=\"fill:#ff0000; stroke:none; fill-opacity:1\" cx=\"2018.4\" cy=\"868.48\" r=\"14\"/>\n",
       "<circle clip-path=\"url(#clip7503)\" style=\"fill:#000000; stroke:none; fill-opacity:1\" cx=\"856.828\" cy=\"651.992\" r=\"18\"/>\n",
       "<circle clip-path=\"url(#clip7503)\" style=\"fill:#ff0000; stroke:none; fill-opacity:1\" cx=\"856.828\" cy=\"651.992\" r=\"14\"/>\n",
       "</svg>\n"
      ]
     },
     "execution_count": 72,
     "metadata": {},
     "output_type": "execute_result"
    }
   ],
   "source": [
    "@df mi_augmented scatter(:prop_miss_cat2, :improvement, color=:wins, legend=:none)"
   ]
  },
  {
   "cell_type": "code",
   "execution_count": 78,
   "metadata": {
    "collapsed": true
   },
   "outputs": [
    {
     "data": {
      "text/html": [
       "<table class=\"data-frame\"><thead><tr><th></th><th>dataset</th><th>Mode_Impute</th><th>Missing_Indicator</th><th>rel_improvement</th></tr><tr><th></th><th>String</th><th>Float64</th><th>Float64</th><th>Float64</th></tr></thead><tbody><p>36 rows × 4 columns</p><tr><th>1</th><td>COUNT-loomis</td><td>0.134656</td><td>0.143908</td><td>0.0687055</td></tr><tr><th>2</th><td>Ecdat-Males</td><td>0.258188</td><td>0.257835</td><td>-0.00136757</td></tr><tr><th>3</th><td>Ecdat-Schooling</td><td>0.326204</td><td>0.326471</td><td>0.000820095</td></tr><tr><th>4</th><td>automobile</td><td>0.672928</td><td>0.67304</td><td>0.000165792</td></tr><tr><th>5</th><td>breast-cancer</td><td>-43.198</td><td>-42.1569</td><td>0.0240998</td></tr><tr><th>6</th><td>car-Chile</td><td>-208.999</td><td>-208.932</td><td>0.000322599</td></tr><tr><th>7</th><td>communities-and-crime</td><td>0.649907</td><td>0.65141</td><td>0.00231284</td></tr><tr><th>8</th><td>communities-and-crime-2</td><td>0.608948</td><td>0.609399</td><td>0.000741827</td></tr><tr><th>9</th><td>congressional-voting-records</td><td>-13.4867</td><td>-13.2469</td><td>0.0177814</td></tr><tr><th>10</th><td>credit-approval</td><td>-70.802</td><td>-70.5888</td><td>0.00301085</td></tr><tr><th>11</th><td>echocardiogram</td><td>-26.795</td><td>-26.7374</td><td>0.00214915</td></tr><tr><th>12</th><td>heart-disease-cleveland</td><td>-34.4851</td><td>-35.5271</td><td>-0.0302157</td></tr><tr><th>13</th><td>heart-disease-hungarian</td><td>-32.9069</td><td>-31.54</td><td>0.0415383</td></tr><tr><th>14</th><td>heart-disease-switzerland</td><td>-9.12429</td><td>-11.4239</td><td>-0.25203</td></tr><tr><th>15</th><td>heart-disease-va</td><td>-33.9832</td><td>-33.5373</td><td>0.0131204</td></tr><tr><th>16</th><td>hepatitis</td><td>-18.4393</td><td>-18.5159</td><td>-0.00415171</td></tr><tr><th>17</th><td>horse-colic</td><td>-39.6014</td><td>-39.5371</td><td>0.00162453</td></tr><tr><th>18</th><td>lung-cancer</td><td>-7.54152</td><td>-5.91878</td><td>0.215173</td></tr><tr><th>19</th><td>mammographic-mass</td><td>-119.667</td><td>-120.138</td><td>-0.00393299</td></tr><tr><th>20</th><td>mlmRev-star</td><td>0.640441</td><td>0.640945</td><td>0.000785539</td></tr><tr><th>21</th><td>mushroom</td><td>-3.79752</td><td>-3.61357</td><td>0.0484404</td></tr><tr><th>22</th><td>post-operative-patient</td><td>-17.4815</td><td>-17.5215</td><td>-0.00228863</td></tr><tr><th>23</th><td>pscl-politicalInformation</td><td>-346.092</td><td>-346.061</td><td>8.80205e-5</td></tr><tr><th>24</th><td>shuttle-landing-control</td><td>-2.26143</td><td>-2.41585</td><td>-0.0682824</td></tr><tr><th>25</th><td>soybean-large</td><td>-15.2596</td><td>-14.4685</td><td>0.0518399</td></tr><tr><th>26</th><td>survival-cancer</td><td>-0.000458453</td><td>0.00348559</td><td>8.60294</td></tr><tr><th>27</th><td>survival-pbc</td><td>-66.2979</td><td>-65.8976</td><td>0.00603732</td></tr><tr><th>28</th><td>thyroid-disease-allbp</td><td>-9.78579</td><td>-9.99001</td><td>-0.0208685</td></tr><tr><th>29</th><td>thyroid-disease-allhyper</td><td>-12.6588</td><td>-12.461</td><td>0.0156218</td></tr><tr><th>30</th><td>thyroid-disease-allhypo</td><td>-163.85</td><td>-165.878</td><td>-0.0123779</td></tr><tr><th>&vellip;</th><td>&vellip;</td><td>&vellip;</td><td>&vellip;</td><td>&vellip;</td></tr></tbody></table>"
      ],
      "text/latex": [
       "\\begin{tabular}{r|cccc}\n",
       "\t& dataset & Mode\\_Impute & Missing\\_Indicator & rel\\_improvement\\\\\n",
       "\t\\hline\n",
       "\t& String & Float64 & Float64 & Float64\\\\\n",
       "\t\\hline\n",
       "\t1 & COUNT-loomis & 0.134656 & 0.143908 & 0.0687055 \\\\\n",
       "\t2 & Ecdat-Males & 0.258188 & 0.257835 & -0.00136757 \\\\\n",
       "\t3 & Ecdat-Schooling & 0.326204 & 0.326471 & 0.000820095 \\\\\n",
       "\t4 & automobile & 0.672928 & 0.67304 & 0.000165792 \\\\\n",
       "\t5 & breast-cancer & -43.198 & -42.1569 & 0.0240998 \\\\\n",
       "\t6 & car-Chile & -208.999 & -208.932 & 0.000322599 \\\\\n",
       "\t7 & communities-and-crime & 0.649907 & 0.65141 & 0.00231284 \\\\\n",
       "\t8 & communities-and-crime-2 & 0.608948 & 0.609399 & 0.000741827 \\\\\n",
       "\t9 & congressional-voting-records & -13.4867 & -13.2469 & 0.0177814 \\\\\n",
       "\t10 & credit-approval & -70.802 & -70.5888 & 0.00301085 \\\\\n",
       "\t11 & echocardiogram & -26.795 & -26.7374 & 0.00214915 \\\\\n",
       "\t12 & heart-disease-cleveland & -34.4851 & -35.5271 & -0.0302157 \\\\\n",
       "\t13 & heart-disease-hungarian & -32.9069 & -31.54 & 0.0415383 \\\\\n",
       "\t14 & heart-disease-switzerland & -9.12429 & -11.4239 & -0.25203 \\\\\n",
       "\t15 & heart-disease-va & -33.9832 & -33.5373 & 0.0131204 \\\\\n",
       "\t16 & hepatitis & -18.4393 & -18.5159 & -0.00415171 \\\\\n",
       "\t17 & horse-colic & -39.6014 & -39.5371 & 0.00162453 \\\\\n",
       "\t18 & lung-cancer & -7.54152 & -5.91878 & 0.215173 \\\\\n",
       "\t19 & mammographic-mass & -119.667 & -120.138 & -0.00393299 \\\\\n",
       "\t20 & mlmRev-star & 0.640441 & 0.640945 & 0.000785539 \\\\\n",
       "\t21 & mushroom & -3.79752 & -3.61357 & 0.0484404 \\\\\n",
       "\t22 & post-operative-patient & -17.4815 & -17.5215 & -0.00228863 \\\\\n",
       "\t23 & pscl-politicalInformation & -346.092 & -346.061 & 8.80205e-5 \\\\\n",
       "\t24 & shuttle-landing-control & -2.26143 & -2.41585 & -0.0682824 \\\\\n",
       "\t25 & soybean-large & -15.2596 & -14.4685 & 0.0518399 \\\\\n",
       "\t26 & survival-cancer & -0.000458453 & 0.00348559 & 8.60294 \\\\\n",
       "\t27 & survival-pbc & -66.2979 & -65.8976 & 0.00603732 \\\\\n",
       "\t28 & thyroid-disease-allbp & -9.78579 & -9.99001 & -0.0208685 \\\\\n",
       "\t29 & thyroid-disease-allhyper & -12.6588 & -12.461 & 0.0156218 \\\\\n",
       "\t30 & thyroid-disease-allhypo & -163.85 & -165.878 & -0.0123779 \\\\\n",
       "\t$\\dots$ & $\\dots$ & $\\dots$ & $\\dots$ & $\\dots$ \\\\\n",
       "\\end{tabular}\n"
      ],
      "text/plain": [
       "36×4 DataFrame. Omitted printing of 1 columns\n",
       "│ Row │ dataset                        │ Mode_Impute  │ Missing_Indicator │\n",
       "│     │ \u001b[90mString\u001b[39m                         │ \u001b[90mFloat64\u001b[39m      │ \u001b[90mFloat64\u001b[39m           │\n",
       "├─────┼────────────────────────────────┼──────────────┼───────────────────┤\n",
       "│ 1   │ COUNT-loomis                   │ 0.134656     │ 0.143908          │\n",
       "│ 2   │ Ecdat-Males                    │ 0.258188     │ 0.257835          │\n",
       "│ 3   │ Ecdat-Schooling                │ 0.326204     │ 0.326471          │\n",
       "│ 4   │ automobile                     │ 0.672928     │ 0.67304           │\n",
       "│ 5   │ breast-cancer                  │ -43.198      │ -42.1569          │\n",
       "│ 6   │ car-Chile                      │ -208.999     │ -208.932          │\n",
       "│ 7   │ communities-and-crime          │ 0.649907     │ 0.65141           │\n",
       "│ 8   │ communities-and-crime-2        │ 0.608948     │ 0.609399          │\n",
       "│ 9   │ congressional-voting-records   │ -13.4867     │ -13.2469          │\n",
       "│ 10  │ credit-approval                │ -70.802      │ -70.5888          │\n",
       "⋮\n",
       "│ 26  │ survival-cancer                │ -0.000458453 │ 0.00348559        │\n",
       "│ 27  │ survival-pbc                   │ -66.2979     │ -65.8976          │\n",
       "│ 28  │ thyroid-disease-allbp          │ -9.78579     │ -9.99001          │\n",
       "│ 29  │ thyroid-disease-allhyper       │ -12.6588     │ -12.461           │\n",
       "│ 30  │ thyroid-disease-allhypo        │ -163.85      │ -165.878          │\n",
       "│ 31  │ thyroid-disease-allrep         │ -57.0897     │ -58.1827          │\n",
       "│ 32  │ thyroid-disease-dis            │ -60.2142     │ -59.3628          │\n",
       "│ 33  │ thyroid-disease-sick           │ -99.0386     │ -99.848           │\n",
       "│ 34  │ thyroid-disease-sick-euthyroid │ -132.167     │ NaN               │\n",
       "│ 35  │ thyroid-disease-thyroid-0387   │ -1147.03     │ -1147.66          │\n",
       "│ 36  │ wiki4he                        │ 0.387792     │ 0.382405          │"
      ]
     },
     "execution_count": 78,
     "metadata": {},
     "output_type": "execute_result"
    }
   ],
   "source": [
    "mi_augmented[:,[:dataset,:Mode_Impute, :Missing_Indicator,:rel_improvement]]"
   ]
  },
  {
   "cell_type": "markdown",
   "metadata": {},
   "source": [
    "## Claim 2: Mean-imputation is good\n"
   ]
  },
  {
   "cell_type": "code",
   "execution_count": 157,
   "metadata": {
    "collapsed": true
   },
   "outputs": [
    {
     "data": {
      "text/html": [
       "<table class=\"data-frame\"><thead><tr><th></th><th>Name</th><th>n</th><th>p</th><th>p_miss_num</th></tr><tr><th></th><th>String</th><th>Int64</th><th>Int64</th><th>Int64</th></tr></thead><tbody><p>59 rows × 4 columns</p><tr><th>1</th><td>Ecdat-MCAS</td><td>180</td><td>13</td><td>2</td></tr><tr><th>2</th><td>Ecdat-Mofa</td><td>50</td><td>53</td><td>1</td></tr><tr><th>3</th><td>Ecdat-RetSchool</td><td>3078</td><td>37</td><td>4</td></tr><tr><th>4</th><td>Ecdat-Schooling</td><td>3010</td><td>53</td><td>2</td></tr><tr><th>5</th><td>MASS-Cars93</td><td>93</td><td>64</td><td>2</td></tr><tr><th>6</th><td>MASS-Pima.tr2</td><td>300</td><td>7</td><td>3</td></tr><tr><th>7</th><td>MASS-survey</td><td>237</td><td>29</td><td>4</td></tr><tr><th>8</th><td>arrhythmia</td><td>452</td><td>391</td><td>5</td></tr><tr><th>9</th><td>auto-mpg</td><td>398</td><td>13</td><td>1</td></tr><tr><th>10</th><td>automobile</td><td>205</td><td>70</td><td>6</td></tr><tr><th>11</th><td>boot-neuro</td><td>469</td><td>6</td><td>5</td></tr><tr><th>12</th><td>breast-cancer-wisconsin-original</td><td>699</td><td>9</td><td>1</td></tr><tr><th>13</th><td>breast-cancer-wisconsin-prognostic</td><td>198</td><td>32</td><td>1</td></tr><tr><th>14</th><td>car-Chile</td><td>2532</td><td>15</td><td>3</td></tr><tr><th>15</th><td>car-Davis</td><td>200</td><td>6</td><td>2</td></tr><tr><th>16</th><td>car-Freedman</td><td>110</td><td>4</td><td>2</td></tr><tr><th>17</th><td>car-Hartnagel</td><td>37</td><td>8</td><td>2</td></tr><tr><th>18</th><td>car-SLID</td><td>7425</td><td>9</td><td>2</td></tr><tr><th>19</th><td>cluster-plantTraits</td><td>136</td><td>85</td><td>2</td></tr><tr><th>20</th><td>communities-and-crime</td><td>1994</td><td>127</td><td>22</td></tr><tr><th>21</th><td>communities-and-crime-2</td><td>2215</td><td>130</td><td>22</td></tr><tr><th>22</th><td>credit-approval</td><td>690</td><td>51</td><td>2</td></tr><tr><th>23</th><td>cylinder-bands</td><td>540</td><td>879</td><td>17</td></tr><tr><th>24</th><td>datasets-airquality</td><td>153</td><td>4</td><td>2</td></tr><tr><th>25</th><td>dermatology</td><td>366</td><td>130</td><td>1</td></tr><tr><th>26</th><td>echocardiogram</td><td>132</td><td>9</td><td>6</td></tr><tr><th>27</th><td>ggplot2-movies</td><td>58788</td><td>34</td><td>1</td></tr><tr><th>28</th><td>ggplot2-msleep</td><td>83</td><td>37</td><td>3</td></tr><tr><th>29</th><td>heart-disease-hungarian</td><td>294</td><td>31</td><td>3</td></tr><tr><th>30</th><td>heart-disease-switzerland</td><td>123</td><td>32</td><td>3</td></tr><tr><th>&vellip;</th><td>&vellip;</td><td>&vellip;</td><td>&vellip;</td><td>&vellip;</td></tr></tbody></table>"
      ],
      "text/latex": [
       "\\begin{tabular}{r|cccc}\n",
       "\t& Name & n & p & p\\_miss\\_num\\\\\n",
       "\t\\hline\n",
       "\t& String & Int64 & Int64 & Int64\\\\\n",
       "\t\\hline\n",
       "\t1 & Ecdat-MCAS & 180 & 13 & 2 \\\\\n",
       "\t2 & Ecdat-Mofa & 50 & 53 & 1 \\\\\n",
       "\t3 & Ecdat-RetSchool & 3078 & 37 & 4 \\\\\n",
       "\t4 & Ecdat-Schooling & 3010 & 53 & 2 \\\\\n",
       "\t5 & MASS-Cars93 & 93 & 64 & 2 \\\\\n",
       "\t6 & MASS-Pima.tr2 & 300 & 7 & 3 \\\\\n",
       "\t7 & MASS-survey & 237 & 29 & 4 \\\\\n",
       "\t8 & arrhythmia & 452 & 391 & 5 \\\\\n",
       "\t9 & auto-mpg & 398 & 13 & 1 \\\\\n",
       "\t10 & automobile & 205 & 70 & 6 \\\\\n",
       "\t11 & boot-neuro & 469 & 6 & 5 \\\\\n",
       "\t12 & breast-cancer-wisconsin-original & 699 & 9 & 1 \\\\\n",
       "\t13 & breast-cancer-wisconsin-prognostic & 198 & 32 & 1 \\\\\n",
       "\t14 & car-Chile & 2532 & 15 & 3 \\\\\n",
       "\t15 & car-Davis & 200 & 6 & 2 \\\\\n",
       "\t16 & car-Freedman & 110 & 4 & 2 \\\\\n",
       "\t17 & car-Hartnagel & 37 & 8 & 2 \\\\\n",
       "\t18 & car-SLID & 7425 & 9 & 2 \\\\\n",
       "\t19 & cluster-plantTraits & 136 & 85 & 2 \\\\\n",
       "\t20 & communities-and-crime & 1994 & 127 & 22 \\\\\n",
       "\t21 & communities-and-crime-2 & 2215 & 130 & 22 \\\\\n",
       "\t22 & credit-approval & 690 & 51 & 2 \\\\\n",
       "\t23 & cylinder-bands & 540 & 879 & 17 \\\\\n",
       "\t24 & datasets-airquality & 153 & 4 & 2 \\\\\n",
       "\t25 & dermatology & 366 & 130 & 1 \\\\\n",
       "\t26 & echocardiogram & 132 & 9 & 6 \\\\\n",
       "\t27 & ggplot2-movies & 58788 & 34 & 1 \\\\\n",
       "\t28 & ggplot2-msleep & 83 & 37 & 3 \\\\\n",
       "\t29 & heart-disease-hungarian & 294 & 31 & 3 \\\\\n",
       "\t30 & heart-disease-switzerland & 123 & 32 & 3 \\\\\n",
       "\t$\\dots$ & $\\dots$ & $\\dots$ & $\\dots$ & $\\dots$ \\\\\n",
       "\\end{tabular}\n"
      ],
      "text/plain": [
       "59×4 DataFrame\n",
       "│ Row │ Name                           │ n     │ p     │ p_miss_num │\n",
       "│     │ \u001b[90mString\u001b[39m                         │ \u001b[90mInt64\u001b[39m │ \u001b[90mInt64\u001b[39m │ \u001b[90mInt64\u001b[39m      │\n",
       "├─────┼────────────────────────────────┼───────┼───────┼────────────┤\n",
       "│ 1   │ Ecdat-MCAS                     │ 180   │ 13    │ 2          │\n",
       "│ 2   │ Ecdat-Mofa                     │ 50    │ 53    │ 1          │\n",
       "│ 3   │ Ecdat-RetSchool                │ 3078  │ 37    │ 4          │\n",
       "│ 4   │ Ecdat-Schooling                │ 3010  │ 53    │ 2          │\n",
       "│ 5   │ MASS-Cars93                    │ 93    │ 64    │ 2          │\n",
       "│ 6   │ MASS-Pima.tr2                  │ 300   │ 7     │ 3          │\n",
       "│ 7   │ MASS-survey                    │ 237   │ 29    │ 4          │\n",
       "│ 8   │ arrhythmia                     │ 452   │ 391   │ 5          │\n",
       "│ 9   │ auto-mpg                       │ 398   │ 13    │ 1          │\n",
       "│ 10  │ automobile                     │ 205   │ 70    │ 6          │\n",
       "⋮\n",
       "│ 49  │ survival-mgus                  │ 241   │ 15    │ 5          │\n",
       "│ 50  │ survival-pbc                   │ 418   │ 32    │ 7          │\n",
       "│ 51  │ thyroid-disease-allbp          │ 2800  │ 54    │ 6          │\n",
       "│ 52  │ thyroid-disease-allhyper       │ 2800  │ 54    │ 6          │\n",
       "│ 53  │ thyroid-disease-allhypo        │ 2800  │ 54    │ 6          │\n",
       "│ 54  │ thyroid-disease-allrep         │ 2800  │ 54    │ 6          │\n",
       "│ 55  │ thyroid-disease-dis            │ 2800  │ 54    │ 6          │\n",
       "│ 56  │ thyroid-disease-sick           │ 2800  │ 54    │ 6          │\n",
       "│ 57  │ thyroid-disease-sick-euthyroid │ 3163  │ 44    │ 7          │\n",
       "│ 58  │ thyroid-disease-thyroid-0387   │ 9172  │ 56    │ 6          │\n",
       "│ 59  │ wiki4he                        │ 913   │ 78    │ 44         │"
      ]
     },
     "execution_count": 157,
     "metadata": {},
     "output_type": "execute_result"
    }
   ],
   "source": [
    "#Select only datasets where at least one missing numerical feature\n",
    "pattern_count_num = DataFrame(CSV.read(\"pattern_counts_numonly.csv\"))[:,[:Name,:n,:p,:p_miss]]\n",
    "rename!(pattern_count_num, :p_miss => :p_miss_num)\n",
    "filter!(t -> t[:p_miss_num] > 0, pattern_count_num)"
   ]
  },
  {
   "cell_type": "code",
   "execution_count": 158,
   "metadata": {},
   "outputs": [
    {
     "name": "stdout",
     "output_type": "stream",
     "text": [
      "d = \"cylinder-bands\"\n",
      "d = \"trains\"\n"
     ]
    }
   ],
   "source": [
    "for d in unique(res[:,:dataset])\n",
    "    aux = filter(t-> t[:dataset] == d, res)\n",
    "    filter!(t-> t[:method_cat] == \"Imp-then-Reg\", aux)\n",
    "    if size(aux,1) == 0\n",
    "        @show d\n",
    "    end\n",
    "end"
   ]
  },
  {
   "cell_type": "code",
   "execution_count": 159,
   "metadata": {},
   "outputs": [
    {
     "name": "stdout",
     "output_type": "stream",
     "text": [
      "length(unique(itr_res[:, :dataset])) = 52\n",
      "length(unique(itr_res[:, :dataset])) = 41\n",
      "length(unique(itr_res[:, :dataset])) = 40\n",
      "length(unique(itr_res[:, :dataset])) = 40\n",
      "length(unique(itr_best[:, :dataset])) = 40\n",
      "length(unique(itr_res[:, :dataset])) = 40\n",
      "length(unique(itr_res[:, :dataset])) = 40\n"
     ]
    },
    {
     "data": {
      "text/plain": [
       "40"
      ]
     },
     "execution_count": 159,
     "metadata": {},
     "output_type": "execute_result"
    }
   ],
   "source": [
    "itr_res = deepcopy(res)\n",
    "@show length(unique(itr_res[:,:dataset]))\n",
    "filter!(t -> t[:dataset] ∈ unique(pattern_count_num[:,:Name]), itr_res) #filter datasets\n",
    "@show length(unique(itr_res[:,:dataset]))\n",
    "filter!(t -> t[:method_cat] == \"Imp-then-Reg\", itr_res) #compare only impute-then-regress\n",
    "@show length(unique(itr_res[:,:dataset]))\n",
    "filter!(t -> t[:method] != \"Imp-then-Reg 5\", itr_res) #remove mode impute\n",
    "select!(itr_res, Not(:method_cat))\n",
    "\n",
    "select!(itr_res, Not(:splitnum))\n",
    "itr_res = aggregate(itr_res, [:dataset, :method], mean)\n",
    "@show length(unique(itr_res[:,:dataset]))\n",
    "rename!(itr_res, :osr2_mean => :osr2)\n",
    "\n",
    "itr_res[!,:osr2] .= round.(itr_res[:,:osr2], digits=4)\n",
    "itr_best = by(itr_res, [:dataset]) do df\n",
    "    DataFrame(results = [sort(unique(df[:,:osr2]), rev=true)])\n",
    "end\n",
    "@show length(unique(itr_best[:,:dataset]))\n",
    "\n",
    "itr_res = join(itr_res, itr_best, on = [:dataset])\n",
    "@show length(unique(itr_res[:,:dataset]))\n",
    "\n",
    "rank = zeros(size(itr_res,1))\n",
    "for i in 1:size(itr_res,1)\n",
    "    rank[i] = findfirst(itr_res[i,:osr2] .== itr_res[i,:results])\n",
    "end\n",
    "itr_res[!,:rank] = rank\n",
    "itr_res[!,:wins] = 1 .* (itr_res[:,:rank] .== 1)\n",
    "select!(itr_res, Not(:results))\n",
    "itr_res\n",
    "@show length(unique(itr_res[:,:dataset]))"
   ]
  },
  {
   "cell_type": "code",
   "execution_count": 160,
   "metadata": {
    "collapsed": true
   },
   "outputs": [
    {
     "data": {
      "text/plain": [
       "40-element Array{String,1}:\n",
       " \"Ecdat-MCAS\"                        \n",
       " \"Ecdat-Mofa\"                        \n",
       " \"Ecdat-RetSchool\"                   \n",
       " \"Ecdat-Schooling\"                   \n",
       " \"MASS-Cars93\"                       \n",
       " \"MASS-Pima.tr2\"                     \n",
       " \"arrhythmia\"                        \n",
       " \"auto-mpg\"                          \n",
       " \"automobile\"                        \n",
       " \"breast-cancer-wisconsin-original\"  \n",
       " \"breast-cancer-wisconsin-prognostic\"\n",
       " \"car-Chile\"                         \n",
       " \"communities-and-crime-2\"           \n",
       " ⋮                                   \n",
       " \"survival-cancer\"                   \n",
       " \"survival-mgus\"                     \n",
       " \"survival-pbc\"                      \n",
       " \"thyroid-disease-allbp\"             \n",
       " \"thyroid-disease-allhyper\"          \n",
       " \"thyroid-disease-allhypo\"           \n",
       " \"thyroid-disease-allrep\"            \n",
       " \"thyroid-disease-dis\"               \n",
       " \"thyroid-disease-sick-euthyroid\"    \n",
       " \"thyroid-disease-sick\"              \n",
       " \"thyroid-disease-thyroid-0387\"      \n",
       " \"wiki4he\"                           "
      ]
     },
     "execution_count": 160,
     "metadata": {},
     "output_type": "execute_result"
    }
   ],
   "source": [
    "unique(itr_res[:,:dataset])"
   ]
  },
  {
   "cell_type": "code",
   "execution_count": 161,
   "metadata": {},
   "outputs": [
    {
     "data": {
      "text/html": [
       "<table class=\"data-frame\"><thead><tr><th></th><th>method</th><th>wins_sum</th></tr><tr><th></th><th>String</th><th>Int64</th></tr></thead><tbody><p>4 rows × 2 columns</p><tr><th>1</th><td>Imp-then-Reg 1</td><td>8</td></tr><tr><th>2</th><td>Imp-then-Reg 2</td><td>10</td></tr><tr><th>3</th><td>Imp-then-Reg 3</td><td>8</td></tr><tr><th>4</th><td>Imp-then-Reg 4</td><td>16</td></tr></tbody></table>"
      ],
      "text/latex": [
       "\\begin{tabular}{r|cc}\n",
       "\t& method & wins\\_sum\\\\\n",
       "\t\\hline\n",
       "\t& String & Int64\\\\\n",
       "\t\\hline\n",
       "\t1 & Imp-then-Reg 1 & 8 \\\\\n",
       "\t2 & Imp-then-Reg 2 & 10 \\\\\n",
       "\t3 & Imp-then-Reg 3 & 8 \\\\\n",
       "\t4 & Imp-then-Reg 4 & 16 \\\\\n",
       "\\end{tabular}\n"
      ],
      "text/plain": [
       "4×2 DataFrame\n",
       "│ Row │ method         │ wins_sum │\n",
       "│     │ \u001b[90mString\u001b[39m         │ \u001b[90mInt64\u001b[39m    │\n",
       "├─────┼────────────────┼──────────┤\n",
       "│ 1   │ Imp-then-Reg 1 │ 8        │\n",
       "│ 2   │ Imp-then-Reg 2 │ 10       │\n",
       "│ 3   │ Imp-then-Reg 3 │ 8        │\n",
       "│ 4   │ Imp-then-Reg 4 │ 16       │"
      ]
     },
     "execution_count": 161,
     "metadata": {},
     "output_type": "execute_result"
    }
   ],
   "source": [
    "aggregate(itr_res[:,[:method,:wins]], :method, sum)"
   ]
  },
  {
   "cell_type": "code",
   "execution_count": 162,
   "metadata": {},
   "outputs": [
    {
     "data": {
      "text/html": [
       "<table class=\"data-frame\"><thead><tr><th></th><th>method</th><th>rank_function</th></tr><tr><th></th><th>String</th><th>Int64</th></tr></thead><tbody><p>4 rows × 2 columns</p><tr><th>1</th><td>Imp-then-Reg 1</td><td>40</td></tr><tr><th>2</th><td>Imp-then-Reg 2</td><td>40</td></tr><tr><th>3</th><td>Imp-then-Reg 3</td><td>40</td></tr><tr><th>4</th><td>Imp-then-Reg 4</td><td>40</td></tr></tbody></table>"
      ],
      "text/latex": [
       "\\begin{tabular}{r|cc}\n",
       "\t& method & rank\\_function\\\\\n",
       "\t\\hline\n",
       "\t& String & Int64\\\\\n",
       "\t\\hline\n",
       "\t1 & Imp-then-Reg 1 & 40 \\\\\n",
       "\t2 & Imp-then-Reg 2 & 40 \\\\\n",
       "\t3 & Imp-then-Reg 3 & 40 \\\\\n",
       "\t4 & Imp-then-Reg 4 & 40 \\\\\n",
       "\\end{tabular}\n"
      ],
      "text/plain": [
       "4×2 DataFrame\n",
       "│ Row │ method         │ rank_function │\n",
       "│     │ \u001b[90mString\u001b[39m         │ \u001b[90mInt64\u001b[39m         │\n",
       "├─────┼────────────────┼───────────────┤\n",
       "│ 1   │ Imp-then-Reg 1 │ 40            │\n",
       "│ 2   │ Imp-then-Reg 2 │ 40            │\n",
       "│ 3   │ Imp-then-Reg 3 │ 40            │\n",
       "│ 4   │ Imp-then-Reg 4 │ 40            │"
      ]
     },
     "execution_count": 162,
     "metadata": {},
     "output_type": "execute_result"
    }
   ],
   "source": [
    "aggregate(itr_res[:,[:method,:rank]], :method, t -> sum(t.>0))"
   ]
  },
  {
   "cell_type": "code",
   "execution_count": 163,
   "metadata": {},
   "outputs": [
    {
     "name": "stdout",
     "output_type": "stream",
     "text": [
      "Imp-then-Reg 1 wins over Imp-then-Reg 2 in 20 instances\n",
      "Imp-then-Reg 1 wins over Imp-then-Reg 3 in 19 instances\n",
      "Imp-then-Reg 1 wins over Imp-then-Reg 4 in 16 instances\n",
      "\n",
      "Imp-then-Reg 2 wins over Imp-then-Reg 1 in 18 instances\n",
      "Imp-then-Reg 2 wins over Imp-then-Reg 3 in 25 instances\n",
      "Imp-then-Reg 2 wins over Imp-then-Reg 4 in 16 instances\n",
      "\n",
      "Imp-then-Reg 3 wins over Imp-then-Reg 1 in 20 instances\n",
      "Imp-then-Reg 3 wins over Imp-then-Reg 2 in 14 instances\n",
      "Imp-then-Reg 3 wins over Imp-then-Reg 4 in 20 instances\n",
      "\n",
      "Imp-then-Reg 4 wins over Imp-then-Reg 1 in 22 instances\n",
      "Imp-then-Reg 4 wins over Imp-then-Reg 2 in 22 instances\n",
      "Imp-then-Reg 4 wins over Imp-then-Reg 3 in 18 instances\n",
      "\n"
     ]
    }
   ],
   "source": [
    "for m1 in unique(itr_res[:,:method])\n",
    "    aux1 = filter(t-> t[:method] == m1, itr_res)\n",
    "    for m2 in unique(itr_res[:,:method])\n",
    "        if m1 != m2\n",
    "            aux2 = filter(t-> t[:method] == m2, itr_res)\n",
    "            wincount = 0 \n",
    "            for d in unique(itr_res[:,:dataset])\n",
    "                if aux1[findfirst(aux1[:,:dataset] .== d),:rank] < aux2[findfirst(aux2[:,:dataset] .== d),:rank]\n",
    "                    wincount += 1\n",
    "                end\n",
    "            end \n",
    "            println(\"$m1 wins over $m2 in $wincount instances\")\n",
    "        end\n",
    "    end\n",
    "    println()\n",
    "end"
   ]
  },
  {
   "cell_type": "code",
   "execution_count": 164,
   "metadata": {
    "collapsed": true
   },
   "outputs": [
    {
     "name": "stderr",
     "output_type": "stream",
     "text": [
      "WARNING: using StatsBase.iqr in module Main conflicts with an existing identifier.\n"
     ]
    }
   ],
   "source": [
    "using StatsBase"
   ]
  },
  {
   "cell_type": "code",
   "execution_count": 165,
   "metadata": {
    "collapsed": true
   },
   "outputs": [
    {
     "ename": "MethodError",
     "evalue": "MethodError: no method matching getindex(::DataFrames.Index, ::getfield(Main, Symbol(\"##171#172\")))\nClosest candidates are:\n  getindex(::DataFrames.Index, !Matched::Symbol) at /Users/jpauph/.julia/packages/DataFrames/yH0f6/src/other/index.jl:247\n  getindex(::DataFrames.Index, !Matched::AbstractArray{Symbol,1}) at /Users/jpauph/.julia/packages/DataFrames/yH0f6/src/other/index.jl:249\n  getindex(::DataFrames.AbstractIndex, !Matched::Bool) at /Users/jpauph/.julia/packages/DataFrames/yH0f6/src/other/index.jl:142\n  ...",
     "output_type": "error",
     "traceback": [
      "MethodError: no method matching getindex(::DataFrames.Index, ::getfield(Main, Symbol(\"##171#172\")))\nClosest candidates are:\n  getindex(::DataFrames.Index, !Matched::Symbol) at /Users/jpauph/.julia/packages/DataFrames/yH0f6/src/other/index.jl:247\n  getindex(::DataFrames.Index, !Matched::AbstractArray{Symbol,1}) at /Users/jpauph/.julia/packages/DataFrames/yH0f6/src/other/index.jl:249\n  getindex(::DataFrames.AbstractIndex, !Matched::Bool) at /Users/jpauph/.julia/packages/DataFrames/yH0f6/src/other/index.jl:142\n  ...",
      "",
      "Stacktrace:",
      " [1] #stack#281(::Symbol, ::Symbol, ::Function, ::DataFrame, ::Symbol, ::Function) at /Users/jpauph/.julia/packages/DataFrames/yH0f6/src/abstractdataframe/reshape.jl:106",
      " [2] stack(::DataFrame, ::Symbol, ::Function) at /Users/jpauph/.julia/packages/DataFrames/yH0f6/src/abstractdataframe/reshape.jl:106",
      " [3] top-level scope at In[165]:1"
     ]
    }
   ],
   "source": [
    "stack(itr_res[:,[:method, :rank]], :method, t-> sum(t .> 0))"
   ]
  },
  {
   "cell_type": "code",
   "execution_count": 203,
   "metadata": {
    "collapsed": true
   },
   "outputs": [
    {
     "data": {
      "text/html": [
       "<table class=\"data-frame\"><thead><tr><th></th><th>method</th><th>x1</th><th>x2</th><th>x3</th><th>x4</th></tr><tr><th></th><th>String</th><th>Int64</th><th>Int64</th><th>Int64</th><th>Int64</th></tr></thead><tbody><p>4 rows × 5 columns</p><tr><th>1</th><td>Imp-then-Reg 1</td><td>5</td><td>12</td><td>14</td><td>9</td></tr><tr><th>2</th><td>Imp-then-Reg 2</td><td>8</td><td>15</td><td>9</td><td>8</td></tr><tr><th>3</th><td>Imp-then-Reg 3</td><td>6</td><td>11</td><td>13</td><td>10</td></tr><tr><th>4</th><td>Imp-then-Reg 4</td><td>22</td><td>5</td><td>5</td><td>8</td></tr></tbody></table>"
      ],
      "text/latex": [
       "\\begin{tabular}{r|ccccc}\n",
       "\t& method & x1 & x2 & x3 & x4\\\\\n",
       "\t\\hline\n",
       "\t& String & Int64 & Int64 & Int64 & Int64\\\\\n",
       "\t\\hline\n",
       "\t1 & Imp-then-Reg 1 & 5 & 12 & 14 & 9 \\\\\n",
       "\t2 & Imp-then-Reg 2 & 8 & 15 & 9 & 8 \\\\\n",
       "\t3 & Imp-then-Reg 3 & 6 & 11 & 13 & 10 \\\\\n",
       "\t4 & Imp-then-Reg 4 & 22 & 5 & 5 & 8 \\\\\n",
       "\\end{tabular}\n"
      ],
      "text/plain": [
       "4×5 DataFrame\n",
       "│ Row │ method         │ x1    │ x2    │ x3    │ x4    │\n",
       "│     │ \u001b[90mString\u001b[39m         │ \u001b[90mInt64\u001b[39m │ \u001b[90mInt64\u001b[39m │ \u001b[90mInt64\u001b[39m │ \u001b[90mInt64\u001b[39m │\n",
       "├─────┼────────────────┼───────┼───────┼───────┼───────┤\n",
       "│ 1   │ Imp-then-Reg 1 │ 5     │ 12    │ 14    │ 9     │\n",
       "│ 2   │ Imp-then-Reg 2 │ 8     │ 15    │ 9     │ 8     │\n",
       "│ 3   │ Imp-then-Reg 3 │ 6     │ 11    │ 13    │ 10    │\n",
       "│ 4   │ Imp-then-Reg 4 │ 22    │ 5     │ 5     │ 8     │"
      ]
     },
     "execution_count": 203,
     "metadata": {},
     "output_type": "execute_result"
    }
   ],
   "source": []
  },
  {
   "cell_type": "code",
   "execution_count": 166,
   "metadata": {
    "collapsed": true
   },
   "outputs": [],
   "source": [
    "distr_rank = by(itr_res, :method) do df\n",
    "    [sum(df[:,:rank].==1) (sum(df[:,:rank].==2)) (sum(df[:,:rank].==3)) (sum(df[:,:rank].==4))]\n",
    "end\n",
    "\n",
    "groupedbar(Matrix(distr_rank[:,2:end])', bar_position = :dodge, fill=.7, label=[\"V1\" \"V2\" \"V3\" \"V4\"], size= (800,400))\n",
    "xaxis!(\"Rank\")\n",
    "yaxis!(\"Count\")\n",
    "savefig(\"realy_imputethenreg_freq.png\")"
   ]
  },
  {
   "cell_type": "code",
   "execution_count": 248,
   "metadata": {
    "collapsed": true
   },
   "outputs": [
    {
     "data": {
      "text/plain": [
       "37-element Array{String,1}:\n",
       " \"COUNT-loomis\"                  \n",
       " \"Ecdat-Males\"                   \n",
       " \"Ecdat-Schooling\"               \n",
       " \"automobile\"                    \n",
       " \"breast-cancer\"                 \n",
       " \"car-Chile\"                     \n",
       " \"communities-and-crime\"         \n",
       " \"communities-and-crime-2\"       \n",
       " \"congressional-voting-records\"  \n",
       " \"credit-approval\"               \n",
       " \"echocardiogram\"                \n",
       " \"heart-disease-cleveland\"       \n",
       " \"heart-disease-hungarian\"       \n",
       " ⋮                               \n",
       " \"survival-cancer\"               \n",
       " \"survival-pbc\"                  \n",
       " \"thyroid-disease-allbp\"         \n",
       " \"thyroid-disease-allhyper\"      \n",
       " \"thyroid-disease-allhypo\"       \n",
       " \"thyroid-disease-allrep\"        \n",
       " \"thyroid-disease-dis\"           \n",
       " \"thyroid-disease-sick\"          \n",
       " \"thyroid-disease-sick-euthyroid\"\n",
       " \"thyroid-disease-thyroid-0387\"  \n",
       " \"trains\"                        \n",
       " \"wiki4he\"                       "
      ]
     },
     "execution_count": 248,
     "metadata": {},
     "output_type": "execute_result"
    }
   ],
   "source": []
  },
  {
   "cell_type": "code",
   "execution_count": 249,
   "metadata": {
    "collapsed": true
   },
   "outputs": [
    {
     "data": {
      "text/plain": [
       "51-element Array{String,1}:\n",
       " \"Ecdat-MCAS\"                        \n",
       " \"Ecdat-Mofa\"                        \n",
       " \"Ecdat-RetSchool\"                   \n",
       " \"Ecdat-Schooling\"                   \n",
       " \"MASS-Cars93\"                       \n",
       " \"MASS-Pima.tr2\"                     \n",
       " \"arrhythmia\"                        \n",
       " \"auto-mpg\"                          \n",
       " \"automobile\"                        \n",
       " \"breast-cancer-wisconsin-original\"  \n",
       " \"breast-cancer-wisconsin-prognostic\"\n",
       " \"car-Chile\"                         \n",
       " \"communities-and-crime-2\"           \n",
       " ⋮                                   \n",
       " \"wiki4he\"                           \n",
       " \"COUNT-loomis\"                      \n",
       " \"Ecdat-Males\"                       \n",
       " \"breast-cancer\"                     \n",
       " \"congressional-voting-records\"      \n",
       " \"heart-disease-cleveland\"           \n",
       " \"lung-cancer\"                       \n",
       " \"mushroom\"                          \n",
       " \"post-operative-patient\"            \n",
       " \"shuttle-landing-control\"           \n",
       " \"soybean-large\"                     \n",
       " \"trains\"                            "
      ]
     },
     "execution_count": 249,
     "metadata": {},
     "output_type": "execute_result"
    }
   ],
   "source": [
    "union(unique(itr_res[:,:dataset]), unique(mi_wide[:,:dataset]))"
   ]
  },
  {
   "cell_type": "markdown",
   "metadata": {},
   "source": [
    "## Claim 3: Compare our approach to state-of-the-art"
   ]
  },
  {
   "cell_type": "code",
   "execution_count": 167,
   "metadata": {},
   "outputs": [
    {
     "data": {
      "text/html": [
       "<table class=\"data-frame\"><thead><tr><th></th><th>Name</th><th>p_miss_num</th></tr><tr><th></th><th>String</th><th>Int64</th></tr></thead><tbody><p>59 rows × 2 columns</p><tr><th>1</th><td>Ecdat-MCAS</td><td>2</td></tr><tr><th>2</th><td>Ecdat-Mofa</td><td>1</td></tr><tr><th>3</th><td>Ecdat-RetSchool</td><td>4</td></tr><tr><th>4</th><td>Ecdat-Schooling</td><td>2</td></tr><tr><th>5</th><td>MASS-Cars93</td><td>2</td></tr><tr><th>6</th><td>MASS-Pima.tr2</td><td>3</td></tr><tr><th>7</th><td>MASS-survey</td><td>4</td></tr><tr><th>8</th><td>arrhythmia</td><td>5</td></tr><tr><th>9</th><td>auto-mpg</td><td>1</td></tr><tr><th>10</th><td>automobile</td><td>6</td></tr><tr><th>11</th><td>boot-neuro</td><td>5</td></tr><tr><th>12</th><td>breast-cancer-wisconsin-original</td><td>1</td></tr><tr><th>13</th><td>breast-cancer-wisconsin-prognostic</td><td>1</td></tr><tr><th>14</th><td>car-Chile</td><td>3</td></tr><tr><th>15</th><td>car-Davis</td><td>2</td></tr><tr><th>16</th><td>car-Freedman</td><td>2</td></tr><tr><th>17</th><td>car-Hartnagel</td><td>2</td></tr><tr><th>18</th><td>car-SLID</td><td>2</td></tr><tr><th>19</th><td>cluster-plantTraits</td><td>2</td></tr><tr><th>20</th><td>communities-and-crime</td><td>22</td></tr><tr><th>21</th><td>communities-and-crime-2</td><td>22</td></tr><tr><th>22</th><td>credit-approval</td><td>2</td></tr><tr><th>23</th><td>cylinder-bands</td><td>17</td></tr><tr><th>24</th><td>datasets-airquality</td><td>2</td></tr><tr><th>25</th><td>dermatology</td><td>1</td></tr><tr><th>26</th><td>echocardiogram</td><td>6</td></tr><tr><th>27</th><td>ggplot2-movies</td><td>1</td></tr><tr><th>28</th><td>ggplot2-msleep</td><td>3</td></tr><tr><th>29</th><td>heart-disease-hungarian</td><td>3</td></tr><tr><th>30</th><td>heart-disease-switzerland</td><td>3</td></tr><tr><th>&vellip;</th><td>&vellip;</td><td>&vellip;</td></tr></tbody></table>"
      ],
      "text/latex": [
       "\\begin{tabular}{r|cc}\n",
       "\t& Name & p\\_miss\\_num\\\\\n",
       "\t\\hline\n",
       "\t& String & Int64\\\\\n",
       "\t\\hline\n",
       "\t1 & Ecdat-MCAS & 2 \\\\\n",
       "\t2 & Ecdat-Mofa & 1 \\\\\n",
       "\t3 & Ecdat-RetSchool & 4 \\\\\n",
       "\t4 & Ecdat-Schooling & 2 \\\\\n",
       "\t5 & MASS-Cars93 & 2 \\\\\n",
       "\t6 & MASS-Pima.tr2 & 3 \\\\\n",
       "\t7 & MASS-survey & 4 \\\\\n",
       "\t8 & arrhythmia & 5 \\\\\n",
       "\t9 & auto-mpg & 1 \\\\\n",
       "\t10 & automobile & 6 \\\\\n",
       "\t11 & boot-neuro & 5 \\\\\n",
       "\t12 & breast-cancer-wisconsin-original & 1 \\\\\n",
       "\t13 & breast-cancer-wisconsin-prognostic & 1 \\\\\n",
       "\t14 & car-Chile & 3 \\\\\n",
       "\t15 & car-Davis & 2 \\\\\n",
       "\t16 & car-Freedman & 2 \\\\\n",
       "\t17 & car-Hartnagel & 2 \\\\\n",
       "\t18 & car-SLID & 2 \\\\\n",
       "\t19 & cluster-plantTraits & 2 \\\\\n",
       "\t20 & communities-and-crime & 22 \\\\\n",
       "\t21 & communities-and-crime-2 & 22 \\\\\n",
       "\t22 & credit-approval & 2 \\\\\n",
       "\t23 & cylinder-bands & 17 \\\\\n",
       "\t24 & datasets-airquality & 2 \\\\\n",
       "\t25 & dermatology & 1 \\\\\n",
       "\t26 & echocardiogram & 6 \\\\\n",
       "\t27 & ggplot2-movies & 1 \\\\\n",
       "\t28 & ggplot2-msleep & 3 \\\\\n",
       "\t29 & heart-disease-hungarian & 3 \\\\\n",
       "\t30 & heart-disease-switzerland & 3 \\\\\n",
       "\t$\\dots$ & $\\dots$ & $\\dots$ \\\\\n",
       "\\end{tabular}\n"
      ],
      "text/plain": [
       "59×2 DataFrame\n",
       "│ Row │ Name                           │ p_miss_num │\n",
       "│     │ \u001b[90mString\u001b[39m                         │ \u001b[90mInt64\u001b[39m      │\n",
       "├─────┼────────────────────────────────┼────────────┤\n",
       "│ 1   │ Ecdat-MCAS                     │ 2          │\n",
       "│ 2   │ Ecdat-Mofa                     │ 1          │\n",
       "│ 3   │ Ecdat-RetSchool                │ 4          │\n",
       "│ 4   │ Ecdat-Schooling                │ 2          │\n",
       "│ 5   │ MASS-Cars93                    │ 2          │\n",
       "│ 6   │ MASS-Pima.tr2                  │ 3          │\n",
       "│ 7   │ MASS-survey                    │ 4          │\n",
       "│ 8   │ arrhythmia                     │ 5          │\n",
       "│ 9   │ auto-mpg                       │ 1          │\n",
       "│ 10  │ automobile                     │ 6          │\n",
       "⋮\n",
       "│ 49  │ survival-mgus                  │ 5          │\n",
       "│ 50  │ survival-pbc                   │ 7          │\n",
       "│ 51  │ thyroid-disease-allbp          │ 6          │\n",
       "│ 52  │ thyroid-disease-allhyper       │ 6          │\n",
       "│ 53  │ thyroid-disease-allhypo        │ 6          │\n",
       "│ 54  │ thyroid-disease-allrep         │ 6          │\n",
       "│ 55  │ thyroid-disease-dis            │ 6          │\n",
       "│ 56  │ thyroid-disease-sick           │ 6          │\n",
       "│ 57  │ thyroid-disease-sick-euthyroid │ 7          │\n",
       "│ 58  │ thyroid-disease-thyroid-0387   │ 6          │\n",
       "│ 59  │ wiki4he                        │ 44         │"
      ]
     },
     "execution_count": 167,
     "metadata": {},
     "output_type": "execute_result"
    }
   ],
   "source": [
    "#Select only datasets where at least one missing numerical feature\n",
    "pattern_count_num = DataFrame(CSV.read(\"pattern_counts_numonly.csv\"))[:,[:Name,:p_miss]]\n",
    "rename!(pattern_count_num, :p_miss => :p_miss_num)\n",
    "filter!(t -> t[:p_miss_num] > 0, pattern_count_num)"
   ]
  },
  {
   "cell_type": "code",
   "execution_count": 168,
   "metadata": {},
   "outputs": [
    {
     "data": {
      "text/html": [
       "<table class=\"data-frame\"><thead><tr><th></th><th>dataset</th><th>method</th><th>osr2</th><th>rank</th></tr><tr><th></th><th>String</th><th>String</th><th>Float64</th><th>Float64</th></tr></thead><tbody><p>321 rows × 4 columns</p><tr><th>1</th><td>Ecdat-MCAS</td><td>Affine</td><td>0.8162</td><td>5.0</td></tr><tr><th>2</th><td>Ecdat-MCAS</td><td>Complete Features</td><td>0.8036</td><td>8.0</td></tr><tr><th>3</th><td>Ecdat-MCAS</td><td>Imp-then-Reg 1</td><td>0.8272</td><td>2.0</td></tr><tr><th>4</th><td>Ecdat-MCAS</td><td>Imp-then-Reg 2</td><td>0.8201</td><td>4.0</td></tr><tr><th>5</th><td>Ecdat-MCAS</td><td>Imp-then-Reg 3</td><td>0.8262</td><td>3.0</td></tr><tr><th>6</th><td>Ecdat-MCAS</td><td>Imp-then-Reg 4</td><td>0.8074</td><td>7.0</td></tr><tr><th>7</th><td>Ecdat-MCAS</td><td>Imp-then-Reg 5</td><td>0.8079</td><td>6.0</td></tr><tr><th>8</th><td>Ecdat-MCAS</td><td>Static</td><td>0.832</td><td>1.0</td></tr><tr><th>9</th><td>Ecdat-Mofa</td><td>Affine</td><td>0.5793</td><td>1.0</td></tr><tr><th>10</th><td>Ecdat-Mofa</td><td>Complete Features</td><td>-0.0151</td><td>8.0</td></tr><tr><th>11</th><td>Ecdat-Mofa</td><td>Imp-then-Reg 1</td><td>0.5593</td><td>2.0</td></tr><tr><th>12</th><td>Ecdat-Mofa</td><td>Imp-then-Reg 2</td><td>0.5558</td><td>3.0</td></tr><tr><th>13</th><td>Ecdat-Mofa</td><td>Imp-then-Reg 3</td><td>0.0933</td><td>5.0</td></tr><tr><th>14</th><td>Ecdat-Mofa</td><td>Imp-then-Reg 4</td><td>0.0645</td><td>6.0</td></tr><tr><th>15</th><td>Ecdat-Mofa</td><td>Imp-then-Reg 5</td><td>0.5486</td><td>4.0</td></tr><tr><th>16</th><td>Ecdat-Mofa</td><td>Static</td><td>0.0474</td><td>7.0</td></tr><tr><th>17</th><td>Ecdat-RetSchool</td><td>Affine</td><td>0.2753</td><td>3.0</td></tr><tr><th>18</th><td>Ecdat-RetSchool</td><td>Complete Features</td><td>0.2442</td><td>8.0</td></tr><tr><th>19</th><td>Ecdat-RetSchool</td><td>Imp-then-Reg 1</td><td>0.2731</td><td>7.0</td></tr><tr><th>20</th><td>Ecdat-RetSchool</td><td>Imp-then-Reg 2</td><td>0.2748</td><td>5.0</td></tr><tr><th>21</th><td>Ecdat-RetSchool</td><td>Imp-then-Reg 3</td><td>0.2733</td><td>6.0</td></tr><tr><th>22</th><td>Ecdat-RetSchool</td><td>Imp-then-Reg 4</td><td>0.2765</td><td>1.0</td></tr><tr><th>23</th><td>Ecdat-RetSchool</td><td>Imp-then-Reg 5</td><td>0.2759</td><td>2.0</td></tr><tr><th>24</th><td>Ecdat-RetSchool</td><td>Static</td><td>0.2749</td><td>4.0</td></tr><tr><th>25</th><td>Ecdat-Schooling</td><td>Affine</td><td>0.3251</td><td>5.0</td></tr><tr><th>26</th><td>Ecdat-Schooling</td><td>Complete Features</td><td>0.322</td><td>7.0</td></tr><tr><th>27</th><td>Ecdat-Schooling</td><td>Imp-then-Reg 1</td><td>0.3265</td><td>3.0</td></tr><tr><th>28</th><td>Ecdat-Schooling</td><td>Imp-then-Reg 2</td><td>0.327</td><td>1.0</td></tr><tr><th>29</th><td>Ecdat-Schooling</td><td>Imp-then-Reg 3</td><td>0.3267</td><td>2.0</td></tr><tr><th>30</th><td>Ecdat-Schooling</td><td>Imp-then-Reg 4</td><td>0.3265</td><td>3.0</td></tr><tr><th>&vellip;</th><td>&vellip;</td><td>&vellip;</td><td>&vellip;</td><td>&vellip;</td></tr></tbody></table>"
      ],
      "text/latex": [
       "\\begin{tabular}{r|cccc}\n",
       "\t& dataset & method & osr2 & rank\\\\\n",
       "\t\\hline\n",
       "\t& String & String & Float64 & Float64\\\\\n",
       "\t\\hline\n",
       "\t1 & Ecdat-MCAS & Affine & 0.8162 & 5.0 \\\\\n",
       "\t2 & Ecdat-MCAS & Complete Features & 0.8036 & 8.0 \\\\\n",
       "\t3 & Ecdat-MCAS & Imp-then-Reg 1 & 0.8272 & 2.0 \\\\\n",
       "\t4 & Ecdat-MCAS & Imp-then-Reg 2 & 0.8201 & 4.0 \\\\\n",
       "\t5 & Ecdat-MCAS & Imp-then-Reg 3 & 0.8262 & 3.0 \\\\\n",
       "\t6 & Ecdat-MCAS & Imp-then-Reg 4 & 0.8074 & 7.0 \\\\\n",
       "\t7 & Ecdat-MCAS & Imp-then-Reg 5 & 0.8079 & 6.0 \\\\\n",
       "\t8 & Ecdat-MCAS & Static & 0.832 & 1.0 \\\\\n",
       "\t9 & Ecdat-Mofa & Affine & 0.5793 & 1.0 \\\\\n",
       "\t10 & Ecdat-Mofa & Complete Features & -0.0151 & 8.0 \\\\\n",
       "\t11 & Ecdat-Mofa & Imp-then-Reg 1 & 0.5593 & 2.0 \\\\\n",
       "\t12 & Ecdat-Mofa & Imp-then-Reg 2 & 0.5558 & 3.0 \\\\\n",
       "\t13 & Ecdat-Mofa & Imp-then-Reg 3 & 0.0933 & 5.0 \\\\\n",
       "\t14 & Ecdat-Mofa & Imp-then-Reg 4 & 0.0645 & 6.0 \\\\\n",
       "\t15 & Ecdat-Mofa & Imp-then-Reg 5 & 0.5486 & 4.0 \\\\\n",
       "\t16 & Ecdat-Mofa & Static & 0.0474 & 7.0 \\\\\n",
       "\t17 & Ecdat-RetSchool & Affine & 0.2753 & 3.0 \\\\\n",
       "\t18 & Ecdat-RetSchool & Complete Features & 0.2442 & 8.0 \\\\\n",
       "\t19 & Ecdat-RetSchool & Imp-then-Reg 1 & 0.2731 & 7.0 \\\\\n",
       "\t20 & Ecdat-RetSchool & Imp-then-Reg 2 & 0.2748 & 5.0 \\\\\n",
       "\t21 & Ecdat-RetSchool & Imp-then-Reg 3 & 0.2733 & 6.0 \\\\\n",
       "\t22 & Ecdat-RetSchool & Imp-then-Reg 4 & 0.2765 & 1.0 \\\\\n",
       "\t23 & Ecdat-RetSchool & Imp-then-Reg 5 & 0.2759 & 2.0 \\\\\n",
       "\t24 & Ecdat-RetSchool & Static & 0.2749 & 4.0 \\\\\n",
       "\t25 & Ecdat-Schooling & Affine & 0.3251 & 5.0 \\\\\n",
       "\t26 & Ecdat-Schooling & Complete Features & 0.322 & 7.0 \\\\\n",
       "\t27 & Ecdat-Schooling & Imp-then-Reg 1 & 0.3265 & 3.0 \\\\\n",
       "\t28 & Ecdat-Schooling & Imp-then-Reg 2 & 0.327 & 1.0 \\\\\n",
       "\t29 & Ecdat-Schooling & Imp-then-Reg 3 & 0.3267 & 2.0 \\\\\n",
       "\t30 & Ecdat-Schooling & Imp-then-Reg 4 & 0.3265 & 3.0 \\\\\n",
       "\t$\\dots$ & $\\dots$ & $\\dots$ & $\\dots$ & $\\dots$ \\\\\n",
       "\\end{tabular}\n"
      ],
      "text/plain": [
       "321×4 DataFrame\n",
       "│ Row │ dataset                      │ method            │ osr2    │ rank    │\n",
       "│     │ \u001b[90mString\u001b[39m                       │ \u001b[90mString\u001b[39m            │ \u001b[90mFloat64\u001b[39m │ \u001b[90mFloat64\u001b[39m │\n",
       "├─────┼──────────────────────────────┼───────────────────┼─────────┼─────────┤\n",
       "│ 1   │ Ecdat-MCAS                   │ Affine            │ 0.8162  │ 5.0     │\n",
       "│ 2   │ Ecdat-MCAS                   │ Complete Features │ 0.8036  │ 8.0     │\n",
       "│ 3   │ Ecdat-MCAS                   │ Imp-then-Reg 1    │ 0.8272  │ 2.0     │\n",
       "│ 4   │ Ecdat-MCAS                   │ Imp-then-Reg 2    │ 0.8201  │ 4.0     │\n",
       "│ 5   │ Ecdat-MCAS                   │ Imp-then-Reg 3    │ 0.8262  │ 3.0     │\n",
       "│ 6   │ Ecdat-MCAS                   │ Imp-then-Reg 4    │ 0.8074  │ 7.0     │\n",
       "│ 7   │ Ecdat-MCAS                   │ Imp-then-Reg 5    │ 0.8079  │ 6.0     │\n",
       "│ 8   │ Ecdat-MCAS                   │ Static            │ 0.832   │ 1.0     │\n",
       "│ 9   │ Ecdat-Mofa                   │ Affine            │ 0.5793  │ 1.0     │\n",
       "│ 10  │ Ecdat-Mofa                   │ Complete Features │ -0.0151 │ 8.0     │\n",
       "⋮\n",
       "│ 311 │ thyroid-disease-thyroid-0387 │ Imp-then-Reg 4    │ 0.8339  │ 3.0     │\n",
       "│ 312 │ thyroid-disease-thyroid-0387 │ Imp-then-Reg 5    │ 0.834   │ 2.0     │\n",
       "│ 313 │ thyroid-disease-thyroid-0387 │ Static            │ 0.8338  │ 4.0     │\n",
       "│ 314 │ wiki4he                      │ Affine            │ 0.3585  │ 6.0     │\n",
       "│ 315 │ wiki4he                      │ Complete Features │ 0.1017  │ 8.0     │\n",
       "│ 316 │ wiki4he                      │ Imp-then-Reg 1    │ 0.3559  │ 7.0     │\n",
       "│ 317 │ wiki4he                      │ Imp-then-Reg 2    │ 0.3785  │ 3.0     │\n",
       "│ 318 │ wiki4he                      │ Imp-then-Reg 3    │ 0.36    │ 5.0     │\n",
       "│ 319 │ wiki4he                      │ Imp-then-Reg 4    │ 0.3824  │ 2.0     │\n",
       "│ 320 │ wiki4he                      │ Imp-then-Reg 5    │ 0.3878  │ 1.0     │\n",
       "│ 321 │ wiki4he                      │ Static            │ 0.3695  │ 4.0     │"
      ]
     },
     "execution_count": 168,
     "metadata": {},
     "output_type": "execute_result"
    }
   ],
   "source": [
    "all_res = deepcopy(res)\n",
    "filter!(t -> t[:dataset] ∈ unique(pattern_count_num[:,:Name]), all_res) #filter datasets\n",
    "select!(all_res, Not(:method_cat))\n",
    "sort!(all_res, [:dataset, :splitnum, :method])\n",
    "\n",
    "#Average over splits\n",
    "all_res = aggregate(all_res[:,[:dataset, :method, :osr2]], [:dataset, :method], mean)\n",
    "rename!(all_res, :osr2_mean => :osr2)\n",
    "all_res[!,:osr2] = round.(all_res[:,:osr2], digits=4);\n",
    "\n",
    "best_pred = by(all_res, [:dataset]) do df\n",
    "    DataFrame(results = [sort(unique(df[:,:osr2]), rev=true)])\n",
    "end\n",
    "\n",
    "all_res = join(all_res, best_pred, on = [:dataset])\n",
    "\n",
    "rank = zeros(size(all_res,1))\n",
    "for i in 1:size(all_res,1)\n",
    "    rank[i] = findfirst(all_res[i,:osr2] .== all_res[i,:results])\n",
    "end\n",
    "all_res[!,:rank] = rank\n",
    "select!(all_res, Not(:results))\n",
    "all_res"
   ]
  },
  {
   "cell_type": "code",
   "execution_count": 169,
   "metadata": {},
   "outputs": [
    {
     "name": "stdout",
     "output_type": "stream",
     "text": [
      "Affine wins over Complete Features in 32 instances\n",
      "Affine wins over Imp-then-Reg 4 in 21 instances\n",
      "Affine wins over Static in 24 instances\n",
      "\n",
      "Complete Features wins over Affine in 7 instances\n",
      "Complete Features wins over Imp-then-Reg 4 in 9 instances\n",
      "Complete Features wins over Static in 11 instances\n",
      "\n",
      "Imp-then-Reg 4 wins over Affine in 19 instances\n",
      "Imp-then-Reg 4 wins over Complete Features in 31 instances\n",
      "Imp-then-Reg 4 wins over Static in 25 instances\n",
      "\n",
      "Static wins over Affine in 16 instances\n",
      "Static wins over Complete Features in 29 instances\n",
      "Static wins over Imp-then-Reg 4 in 14 instances\n",
      "\n"
     ]
    }
   ],
   "source": [
    "for m1 in unique(all_res[:,:method])\n",
    "    aux1 = filter(t-> t[:method] == m1, all_res)\n",
    "    if m1 ∉ [\"Imp-then-Reg $i\" for i in [1,2,3,5]]\n",
    "        for m2 in unique(all_res[:,:method])\n",
    "            if m1 != m2 && m2 ∉ [\"Imp-then-Reg $i\" for i in [1,2,3,5]]\n",
    "                aux2 = filter(t-> t[:method] == m2, all_res)\n",
    "                wincount = 0 \n",
    "                for d in unique(all_res[:,:dataset])\n",
    "                    try\n",
    "                        if aux1[findfirst(aux1[:,:dataset] .== d),:rank] < aux2[findfirst(aux2[:,:dataset] .== d),:rank]\n",
    "                            wincount += 1\n",
    "                        end\n",
    "                    catch\n",
    "                        ()\n",
    "                    end\n",
    "                end \n",
    "                println(\"$m1 wins over $m2 in $wincount instances\")\n",
    "            end\n",
    "        end\n",
    "        println()\n",
    "    end\n",
    "end"
   ]
  },
  {
   "cell_type": "code",
   "execution_count": null,
   "metadata": {
    "collapsed": true
   },
   "outputs": [],
   "source": []
  }
 ],
 "metadata": {
  "@webio": {
   "lastCommId": null,
   "lastKernelId": null
  },
  "kernelspec": {
   "display_name": "Julia 1.0.1",
   "language": "julia",
   "name": "julia-1.0"
  },
  "language_info": {
   "file_extension": ".jl",
   "mimetype": "application/julia",
   "name": "julia",
   "version": "1.0.1"
  }
 },
 "nbformat": 4,
 "nbformat_minor": 2
}
