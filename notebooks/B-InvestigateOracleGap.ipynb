{
 "cells": [
  {
   "cell_type": "markdown",
   "metadata": {},
   "source": [
    "# Load packages"
   ]
  },
  {
   "cell_type": "code",
   "execution_count": null,
   "metadata": {},
   "outputs": [],
   "source": [
    "using Pkg\n",
    "Pkg.activate(\"..\")"
   ]
  },
  {
   "cell_type": "code",
   "execution_count": null,
   "metadata": {
    "scrolled": true
   },
   "outputs": [],
   "source": [
    "using Revise\n",
    "using PHD\n",
    "using Random, Statistics, CSV, DataFrames, LinearAlgebra"
   ]
  },
  {
   "cell_type": "markdown",
   "metadata": {},
   "source": [
    "# Setup\n",
    "\n",
    "- Experimental parameters"
   ]
  },
  {
   "cell_type": "code",
   "execution_count": null,
   "metadata": {},
   "outputs": [],
   "source": [
    "dataset_list = PHD.list_datasets(p_min = 1)\n",
    "@show length(dataset_list);"
   ]
  },
  {
   "cell_type": "code",
   "execution_count": null,
   "metadata": {},
   "outputs": [],
   "source": [
    "d_num = 6 #51\n",
    "dname = dataset_list[d_num]\n",
    "k_missingsignal = 4\n",
    "k = 10\n",
    "@show dname, k_missingsignal\n",
    "SNR = 2"
   ]
  },
  {
   "cell_type": "markdown",
   "metadata": {},
   "source": [
    "- Read in data"
   ]
  },
  {
   "cell_type": "code",
   "execution_count": null,
   "metadata": {},
   "outputs": [],
   "source": [
    "# Read in a data file.\n",
    "X_missing = PHD.standardize_colnames(DataFrame(CSV.read(\"../datasets/\"*dname*\"/X_missing.csv\",\n",
    "                                                        missingstrings=[\"\", \"NaN\"])));\n",
    "@show nrow(X_missing), ncol(X_missing)"
   ]
  },
  {
   "cell_type": "code",
   "execution_count": null,
   "metadata": {},
   "outputs": [],
   "source": [
    "# Remove intrinsic indicators\n",
    "keep_cols = names(X_missing)\n",
    "for l in values(PHD.intrinsic_indicators(X_missing, correlation_threshold=1.0))\n",
    "    # threshold is 1 if optimizing missingness\n",
    "    setdiff!(keep_cols, l)\n",
    "end\n",
    "select!(X_missing, keep_cols)\n",
    "# indicator of missing features\n",
    "canbemissing = [any(ismissing.(X_missing[:,j])) for j in names(X_missing)]\n",
    "# ground truth df\n",
    "X_full = PHD.standardize_colnames(DataFrame(CSV.read(\"../datasets/\"*dname*\"/X_full.csv\")))[:,keep_cols];"
   ]
  },
  {
   "cell_type": "code",
   "execution_count": null,
   "metadata": {},
   "outputs": [],
   "source": [
    "X_missing = PHD.optimize_missingness(X_missing, X_full);"
   ]
  },
  {
   "cell_type": "code",
   "execution_count": null,
   "metadata": {},
   "outputs": [],
   "source": [
    "patterns, counts = PHD.missing_patterns_countmap(X_missing)"
   ]
  },
  {
   "cell_type": "markdown",
   "metadata": {},
   "source": [
    "- Create target"
   ]
  },
  {
   "cell_type": "code",
   "execution_count": null,
   "metadata": {},
   "outputs": [],
   "source": [
    "# Create output\n",
    "Random.seed!(5234)\n",
    "@time Y, k, k_missing = PHD.linear_y(X_full, X_missing, k=k, SNR=SNR, canbemissing=canbemissing,\n",
    "                                     k_missing_in_signal=k_missingsignal, mar=true);\n",
    "@show k_missing"
   ]
  },
  {
   "cell_type": "markdown",
   "metadata": {},
   "source": [
    "# Run stuff"
   ]
  },
  {
   "cell_type": "code",
   "execution_count": null,
   "metadata": {},
   "outputs": [],
   "source": [
    "results_main = DataFrame(dataset=[], SNR=[], k=[], kMissing=[], splitnum=[], method=[], osr2=[])\n",
    "test_prop = .3\n",
    "Y_predictions = []\n",
    "test_ind = rand(nrow(X_missing)) .< test_prop ;\n",
    "\n",
    "for iter in 1:1\n",
    "    results_table = similar(results_main,0)\n",
    "\n",
    "    filename = string(dname, \"_SNR_\", SNR, \"_nmiss_\", k_missingsignal, \"_$iter.csv\")\n",
    "\n",
    "    # Split train / test\n",
    "    Random.seed!(56802+767*iter)\n",
    "    test_ind = rand(nrow(X_missing)) .< test_prop ;\n",
    "\n",
    "    ## Method Oracle\n",
    "    println(\"Oracle\")\n",
    "    df = X_full[:,:]\n",
    "    df[!,:Test] = test_ind\n",
    "    linear, bestparams = PHD.regress_cv(Y, df, lasso=[true], alpha=collect(0.1:0.1:1))\n",
    "    R2, OSR2 = PHD.evaluate(Y, df, linear)\n",
    "    push!(Y_predictions, PHD.predict(df, linear))\n",
    "    push!(results_table, [dname, SNR, k, k_missing, iter, \"Oracle\", OSR2])\n",
    "    \n",
    "    df = [X_full[:,:] PHD.indicatemissing(X_missing[:,:]; removezerocols=true)]\n",
    "    df[!,:Test] = test_ind\n",
    "    linear, bestparams = PHD.regress_cv(Y, df, lasso=[true], alpha=collect(0.1:0.1:1))\n",
    "    R2, OSR2 = PHD.evaluate(Y, df, linear)\n",
    "    push!(Y_predictions, PHD.predict(df, linear))\n",
    "    push!(results_table, [dname, SNR, k, k_missing, iter, \"Oracle XM\", OSR2])\n",
    "\n",
    "#     # Method 0\n",
    "#     println(\"Method 0\")\n",
    "#     try\n",
    "#         df = X_missing[:,.!canbemissing] #This step can raise an error if all features can be missing\n",
    "#         df[!,:Test] = test_ind\n",
    "#         linear, bestparams = PHD.regress_cv(Y, df, lasso=[true], alpha=collect(0.1:0.1:1))\n",
    "#         R2, OSR2 = PHD.evaluate(Y, df, linear)\n",
    "#         push!(Y_predictions, PHD.predict(df, linear))\n",
    "#         push!(results_table, [dname, SNR, k, k_missing, iter, \"Complete Features\", OSR2])\n",
    "#     catch #In this case, simply predict the mean - which leads to 0. OSR2\n",
    "#         push!(results_table, [dname, SNR, k, k_missing, iter, \"Complete Features\", 0.])\n",
    "#     end\n",
    "\n",
    "#     ## Method 1.1\n",
    "#     println(\"Method 1.1\")\n",
    "#     X_imputed = PHD.mice_bruteforce(X_missing);\n",
    "#     df = deepcopy(X_imputed)\n",
    "#     df[!,:Test] = test_ind\n",
    "#     linear, bestparams = PHD.regress_cv(Y, df, lasso=[true], alpha=collect(0.1:0.1:1))\n",
    "#     push!(Y_predictions, PHD.predict(df, linear))\n",
    "#     R2, OSR2 = PHD.evaluate(Y, df, linear)\n",
    "#     push!(results_table, [dname, SNR, k, k_missing, iter, \"Imp-then-Reg 1\", OSR2])\n",
    "\n",
    "#     ## Method 1.2\n",
    "#     println(\"Method 1.2\")\n",
    "#     df = deepcopy(X_missing)\n",
    "#     X_train_imputed = PHD.mice_bruteforce(df[.!test_ind,:]);\n",
    "#     select!(df, names(X_train_imputed))\n",
    "#     df[.!test_ind,:] .= X_train_imputed\n",
    "#     X_all_imputed = PHD.mice(df);\n",
    "#     df = deepcopy(X_all_imputed)\n",
    "#     df[!,:Test] = test_ind\n",
    "#     linear, bestparams = PHD.regress_cv(Y, df, lasso=[true], alpha=collect(0.1:0.1:1))\n",
    "#     push!(Y_predictions, PHD.predict(df, linear))\n",
    "#     R2, OSR2 = PHD.evaluate(Y, df, linear)\n",
    "#     push!(results_table, [dname, SNR, k, k_missing, iter, \"Imp-then-Reg 2\", OSR2])\n",
    "\n",
    "#     ## Method 1.3\n",
    "#     println(\"Method 1.3\")\n",
    "#     df = deepcopy(X_missing)\n",
    "#     X_train_imputed = PHD.mice_bruteforce(df[.!test_ind,:]);\n",
    "#     X_all_imputed = PHD.mice_bruteforce(df[:,names(X_train_imputed)]);\n",
    "#     select!(df, names(X_train_imputed))\n",
    "#     df[.!test_ind,:] .= X_train_imputed\n",
    "#     df[test_ind,:] .= X_all_imputed[test_ind,:]\n",
    "#     df[!,:Test] = test_ind\n",
    "#     linear, bestparams = PHD.regress_cv(Y, df, lasso=[true], alpha=collect(0.1:0.1:1))\n",
    "#     push!(Y_predictions, PHD.predict(df, linear))\n",
    "#     R2, OSR2 = PHD.evaluate(Y, df, linear)\n",
    "#     push!(results_table, [dname, SNR, k, k_missing, iter, \"Imp-then-Reg 3\", OSR2])\n",
    "\n",
    "    ## Method 1.4\n",
    "    println(\"Method 1.4\")\n",
    "    means_df = PHD.compute_mean(X_missing[.!test_ind,:])\n",
    "    X_imputed = PHD.mean_impute(X_missing, means_df);\n",
    "    df = deepcopy(X_imputed)\n",
    "    df[!,:Test] = test_ind\n",
    "    linear, bestparams = PHD.regress_cv(Y, df, lasso=[true], alpha=collect(0.1:0.1:1))\n",
    "    push!(Y_predictions, PHD.predict(df, linear))\n",
    "    R2, OSR2 = PHD.evaluate(Y, df, linear)\n",
    "    push!(results_table, [dname, SNR, k, k_missing, iter, \"Imp-then-Reg 4\", OSR2])\n",
    "\n",
    "#     ## Method 1.5 Mean and mode impute\n",
    "#     println(\"Method 1.5\")\n",
    "#     means_df = PHD.compute_mean(X_missing[.!test_ind,:])\n",
    "#     X_imputed = PHD.mean_impute(X_missing, means_df);\n",
    "#     df = deepcopy(X_imputed)\n",
    "#     PHD.mode_impute!(df, train = .!test_ind)\n",
    "#     df[!,:Test] = test_ind\n",
    "#     linear, bestparams = PHD.regress_cv(Y, df, lasso=[true], alpha=collect(0.1:0.1:1))\n",
    "#     push!(Y_predictions, PHD.predict(df, linear))\n",
    "#     R2, OSR2 = PHD.evaluate(Y, df, linear)\n",
    "#     push!(results_table, [dname, SNR, k, k_missing, iter, \"Imp-then-Reg 5\", OSR2])\n",
    "\n",
    "    ## Method 2: Static Adaptability\n",
    "    println(\"Method 2\")\n",
    "    df = deepcopy(X_missing)\n",
    "    df[!,:Test] = test_ind\n",
    "    X_augmented = hcat(PHD.zeroimpute(df), PHD.indicatemissing(df, removezerocols=true))\n",
    "    @time linear2, bestparams2 = PHD.regress_cv(Y, X_augmented, lasso=[true],\n",
    "                                            alpha=collect(0.1:0.1:1),\n",
    "                                            missing_penalty=[2.0,4.0,6.0,8.0,12.0,16.0])\n",
    "    push!(Y_predictions, PHD.predict(X_augmented, linear2))\n",
    "    R2, OSR2 = PHD.evaluate(Y, X_augmented, linear2)\n",
    "    push!(results_table, [dname, SNR, k, k_missing, iter, \"Static\", OSR2])\n",
    "\n",
    "    ## Method 3: Affine Adaptability\n",
    "    println(\"Method 3\")\n",
    "    df = deepcopy(X_missing)\n",
    "    df[!,:Test] = test_ind\n",
    "    X_affine = PHD.augmentaffine(df, removezerocols=true)\n",
    "    @time linear3, bestparams3 = PHD.regress_cv(Y, X_affine, lasso=[true], alpha=collect(0.1:0.1:1),\n",
    "                                          missing_penalty=[2.0,4.0,6.0,8.0,12.0,16.0])\n",
    "    push!(Y_predictions, PHD.predict(X_affine, linear3))\n",
    "    R2, OSR2 = PHD.evaluate(Y, X_affine, linear3)\n",
    "    push!(results_table, [dname, SNR, k, k_missing, iter, \"Affine\", OSR2])\n",
    "\n",
    "    results_main = vcat(results_main, results_table)\n",
    "end"
   ]
  },
  {
   "cell_type": "code",
   "execution_count": null,
   "metadata": {
    "scrolled": true
   },
   "outputs": [],
   "source": [
    "results_main"
   ]
  },
  {
   "cell_type": "code",
   "execution_count": null,
   "metadata": {},
   "outputs": [],
   "source": [
    "missing_rows = vec(any(ismissing.(X_missing) |> Matrix, dims=2))\n",
    "for i = 1:5\n",
    "    @show i\n",
    "    @show sum((Y[missing_rows] .- Y_predictions[i][missing_rows]) .^ 2)\n",
    "    @show sum((Y[.!missing_rows] .- Y_predictions[i][.!missing_rows]) .^ 2)\n",
    "end\n",
    "@show sum(missing_rows), sum(.!missing_rows)"
   ]
  },
  {
   "cell_type": "code",
   "execution_count": null,
   "metadata": {},
   "outputs": [],
   "source": []
  }
 ],
 "metadata": {
  "@webio": {
   "lastCommId": null,
   "lastKernelId": null
  },
  "kernelspec": {
   "display_name": "Julia 1.1.0",
   "language": "julia",
   "name": "julia-1.1"
  },
  "language_info": {
   "file_extension": ".jl",
   "mimetype": "application/julia",
   "name": "julia",
   "version": "1.1.0"
  }
 },
 "nbformat": 4,
 "nbformat_minor": 4
}
