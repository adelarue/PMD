{
 "cells": [
  {
   "cell_type": "code",
   "execution_count": 1,
   "metadata": {
    "collapsed": true
   },
   "outputs": [],
   "source": [
    "using CSV, DataFrames, Plots, StatsPlots, Statistics"
   ]
  },
  {
   "cell_type": "code",
   "execution_count": 2,
   "metadata": {},
   "outputs": [
    {
     "data": {
      "text/plain": [
       "581-element Array{SubString{String},1}:\n",
       " \"0_summary.csv\"    \n",
       " \"arrhythmia_1.csv\" \n",
       " \"arrhythmia_10.csv\"\n",
       " \"arrhythmia_11.csv\"\n",
       " \"arrhythmia_12.csv\"\n",
       " \"arrhythmia_13.csv\"\n",
       " \"arrhythmia_14.csv\"\n",
       " \"arrhythmia_15.csv\"\n",
       " \"arrhythmia_16.csv\"\n",
       " \"arrhythmia_17.csv\"\n",
       " \"arrhythmia_18.csv\"\n",
       " \"arrhythmia_19.csv\"\n",
       " \"arrhythmia_2.csv\" \n",
       " ⋮                  \n",
       " \"wiki4he_17.csv\"   \n",
       " \"wiki4he_18.csv\"   \n",
       " \"wiki4he_19.csv\"   \n",
       " \"wiki4he_2.csv\"    \n",
       " \"wiki4he_20.csv\"   \n",
       " \"wiki4he_3.csv\"    \n",
       " \"wiki4he_4.csv\"    \n",
       " \"wiki4he_5.csv\"    \n",
       " \"wiki4he_6.csv\"    \n",
       " \"wiki4he_7.csv\"    \n",
       " \"wiki4he_8.csv\"    \n",
       " \"wiki4he_9.csv\"    "
      ]
     },
     "execution_count": 2,
     "metadata": {},
     "output_type": "execute_result"
    }
   ],
   "source": [
    "filelist = [ f for f in split.(read(`ls ../results/penalty`, String), \"\\n\") if endswith(f, \".csv\")]"
   ]
  },
  {
   "cell_type": "code",
   "execution_count": 7,
   "metadata": {},
   "outputs": [
    {
     "data": {
      "text/html": [
       "<table class=\"data-frame\"><thead><tr><th></th><th>dataset</th><th>copynum</th><th>penalty</th><th>iter</th><th>method</th><th>osr2</th></tr><tr><th></th><th>String</th><th>Int64</th><th>Int64</th><th>Int64</th><th>String</th><th>Float64</th></tr></thead><tbody><p>75 rows × 6 columns</p><tr><th>1</th><td>arrhythmia</td><td>1</td><td>1</td><td>1</td><td>Impute then regress</td><td>0.732565</td></tr><tr><th>2</th><td>arrhythmia</td><td>1</td><td>1</td><td>1</td><td>Augmented</td><td>0.737821</td></tr><tr><th>3</th><td>arrhythmia</td><td>1</td><td>1</td><td>1</td><td>Augmented Affine</td><td>0.473888</td></tr><tr><th>4</th><td>arrhythmia</td><td>1</td><td>1</td><td>2</td><td>Impute then regress</td><td>0.579107</td></tr><tr><th>5</th><td>arrhythmia</td><td>1</td><td>1</td><td>2</td><td>Augmented</td><td>0.595991</td></tr><tr><th>6</th><td>arrhythmia</td><td>1</td><td>1</td><td>2</td><td>Augmented Affine</td><td>0.516769</td></tr><tr><th>7</th><td>arrhythmia</td><td>1</td><td>1</td><td>3</td><td>Impute then regress</td><td>0.618577</td></tr><tr><th>8</th><td>arrhythmia</td><td>1</td><td>1</td><td>3</td><td>Augmented</td><td>0.616224</td></tr><tr><th>9</th><td>arrhythmia</td><td>1</td><td>1</td><td>3</td><td>Augmented Affine</td><td>0.519494</td></tr><tr><th>10</th><td>arrhythmia</td><td>1</td><td>1</td><td>4</td><td>Impute then regress</td><td>0.82366</td></tr><tr><th>11</th><td>arrhythmia</td><td>1</td><td>1</td><td>4</td><td>Augmented</td><td>0.823549</td></tr><tr><th>12</th><td>arrhythmia</td><td>1</td><td>1</td><td>4</td><td>Augmented Affine</td><td>0.763849</td></tr><tr><th>13</th><td>arrhythmia</td><td>1</td><td>1</td><td>5</td><td>Impute then regress</td><td>0.624784</td></tr><tr><th>14</th><td>arrhythmia</td><td>1</td><td>1</td><td>5</td><td>Augmented</td><td>0.633778</td></tr><tr><th>15</th><td>arrhythmia</td><td>1</td><td>1</td><td>5</td><td>Augmented Affine</td><td>0.597497</td></tr><tr><th>16</th><td>arrhythmia</td><td>1</td><td>2</td><td>1</td><td>Impute then regress</td><td>0.568826</td></tr><tr><th>17</th><td>arrhythmia</td><td>1</td><td>2</td><td>1</td><td>Augmented</td><td>0.60094</td></tr><tr><th>18</th><td>arrhythmia</td><td>1</td><td>2</td><td>1</td><td>Augmented Affine</td><td>0.559251</td></tr><tr><th>19</th><td>arrhythmia</td><td>1</td><td>2</td><td>2</td><td>Impute then regress</td><td>0.597627</td></tr><tr><th>20</th><td>arrhythmia</td><td>1</td><td>2</td><td>2</td><td>Augmented</td><td>0.645877</td></tr><tr><th>21</th><td>arrhythmia</td><td>1</td><td>2</td><td>2</td><td>Augmented Affine</td><td>0.653073</td></tr><tr><th>22</th><td>arrhythmia</td><td>1</td><td>2</td><td>3</td><td>Impute then regress</td><td>0.437112</td></tr><tr><th>23</th><td>arrhythmia</td><td>1</td><td>2</td><td>3</td><td>Augmented</td><td>0.400779</td></tr><tr><th>24</th><td>arrhythmia</td><td>1</td><td>2</td><td>3</td><td>Augmented Affine</td><td>0.42959</td></tr><tr><th>25</th><td>arrhythmia</td><td>1</td><td>2</td><td>4</td><td>Impute then regress</td><td>0.802536</td></tr><tr><th>26</th><td>arrhythmia</td><td>1</td><td>2</td><td>4</td><td>Augmented</td><td>0.711339</td></tr><tr><th>27</th><td>arrhythmia</td><td>1</td><td>2</td><td>4</td><td>Augmented Affine</td><td>0.738047</td></tr><tr><th>28</th><td>arrhythmia</td><td>1</td><td>2</td><td>5</td><td>Impute then regress</td><td>0.44959</td></tr><tr><th>29</th><td>arrhythmia</td><td>1</td><td>2</td><td>5</td><td>Augmented</td><td>0.552598</td></tr><tr><th>30</th><td>arrhythmia</td><td>1</td><td>2</td><td>5</td><td>Augmented Affine</td><td>0.541061</td></tr><tr><th>&vellip;</th><td>&vellip;</td><td>&vellip;</td><td>&vellip;</td><td>&vellip;</td><td>&vellip;</td><td>&vellip;</td></tr></tbody></table>"
      ],
      "text/latex": [
       "\\begin{tabular}{r|cccccc}\n",
       "\t& dataset & copynum & penalty & iter & method & osr2\\\\\n",
       "\t\\hline\n",
       "\t& String & Int64 & Int64 & Int64 & String & Float64\\\\\n",
       "\t\\hline\n",
       "\t1 & arrhythmia & 1 & 1 & 1 & Impute then regress & 0.732565 \\\\\n",
       "\t2 & arrhythmia & 1 & 1 & 1 & Augmented & 0.737821 \\\\\n",
       "\t3 & arrhythmia & 1 & 1 & 1 & Augmented Affine & 0.473888 \\\\\n",
       "\t4 & arrhythmia & 1 & 1 & 2 & Impute then regress & 0.579107 \\\\\n",
       "\t5 & arrhythmia & 1 & 1 & 2 & Augmented & 0.595991 \\\\\n",
       "\t6 & arrhythmia & 1 & 1 & 2 & Augmented Affine & 0.516769 \\\\\n",
       "\t7 & arrhythmia & 1 & 1 & 3 & Impute then regress & 0.618577 \\\\\n",
       "\t8 & arrhythmia & 1 & 1 & 3 & Augmented & 0.616224 \\\\\n",
       "\t9 & arrhythmia & 1 & 1 & 3 & Augmented Affine & 0.519494 \\\\\n",
       "\t10 & arrhythmia & 1 & 1 & 4 & Impute then regress & 0.82366 \\\\\n",
       "\t11 & arrhythmia & 1 & 1 & 4 & Augmented & 0.823549 \\\\\n",
       "\t12 & arrhythmia & 1 & 1 & 4 & Augmented Affine & 0.763849 \\\\\n",
       "\t13 & arrhythmia & 1 & 1 & 5 & Impute then regress & 0.624784 \\\\\n",
       "\t14 & arrhythmia & 1 & 1 & 5 & Augmented & 0.633778 \\\\\n",
       "\t15 & arrhythmia & 1 & 1 & 5 & Augmented Affine & 0.597497 \\\\\n",
       "\t16 & arrhythmia & 1 & 2 & 1 & Impute then regress & 0.568826 \\\\\n",
       "\t17 & arrhythmia & 1 & 2 & 1 & Augmented & 0.60094 \\\\\n",
       "\t18 & arrhythmia & 1 & 2 & 1 & Augmented Affine & 0.559251 \\\\\n",
       "\t19 & arrhythmia & 1 & 2 & 2 & Impute then regress & 0.597627 \\\\\n",
       "\t20 & arrhythmia & 1 & 2 & 2 & Augmented & 0.645877 \\\\\n",
       "\t21 & arrhythmia & 1 & 2 & 2 & Augmented Affine & 0.653073 \\\\\n",
       "\t22 & arrhythmia & 1 & 2 & 3 & Impute then regress & 0.437112 \\\\\n",
       "\t23 & arrhythmia & 1 & 2 & 3 & Augmented & 0.400779 \\\\\n",
       "\t24 & arrhythmia & 1 & 2 & 3 & Augmented Affine & 0.42959 \\\\\n",
       "\t25 & arrhythmia & 1 & 2 & 4 & Impute then regress & 0.802536 \\\\\n",
       "\t26 & arrhythmia & 1 & 2 & 4 & Augmented & 0.711339 \\\\\n",
       "\t27 & arrhythmia & 1 & 2 & 4 & Augmented Affine & 0.738047 \\\\\n",
       "\t28 & arrhythmia & 1 & 2 & 5 & Impute then regress & 0.44959 \\\\\n",
       "\t29 & arrhythmia & 1 & 2 & 5 & Augmented & 0.552598 \\\\\n",
       "\t30 & arrhythmia & 1 & 2 & 5 & Augmented Affine & 0.541061 \\\\\n",
       "\t$\\dots$ & $\\dots$ & $\\dots$ & $\\dots$ & $\\dots$ & $\\dots$ & $\\dots$ \\\\\n",
       "\\end{tabular}\n"
      ],
      "text/plain": [
       "75×6 DataFrame. Omitted printing of 1 columns\n",
       "│ Row │ dataset    │ copynum │ penalty │ iter  │ method              │\n",
       "│     │ \u001b[90mString\u001b[39m     │ \u001b[90mInt64\u001b[39m   │ \u001b[90mInt64\u001b[39m   │ \u001b[90mInt64\u001b[39m │ \u001b[90mString\u001b[39m              │\n",
       "├─────┼────────────┼─────────┼─────────┼───────┼─────────────────────┤\n",
       "│ 1   │ arrhythmia │ 1       │ 1       │ 1     │ Impute then regress │\n",
       "│ 2   │ arrhythmia │ 1       │ 1       │ 1     │ Augmented           │\n",
       "│ 3   │ arrhythmia │ 1       │ 1       │ 1     │ Augmented Affine    │\n",
       "│ 4   │ arrhythmia │ 1       │ 1       │ 2     │ Impute then regress │\n",
       "│ 5   │ arrhythmia │ 1       │ 1       │ 2     │ Augmented           │\n",
       "│ 6   │ arrhythmia │ 1       │ 1       │ 2     │ Augmented Affine    │\n",
       "│ 7   │ arrhythmia │ 1       │ 1       │ 3     │ Impute then regress │\n",
       "│ 8   │ arrhythmia │ 1       │ 1       │ 3     │ Augmented           │\n",
       "│ 9   │ arrhythmia │ 1       │ 1       │ 3     │ Augmented Affine    │\n",
       "│ 10  │ arrhythmia │ 1       │ 1       │ 4     │ Impute then regress │\n",
       "⋮\n",
       "│ 65  │ arrhythmia │ 1       │ 16      │ 2     │ Augmented           │\n",
       "│ 66  │ arrhythmia │ 1       │ 16      │ 2     │ Augmented Affine    │\n",
       "│ 67  │ arrhythmia │ 1       │ 16      │ 3     │ Impute then regress │\n",
       "│ 68  │ arrhythmia │ 1       │ 16      │ 3     │ Augmented           │\n",
       "│ 69  │ arrhythmia │ 1       │ 16      │ 3     │ Augmented Affine    │\n",
       "│ 70  │ arrhythmia │ 1       │ 16      │ 4     │ Impute then regress │\n",
       "│ 71  │ arrhythmia │ 1       │ 16      │ 4     │ Augmented           │\n",
       "│ 72  │ arrhythmia │ 1       │ 16      │ 4     │ Augmented Affine    │\n",
       "│ 73  │ arrhythmia │ 1       │ 16      │ 5     │ Impute then regress │\n",
       "│ 74  │ arrhythmia │ 1       │ 16      │ 5     │ Augmented           │\n",
       "│ 75  │ arrhythmia │ 1       │ 16      │ 5     │ Augmented Affine    │"
      ]
     },
     "execution_count": 7,
     "metadata": {},
     "output_type": "execute_result"
    }
   ],
   "source": [
    "df = DataFrame(CSV.read(\"../results/penalty/\"*filelist[2]))"
   ]
  },
  {
   "cell_type": "code",
   "execution_count": 8,
   "metadata": {},
   "outputs": [],
   "source": [
    "for i in 3:length(filelist)\n",
    "    aux = DataFrame(CSV.read(\"../results/penalty/\"*filelist[i]))\n",
    "    df = vcat(df, aux)\n",
    "end"
   ]
  },
  {
   "cell_type": "code",
   "execution_count": 9,
   "metadata": {},
   "outputs": [
    {
     "data": {
      "text/plain": [
       "iqr (generic function with 1 method)"
      ]
     },
     "execution_count": 9,
     "metadata": {},
     "output_type": "execute_result"
    }
   ],
   "source": [
    "function iqr(t)\n",
    "    try\n",
    "        return quantile(t, .75) - quantile(t, .25)\n",
    "    catch \n",
    "        return NaN\n",
    "    end\n",
    "end"
   ]
  },
  {
   "cell_type": "code",
   "execution_count": 10,
   "metadata": {
    "collapsed": true
   },
   "outputs": [
    {
     "name": "stderr",
     "output_type": "stream",
     "text": [
      "┌ Warning: `getindex(df::DataFrame, col_inds::Union{AbstractVector, Regex, Not})` is deprecated, use `df[:, col_inds]` instead.\n",
      "│   caller = top-level scope at In[10]:1\n",
      "└ @ Core In[10]:1\n"
     ]
    },
    {
     "data": {
      "text/html": [
       "<table class=\"data-frame\"><thead><tr><th></th><th>dataset</th><th>method</th><th>penalty</th><th>osr2_mean</th><th>osr2_median</th><th>osr2_std</th><th>osr2_iqr</th></tr><tr><th></th><th>String</th><th>String</th><th>Int64</th><th>Float64</th><th>Float64</th><th>Float64</th><th>Float64</th></tr></thead><tbody><p>435 rows × 7 columns</p><tr><th>1</th><td>arrhythmia</td><td>Impute then regress</td><td>1</td><td>0.667003</td><td>0.688808</td><td>0.0920527</td><td>0.129508</td></tr><tr><th>2</th><td>arrhythmia</td><td>Augmented</td><td>1</td><td>0.666707</td><td>0.681174</td><td>0.0897578</td><td>0.13073</td></tr><tr><th>3</th><td>arrhythmia</td><td>Augmented Affine</td><td>1</td><td>0.616666</td><td>0.635948</td><td>0.106831</td><td>0.175588</td></tr><tr><th>4</th><td>arrhythmia</td><td>Impute then regress</td><td>2</td><td>0.646488</td><td>0.66658</td><td>0.10756</td><td>0.12657</td></tr><tr><th>5</th><td>arrhythmia</td><td>Augmented</td><td>2</td><td>0.653442</td><td>0.675221</td><td>0.1084</td><td>0.124608</td></tr><tr><th>6</th><td>arrhythmia</td><td>Augmented Affine</td><td>2</td><td>0.637703</td><td>0.660247</td><td>0.112666</td><td>0.133499</td></tr><tr><th>7</th><td>arrhythmia</td><td>Impute then regress</td><td>4</td><td>0.645257</td><td>0.653642</td><td>0.0938727</td><td>0.104884</td></tr><tr><th>8</th><td>arrhythmia</td><td>Augmented</td><td>4</td><td>0.642565</td><td>0.650977</td><td>0.102102</td><td>0.106282</td></tr><tr><th>9</th><td>arrhythmia</td><td>Augmented Affine</td><td>4</td><td>0.638652</td><td>0.650979</td><td>0.100457</td><td>0.112411</td></tr><tr><th>10</th><td>arrhythmia</td><td>Impute then regress</td><td>8</td><td>0.651814</td><td>0.664157</td><td>0.101229</td><td>0.125857</td></tr><tr><th>11</th><td>arrhythmia</td><td>Augmented</td><td>8</td><td>0.652312</td><td>0.663332</td><td>0.107905</td><td>0.149294</td></tr><tr><th>12</th><td>arrhythmia</td><td>Augmented Affine</td><td>8</td><td>0.65014</td><td>0.667678</td><td>0.111995</td><td>0.154728</td></tr><tr><th>13</th><td>arrhythmia</td><td>Impute then regress</td><td>16</td><td>0.657487</td><td>0.662794</td><td>0.0744458</td><td>0.100555</td></tr><tr><th>14</th><td>arrhythmia</td><td>Augmented</td><td>16</td><td>0.663602</td><td>0.668289</td><td>0.0713019</td><td>0.090344</td></tr><tr><th>15</th><td>arrhythmia</td><td>Augmented Affine</td><td>16</td><td>0.662962</td><td>0.669809</td><td>0.0745799</td><td>0.0967609</td></tr><tr><th>16</th><td>auto-mpg</td><td>Impute then regress</td><td>1</td><td>0.923523</td><td>0.933902</td><td>0.032294</td><td>0.0205422</td></tr><tr><th>17</th><td>auto-mpg</td><td>Augmented</td><td>1</td><td>0.923413</td><td>0.933314</td><td>0.0323406</td><td>0.0200304</td></tr><tr><th>18</th><td>auto-mpg</td><td>Augmented Affine</td><td>1</td><td>0.923194</td><td>0.932644</td><td>0.0324522</td><td>0.019563</td></tr><tr><th>19</th><td>auto-mpg</td><td>Impute then regress</td><td>2</td><td>0.926844</td><td>0.930383</td><td>0.0198228</td><td>0.0173975</td></tr><tr><th>20</th><td>auto-mpg</td><td>Augmented</td><td>2</td><td>0.926822</td><td>0.931112</td><td>0.0197976</td><td>0.0173567</td></tr><tr><th>21</th><td>auto-mpg</td><td>Augmented Affine</td><td>2</td><td>0.926892</td><td>0.930809</td><td>0.0198435</td><td>0.0176069</td></tr><tr><th>22</th><td>auto-mpg</td><td>Impute then regress</td><td>4</td><td>0.929408</td><td>0.933845</td><td>0.0185927</td><td>0.0175665</td></tr><tr><th>23</th><td>auto-mpg</td><td>Augmented</td><td>4</td><td>0.92929</td><td>0.933321</td><td>0.0188785</td><td>0.0173785</td></tr><tr><th>24</th><td>auto-mpg</td><td>Augmented Affine</td><td>4</td><td>0.929331</td><td>0.933655</td><td>0.018906</td><td>0.0174718</td></tr><tr><th>25</th><td>auto-mpg</td><td>Impute then regress</td><td>8</td><td>0.925964</td><td>0.929774</td><td>0.0188653</td><td>0.0166618</td></tr><tr><th>26</th><td>auto-mpg</td><td>Augmented</td><td>8</td><td>0.925927</td><td>0.92951</td><td>0.0187515</td><td>0.0170779</td></tr><tr><th>27</th><td>auto-mpg</td><td>Augmented Affine</td><td>8</td><td>0.926029</td><td>0.929654</td><td>0.018849</td><td>0.0181462</td></tr><tr><th>28</th><td>auto-mpg</td><td>Impute then regress</td><td>16</td><td>0.929316</td><td>0.933195</td><td>0.0180136</td><td>0.0121829</td></tr><tr><th>29</th><td>auto-mpg</td><td>Augmented</td><td>16</td><td>0.929351</td><td>0.933115</td><td>0.0180841</td><td>0.0126019</td></tr><tr><th>30</th><td>auto-mpg</td><td>Augmented Affine</td><td>16</td><td>0.929358</td><td>0.933148</td><td>0.0179881</td><td>0.0119917</td></tr><tr><th>&vellip;</th><td>&vellip;</td><td>&vellip;</td><td>&vellip;</td><td>&vellip;</td><td>&vellip;</td><td>&vellip;</td><td>&vellip;</td></tr></tbody></table>"
      ],
      "text/latex": [
       "\\begin{tabular}{r|ccccccc}\n",
       "\t& dataset & method & penalty & osr2\\_mean & osr2\\_median & osr2\\_std & osr2\\_iqr\\\\\n",
       "\t\\hline\n",
       "\t& String & String & Int64 & Float64 & Float64 & Float64 & Float64\\\\\n",
       "\t\\hline\n",
       "\t1 & arrhythmia & Impute then regress & 1 & 0.667003 & 0.688808 & 0.0920527 & 0.129508 \\\\\n",
       "\t2 & arrhythmia & Augmented & 1 & 0.666707 & 0.681174 & 0.0897578 & 0.13073 \\\\\n",
       "\t3 & arrhythmia & Augmented Affine & 1 & 0.616666 & 0.635948 & 0.106831 & 0.175588 \\\\\n",
       "\t4 & arrhythmia & Impute then regress & 2 & 0.646488 & 0.66658 & 0.10756 & 0.12657 \\\\\n",
       "\t5 & arrhythmia & Augmented & 2 & 0.653442 & 0.675221 & 0.1084 & 0.124608 \\\\\n",
       "\t6 & arrhythmia & Augmented Affine & 2 & 0.637703 & 0.660247 & 0.112666 & 0.133499 \\\\\n",
       "\t7 & arrhythmia & Impute then regress & 4 & 0.645257 & 0.653642 & 0.0938727 & 0.104884 \\\\\n",
       "\t8 & arrhythmia & Augmented & 4 & 0.642565 & 0.650977 & 0.102102 & 0.106282 \\\\\n",
       "\t9 & arrhythmia & Augmented Affine & 4 & 0.638652 & 0.650979 & 0.100457 & 0.112411 \\\\\n",
       "\t10 & arrhythmia & Impute then regress & 8 & 0.651814 & 0.664157 & 0.101229 & 0.125857 \\\\\n",
       "\t11 & arrhythmia & Augmented & 8 & 0.652312 & 0.663332 & 0.107905 & 0.149294 \\\\\n",
       "\t12 & arrhythmia & Augmented Affine & 8 & 0.65014 & 0.667678 & 0.111995 & 0.154728 \\\\\n",
       "\t13 & arrhythmia & Impute then regress & 16 & 0.657487 & 0.662794 & 0.0744458 & 0.100555 \\\\\n",
       "\t14 & arrhythmia & Augmented & 16 & 0.663602 & 0.668289 & 0.0713019 & 0.090344 \\\\\n",
       "\t15 & arrhythmia & Augmented Affine & 16 & 0.662962 & 0.669809 & 0.0745799 & 0.0967609 \\\\\n",
       "\t16 & auto-mpg & Impute then regress & 1 & 0.923523 & 0.933902 & 0.032294 & 0.0205422 \\\\\n",
       "\t17 & auto-mpg & Augmented & 1 & 0.923413 & 0.933314 & 0.0323406 & 0.0200304 \\\\\n",
       "\t18 & auto-mpg & Augmented Affine & 1 & 0.923194 & 0.932644 & 0.0324522 & 0.019563 \\\\\n",
       "\t19 & auto-mpg & Impute then regress & 2 & 0.926844 & 0.930383 & 0.0198228 & 0.0173975 \\\\\n",
       "\t20 & auto-mpg & Augmented & 2 & 0.926822 & 0.931112 & 0.0197976 & 0.0173567 \\\\\n",
       "\t21 & auto-mpg & Augmented Affine & 2 & 0.926892 & 0.930809 & 0.0198435 & 0.0176069 \\\\\n",
       "\t22 & auto-mpg & Impute then regress & 4 & 0.929408 & 0.933845 & 0.0185927 & 0.0175665 \\\\\n",
       "\t23 & auto-mpg & Augmented & 4 & 0.92929 & 0.933321 & 0.0188785 & 0.0173785 \\\\\n",
       "\t24 & auto-mpg & Augmented Affine & 4 & 0.929331 & 0.933655 & 0.018906 & 0.0174718 \\\\\n",
       "\t25 & auto-mpg & Impute then regress & 8 & 0.925964 & 0.929774 & 0.0188653 & 0.0166618 \\\\\n",
       "\t26 & auto-mpg & Augmented & 8 & 0.925927 & 0.92951 & 0.0187515 & 0.0170779 \\\\\n",
       "\t27 & auto-mpg & Augmented Affine & 8 & 0.926029 & 0.929654 & 0.018849 & 0.0181462 \\\\\n",
       "\t28 & auto-mpg & Impute then regress & 16 & 0.929316 & 0.933195 & 0.0180136 & 0.0121829 \\\\\n",
       "\t29 & auto-mpg & Augmented & 16 & 0.929351 & 0.933115 & 0.0180841 & 0.0126019 \\\\\n",
       "\t30 & auto-mpg & Augmented Affine & 16 & 0.929358 & 0.933148 & 0.0179881 & 0.0119917 \\\\\n",
       "\t$\\dots$ & $\\dots$ & $\\dots$ & $\\dots$ & $\\dots$ & $\\dots$ & $\\dots$ & $\\dots$ \\\\\n",
       "\\end{tabular}\n"
      ],
      "text/plain": [
       "435×7 DataFrame. Omitted printing of 2 columns\n",
       "│ Row │ dataset    │ method              │ penalty │ osr2_mean │ osr2_median │\n",
       "│     │ \u001b[90mString\u001b[39m     │ \u001b[90mString\u001b[39m              │ \u001b[90mInt64\u001b[39m   │ \u001b[90mFloat64\u001b[39m   │ \u001b[90mFloat64\u001b[39m     │\n",
       "├─────┼────────────┼─────────────────────┼─────────┼───────────┼─────────────┤\n",
       "│ 1   │ arrhythmia │ Impute then regress │ 1       │ 0.667003  │ 0.688808    │\n",
       "│ 2   │ arrhythmia │ Augmented           │ 1       │ 0.666707  │ 0.681174    │\n",
       "│ 3   │ arrhythmia │ Augmented Affine    │ 1       │ 0.616666  │ 0.635948    │\n",
       "│ 4   │ arrhythmia │ Impute then regress │ 2       │ 0.646488  │ 0.66658     │\n",
       "│ 5   │ arrhythmia │ Augmented           │ 2       │ 0.653442  │ 0.675221    │\n",
       "│ 6   │ arrhythmia │ Augmented Affine    │ 2       │ 0.637703  │ 0.660247    │\n",
       "│ 7   │ arrhythmia │ Impute then regress │ 4       │ 0.645257  │ 0.653642    │\n",
       "│ 8   │ arrhythmia │ Augmented           │ 4       │ 0.642565  │ 0.650977    │\n",
       "│ 9   │ arrhythmia │ Augmented Affine    │ 4       │ 0.638652  │ 0.650979    │\n",
       "│ 10  │ arrhythmia │ Impute then regress │ 8       │ 0.651814  │ 0.664157    │\n",
       "⋮\n",
       "│ 425 │ wiki4he    │ Augmented           │ 2       │ 0.896498  │ 0.898204    │\n",
       "│ 426 │ wiki4he    │ Augmented Affine    │ 2       │ 0.88236   │ 0.884899    │\n",
       "│ 427 │ wiki4he    │ Impute then regress │ 4       │ 0.896182  │ 0.900296    │\n",
       "│ 428 │ wiki4he    │ Augmented           │ 4       │ 0.897743  │ 0.900079    │\n",
       "│ 429 │ wiki4he    │ Augmented Affine    │ 4       │ 0.877111  │ 0.88162     │\n",
       "│ 430 │ wiki4he    │ Impute then regress │ 8       │ 0.899467  │ 0.903068    │\n",
       "│ 431 │ wiki4he    │ Augmented           │ 8       │ 0.895032  │ 0.898094    │\n",
       "│ 432 │ wiki4he    │ Augmented Affine    │ 8       │ 0.858332  │ 0.8588      │\n",
       "│ 433 │ wiki4he    │ Impute then regress │ 16      │ 0.898049  │ 0.901169    │\n",
       "│ 434 │ wiki4he    │ Augmented           │ 16      │ 0.893084  │ 0.89783     │\n",
       "│ 435 │ wiki4he    │ Augmented Affine    │ 16      │ 0.824464  │ 0.828178    │"
      ]
     },
     "execution_count": 10,
     "metadata": {},
     "output_type": "execute_result"
    }
   ],
   "source": [
    "res = aggregate(df[[:dataset, :method, :penalty, :osr2]], [:dataset, :method, :penalty], [mean, median, std, iqr])"
   ]
  },
  {
   "cell_type": "code",
   "execution_count": 7,
   "metadata": {},
   "outputs": [
    {
     "data": {
      "text/plain": [
       "\"../results/penalty/0_summary.csv\""
      ]
     },
     "execution_count": 7,
     "metadata": {},
     "output_type": "execute_result"
    }
   ],
   "source": [
    "CSV.write(\"../results/penalty/0_summary.csv\", res)"
   ]
  },
  {
   "cell_type": "code",
   "execution_count": 15,
   "metadata": {
    "collapsed": true
   },
   "outputs": [
    {
     "name": "stderr",
     "output_type": "stream",
     "text": [
      "┌ Warning: `getindex(df::DataFrame, col_ind::ColumnIndex)` is deprecated, use `df[!, col_ind]` instead.\n",
      "│   caller = top-level scope at In[15]:1\n",
      "└ @ Core In[15]:1\n"
     ]
    },
    {
     "data": {
      "image/svg+xml": [
       "<?xml version=\"1.0\" encoding=\"utf-8\"?>\n",
       "<svg xmlns=\"http://www.w3.org/2000/svg\" xmlns:xlink=\"http://www.w3.org/1999/xlink\" width=\"600\" height=\"400\" viewBox=\"0 0 2400 1600\">\n",
       "<defs>\n",
       "  <clipPath id=\"clip5700\">\n",
       "    <rect x=\"0\" y=\"0\" width=\"2000\" height=\"2000\"/>\n",
       "  </clipPath>\n",
       "</defs>\n",
       "<defs>\n",
       "  <clipPath id=\"clip5701\">\n",
       "    <rect x=\"0\" y=\"0\" width=\"2400\" height=\"1600\"/>\n",
       "  </clipPath>\n",
       "</defs>\n",
       "<polygon clip-path=\"url(#clip5701)\" points=\"\n",
       "0,1600 2400,1600 2400,0 0,0 \n",
       "  \" fill=\"#ffffff\" fill-rule=\"evenodd\" fill-opacity=\"1\"/>\n",
       "<defs>\n",
       "  <clipPath id=\"clip5702\">\n",
       "    <rect x=\"480\" y=\"0\" width=\"1681\" height=\"1600\"/>\n",
       "  </clipPath>\n",
       "</defs>\n",
       "<polygon clip-path=\"url(#clip5701)\" points=\"\n",
       "168.627,1487.47 2352.76,1487.47 2352.76,47.2441 168.627,47.2441 \n",
       "  \" fill=\"#ffffff\" fill-rule=\"evenodd\" fill-opacity=\"1\"/>\n",
       "<defs>\n",
       "  <clipPath id=\"clip5703\">\n",
       "    <rect x=\"168\" y=\"47\" width=\"2185\" height=\"1441\"/>\n",
       "  </clipPath>\n",
       "</defs>\n",
       "<polyline clip-path=\"url(#clip5703)\" style=\"stroke:#000000; stroke-width:2; stroke-opacity:0.1; fill:none\" points=\"\n",
       "  505.175,1487.47 505.175,47.2441 \n",
       "  \"/>\n",
       "<polyline clip-path=\"url(#clip5703)\" style=\"stroke:#000000; stroke-width:2; stroke-opacity:0.1; fill:none\" points=\"\n",
       "  917.275,1487.47 917.275,47.2441 \n",
       "  \"/>\n",
       "<polyline clip-path=\"url(#clip5703)\" style=\"stroke:#000000; stroke-width:2; stroke-opacity:0.1; fill:none\" points=\"\n",
       "  1329.37,1487.47 1329.37,47.2441 \n",
       "  \"/>\n",
       "<polyline clip-path=\"url(#clip5703)\" style=\"stroke:#000000; stroke-width:2; stroke-opacity:0.1; fill:none\" points=\"\n",
       "  1741.47,1487.47 1741.47,47.2441 \n",
       "  \"/>\n",
       "<polyline clip-path=\"url(#clip5703)\" style=\"stroke:#000000; stroke-width:2; stroke-opacity:0.1; fill:none\" points=\"\n",
       "  2153.57,1487.47 2153.57,47.2441 \n",
       "  \"/>\n",
       "<polyline clip-path=\"url(#clip5703)\" style=\"stroke:#000000; stroke-width:2; stroke-opacity:0.1; fill:none\" points=\"\n",
       "  168.627,1312.32 2352.76,1312.32 \n",
       "  \"/>\n",
       "<polyline clip-path=\"url(#clip5703)\" style=\"stroke:#000000; stroke-width:2; stroke-opacity:0.1; fill:none\" points=\"\n",
       "  168.627,1123.11 2352.76,1123.11 \n",
       "  \"/>\n",
       "<polyline clip-path=\"url(#clip5703)\" style=\"stroke:#000000; stroke-width:2; stroke-opacity:0.1; fill:none\" points=\"\n",
       "  168.627,933.9 2352.76,933.9 \n",
       "  \"/>\n",
       "<polyline clip-path=\"url(#clip5703)\" style=\"stroke:#000000; stroke-width:2; stroke-opacity:0.1; fill:none\" points=\"\n",
       "  168.627,744.691 2352.76,744.691 \n",
       "  \"/>\n",
       "<polyline clip-path=\"url(#clip5703)\" style=\"stroke:#000000; stroke-width:2; stroke-opacity:0.1; fill:none\" points=\"\n",
       "  168.627,555.483 2352.76,555.483 \n",
       "  \"/>\n",
       "<polyline clip-path=\"url(#clip5703)\" style=\"stroke:#000000; stroke-width:2; stroke-opacity:0.1; fill:none\" points=\"\n",
       "  168.627,366.274 2352.76,366.274 \n",
       "  \"/>\n",
       "<polyline clip-path=\"url(#clip5703)\" style=\"stroke:#000000; stroke-width:2; stroke-opacity:0.1; fill:none\" points=\"\n",
       "  168.627,177.066 2352.76,177.066 \n",
       "  \"/>\n",
       "<polyline clip-path=\"url(#clip5701)\" style=\"stroke:#000000; stroke-width:4; stroke-opacity:1; fill:none\" points=\"\n",
       "  168.627,1487.47 2352.76,1487.47 \n",
       "  \"/>\n",
       "<polyline clip-path=\"url(#clip5701)\" style=\"stroke:#000000; stroke-width:4; stroke-opacity:1; fill:none\" points=\"\n",
       "  168.627,1487.47 168.627,47.2441 \n",
       "  \"/>\n",
       "<polyline clip-path=\"url(#clip5701)\" style=\"stroke:#000000; stroke-width:4; stroke-opacity:1; fill:none\" points=\"\n",
       "  505.175,1487.47 505.175,1465.87 \n",
       "  \"/>\n",
       "<polyline clip-path=\"url(#clip5701)\" style=\"stroke:#000000; stroke-width:4; stroke-opacity:1; fill:none\" points=\"\n",
       "  917.275,1487.47 917.275,1465.87 \n",
       "  \"/>\n",
       "<polyline clip-path=\"url(#clip5701)\" style=\"stroke:#000000; stroke-width:4; stroke-opacity:1; fill:none\" points=\"\n",
       "  1329.37,1487.47 1329.37,1465.87 \n",
       "  \"/>\n",
       "<polyline clip-path=\"url(#clip5701)\" style=\"stroke:#000000; stroke-width:4; stroke-opacity:1; fill:none\" points=\"\n",
       "  1741.47,1487.47 1741.47,1465.87 \n",
       "  \"/>\n",
       "<polyline clip-path=\"url(#clip5701)\" style=\"stroke:#000000; stroke-width:4; stroke-opacity:1; fill:none\" points=\"\n",
       "  2153.57,1487.47 2153.57,1465.87 \n",
       "  \"/>\n",
       "<polyline clip-path=\"url(#clip5701)\" style=\"stroke:#000000; stroke-width:4; stroke-opacity:1; fill:none\" points=\"\n",
       "  168.627,1312.32 201.389,1312.32 \n",
       "  \"/>\n",
       "<polyline clip-path=\"url(#clip5701)\" style=\"stroke:#000000; stroke-width:4; stroke-opacity:1; fill:none\" points=\"\n",
       "  168.627,1123.11 201.389,1123.11 \n",
       "  \"/>\n",
       "<polyline clip-path=\"url(#clip5701)\" style=\"stroke:#000000; stroke-width:4; stroke-opacity:1; fill:none\" points=\"\n",
       "  168.627,933.9 201.389,933.9 \n",
       "  \"/>\n",
       "<polyline clip-path=\"url(#clip5701)\" style=\"stroke:#000000; stroke-width:4; stroke-opacity:1; fill:none\" points=\"\n",
       "  168.627,744.691 201.389,744.691 \n",
       "  \"/>\n",
       "<polyline clip-path=\"url(#clip5701)\" style=\"stroke:#000000; stroke-width:4; stroke-opacity:1; fill:none\" points=\"\n",
       "  168.627,555.483 201.389,555.483 \n",
       "  \"/>\n",
       "<polyline clip-path=\"url(#clip5701)\" style=\"stroke:#000000; stroke-width:4; stroke-opacity:1; fill:none\" points=\"\n",
       "  168.627,366.274 201.389,366.274 \n",
       "  \"/>\n",
       "<polyline clip-path=\"url(#clip5701)\" style=\"stroke:#000000; stroke-width:4; stroke-opacity:1; fill:none\" points=\"\n",
       "  168.627,177.066 201.389,177.066 \n",
       "  \"/>\n",
       "<g clip-path=\"url(#clip5701)\">\n",
       "<text style=\"fill:#000000; fill-opacity:1; font-family:Arial,Helvetica Neue,Helvetica,sans-serif; font-size:48px; text-anchor:middle;\" transform=\"rotate(0, 505.175, 1541.47)\" x=\"505.175\" y=\"1541.47\">3</text>\n",
       "</g>\n",
       "<g clip-path=\"url(#clip5701)\">\n",
       "<text style=\"fill:#000000; fill-opacity:1; font-family:Arial,Helvetica Neue,Helvetica,sans-serif; font-size:48px; text-anchor:middle;\" transform=\"rotate(0, 917.275, 1541.47)\" x=\"917.275\" y=\"1541.47\">6</text>\n",
       "</g>\n",
       "<g clip-path=\"url(#clip5701)\">\n",
       "<text style=\"fill:#000000; fill-opacity:1; font-family:Arial,Helvetica Neue,Helvetica,sans-serif; font-size:48px; text-anchor:middle;\" transform=\"rotate(0, 1329.37, 1541.47)\" x=\"1329.37\" y=\"1541.47\">9</text>\n",
       "</g>\n",
       "<g clip-path=\"url(#clip5701)\">\n",
       "<text style=\"fill:#000000; fill-opacity:1; font-family:Arial,Helvetica Neue,Helvetica,sans-serif; font-size:48px; text-anchor:middle;\" transform=\"rotate(0, 1741.47, 1541.47)\" x=\"1741.47\" y=\"1541.47\">12</text>\n",
       "</g>\n",
       "<g clip-path=\"url(#clip5701)\">\n",
       "<text style=\"fill:#000000; fill-opacity:1; font-family:Arial,Helvetica Neue,Helvetica,sans-serif; font-size:48px; text-anchor:middle;\" transform=\"rotate(0, 2153.57, 1541.47)\" x=\"2153.57\" y=\"1541.47\">15</text>\n",
       "</g>\n",
       "<g clip-path=\"url(#clip5701)\">\n",
       "<text style=\"fill:#000000; fill-opacity:1; font-family:Arial,Helvetica Neue,Helvetica,sans-serif; font-size:48px; text-anchor:end;\" transform=\"rotate(0, 144.627, 1329.82)\" x=\"144.627\" y=\"1329.82\">-12</text>\n",
       "</g>\n",
       "<g clip-path=\"url(#clip5701)\">\n",
       "<text style=\"fill:#000000; fill-opacity:1; font-family:Arial,Helvetica Neue,Helvetica,sans-serif; font-size:48px; text-anchor:end;\" transform=\"rotate(0, 144.627, 1140.61)\" x=\"144.627\" y=\"1140.61\">-10</text>\n",
       "</g>\n",
       "<g clip-path=\"url(#clip5701)\">\n",
       "<text style=\"fill:#000000; fill-opacity:1; font-family:Arial,Helvetica Neue,Helvetica,sans-serif; font-size:48px; text-anchor:end;\" transform=\"rotate(0, 144.627, 951.4)\" x=\"144.627\" y=\"951.4\">-8</text>\n",
       "</g>\n",
       "<g clip-path=\"url(#clip5701)\">\n",
       "<text style=\"fill:#000000; fill-opacity:1; font-family:Arial,Helvetica Neue,Helvetica,sans-serif; font-size:48px; text-anchor:end;\" transform=\"rotate(0, 144.627, 762.191)\" x=\"144.627\" y=\"762.191\">-6</text>\n",
       "</g>\n",
       "<g clip-path=\"url(#clip5701)\">\n",
       "<text style=\"fill:#000000; fill-opacity:1; font-family:Arial,Helvetica Neue,Helvetica,sans-serif; font-size:48px; text-anchor:end;\" transform=\"rotate(0, 144.627, 572.983)\" x=\"144.627\" y=\"572.983\">-4</text>\n",
       "</g>\n",
       "<g clip-path=\"url(#clip5701)\">\n",
       "<text style=\"fill:#000000; fill-opacity:1; font-family:Arial,Helvetica Neue,Helvetica,sans-serif; font-size:48px; text-anchor:end;\" transform=\"rotate(0, 144.627, 383.774)\" x=\"144.627\" y=\"383.774\">-2</text>\n",
       "</g>\n",
       "<g clip-path=\"url(#clip5701)\">\n",
       "<text style=\"fill:#000000; fill-opacity:1; font-family:Arial,Helvetica Neue,Helvetica,sans-serif; font-size:48px; text-anchor:end;\" transform=\"rotate(0, 144.627, 194.566)\" x=\"144.627\" y=\"194.566\">0</text>\n",
       "</g>\n",
       "<polyline clip-path=\"url(#clip5703)\" style=\"stroke:#009af9; stroke-width:4; stroke-opacity:1; fill:none\" points=\"\n",
       "  230.442,118.727 367.808,116.736 642.542,116.647 1192.01,115.56 2290.94,114.347 \n",
       "  \"/>\n",
       "<polyline clip-path=\"url(#clip5703)\" style=\"stroke:#e26f46; stroke-width:4; stroke-opacity:1; fill:none\" points=\"\n",
       "  230.442,89.7278 367.808,89.378 642.542,89.1473 1192.01,89.4597 2290.94,89.1447 \n",
       "  \"/>\n",
       "<polyline clip-path=\"url(#clip5703)\" style=\"stroke:#3da44d; stroke-width:4; stroke-opacity:1; fill:none\" points=\"\n",
       "  230.442,93.2262 367.808,93.2916 642.542,92.8645 1192.01,91.8338 2290.94,92.1572 \n",
       "  \"/>\n",
       "<polyline clip-path=\"url(#clip5703)\" style=\"stroke:#c271d2; stroke-width:4; stroke-opacity:1; fill:none\" points=\"\n",
       "  230.442,88.0053 367.808,88.0407 642.542,88.0649 1192.01,88.0345 2290.94,88.3165 \n",
       "  \"/>\n",
       "<polyline clip-path=\"url(#clip5703)\" style=\"stroke:#ac8d18; stroke-width:4; stroke-opacity:1; fill:none\" points=\"\n",
       "  230.442,90.9252 367.808,90.5449 642.542,90.6688 1192.01,90.6472 2290.94,91.0981 \n",
       "  \"/>\n",
       "<polyline clip-path=\"url(#clip5703)\" style=\"stroke:#00a9ad; stroke-width:4; stroke-opacity:1; fill:none\" points=\"\n",
       "  230.442,101.718 367.808,101.566 642.542,102.129 1192.01,102.784 2290.94,101.461 \n",
       "  \"/>\n",
       "<polyline clip-path=\"url(#clip5703)\" style=\"stroke:#ed5d92; stroke-width:4; stroke-opacity:1; fill:none\" points=\"\n",
       "  230.442,92.0771 367.808,95.2648 642.542,92.3143 1192.01,93.721 2290.94,92.965 \n",
       "  \"/>\n",
       "<polyline clip-path=\"url(#clip5703)\" style=\"stroke:#c68125; stroke-width:4; stroke-opacity:1; fill:none\" points=\"\n",
       "  230.442,89.4033 367.808,89.2279 642.542,89.3018 1192.01,89.2535 2290.94,89.2977 \n",
       "  \"/>\n",
       "<polyline clip-path=\"url(#clip5703)\" style=\"stroke:#00a98d; stroke-width:4; stroke-opacity:1; fill:none\" points=\"\n",
       "  230.442,114.721 367.808,117.799 642.542,110.561 1192.01,110.835 2290.94,110.867 \n",
       "  \"/>\n",
       "<polyline clip-path=\"url(#clip5703)\" style=\"stroke:#8e971d; stroke-width:4; stroke-opacity:1; fill:none\" points=\"\n",
       "  230.442,88.4885 367.808,88.5072 642.542,88.5076 1192.01,88.4635 2290.94,88.5919 \n",
       "  \"/>\n",
       "<polyline clip-path=\"url(#clip5703)\" style=\"stroke:#00a8cb; stroke-width:4; stroke-opacity:1; fill:none\" points=\"\n",
       "  230.442,90.9373 367.808,90.6604 642.542,90.9882 1192.01,90.4395 2290.94,90.6123 \n",
       "  \"/>\n",
       "<polyline clip-path=\"url(#clip5703)\" style=\"stroke:#9b7fe8; stroke-width:4; stroke-opacity:1; fill:none\" points=\"\n",
       "  230.442,100.856 367.808,99.3171 642.542,98.4842 1192.01,101.746 2290.94,102.624 \n",
       "  \"/>\n",
       "<polyline clip-path=\"url(#clip5703)\" style=\"stroke:#608cf6; stroke-width:4; stroke-opacity:1; fill:none\" points=\"\n",
       "  230.442,108.086 367.808,105.886 642.542,107.015 1192.01,105.593 2290.94,108.947 \n",
       "  \"/>\n",
       "<polyline clip-path=\"url(#clip5703)\" style=\"stroke:#f05f73; stroke-width:4; stroke-opacity:1; fill:none\" points=\"\n",
       "  230.442,164.726 367.808,158.361 642.542,159.866 1192.01,158.89 2290.94,152.324 \n",
       "  \"/>\n",
       "<polyline clip-path=\"url(#clip5703)\" style=\"stroke:#dd64b5; stroke-width:4; stroke-opacity:1; fill:none\" points=\"\n",
       "  230.442,89.5124 367.808,90.0174 642.542,89.5629 1192.01,89.7038 2290.94,89.3501 \n",
       "  \"/>\n",
       "<polyline clip-path=\"url(#clip5703)\" style=\"stroke:#6b9e32; stroke-width:4; stroke-opacity:1; fill:none\" points=\"\n",
       "  230.442,89.4631 367.808,88.2222 642.542,89.0344 1192.01,89.0364 2290.94,90.4282 \n",
       "  \"/>\n",
       "<polyline clip-path=\"url(#clip5703)\" style=\"stroke:#718c69; stroke-width:4; stroke-opacity:1; fill:none\" points=\"\n",
       "  230.442,96.5335 367.808,96.7712 642.542,96.3727 1192.01,98.2219 2290.94,100.645 \n",
       "  \"/>\n",
       "<polyline clip-path=\"url(#clip5703)\" style=\"stroke:#47988b; stroke-width:4; stroke-opacity:1; fill:none\" points=\"\n",
       "  230.442,96.6174 367.808,96.1643 642.542,96.3725 1192.01,96.7201 2290.94,99.589 \n",
       "  \"/>\n",
       "<polyline clip-path=\"url(#clip5703)\" style=\"stroke:#af78dd; stroke-width:4; stroke-opacity:1; fill:none\" points=\"\n",
       "  230.442,97.8521 367.808,97.5489 642.542,98.8391 1192.01,98.064 2290.94,97.6298 \n",
       "  \"/>\n",
       "<polyline clip-path=\"url(#clip5703)\" style=\"stroke:#868d87; stroke-width:4; stroke-opacity:1; fill:none\" points=\"\n",
       "  230.442,97.404 367.808,98.0377 642.542,97.6155 1192.01,97.9041 2290.94,98.6662 \n",
       "  \"/>\n",
       "<polyline clip-path=\"url(#clip5703)\" style=\"stroke:#47a065; stroke-width:4; stroke-opacity:1; fill:none\" points=\"\n",
       "  230.442,99.396 367.808,100.216 642.542,100.803 1192.01,100.171 2290.94,100.418 \n",
       "  \"/>\n",
       "<polyline clip-path=\"url(#clip5703)\" style=\"stroke:#7683af; stroke-width:4; stroke-opacity:1; fill:none\" points=\"\n",
       "  230.442,98.7308 367.808,99.9623 642.542,98.4056 1192.01,100.303 2290.94,99.7122 \n",
       "  \"/>\n",
       "<polyline clip-path=\"url(#clip5703)\" style=\"stroke:#b08086; stroke-width:4; stroke-opacity:1; fill:none\" points=\"\n",
       "  230.442,98.2992 367.808,99.2356 642.542,98.8793 1192.01,99.0572 2290.94,97.7527 \n",
       "  \"/>\n",
       "<polyline clip-path=\"url(#clip5703)\" style=\"stroke:#309ac1; stroke-width:4; stroke-opacity:1; fill:none\" points=\"\n",
       "  230.442,93.4707 367.808,93.3111 642.542,94.2986 1192.01,93.5202 2290.94,93.5201 \n",
       "  \"/>\n",
       "<polyline clip-path=\"url(#clip5703)\" style=\"stroke:#788490; stroke-width:4; stroke-opacity:1; fill:none\" points=\"\n",
       "  230.442,107.309 367.808,108.981 642.542,108.713 1192.01,108.18 2290.94,108.739 \n",
       "  \"/>\n",
       "<polyline clip-path=\"url(#clip5703)\" style=\"stroke:#e561a4; stroke-width:4; stroke-opacity:1; fill:none\" points=\"\n",
       "  230.442,1446.71 367.808,795.185 642.542,862.897 1192.01,1360.89 2290.94,1438.29 \n",
       "  \"/>\n",
       "<polyline clip-path=\"url(#clip5703)\" style=\"stroke:#99902c; stroke-width:4; stroke-opacity:1; fill:none\" points=\"\n",
       "  230.442,221.859 367.808,180.435 642.542,183.306 1192.01,179.593 2290.94,194.865 \n",
       "  \"/>\n",
       "<polyline clip-path=\"url(#clip5703)\" style=\"stroke:#389a7b; stroke-width:4; stroke-opacity:1; fill:none\" points=\"\n",
       "  230.442,93.9008 367.808,93.5909 642.542,94.0875 1192.01,95.864 2290.94,99.0681 \n",
       "  \"/>\n",
       "</svg>\n"
      ]
     },
     "execution_count": 15,
     "metadata": {},
     "output_type": "execute_result"
    }
   ],
   "source": [
    "@df res[res[:method] .== \"Augmented Affine\",:] plot(:penalty, :osr2_mean, group=:dataset, legend=:none)"
   ]
  },
  {
   "cell_type": "code",
   "execution_count": 13,
   "metadata": {
    "collapsed": true
   },
   "outputs": [
    {
     "name": "stderr",
     "output_type": "stream",
     "text": [
      "┌ Warning: `getindex(df::DataFrame, col_ind::ColumnIndex)` is deprecated, use `df[!, col_ind]` instead.\n",
      "│   caller = top-level scope at In[13]:1\n",
      "└ @ Core In[13]:1\n"
     ]
    },
    {
     "data": {
      "text/html": [
       "<table class=\"data-frame\"><thead><tr><th></th><th>dataset</th><th>method</th><th>penalty</th><th>osr2_mean</th><th>osr2_median</th></tr><tr><th></th><th>String</th><th>String</th><th>Int64</th><th>Float64</th><th>Float64</th></tr></thead><tbody><p>15 rows × 7 columns (omitted printing of 2 columns)</p><tr><th>1</th><td>thyroid-disease-thyroid-0387</td><td>Impute then regress</td><td>1</td><td>0.66574</td><td>0.717828</td></tr><tr><th>2</th><td>thyroid-disease-thyroid-0387</td><td>Augmented</td><td>1</td><td>0.642265</td><td>0.679988</td></tr><tr><th>3</th><td>thyroid-disease-thyroid-0387</td><td>Augmented Affine</td><td>1</td><td>-13.4206</td><td>0.350267</td></tr><tr><th>4</th><td>thyroid-disease-thyroid-0387</td><td>Impute then regress</td><td>2</td><td>0.710687</td><td>0.763248</td></tr><tr><th>5</th><td>thyroid-disease-thyroid-0387</td><td>Augmented</td><td>2</td><td>0.637956</td><td>0.676212</td></tr><tr><th>6</th><td>thyroid-disease-thyroid-0387</td><td>Augmented Affine</td><td>2</td><td>-6.53374</td><td>0.442185</td></tr><tr><th>7</th><td>thyroid-disease-thyroid-0387</td><td>Impute then regress</td><td>4</td><td>0.692675</td><td>0.73867</td></tr><tr><th>8</th><td>thyroid-disease-thyroid-0387</td><td>Augmented</td><td>4</td><td>0.62797</td><td>0.668773</td></tr><tr><th>9</th><td>thyroid-disease-thyroid-0387</td><td>Augmented Affine</td><td>4</td><td>-7.24947</td><td>0.483422</td></tr><tr><th>10</th><td>thyroid-disease-thyroid-0387</td><td>Impute then regress</td><td>8</td><td>0.654602</td><td>0.713603</td></tr><tr><th>11</th><td>thyroid-disease-thyroid-0387</td><td>Augmented</td><td>8</td><td>0.579796</td><td>0.652954</td></tr><tr><th>12</th><td>thyroid-disease-thyroid-0387</td><td>Augmented Affine</td><td>8</td><td>-12.5134</td><td>0.44546</td></tr><tr><th>13</th><td>thyroid-disease-thyroid-0387</td><td>Impute then regress</td><td>16</td><td>0.661707</td><td>0.692523</td></tr><tr><th>14</th><td>thyroid-disease-thyroid-0387</td><td>Augmented</td><td>16</td><td>0.553733</td><td>0.59454</td></tr><tr><th>15</th><td>thyroid-disease-thyroid-0387</td><td>Augmented Affine</td><td>16</td><td>-13.3316</td><td>0.397367</td></tr></tbody></table>"
      ],
      "text/latex": [
       "\\begin{tabular}{r|cccccc}\n",
       "\t& dataset & method & penalty & osr2\\_mean & osr2\\_median & \\\\\n",
       "\t\\hline\n",
       "\t& String & String & Int64 & Float64 & Float64 & \\\\\n",
       "\t\\hline\n",
       "\t1 & thyroid-disease-thyroid-0387 & Impute then regress & 1 & 0.66574 & 0.717828 & $\\dots$ \\\\\n",
       "\t2 & thyroid-disease-thyroid-0387 & Augmented & 1 & 0.642265 & 0.679988 & $\\dots$ \\\\\n",
       "\t3 & thyroid-disease-thyroid-0387 & Augmented Affine & 1 & -13.4206 & 0.350267 & $\\dots$ \\\\\n",
       "\t4 & thyroid-disease-thyroid-0387 & Impute then regress & 2 & 0.710687 & 0.763248 & $\\dots$ \\\\\n",
       "\t5 & thyroid-disease-thyroid-0387 & Augmented & 2 & 0.637956 & 0.676212 & $\\dots$ \\\\\n",
       "\t6 & thyroid-disease-thyroid-0387 & Augmented Affine & 2 & -6.53374 & 0.442185 & $\\dots$ \\\\\n",
       "\t7 & thyroid-disease-thyroid-0387 & Impute then regress & 4 & 0.692675 & 0.73867 & $\\dots$ \\\\\n",
       "\t8 & thyroid-disease-thyroid-0387 & Augmented & 4 & 0.62797 & 0.668773 & $\\dots$ \\\\\n",
       "\t9 & thyroid-disease-thyroid-0387 & Augmented Affine & 4 & -7.24947 & 0.483422 & $\\dots$ \\\\\n",
       "\t10 & thyroid-disease-thyroid-0387 & Impute then regress & 8 & 0.654602 & 0.713603 & $\\dots$ \\\\\n",
       "\t11 & thyroid-disease-thyroid-0387 & Augmented & 8 & 0.579796 & 0.652954 & $\\dots$ \\\\\n",
       "\t12 & thyroid-disease-thyroid-0387 & Augmented Affine & 8 & -12.5134 & 0.44546 & $\\dots$ \\\\\n",
       "\t13 & thyroid-disease-thyroid-0387 & Impute then regress & 16 & 0.661707 & 0.692523 & $\\dots$ \\\\\n",
       "\t14 & thyroid-disease-thyroid-0387 & Augmented & 16 & 0.553733 & 0.59454 & $\\dots$ \\\\\n",
       "\t15 & thyroid-disease-thyroid-0387 & Augmented Affine & 16 & -13.3316 & 0.397367 & $\\dots$ \\\\\n",
       "\\end{tabular}\n"
      ],
      "text/plain": [
       "15×7 DataFrame. Omitted printing of 4 columns\n",
       "│ Row │ dataset                      │ method              │ penalty │\n",
       "│     │ \u001b[90mString\u001b[39m                       │ \u001b[90mString\u001b[39m              │ \u001b[90mInt64\u001b[39m   │\n",
       "├─────┼──────────────────────────────┼─────────────────────┼─────────┤\n",
       "│ 1   │ thyroid-disease-thyroid-0387 │ Impute then regress │ 1       │\n",
       "│ 2   │ thyroid-disease-thyroid-0387 │ Augmented           │ 1       │\n",
       "│ 3   │ thyroid-disease-thyroid-0387 │ Augmented Affine    │ 1       │\n",
       "│ 4   │ thyroid-disease-thyroid-0387 │ Impute then regress │ 2       │\n",
       "│ 5   │ thyroid-disease-thyroid-0387 │ Augmented           │ 2       │\n",
       "│ 6   │ thyroid-disease-thyroid-0387 │ Augmented Affine    │ 2       │\n",
       "│ 7   │ thyroid-disease-thyroid-0387 │ Impute then regress │ 4       │\n",
       "│ 8   │ thyroid-disease-thyroid-0387 │ Augmented           │ 4       │\n",
       "│ 9   │ thyroid-disease-thyroid-0387 │ Augmented Affine    │ 4       │\n",
       "│ 10  │ thyroid-disease-thyroid-0387 │ Impute then regress │ 8       │\n",
       "│ 11  │ thyroid-disease-thyroid-0387 │ Augmented           │ 8       │\n",
       "│ 12  │ thyroid-disease-thyroid-0387 │ Augmented Affine    │ 8       │\n",
       "│ 13  │ thyroid-disease-thyroid-0387 │ Impute then regress │ 16      │\n",
       "│ 14  │ thyroid-disease-thyroid-0387 │ Augmented           │ 16      │\n",
       "│ 15  │ thyroid-disease-thyroid-0387 │ Augmented Affine    │ 16      │"
      ]
     },
     "execution_count": 13,
     "metadata": {},
     "output_type": "execute_result"
    }
   ],
   "source": [
    "res[res[:dataset] .== \"thyroid-disease-thyroid-0387\",:]"
   ]
  },
  {
   "cell_type": "code",
   "execution_count": 15,
   "metadata": {},
   "outputs": [
    {
     "name": "stderr",
     "output_type": "stream",
     "text": [
      "┌ Warning: `getindex(df::DataFrame, col_ind::ColumnIndex)` is deprecated, use `df[!, col_ind]` instead.\n",
      "│   caller = top-level scope at In[15]:1\n",
      "└ @ Core In[15]:1\n"
     ]
    },
    {
     "data": {
      "text/plain": [
       "5-element Array{Int64,1}:\n",
       "  1\n",
       "  2\n",
       "  4\n",
       "  8\n",
       " 16"
      ]
     },
     "execution_count": 15,
     "metadata": {},
     "output_type": "execute_result"
    }
   ],
   "source": [
    "unique(res[:penalty])"
   ]
  },
  {
   "cell_type": "code",
   "execution_count": null,
   "metadata": {
    "collapsed": true
   },
   "outputs": [],
   "source": []
  }
 ],
 "metadata": {
  "@webio": {
   "lastCommId": null,
   "lastKernelId": null
  },
  "kernelspec": {
   "display_name": "Julia 1.0.1",
   "language": "julia",
   "name": "julia-1.0"
  },
  "language_info": {
   "file_extension": ".jl",
   "mimetype": "application/julia",
   "name": "julia",
   "version": "1.0.1"
  }
 },
 "nbformat": 4,
 "nbformat_minor": 2
}
