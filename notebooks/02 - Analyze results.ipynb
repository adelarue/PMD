{
 "cells": [
  {
   "cell_type": "code",
   "execution_count": 1,
   "metadata": {
    "collapsed": true
   },
   "outputs": [],
   "source": [
    "using CSV, DataFrames, Plots, StatsPlots, Statistics"
   ]
  },
  {
   "cell_type": "code",
   "execution_count": 7,
   "metadata": {
    "collapsed": true
   },
   "outputs": [
    {
     "data": {
      "text/plain": [
       "560-element Array{SubString{String},1}:\n",
       " \"arrhythmia_1.csv\" \n",
       " \"arrhythmia_10.csv\"\n",
       " \"arrhythmia_11.csv\"\n",
       " \"arrhythmia_12.csv\"\n",
       " \"arrhythmia_13.csv\"\n",
       " \"arrhythmia_14.csv\"\n",
       " \"arrhythmia_15.csv\"\n",
       " \"arrhythmia_16.csv\"\n",
       " \"arrhythmia_17.csv\"\n",
       " \"arrhythmia_18.csv\"\n",
       " \"arrhythmia_19.csv\"\n",
       " \"arrhythmia_2.csv\" \n",
       " \"arrhythmia_20.csv\"\n",
       " ⋮                  \n",
       " \"wiki4he_17.csv\"   \n",
       " \"wiki4he_18.csv\"   \n",
       " \"wiki4he_19.csv\"   \n",
       " \"wiki4he_2.csv\"    \n",
       " \"wiki4he_20.csv\"   \n",
       " \"wiki4he_3.csv\"    \n",
       " \"wiki4he_4.csv\"    \n",
       " \"wiki4he_5.csv\"    \n",
       " \"wiki4he_6.csv\"    \n",
       " \"wiki4he_7.csv\"    \n",
       " \"wiki4he_8.csv\"    \n",
       " \"wiki4he_9.csv\"    "
      ]
     },
     "execution_count": 7,
     "metadata": {},
     "output_type": "execute_result"
    }
   ],
   "source": [
    "filelist = [ f for f in split.(read(`ls ../results/`, String), \"\\n\") if endswith(f, \".csv\")]"
   ]
  },
  {
   "cell_type": "code",
   "execution_count": 8,
   "metadata": {
    "collapsed": true
   },
   "outputs": [
    {
     "data": {
      "text/html": [
       "<table class=\"data-frame\"><thead><tr><th></th><th>dataset</th><th>copynum</th><th>iter</th><th>method</th><th>osr2</th></tr><tr><th></th><th>String</th><th>Int64</th><th>Int64</th><th>String</th><th>Float64</th></tr></thead><tbody><p>15 rows × 5 columns</p><tr><th>1</th><td>arrhythmia</td><td>1</td><td>1</td><td>Impute then regress</td><td>0.744817</td></tr><tr><th>2</th><td>arrhythmia</td><td>1</td><td>1</td><td>Augmented</td><td>0.738782</td></tr><tr><th>3</th><td>arrhythmia</td><td>1</td><td>1</td><td>Augmented Affine</td><td>0.720427</td></tr><tr><th>4</th><td>arrhythmia</td><td>1</td><td>2</td><td>Impute then regress</td><td>0.628476</td></tr><tr><th>5</th><td>arrhythmia</td><td>1</td><td>2</td><td>Augmented</td><td>0.616564</td></tr><tr><th>6</th><td>arrhythmia</td><td>1</td><td>2</td><td>Augmented Affine</td><td>0.610075</td></tr><tr><th>7</th><td>arrhythmia</td><td>1</td><td>3</td><td>Impute then regress</td><td>0.727356</td></tr><tr><th>8</th><td>arrhythmia</td><td>1</td><td>3</td><td>Augmented</td><td>0.742611</td></tr><tr><th>9</th><td>arrhythmia</td><td>1</td><td>3</td><td>Augmented Affine</td><td>0.674216</td></tr><tr><th>10</th><td>arrhythmia</td><td>1</td><td>4</td><td>Impute then regress</td><td>0.679747</td></tr><tr><th>11</th><td>arrhythmia</td><td>1</td><td>4</td><td>Augmented</td><td>0.613141</td></tr><tr><th>12</th><td>arrhythmia</td><td>1</td><td>4</td><td>Augmented Affine</td><td>0.538194</td></tr><tr><th>13</th><td>arrhythmia</td><td>1</td><td>5</td><td>Impute then regress</td><td>0.532908</td></tr><tr><th>14</th><td>arrhythmia</td><td>1</td><td>5</td><td>Augmented</td><td>0.540414</td></tr><tr><th>15</th><td>arrhythmia</td><td>1</td><td>5</td><td>Augmented Affine</td><td>0.532144</td></tr></tbody></table>"
      ],
      "text/latex": [
       "\\begin{tabular}{r|ccccc}\n",
       "\t& dataset & copynum & iter & method & osr2\\\\\n",
       "\t\\hline\n",
       "\t& String & Int64 & Int64 & String & Float64\\\\\n",
       "\t\\hline\n",
       "\t1 & arrhythmia & 1 & 1 & Impute then regress & 0.744817 \\\\\n",
       "\t2 & arrhythmia & 1 & 1 & Augmented & 0.738782 \\\\\n",
       "\t3 & arrhythmia & 1 & 1 & Augmented Affine & 0.720427 \\\\\n",
       "\t4 & arrhythmia & 1 & 2 & Impute then regress & 0.628476 \\\\\n",
       "\t5 & arrhythmia & 1 & 2 & Augmented & 0.616564 \\\\\n",
       "\t6 & arrhythmia & 1 & 2 & Augmented Affine & 0.610075 \\\\\n",
       "\t7 & arrhythmia & 1 & 3 & Impute then regress & 0.727356 \\\\\n",
       "\t8 & arrhythmia & 1 & 3 & Augmented & 0.742611 \\\\\n",
       "\t9 & arrhythmia & 1 & 3 & Augmented Affine & 0.674216 \\\\\n",
       "\t10 & arrhythmia & 1 & 4 & Impute then regress & 0.679747 \\\\\n",
       "\t11 & arrhythmia & 1 & 4 & Augmented & 0.613141 \\\\\n",
       "\t12 & arrhythmia & 1 & 4 & Augmented Affine & 0.538194 \\\\\n",
       "\t13 & arrhythmia & 1 & 5 & Impute then regress & 0.532908 \\\\\n",
       "\t14 & arrhythmia & 1 & 5 & Augmented & 0.540414 \\\\\n",
       "\t15 & arrhythmia & 1 & 5 & Augmented Affine & 0.532144 \\\\\n",
       "\\end{tabular}\n"
      ],
      "text/plain": [
       "15×5 DataFrame\n",
       "│ Row │ dataset    │ copynum │ iter  │ method              │ osr2     │\n",
       "│     │ \u001b[90mString\u001b[39m     │ \u001b[90mInt64\u001b[39m   │ \u001b[90mInt64\u001b[39m │ \u001b[90mString\u001b[39m              │ \u001b[90mFloat64\u001b[39m  │\n",
       "├─────┼────────────┼─────────┼───────┼─────────────────────┼──────────┤\n",
       "│ 1   │ arrhythmia │ 1       │ 1     │ Impute then regress │ 0.744817 │\n",
       "│ 2   │ arrhythmia │ 1       │ 1     │ Augmented           │ 0.738782 │\n",
       "│ 3   │ arrhythmia │ 1       │ 1     │ Augmented Affine    │ 0.720427 │\n",
       "│ 4   │ arrhythmia │ 1       │ 2     │ Impute then regress │ 0.628476 │\n",
       "│ 5   │ arrhythmia │ 1       │ 2     │ Augmented           │ 0.616564 │\n",
       "│ 6   │ arrhythmia │ 1       │ 2     │ Augmented Affine    │ 0.610075 │\n",
       "│ 7   │ arrhythmia │ 1       │ 3     │ Impute then regress │ 0.727356 │\n",
       "│ 8   │ arrhythmia │ 1       │ 3     │ Augmented           │ 0.742611 │\n",
       "│ 9   │ arrhythmia │ 1       │ 3     │ Augmented Affine    │ 0.674216 │\n",
       "│ 10  │ arrhythmia │ 1       │ 4     │ Impute then regress │ 0.679747 │\n",
       "│ 11  │ arrhythmia │ 1       │ 4     │ Augmented           │ 0.613141 │\n",
       "│ 12  │ arrhythmia │ 1       │ 4     │ Augmented Affine    │ 0.538194 │\n",
       "│ 13  │ arrhythmia │ 1       │ 5     │ Impute then regress │ 0.532908 │\n",
       "│ 14  │ arrhythmia │ 1       │ 5     │ Augmented           │ 0.540414 │\n",
       "│ 15  │ arrhythmia │ 1       │ 5     │ Augmented Affine    │ 0.532144 │"
      ]
     },
     "execution_count": 8,
     "metadata": {},
     "output_type": "execute_result"
    }
   ],
   "source": [
    "df = DataFrame(CSV.read(\"../results/\"*filelist[1]))"
   ]
  },
  {
   "cell_type": "code",
   "execution_count": 4,
   "metadata": {
    "collapsed": true
   },
   "outputs": [
    {
     "ename": "ArgumentError",
     "evalue": "ArgumentError: column(s) copynum, iter and osr2 are missing from argument(s) 1, and column(s) osr2_mean, osr2_median and osr2_std are missing from argument(s) 2",
     "output_type": "error",
     "traceback": [
      "ArgumentError: column(s) copynum, iter and osr2 are missing from argument(s) 1, and column(s) osr2_mean, osr2_median and osr2_std are missing from argument(s) 2",
      "",
      "Stacktrace:",
      " [1] #_vcat#75(::Symbol, ::Function, ::Array{DataFrame,1}) at /Users/jpauph/.julia/packages/DataFrames/yH0f6/src/abstractdataframe/abstractdataframe.jl:1117",
      " [2] #_vcat at ./none:0 [inlined]",
      " [3] #reduce#70 at /Users/jpauph/.julia/packages/DataFrames/yH0f6/src/abstractdataframe/abstractdataframe.jl:1087 [inlined]",
      " [4] #reduce at ./none:0 [inlined]",
      " [5] #vcat#69 at /Users/jpauph/.julia/packages/DataFrames/yH0f6/src/abstractdataframe/abstractdataframe.jl:1082 [inlined]",
      " [6] vcat(::DataFrame, ::DataFrame) at /Users/jpauph/.julia/packages/DataFrames/yH0f6/src/abstractdataframe/abstractdataframe.jl:1082",
      " [7] top-level scope at ./In[4]:3"
     ]
    }
   ],
   "source": [
    "for i in 2:length(filelist)\n",
    "    aux = DataFrame(CSV.read(\"../results/\"*filelist[i]))\n",
    "    df = vcat(df, aux)\n",
    "end"
   ]
  },
  {
   "cell_type": "code",
   "execution_count": 9,
   "metadata": {},
   "outputs": [
    {
     "data": {
      "text/plain": [
       "iqr (generic function with 1 method)"
      ]
     },
     "execution_count": 9,
     "metadata": {},
     "output_type": "execute_result"
    }
   ],
   "source": [
    "function iqr(t)\n",
    "    return quantile(t, .75) - quantile(t, .25)\n",
    "end"
   ]
  },
  {
   "cell_type": "code",
   "execution_count": null,
   "metadata": {},
   "outputs": [],
   "source": [
    "res = aggregate(df[[:dataset, :method, :osr2]], [:dataset, :method], [mean, median, std, iqr])"
   ]
  },
  {
   "cell_type": "code",
   "execution_count": 6,
   "metadata": {},
   "outputs": [
    {
     "ename": "UndefVarError",
     "evalue": "UndefVarError: res not defined",
     "output_type": "error",
     "traceback": [
      "UndefVarError: res not defined",
      "",
      "Stacktrace:",
      " [1] top-level scope at In[6]:1"
     ]
    }
   ],
   "source": [
    "CSV.write(\"../results/0_summary.csv\", res)"
   ]
  },
  {
   "cell_type": "code",
   "execution_count": null,
   "metadata": {
    "collapsed": true
   },
   "outputs": [],
   "source": []
  }
 ],
 "metadata": {
  "kernelspec": {
   "display_name": "Julia 1.0.1",
   "language": "julia",
   "name": "julia-1.0"
  },
  "language_info": {
   "file_extension": ".jl",
   "mimetype": "application/julia",
   "name": "julia",
   "version": "1.0.1"
  }
 },
 "nbformat": 4,
 "nbformat_minor": 2
}
