{
 "cells": [
  {
   "cell_type": "code",
   "execution_count": null,
   "metadata": {
    "collapsed": true
   },
   "outputs": [],
   "source": [
    "using CSV, DataFrames, Statistics"
   ]
  },
  {
   "cell_type": "code",
   "execution_count": null,
   "metadata": {
    "collapsed": true
   },
   "outputs": [],
   "source": [
    "filelist = [ f for f in split.(read(`ls ../results/penalty`, String), \"\\n\") if endswith(f, \".csv\") && !startswith(f, \"0_\")]"
   ]
  },
  {
   "cell_type": "code",
   "execution_count": null,
   "metadata": {},
   "outputs": [],
   "source": [
    "df = DataFrame(CSV.read(\"../results/penalty/\"*filelist[1]));"
   ]
  },
  {
   "cell_type": "code",
   "execution_count": null,
   "metadata": {
    "collapsed": true
   },
   "outputs": [],
   "source": [
    "for i in 3:length(filelist)\n",
    "    aux = DataFrame(CSV.read(\"../results/penalty/\"*filelist[i]))\n",
    "    df = vcat(df, aux[names(df)])\n",
    "end"
   ]
  },
  {
   "cell_type": "code",
   "execution_count": null,
   "metadata": {},
   "outputs": [],
   "source": [
    "function iqr(t)\n",
    "    try\n",
    "        return quantile(t, .75) - quantile(t, .25)\n",
    "    catch \n",
    "        return NaN\n",
    "    end\n",
    "end"
   ]
  },
  {
   "cell_type": "code",
   "execution_count": null,
   "metadata": {
    "collapsed": true
   },
   "outputs": [],
   "source": [
    "res = aggregate(df[[:dataset, :method, :penalty, :osr2]], [:dataset, :method, :penalty], [mean, median, std, iqr])"
   ]
  },
  {
   "cell_type": "code",
   "execution_count": null,
   "metadata": {},
   "outputs": [],
   "source": [
    "CSV.write(\"../results/penalty/0_summary.csv\", res)"
   ]
  },
  {
   "cell_type": "code",
   "execution_count": null,
   "metadata": {
    "collapsed": true
   },
   "outputs": [],
   "source": [
    "using  Plots, StatsPlots"
   ]
  },
  {
   "cell_type": "code",
   "execution_count": null,
   "metadata": {
    "collapsed": true
   },
   "outputs": [],
   "source": [
    "filter!( t -> t[:dataset] ∉ [\"hepatitis\", \"trains\"], df);"
   ]
  },
  {
   "cell_type": "code",
   "execution_count": null,
   "metadata": {
    "collapsed": true
   },
   "outputs": [],
   "source": [
    "widedf = unstack(df, [:dataset, :copynum, :penalty, :iter], :method, :osr2)\n",
    "widedf[!,:augmented_improvement] = (widedf[!,Symbol(\"Augmented\")] .- widedf[!,Symbol(\"Impute then regress\")]) ./ abs.(widedf[!,Symbol(\"Impute then regress\")])\n",
    "widedf[!,:affine_improvement] = (widedf[!,Symbol(\"Augmented Affine\")] .- widedf[!,Symbol(\"Impute then regress\")]) ./ abs.(widedf[!,Symbol(\"Impute then regress\")])"
   ]
  },
  {
   "cell_type": "code",
   "execution_count": null,
   "metadata": {
    "collapsed": true
   },
   "outputs": [],
   "source": [
    "filter!(t -> t[:augmented_improvement] < 1, widedf)\n",
    "filter!(t -> t[:augmented_improvement] > -1, widedf)\n",
    "filter!(t -> t[:affine_improvement] < 1, widedf)\n",
    "filter!(t -> t[:affine_improvement] > -1, widedf);"
   ]
  },
  {
   "cell_type": "code",
   "execution_count": null,
   "metadata": {
    "collapsed": true
   },
   "outputs": [],
   "source": [
    "@df widedf density(:augmented_improvement, label=\"Augmented\")\n",
    "@df widedf density!(:affine_improvement, label=\"Affine\")"
   ]
  },
  {
   "cell_type": "code",
   "execution_count": null,
   "metadata": {
    "collapsed": true
   },
   "outputs": [],
   "source": [
    "wide_res = aggregate(widedf[[:dataset, :penalty, :augmented_improvement, :affine_improvement]],\n",
    "    [:dataset, :penalty], [mean, median, std, iqr]);"
   ]
  },
  {
   "cell_type": "code",
   "execution_count": null,
   "metadata": {
    "collapsed": true
   },
   "outputs": [],
   "source": [
    "@df wide_res density(:augmented_improvement_mean, label=\"Augmented\")\n",
    "@df wide_res density!(:affine_improvement_mean, label=\"Affine\")"
   ]
  },
  {
   "cell_type": "code",
   "execution_count": null,
   "metadata": {
    "collapsed": true
   },
   "outputs": [],
   "source": [
    "savefig(\"plot.png\")"
   ]
  },
  {
   "cell_type": "code",
   "execution_count": null,
   "metadata": {
    "collapsed": true
   },
   "outputs": [],
   "source": []
  }
 ],
 "metadata": {
  "@webio": {
   "lastCommId": null,
   "lastKernelId": null
  },
  "kernelspec": {
   "display_name": "Julia 1.0.1",
   "language": "julia",
   "name": "julia-1.0"
  },
  "language_info": {
   "file_extension": ".jl",
   "mimetype": "application/julia",
   "name": "julia",
   "version": "1.0.1"
  }
 },
 "nbformat": 4,
 "nbformat_minor": 2
}
