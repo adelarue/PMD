{
 "cells": [
  {
   "cell_type": "code",
   "execution_count": null,
   "metadata": {},
   "outputs": [],
   "source": [
    "using Pkg\n",
    "Pkg.activate(\"..\")\n",
    "\n",
    "using Revise\n",
    "using PHD\n",
    "\n",
    "using Random, Statistics, CSV, DataFrames, LinearAlgebra\n",
    "\n",
    "dataset_list = [d for d in split.(read(`ls ../datasets/`, String), \"\\n\") if length(d) > 0]\n",
    "sort!(dataset_list)\n",
    "\n",
    "# SNR_list = [2, 1, .5]\n",
    "missingsignal_list = [0,1,2,3,4,5,6,7,8,9,10]\n",
    "\n",
    "if !isdir(\"../results\")\n",
    "    mkdir(\"../results\")\n",
    "end\n",
    "savedir = \"../results/fakey_nmar/\"\n",
    "if !isdir(savedir)\n",
    "    mkdir(savedir)\n",
    "end\n",
    "SNR = 10\n",
    "\n",
    "results_main = DataFrame(dataset=[], SNR=[], k=[], kMissing=[], splitnum=[], method=[], osr2=[])"
   ]
  },
  {
   "cell_type": "code",
   "execution_count": null,
   "metadata": {},
   "outputs": [],
   "source": [
    "d_num = 13\n",
    "aux_num = 2\n",
    "\n",
    "dname = dataset_list[d_num]#\"dermatology\" #\"\"\"thyroid-disease-thyroid-0387\" #dataset_list[1]\n",
    "k_missingsignal = missingsignal_list[aux_num]\n",
    "@show dname, k_missingsignal\n",
    "\n",
    "# Read in a data file.\n",
    "X_missing = PHD.standardize_colnames(DataFrame(CSV.read(\"../datasets/\"*dname*\"/X_missing.csv\",\n",
    "            missingstrings=[\"\", \"NaN\"]))) #df with missing values\n",
    "canbemissing = [any(ismissing.(X_missing[:,j])) for j in names(X_missing)] #indicator of missing features\n",
    "X_full = PHD.standardize_colnames(DataFrame(CSV.read(\"../datasets/\"*dname*\"/X_full.csv\"))) #ground truth df\n",
    "\n",
    "@show size(X_full)\n",
    "\n",
    "# Create output\n",
    "Random.seed!(5234)\n",
    "@time Y, k, k_missing = PHD.linear_y(X_full, X_missing, k=1, SNR=SNR, canbemissing=canbemissing,\n",
    "    k_missing_in_signal=k_missingsignal, mar=false);"
   ]
  },
  {
   "cell_type": "code",
   "execution_count": null,
   "metadata": {},
   "outputs": [],
   "source": [
    "iter = 1\n",
    "test_prop = .3\n",
    "results_table = similar(results_main,0)\n",
    "\n",
    "filename = string(dname, \"_SNR_\", SNR, \"_nmiss_\", k_missingsignal, \"_$iter.csv\")\n",
    "\n",
    "# Split train / test\n",
    "Random.seed!(56802+767*iter)\n",
    "test_ind = rand(nrow(X_missing)) .< test_prop ;"
   ]
  },
  {
   "cell_type": "code",
   "execution_count": null,
   "metadata": {},
   "outputs": [],
   "source": [
    "df = X_full[:,:]\n",
    "df[!,:Test] = test_ind\n",
    "linear, bestparams = PHD.regress_cv(Y, df, lasso=[true], alpha=[0.7,0.8,0.9,1.0])\n",
    "@show R2, OSR2 = PHD.evaluate(Y, df, linear)\n",
    "push!(results_table, [dname, SNR, k, k_missing, iter, \"Oracle\", OSR2])"
   ]
  },
  {
   "cell_type": "code",
   "execution_count": null,
   "metadata": {},
   "outputs": [],
   "source": [
    "linear"
   ]
  },
  {
   "cell_type": "code",
   "execution_count": null,
   "metadata": {},
   "outputs": [],
   "source": [
    "df = [X_full[:,:] PHD.indicatemissing(X_missing[:,:]; removezerocols=true)]\n",
    "df[!,:Test] = test_ind\n",
    "linear, bestparams = PHD.regress_cv(Y, df, lasso=[true], alpha=[0.7,0.8,0.9,1.0])\n",
    "@show R2, OSR2 = PHD.evaluate(Y, df, linear)\n",
    "push!(results_table, [dname, SNR, k, k_missing, iter, \"Oracle XM\", OSR2])"
   ]
  },
  {
   "cell_type": "code",
   "execution_count": null,
   "metadata": {},
   "outputs": [],
   "source": [
    "for i = 1:ncol(X_missing)\n",
    "    indic = PHD.indicatemissing(X_missing[:,[i]]; removezerocols=true)\n",
    "    if ncol(indic) > 0\n",
    "        @show i\n",
    "        for j = 1:ncol(select(X_full, Not(:Id)))\n",
    "            correlation = cor([X_full[!, [j]] indic] |> Matrix)\n",
    "            if correlation[1, 2] > 0.9\n",
    "                @show j, correlation\n",
    "            end\n",
    "        end\n",
    "    end\n",
    "end"
   ]
  },
  {
   "cell_type": "code",
   "execution_count": null,
   "metadata": {},
   "outputs": [],
   "source": [
    "PHD.intrinsic_indicators(X_missing)"
   ]
  },
  {
   "cell_type": "code",
   "execution_count": null,
   "metadata": {},
   "outputs": [],
   "source": [
    "dname = \"Ecdat-Schooling\"\n",
    "X_missing = PHD.standardize_colnames(DataFrame(CSV.read(\"../datasets/\"*dname*\"/X_missing.csv\",\n",
    "                missingstrings=[\"\", \"NaN\"])))\n",
    "desc = describe(X_missing)\n",
    "filter(row -> row[:eltype] != Int, desc)"
   ]
  },
  {
   "cell_type": "code",
   "execution_count": null,
   "metadata": {},
   "outputs": [],
   "source": [
    "PHD.intrinsic_indicators(X_missing)"
   ]
  },
  {
   "cell_type": "code",
   "execution_count": null,
   "metadata": {},
   "outputs": [],
   "source": [
    "for dname in dataset_list\n",
    "    X_missing = PHD.standardize_colnames(DataFrame(CSV.read(\"../datasets/\"*dname*\"/X_missing.csv\",\n",
    "                missingstrings=[\"\", \"NaN\"])))\n",
    "    intrinsic = 0\n",
    "    try\n",
    "        intrinsic = PHD.intrinsic_indicators(X_missing)\n",
    "    catch\n",
    "    end\n",
    "    @show dname\n",
    "    if length(intrinsic) > 0 && maximum(length.(values(intrinsic))) > 0\n",
    "        @show dname, intrinsic\n",
    "    end\n",
    "end"
   ]
  },
  {
   "cell_type": "code",
   "execution_count": null,
   "metadata": {},
   "outputs": [],
   "source": []
  }
 ],
 "metadata": {
  "@webio": {
   "lastCommId": null,
   "lastKernelId": null
  },
  "kernelspec": {
   "display_name": "Julia 1.1.0",
   "language": "julia",
   "name": "julia-1.1"
  },
  "language_info": {
   "file_extension": ".jl",
   "mimetype": "application/julia",
   "name": "julia",
   "version": "1.1.0"
  }
 },
 "nbformat": 4,
 "nbformat_minor": 4
}
