{
 "cells": [
  {
   "cell_type": "markdown",
   "metadata": {},
   "source": [
    "# Example notebook"
   ]
  },
  {
   "cell_type": "code",
   "execution_count": null,
   "metadata": {
    "collapsed": true
   },
   "outputs": [],
   "source": [
    "using Random, Statistics, CSV, DataFrames"
   ]
  },
  {
   "cell_type": "code",
   "execution_count": null,
   "metadata": {
    "collapsed": true
   },
   "outputs": [],
   "source": [
    "include(\"../impute.jl\")\n",
    "include(\"../regress.jl\")\n",
    "include(\"../augment.jl\")"
   ]
  },
  {
   "cell_type": "code",
   "execution_count": null,
   "metadata": {
    "collapsed": true
   },
   "outputs": [],
   "source": [
    "dataset_list = [d for d in split.(read(`ls ../datasets/`, String), \"\\n\") if length(d) > 0]"
   ]
  },
  {
   "cell_type": "code",
   "execution_count": null,
   "metadata": {
    "collapsed": true
   },
   "outputs": [],
   "source": [
    "results_table = DataFrame(dataset=[], copynum=[], iter=[], method=[], osr2=[])"
   ]
  },
  {
   "cell_type": "code",
   "execution_count": null,
   "metadata": {
    "collapsed": true
   },
   "outputs": [],
   "source": [
    "SNR = 4"
   ]
  },
  {
   "cell_type": "code",
   "execution_count": null,
   "metadata": {
    "collapsed": true
   },
   "outputs": [],
   "source": [
    "if !isdir(\"../results\")\n",
    "    mkdir(\"../results\")\n",
    "end"
   ]
  },
  {
   "cell_type": "code",
   "execution_count": null,
   "metadata": {
    "collapsed": true
   },
   "outputs": [],
   "source": [
    "dname = dataset_list[1]\n",
    "i = 1\n",
    "iter = 1"
   ]
  },
  {
   "cell_type": "markdown",
   "metadata": {},
   "source": [
    "Read in a data file."
   ]
  },
  {
   "cell_type": "code",
   "execution_count": null,
   "metadata": {
    "collapsed": true
   },
   "outputs": [],
   "source": [
    "X_missing = DataFrame(CSV.read(\"../datasets/\"*dname*\"/$i/X_missing.csv\"))\n",
    "X_full = DataFrame(CSV.read(\"../datasets/\"*dname*\"/$i/X_full.csv\"))\n",
    "first(X_full, 5)"
   ]
  },
  {
   "cell_type": "markdown",
   "metadata": {},
   "source": [
    "Create ouput"
   ]
  },
  {
   "cell_type": "code",
   "execution_count": null,
   "metadata": {
    "collapsed": true
   },
   "outputs": [],
   "source": [
    "function softthresholding(x; λ=0.1)\n",
    "    if x > λ\n",
    "        return x - λ\n",
    "    elseif x < -λ\n",
    "        return x + λ\n",
    "    else \n",
    "        return 0 \n",
    "    end\n",
    "end"
   ]
  },
  {
   "cell_type": "code",
   "execution_count": null,
   "metadata": {
    "collapsed": true
   },
   "outputs": [],
   "source": [
    "n,p = size(X_full)\n",
    "wtrue = softthresholding.(randn(p))\n",
    "btrue = rand(1)\n",
    "\n",
    "test_index = findfirst(names(X_full) .== :Test)\n",
    "wtrue[test_index] = 0.\n",
    "\n",
    "μ = mean(Matrix{Float64}(X_full), dims=1)\n",
    "σ = std(Matrix{Float64}(X_full), dims=1)\n",
    "σ[findall(σ .== 0)].= 1\n",
    "X_normalize = (X_full .- μ) ./ σ\n",
    "\n",
    "Y = Matrix{Float64}(X_normalize)*wtrue .+ btrue"
   ]
  },
  {
   "cell_type": "code",
   "execution_count": null,
   "metadata": {
    "collapsed": true
   },
   "outputs": [],
   "source": [
    "noise = randn(size(X_full,1))\n",
    "noise .*= norm(Y)/norm(noise)/SNR\n",
    "Y .+= noise"
   ]
  },
  {
   "cell_type": "markdown",
   "metadata": {},
   "source": [
    "Add Offset"
   ]
  },
  {
   "cell_type": "markdown",
   "metadata": {},
   "source": [
    "X_full[:,:One] = Ref(1.)\n",
    "X_missing[:,:One] = Ref(1.) ;"
   ]
  },
  {
   "cell_type": "markdown",
   "metadata": {},
   "source": [
    "- Method 1: Impute missing data using MICE and regress using LASSO."
   ]
  },
  {
   "cell_type": "code",
   "execution_count": null,
   "metadata": {
    "collapsed": true
   },
   "outputs": [],
   "source": [
    "X_imputed = mice(X_missing);\n",
    "first(X_imputed, 5)"
   ]
  },
  {
   "cell_type": "code",
   "execution_count": null,
   "metadata": {
    "collapsed": true
   },
   "outputs": [],
   "source": [
    "linear = regress(Y, X_imputed, lasso=true)"
   ]
  },
  {
   "cell_type": "code",
   "execution_count": null,
   "metadata": {
    "collapsed": true
   },
   "outputs": [],
   "source": [
    "R2, OSR2 = evaluate(Y, X_imputed, linear)\n",
    "@show R2\n",
    "@show OSR2"
   ]
  },
  {
   "cell_type": "code",
   "execution_count": null,
   "metadata": {
    "collapsed": true
   },
   "outputs": [],
   "source": [
    "push!(results_table, [dname, i, iter, \"Impute then regress\", OSR2])"
   ]
  },
  {
   "cell_type": "markdown",
   "metadata": {},
   "source": [
    "- Method 2: Add indicator variables for missingness and impute zeros (finitely adaptive). Regress using LASSO."
   ]
  },
  {
   "cell_type": "code",
   "execution_count": null,
   "metadata": {
    "collapsed": true
   },
   "outputs": [],
   "source": [
    "X_augmented = hcat(zeroimpute(X_missing), indicatemissing(X_missing))\n",
    "linear2 = regress(Y, X_augmented, lasso=true)"
   ]
  },
  {
   "cell_type": "code",
   "execution_count": null,
   "metadata": {
    "collapsed": true
   },
   "outputs": [],
   "source": [
    "R2, OSR2 = evaluate(Y, X_augmented, linear2)\n",
    "@show R2\n",
    "@show OSR2"
   ]
  },
  {
   "cell_type": "code",
   "execution_count": null,
   "metadata": {
    "collapsed": true
   },
   "outputs": [],
   "source": [
    "push!(results_table, [dname, i, iter, \"Augmented\", OSR2])"
   ]
  },
  {
   "cell_type": "markdown",
   "metadata": {},
   "source": [
    "- Method 3: Affinely adaptive"
   ]
  },
  {
   "cell_type": "code",
   "execution_count": null,
   "metadata": {
    "collapsed": true
   },
   "outputs": [],
   "source": [
    "X_affine = augmentaffine(X_missing)\n",
    "linear3 = regress(Y, X_affine, lasso=true)"
   ]
  },
  {
   "cell_type": "code",
   "execution_count": null,
   "metadata": {
    "collapsed": true
   },
   "outputs": [],
   "source": [
    "R2, OSR2 = evaluate(Y, X_affine, linear3)\n",
    "@show R2\n",
    "@show OSR2"
   ]
  },
  {
   "cell_type": "code",
   "execution_count": null,
   "metadata": {
    "collapsed": true
   },
   "outputs": [],
   "source": [
    "push!(results_table, [dname, i, iter, \"Augmented Affine\", OSR2])"
   ]
  },
  {
   "cell_type": "code",
   "execution_count": null,
   "metadata": {
    "collapsed": true
   },
   "outputs": [],
   "source": [
    "CSV.write(\"../results/\"*dname*\"_$i.csv\", results_table)"
   ]
  },
  {
   "cell_type": "code",
   "execution_count": null,
   "metadata": {
    "collapsed": true
   },
   "outputs": [],
   "source": []
  }
 ],
 "metadata": {
  "@webio": {
   "lastCommId": null,
   "lastKernelId": null
  },
  "kernelspec": {
   "display_name": "Julia 1.0.1",
   "language": "julia",
   "name": "julia-1.0"
  },
  "language_info": {
   "file_extension": ".jl",
   "mimetype": "application/julia",
   "name": "julia",
   "version": "1.0.1"
  }
 },
 "nbformat": 4,
 "nbformat_minor": 2
}
