{
 "cells": [
  {
   "cell_type": "markdown",
   "metadata": {},
   "source": [
    "# Example notebook"
   ]
  },
  {
   "cell_type": "code",
   "execution_count": 1,
   "metadata": {
    "collapsed": true
   },
   "outputs": [],
   "source": [
    "using Random, Statistics, CSV, DataFrames\n",
    "using LinearAlgebra"
   ]
  },
  {
   "cell_type": "code",
   "execution_count": 2,
   "metadata": {},
   "outputs": [
    {
     "data": {
      "text/plain": [
       "size"
      ]
     },
     "execution_count": 2,
     "metadata": {},
     "output_type": "execute_result"
    }
   ],
   "source": [
    "include(\"../impute.jl\")\n",
    "include(\"../regress.jl\")\n",
    "include(\"../augment.jl\")\n",
    "include(\"../count.jl\")"
   ]
  },
  {
   "cell_type": "code",
   "execution_count": 3,
   "metadata": {},
   "outputs": [
    {
     "data": {
      "text/plain": [
       "32-element Array{SubString{String},1}:\n",
       " \"arrhythmia\"                        \n",
       " \"auto-mpg\"                          \n",
       " \"automobile\"                        \n",
       " \"breast-cancer-wisconsin-original\"  \n",
       " \"breast-cancer-wisconsin-prognostic\"\n",
       " \"communities-and-crime\"             \n",
       " \"communities-and-crime-2\"           \n",
       " \"credit-approval\"                   \n",
       " \"cylinder-bands\"                    \n",
       " \"dermatology\"                       \n",
       " \"echocardiogram\"                    \n",
       " \"heart-disease-cleveland\"           \n",
       " \"heart-disease-hungarian\"           \n",
       " ⋮                                   \n",
       " \"ozone-level-detection-one\"         \n",
       " \"sleep\"                             \n",
       " \"thyroid-disease-allbp\"             \n",
       " \"thyroid-disease-allhyper\"          \n",
       " \"thyroid-disease-allhypo\"           \n",
       " \"thyroid-disease-allrep\"            \n",
       " \"thyroid-disease-dis\"               \n",
       " \"thyroid-disease-sick\"              \n",
       " \"thyroid-disease-sick-euthyroid\"    \n",
       " \"thyroid-disease-thyroid-0387\"      \n",
       " \"trains\"                            \n",
       " \"wiki4he\"                           "
      ]
     },
     "execution_count": 3,
     "metadata": {},
     "output_type": "execute_result"
    }
   ],
   "source": [
    "dataset_list = [d for d in split.(read(`ls ../datasets/`, String), \"\\n\") if length(d) > 0]"
   ]
  },
  {
   "cell_type": "code",
   "execution_count": 4,
   "metadata": {},
   "outputs": [
    {
     "data": {
      "text/html": [
       "<table class=\"data-frame\"><thead><tr><th></th><th>dataset</th><th>copynum</th><th>iter</th><th>method</th><th>osr2</th></tr><tr><th></th><th>Any</th><th>Any</th><th>Any</th><th>Any</th><th>Any</th></tr></thead><tbody><p>0 rows × 5 columns</p></tbody></table>"
      ],
      "text/latex": [
       "\\begin{tabular}{r|ccccc}\n",
       "\t& dataset & copynum & iter & method & osr2\\\\\n",
       "\t\\hline\n",
       "\t& Any & Any & Any & Any & Any\\\\\n",
       "\t\\hline\n",
       "\\end{tabular}\n"
      ],
      "text/plain": [
       "0×5 DataFrame\n"
      ]
     },
     "execution_count": 4,
     "metadata": {},
     "output_type": "execute_result"
    }
   ],
   "source": [
    "results_table = DataFrame(dataset=[], copynum=[], iter=[], method=[], osr2=[])"
   ]
  },
  {
   "cell_type": "code",
   "execution_count": 5,
   "metadata": {
    "collapsed": true
   },
   "outputs": [
    {
     "data": {
      "text/plain": [
       "4"
      ]
     },
     "execution_count": 5,
     "metadata": {},
     "output_type": "execute_result"
    },
    {
     "name": "stderr",
     "output_type": "stream",
     "text": [
      "WARNING: both LinearAlgebra and DataFrames export \"normalize\"; uses of it in module Main must be qualified\n"
     ]
    }
   ],
   "source": [
    "SNR = 4"
   ]
  },
  {
   "cell_type": "code",
   "execution_count": null,
   "metadata": {
    "collapsed": true
   },
   "outputs": [],
   "source": [
    "if !isdir(\"../results\")\n",
    "    mkdir(\"../results\")\n",
    "end"
   ]
  },
  {
   "cell_type": "code",
   "execution_count": 6,
   "metadata": {
    "collapsed": true
   },
   "outputs": [
    {
     "data": {
      "text/plain": [
       "1"
      ]
     },
     "execution_count": 6,
     "metadata": {},
     "output_type": "execute_result"
    }
   ],
   "source": [
    "dname = \"thyroid-disease-thyroid-0387\" #dataset_list[1]\n",
    "i = 1\n",
    "iter = 1"
   ]
  },
  {
   "cell_type": "markdown",
   "metadata": {},
   "source": [
    "Read in a data file."
   ]
  },
  {
   "cell_type": "code",
   "execution_count": 7,
   "metadata": {
    "collapsed": true
   },
   "outputs": [
    {
     "data": {
      "text/html": [
       "<table class=\"data-frame\"><thead><tr><th></th><th>N</th><th>N_1</th><th>N_2</th><th>N_3</th><th>N_4</th><th>N_5</th><th>N_6</th><th>Test</th></tr><tr><th></th><th>Int64</th><th>Float64</th><th>Float64</th><th>Float64</th><th>Float64</th><th>Float64</th><th>Float64</th><th>Int64</th></tr></thead><tbody><p>5 rows × 8 columns</p><tr><th>1</th><td>29</td><td>0.3</td><td>1.1</td><td>56.0</td><td>0.89</td><td>62.0</td><td>21.0</td><td>0</td></tr><tr><th>2</th><td>29</td><td>1.6</td><td>1.9</td><td>128.0</td><td>1.53</td><td>90.0</td><td>29.0</td><td>0</td></tr><tr><th>3</th><td>41</td><td>1.9</td><td>2.4</td><td>130.0</td><td>1.24</td><td>103.0</td><td>11.0</td><td>0</td></tr><tr><th>4</th><td>36</td><td>0.6</td><td>2.3</td><td>111.0</td><td>1.1</td><td>101.0</td><td>26.0</td><td>0</td></tr><tr><th>5</th><td>32</td><td>1.0</td><td>2.3</td><td>96.0</td><td>0.93</td><td>103.0</td><td>36.0</td><td>1</td></tr></tbody></table>"
      ],
      "text/latex": [
       "\\begin{tabular}{r|cccccccc}\n",
       "\t& N & N\\_1 & N\\_2 & N\\_3 & N\\_4 & N\\_5 & N\\_6 & Test\\\\\n",
       "\t\\hline\n",
       "\t& Int64 & Float64 & Float64 & Float64 & Float64 & Float64 & Float64 & Int64\\\\\n",
       "\t\\hline\n",
       "\t1 & 29 & 0.3 & 1.1 & 56.0 & 0.89 & 62.0 & 21.0 & 0 \\\\\n",
       "\t2 & 29 & 1.6 & 1.9 & 128.0 & 1.53 & 90.0 & 29.0 & 0 \\\\\n",
       "\t3 & 41 & 1.9 & 2.4 & 130.0 & 1.24 & 103.0 & 11.0 & 0 \\\\\n",
       "\t4 & 36 & 0.6 & 2.3 & 111.0 & 1.1 & 101.0 & 26.0 & 0 \\\\\n",
       "\t5 & 32 & 1.0 & 2.3 & 96.0 & 0.93 & 103.0 & 36.0 & 1 \\\\\n",
       "\\end{tabular}\n"
      ],
      "text/plain": [
       "5×8 DataFrame. Omitted printing of 1 columns\n",
       "│ Row │ N     │ N_1     │ N_2     │ N_3     │ N_4     │ N_5     │ N_6     │\n",
       "│     │ \u001b[90mInt64\u001b[39m │ \u001b[90mFloat64\u001b[39m │ \u001b[90mFloat64\u001b[39m │ \u001b[90mFloat64\u001b[39m │ \u001b[90mFloat64\u001b[39m │ \u001b[90mFloat64\u001b[39m │ \u001b[90mFloat64\u001b[39m │\n",
       "├─────┼───────┼─────────┼─────────┼─────────┼─────────┼─────────┼─────────┤\n",
       "│ 1   │ 29    │ 0.3     │ 1.1     │ 56.0    │ 0.89    │ 62.0    │ 21.0    │\n",
       "│ 2   │ 29    │ 1.6     │ 1.9     │ 128.0   │ 1.53    │ 90.0    │ 29.0    │\n",
       "│ 3   │ 41    │ 1.9     │ 2.4     │ 130.0   │ 1.24    │ 103.0   │ 11.0    │\n",
       "│ 4   │ 36    │ 0.6     │ 2.3     │ 111.0   │ 1.1     │ 101.0   │ 26.0    │\n",
       "│ 5   │ 32    │ 1.0     │ 2.3     │ 96.0    │ 0.93    │ 103.0   │ 36.0    │"
      ]
     },
     "execution_count": 7,
     "metadata": {},
     "output_type": "execute_result"
    }
   ],
   "source": [
    "X_missing = DataFrame(CSV.read(\"../datasets/\"*dname*\"/$i/X_missing.csv\"))\n",
    "X_full = DataFrame(CSV.read(\"../datasets/\"*dname*\"/$i/X_full.csv\"))\n",
    "first(X_full, 5)"
   ]
  },
  {
   "cell_type": "markdown",
   "metadata": {},
   "source": [
    "Create output"
   ]
  },
  {
   "cell_type": "code",
   "execution_count": 8,
   "metadata": {},
   "outputs": [
    {
     "data": {
      "text/plain": [
       "softthresholding (generic function with 1 method)"
      ]
     },
     "execution_count": 8,
     "metadata": {},
     "output_type": "execute_result"
    }
   ],
   "source": [
    "function softthresholding(x; λ=0.1)\n",
    "    if x > λ\n",
    "        return x - λ\n",
    "    elseif x < -λ\n",
    "        return x + λ\n",
    "    else \n",
    "        return 0 \n",
    "    end\n",
    "end"
   ]
  },
  {
   "cell_type": "code",
   "execution_count": 12,
   "metadata": {},
   "outputs": [
    {
     "data": {
      "text/plain": [
       "(9172, 8)"
      ]
     },
     "execution_count": 12,
     "metadata": {},
     "output_type": "execute_result"
    }
   ],
   "source": [
    "Base.size(X_full)"
   ]
  },
  {
   "cell_type": "code",
   "execution_count": 13,
   "metadata": {
    "collapsed": true
   },
   "outputs": [
    {
     "data": {
      "text/plain": [
       "9172-element Array{Float64,1}:\n",
       "  1.6825665419100178\n",
       "  1.182137205176931 \n",
       "  0.817252624381009 \n",
       "  1.1243548732064799\n",
       "  1.2653568926203467\n",
       "  2.1555007713366314\n",
       "  1.0048312326032487\n",
       "  0.8171810583231388\n",
       "  1.316274443893906 \n",
       "  0.9355427579994737\n",
       "  0.2651672903182227\n",
       "  0.559865542426636 \n",
       " -0.8175361776595746\n",
       "  ⋮                 \n",
       "  1.1393551403719884\n",
       "  1.3800971704067486\n",
       "  1.897654648915628 \n",
       "  1.1744060592854186\n",
       "  1.4792363746505028\n",
       "  1.4199307824657252\n",
       "  1.05795072175138  \n",
       "  0.6486161641559764\n",
       "  0.7964916729126427\n",
       "  1.1705681612129466\n",
       "  1.932137446896903 \n",
       "  2.0108838406262235"
      ]
     },
     "execution_count": 13,
     "metadata": {},
     "output_type": "execute_result"
    }
   ],
   "source": [
    "n,p = Base.size(X_full)\n",
    "wtrue = softthresholding.(randn(p))\n",
    "btrue = rand(1)\n",
    "\n",
    "test_index = findfirst(names(X_full) .== :Test)\n",
    "wtrue[test_index] = 0.\n",
    "\n",
    "μ = mean(Matrix{Float64}(X_full), dims=1)\n",
    "σ = std(Matrix{Float64}(X_full), dims=1)\n",
    "σ[findall(σ .== 0)].= 1\n",
    "X_normalize = (X_full .- μ) ./ σ\n",
    "\n",
    "Y = Matrix{Float64}(X_normalize)*wtrue .+ btrue"
   ]
  },
  {
   "cell_type": "code",
   "execution_count": 14,
   "metadata": {
    "collapsed": true
   },
   "outputs": [
    {
     "data": {
      "text/plain": [
       "9172-element Array{Float64,1}:\n",
       "  1.7077171783696359 \n",
       "  1.5169102091480968 \n",
       "  0.9156845973823136 \n",
       "  1.0117101990746888 \n",
       "  1.3556598701845501 \n",
       "  1.7181096749004787 \n",
       "  1.5856199089925502 \n",
       "  0.7536832250573735 \n",
       "  0.8513588484750612 \n",
       "  0.4650272620045552 \n",
       "  0.09313436228949351\n",
       "  0.69027736664542   \n",
       " -0.6670999412557221 \n",
       "  ⋮                  \n",
       "  1.4437059274717612 \n",
       "  1.7300214332307742 \n",
       "  1.913281559306006  \n",
       "  0.860474842394087  \n",
       "  1.2653145854502528 \n",
       "  2.3672423827453235 \n",
       "  0.9832808928372327 \n",
       "  0.9965199531933501 \n",
       "  0.5613468885753862 \n",
       "  1.4046009461108413 \n",
       "  2.140393703511245  \n",
       "  2.2682599914746633 "
      ]
     },
     "execution_count": 14,
     "metadata": {},
     "output_type": "execute_result"
    }
   ],
   "source": [
    "noise = randn(Base.size(X_full,1))\n",
    "noise .*= norm(Y)/norm(noise)/SNR\n",
    "Y .+= noise"
   ]
  },
  {
   "cell_type": "markdown",
   "metadata": {},
   "source": [
    "Add Offset"
   ]
  },
  {
   "cell_type": "markdown",
   "metadata": {},
   "source": [
    "X_full[:,:One] = Ref(1.)\n",
    "X_missing[:,:One] = Ref(1.) ;"
   ]
  },
  {
   "cell_type": "markdown",
   "metadata": {},
   "source": [
    "- Method 1: Impute missing data using MICE and regress using LASSO."
   ]
  },
  {
   "cell_type": "code",
   "execution_count": 15,
   "metadata": {
    "collapsed": true
   },
   "outputs": [
    {
     "name": "stderr",
     "output_type": "stream",
     "text": [
      "┌ Warning: `getindex(df::DataFrame, col_ind::ColumnIndex)` is deprecated, use `df[!, col_ind]` instead.\n",
      "│   caller = sexp(::Type{RCall.RClass{:list}}, ::DataFrame) at dataframe.jl:25\n",
      "└ @ RCall /Users/jpauph/.julia/packages/RCall/RPlFw/src/convert/dataframe.jl:25\n",
      "┌ Warning: RCall.jl: Loading required package: lattice\n",
      "└ @ RCall /Users/jpauph/.julia/packages/RCall/RPlFw/src/io.jl:110\n",
      "┌ Warning: RCall.jl: \n",
      "│ Attaching package: ‘dplyr’\n",
      "│ \n",
      "│ The following objects are masked from ‘package:stats’:\n",
      "│ \n",
      "│     filter, lag\n",
      "│ \n",
      "│ The following objects are masked from ‘package:base’:\n",
      "│ \n",
      "│     intersect, setdiff, setequal, union\n",
      "│ \n",
      "└ @ RCall /Users/jpauph/.julia/packages/RCall/RPlFw/src/io.jl:110\n",
      "┌ Warning: RCall.jl: Warning: package ‘bindrcpp’ was built under R version 3.4.4\n",
      "└ @ RCall /Users/jpauph/.julia/packages/RCall/RPlFw/src/io.jl:110\n"
     ]
    },
    {
     "data": {
      "text/html": [
       "<table class=\"data-frame\"><thead><tr><th></th><th>N</th><th>N_1</th><th>N_2</th><th>N_3</th><th>N_4</th><th>N_5</th><th>N_6</th><th>Test</th></tr><tr><th></th><th>Int64</th><th>Float64⍰</th><th>Float64⍰</th><th>Float64⍰</th><th>Float64⍰</th><th>Float64⍰</th><th>Float64⍰</th><th>Int64</th></tr></thead><tbody><p>5 rows × 8 columns</p><tr><th>1</th><td>29</td><td>0.3</td><td>2.0</td><td>95.0</td><td>0.9</td><td>107.0</td><td>22.0</td><td>0</td></tr><tr><th>2</th><td>29</td><td>1.6</td><td>1.9</td><td>128.0</td><td>1.08</td><td>117.0</td><td>27.0</td><td>0</td></tr><tr><th>3</th><td>41</td><td>0.6</td><td>2.2</td><td>92.0</td><td>0.8</td><td>116.0</td><td>11.0</td><td>0</td></tr><tr><th>4</th><td>36</td><td>5.3</td><td>2.0</td><td>89.0</td><td>0.72</td><td>125.0</td><td>26.0</td><td>0</td></tr><tr><th>5</th><td>32</td><td>12.0</td><td>0.9</td><td>60.0</td><td>0.74</td><td>92.0</td><td>36.0</td><td>1</td></tr></tbody></table>"
      ],
      "text/latex": [
       "\\begin{tabular}{r|cccccccc}\n",
       "\t& N & N\\_1 & N\\_2 & N\\_3 & N\\_4 & N\\_5 & N\\_6 & Test\\\\\n",
       "\t\\hline\n",
       "\t& Int64 & Float64⍰ & Float64⍰ & Float64⍰ & Float64⍰ & Float64⍰ & Float64⍰ & Int64\\\\\n",
       "\t\\hline\n",
       "\t1 & 29 & 0.3 & 2.0 & 95.0 & 0.9 & 107.0 & 22.0 & 0 \\\\\n",
       "\t2 & 29 & 1.6 & 1.9 & 128.0 & 1.08 & 117.0 & 27.0 & 0 \\\\\n",
       "\t3 & 41 & 0.6 & 2.2 & 92.0 & 0.8 & 116.0 & 11.0 & 0 \\\\\n",
       "\t4 & 36 & 5.3 & 2.0 & 89.0 & 0.72 & 125.0 & 26.0 & 0 \\\\\n",
       "\t5 & 32 & 12.0 & 0.9 & 60.0 & 0.74 & 92.0 & 36.0 & 1 \\\\\n",
       "\\end{tabular}\n"
      ],
      "text/plain": [
       "5×8 DataFrame. Omitted printing of 2 columns\n",
       "│ Row │ N     │ N_1      │ N_2      │ N_3      │ N_4      │ N_5      │\n",
       "│     │ \u001b[90mInt64\u001b[39m │ \u001b[90mFloat64⍰\u001b[39m │ \u001b[90mFloat64⍰\u001b[39m │ \u001b[90mFloat64⍰\u001b[39m │ \u001b[90mFloat64⍰\u001b[39m │ \u001b[90mFloat64⍰\u001b[39m │\n",
       "├─────┼───────┼──────────┼──────────┼──────────┼──────────┼──────────┤\n",
       "│ 1   │ 29    │ 0.3      │ 2.0      │ 95.0     │ 0.9      │ 107.0    │\n",
       "│ 2   │ 29    │ 1.6      │ 1.9      │ 128.0    │ 1.08     │ 117.0    │\n",
       "│ 3   │ 41    │ 0.6      │ 2.2      │ 92.0     │ 0.8      │ 116.0    │\n",
       "│ 4   │ 36    │ 5.3      │ 2.0      │ 89.0     │ 0.72     │ 125.0    │\n",
       "│ 5   │ 32    │ 12.0     │ 0.9      │ 60.0     │ 0.74     │ 92.0     │"
      ]
     },
     "execution_count": 15,
     "metadata": {},
     "output_type": "execute_result"
    }
   ],
   "source": [
    "X_imputed = mice(X_missing);\n",
    "first(X_imputed, 5)"
   ]
  },
  {
   "cell_type": "code",
   "execution_count": 16,
   "metadata": {
    "collapsed": true
   },
   "outputs": [
    {
     "name": "stderr",
     "output_type": "stream",
     "text": [
      "┌ Warning: `getindex(df::DataFrame, col_ind::ColumnIndex)` is deprecated, use `df[!, col_ind]` instead.\n",
      "│   caller = #regress#3(::Bool, ::Float64, ::Float64, ::Function, ::Array{Float64,1}, ::DataFrame) at regress.jl:27\n",
      "└ @ Main /Users/jpauph/Dropbox (MIT)/1- Research/PHD/regress.jl:27\n",
      "┌ Warning: `getindex(df::DataFrame, col_ind::ColumnIndex)` is deprecated, use `df[!, col_ind]` instead.\n",
      "│   caller = #regress#3(::Bool, ::Float64, ::Float64, ::Function, ::Array{Float64,1}, ::DataFrame) at regress.jl:28\n",
      "└ @ Main /Users/jpauph/Dropbox (MIT)/1- Research/PHD/regress.jl:28\n",
      "┌ Warning: `setindex!(df::DataFrame, v::AbstractVector, col_ind::ColumnIndex)` is deprecated, use `begin\n",
      "│     df[!, col_ind] = v\n",
      "│     df\n",
      "│ end` instead.\n",
      "│   caller = #regress#3(::Bool, ::Float64, ::Float64, ::Function, ::Array{Float64,1}, ::DataFrame) at regress.jl:39\n",
      "└ @ Main /Users/jpauph/Dropbox (MIT)/1- Research/PHD/regress.jl:39\n",
      "┌ Warning: Implicit broadcasting to a new column in DataFrame assignment is deprecated.Use `df[!, col_ind] .= v`  when `df` has some columns\n",
      "│   caller = #regress#3(::Bool, ::Float64, ::Float64, ::Function, ::Array{Float64,1}, ::DataFrame) at regress.jl:41\n",
      "└ @ Main /Users/jpauph/Dropbox (MIT)/1- Research/PHD/regress.jl:41\n"
     ]
    },
    {
     "data": {
      "text/html": [
       "<table class=\"data-frame\"><thead><tr><th></th><th>N</th><th>N_1</th><th>N_2</th><th>N_3</th><th>N_4</th><th>N_5</th><th>N_6</th><th>Offset</th></tr><tr><th></th><th>Float64</th><th>Float64</th><th>Float64</th><th>Float64</th><th>Float64</th><th>Float64</th><th>Float64</th><th>Float64</th></tr></thead><tbody><p>1 rows × 8 columns</p><tr><th>1</th><td>3.77893e-5</td><td>-0.0234762</td><td>0.375827</td><td>-0.0315417</td><td>2.23244</td><td>0.00606517</td><td>0.00029442</td><td>0.667828</td></tr></tbody></table>"
      ],
      "text/latex": [
       "\\begin{tabular}{r|cccccccc}\n",
       "\t& N & N\\_1 & N\\_2 & N\\_3 & N\\_4 & N\\_5 & N\\_6 & Offset\\\\\n",
       "\t\\hline\n",
       "\t& Float64 & Float64 & Float64 & Float64 & Float64 & Float64 & Float64 & Float64\\\\\n",
       "\t\\hline\n",
       "\t1 & 3.77893e-5 & -0.0234762 & 0.375827 & -0.0315417 & 2.23244 & 0.00606517 & 0.00029442 & 0.667828 \\\\\n",
       "\\end{tabular}\n"
      ],
      "text/plain": [
       "1×8 DataFrame. Omitted printing of 2 columns\n",
       "│ Row │ N          │ N_1        │ N_2      │ N_3        │ N_4     │ N_5        │\n",
       "│     │ \u001b[90mFloat64\u001b[39m    │ \u001b[90mFloat64\u001b[39m    │ \u001b[90mFloat64\u001b[39m  │ \u001b[90mFloat64\u001b[39m    │ \u001b[90mFloat64\u001b[39m │ \u001b[90mFloat64\u001b[39m    │\n",
       "├─────┼────────────┼────────────┼──────────┼────────────┼─────────┼────────────┤\n",
       "│ 1   │ 3.77893e-5 │ -0.0234762 │ 0.375827 │ -0.0315417 │ 2.23244 │ 0.00606517 │"
      ]
     },
     "execution_count": 16,
     "metadata": {},
     "output_type": "execute_result"
    }
   ],
   "source": [
    "linear = regress(Y, X_imputed, lasso=true, alpha=0.8)"
   ]
  },
  {
   "cell_type": "code",
   "execution_count": 17,
   "metadata": {},
   "outputs": [
    {
     "name": "stdout",
     "output_type": "stream",
     "text": [
      "R2 = 0.7506023714742679\n",
      "OSR2 = 0.7360859246068208\n"
     ]
    },
    {
     "data": {
      "text/plain": [
       "0.7360859246068208"
      ]
     },
     "execution_count": 17,
     "metadata": {},
     "output_type": "execute_result"
    }
   ],
   "source": [
    "R2, OSR2 = evaluate(Y, X_imputed, linear)\n",
    "@show R2\n",
    "@show OSR2"
   ]
  },
  {
   "cell_type": "code",
   "execution_count": null,
   "metadata": {
    "collapsed": true
   },
   "outputs": [],
   "source": [
    "push!(results_table, [dname, i, iter, \"Impute then regress\", OSR2])"
   ]
  },
  {
   "cell_type": "markdown",
   "metadata": {},
   "source": [
    "- Method 2: Add indicator variables for missingness and impute zeros (finitely adaptive). Regress using LASSO."
   ]
  },
  {
   "cell_type": "code",
   "execution_count": 18,
   "metadata": {
    "collapsed": true
   },
   "outputs": [
    {
     "name": "stderr",
     "output_type": "stream",
     "text": [
      "┌ Warning: `getindex(df::DataFrame, col_ind::ColumnIndex)` is deprecated, use `df[!, col_ind]` instead.\n",
      "│   caller = #indicatemissing#4(::Bool, ::Function, ::DataFrame) at augment.jl:27\n",
      "└ @ Main /Users/jpauph/Dropbox (MIT)/1- Research/PHD/augment.jl:27\n",
      "┌ Warning: `setindex!(df::DataFrame, v::AbstractVector, ::Colon, col_ind::ColumnIndex)` is deprecated, use `begin\n",
      "│     df[!, col_ind] = v\n",
      "│     df\n",
      "│ end` instead.\n",
      "│   caller = #indicatemissing#4(::Bool, ::Function, ::DataFrame) at augment.jl:27\n",
      "└ @ Main /Users/jpauph/Dropbox (MIT)/1- Research/PHD/augment.jl:27\n"
     ]
    },
    {
     "data": {
      "text/html": [
       "<table class=\"data-frame\"><thead><tr><th></th><th>N</th><th>N_1</th><th>N_2</th><th>N_3</th><th>N_4</th><th>N_5</th><th>N_6</th><th>N_1_missing</th></tr><tr><th></th><th>Float64</th><th>Float64</th><th>Float64</th><th>Float64</th><th>Float64</th><th>Float64</th><th>Float64</th><th>Float64</th></tr></thead><tbody><p>1 rows × 14 columns (omitted printing of 6 columns)</p><tr><th>1</th><td>3.99202e-5</td><td>-0.0243238</td><td>0.461489</td><td>-0.0287975</td><td>1.9612</td><td>0.00365699</td><td>0.00477581</td><td>-0.0403374</td></tr></tbody></table>"
      ],
      "text/latex": [
       "\\begin{tabular}{r|ccccccccc}\n",
       "\t& N & N\\_1 & N\\_2 & N\\_3 & N\\_4 & N\\_5 & N\\_6 & N\\_1\\_missing & \\\\\n",
       "\t\\hline\n",
       "\t& Float64 & Float64 & Float64 & Float64 & Float64 & Float64 & Float64 & Float64 & \\\\\n",
       "\t\\hline\n",
       "\t1 & 3.99202e-5 & -0.0243238 & 0.461489 & -0.0287975 & 1.9612 & 0.00365699 & 0.00477581 & -0.0403374 & $\\dots$ \\\\\n",
       "\\end{tabular}\n"
      ],
      "text/plain": [
       "1×14 DataFrame. Omitted printing of 8 columns\n",
       "│ Row │ N          │ N_1        │ N_2      │ N_3        │ N_4     │ N_5        │\n",
       "│     │ \u001b[90mFloat64\u001b[39m    │ \u001b[90mFloat64\u001b[39m    │ \u001b[90mFloat64\u001b[39m  │ \u001b[90mFloat64\u001b[39m    │ \u001b[90mFloat64\u001b[39m │ \u001b[90mFloat64\u001b[39m    │\n",
       "├─────┼────────────┼────────────┼──────────┼────────────┼─────────┼────────────┤\n",
       "│ 1   │ 3.99202e-5 │ -0.0243238 │ 0.461489 │ -0.0287975 │ 1.9612  │ 0.00365699 │"
      ]
     },
     "execution_count": 18,
     "metadata": {},
     "output_type": "execute_result"
    }
   ],
   "source": [
    "X_augmented = hcat(zeroimpute(X_missing), indicatemissing(X_missing, removezerocols=true))\n",
    "linear2 = regress(Y, X_augmented, lasso=true, alpha=0.8, missing_penalty=2.0)"
   ]
  },
  {
   "cell_type": "code",
   "execution_count": 19,
   "metadata": {},
   "outputs": [
    {
     "name": "stdout",
     "output_type": "stream",
     "text": [
      "R2 = 0.7972058988564839\n",
      "OSR2 = 0.7873012502661293\n"
     ]
    },
    {
     "data": {
      "text/plain": [
       "0.7873012502661293"
      ]
     },
     "execution_count": 19,
     "metadata": {},
     "output_type": "execute_result"
    }
   ],
   "source": [
    "R2, OSR2 = evaluate(Y, X_augmented, linear2)\n",
    "@show R2\n",
    "@show OSR2"
   ]
  },
  {
   "cell_type": "code",
   "execution_count": null,
   "metadata": {
    "collapsed": true
   },
   "outputs": [],
   "source": [
    "push!(results_table, [dname, i, iter, \"Augmented\", OSR2])"
   ]
  },
  {
   "cell_type": "markdown",
   "metadata": {},
   "source": [
    "- Method 3: Affinely adaptive"
   ]
  },
  {
   "cell_type": "code",
   "execution_count": 20,
   "metadata": {
    "collapsed": true
   },
   "outputs": [
    {
     "name": "stderr",
     "output_type": "stream",
     "text": [
      "┌ Warning: `getindex(df::DataFrame, col_ind::ColumnIndex)` is deprecated, use `df[!, col_ind]` instead.\n",
      "│   caller = #augmentaffine#5(::Bool, ::Function, ::DataFrame) at augment.jl:45\n",
      "└ @ Main /Users/jpauph/Dropbox (MIT)/1- Research/PHD/augment.jl:45\n",
      "┌ Warning: `getindex(df::DataFrame, col_ind::ColumnIndex)` is deprecated, use `df[!, col_ind]` instead.\n",
      "│   caller = #augmentaffine#5(::Bool, ::Function, ::DataFrame) at augment.jl:45\n",
      "└ @ Main /Users/jpauph/Dropbox (MIT)/1- Research/PHD/augment.jl:45\n",
      "┌ Warning: `setindex!(df::DataFrame, v::AbstractVector, col_ind::ColumnIndex)` is deprecated, use `begin\n",
      "│     df[!, col_ind] = v\n",
      "│     df\n",
      "│ end` instead.\n",
      "│   caller = #augmentaffine#5(::Bool, ::Function, ::DataFrame) at augment.jl:45\n",
      "└ @ Main /Users/jpauph/Dropbox (MIT)/1- Research/PHD/augment.jl:45\n"
     ]
    },
    {
     "data": {
      "text/html": [
       "<table class=\"data-frame\"><thead><tr><th></th><th>N</th><th>N_1</th><th>N_2</th><th>N_3</th><th>N_4</th><th>N_5</th><th>N_6</th><th>N_1_missing</th></tr><tr><th></th><th>Float64</th><th>Float64</th><th>Float64</th><th>Float64</th><th>Float64</th><th>Float64</th><th>Float64</th><th>Float64</th></tr></thead><tbody><p>1 rows × 50 columns (omitted printing of 42 columns)</p><tr><th>1</th><td>3.8973e-5</td><td>-0.0241811</td><td>0.495174</td><td>-0.0289264</td><td>1.56968</td><td>0.00219125</td><td>0.00235848</td><td>0.0</td></tr></tbody></table>"
      ],
      "text/latex": [
       "\\begin{tabular}{r|ccccccccc}\n",
       "\t& N & N\\_1 & N\\_2 & N\\_3 & N\\_4 & N\\_5 & N\\_6 & N\\_1\\_missing & \\\\\n",
       "\t\\hline\n",
       "\t& Float64 & Float64 & Float64 & Float64 & Float64 & Float64 & Float64 & Float64 & \\\\\n",
       "\t\\hline\n",
       "\t1 & 3.8973e-5 & -0.0241811 & 0.495174 & -0.0289264 & 1.56968 & 0.00219125 & 0.00235848 & 0.0 & $\\dots$ \\\\\n",
       "\\end{tabular}\n"
      ],
      "text/plain": [
       "1×50 DataFrame. Omitted printing of 44 columns\n",
       "│ Row │ N         │ N_1        │ N_2      │ N_3        │ N_4     │ N_5        │\n",
       "│     │ \u001b[90mFloat64\u001b[39m   │ \u001b[90mFloat64\u001b[39m    │ \u001b[90mFloat64\u001b[39m  │ \u001b[90mFloat64\u001b[39m    │ \u001b[90mFloat64\u001b[39m │ \u001b[90mFloat64\u001b[39m    │\n",
       "├─────┼───────────┼────────────┼──────────┼────────────┼─────────┼────────────┤\n",
       "│ 1   │ 3.8973e-5 │ -0.0241811 │ 0.495174 │ -0.0289264 │ 1.56968 │ 0.00219125 │"
      ]
     },
     "execution_count": 20,
     "metadata": {},
     "output_type": "execute_result"
    }
   ],
   "source": [
    "X_affine = augmentaffine(X_missing, removezerocols=true)\n",
    "linear3 = regress(Y, X_affine, lasso=true, alpha=0.8, missing_penalty=10.0)"
   ]
  },
  {
   "cell_type": "code",
   "execution_count": 21,
   "metadata": {},
   "outputs": [
    {
     "name": "stdout",
     "output_type": "stream",
     "text": [
      "R2 = 0.8084333591361579\n",
      "OSR2 = 0.7989896100866425\n"
     ]
    },
    {
     "data": {
      "text/plain": [
       "0.7989896100866425"
      ]
     },
     "execution_count": 21,
     "metadata": {},
     "output_type": "execute_result"
    }
   ],
   "source": [
    "R2, OSR2 = evaluate(Y, X_affine, linear3)\n",
    "@show R2\n",
    "@show OSR2"
   ]
  },
  {
   "cell_type": "code",
   "execution_count": null,
   "metadata": {
    "collapsed": true
   },
   "outputs": [],
   "source": [
    "push!(results_table, [dname, i, iter, \"Augmented Affine\", OSR2])"
   ]
  },
  {
   "cell_type": "code",
   "execution_count": null,
   "metadata": {
    "collapsed": true
   },
   "outputs": [],
   "source": [
    "CSV.write(\"../results/\"*dname*\"_$i.csv\", results_table)"
   ]
  },
  {
   "cell_type": "code",
   "execution_count": null,
   "metadata": {
    "collapsed": true
   },
   "outputs": [],
   "source": []
  }
 ],
 "metadata": {
  "@webio": {
   "lastCommId": null,
   "lastKernelId": null
  },
  "kernelspec": {
   "display_name": "Julia 1.0.1",
   "language": "julia",
   "name": "julia-1.0"
  },
  "language_info": {
   "file_extension": ".jl",
   "mimetype": "application/julia",
   "name": "julia",
   "version": "1.0.1"
  }
 },
 "nbformat": 4,
 "nbformat_minor": 2
}
