{
 "cells": [
  {
   "cell_type": "markdown",
   "metadata": {},
   "source": [
    "# Example notebook"
   ]
  },
  {
   "cell_type": "code",
   "execution_count": null,
   "metadata": {},
   "outputs": [],
   "source": [
    "using Pkg\n",
    "Pkg.activate(\"..\")"
   ]
  },
  {
   "cell_type": "code",
   "execution_count": null,
   "metadata": {},
   "outputs": [],
   "source": [
    "using Revise\n",
    "using PHD"
   ]
  },
  {
   "cell_type": "code",
   "execution_count": null,
   "metadata": {},
   "outputs": [],
   "source": [
    "using Random, Statistics, CSV, DataFrames\n",
    "using LinearAlgebra"
   ]
  },
  {
   "cell_type": "code",
   "execution_count": null,
   "metadata": {},
   "outputs": [],
   "source": [
    "dataset_list = PHD.list_datasets(p_min = 1)"
   ]
  },
  {
   "cell_type": "code",
   "execution_count": null,
   "metadata": {},
   "outputs": [],
   "source": [
    "SNR = 1"
   ]
  },
  {
   "cell_type": "code",
   "execution_count": null,
   "metadata": {},
   "outputs": [],
   "source": [
    "if !isdir(\"../results\")\n",
    "    mkdir(\"../results\")\n",
    "end"
   ]
  },
  {
   "cell_type": "code",
   "execution_count": null,
   "metadata": {},
   "outputs": [],
   "source": [
    "dname = dataset_list[3]\n",
    "iter = 1"
   ]
  },
  {
   "cell_type": "markdown",
   "metadata": {},
   "source": [
    "Read in a data file."
   ]
  },
  {
   "cell_type": "code",
   "execution_count": null,
   "metadata": {},
   "outputs": [],
   "source": [
    "X_missing = PHD.standardize_colnames(DataFrame(CSV.read(\"../datasets/\"*dname*\"/X_missing.csv\",\n",
    "                                     missingstrings=[\"\", \"NaN\"])))\n",
    "X_full = PHD.standardize_colnames(DataFrame(CSV.read(\"../datasets/\"*dname*\"/X_full.csv\")))\n",
    "first(X_full, 5)"
   ]
  },
  {
   "cell_type": "markdown",
   "metadata": {},
   "source": [
    "Create output"
   ]
  },
  {
   "cell_type": "code",
   "execution_count": null,
   "metadata": {},
   "outputs": [],
   "source": [
    "Random.seed!(3)\n",
    "@time Y, _, _ = PHD.binary_y(X_full, X_missing, SNR=SNR, k=10, k_missing_in_signal=5)\n",
    "Y"
   ]
  },
  {
   "cell_type": "markdown",
   "metadata": {},
   "source": [
    "Add Offset"
   ]
  },
  {
   "cell_type": "markdown",
   "metadata": {},
   "source": [
    "X_full[:,:One] = Ref(1.)\n",
    "X_missing[:,:One] = Ref(1.) ;"
   ]
  },
  {
   "cell_type": "markdown",
   "metadata": {},
   "source": [
    "- Method 1: Impute missing data using MICE and regress using LASSO."
   ]
  },
  {
   "cell_type": "code",
   "execution_count": null,
   "metadata": {},
   "outputs": [],
   "source": [
    "Random.seed!(56802+767*iter)\n",
    "test_ind = PHD.split_dataset_nonrandom(X_missing, test_fraction = 0.3)\n",
    "#test_ind = rand(nrow(X_missing)) .< test_prop\n",
    "X_full[!,:Test] = test_ind\n",
    "X_missing[!,:Test] = test_ind"
   ]
  },
  {
   "cell_type": "code",
   "execution_count": null,
   "metadata": {},
   "outputs": [],
   "source": [
    "X_imputed = PHD.mice(X_missing);\n",
    "first(X_imputed, 5)"
   ]
  },
  {
   "cell_type": "code",
   "execution_count": null,
   "metadata": {},
   "outputs": [],
   "source": [
    "# regular\n",
    "linear = PHD.regress(Y, X_imputed, lasso=true, alpha=1.0)\n",
    "# validate parameters\n",
    "linear, bestparams = PHD.regress_cv(Y, X_imputed, lasso=[true], alpha=[0.8, 1.0])\n",
    "@show bestparams\n",
    "linear"
   ]
  },
  {
   "cell_type": "code",
   "execution_count": null,
   "metadata": {},
   "outputs": [],
   "source": [
    "R2, OSR2 = PHD.evaluate(Y, X_imputed, linear, metric=\"auc\")\n",
    "@show R2\n",
    "@show OSR2"
   ]
  },
  {
   "cell_type": "markdown",
   "metadata": {},
   "source": [
    "- Method 2: Add indicator variables for missingness and impute zeros (finitely adaptive). Regress using LASSO."
   ]
  },
  {
   "cell_type": "code",
   "execution_count": null,
   "metadata": {},
   "outputs": [],
   "source": [
    "X_augmented = hcat(PHD.zeroimpute(X_missing), PHD.indicatemissing(X_missing, removezerocols=true))\n",
    "# regular\n",
    "linear2 = PHD.regress(Y, X_augmented, lasso=true, alpha=0.8, missing_penalty=2.0)\n",
    "# with validation\n",
    "linear2, bestparams2 = PHD.regress_cv(Y, X_augmented, lasso=[true], alpha=[0.8, 1.0],\n",
    "                                      missing_penalty=[2.0, 4.0, 8.0, 16.0])\n",
    "@show bestparams2\n",
    "linear2"
   ]
  },
  {
   "cell_type": "code",
   "execution_count": null,
   "metadata": {},
   "outputs": [],
   "source": [
    "R2, OSR2 = PHD.evaluate(Y, X_augmented, linear2, metric=\"auc\")\n",
    "@show R2\n",
    "@show OSR2"
   ]
  },
  {
   "cell_type": "markdown",
   "metadata": {},
   "source": [
    "- Method 3: Affinely adaptive"
   ]
  },
  {
   "cell_type": "code",
   "execution_count": null,
   "metadata": {},
   "outputs": [],
   "source": [
    "X_affine = PHD.augmentaffine(X_missing, removezerocols=true)\n",
    "# regular\n",
    "linear3 = PHD.regress(Y, X_affine, lasso=true, alpha=0.8, missing_penalty=40.0)\n",
    "# with validation\n",
    "linear3, bestparams3 = PHD.regress_cv(Y, X_affine, lasso=[true], alpha=[0.8],\n",
    "                                      missing_penalty=[10.0, 20.0, 40.0, 80.0, 160.0])\n",
    "@show bestparams3\n",
    "linear3"
   ]
  },
  {
   "cell_type": "code",
   "execution_count": null,
   "metadata": {},
   "outputs": [],
   "source": [
    "R2, OSR2 = PHD.evaluate(Y, X_affine, linear3, metric=\"auc\")\n",
    "@show R2\n",
    "@show OSR2"
   ]
  },
  {
   "cell_type": "markdown",
   "metadata": {},
   "source": [
    "- Method 4: Finite adaptability with no zero-imputation"
   ]
  },
  {
   "cell_type": "code",
   "execution_count": null,
   "metadata": {
    "scrolled": true
   },
   "outputs": [],
   "source": [
    "X_missing_std = PHD.standardize(X_missing)\n",
    "@time gm = PHD.trainGreedyModel(Y, X_missing_std, maxdepth = 10, tolerance = 0.01, minbucket = 10)"
   ]
  },
  {
   "cell_type": "code",
   "execution_count": null,
   "metadata": {},
   "outputs": [],
   "source": [
    "@time gm, bestparams_gm = PHD.greedymodel_cv(Y, X_missing_std,\n",
    "    maxdepth = [10], tolerance = [0.01, 0.05, 0.10], minbucket = [10])\n",
    "bestparams_gm"
   ]
  },
  {
   "cell_type": "code",
   "execution_count": null,
   "metadata": {
    "scrolled": true
   },
   "outputs": [],
   "source": [
    "PHD.print_ascii(gm)"
   ]
  },
  {
   "cell_type": "code",
   "execution_count": null,
   "metadata": {
    "scrolled": true
   },
   "outputs": [],
   "source": [
    "PHD.evaluate(Y, X_missing_std, gm, metric=\"auc\")"
   ]
  },
  {
   "cell_type": "markdown",
   "metadata": {},
   "source": [
    "- Method 4.5: Finite adaptability with zero-imputation\n",
    "\n",
    "In the previous example, we just passed the dataframe with missing values, and we train regression models that only use features that are common across all models. We may also wish to try running on a zero-imputed dataset; then we need to pass the dataframe with missing values as a keyword argument"
   ]
  },
  {
   "cell_type": "code",
   "execution_count": null,
   "metadata": {},
   "outputs": [],
   "source": [
    "X_missing_zero_std = PHD.zeroimpute(PHD.standardize(X_missing))\n",
    "@time gm2 = PHD.trainGreedyModel(Y, X_missing_zero_std,\n",
    "                                 maxdepth = 8, tolerance = 0.05, minbucket = 20, missingdata = X_missing)"
   ]
  },
  {
   "cell_type": "code",
   "execution_count": null,
   "metadata": {},
   "outputs": [],
   "source": [
    "@time gm2, bestparams_gm2 = PHD.greedymodel_cv(Y, X_missing_zero_std,\n",
    "            val_fraction = 0.3,\n",
    "            maxdepth = [8], tolerance = [0.0, 0.005, 0.01, 0.02, 0.05, 0.10],\n",
    "            minbucket = [20], missingdata = X_missing)\n",
    "bestparams_gm2"
   ]
  },
  {
   "cell_type": "code",
   "execution_count": null,
   "metadata": {},
   "outputs": [],
   "source": [
    "PHD.print_ascii(gm2)"
   ]
  },
  {
   "cell_type": "code",
   "execution_count": null,
   "metadata": {},
   "outputs": [],
   "source": [
    "PHD.evaluate(Y, X_missing_zero_std, gm2, X_missing_std, metric=\"auc\")"
   ]
  },
  {
   "cell_type": "code",
   "execution_count": null,
   "metadata": {},
   "outputs": [],
   "source": []
  }
 ],
 "metadata": {
  "@webio": {
   "lastCommId": null,
   "lastKernelId": null
  },
  "kernelspec": {
   "display_name": "Julia 1.1.0",
   "language": "julia",
   "name": "julia-1.1"
  },
  "language_info": {
   "file_extension": ".jl",
   "mimetype": "application/julia",
   "name": "julia",
   "version": "1.1.0"
  }
 },
 "nbformat": 4,
 "nbformat_minor": 2
}
