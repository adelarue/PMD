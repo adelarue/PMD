{
 "cells": [
  {
   "cell_type": "markdown",
   "metadata": {},
   "source": [
    "# Example notebook"
   ]
  },
  {
   "cell_type": "code",
   "execution_count": 1,
   "metadata": {
    "collapsed": true
   },
   "outputs": [],
   "source": [
    "using Random, Statistics, CSV, DataFrames\n",
    "using LinearAlgebra"
   ]
  },
  {
   "cell_type": "code",
   "execution_count": 2,
   "metadata": {},
   "outputs": [
    {
     "data": {
      "text/plain": [
       "size"
      ]
     },
     "execution_count": 2,
     "metadata": {},
     "output_type": "execute_result"
    }
   ],
   "source": [
    "include(\"../impute.jl\")\n",
    "include(\"../regress.jl\")\n",
    "include(\"../augment.jl\")\n",
    "include(\"../count.jl\")"
   ]
  },
  {
   "cell_type": "code",
   "execution_count": 3,
   "metadata": {
    "collapsed": true
   },
   "outputs": [
    {
     "data": {
      "text/plain": [
       "32-element Array{SubString{String},1}:\n",
       " \"arrhythmia\"                        \n",
       " \"auto-mpg\"                          \n",
       " \"automobile\"                        \n",
       " \"breast-cancer-wisconsin-original\"  \n",
       " \"breast-cancer-wisconsin-prognostic\"\n",
       " \"communities-and-crime\"             \n",
       " \"communities-and-crime-2\"           \n",
       " \"credit-approval\"                   \n",
       " \"cylinder-bands\"                    \n",
       " \"dermatology\"                       \n",
       " \"echocardiogram\"                    \n",
       " \"heart-disease-cleveland\"           \n",
       " \"heart-disease-hungarian\"           \n",
       " ⋮                                   \n",
       " \"ozone-level-detection-one\"         \n",
       " \"sleep\"                             \n",
       " \"thyroid-disease-allbp\"             \n",
       " \"thyroid-disease-allhyper\"          \n",
       " \"thyroid-disease-allhypo\"           \n",
       " \"thyroid-disease-allrep\"            \n",
       " \"thyroid-disease-dis\"               \n",
       " \"thyroid-disease-sick\"              \n",
       " \"thyroid-disease-sick-euthyroid\"    \n",
       " \"thyroid-disease-thyroid-0387\"      \n",
       " \"trains\"                            \n",
       " \"wiki4he\"                           "
      ]
     },
     "execution_count": 3,
     "metadata": {},
     "output_type": "execute_result"
    }
   ],
   "source": [
    "dataset_list = [d for d in split.(read(`ls ../datasets/`, String), \"\\n\") if length(d) > 0]"
   ]
  },
  {
   "cell_type": "code",
   "execution_count": 4,
   "metadata": {},
   "outputs": [
    {
     "data": {
      "text/html": [
       "<table class=\"data-frame\"><thead><tr><th></th><th>dataset</th><th>copynum</th><th>iter</th><th>method</th><th>osr2</th></tr><tr><th></th><th>Any</th><th>Any</th><th>Any</th><th>Any</th><th>Any</th></tr></thead><tbody><p>0 rows × 5 columns</p></tbody></table>"
      ],
      "text/latex": [
       "\\begin{tabular}{r|ccccc}\n",
       "\t& dataset & copynum & iter & method & osr2\\\\\n",
       "\t\\hline\n",
       "\t& Any & Any & Any & Any & Any\\\\\n",
       "\t\\hline\n",
       "\\end{tabular}\n"
      ],
      "text/plain": [
       "0×5 DataFrame\n"
      ]
     },
     "execution_count": 4,
     "metadata": {},
     "output_type": "execute_result"
    }
   ],
   "source": [
    "results_table = DataFrame(dataset=[], copynum=[], iter=[], method=[], osr2=[])"
   ]
  },
  {
   "cell_type": "code",
   "execution_count": 5,
   "metadata": {
    "collapsed": true
   },
   "outputs": [
    {
     "data": {
      "text/plain": [
       "4"
      ]
     },
     "execution_count": 5,
     "metadata": {},
     "output_type": "execute_result"
    },
    {
     "name": "stderr",
     "output_type": "stream",
     "text": [
      "WARNING: both LinearAlgebra and DataFrames export \"normalize\"; uses of it in module Main must be qualified\n"
     ]
    }
   ],
   "source": [
    "SNR = 4"
   ]
  },
  {
   "cell_type": "code",
   "execution_count": null,
   "metadata": {
    "collapsed": true
   },
   "outputs": [],
   "source": [
    "if !isdir(\"../results\")\n",
    "    mkdir(\"../results\")\n",
    "end"
   ]
  },
  {
   "cell_type": "code",
   "execution_count": 22,
   "metadata": {},
   "outputs": [
    {
     "data": {
      "text/plain": [
       "1"
      ]
     },
     "execution_count": 22,
     "metadata": {},
     "output_type": "execute_result"
    }
   ],
   "source": [
    "dname = \"sleep\" #\"\"\"thyroid-disease-thyroid-0387\" #dataset_list[1]\n",
    "i = 1\n",
    "iter = 1"
   ]
  },
  {
   "cell_type": "code",
   "execution_count": 57,
   "metadata": {},
   "outputs": [
    {
     "data": {
      "text/latex": [
       "\\begin{verbatim}\n",
       "CSV.File(source; kwargs...) => CSV.File\n",
       "\\end{verbatim}\n",
       "Read a csv input (a filename given as a String or FilePaths.jl type, or any other IO source), returning a \\texttt{CSV.File} object.\n",
       "\n",
       "Opens the file and uses passed arguments to detect the number of columns and column types. The returned \\texttt{CSV.File} object supports the \\href{https://github.com/JuliaData/Tables.jl}{Tables.jl} interface and can iterate \\texttt{CSV.Row}s. \\texttt{CSV.Row} supports \\texttt{propertynames} and \\texttt{getproperty} to access individual row values. Note that duplicate column names will be detected and adjusted to ensure uniqueness (duplicate column name \\texttt{a} will become \\texttt{a\\_1}). For example, one could iterate over a csv file with column names \\texttt{a}, \\texttt{b}, and \\texttt{c} by doing:\n",
       "\n",
       "\\begin{verbatim}\n",
       "for row in CSV.File(file)\n",
       "    println(\"a=$(row.a), b=$(row.b), c=$(row.c)\")\n",
       "end\n",
       "\\end{verbatim}\n",
       "By supporting the Tables.jl interface, a \\texttt{CSV.File} can also be a table input to any other table sink function. Like:\n",
       "\n",
       "\\begin{verbatim}\n",
       "# materialize a csv file as a DataFrame\n",
       "df = CSV.File(file) |> DataFrame!\n",
       "\n",
       "# load a csv file directly into an sqlite database table\n",
       "db = SQLite.DB()\n",
       "tbl = CSV.File(file) |> SQLite.load!(db, \"sqlite_table\")\n",
       "\\end{verbatim}\n",
       "Supported keyword arguments include:\n",
       "\n",
       "\\begin{itemize}\n",
       "\\item File layout options:\n",
       "\n",
       "\\begin{itemize}\n",
       "\\item \\texttt{header=1}: the \\texttt{header} argument can be an \\texttt{Int}, indicating the row to parse for column names; or a \\texttt{Range}, indicating a span of rows to be concatenated together as column names; or an entire \\texttt{Vector\\{Symbol\\}} or \\texttt{Vector\\{String\\}} to use as column names; if a file doesn't have column names, either provide them as a \\texttt{Vector}, or set \\texttt{header=0} or \\texttt{header=false} and column names will be auto-generated (\\texttt{Column1}, \\texttt{Column2}, etc.)\n",
       "\n",
       "\n",
       "\\item \\texttt{normalizenames=false}: whether column names should be \"normalized\" into valid Julia identifier symbols; useful when iterating rows and accessing column values of a row via \\texttt{getproperty} (e.g. \\texttt{row.col1})\n",
       "\n",
       "\n",
       "\\item \\texttt{datarow}: an \\texttt{Int} argument to specify the row where the data starts in the csv file; by default, the next row after the \\texttt{header} row is used. If \\texttt{header=0}, then the 1st row is assumed to be the start of data\n",
       "\n",
       "\n",
       "\\item \\texttt{skipto::Int}: similar to \\texttt{datarow}, specifies the number of rows to skip before starting to read data\n",
       "\n",
       "\n",
       "\\item \\texttt{footerskip::Int}: number of rows at the end of a file to skip parsing\n",
       "\n",
       "\n",
       "\\item \\texttt{limit}: an \\texttt{Int} to indicate a limited number of rows to parse in a csv file; use in combination with \\texttt{skipto} to read a specific, contiguous chunk within a file\n",
       "\n",
       "\n",
       "\\item \\texttt{transpose::Bool}: read a csv file \"transposed\", i.e. each column is parsed as a row\n",
       "\n",
       "\n",
       "\\item \\texttt{comment}: rows that begin with this \\texttt{String} will be skipped while parsing\n",
       "\n",
       "\n",
       "\\item \\texttt{use\\_mmap::Bool=!Sys.iswindows()}: whether the file should be mmapped for reading, which in some cases can be faster\n",
       "\n",
       "\n",
       "\\item \\texttt{ignoreemptylines::Bool=false}: whether empty rows/lines in a file should be ignored (if \\texttt{false}, each column will be assigned \\texttt{missing} for that empty row)\n",
       "\n",
       "\n",
       "\\item \\texttt{threaded::Bool}: whether parsing should utilize multiple threads; by default threads are used on large enough files, but isn't allowed when \\texttt{transpose=true} or when \\texttt{limit} is used; only available in Julia 1.3+\n",
       "\n",
       "\\end{itemize}\n",
       "\n",
       "\\item Parsing options:\n",
       "\n",
       "\\begin{itemize}\n",
       "\\item \\texttt{missingstrings}, \\texttt{missingstring}: either a \\texttt{String}, or \\texttt{Vector\\{String\\}} to use as sentinel values that will be parsed as \\texttt{missing}; by default, only an empty field (two consecutive delimiters) is considered \\texttt{missing}\n",
       "\n",
       "\n",
       "\\item \\texttt{delim=','}: a \\texttt{Char} or \\texttt{String} that indicates how columns are delimited in a file; if no argument is provided, parsing will try to detect the most consistent delimiter on the first 10 rows of the file\n",
       "\n",
       "\n",
       "\\item \\texttt{ignorerepeated::Bool=false}: whether repeated (consecutive) delimiters should be ignored while parsing; useful for fixed-width files with delimiter padding between cells\n",
       "\n",
       "\n",
       "\\item \\texttt{quotechar='\"'}, \\texttt{openquotechar}, \\texttt{closequotechar}: a \\texttt{Char} (or different start and end characters) that indicate a quoted field which may contain textual delimiters or newline characters\n",
       "\n",
       "\n",
       "\\item \\texttt{escapechar='\"'}: the \\texttt{Char} used to escape quote characters in a quoted field\n",
       "\n",
       "\n",
       "\\item \\texttt{dateformat::Union\\{String, Dates.DateFormat, Nothing\\}}: a date format string to indicate how Date/DateTime columns are formatted for the entire file\n",
       "\n",
       "\n",
       "\\item \\texttt{decimal='.'}: a \\texttt{Char} indicating how decimals are separated in floats, i.e. \\texttt{3.14} used '.', or \\texttt{3,14} uses a comma ','\n",
       "\n",
       "\n",
       "\\item \\texttt{truestrings}, \\texttt{falsestrings}: \\texttt{Vectors of Strings} that indicate how \\texttt{true} or \\texttt{false} values are represented; by default only \\texttt{true} and \\texttt{false} are treated as \\texttt{Bool}\n",
       "\n",
       "\\end{itemize}\n",
       "\n",
       "\\item Column Type Options:\n",
       "\n",
       "\\begin{itemize}\n",
       "\\item \\texttt{type}: a single type to use for parsing an entire file; i.e. all columns will be treated as the same type; useful for matrix-like data files\n",
       "\n",
       "\n",
       "\\item \\texttt{types}: a Vector or Dict of types to be used for column types; a Dict can map column index \\texttt{Int}, or name \\texttt{Symbol} or \\texttt{String} to type for a column, i.e. Dict(1=>Float64) will set the first column as a Float64, Dict(:column1=>Float64) will set the column named column1 to Float64 and, Dict(\"column1\"=>Float64) will set the column1 to Float64; if a \\texttt{Vector} if provided, it must match the \\# of columns provided or detected in \\texttt{header}\n",
       "\n",
       "\n",
       "\\item \\texttt{typemap::Dict\\{Type, Type\\}}: a mapping of a type that should be replaced in every instance with another type, i.e. \\texttt{Dict(Float64=>String)} would change every detected \\texttt{Float64} column to be parsed as \\texttt{String}\n",
       "\n",
       "\n",
       "\\item \\texttt{pool::Union\\{Bool, Float64\\}=0.1}: if \\texttt{true}, \\emph{all} columns detected as \\texttt{String} will be internally pooled; alternatively, the proportion of unique values below which \\texttt{String} columns should be pooled (by default 0.1, meaning that if the \\# of unique strings in a column is under 10\\%, it will be pooled)\n",
       "\n",
       "\n",
       "\\item \\texttt{categorical::Bool=false}: whether pooled columns should be copied as CategoricalArray instead of PooledArray; note that in \\texttt{CSV.read}, by default, columns are not copied, so pooled columns will have type \\texttt{CSV.Column\\{String, PooledString\\}}; to get \\texttt{CategoricalArray} columns, also pass \\texttt{copycols=true}\n",
       "\n",
       "\n",
       "\\item \\texttt{strict::Bool=false}: whether invalid values should throw a parsing error or be replaced with \\texttt{missing}\n",
       "\n",
       "\n",
       "\\item \\texttt{silencewarnings::Bool=false}: if \\texttt{strict=false}, whether invalid value warnings should be silenced\n",
       "\n",
       "\\end{itemize}\n",
       "\\end{itemize}\n"
      ],
      "text/markdown": [
       "```\n",
       "CSV.File(source; kwargs...) => CSV.File\n",
       "```\n",
       "\n",
       "Read a csv input (a filename given as a String or FilePaths.jl type, or any other IO source), returning a `CSV.File` object.\n",
       "\n",
       "Opens the file and uses passed arguments to detect the number of columns and column types. The returned `CSV.File` object supports the [Tables.jl](https://github.com/JuliaData/Tables.jl) interface and can iterate `CSV.Row`s. `CSV.Row` supports `propertynames` and `getproperty` to access individual row values. Note that duplicate column names will be detected and adjusted to ensure uniqueness (duplicate column name `a` will become `a_1`). For example, one could iterate over a csv file with column names `a`, `b`, and `c` by doing:\n",
       "\n",
       "```julia\n",
       "for row in CSV.File(file)\n",
       "    println(\"a=$(row.a), b=$(row.b), c=$(row.c)\")\n",
       "end\n",
       "```\n",
       "\n",
       "By supporting the Tables.jl interface, a `CSV.File` can also be a table input to any other table sink function. Like:\n",
       "\n",
       "```julia\n",
       "# materialize a csv file as a DataFrame\n",
       "df = CSV.File(file) |> DataFrame!\n",
       "\n",
       "# load a csv file directly into an sqlite database table\n",
       "db = SQLite.DB()\n",
       "tbl = CSV.File(file) |> SQLite.load!(db, \"sqlite_table\")\n",
       "```\n",
       "\n",
       "Supported keyword arguments include:\n",
       "\n",
       "  * File layout options:\n",
       "\n",
       "      * `header=1`: the `header` argument can be an `Int`, indicating the row to parse for column names; or a `Range`, indicating a span of rows to be concatenated together as column names; or an entire `Vector{Symbol}` or `Vector{String}` to use as column names; if a file doesn't have column names, either provide them as a `Vector`, or set `header=0` or `header=false` and column names will be auto-generated (`Column1`, `Column2`, etc.)\n",
       "      * `normalizenames=false`: whether column names should be \"normalized\" into valid Julia identifier symbols; useful when iterating rows and accessing column values of a row via `getproperty` (e.g. `row.col1`)\n",
       "      * `datarow`: an `Int` argument to specify the row where the data starts in the csv file; by default, the next row after the `header` row is used. If `header=0`, then the 1st row is assumed to be the start of data\n",
       "      * `skipto::Int`: similar to `datarow`, specifies the number of rows to skip before starting to read data\n",
       "      * `footerskip::Int`: number of rows at the end of a file to skip parsing\n",
       "      * `limit`: an `Int` to indicate a limited number of rows to parse in a csv file; use in combination with `skipto` to read a specific, contiguous chunk within a file\n",
       "      * `transpose::Bool`: read a csv file \"transposed\", i.e. each column is parsed as a row\n",
       "      * `comment`: rows that begin with this `String` will be skipped while parsing\n",
       "      * `use_mmap::Bool=!Sys.iswindows()`: whether the file should be mmapped for reading, which in some cases can be faster\n",
       "      * `ignoreemptylines::Bool=false`: whether empty rows/lines in a file should be ignored (if `false`, each column will be assigned `missing` for that empty row)\n",
       "      * `threaded::Bool`: whether parsing should utilize multiple threads; by default threads are used on large enough files, but isn't allowed when `transpose=true` or when `limit` is used; only available in Julia 1.3+\n",
       "  * Parsing options:\n",
       "\n",
       "      * `missingstrings`, `missingstring`: either a `String`, or `Vector{String}` to use as sentinel values that will be parsed as `missing`; by default, only an empty field (two consecutive delimiters) is considered `missing`\n",
       "      * `delim=','`: a `Char` or `String` that indicates how columns are delimited in a file; if no argument is provided, parsing will try to detect the most consistent delimiter on the first 10 rows of the file\n",
       "      * `ignorerepeated::Bool=false`: whether repeated (consecutive) delimiters should be ignored while parsing; useful for fixed-width files with delimiter padding between cells\n",
       "      * `quotechar='\"'`, `openquotechar`, `closequotechar`: a `Char` (or different start and end characters) that indicate a quoted field which may contain textual delimiters or newline characters\n",
       "      * `escapechar='\"'`: the `Char` used to escape quote characters in a quoted field\n",
       "      * `dateformat::Union{String, Dates.DateFormat, Nothing}`: a date format string to indicate how Date/DateTime columns are formatted for the entire file\n",
       "      * `decimal='.'`: a `Char` indicating how decimals are separated in floats, i.e. `3.14` used '.', or `3,14` uses a comma ','\n",
       "      * `truestrings`, `falsestrings`: `Vectors of Strings` that indicate how `true` or `false` values are represented; by default only `true` and `false` are treated as `Bool`\n",
       "  * Column Type Options:\n",
       "\n",
       "      * `type`: a single type to use for parsing an entire file; i.e. all columns will be treated as the same type; useful for matrix-like data files\n",
       "      * `types`: a Vector or Dict of types to be used for column types; a Dict can map column index `Int`, or name `Symbol` or `String` to type for a column, i.e. Dict(1=>Float64) will set the first column as a Float64, Dict(:column1=>Float64) will set the column named column1 to Float64 and, Dict(\"column1\"=>Float64) will set the column1 to Float64; if a `Vector` if provided, it must match the # of columns provided or detected in `header`\n",
       "      * `typemap::Dict{Type, Type}`: a mapping of a type that should be replaced in every instance with another type, i.e. `Dict(Float64=>String)` would change every detected `Float64` column to be parsed as `String`\n",
       "      * `pool::Union{Bool, Float64}=0.1`: if `true`, *all* columns detected as `String` will be internally pooled; alternatively, the proportion of unique values below which `String` columns should be pooled (by default 0.1, meaning that if the # of unique strings in a column is under 10%, it will be pooled)\n",
       "      * `categorical::Bool=false`: whether pooled columns should be copied as CategoricalArray instead of PooledArray; note that in `CSV.read`, by default, columns are not copied, so pooled columns will have type `CSV.Column{String, PooledString}`; to get `CategoricalArray` columns, also pass `copycols=true`\n",
       "      * `strict::Bool=false`: whether invalid values should throw a parsing error or be replaced with `missing`\n",
       "      * `silencewarnings::Bool=false`: if `strict=false`, whether invalid value warnings should be silenced\n"
      ],
      "text/plain": [
       "\u001b[36m  CSV.File(source; kwargs...) => CSV.File\u001b[39m\n",
       "\n",
       "  Read a csv input (a filename given as a String or FilePaths.jl type, or any\n",
       "  other IO source), returning a \u001b[36mCSV.File\u001b[39m object.\n",
       "\n",
       "  Opens the file and uses passed arguments to detect the number of columns and\n",
       "  column types. The returned \u001b[36mCSV.File\u001b[39m object supports the Tables.jl\n",
       "  (https://github.com/JuliaData/Tables.jl) interface and can iterate \u001b[36mCSV.Row\u001b[39ms.\n",
       "  \u001b[36mCSV.Row\u001b[39m supports \u001b[36mpropertynames\u001b[39m and \u001b[36mgetproperty\u001b[39m to access individual row\n",
       "  values. Note that duplicate column names will be detected and adjusted to\n",
       "  ensure uniqueness (duplicate column name \u001b[36ma\u001b[39m will become \u001b[36ma_1\u001b[39m). For example,\n",
       "  one could iterate over a csv file with column names \u001b[36ma\u001b[39m, \u001b[36mb\u001b[39m, and \u001b[36mc\u001b[39m by doing:\n",
       "\n",
       "\u001b[36m  for row in CSV.File(file)\u001b[39m\n",
       "\u001b[36m      println(\"a=$(row.a), b=$(row.b), c=$(row.c)\")\u001b[39m\n",
       "\u001b[36m  end\u001b[39m\n",
       "\n",
       "  By supporting the Tables.jl interface, a \u001b[36mCSV.File\u001b[39m can also be a table input\n",
       "  to any other table sink function. Like:\n",
       "\n",
       "\u001b[36m  # materialize a csv file as a DataFrame\u001b[39m\n",
       "\u001b[36m  df = CSV.File(file) |> DataFrame!\u001b[39m\n",
       "\u001b[36m  \u001b[39m\n",
       "\u001b[36m  # load a csv file directly into an sqlite database table\u001b[39m\n",
       "\u001b[36m  db = SQLite.DB()\u001b[39m\n",
       "\u001b[36m  tbl = CSV.File(file) |> SQLite.load!(db, \"sqlite_table\")\u001b[39m\n",
       "\n",
       "  Supported keyword arguments include:\n",
       "\n",
       "    •    File layout options:\n",
       "      \n",
       "          •    \u001b[36mheader=1\u001b[39m: the \u001b[36mheader\u001b[39m argument can be an \u001b[36mInt\u001b[39m, indicating\n",
       "              the row to parse for column names; or a \u001b[36mRange\u001b[39m,\n",
       "              indicating a span of rows to be concatenated together as\n",
       "              column names; or an entire \u001b[36mVector{Symbol}\u001b[39m or\n",
       "              \u001b[36mVector{String}\u001b[39m to use as column names; if a file doesn't\n",
       "              have column names, either provide them as a \u001b[36mVector\u001b[39m, or\n",
       "              set \u001b[36mheader=0\u001b[39m or \u001b[36mheader=false\u001b[39m and column names will be\n",
       "              auto-generated (\u001b[36mColumn1\u001b[39m, \u001b[36mColumn2\u001b[39m, etc.)\n",
       "      \n",
       "          •    \u001b[36mnormalizenames=false\u001b[39m: whether column names should be\n",
       "              \"normalized\" into valid Julia identifier symbols; useful\n",
       "              when iterating rows and accessing column values of a row\n",
       "              via \u001b[36mgetproperty\u001b[39m (e.g. \u001b[36mrow.col1\u001b[39m)\n",
       "      \n",
       "          •    \u001b[36mdatarow\u001b[39m: an \u001b[36mInt\u001b[39m argument to specify the row where the\n",
       "              data starts in the csv file; by default, the next row\n",
       "              after the \u001b[36mheader\u001b[39m row is used. If \u001b[36mheader=0\u001b[39m, then the 1st\n",
       "              row is assumed to be the start of data\n",
       "      \n",
       "          •    \u001b[36mskipto::Int\u001b[39m: similar to \u001b[36mdatarow\u001b[39m, specifies the number of\n",
       "              rows to skip before starting to read data\n",
       "      \n",
       "          •    \u001b[36mfooterskip::Int\u001b[39m: number of rows at the end of a file to\n",
       "              skip parsing\n",
       "      \n",
       "          •    \u001b[36mlimit\u001b[39m: an \u001b[36mInt\u001b[39m to indicate a limited number of rows to\n",
       "              parse in a csv file; use in combination with \u001b[36mskipto\u001b[39m to\n",
       "              read a specific, contiguous chunk within a file\n",
       "      \n",
       "          •    \u001b[36mtranspose::Bool\u001b[39m: read a csv file \"transposed\", i.e. each\n",
       "              column is parsed as a row\n",
       "      \n",
       "          •    \u001b[36mcomment\u001b[39m: rows that begin with this \u001b[36mString\u001b[39m will be\n",
       "              skipped while parsing\n",
       "      \n",
       "          •    \u001b[36muse_mmap::Bool=!Sys.iswindows()\u001b[39m: whether the file should\n",
       "              be mmapped for reading, which in some cases can be\n",
       "              faster\n",
       "      \n",
       "          •    \u001b[36mignoreemptylines::Bool=false\u001b[39m: whether empty rows/lines\n",
       "              in a file should be ignored (if \u001b[36mfalse\u001b[39m, each column will\n",
       "              be assigned \u001b[36mmissing\u001b[39m for that empty row)\n",
       "      \n",
       "          •    \u001b[36mthreaded::Bool\u001b[39m: whether parsing should utilize multiple\n",
       "              threads; by default threads are used on large enough\n",
       "              files, but isn't allowed when \u001b[36mtranspose=true\u001b[39m or when\n",
       "              \u001b[36mlimit\u001b[39m is used; only available in Julia 1.3+\n",
       "\n",
       "    •    Parsing options:\n",
       "      \n",
       "          •    \u001b[36mmissingstrings\u001b[39m, \u001b[36mmissingstring\u001b[39m: either a \u001b[36mString\u001b[39m, or\n",
       "              \u001b[36mVector{String}\u001b[39m to use as sentinel values that will be\n",
       "              parsed as \u001b[36mmissing\u001b[39m; by default, only an empty field (two\n",
       "              consecutive delimiters) is considered \u001b[36mmissing\u001b[39m\n",
       "      \n",
       "          •    \u001b[36mdelim=','\u001b[39m: a \u001b[36mChar\u001b[39m or \u001b[36mString\u001b[39m that indicates how columns\n",
       "              are delimited in a file; if no argument is provided,\n",
       "              parsing will try to detect the most consistent delimiter\n",
       "              on the first 10 rows of the file\n",
       "      \n",
       "          •    \u001b[36mignorerepeated::Bool=false\u001b[39m: whether repeated\n",
       "              (consecutive) delimiters should be ignored while\n",
       "              parsing; useful for fixed-width files with delimiter\n",
       "              padding between cells\n",
       "      \n",
       "          •    \u001b[36mquotechar='\"'\u001b[39m, \u001b[36mopenquotechar\u001b[39m, \u001b[36mclosequotechar\u001b[39m: a \u001b[36mChar\u001b[39m (or\n",
       "              different start and end characters) that indicate a\n",
       "              quoted field which may contain textual delimiters or\n",
       "              newline characters\n",
       "      \n",
       "          •    \u001b[36mescapechar='\"'\u001b[39m: the \u001b[36mChar\u001b[39m used to escape quote characters\n",
       "              in a quoted field\n",
       "      \n",
       "          •    \u001b[36mdateformat::Union{String, Dates.DateFormat, Nothing}\u001b[39m: a\n",
       "              date format string to indicate how Date/DateTime columns\n",
       "              are formatted for the entire file\n",
       "      \n",
       "          •    \u001b[36mdecimal='.'\u001b[39m: a \u001b[36mChar\u001b[39m indicating how decimals are\n",
       "              separated in floats, i.e. \u001b[36m3.14\u001b[39m used '.', or \u001b[36m3,14\u001b[39m uses a\n",
       "              comma ','\n",
       "      \n",
       "          •    \u001b[36mtruestrings\u001b[39m, \u001b[36mfalsestrings\u001b[39m: \u001b[36mVectors of Strings\u001b[39m that\n",
       "              indicate how \u001b[36mtrue\u001b[39m or \u001b[36mfalse\u001b[39m values are represented; by\n",
       "              default only \u001b[36mtrue\u001b[39m and \u001b[36mfalse\u001b[39m are treated as \u001b[36mBool\u001b[39m\n",
       "\n",
       "    •    Column Type Options:\n",
       "      \n",
       "          •    \u001b[36mtype\u001b[39m: a single type to use for parsing an entire file;\n",
       "              i.e. all columns will be treated as the same type;\n",
       "              useful for matrix-like data files\n",
       "      \n",
       "          •    \u001b[36mtypes\u001b[39m: a Vector or Dict of types to be used for column\n",
       "              types; a Dict can map column index \u001b[36mInt\u001b[39m, or name \u001b[36mSymbol\u001b[39m\n",
       "              or \u001b[36mString\u001b[39m to type for a column, i.e. Dict(1=>Float64)\n",
       "              will set the first column as a Float64,\n",
       "              Dict(:column1=>Float64) will set the column named\n",
       "              column1 to Float64 and, Dict(\"column1\"=>Float64) will\n",
       "              set the column1 to Float64; if a \u001b[36mVector\u001b[39m if provided, it\n",
       "              must match the # of columns provided or detected in\n",
       "              \u001b[36mheader\u001b[39m\n",
       "      \n",
       "          •    \u001b[36mtypemap::Dict{Type, Type}\u001b[39m: a mapping of a type that\n",
       "              should be replaced in every instance with another type,\n",
       "              i.e. \u001b[36mDict(Float64=>String)\u001b[39m would change every detected\n",
       "              \u001b[36mFloat64\u001b[39m column to be parsed as \u001b[36mString\u001b[39m\n",
       "      \n",
       "          •    \u001b[36mpool::Union{Bool, Float64}=0.1\u001b[39m: if \u001b[36mtrue\u001b[39m, \u001b[4mall\u001b[24m columns\n",
       "              detected as \u001b[36mString\u001b[39m will be internally pooled;\n",
       "              alternatively, the proportion of unique values below\n",
       "              which \u001b[36mString\u001b[39m columns should be pooled (by default 0.1,\n",
       "              meaning that if the # of unique strings in a column is\n",
       "              under 10%, it will be pooled)\n",
       "      \n",
       "          •    \u001b[36mcategorical::Bool=false\u001b[39m: whether pooled columns should\n",
       "              be copied as CategoricalArray instead of PooledArray;\n",
       "              note that in \u001b[36mCSV.read\u001b[39m, by default, columns are not\n",
       "              copied, so pooled columns will have type\n",
       "              \u001b[36mCSV.Column{String, PooledString}\u001b[39m; to get\n",
       "              \u001b[36mCategoricalArray\u001b[39m columns, also pass \u001b[36mcopycols=true\u001b[39m\n",
       "      \n",
       "          •    \u001b[36mstrict::Bool=false\u001b[39m: whether invalid values should throw\n",
       "              a parsing error or be replaced with \u001b[36mmissing\u001b[39m\n",
       "      \n",
       "          •    \u001b[36msilencewarnings::Bool=false\u001b[39m: if \u001b[36mstrict=false\u001b[39m, whether\n",
       "              invalid value warnings should be silenced"
      ]
     },
     "execution_count": 57,
     "metadata": {},
     "output_type": "execute_result"
    }
   ],
   "source": [
    "?CSV.File"
   ]
  },
  {
   "cell_type": "markdown",
   "metadata": {},
   "source": [
    "Read in a data file."
   ]
  },
  {
   "cell_type": "code",
   "execution_count": 58,
   "metadata": {
    "collapsed": true
   },
   "outputs": [
    {
     "data": {
      "text/html": [
       "<table class=\"data-frame\"><thead><tr><th></th><th>BodyWgt</th><th>BrainWgt</th><th>NonD</th><th>Dream</th><th>Sleep</th><th>Span</th><th>Gest</th><th>Pred</th></tr><tr><th></th><th>Float64</th><th>Float64</th><th>Float64</th><th>Float64</th><th>Float64</th><th>Float64</th><th>Float64</th><th>Float64</th></tr></thead><tbody><p>5 rows × 11 columns (omitted printing of 3 columns)</p><tr><th>1</th><td>7.17917</td><td>5.83574</td><td>-1.02904</td><td>-0.0499081</td><td>-1.57003</td><td>1.02835</td><td>3.42391</td><td>0.0873957</td></tr><tr><th>2</th><td>-0.219972</td><td>-0.297259</td><td>-0.647197</td><td>0.0194087</td><td>-0.48467</td><td>-0.844632</td><td>-0.683583</td><td>0.0873957</td></tr><tr><th>3</th><td>-0.21732</td><td>-0.256519</td><td>0.634696</td><td>0.573944</td><td>0.427034</td><td>-0.322833</td><td>-0.560972</td><td>-1.26724</td></tr><tr><th>4</th><td>-0.220061</td><td>-0.298227</td><td>1.39838</td><td>0.43531</td><td>1.29532</td><td>-0.817169</td><td>-0.799383</td><td>1.44203</td></tr><tr><th>5</th><td>2.61157</td><td>4.64362</td><td>-1.79272</td><td>-0.119225</td><td>-1.43979</td><td>2.69811</td><td>3.28086</td><td>0.0873957</td></tr></tbody></table>"
      ],
      "text/latex": [
       "\\begin{tabular}{r|ccccccccc}\n",
       "\t& BodyWgt & BrainWgt & NonD & Dream & Sleep & Span & Gest & Pred & \\\\\n",
       "\t\\hline\n",
       "\t& Float64 & Float64 & Float64 & Float64 & Float64 & Float64 & Float64 & Float64 & \\\\\n",
       "\t\\hline\n",
       "\t1 & 7.17917 & 5.83574 & -1.02904 & -0.0499081 & -1.57003 & 1.02835 & 3.42391 & 0.0873957 & $\\dots$ \\\\\n",
       "\t2 & -0.219972 & -0.297259 & -0.647197 & 0.0194087 & -0.48467 & -0.844632 & -0.683583 & 0.0873957 & $\\dots$ \\\\\n",
       "\t3 & -0.21732 & -0.256519 & 0.634696 & 0.573944 & 0.427034 & -0.322833 & -0.560972 & -1.26724 & $\\dots$ \\\\\n",
       "\t4 & -0.220061 & -0.298227 & 1.39838 & 0.43531 & 1.29532 & -0.817169 & -0.799383 & 1.44203 & $\\dots$ \\\\\n",
       "\t5 & 2.61157 & 4.64362 & -1.79272 & -0.119225 & -1.43979 & 2.69811 & 3.28086 & 0.0873957 & $\\dots$ \\\\\n",
       "\\end{tabular}\n"
      ],
      "text/plain": [
       "5×11 DataFrame. Omitted printing of 5 columns\n",
       "│ Row │ BodyWgt   │ BrainWgt  │ NonD      │ Dream      │ Sleep    │ Span      │\n",
       "│     │ \u001b[90mFloat64\u001b[39m   │ \u001b[90mFloat64\u001b[39m   │ \u001b[90mFloat64\u001b[39m   │ \u001b[90mFloat64\u001b[39m    │ \u001b[90mFloat64\u001b[39m  │ \u001b[90mFloat64\u001b[39m   │\n",
       "├─────┼───────────┼───────────┼───────────┼────────────┼──────────┼───────────┤\n",
       "│ 1   │ 7.17917   │ 5.83574   │ -1.02904  │ -0.0499081 │ -1.57003 │ 1.02835   │\n",
       "│ 2   │ -0.219972 │ -0.297259 │ -0.647197 │ 0.0194087  │ -0.48467 │ -0.844632 │\n",
       "│ 3   │ -0.21732  │ -0.256519 │ 0.634696  │ 0.573944   │ 0.427034 │ -0.322833 │\n",
       "│ 4   │ -0.220061 │ -0.298227 │ 1.39838   │ 0.43531    │ 1.29532  │ -0.817169 │\n",
       "│ 5   │ 2.61157   │ 4.64362   │ -1.79272  │ -0.119225  │ -1.43979 │ 2.69811   │"
      ]
     },
     "execution_count": 58,
     "metadata": {},
     "output_type": "execute_result"
    }
   ],
   "source": [
    "X_missing = DataFrame(CSV.read(\"../datasets/\"*dname*\"/$i/X_missing.csv\", missingstrings=[\"\", \"NaN\"]))\n",
    "X_full = DataFrame(CSV.read(\"../datasets/\"*dname*\"/$i/X_full.csv\"))\n",
    "first(X_full, 5)"
   ]
  },
  {
   "cell_type": "markdown",
   "metadata": {},
   "source": [
    "Create output"
   ]
  },
  {
   "cell_type": "code",
   "execution_count": 59,
   "metadata": {},
   "outputs": [
    {
     "data": {
      "text/plain": [
       "softthresholding (generic function with 1 method)"
      ]
     },
     "execution_count": 59,
     "metadata": {},
     "output_type": "execute_result"
    }
   ],
   "source": [
    "function softthresholding(x; λ=0.1)\n",
    "    if x > λ\n",
    "        return x - λ\n",
    "    elseif x < -λ\n",
    "        return x + λ\n",
    "    else \n",
    "        return 0 \n",
    "    end\n",
    "end"
   ]
  },
  {
   "cell_type": "code",
   "execution_count": 60,
   "metadata": {},
   "outputs": [
    {
     "data": {
      "text/plain": [
       "(62, 11)"
      ]
     },
     "execution_count": 60,
     "metadata": {},
     "output_type": "execute_result"
    }
   ],
   "source": [
    "Base.size(X_full)"
   ]
  },
  {
   "cell_type": "code",
   "execution_count": 61,
   "metadata": {
    "collapsed": true
   },
   "outputs": [
    {
     "data": {
      "text/plain": [
       "62-element Array{Float64,1}:\n",
       " -6.4985273940713055 \n",
       "  2.5876958463564903 \n",
       "  0.6017918966004122 \n",
       "  2.140264322024931  \n",
       " -8.422035430389734  \n",
       "  0.6743387931242566 \n",
       " -0.18967584305253915\n",
       " -2.151882287267794  \n",
       " -0.8386794465391496 \n",
       " -2.6778861841866073 \n",
       "  2.03167876614024   \n",
       " -0.20032540862374137\n",
       "  2.1214350759641762 \n",
       "  ⋮                  \n",
       "  0.4428244276862881 \n",
       "  1.1793261241829565 \n",
       "  2.4047454085655904 \n",
       "  1.8767376363827495 \n",
       "  0.8622389851456416 \n",
       "  2.157053761157892  \n",
       "  1.7046459930469406 \n",
       "  1.4811759031834837 \n",
       "  1.6528996125665032 \n",
       "  0.6613898760704107 \n",
       " -0.7301564988727616 \n",
       "  1.644800914760108  "
      ]
     },
     "execution_count": 61,
     "metadata": {},
     "output_type": "execute_result"
    }
   ],
   "source": [
    "n,p = Base.size(X_full)\n",
    "wtrue = softthresholding.(randn(p))\n",
    "btrue = rand(1)\n",
    "\n",
    "test_index = findfirst(names(X_full) .== :Test)\n",
    "wtrue[test_index] = 0.\n",
    "\n",
    "μ = mean(Matrix{Float64}(X_full), dims=1)\n",
    "σ = std(Matrix{Float64}(X_full), dims=1)\n",
    "σ[findall(σ .== 0)].= 1\n",
    "X_normalize = (X_full .- μ) ./ σ\n",
    "\n",
    "Y = Matrix{Float64}(X_normalize)*wtrue .+ btrue"
   ]
  },
  {
   "cell_type": "code",
   "execution_count": 27,
   "metadata": {
    "collapsed": true
   },
   "outputs": [
    {
     "data": {
      "text/plain": [
       "62-element Array{Float64,1}:\n",
       "  3.243129078514413   \n",
       "  1.0938642837343284  \n",
       " -0.37385981282437486 \n",
       "  2.232672696705897   \n",
       "  5.948635002212793   \n",
       "  1.223104258098572   \n",
       "  0.18739067289471578 \n",
       " -1.3000519534990858  \n",
       "  0.14558106927612502 \n",
       "  2.5427076361485677  \n",
       "  1.4625406770401659  \n",
       "  2.0280791242731437  \n",
       "  0.2155201076902763  \n",
       "  ⋮                   \n",
       " -2.2622537833975205  \n",
       " -1.169358405753589   \n",
       "  0.9660056518700961  \n",
       "  1.6206089682068492  \n",
       "  0.029848989016576816\n",
       "  1.0949054509603524  \n",
       " -0.10340540831949625 \n",
       " -0.06837715832951548 \n",
       "  0.512558439948992   \n",
       "  2.4219155500695786  \n",
       "  1.6003581165265885  \n",
       "  0.7999168653099576  "
      ]
     },
     "execution_count": 27,
     "metadata": {},
     "output_type": "execute_result"
    }
   ],
   "source": [
    "noise = randn(Base.size(X_full,1))\n",
    "noise .*= norm(Y)/norm(noise)/SNR\n",
    "Y .+= noise"
   ]
  },
  {
   "cell_type": "markdown",
   "metadata": {},
   "source": [
    "Add Offset"
   ]
  },
  {
   "cell_type": "markdown",
   "metadata": {},
   "source": [
    "X_full[:,:One] = Ref(1.)\n",
    "X_missing[:,:One] = Ref(1.) ;"
   ]
  },
  {
   "cell_type": "markdown",
   "metadata": {},
   "source": [
    "- Method 1: Impute missing data using MICE and regress using LASSO."
   ]
  },
  {
   "cell_type": "code",
   "execution_count": 62,
   "metadata": {
    "collapsed": true
   },
   "outputs": [
    {
     "data": {
      "text/html": [
       "<table class=\"data-frame\"><thead><tr><th></th><th>BodyWgt</th><th>BrainWgt</th><th>NonD</th><th>Dream</th><th>Sleep</th><th>Span</th><th>Gest</th><th>Pred</th></tr><tr><th></th><th>Float64</th><th>Float64</th><th>Float64⍰</th><th>Float64⍰</th><th>Float64⍰</th><th>Float64⍰</th><th>Float64⍰</th><th>Float64</th></tr></thead><tbody><p>5 rows × 11 columns (omitted printing of 3 columns)</p><tr><th>1</th><td>7.17917</td><td>5.83574</td><td>-1.79272</td><td>-0.535126</td><td>-1.57003</td><td>1.02835</td><td>3.42391</td><td>0.0873957</td></tr><tr><th>2</th><td>-0.219972</td><td>-0.297259</td><td>-0.647197</td><td>0.0194087</td><td>-0.48467</td><td>-0.844632</td><td>-0.683583</td><td>0.0873957</td></tr><tr><th>3</th><td>-0.21732</td><td>-0.256519</td><td>0.634696</td><td>-0.396492</td><td>0.427034</td><td>-0.322833</td><td>-0.560972</td><td>-1.26724</td></tr><tr><th>4</th><td>-0.220061</td><td>-0.298227</td><td>1.12563</td><td>0.989845</td><td>1.29532</td><td>-0.73478</td><td>-0.799383</td><td>1.44203</td></tr><tr><th>5</th><td>2.61157</td><td>4.64362</td><td>-1.79272</td><td>-0.119225</td><td>-1.43979</td><td>2.69811</td><td>3.28086</td><td>0.0873957</td></tr></tbody></table>"
      ],
      "text/latex": [
       "\\begin{tabular}{r|ccccccccc}\n",
       "\t& BodyWgt & BrainWgt & NonD & Dream & Sleep & Span & Gest & Pred & \\\\\n",
       "\t\\hline\n",
       "\t& Float64 & Float64 & Float64⍰ & Float64⍰ & Float64⍰ & Float64⍰ & Float64⍰ & Float64 & \\\\\n",
       "\t\\hline\n",
       "\t1 & 7.17917 & 5.83574 & -1.79272 & -0.535126 & -1.57003 & 1.02835 & 3.42391 & 0.0873957 & $\\dots$ \\\\\n",
       "\t2 & -0.219972 & -0.297259 & -0.647197 & 0.0194087 & -0.48467 & -0.844632 & -0.683583 & 0.0873957 & $\\dots$ \\\\\n",
       "\t3 & -0.21732 & -0.256519 & 0.634696 & -0.396492 & 0.427034 & -0.322833 & -0.560972 & -1.26724 & $\\dots$ \\\\\n",
       "\t4 & -0.220061 & -0.298227 & 1.12563 & 0.989845 & 1.29532 & -0.73478 & -0.799383 & 1.44203 & $\\dots$ \\\\\n",
       "\t5 & 2.61157 & 4.64362 & -1.79272 & -0.119225 & -1.43979 & 2.69811 & 3.28086 & 0.0873957 & $\\dots$ \\\\\n",
       "\\end{tabular}\n"
      ],
      "text/plain": [
       "5×11 DataFrame. Omitted printing of 5 columns\n",
       "│ Row │ BodyWgt   │ BrainWgt  │ NonD      │ Dream     │ Sleep    │ Span      │\n",
       "│     │ \u001b[90mFloat64\u001b[39m   │ \u001b[90mFloat64\u001b[39m   │ \u001b[90mFloat64⍰\u001b[39m  │ \u001b[90mFloat64⍰\u001b[39m  │ \u001b[90mFloat64⍰\u001b[39m │ \u001b[90mFloat64⍰\u001b[39m  │\n",
       "├─────┼───────────┼───────────┼───────────┼───────────┼──────────┼───────────┤\n",
       "│ 1   │ 7.17917   │ 5.83574   │ -1.79272  │ -0.535126 │ -1.57003 │ 1.02835   │\n",
       "│ 2   │ -0.219972 │ -0.297259 │ -0.647197 │ 0.0194087 │ -0.48467 │ -0.844632 │\n",
       "│ 3   │ -0.21732  │ -0.256519 │ 0.634696  │ -0.396492 │ 0.427034 │ -0.322833 │\n",
       "│ 4   │ -0.220061 │ -0.298227 │ 1.12563   │ 0.989845  │ 1.29532  │ -0.73478  │\n",
       "│ 5   │ 2.61157   │ 4.64362   │ -1.79272  │ -0.119225 │ -1.43979 │ 2.69811   │"
      ]
     },
     "execution_count": 62,
     "metadata": {},
     "output_type": "execute_result"
    }
   ],
   "source": [
    "X_imputed = mice(X_missing);\n",
    "first(X_imputed, 5)"
   ]
  },
  {
   "cell_type": "code",
   "execution_count": 63,
   "metadata": {},
   "outputs": [
    {
     "data": {
      "text/html": [
       "<table class=\"data-frame\"><thead><tr><th></th><th>BodyWgt</th><th>BrainWgt</th><th>NonD</th><th>Dream</th><th>Sleep</th><th>Span</th><th>Gest</th><th>Pred</th></tr><tr><th></th><th>Float64</th><th>Float64</th><th>Float64</th><th>Float64</th><th>Float64</th><th>Float64</th><th>Float64</th><th>Float64</th></tr></thead><tbody><p>1 rows × 11 columns (omitted printing of 3 columns)</p><tr><th>1</th><td>0.0</td><td>-0.266207</td><td>0.0</td><td>-0.676226</td><td>-0.132777</td><td>-0.973766</td><td>-1.71806</td><td>0.0</td></tr></tbody></table>"
      ],
      "text/latex": [
       "\\begin{tabular}{r|ccccccccc}\n",
       "\t& BodyWgt & BrainWgt & NonD & Dream & Sleep & Span & Gest & Pred & \\\\\n",
       "\t\\hline\n",
       "\t& Float64 & Float64 & Float64 & Float64 & Float64 & Float64 & Float64 & Float64 & \\\\\n",
       "\t\\hline\n",
       "\t1 & 0.0 & -0.266207 & 0.0 & -0.676226 & -0.132777 & -0.973766 & -1.71806 & 0.0 & $\\dots$ \\\\\n",
       "\\end{tabular}\n"
      ],
      "text/plain": [
       "1×11 DataFrame. Omitted printing of 5 columns\n",
       "│ Row │ BodyWgt │ BrainWgt  │ NonD    │ Dream     │ Sleep     │ Span      │\n",
       "│     │ \u001b[90mFloat64\u001b[39m │ \u001b[90mFloat64\u001b[39m   │ \u001b[90mFloat64\u001b[39m │ \u001b[90mFloat64\u001b[39m   │ \u001b[90mFloat64\u001b[39m   │ \u001b[90mFloat64\u001b[39m   │\n",
       "├─────┼─────────┼───────────┼─────────┼───────────┼───────────┼───────────┤\n",
       "│ 1   │ 0.0     │ -0.266207 │ 0.0     │ -0.676226 │ -0.132777 │ -0.973766 │"
      ]
     },
     "execution_count": 63,
     "metadata": {},
     "output_type": "execute_result"
    }
   ],
   "source": [
    "linear = regress(Y, X_imputed, lasso=true, alpha=0.8)"
   ]
  },
  {
   "cell_type": "code",
   "execution_count": 64,
   "metadata": {},
   "outputs": [
    {
     "name": "stdout",
     "output_type": "stream",
     "text": [
      "R2 = 0.9870496052410258\n",
      "OSR2 = 0.9752480162513236\n"
     ]
    },
    {
     "data": {
      "text/plain": [
       "0.9752480162513236"
      ]
     },
     "execution_count": 64,
     "metadata": {},
     "output_type": "execute_result"
    }
   ],
   "source": [
    "R2, OSR2 = evaluate(Y, X_imputed, linear)\n",
    "@show R2\n",
    "@show OSR2"
   ]
  },
  {
   "cell_type": "code",
   "execution_count": 65,
   "metadata": {},
   "outputs": [
    {
     "data": {
      "text/html": [
       "<table class=\"data-frame\"><thead><tr><th></th><th>dataset</th><th>copynum</th><th>iter</th><th>method</th><th>osr2</th></tr><tr><th></th><th>Any</th><th>Any</th><th>Any</th><th>Any</th><th>Any</th></tr></thead><tbody><p>1 rows × 5 columns</p><tr><th>1</th><td>sleep</td><td>1</td><td>1</td><td>Impute then regress</td><td>0.975248</td></tr></tbody></table>"
      ],
      "text/latex": [
       "\\begin{tabular}{r|ccccc}\n",
       "\t& dataset & copynum & iter & method & osr2\\\\\n",
       "\t\\hline\n",
       "\t& Any & Any & Any & Any & Any\\\\\n",
       "\t\\hline\n",
       "\t1 & sleep & 1 & 1 & Impute then regress & 0.975248 \\\\\n",
       "\\end{tabular}\n"
      ],
      "text/plain": [
       "1×5 DataFrame\n",
       "│ Row │ dataset │ copynum │ iter │ method              │ osr2     │\n",
       "│     │ \u001b[90mAny\u001b[39m     │ \u001b[90mAny\u001b[39m     │ \u001b[90mAny\u001b[39m  │ \u001b[90mAny\u001b[39m                 │ \u001b[90mAny\u001b[39m      │\n",
       "├─────┼─────────┼─────────┼──────┼─────────────────────┼──────────┤\n",
       "│ 1   │ sleep   │ 1       │ 1    │ Impute then regress │ 0.975248 │"
      ]
     },
     "execution_count": 65,
     "metadata": {},
     "output_type": "execute_result"
    }
   ],
   "source": [
    "push!(results_table, [dname, i, iter, \"Impute then regress\", OSR2])"
   ]
  },
  {
   "cell_type": "markdown",
   "metadata": {},
   "source": [
    "- Method 2: Add indicator variables for missingness and impute zeros (finitely adaptive). Regress using LASSO."
   ]
  },
  {
   "cell_type": "code",
   "execution_count": 66,
   "metadata": {},
   "outputs": [
    {
     "data": {
      "text/html": [
       "<table class=\"data-frame\"><thead><tr><th></th><th>BodyWgt</th><th>BrainWgt</th><th>NonD</th><th>Dream</th><th>Sleep</th><th>Span</th><th>Gest</th><th>Pred</th></tr><tr><th></th><th>Float64</th><th>Float64</th><th>Float64</th><th>Float64</th><th>Float64</th><th>Float64</th><th>Float64</th><th>Float64</th></tr></thead><tbody><p>1 rows × 21 columns (omitted printing of 13 columns)</p><tr><th>1</th><td>0.0</td><td>-0.159848</td><td>0.23717</td><td>-0.754339</td><td>-0.405644</td><td>-0.98163</td><td>-1.84038</td><td>0.0</td></tr></tbody></table>"
      ],
      "text/latex": [
       "\\begin{tabular}{r|ccccccccc}\n",
       "\t& BodyWgt & BrainWgt & NonD & Dream & Sleep & Span & Gest & Pred & \\\\\n",
       "\t\\hline\n",
       "\t& Float64 & Float64 & Float64 & Float64 & Float64 & Float64 & Float64 & Float64 & \\\\\n",
       "\t\\hline\n",
       "\t1 & 0.0 & -0.159848 & 0.23717 & -0.754339 & -0.405644 & -0.98163 & -1.84038 & 0.0 & $\\dots$ \\\\\n",
       "\\end{tabular}\n"
      ],
      "text/plain": [
       "1×21 DataFrame. Omitted printing of 15 columns\n",
       "│ Row │ BodyWgt │ BrainWgt  │ NonD    │ Dream     │ Sleep     │ Span     │\n",
       "│     │ \u001b[90mFloat64\u001b[39m │ \u001b[90mFloat64\u001b[39m   │ \u001b[90mFloat64\u001b[39m │ \u001b[90mFloat64\u001b[39m   │ \u001b[90mFloat64\u001b[39m   │ \u001b[90mFloat64\u001b[39m  │\n",
       "├─────┼─────────┼───────────┼─────────┼───────────┼───────────┼──────────┤\n",
       "│ 1   │ 0.0     │ -0.159848 │ 0.23717 │ -0.754339 │ -0.405644 │ -0.98163 │"
      ]
     },
     "execution_count": 66,
     "metadata": {},
     "output_type": "execute_result"
    }
   ],
   "source": [
    "X_augmented = hcat(zeroimpute(X_missing), indicatemissing(X_missing, removezerocols=true))\n",
    "linear2 = regress(Y, X_augmented, lasso=true, alpha=0.8, missing_penalty=2.0)"
   ]
  },
  {
   "cell_type": "code",
   "execution_count": 68,
   "metadata": {
    "collapsed": true
   },
   "outputs": [
    {
     "data": {
      "text/html": [
       "<table class=\"data-frame\"><thead><tr><th></th><th>BodyWgt</th><th>BrainWgt</th><th>NonD</th><th>Dream</th><th>Sleep</th><th>Span</th><th>Gest</th></tr><tr><th></th><th>Float64</th><th>Float64</th><th>Float64⍰</th><th>Float64⍰</th><th>Float64⍰</th><th>Float64⍰</th><th>Float64⍰</th></tr></thead><tbody><p>62 rows × 21 columns (omitted printing of 14 columns)</p><tr><th>1</th><td>7.17917</td><td>5.83574</td><td>0.0</td><td>0.0</td><td>-1.57003</td><td>1.02835</td><td>3.42391</td></tr><tr><th>2</th><td>-0.219972</td><td>-0.297259</td><td>-0.647197</td><td>0.0194087</td><td>-0.48467</td><td>-0.844632</td><td>-0.683583</td></tr><tr><th>3</th><td>-0.21732</td><td>-0.256519</td><td>0.0</td><td>0.0</td><td>0.427034</td><td>-0.322833</td><td>-0.560972</td></tr><tr><th>4</th><td>-0.220061</td><td>-0.298227</td><td>0.0</td><td>0.0</td><td>1.29532</td><td>0.0</td><td>-0.799383</td></tr><tr><th>5</th><td>2.61157</td><td>4.64362</td><td>-1.79272</td><td>-0.119225</td><td>-1.43979</td><td>2.69811</td><td>3.28086</td></tr><tr><th>6</th><td>-0.209351</td><td>-0.111401</td><td>0.116484</td><td>-0.88171</td><td>-0.159062</td><td>0.391207</td><td>0.256439</td></tr><tr><th>7</th><td>-0.221059</td><td>-0.304032</td><td>1.94386</td><td>1.33643</td><td>1.98995</td><td>-0.0482025</td><td>-0.731265</td></tr><tr><th>8</th><td>-0.0431403</td><td>-0.122688</td><td>-0.947215</td><td>-0.67376</td><td>-0.940522</td><td>0.577956</td><td>1.70053</td></tr><tr><th>9</th><td>-0.217414</td><td>-0.276835</td><td>0.607422</td><td>1.12848</td><td>0.861178</td><td>0.446133</td><td>-0.540536</td></tr><tr><th>10</th><td>-0.163075</td><td>0.168622</td><td>-0.101711</td><td>-0.396492</td><td>-0.180769</td><td>1.65451</td><td>0.597027</td></tr><tr><th>11</th><td>-0.220612</td><td>-0.297474</td><td>0.634696</td><td>-0.327176</td><td>0.427034</td><td>-0.707317</td><td>-0.20676</td></tr><tr><th>12</th><td>0.296066</td><td>0.150348</td><td>-1.4927</td><td>-0.88171</td><td>-1.43979</td><td>0.555985</td><td>0.944426</td></tr><tr><th>13</th><td>-0.220473</td><td>-0.301774</td><td>-0.292631</td><td>0.504627</td><td>-0.0505254</td><td>0.0</td><td>0.0</td></tr><tr><th>14</th><td>-0.013001</td><td>0.146048</td><td>0.0</td><td>0.0</td><td>-1.61345</td><td>1.10525</td><td>1.51661</td></tr><tr><th>15</th><td>-0.221001</td><td>-0.303064</td><td>-0.647197</td><td>0.0887256</td><td>-0.462963</td><td>-0.899558</td><td>-0.683583</td></tr><tr><th>16</th><td>-0.217748</td><td>-0.27748</td><td>-0.0198875</td><td>-1.36693</td><td>-0.419548</td><td>1.65451</td><td>-0.778948</td></tr><tr><th>17</th><td>-0.220212</td><td>-0.300592</td><td>-0.565374</td><td>1.47506</td><td>0.0363035</td><td>-0.762243</td><td>-0.683583</td></tr><tr><th>18</th><td>-0.220862</td><td>-0.298979</td><td>0.225581</td><td>-0.535126</td><td>0.0363035</td><td>-0.520568</td><td>-0.152266</td></tr><tr><th>19</th><td>-0.219516</td><td>-0.285543</td><td>-1.05631</td><td>-0.465809</td><td>-0.962229</td><td>0.77569</td><td>0.0</td></tr><tr><th>20</th><td>-0.154355</td><td>-0.217283</td><td>0.90744</td><td>2.8614</td><td>1.64264</td><td>-0.707317</td><td>0.0</td></tr><tr><th>21</th><td>0.367244</td><td>0.426609</td><td>0.0</td><td>-1.15898</td><td>0.0</td><td>0.446133</td><td>1.75503</td></tr><tr><th>22</th><td>-0.190322</td><td>-0.180735</td><td>-1.46543</td><td>-1.02034</td><td>-1.4615</td><td>0.00672372</td><td>0.0384629</td></tr><tr><th>23</th><td>-0.220951</td><td>-0.303279</td><td>0.634696</td><td>0.989845</td><td>0.839471</td><td>-0.877588</td><td>-0.860689</td></tr><tr><th>24</th><td>0.00913078</td><td>0.132074</td><td>0.0</td><td>0.0</td><td>0.318497</td><td>1.0668</td><td>0.746885</td></tr><tr><th>25</th><td>-0.126552</td><td>0.0450035</td><td>-1.08359</td><td>-0.327176</td><td>-0.940522</td><td>1.16017</td><td>1.14197</td></tr><tr><th>26</th><td>-0.18068</td><td>-0.175898</td><td>0.0</td><td>0.0</td><td>0.53557</td><td>-0.201996</td><td>-0.540536</td></tr><tr><th>27</th><td>-0.220972</td><td>-0.300054</td><td>0.47105</td><td>0.989845</td><td>0.709228</td><td>-0.597464</td><td>-0.778948</td></tr><tr><th>28</th><td>-0.219928</td><td>-0.298442</td><td>-0.347179</td><td>-0.812394</td><td>-0.506377</td><td>-0.674361</td><td>-0.506477</td></tr><tr><th>29</th><td>0.358346</td><td>0.399736</td><td>-1.79272</td><td>-0.812394</td><td>-1.65686</td><td>1.4348</td><td>1.31907</td></tr><tr><th>30</th><td>-0.109869</td><td>-0.135587</td><td>0.0</td><td>0.0</td><td>0.0580107</td><td>0.138547</td><td>-0.288501</td></tr><tr><th>&vellip;</th><td>&vellip;</td><td>&vellip;</td><td>&vellip;</td><td>&vellip;</td><td>&vellip;</td><td>&vellip;</td><td>&vellip;</td></tr></tbody></table>"
      ],
      "text/latex": [
       "\\begin{tabular}{r|cccccccc}\n",
       "\t& BodyWgt & BrainWgt & NonD & Dream & Sleep & Span & Gest & \\\\\n",
       "\t\\hline\n",
       "\t& Float64 & Float64 & Float64⍰ & Float64⍰ & Float64⍰ & Float64⍰ & Float64⍰ & \\\\\n",
       "\t\\hline\n",
       "\t1 & 7.17917 & 5.83574 & 0.0 & 0.0 & -1.57003 & 1.02835 & 3.42391 & $\\dots$ \\\\\n",
       "\t2 & -0.219972 & -0.297259 & -0.647197 & 0.0194087 & -0.48467 & -0.844632 & -0.683583 & $\\dots$ \\\\\n",
       "\t3 & -0.21732 & -0.256519 & 0.0 & 0.0 & 0.427034 & -0.322833 & -0.560972 & $\\dots$ \\\\\n",
       "\t4 & -0.220061 & -0.298227 & 0.0 & 0.0 & 1.29532 & 0.0 & -0.799383 & $\\dots$ \\\\\n",
       "\t5 & 2.61157 & 4.64362 & -1.79272 & -0.119225 & -1.43979 & 2.69811 & 3.28086 & $\\dots$ \\\\\n",
       "\t6 & -0.209351 & -0.111401 & 0.116484 & -0.88171 & -0.159062 & 0.391207 & 0.256439 & $\\dots$ \\\\\n",
       "\t7 & -0.221059 & -0.304032 & 1.94386 & 1.33643 & 1.98995 & -0.0482025 & -0.731265 & $\\dots$ \\\\\n",
       "\t8 & -0.0431403 & -0.122688 & -0.947215 & -0.67376 & -0.940522 & 0.577956 & 1.70053 & $\\dots$ \\\\\n",
       "\t9 & -0.217414 & -0.276835 & 0.607422 & 1.12848 & 0.861178 & 0.446133 & -0.540536 & $\\dots$ \\\\\n",
       "\t10 & -0.163075 & 0.168622 & -0.101711 & -0.396492 & -0.180769 & 1.65451 & 0.597027 & $\\dots$ \\\\\n",
       "\t11 & -0.220612 & -0.297474 & 0.634696 & -0.327176 & 0.427034 & -0.707317 & -0.20676 & $\\dots$ \\\\\n",
       "\t12 & 0.296066 & 0.150348 & -1.4927 & -0.88171 & -1.43979 & 0.555985 & 0.944426 & $\\dots$ \\\\\n",
       "\t13 & -0.220473 & -0.301774 & -0.292631 & 0.504627 & -0.0505254 & 0.0 & 0.0 & $\\dots$ \\\\\n",
       "\t14 & -0.013001 & 0.146048 & 0.0 & 0.0 & -1.61345 & 1.10525 & 1.51661 & $\\dots$ \\\\\n",
       "\t15 & -0.221001 & -0.303064 & -0.647197 & 0.0887256 & -0.462963 & -0.899558 & -0.683583 & $\\dots$ \\\\\n",
       "\t16 & -0.217748 & -0.27748 & -0.0198875 & -1.36693 & -0.419548 & 1.65451 & -0.778948 & $\\dots$ \\\\\n",
       "\t17 & -0.220212 & -0.300592 & -0.565374 & 1.47506 & 0.0363035 & -0.762243 & -0.683583 & $\\dots$ \\\\\n",
       "\t18 & -0.220862 & -0.298979 & 0.225581 & -0.535126 & 0.0363035 & -0.520568 & -0.152266 & $\\dots$ \\\\\n",
       "\t19 & -0.219516 & -0.285543 & -1.05631 & -0.465809 & -0.962229 & 0.77569 & 0.0 & $\\dots$ \\\\\n",
       "\t20 & -0.154355 & -0.217283 & 0.90744 & 2.8614 & 1.64264 & -0.707317 & 0.0 & $\\dots$ \\\\\n",
       "\t21 & 0.367244 & 0.426609 & 0.0 & -1.15898 & 0.0 & 0.446133 & 1.75503 & $\\dots$ \\\\\n",
       "\t22 & -0.190322 & -0.180735 & -1.46543 & -1.02034 & -1.4615 & 0.00672372 & 0.0384629 & $\\dots$ \\\\\n",
       "\t23 & -0.220951 & -0.303279 & 0.634696 & 0.989845 & 0.839471 & -0.877588 & -0.860689 & $\\dots$ \\\\\n",
       "\t24 & 0.00913078 & 0.132074 & 0.0 & 0.0 & 0.318497 & 1.0668 & 0.746885 & $\\dots$ \\\\\n",
       "\t25 & -0.126552 & 0.0450035 & -1.08359 & -0.327176 & -0.940522 & 1.16017 & 1.14197 & $\\dots$ \\\\\n",
       "\t26 & -0.18068 & -0.175898 & 0.0 & 0.0 & 0.53557 & -0.201996 & -0.540536 & $\\dots$ \\\\\n",
       "\t27 & -0.220972 & -0.300054 & 0.47105 & 0.989845 & 0.709228 & -0.597464 & -0.778948 & $\\dots$ \\\\\n",
       "\t28 & -0.219928 & -0.298442 & -0.347179 & -0.812394 & -0.506377 & -0.674361 & -0.506477 & $\\dots$ \\\\\n",
       "\t29 & 0.358346 & 0.399736 & -1.79272 & -0.812394 & -1.65686 & 1.4348 & 1.31907 & $\\dots$ \\\\\n",
       "\t30 & -0.109869 & -0.135587 & 0.0 & 0.0 & 0.0580107 & 0.138547 & -0.288501 & $\\dots$ \\\\\n",
       "\t$\\dots$ & $\\dots$ & $\\dots$ & $\\dots$ & $\\dots$ & $\\dots$ & $\\dots$ & $\\dots$ &  \\\\\n",
       "\\end{tabular}\n"
      ],
      "text/plain": [
       "62×21 DataFrame. Omitted printing of 16 columns\n",
       "│ Row │ BodyWgt    │ BrainWgt  │ NonD      │ Dream     │ Sleep      │\n",
       "│     │ \u001b[90mFloat64\u001b[39m    │ \u001b[90mFloat64\u001b[39m   │ \u001b[90mFloat64⍰\u001b[39m  │ \u001b[90mFloat64⍰\u001b[39m  │ \u001b[90mFloat64⍰\u001b[39m   │\n",
       "├─────┼────────────┼───────────┼───────────┼───────────┼────────────┤\n",
       "│ 1   │ 7.17917    │ 5.83574   │ 0.0       │ 0.0       │ -1.57003   │\n",
       "│ 2   │ -0.219972  │ -0.297259 │ -0.647197 │ 0.0194087 │ -0.48467   │\n",
       "│ 3   │ -0.21732   │ -0.256519 │ 0.0       │ 0.0       │ 0.427034   │\n",
       "│ 4   │ -0.220061  │ -0.298227 │ 0.0       │ 0.0       │ 1.29532    │\n",
       "│ 5   │ 2.61157    │ 4.64362   │ -1.79272  │ -0.119225 │ -1.43979   │\n",
       "│ 6   │ -0.209351  │ -0.111401 │ 0.116484  │ -0.88171  │ -0.159062  │\n",
       "│ 7   │ -0.221059  │ -0.304032 │ 1.94386   │ 1.33643   │ 1.98995    │\n",
       "│ 8   │ -0.0431403 │ -0.122688 │ -0.947215 │ -0.67376  │ -0.940522  │\n",
       "│ 9   │ -0.217414  │ -0.276835 │ 0.607422  │ 1.12848   │ 0.861178   │\n",
       "│ 10  │ -0.163075  │ 0.168622  │ -0.101711 │ -0.396492 │ -0.180769  │\n",
       "⋮\n",
       "│ 52  │ -0.217081  │ -0.28178  │ -1.02904  │ -1.02034  │ -1.11418   │\n",
       "│ 53  │ -0.204591  │ -0.198794 │ 0.0       │ 0.0       │ -1.72198   │\n",
       "│ 54  │ -0.15936   │ -0.116238 │ -1.4927   │ -0.951027 │ -1.4615    │\n",
       "│ 55  │ -0.219528  │ -0.290917 │ 0.0       │ 0.0       │ 0.101425   │\n",
       "│ 56  │ -0.221018  │ -0.303279 │ -0.156259 │ 0.158042  │ -0.0505254 │\n",
       "│ 57  │ -0.220084  │ -0.301559 │ 0.634696  │ 0.227359  │ 0.600691   │\n",
       "│ 58  │ -0.21886   │ -0.291132 │ -1.02904  │ -1.02034  │ -1.11418   │\n",
       "│ 59  │ -0.220969  │ -0.301667 │ 1.23473   │ 0.43531   │ 1.14337    │\n",
       "│ 60  │ -0.216425  │ -0.242007 │ 0.28013   │ -0.951027 │ -0.0505254 │\n",
       "│ 61  │ -0.217192  │ -0.300162 │ 1.12563   │ 3.20798   │ 1.92483    │\n",
       "│ 62  │ -0.21658   │ -0.28608  │ 0.0       │ 0.0       │ 0.0        │"
      ]
     },
     "execution_count": 68,
     "metadata": {},
     "output_type": "execute_result"
    }
   ],
   "source": [
    "X_augmented"
   ]
  },
  {
   "cell_type": "code",
   "execution_count": 53,
   "metadata": {
    "collapsed": true
   },
   "outputs": [
    {
     "name": "stderr",
     "output_type": "stream",
     "text": [
      "┌ Warning: `getindex(df::DataFrame, col_ind::ColumnIndex)` is deprecated, use `df[!, col_ind]` instead.\n",
      "│   caller = #indicatemissing#14(::Bool, ::Function, ::DataFrame) at In[52]:5\n",
      "└ @ Main ./In[52]:5\n"
     ]
    },
    {
     "data": {
      "text/html": [
       "<table class=\"data-frame\"><thead><tr><th></th><th>BodyWgt_missing</th><th>BrainWgt_missing</th><th>NonD_missing</th><th>Dream_missing</th><th>Sleep_missing</th><th>Span_missing</th></tr><tr><th></th><th>Int64</th><th>Int64</th><th>Int64</th><th>Int64</th><th>Int64</th><th>Int64</th></tr></thead><tbody><p>62 rows × 10 columns (omitted printing of 4 columns)</p><tr><th>1</th><td>0</td><td>0</td><td>0</td><td>0</td><td>0</td><td>0</td></tr><tr><th>2</th><td>0</td><td>0</td><td>0</td><td>0</td><td>0</td><td>0</td></tr><tr><th>3</th><td>0</td><td>0</td><td>0</td><td>0</td><td>0</td><td>0</td></tr><tr><th>4</th><td>0</td><td>0</td><td>0</td><td>0</td><td>0</td><td>0</td></tr><tr><th>5</th><td>0</td><td>0</td><td>0</td><td>0</td><td>0</td><td>0</td></tr><tr><th>6</th><td>0</td><td>0</td><td>0</td><td>0</td><td>0</td><td>0</td></tr><tr><th>7</th><td>0</td><td>0</td><td>0</td><td>0</td><td>0</td><td>0</td></tr><tr><th>8</th><td>0</td><td>0</td><td>0</td><td>0</td><td>0</td><td>0</td></tr><tr><th>9</th><td>0</td><td>0</td><td>0</td><td>0</td><td>0</td><td>0</td></tr><tr><th>10</th><td>0</td><td>0</td><td>0</td><td>0</td><td>0</td><td>0</td></tr><tr><th>11</th><td>0</td><td>0</td><td>0</td><td>0</td><td>0</td><td>0</td></tr><tr><th>12</th><td>0</td><td>0</td><td>0</td><td>0</td><td>0</td><td>0</td></tr><tr><th>13</th><td>0</td><td>0</td><td>0</td><td>0</td><td>0</td><td>0</td></tr><tr><th>14</th><td>0</td><td>0</td><td>0</td><td>0</td><td>0</td><td>0</td></tr><tr><th>15</th><td>0</td><td>0</td><td>0</td><td>0</td><td>0</td><td>0</td></tr><tr><th>16</th><td>0</td><td>0</td><td>0</td><td>0</td><td>0</td><td>0</td></tr><tr><th>17</th><td>0</td><td>0</td><td>0</td><td>0</td><td>0</td><td>0</td></tr><tr><th>18</th><td>0</td><td>0</td><td>0</td><td>0</td><td>0</td><td>0</td></tr><tr><th>19</th><td>0</td><td>0</td><td>0</td><td>0</td><td>0</td><td>0</td></tr><tr><th>20</th><td>0</td><td>0</td><td>0</td><td>0</td><td>0</td><td>0</td></tr><tr><th>21</th><td>0</td><td>0</td><td>0</td><td>0</td><td>0</td><td>0</td></tr><tr><th>22</th><td>0</td><td>0</td><td>0</td><td>0</td><td>0</td><td>0</td></tr><tr><th>23</th><td>0</td><td>0</td><td>0</td><td>0</td><td>0</td><td>0</td></tr><tr><th>24</th><td>0</td><td>0</td><td>0</td><td>0</td><td>0</td><td>0</td></tr><tr><th>25</th><td>0</td><td>0</td><td>0</td><td>0</td><td>0</td><td>0</td></tr><tr><th>26</th><td>0</td><td>0</td><td>0</td><td>0</td><td>0</td><td>0</td></tr><tr><th>27</th><td>0</td><td>0</td><td>0</td><td>0</td><td>0</td><td>0</td></tr><tr><th>28</th><td>0</td><td>0</td><td>0</td><td>0</td><td>0</td><td>0</td></tr><tr><th>29</th><td>0</td><td>0</td><td>0</td><td>0</td><td>0</td><td>0</td></tr><tr><th>30</th><td>0</td><td>0</td><td>0</td><td>0</td><td>0</td><td>0</td></tr><tr><th>&vellip;</th><td>&vellip;</td><td>&vellip;</td><td>&vellip;</td><td>&vellip;</td><td>&vellip;</td><td>&vellip;</td></tr></tbody></table>"
      ],
      "text/latex": [
       "\\begin{tabular}{r|ccccccc}\n",
       "\t& BodyWgt\\_missing & BrainWgt\\_missing & NonD\\_missing & Dream\\_missing & Sleep\\_missing & Span\\_missing & \\\\\n",
       "\t\\hline\n",
       "\t& Int64 & Int64 & Int64 & Int64 & Int64 & Int64 & \\\\\n",
       "\t\\hline\n",
       "\t1 & 0 & 0 & 0 & 0 & 0 & 0 & $\\dots$ \\\\\n",
       "\t2 & 0 & 0 & 0 & 0 & 0 & 0 & $\\dots$ \\\\\n",
       "\t3 & 0 & 0 & 0 & 0 & 0 & 0 & $\\dots$ \\\\\n",
       "\t4 & 0 & 0 & 0 & 0 & 0 & 0 & $\\dots$ \\\\\n",
       "\t5 & 0 & 0 & 0 & 0 & 0 & 0 & $\\dots$ \\\\\n",
       "\t6 & 0 & 0 & 0 & 0 & 0 & 0 & $\\dots$ \\\\\n",
       "\t7 & 0 & 0 & 0 & 0 & 0 & 0 & $\\dots$ \\\\\n",
       "\t8 & 0 & 0 & 0 & 0 & 0 & 0 & $\\dots$ \\\\\n",
       "\t9 & 0 & 0 & 0 & 0 & 0 & 0 & $\\dots$ \\\\\n",
       "\t10 & 0 & 0 & 0 & 0 & 0 & 0 & $\\dots$ \\\\\n",
       "\t11 & 0 & 0 & 0 & 0 & 0 & 0 & $\\dots$ \\\\\n",
       "\t12 & 0 & 0 & 0 & 0 & 0 & 0 & $\\dots$ \\\\\n",
       "\t13 & 0 & 0 & 0 & 0 & 0 & 0 & $\\dots$ \\\\\n",
       "\t14 & 0 & 0 & 0 & 0 & 0 & 0 & $\\dots$ \\\\\n",
       "\t15 & 0 & 0 & 0 & 0 & 0 & 0 & $\\dots$ \\\\\n",
       "\t16 & 0 & 0 & 0 & 0 & 0 & 0 & $\\dots$ \\\\\n",
       "\t17 & 0 & 0 & 0 & 0 & 0 & 0 & $\\dots$ \\\\\n",
       "\t18 & 0 & 0 & 0 & 0 & 0 & 0 & $\\dots$ \\\\\n",
       "\t19 & 0 & 0 & 0 & 0 & 0 & 0 & $\\dots$ \\\\\n",
       "\t20 & 0 & 0 & 0 & 0 & 0 & 0 & $\\dots$ \\\\\n",
       "\t21 & 0 & 0 & 0 & 0 & 0 & 0 & $\\dots$ \\\\\n",
       "\t22 & 0 & 0 & 0 & 0 & 0 & 0 & $\\dots$ \\\\\n",
       "\t23 & 0 & 0 & 0 & 0 & 0 & 0 & $\\dots$ \\\\\n",
       "\t24 & 0 & 0 & 0 & 0 & 0 & 0 & $\\dots$ \\\\\n",
       "\t25 & 0 & 0 & 0 & 0 & 0 & 0 & $\\dots$ \\\\\n",
       "\t26 & 0 & 0 & 0 & 0 & 0 & 0 & $\\dots$ \\\\\n",
       "\t27 & 0 & 0 & 0 & 0 & 0 & 0 & $\\dots$ \\\\\n",
       "\t28 & 0 & 0 & 0 & 0 & 0 & 0 & $\\dots$ \\\\\n",
       "\t29 & 0 & 0 & 0 & 0 & 0 & 0 & $\\dots$ \\\\\n",
       "\t30 & 0 & 0 & 0 & 0 & 0 & 0 & $\\dots$ \\\\\n",
       "\t$\\dots$ & $\\dots$ & $\\dots$ & $\\dots$ & $\\dots$ & $\\dots$ & $\\dots$ &  \\\\\n",
       "\\end{tabular}\n"
      ],
      "text/plain": [
       "62×10 DataFrame. Omitted printing of 6 columns\n",
       "│ Row │ BodyWgt_missing │ BrainWgt_missing │ NonD_missing │ Dream_missing │\n",
       "│     │ \u001b[90mInt64\u001b[39m           │ \u001b[90mInt64\u001b[39m            │ \u001b[90mInt64\u001b[39m        │ \u001b[90mInt64\u001b[39m         │\n",
       "├─────┼─────────────────┼──────────────────┼──────────────┼───────────────┤\n",
       "│ 1   │ 0               │ 0                │ 0            │ 0             │\n",
       "│ 2   │ 0               │ 0                │ 0            │ 0             │\n",
       "│ 3   │ 0               │ 0                │ 0            │ 0             │\n",
       "│ 4   │ 0               │ 0                │ 0            │ 0             │\n",
       "│ 5   │ 0               │ 0                │ 0            │ 0             │\n",
       "│ 6   │ 0               │ 0                │ 0            │ 0             │\n",
       "│ 7   │ 0               │ 0                │ 0            │ 0             │\n",
       "│ 8   │ 0               │ 0                │ 0            │ 0             │\n",
       "│ 9   │ 0               │ 0                │ 0            │ 0             │\n",
       "│ 10  │ 0               │ 0                │ 0            │ 0             │\n",
       "⋮\n",
       "│ 52  │ 0               │ 0                │ 0            │ 0             │\n",
       "│ 53  │ 0               │ 0                │ 0            │ 0             │\n",
       "│ 54  │ 0               │ 0                │ 0            │ 0             │\n",
       "│ 55  │ 0               │ 0                │ 0            │ 0             │\n",
       "│ 56  │ 0               │ 0                │ 0            │ 0             │\n",
       "│ 57  │ 0               │ 0                │ 0            │ 0             │\n",
       "│ 58  │ 0               │ 0                │ 0            │ 0             │\n",
       "│ 59  │ 0               │ 0                │ 0            │ 0             │\n",
       "│ 60  │ 0               │ 0                │ 0            │ 0             │\n",
       "│ 61  │ 0               │ 0                │ 0            │ 0             │\n",
       "│ 62  │ 0               │ 0                │ 0            │ 0             │"
      ]
     },
     "execution_count": 53,
     "metadata": {},
     "output_type": "execute_result"
    }
   ],
   "source": [
    "indicatemissing(X_missing, removezerocols=true)"
   ]
  },
  {
   "cell_type": "code",
   "execution_count": 69,
   "metadata": {},
   "outputs": [
    {
     "name": "stdout",
     "output_type": "stream",
     "text": [
      "R2 = 0.9966494716573744\n",
      "OSR2 = 0.9852525510283157\n"
     ]
    },
    {
     "data": {
      "text/plain": [
       "0.9852525510283157"
      ]
     },
     "execution_count": 69,
     "metadata": {},
     "output_type": "execute_result"
    }
   ],
   "source": [
    "R2, OSR2 = evaluate(Y, X_augmented, linear2)\n",
    "@show R2\n",
    "@show OSR2"
   ]
  },
  {
   "cell_type": "code",
   "execution_count": null,
   "metadata": {
    "collapsed": true
   },
   "outputs": [],
   "source": [
    "push!(results_table, [dname, i, iter, \"Augmented\", OSR2])"
   ]
  },
  {
   "cell_type": "markdown",
   "metadata": {},
   "source": [
    "- Method 3: Affinely adaptive"
   ]
  },
  {
   "cell_type": "code",
   "execution_count": 20,
   "metadata": {
    "collapsed": true
   },
   "outputs": [
    {
     "name": "stderr",
     "output_type": "stream",
     "text": [
      "┌ Warning: `getindex(df::DataFrame, col_ind::ColumnIndex)` is deprecated, use `df[!, col_ind]` instead.\n",
      "│   caller = #augmentaffine#5(::Bool, ::Function, ::DataFrame) at augment.jl:45\n",
      "└ @ Main /Users/jpauph/Dropbox (MIT)/1- Research/PHD/augment.jl:45\n",
      "┌ Warning: `getindex(df::DataFrame, col_ind::ColumnIndex)` is deprecated, use `df[!, col_ind]` instead.\n",
      "│   caller = #augmentaffine#5(::Bool, ::Function, ::DataFrame) at augment.jl:45\n",
      "└ @ Main /Users/jpauph/Dropbox (MIT)/1- Research/PHD/augment.jl:45\n",
      "┌ Warning: `setindex!(df::DataFrame, v::AbstractVector, col_ind::ColumnIndex)` is deprecated, use `begin\n",
      "│     df[!, col_ind] = v\n",
      "│     df\n",
      "│ end` instead.\n",
      "│   caller = #augmentaffine#5(::Bool, ::Function, ::DataFrame) at augment.jl:45\n",
      "└ @ Main /Users/jpauph/Dropbox (MIT)/1- Research/PHD/augment.jl:45\n"
     ]
    },
    {
     "data": {
      "text/html": [
       "<table class=\"data-frame\"><thead><tr><th></th><th>N</th><th>N_1</th><th>N_2</th><th>N_3</th><th>N_4</th><th>N_5</th><th>N_6</th><th>N_1_missing</th></tr><tr><th></th><th>Float64</th><th>Float64</th><th>Float64</th><th>Float64</th><th>Float64</th><th>Float64</th><th>Float64</th><th>Float64</th></tr></thead><tbody><p>1 rows × 50 columns (omitted printing of 42 columns)</p><tr><th>1</th><td>3.8973e-5</td><td>-0.0241811</td><td>0.495174</td><td>-0.0289264</td><td>1.56968</td><td>0.00219125</td><td>0.00235848</td><td>0.0</td></tr></tbody></table>"
      ],
      "text/latex": [
       "\\begin{tabular}{r|ccccccccc}\n",
       "\t& N & N\\_1 & N\\_2 & N\\_3 & N\\_4 & N\\_5 & N\\_6 & N\\_1\\_missing & \\\\\n",
       "\t\\hline\n",
       "\t& Float64 & Float64 & Float64 & Float64 & Float64 & Float64 & Float64 & Float64 & \\\\\n",
       "\t\\hline\n",
       "\t1 & 3.8973e-5 & -0.0241811 & 0.495174 & -0.0289264 & 1.56968 & 0.00219125 & 0.00235848 & 0.0 & $\\dots$ \\\\\n",
       "\\end{tabular}\n"
      ],
      "text/plain": [
       "1×50 DataFrame. Omitted printing of 44 columns\n",
       "│ Row │ N         │ N_1        │ N_2      │ N_3        │ N_4     │ N_5        │\n",
       "│     │ \u001b[90mFloat64\u001b[39m   │ \u001b[90mFloat64\u001b[39m    │ \u001b[90mFloat64\u001b[39m  │ \u001b[90mFloat64\u001b[39m    │ \u001b[90mFloat64\u001b[39m │ \u001b[90mFloat64\u001b[39m    │\n",
       "├─────┼───────────┼────────────┼──────────┼────────────┼─────────┼────────────┤\n",
       "│ 1   │ 3.8973e-5 │ -0.0241811 │ 0.495174 │ -0.0289264 │ 1.56968 │ 0.00219125 │"
      ]
     },
     "execution_count": 20,
     "metadata": {},
     "output_type": "execute_result"
    }
   ],
   "source": [
    "X_affine = augmentaffine(X_missing, removezerocols=true)\n",
    "linear3 = regress(Y, X_affine, lasso=true, alpha=0.8, missing_penalty=10.0)"
   ]
  },
  {
   "cell_type": "code",
   "execution_count": 21,
   "metadata": {},
   "outputs": [
    {
     "name": "stdout",
     "output_type": "stream",
     "text": [
      "R2 = 0.8084333591361579\n",
      "OSR2 = 0.7989896100866425\n"
     ]
    },
    {
     "data": {
      "text/plain": [
       "0.7989896100866425"
      ]
     },
     "execution_count": 21,
     "metadata": {},
     "output_type": "execute_result"
    }
   ],
   "source": [
    "R2, OSR2 = evaluate(Y, X_affine, linear3)\n",
    "@show R2\n",
    "@show OSR2"
   ]
  },
  {
   "cell_type": "code",
   "execution_count": null,
   "metadata": {
    "collapsed": true
   },
   "outputs": [],
   "source": [
    "push!(results_table, [dname, i, iter, \"Augmented Affine\", OSR2])"
   ]
  },
  {
   "cell_type": "code",
   "execution_count": null,
   "metadata": {
    "collapsed": true
   },
   "outputs": [],
   "source": [
    "CSV.write(\"../results/\"*dname*\"_$i.csv\", results_table)"
   ]
  },
  {
   "cell_type": "code",
   "execution_count": null,
   "metadata": {
    "collapsed": true
   },
   "outputs": [],
   "source": []
  }
 ],
 "metadata": {
  "@webio": {
   "lastCommId": null,
   "lastKernelId": null
  },
  "kernelspec": {
   "display_name": "Julia 1.0.1",
   "language": "julia",
   "name": "julia-1.0"
  },
  "language_info": {
   "file_extension": ".jl",
   "mimetype": "application/julia",
   "name": "julia",
   "version": "1.0.1"
  }
 },
 "nbformat": 4,
 "nbformat_minor": 2
}
